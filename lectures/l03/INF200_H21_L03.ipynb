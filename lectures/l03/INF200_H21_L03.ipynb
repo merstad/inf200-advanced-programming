{
 "cells": [
  {
   "cell_type": "markdown",
   "id": "9284a9d4-a16e-484a-b034-b3d78452123c",
   "metadata": {},
   "source": [
    "INF200 Lecture No 3\n",
    "===================\n",
    "\n",
    "***Hans Ekkehard Plesser, NMBU, 27 September 2021***\n",
    "\n",
    "\n",
    "# Today's topics\n",
    "\n",
    "* Collecting data\n",
    "    * Regular expressions\n",
    "    * Collecting data from external sources\n",
    "* Managing data\n",
    "    * Scripting to manage file collections"
   ]
  },
  {
   "cell_type": "markdown",
   "id": "e0a87c23-9754-457c-ac30-40b4a36a4afe",
   "metadata": {},
   "source": [
    "--------\n",
    "\n",
    "# Regular expressions"
   ]
  },
  {
   "cell_type": "markdown",
   "id": "cf350750-d4ae-41ab-b9b9-9875b6322c91",
   "metadata": {},
   "source": [
    "- Extremely powerful tool to analyse and manipulate strings\n",
    "- \"Strings on steroids\"\n",
    "- Can see it as a (cryptic) programming language for string processing\n",
    "- An important topic in computer science, see https://en.wikipedia.org/wiki/Regular_expression\n",
    "- Are also called \"regex\"\n",
    "- Strictly speaking\n",
    "    - Regular expression: concept in theoretical computer science with minimal elements\n",
    "    - Regex: practical implementation in software with additional features for ease of use\n",
    "- In practice, we use \"regular expressions\" also for regexes\n",
    "- Regexes exists in various dialects, we focus on the Python dialect\n",
    "- Resources on regexes:\n",
    "    - [Vanderplas, Whirlwind Tour of Python, Ch 14](https://jakevdp.github.io/WhirlwindTourOfPython/14-strings-and-regular-expressions.html#Flexible-Pattern-Matching-with-Regular-Expressions)\n",
    "    - [Python Regular Expression Howto](https://docs.python.org/3/howto/regex.html)\n",
    "    - [Rexegg Tutorial](https://www.rexegg.com)\n",
    "    - [Regular Expressions 101 \"Online Regex Lab\"](https://regex101.com)\n",
    "    - [Python `re` documentation](https://docs.python.org/3/library/re.html)\n",
    "    - [PyCharm regular expression documentation](https://www.jetbrains.com/help/pycharm/regular-expression-syntax-reference.html)\n",
    "- Available in Python through `re` package\n",
    "- Also available in most editors and IDEs\n",
    "    - Jupyter lab search field\n",
    "        - Not very stable, entire Jupyter lab window can freeze and replacement strings do not work yet\n",
    "    - Try in PyCharm's find and replace function!\n",
    "    \n",
    "## Basics\n",
    "\n",
    "- Define a *pattern*\n",
    "- Search for that pattern in a string\n",
    "- Optionally, match *groups* within a string\n",
    "- Optionally, create new string by replacing the pattern\n",
    "\n",
    "## Examples"
   ]
  },
  {
   "cell_type": "code",
   "execution_count": 1,
   "id": "1c9c9869-4e33-48f3-a547-a6d52ae7308a",
   "metadata": {},
   "outputs": [],
   "source": [
    "import re"
   ]
  },
  {
   "cell_type": "markdown",
   "id": "2ce74caa-53f0-40c8-9541-47ef9d219b64",
   "metadata": {},
   "source": [
    "### Simple examples"
   ]
  },
  {
   "cell_type": "markdown",
   "id": "915f2db6-f001-4b05-8bb9-adeb5fb017c9",
   "metadata": {},
   "source": [
    "- Search for \"the\" in a string.\n",
    "- The first argument to `re.search()` is the pattern to look for, the second the string to search in."
   ]
  },
  {
   "cell_type": "code",
   "execution_count": 2,
   "id": "f394f628-dbf0-4018-be15-cd796acce9f9",
   "metadata": {},
   "outputs": [
    {
     "data": {
      "text/plain": [
       "<re.Match object; span=(10, 13), match='the'>"
      ]
     },
     "execution_count": 2,
     "metadata": {},
     "output_type": "execute_result"
    }
   ],
   "source": [
    "re.search(\"the\", \"I can see the red rose.\")"
   ]
  },
  {
   "cell_type": "markdown",
   "id": "d8c298b4-651d-4e8b-acee-7a77c139141d",
   "metadata": {},
   "source": [
    "- As result we get a `Match` object representing where `search()` found the pattern.\n",
    "    - `span` gives the position of the match in the string\n",
    "- We can also extract details from the `Match` object"
   ]
  },
  {
   "cell_type": "code",
   "execution_count": 3,
   "id": "f7f8d23e-c039-4081-bc8f-e6b2556dbc45",
   "metadata": {},
   "outputs": [
    {
     "name": "stdout",
     "output_type": "stream",
     "text": [
      "Match: <re.Match object; span=(10, 13), match='the'>\n",
      "Span : (10, 13)\n",
      "Start: 10\n",
      "End  : 13\n"
     ]
    }
   ],
   "source": [
    "m = re.search(\"the\", \"I can see the red rose.\")\n",
    "\n",
    "print(\"Match:\", m)\n",
    "print(\"Span :\", m.span())\n",
    "print(\"Start:\", m.start())\n",
    "print(\"End  :\", m.end())"
   ]
  },
  {
   "cell_type": "markdown",
   "id": "fa6d6b14-c016-451b-8479-8c7a702d2f5e",
   "metadata": {},
   "source": [
    "- If the pattern is not found, `search()` returns `None`."
   ]
  },
  {
   "cell_type": "code",
   "execution_count": 4,
   "id": "ad59e4d1-b889-4d7d-9b65-45b0b00c0005",
   "metadata": {},
   "outputs": [
    {
     "name": "stdout",
     "output_type": "stream",
     "text": [
      "Match: None\n"
     ]
    }
   ],
   "source": [
    "m = re.search(\"blue\", \"I can see the red rose.\")\n",
    "\n",
    "print(\"Match:\", m)"
   ]
  },
  {
   "cell_type": "markdown",
   "id": "21315003-fcf9-416e-8ca6-845307a6aad5",
   "metadata": {},
   "source": [
    "- `search()` only finds the first match:"
   ]
  },
  {
   "cell_type": "code",
   "execution_count": 5,
   "id": "74753fc2-f37f-40ff-934e-9e748a573294",
   "metadata": {},
   "outputs": [
    {
     "name": "stdout",
     "output_type": "stream",
     "text": [
      "<re.Match object; span=(10, 13), match='the'>\n"
     ]
    }
   ],
   "source": [
    "m = re.search(\"the\", \"I can see the red rose and the purple lilac.\")\n",
    "print(m)"
   ]
  },
  {
   "cell_type": "markdown",
   "id": "c0e2f230-01e8-463a-82d6-d341d97fb3bf",
   "metadata": {},
   "source": [
    "- We can substitute patterns with `re.sub()`\n",
    "    - First argument: pattern to search\n",
    "    - Second argument: text to replace it with\n",
    "    - Third argument: string to work on\n",
    "- By default, `sub()` replaces all occurances of the pattern in the string   "
   ]
  },
  {
   "cell_type": "code",
   "execution_count": 6,
   "id": "28fa0512-d38a-42af-bb1b-accfa5c1c6d9",
   "metadata": {},
   "outputs": [
    {
     "data": {
      "text/plain": [
       "'I can see a red rose and a purple lilac.'"
      ]
     },
     "execution_count": 6,
     "metadata": {},
     "output_type": "execute_result"
    }
   ],
   "source": [
    "re.sub(\"the\", \"a\", \"I can see the red rose and the purple lilac.\")"
   ]
  },
  {
   "cell_type": "markdown",
   "id": "0413363d-6ecd-4d53-89d1-754842cea778",
   "metadata": {},
   "source": [
    "- With `re.findall()`, we can find all matches of a pattern in a string\n",
    "- `findall()` returns a list of matches as strings\n",
    "    - First argument: pattern\n",
    "    - Second argument: string"
   ]
  },
  {
   "cell_type": "code",
   "execution_count": 7,
   "id": "4250b7b4-189a-4bd6-9e5f-2006a6d16017",
   "metadata": {},
   "outputs": [
    {
     "data": {
      "text/plain": [
       "['the', 'the']"
      ]
     },
     "execution_count": 7,
     "metadata": {},
     "output_type": "execute_result"
    }
   ],
   "source": [
    "re.findall(\"the\", \"I can see the red rose and the purple lilac.\")"
   ]
  },
  {
   "cell_type": "markdown",
   "id": "d42454de-50c7-4739-b30e-8a12596ce531",
   "metadata": {},
   "source": [
    "- This is pretty boring\n",
    "\n",
    "### More interesting examples\n",
    "\n",
    "- It becomes more interesting if we use more flexible patterns\n",
    "    - We use special symbols such as `.`, `*`, `\\w`, `\\b` to build flexible patterns\n",
    "    - Some examples follow, details on the grammar comes below\n",
    "\n",
    "- Find all words ending in 'e'"
   ]
  },
  {
   "cell_type": "code",
   "execution_count": 8,
   "id": "3d80a7a1-eb2f-48a9-84a9-f1023aa42ef0",
   "metadata": {},
   "outputs": [
    {
     "data": {
      "text/plain": [
       "['see', 'the', 'rose', 'the', 'purple']"
      ]
     },
     "execution_count": 8,
     "metadata": {},
     "output_type": "execute_result"
    }
   ],
   "source": [
    "re.findall(r\"\\w*e\\b\", \"I can see the red rose and the purple lilac.\")"
   ]
  },
  {
   "cell_type": "markdown",
   "id": "a4457fbc-e9ae-46cc-b3bc-85494546111c",
   "metadata": {},
   "source": [
    "- We enter the pattern as a *raw string* to make sure `\\` is passed directly to the `re` machinery\n",
    "- `\\w` matches any character that can be part of a word\n",
    "- `*` means \"match 0 or more time\n",
    "- `\\b` matches any word-boundary character (space, punctuation, end of string)\n",
    "- So the expression means\n",
    "    - match any pattern consisting of zero or more \"word\" characters followed by \"e\" followed by end of word"
   ]
  },
  {
   "cell_type": "markdown",
   "id": "fe258441-fe35-42b8-891d-e6cbef57f566",
   "metadata": {},
   "source": [
    "- We can find all words that are at least four letters long"
   ]
  },
  {
   "cell_type": "code",
   "execution_count": 9,
   "id": "124db4c4-807c-4194-9189-683a33177994",
   "metadata": {},
   "outputs": [
    {
     "data": {
      "text/plain": [
       "['rose', 'purple', 'lilac']"
      ]
     },
     "execution_count": 9,
     "metadata": {},
     "output_type": "execute_result"
    }
   ],
   "source": [
    "re.findall(r\"\\w{4,}\", \"I can see the red rose and the purple lilac.\")"
   ]
  },
  {
   "cell_type": "markdown",
   "id": "39d9c796-548c-465d-91ef-5f7ec2fa84c1",
   "metadata": {},
   "source": [
    "- `{4,}` means: previous symbol repeated at least four times"
   ]
  },
  {
   "cell_type": "markdown",
   "id": "acc1c09b-3fd9-4967-881f-00cfbfd638df",
   "metadata": {},
   "source": [
    "- We can pick out three-word sequences beginning with \"the\""
   ]
  },
  {
   "cell_type": "code",
   "execution_count": 10,
   "id": "0931993a-0970-488c-a7c2-d981e9280d70",
   "metadata": {},
   "outputs": [
    {
     "data": {
      "text/plain": [
       "['the red rose', 'the purple lilac']"
      ]
     },
     "execution_count": 10,
     "metadata": {},
     "output_type": "execute_result"
    }
   ],
   "source": [
    "re.findall(r\"the\\s+\\w+\\s+\\w+\\b\", \"I can see the red rose and the purple lilac.\")"
   ]
  },
  {
   "cell_type": "markdown",
   "id": "060b56d3-a151-43c9-a717-02f3882830f5",
   "metadata": {},
   "source": [
    "- `\\s` represents any whitespace\n",
    "\n",
    "### Examples with grouping \n",
    "\n",
    "- What we are really interested in, are the color and plant names\n",
    "    - We can extract them by introducing *groups*\n",
    "    - We do this by placing `()` around the parts of the pattern we are interested in\n",
    "    "
   ]
  },
  {
   "cell_type": "code",
   "execution_count": 11,
   "id": "2e489fb4-39a0-4ec5-af20-8b80c9a55553",
   "metadata": {},
   "outputs": [
    {
     "data": {
      "text/plain": [
       "[('red', 'rose'), ('purple', 'lilac')]"
      ]
     },
     "execution_count": 11,
     "metadata": {},
     "output_type": "execute_result"
    }
   ],
   "source": [
    "re.findall(r\"the\\s+(\\w+)\\s+(\\w+)\\b\", \"I can see the red rose and the purple lilac.\")"
   ]
  },
  {
   "cell_type": "markdown",
   "id": "64e7cfac-c763-4e70-a9af-8127c6349f85",
   "metadata": {},
   "source": [
    "- We can access the strings in the groups in the replacement strings\n",
    "    - `\\1` is the first group, `\\2` the second\n",
    "    - In PyCharm, use `$1`, `$2`, ... instead"
   ]
  },
  {
   "cell_type": "code",
   "execution_count": 12,
   "id": "2f4d4b3a-2432-42b9-83bc-66c43b1a9369",
   "metadata": {},
   "outputs": [
    {
     "data": {
      "text/plain": [
       "'I can see a rose (red) and a lilac (purple).'"
      ]
     },
     "execution_count": 12,
     "metadata": {},
     "output_type": "execute_result"
    }
   ],
   "source": [
    "re.sub(r\"the\\s+(\\w+)\\s+(\\w+)\\b\", \n",
    "       r\"a \\2 (\\1)\", \n",
    "       \"I can see the red rose and the purple lilac.\")"
   ]
  },
  {
   "cell_type": "markdown",
   "id": "85ee413a-2d0e-4ac3-9a74-d867690abbfc",
   "metadata": {},
   "source": [
    "- We can even name the groups (with a rather weird syntax ...)"
   ]
  },
  {
   "cell_type": "code",
   "execution_count": 13,
   "id": "71abcbdb-5acd-42c6-9413-331d193e9bd1",
   "metadata": {},
   "outputs": [
    {
     "data": {
      "text/plain": [
       "'I can see a rose (red) and a lilac (purple).'"
      ]
     },
     "execution_count": 13,
     "metadata": {},
     "output_type": "execute_result"
    }
   ],
   "source": [
    "re.sub(r\"the\\s+(?P<color>\\w+)\\s+(?P<plant>\\w+)\\b\", \n",
    "       r\"a \\g<plant> (\\g<color>)\", \n",
    "       \"I can see the red rose and the purple lilac.\")"
   ]
  },
  {
   "cell_type": "markdown",
   "id": "19a3b0eb-d353-4db4-ad44-621e06c23b52",
   "metadata": {},
   "source": [
    "- If we use patterns containing groups with `search()`\n",
    "    - we only get the first match\n",
    "    - we can extract the complete match and the individual groups"
   ]
  },
  {
   "cell_type": "code",
   "execution_count": 14,
   "id": "98c7dbfc-0392-4610-814b-6ec291a1e3d4",
   "metadata": {},
   "outputs": [
    {
     "name": "stdout",
     "output_type": "stream",
     "text": [
      "Match object: <re.Match object; span=(10, 22), match='the red rose'>\n",
      "Match string: the red rose\n",
      "Groups      : ('red', 'rose')\n"
     ]
    }
   ],
   "source": [
    "m = re.search(r\"the\\s+(\\w+)\\s+(\\w+)\\b\", \n",
    "              \"I can see the red rose and the purple lilac.\")\n",
    "print(\"Match object:\", m)\n",
    "print(\"Match string:\", m.group())\n",
    "print(\"Groups      :\", m.groups())"
   ]
  },
  {
   "cell_type": "markdown",
   "id": "f1c22265-0399-42d6-9db0-6176c3de3442",
   "metadata": {},
   "source": [
    "- If we use named groups, we even get a dictionary of groups"
   ]
  },
  {
   "cell_type": "code",
   "execution_count": 15,
   "id": "ffeb7943-31c6-4d93-a05b-d9999503be0a",
   "metadata": {},
   "outputs": [
    {
     "name": "stdout",
     "output_type": "stream",
     "text": [
      "Match object: <re.Match object; span=(10, 22), match='the red rose'>\n",
      "Match string: the red rose\n",
      "Groups      : ('red', 'rose')\n",
      "Group dict  : {'color': 'red', 'plant': 'rose'}\n"
     ]
    }
   ],
   "source": [
    "m = re.search(r\"the\\s+(?P<color>\\w+)\\s+(?P<plant>\\w+)\\b\", \n",
    "              \"I can see the red rose and the purple lilac.\")\n",
    "print(\"Match object:\", m)\n",
    "print(\"Match string:\", m.group())\n",
    "print(\"Groups      :\", m.groups())\n",
    "print(\"Group dict  :\", m.groupdict())"
   ]
  },
  {
   "cell_type": "markdown",
   "id": "da2b808a-058a-4638-96c2-0165af405ad8",
   "metadata": {},
   "source": [
    "- We can even refer to a group inside a search pattern\n",
    "- Use this to look for repetitions of words (probably a typo)"
   ]
  },
  {
   "cell_type": "code",
   "execution_count": 16,
   "id": "dab411b2-3f21-4cde-b4ef-18e267c7e6a2",
   "metadata": {},
   "outputs": [
    {
     "data": {
      "text/plain": [
       "['the', 'rose']"
      ]
     },
     "execution_count": 16,
     "metadata": {},
     "output_type": "execute_result"
    }
   ],
   "source": [
    "re.findall(r\"\\b(\\w+)\\s+\\1\\b\", \"I can see the the red rose rose and the purple lilac.\")"
   ]
  },
  {
   "cell_type": "markdown",
   "id": "0a39a6a8-0c16-4839-beca-fd97c88a4324",
   "metadata": {},
   "source": [
    "- This pattern matchs under the following conditions\n",
    "    - `\\b` requires a word boundary‚ i.e. we must start at the beginning of a word\n",
    "    - `(\\w+)` matches a non-empty word and collects it as into a group\n",
    "    - `\\s+` is at least one whitespace (if there is a comma, etc, between words, repeated words are probably ok)\n",
    "    - `\\1` requires that the word collected in the group must occur here again\n",
    "    - `\\b` requires a word boundary\n",
    "- The result from `findall()` is not very helpful here\n",
    "- `search()` only gives us the first match"
   ]
  },
  {
   "cell_type": "code",
   "execution_count": 17,
   "id": "8c2781f3-2488-4411-b92a-85f4bd5cade8",
   "metadata": {},
   "outputs": [
    {
     "data": {
      "text/plain": [
       "<re.Match object; span=(10, 17), match='the the'>"
      ]
     },
     "execution_count": 17,
     "metadata": {},
     "output_type": "execute_result"
    }
   ],
   "source": [
    "re.search(r\"\\b(\\w+)\\s+\\1\\b\", \"I can see the the red rose rose and the purple lilac.\")\n"
   ]
  },
  {
   "cell_type": "markdown",
   "id": "d3022c17-c9a0-49c9-a387-1d9ad60cfab1",
   "metadata": {},
   "source": [
    "- Use information from the match object to mark location of problem."
   ]
  },
  {
   "cell_type": "code",
   "execution_count": 18,
   "id": "16acfc91-e827-49d0-b70b-b7809f03d31e",
   "metadata": {},
   "outputs": [
    {
     "name": "stdout",
     "output_type": "stream",
     "text": [
      "I can see the the red rose rose and the purple lilac.\n",
      "----------^^^^^^^\n"
     ]
    }
   ],
   "source": [
    "text = \"I can see the the red rose rose and the purple lilac.\"\n",
    "m = re.search(r\"\\b(\\w+)\\s+\\1\\b\", text)\n",
    "print(text)\n",
    "print('-' * m.start() + '^' * (m.end()-m.start()))"
   ]
  },
  {
   "cell_type": "markdown",
   "id": "baed3d68-3d75-4a95-b17d-34c5a8b74e78",
   "metadata": {},
   "source": [
    "- We can use `finditer()` to get one match at a time"
   ]
  },
  {
   "cell_type": "code",
   "execution_count": 19,
   "id": "2e4f3151-7f9b-4c58-ba33-a9a31b19c19a",
   "metadata": {},
   "outputs": [
    {
     "name": "stdout",
     "output_type": "stream",
     "text": [
      "<re.Match object; span=(10, 17), match='the the'>\n",
      "<re.Match object; span=(22, 31), match='rose rose'>\n"
     ]
    }
   ],
   "source": [
    "for m in re.finditer(r\"\\b(\\w+)\\s+\\1\\b\", \n",
    "                     \"I can see the the red rose rose and the purple lilac.\"):\n",
    "    print(m)"
   ]
  },
  {
   "cell_type": "markdown",
   "id": "adba7a4b-5a0e-4d66-8607-b57bfa31cbf3",
   "metadata": {},
   "source": [
    "## Some more details\n",
    "\n",
    "### Syntax (extract)\n",
    "\n",
    "| Symbol | Description |\n",
    "| - |:- |\n",
    "| `.` | Matches any single character except newline |\n",
    "| `*` | Match preceding character any number of times |\n",
    "| `+` | Match preceding character one or more times |\n",
    "| `?` | Match preceding character zero or one time |\n",
    "| `{n}` | Match preceding character exactly n times |\n",
    "| `{n, m}` | Match preceding character at least n, at most m times |\n",
    "| `[abc]` | Match any character in brackets |\n",
    "| `[^abc]` | Match any character *not* in brackets |\n",
    "| `[a-z]` | Match any character from a-z |\n",
    "| `\\b` | Match word boundary |\n",
    "| `\\d` | Match digit |\n",
    "| `\\s` | Match whitespace |\n",
    "| `\\w` | Match word character (`[A-Za-z0-9]`) |\n",
    "| `^` or `\\A` | Matches beginning of input |\n",
    "| `$` or `\\Z`| Matches end of input |\n",
    "| `()`| Group, can be referenced later |\n",
    "| `(?P<name>)` | named group |\n",
    "| `\\1`, `\\2`, ... | Reference to group defined earlier |\n",
    "| `a\\|b`| Matches `a` or `b` | \n",
    "| `\\(`, `\\)` | Required to include parentheses in pattern |\n"
   ]
  },
  {
   "cell_type": "markdown",
   "id": "4e117314-c250-4ee3-b3cf-c7c737801b55",
   "metadata": {},
   "source": [
    "## Regular expressions in Python\n",
    "\n",
    "- `re` module\n",
    "- See also \n",
    "    - https://docs.python.org/3/library/re.html\n",
    "    - https://docs.python.org/3/howto/regex.html#regex-howto\n",
    "\n",
    "### Some useful functions\n",
    "\n",
    "- `re.search(pattern, string)` finds first match of pattern in string\n",
    "- `re.match(pattern, string)` as `search()`, but match only at beginning of string\n",
    "- `re.findall(pattern, string)` finds all matches of pattern in string\n",
    "- `re.finditer(pattern, string)` iterate over all matches in string, returning match objects\n",
    "- `re.split(pattern, string)` split string on pattern and return list of parts\n",
    "- `re.sub(pattern, replacement, string)` replaces all occurances of pattern in string with replacement\n",
    "- `re.compile(pattern)` returns regular expression object, improves efficiency if same regex is used many times\n",
    "\n",
    "### Notes\n",
    "\n",
    "- Regexes often contain many backslashes, therefore use Python raw strings to specify regex patterns\n",
    "    - If a regex does not work as expected, **check that you wrote the pattern as raw string**!\n",
    "- Use https://regex101.com to experiment with regular expressions\n",
    "- Regexes can be challenging but are rewarding—endure!"
   ]
  },
  {
   "cell_type": "markdown",
   "id": "a6da0bcb-8e02-40fd-ab29-0a15f578654e",
   "metadata": {},
   "source": [
    "### Greedy vs lazy matching\n",
    "\n",
    "- `*` and `+` matches as much as they can\n",
    "- This is known as *greedy* matching\n",
    "- Here is an attempt to build a pattern matching words ending in \"e\""
   ]
  },
  {
   "cell_type": "code",
   "execution_count": 20,
   "id": "706d432e-bce2-4739-874e-272de41f7784",
   "metadata": {},
   "outputs": [
    {
     "data": {
      "text/plain": [
       "['I can see the red rose and the purple']"
      ]
     },
     "execution_count": 20,
     "metadata": {},
     "output_type": "execute_result"
    }
   ],
   "source": [
    "re.findall(r\"\\b.+e\", \"I can see the red rose and the purple lilac.\")"
   ]
  },
  {
   "cell_type": "markdown",
   "id": "c2629968-0592-4056-9401-2c58d9b3f8dc",
   "metadata": {},
   "source": [
    "- What does the pattern mean\n",
    "    - `\\b` requires starting at a word boundary\n",
    "    - `.+` matches any character except newline\n",
    "    - `e` matches the letter 'e'\n",
    "- Because `+` is greedy, `.+` matches the longest possbile string\n",
    "    - Everything up to the last 'e'\n",
    "- By changing a `.+` to `.+?`, we make `+` *lazy* or *reluctant*\n",
    "    - Matches the shortest possible string"
   ]
  },
  {
   "cell_type": "code",
   "execution_count": 21,
   "id": "f4ef2f05-6b78-4b00-9d3b-278e5543ac5a",
   "metadata": {},
   "outputs": [
    {
     "data": {
      "text/plain": [
       "['I can se', ' the', ' re', ' rose', ' and the', ' purple']"
      ]
     },
     "execution_count": 21,
     "metadata": {},
     "output_type": "execute_result"
    }
   ],
   "source": [
    "re.findall(r\"\\b.+?e\", \"I can see the red rose and the purple lilac.\")"
   ]
  },
  {
   "cell_type": "markdown",
   "id": "b610c71d-14f7-44e4-a89f-17d670f08f9e",
   "metadata": {},
   "source": [
    "- This is still not what we want, we can try to improve step by step\n",
    "- Specify that there must be a word boundary after 'e'"
   ]
  },
  {
   "cell_type": "code",
   "execution_count": 22,
   "id": "b186d0b5-1c2d-42e2-825a-3d34c6180c84",
   "metadata": {},
   "outputs": [
    {
     "data": {
      "text/plain": [
       "['I can see', ' the', ' red rose', ' and the', ' purple']"
      ]
     },
     "execution_count": 22,
     "metadata": {},
     "output_type": "execute_result"
    }
   ],
   "source": [
    "re.findall(r\"\\b.+?e\\b\", \"I can see the red rose and the purple lilac.\")"
   ]
  },
  {
   "cell_type": "markdown",
   "id": "af94599d-8b9d-43df-b037-be8ad7756dd0",
   "metadata": {},
   "source": [
    "- Improved, but still not good\n",
    "- Better to say explicitly what we want: a word consists of word characters!"
   ]
  },
  {
   "cell_type": "code",
   "execution_count": 23,
   "id": "67148ce0-69af-42ef-98a7-bd0f17fbfc7e",
   "metadata": {},
   "outputs": [
    {
     "data": {
      "text/plain": [
       "['see', 'the', 'rose', 'the', 'purple']"
      ]
     },
     "execution_count": 23,
     "metadata": {},
     "output_type": "execute_result"
    }
   ],
   "source": [
    "re.findall(r\"\\b\\w+?e\\b\", \"I can see the red rose and the purple lilac.\")"
   ]
  },
  {
   "cell_type": "markdown",
   "id": "1dea44d7-d035-489e-b4aa-bdfa80e81d8d",
   "metadata": {},
   "source": [
    "### Ignoring case in regular expressions\n",
    "\n",
    "- By default, regexes match case"
   ]
  },
  {
   "cell_type": "code",
   "execution_count": 24,
   "id": "e267a185-7c06-4439-b71f-273884b152e0",
   "metadata": {},
   "outputs": [
    {
     "data": {
      "text/plain": [
       "['the']"
      ]
     },
     "execution_count": 24,
     "metadata": {},
     "output_type": "execute_result"
    }
   ],
   "source": [
    "re.findall(r\"the\", \"The beauty and the beast\")"
   ]
  },
  {
   "cell_type": "markdown",
   "id": "e5ed4fd3-a82b-4925-a78e-6cb4954fe778",
   "metadata": {},
   "source": [
    "- We can give a flag to tell `re` to ignore case"
   ]
  },
  {
   "cell_type": "code",
   "execution_count": 25,
   "id": "4798cfd2-cde9-40cf-be51-06769d86a77f",
   "metadata": {},
   "outputs": [
    {
     "data": {
      "text/plain": [
       "['The', 'the']"
      ]
     },
     "execution_count": 25,
     "metadata": {},
     "output_type": "execute_result"
    }
   ],
   "source": [
    "re.findall(r\"the\", \"The beauty and the beast\", flags=re.IGNORECASE)"
   ]
  },
  {
   "cell_type": "markdown",
   "id": "d99d4a16-a604-4723-9027-03c039ae715b",
   "metadata": {},
   "source": [
    "- We can also tell it by adding the modifier `(?i)` at the beginning of the expression."
   ]
  },
  {
   "cell_type": "code",
   "execution_count": 26,
   "id": "dadb5946-df77-46ca-80ce-12446a6d10f5",
   "metadata": {},
   "outputs": [
    {
     "data": {
      "text/plain": [
       "['The', 'the']"
      ]
     },
     "execution_count": 26,
     "metadata": {},
     "output_type": "execute_result"
    }
   ],
   "source": [
    "re.findall(r\"(?i)the\", \"The beauty and the beast\")"
   ]
  },
  {
   "cell_type": "markdown",
   "id": "a9115c3a-296e-4b7a-ac38-b8d656634fc7",
   "metadata": {},
   "source": [
    "--------\n",
    "\n",
    "# Collecting data from external sources\n",
    "\n",
    "- A lot of data is available from websites and databases\n",
    "- Use it to understand the world, help others, solve practical problems, ...\n",
    "- First step: get the data onto your computer\n",
    "- We will look at\n",
    "    - very simple webscraping\n",
    "    - collecting data using a RESTful API\n",
    "    \n",
    "## Important: Respect other's rights and legal constraints\n",
    "\n",
    "- That data is available on a website does not mean that you are allowed to use it other than by looking at the website.\n",
    "- Check website for license information before collecting data in large quantities!\n",
    "- Definitely check license information before re-publishing data collected from sources on the web!\n",
    "- Be extra careful when collecting data on people, you *very* quickly reach the limits of what GDPR permits!\n",
    "\n",
    "**It is *your* resposibility to use data responsibly and in line with laws and license conditions!**"
   ]
  },
  {
   "cell_type": "markdown",
   "id": "b516aa3e-7ab6-4b54-9e6f-6ef17f326612",
   "metadata": {},
   "source": [
    "## Simple webscraping: Extracting material from a plain website\n",
    "\n",
    "- [Webscraping](https://en.wikipedia.org/wiki/Web_scraping) is the process of extracting information from websites not offering data through dedicated access points\n",
    "- The very simplest way is to open the website and copy-paste text into an editor of your choice\n",
    "    - Slow and cumbersome\n",
    "    - Data often in \"messy\" format\n",
    "    - Can be useful for \"quick and dirty\" experiments\n",
    "- We will take it one little step further up the ladder\n",
    "- For more advanced approaches, see, e.g., [BeautifulSoup](https://beautiful-soup-4.readthedocs.io/en/latest/)\n",
    "\n",
    "### Reading from a website with Python\n",
    "\n",
    "- We can get the content of a website with Python\n",
    "- The principal process is as follows\n",
    "    1. Send a `GET` request for a specific page to the webserver\n",
    "    1. Receive a response\n",
    "        1. Check response status to see if the request worked properly\n",
    "        1. Possibly inspect response *headers* with info about the data sent\n",
    "        1. Extract the actual (HTML) content from the response\n",
    "    1. Analyse the content received, e.g., using regular expressions\n",
    "- In Python, we can use the `requests` package to talk to the webserver\n",
    "- We will use [Plesser's Publications Page](http://arken.nmbu.no/~plesser/publications.html) as an example"
   ]
  },
  {
   "cell_type": "code",
   "execution_count": 27,
   "id": "b14fe75e-658d-482b-87df-0e0d957088a6",
   "metadata": {},
   "outputs": [],
   "source": [
    "import requests\n",
    "import html"
   ]
  },
  {
   "cell_type": "markdown",
   "id": "e6e3ba12-09af-4cbb-aed1-e1c40729436f",
   "metadata": {},
   "source": [
    "#### Getting the web page data\n",
    "\n",
    "- Send get request by providing page URL"
   ]
  },
  {
   "cell_type": "code",
   "execution_count": 28,
   "id": "15b61651-f954-4a4c-9816-136b84c2f413",
   "metadata": {},
   "outputs": [],
   "source": [
    "raw_response = requests.get('http://arken.nmbu.no/~plesser/publications.html')"
   ]
  },
  {
   "cell_type": "code",
   "execution_count": 29,
   "id": "36f65901-6bc5-4d5a-be44-10344e7dcaa5",
   "metadata": {},
   "outputs": [
    {
     "data": {
      "text/plain": [
       "200"
      ]
     },
     "execution_count": 29,
     "metadata": {},
     "output_type": "execute_result"
    }
   ],
   "source": [
    "raw_response.status_code"
   ]
  },
  {
   "cell_type": "markdown",
   "id": "9f5d019f-b5cc-41ac-b4f7-b39e4b59b7c3",
   "metadata": {},
   "source": [
    "- Code 200 means all went well\n",
    "- We can also check this more directly"
   ]
  },
  {
   "cell_type": "code",
   "execution_count": 30,
   "id": "fa55e678-d6b6-481d-8523-1380b09aeb85",
   "metadata": {},
   "outputs": [
    {
     "data": {
      "text/plain": [
       "True"
      ]
     },
     "execution_count": 30,
     "metadata": {},
     "output_type": "execute_result"
    }
   ],
   "source": [
    "raw_response.ok"
   ]
  },
  {
   "cell_type": "markdown",
   "id": "b6f44edd-401c-4152-a8f1-66c2205af7e8",
   "metadata": {},
   "source": [
    "- We can take a look at the header information\n",
    "    - Provided as dictionary, we print it prettily"
   ]
  },
  {
   "cell_type": "code",
   "execution_count": 31,
   "id": "123c8377-8a07-4a68-898c-4b0317f2b8a6",
   "metadata": {},
   "outputs": [
    {
     "name": "stdout",
     "output_type": "stream",
     "text": [
      "Date            : Tue, 28 Sep 2021 06:52:14 GMT\n",
      "Server          : Apache/2.4.38 (Debian)\n",
      "Last-Modified   : Fri, 03 Jul 2020 09:02:16 GMT\n",
      "ETag            : \"d04f-5a985c8133600-gzip\"\n",
      "Accept-Ranges   : bytes\n",
      "Vary            : Accept-Encoding\n",
      "Content-Encoding: gzip\n",
      "Content-Length  : 13735\n",
      "Keep-Alive      : timeout=5, max=100\n",
      "Connection      : Keep-Alive\n",
      "Content-Type    : text/html; charset=utf-8\n"
     ]
    }
   ],
   "source": [
    "for header_name, header_value in raw_response.headers.items():\n",
    "    print(f'{header_name:16s}: {header_value}')"
   ]
  },
  {
   "cell_type": "markdown",
   "id": "5a5847b3-d81d-43d5-90cd-42349d680bf5",
   "metadata": {},
   "source": [
    "- The content of the page is provided as `text` attribute\n",
    "- I can contain special characters encoded as [HTML Escape Sequences](https://en.wikipedia.org/wiki/List_of_XML_and_HTML_character_entity_references) for special characters, e.g. `&copy;` for © or `&Aring;` for Å\n",
    "- We use `html.unescape` to replace those with UTF-8 characters"
   ]
  },
  {
   "cell_type": "code",
   "execution_count": 32,
   "id": "6d3c5a2d-10da-41a4-aa97-e7014df10cbf",
   "metadata": {},
   "outputs": [],
   "source": [
    "page = html.unescape(raw_response.text)"
   ]
  },
  {
   "cell_type": "code",
   "execution_count": 33,
   "id": "f608fb30-468d-427b-bcaf-03e1d7493f4a",
   "metadata": {},
   "outputs": [
    {
     "data": {
      "text/plain": [
       "'<!DOCTYPE html PUBLIC \"-//W3C//DTD HTML 4.0 Transitional//EN\">\\n<HTML>\\n  <HEAD>\\n   <meta name=\"description\" content=\"Hans Ekkehard\\n   Plesser: Publications\">\\n    <TITLE>\\n      Hans Ekkehard Plesser: Publications\\n    </TITLE> \\n    <style type=\"text/css\">\\n    <!--\\n    @import url(css/hep_main.css);\\n   '"
      ]
     },
     "execution_count": 33,
     "metadata": {},
     "output_type": "execute_result"
    }
   ],
   "source": [
    "page[:300]"
   ]
  },
  {
   "cell_type": "markdown",
   "id": "5f96a475-5f86-464d-8cd8-a60fec46198c",
   "metadata": {},
   "source": [
    "- We got a single string containing the entire web page HTML code\n",
    "- Print the first 20 lines\n",
    "    - split into lines\n",
    "    - select the first 20 lines\n",
    "    - join with newline and print"
   ]
  },
  {
   "cell_type": "code",
   "execution_count": 34,
   "id": "d0e901bf-2c62-4fe4-aff2-12a08c64951b",
   "metadata": {},
   "outputs": [
    {
     "name": "stdout",
     "output_type": "stream",
     "text": [
      "<!DOCTYPE html PUBLIC \"-//W3C//DTD HTML 4.0 Transitional//EN\">\n",
      "<HTML>\n",
      "  <HEAD>\n",
      "   <meta name=\"description\" content=\"Hans Ekkehard\n",
      "   Plesser: Publications\">\n",
      "    <TITLE>\n",
      "      Hans Ekkehard Plesser: Publications\n",
      "    </TITLE> \n",
      "    <style type=\"text/css\">\n",
      "    <!--\n",
      "    @import url(css/hep_main.css);\n",
      "    -->\n",
      "    </style>\n",
      " </HEAD>\n",
      "\n",
      "  <BODY bgcolor=\"white\">\n",
      "\n",
      "<div id=\"HEP\">\n",
      "<p class=\"HEP\">\n",
      "Hans Ekkehard Plesser: Publications\n"
     ]
    }
   ],
   "source": [
    "print('\\n'.join(page.split('\\n')[:20]))"
   ]
  },
  {
   "cell_type": "markdown",
   "id": "d8464afa-1b4e-484b-8ade-152efc5e94ca",
   "metadata": {},
   "source": [
    "#### Extract hyperlinks from page\n",
    "\n",
    "- Hyperlinks have the form `<a href=\"URL\" ...>LinkText</a>`\n",
    "- We first want to extract the URLs of all links on the page\n",
    "- We define a suitable regular expression"
   ]
  },
  {
   "cell_type": "code",
   "execution_count": 35,
   "id": "535af06b-d080-40ce-a517-ddcb087b41f3",
   "metadata": {},
   "outputs": [
    {
     "data": {
      "text/plain": [
       "['<a href=\"index.html\">',\n",
       " '<a href=\"#01\">',\n",
       " '<a href=\"#01b\">',\n",
       " '<a href=\"https://arxiv.org/abs/1906.06189\" target=\"_new\">',\n",
       " '<a href=\"https://dx.doi.org/10.7717/peerj-cs.142\">']"
      ]
     },
     "execution_count": 35,
     "metadata": {},
     "output_type": "execute_result"
    }
   ],
   "source": [
    "url_regex = re.compile(r'<a href=\".*\">')\n",
    "url_regex.findall(page)[:5]"
   ]
  },
  {
   "cell_type": "markdown",
   "id": "a2d3f763-510e-42d5-a7f3-4bea1436917f",
   "metadata": {},
   "source": [
    "- We see that we also catch internal navigation URLs\n",
    "- We refine the regex to catch only external URLs\n",
    "- The `?` being `s` ensure we match `http` and `https`"
   ]
  },
  {
   "cell_type": "code",
   "execution_count": 36,
   "id": "bcd29a14-161f-4032-979f-c80a027bfa46",
   "metadata": {},
   "outputs": [
    {
     "data": {
      "text/plain": [
       "['<a href=\"https://arxiv.org/abs/1906.06189\" target=\"_new\">',\n",
       " '<a href=\"https://dx.doi.org/10.7717/peerj-cs.142\">',\n",
       " '<a href=\"http://informahealthcare.com/doi/abs/10.3109/0954898X.2012.722743\">',\n",
       " '<a href=\"http://hdl.handle.net/11858/00-1735-0000-0006-B59E-B\">',\n",
       " '<a href=\"https://www.abstractsonline.com/pp8/#!/7883/presentation/45457\">']"
      ]
     },
     "execution_count": 36,
     "metadata": {},
     "output_type": "execute_result"
    }
   ],
   "source": [
    "url_regex = re.compile(r'<a href=\"https?://.*\">')\n",
    "url_regex.findall(page)[:5]"
   ]
  },
  {
   "cell_type": "markdown",
   "id": "699320dc-790e-41a9-821c-6d4277405288",
   "metadata": {},
   "source": [
    "- We now add a group to the regex to capture just the URL"
   ]
  },
  {
   "cell_type": "code",
   "execution_count": 37,
   "id": "52c94ef1-a33c-4674-918e-5d18efafcc08",
   "metadata": {},
   "outputs": [
    {
     "data": {
      "text/plain": [
       "['https://arxiv.org/abs/1906.06189\" target=\"_new',\n",
       " 'https://dx.doi.org/10.7717/peerj-cs.142',\n",
       " 'http://informahealthcare.com/doi/abs/10.3109/0954898X.2012.722743',\n",
       " 'http://hdl.handle.net/11858/00-1735-0000-0006-B59E-B',\n",
       " 'https://www.abstractsonline.com/pp8/#!/7883/presentation/45457']"
      ]
     },
     "execution_count": 37,
     "metadata": {},
     "output_type": "execute_result"
    }
   ],
   "source": [
    "url_regex = re.compile(r'<a href=\"(https?://.*)\">')\n",
    "url_regex.findall(page)[:5]"
   ]
  },
  {
   "cell_type": "markdown",
   "id": "a9742f9f-4a2e-483e-93c8-ff54744050bf",
   "metadata": {},
   "source": [
    "- This did not work properly for the first URL, because matching is greedy\n",
    "- We can be more explicit: Match anything that is not `\"`\n"
   ]
  },
  {
   "cell_type": "code",
   "execution_count": 38,
   "id": "6147bc53-1054-4b0d-a300-7472838c2cd4",
   "metadata": {},
   "outputs": [
    {
     "data": {
      "text/plain": [
       "['https://dx.doi.org/10.7717/peerj-cs.142',\n",
       " 'http://informahealthcare.com/doi/abs/10.3109/0954898X.2012.722743',\n",
       " 'http://hdl.handle.net/11858/00-1735-0000-0006-B59E-B',\n",
       " 'https://www.abstractsonline.com/pp8/#!/7883/presentation/45457',\n",
       " 'http://nordicneuroscience.org/2017/wp-content/uploads/2016/06/Abstract-Book-Nordic-Neuroscience-2017.pdf']"
      ]
     },
     "execution_count": 38,
     "metadata": {},
     "output_type": "execute_result"
    }
   ],
   "source": [
    "url_regex = re.compile(r'<a href=\"(https?://[^\"]*)\">')\n",
    "url_regex.findall(page)[:5]"
   ]
  },
  {
   "cell_type": "markdown",
   "id": "f508d74d-59ea-4739-9405-bf20d4f084f7",
   "metadata": {},
   "source": [
    "- Looks good\n",
    "- Comparison with webpage in browser suggests that we missed at least the first six links\n",
    "- This is due to line breaks in the tag which are not matched by ` `\n",
    "- Use the general whitespace marker `\\s` instead\n",
    "    - at least one after `<a`\n",
    "    - optionally around `=`"
   ]
  },
  {
   "cell_type": "code",
   "execution_count": 39,
   "id": "e89763e6-ad34-40e9-9b85-9c6557627586",
   "metadata": {},
   "outputs": [
    {
     "name": "stdout",
     "output_type": "stream",
     "text": [
      "Number of links: 72\n"
     ]
    },
    {
     "data": {
      "text/plain": [
       "['https://dx.doi.org/10.3389/fninf.2020.00023',\n",
       " 'https://dx.doi.org/10.1016/j.neuron.2019.03.027',\n",
       " 'https://dx.doi.org/10.1007/s10827-018-0693-9',\n",
       " 'https://dx.doi.org/10.3389/fninf.2017.00076',\n",
       " 'https://dx.doi.org/10.3389/fninf.2017.00030',\n",
       " 'https://dx.doi.org/10.1016/j.neucom.2016.08.120',\n",
       " 'https://dx.doi.org/10.7717/peerj-cs.142',\n",
       " 'https://dx.doi.org/10.3389/fncom.2014.00136',\n",
       " 'https://dx.doi.org/10.3389/fninf.2014.00078',\n",
       " 'https://dx.doi.org/10.1007/s10827-013-0456-6']"
      ]
     },
     "execution_count": 39,
     "metadata": {},
     "output_type": "execute_result"
    }
   ],
   "source": [
    "url_regex = re.compile(r'<a\\s+href\\s*=\\s*\"(https?://[^\"]*)\">')\n",
    "links = url_regex.findall(page)\n",
    "print(\"Number of links:\", len(links))\n",
    "links[:10]"
   ]
  },
  {
   "cell_type": "markdown",
   "id": "2ca18a43-99d6-45a4-bb58-9f3a2e5a5a24",
   "metadata": {},
   "source": [
    "#### Working with author data\n",
    "\n",
    "- The following line extracts author names from the page\n",
    "- We do not discuss details here, we just want to use the data for further examples"
   ]
  },
  {
   "cell_type": "code",
   "execution_count": 40,
   "id": "e1da7ff5-d11e-4e31-ac5b-fa97436792b7",
   "metadata": {},
   "outputs": [
    {
     "data": {
      "text/plain": [
       "['S. M. Crook, A. P. Davison, R. A. McDougal, and <strong>H. E.\\n  Plesser</strong>',\n",
       " '<strong>H. E. Plesser</strong>',\n",
       " 'N. P. Rougier, K. Hinsen, F. Alexandre, T. Arildsen, L. A. Barba, F. C.\\n  Benureau, C. T. Brown, P. d Buyl, O. Caglayan, A. P. Davison, M.-A. Delsuc,\\n  G. Detorakis, A. K. Diem, D. Drix, P. Enel, B. Girard, O. Guest, M. G. Hall,\\n  R. N. Henriques, X. Hinaut, K. S. Jaron, M. Khamassi, A. Klein, T. Manninen,\\n  P. Marchesi, D. McGlinn, C. Metzner, O. Petchey, <strong>H. E.\\n  Plesser</strong>, T. Poisot, K. Ram, Y. Ram, E. Roesch, C. Rossant,\\n  V. Rostami, A. Shifman, J. Stachelek, M. Stimberg, F. Stollmeier, F. Vaggi,\\n  G. Viejo, J. Vitay, A. E. Vostinar, R. Yurchak, and T. Zito',\n",
       " 'T. Heiberg, B. Kriener, T. Tetzlaff, A. Casti, G. T. Einevoll, and\\n  <strong>H. E. Plesser</strong>',\n",
       " 'S. Kunkel, T. C. Potjans, J. M. Eppler, <strong>H. E. Plesser</strong>,\\n  A. Morrison, and M. Diesmann',\n",
       " 'E. Nordlie, M.-O. Gewaltig, and <strong>H. E. Plesser</strong>',\n",
       " 'G. T. Einevoll and <strong>H. E. Plesser</strong>']"
      ]
     },
     "execution_count": 40,
     "metadata": {},
     "output_type": "execute_result"
    }
   ],
   "source": [
    "authors = re.findall(r'<li>\\s*((?:.|\\s)*?)\\.<br>', page)\n",
    "authors[:20:3]"
   ]
  },
  {
   "cell_type": "markdown",
   "id": "74a2f0c0-5159-4fb9-a602-f81b4e812523",
   "metadata": {},
   "source": [
    "- Remove the `<strong>...</strong>` tags around Plesser\n",
    "- We apply the regex to each entry in the list in a list comprehension\n",
    "- For efficiency, we compile it first"
   ]
  },
  {
   "cell_type": "code",
   "execution_count": 41,
   "id": "36facc65-b836-46a4-aa89-83e8279a5a30",
   "metadata": {},
   "outputs": [
    {
     "data": {
      "text/plain": [
       "['S. M. Crook, A. P. Davison, R. A. McDougal, and H. E.\\n  Plesser',\n",
       " 'H. E. Plesser',\n",
       " 'N. P. Rougier, K. Hinsen, F. Alexandre, T. Arildsen, L. A. Barba, F. C.\\n  Benureau, C. T. Brown, P. d Buyl, O. Caglayan, A. P. Davison, M.-A. Delsuc,\\n  G. Detorakis, A. K. Diem, D. Drix, P. Enel, B. Girard, O. Guest, M. G. Hall,\\n  R. N. Henriques, X. Hinaut, K. S. Jaron, M. Khamassi, A. Klein, T. Manninen,\\n  P. Marchesi, D. McGlinn, C. Metzner, O. Petchey, H. E.\\n  Plesser, T. Poisot, K. Ram, Y. Ram, E. Roesch, C. Rossant,\\n  V. Rostami, A. Shifman, J. Stachelek, M. Stimberg, F. Stollmeier, F. Vaggi,\\n  G. Viejo, J. Vitay, A. E. Vostinar, R. Yurchak, and T. Zito',\n",
       " 'T. Heiberg, B. Kriener, T. Tetzlaff, A. Casti, G. T. Einevoll, and\\n  H. E. Plesser',\n",
       " 'S. Kunkel, T. C. Potjans, J. M. Eppler, H. E. Plesser,\\n  A. Morrison, and M. Diesmann',\n",
       " 'E. Nordlie, M.-O. Gewaltig, and H. E. Plesser',\n",
       " 'G. T. Einevoll and H. E. Plesser']"
      ]
     },
     "execution_count": 41,
     "metadata": {},
     "output_type": "execute_result"
    }
   ],
   "source": [
    "drop_strong = re.compile(r'</?strong>')\n",
    "authors = [drop_strong.sub('', s) for s in authors]\n",
    "authors[:20:3]"
   ]
  },
  {
   "cell_type": "markdown",
   "id": "5c693a8c-7276-45ff-aa56-01be6eb87068",
   "metadata": {},
   "source": [
    "- Do the same to remove any sequence of multipe whitespaces\n",
    "- We match for at least one whitespace with `\\s+` and replace by `' '`"
   ]
  },
  {
   "cell_type": "code",
   "execution_count": 42,
   "id": "1262a755-90dd-4d6c-b91d-fe1778c2051e",
   "metadata": {},
   "outputs": [
    {
     "data": {
      "text/plain": [
       "['S. M. Crook, A. P. Davison, R. A. McDougal, and H. E. Plesser',\n",
       " 'H. E. Plesser',\n",
       " 'N. P. Rougier, K. Hinsen, F. Alexandre, T. Arildsen, L. A. Barba, F. C. Benureau, C. T. Brown, P. d Buyl, O. Caglayan, A. P. Davison, M.-A. Delsuc, G. Detorakis, A. K. Diem, D. Drix, P. Enel, B. Girard, O. Guest, M. G. Hall, R. N. Henriques, X. Hinaut, K. S. Jaron, M. Khamassi, A. Klein, T. Manninen, P. Marchesi, D. McGlinn, C. Metzner, O. Petchey, H. E. Plesser, T. Poisot, K. Ram, Y. Ram, E. Roesch, C. Rossant, V. Rostami, A. Shifman, J. Stachelek, M. Stimberg, F. Stollmeier, F. Vaggi, G. Viejo, J. Vitay, A. E. Vostinar, R. Yurchak, and T. Zito',\n",
       " 'T. Heiberg, B. Kriener, T. Tetzlaff, A. Casti, G. T. Einevoll, and H. E. Plesser',\n",
       " 'S. Kunkel, T. C. Potjans, J. M. Eppler, H. E. Plesser, A. Morrison, and M. Diesmann',\n",
       " 'E. Nordlie, M.-O. Gewaltig, and H. E. Plesser',\n",
       " 'G. T. Einevoll and H. E. Plesser']"
      ]
     },
     "execution_count": 42,
     "metadata": {},
     "output_type": "execute_result"
    }
   ],
   "source": [
    "fix_ws = re.compile(r'\\s+')\n",
    "authors = [fix_ws.sub(' ', s) for s in authors]\n",
    "authors[:20:3]"
   ]
  },
  {
   "cell_type": "markdown",
   "id": "90315184-d577-4c41-9401-71f1102f4a84",
   "metadata": {},
   "source": [
    "- Now we want to split into individual author names\n",
    "    - Mostly separated by `,`\n",
    "    - Last author by `, and`\n",
    "    - Two authors by `and`\n",
    "- Build regex that handles all cases and use `re.split()`\n",
    "    - The regex has two parts, combined with or (`|`): if one part matches, it is a match\n",
    "    - First part: `, (?!and)`\n",
    "        - `(?!and)` is a *negative look-ahead*: matches only if no `and` follows, but does not \"consume\" the \"and\"\n",
    "        - This matches plain commas between authors\n",
    "    - Second part: `,? and `\n",
    "        - Matches in two-author case or before last author if more than two"
   ]
  },
  {
   "cell_type": "code",
   "execution_count": 43,
   "id": "dac3a1b1-b324-4dd0-9646-f92d4f8192be",
   "metadata": {},
   "outputs": [
    {
     "name": "stdout",
     "output_type": "stream",
     "text": [
      "['S. M. Crook', 'A. P. Davison', 'R. A. McDougal', 'H. E. Plesser']\n",
      "['H. E. Plesser']\n",
      "['N. P. Rougier', 'K. Hinsen', 'F. Alexandre', 'T. Arildsen', 'L. A. Barba', 'F. C. Benureau', 'C. T. Brown', 'P. d Buyl', 'O. Caglayan', 'A. P. Davison', 'M.-A. Delsuc', 'G. Detorakis', 'A. K. Diem', 'D. Drix', 'P. Enel', 'B. Girard', 'O. Guest', 'M. G. Hall', 'R. N. Henriques', 'X. Hinaut', 'K. S. Jaron', 'M. Khamassi', 'A. Klein', 'T. Manninen', 'P. Marchesi', 'D. McGlinn', 'C. Metzner', 'O. Petchey', 'H. E. Plesser', 'T. Poisot', 'K. Ram', 'Y. Ram', 'E. Roesch', 'C. Rossant', 'V. Rostami', 'A. Shifman', 'J. Stachelek', 'M. Stimberg', 'F. Stollmeier', 'F. Vaggi', 'G. Viejo', 'J. Vitay', 'A. E. Vostinar', 'R. Yurchak', 'T. Zito']\n",
      "['T. Heiberg', 'B. Kriener', 'T. Tetzlaff', 'A. Casti', 'G. T. Einevoll', 'H. E. Plesser']\n",
      "['S. Kunkel', 'T. C. Potjans', 'J. M. Eppler', 'H. E. Plesser', 'A. Morrison', 'M. Diesmann']\n",
      "['E. Nordlie', 'M.-O. Gewaltig', 'H. E. Plesser']\n",
      "['G. T. Einevoll', 'H. E. Plesser']\n"
     ]
    }
   ],
   "source": [
    "au_sep = re.compile(r', (?!and)|,? and ')\n",
    "author_names = [au_sep.split(s) for s in authors]\n",
    "\n",
    "for an in author_names[:20:3]:\n",
    "    print(an)"
   ]
  },
  {
   "cell_type": "markdown",
   "id": "d9265446-f963-4b44-bc2a-f971cac98c7a",
   "metadata": {},
   "source": [
    "- With that, author data is in a useful form and we could start analysing."
   ]
  },
  {
   "cell_type": "markdown",
   "id": "d11cb21f-4788-4f87-9e55-a1661a6c126d",
   "metadata": {},
   "source": [
    "-------------\n",
    "\n",
    "# Collecting data from a RESTful API\n",
    "\n",
    "- Many organisations provide data for use on the web\n",
    "- Some are very open, e.g., the Norwegian Meteorological Institute\n",
    "    - Only registration required\n",
    "- Others are more restrictive, e.g., the Norwegian Road Authority (Statens Vegvesen)\n",
    "    - Application required, access from specific IP address only\n",
    "- Yet others require secure authentication, e.g., Canvas\n",
    "- But general principles are the same for a very wide variety of services\n",
    "\n",
    "## Principles: Representational State Transfer (REST)\n",
    "\n",
    "- [Representational State Transfer (REST)](https://en.wikipedia.org/wiki/Representational_state_transfer) is a widely used technique for interaction between clients (web browsers, programs using data) and servers\n",
    "- It is a *stateless* protocol: the server handles each request independently\n",
    "- The server offers data through a *[Web Application Programming Interface (API)](https://en.wikipedia.org/wiki/Web_API)*, i.e., a set of rules describing how to request data and in which form data will be returned\n",
    "- Data is typically request by a `GET` request to the server sending a *[Uniform Resource Identifier (URI)](https://en.wikipedia.org/wiki/Uniform_Resource_Identifier), a URL with additional parts to specify which data are requested\n",
    "    - Example\n",
    "        https://frost.met.no/observations/v0.jsonld?sources=SN17850&elements=mean%28air_temperature+P1D%29&referencetime=2021-08-01%2F2021-09-22'\n",
    "    - The same with line breaks for clarity\n",
    "    ```\n",
    "    https://frost.met.no/observations/v0.jsonld\n",
    "         ?sources=SN17850\n",
    "            &elements=mean%28air_temperature+P1D%29\n",
    "            &referencetime=2021-08-01%2F2021-09-22'\n",
    "    ```\n",
    "    - URI Diagram (OmenBreeze, 2019, under CC-BY-SA 4.0) ![](https://upload.wikimedia.org/wikipedia/commons/d/d6/URI_syntax_diagram.svg)\n",
    "- Server returns data, most often in JSON format, but HTML or XML are also used\n",
    "\n",
    "## Obtaining meteorological data from frost.met.no\n",
    "\n",
    "- We will work with data the Norwegian Meteorological Service\n",
    "- You must register for a user ID to access their services\n",
    "    - Only email required\n",
    "    - Do this **before your exercise group session this week**!\n",
    "    - See https://frost.met.no/auth/requestCredentials.html\n",
    "    - We will only use open services, none that require OAUTH2 authentication\n",
    "- See the following information pages\n",
    "    - https://frost.met.no/index.html\n",
    "    - https://frost.met.no/termsofuse2.html\n",
    "    - https://frost.met.no/howto.html\n",
    "    - https://frost.met.no/api.html#/observations\n",
    "- The following example is based on https://frost.met.no/python_example.html\n",
    "- We use the `requests` package from above and Pandas to work with the data"
   ]
  },
  {
   "cell_type": "markdown",
   "id": "8bc9ef9f-8bb0-4f61-bb85-8782e609fc5b",
   "metadata": {},
   "source": [
    "### Your client id\n",
    "\n",
    "- To run the examples yourself, enter your client id below as\n",
    "```python\n",
    "client_id = 'xxxxx-yyyyy-.....'\n",
    "```\n",
    "- I read my client ID here from a file only to avoid revealing the ID with everyone\n",
    "- **Be careful about sharing IDs when sharing code or notebooks!**\n",
    "- Storing your ID in a separate file can be a good idea.\n",
    "- Be sure for **not commit IDs to source code repositories**!"
   ]
  },
  {
   "cell_type": "code",
   "execution_count": 44,
   "id": "f2f2d48d-c372-4249-a587-a474759d3479",
   "metadata": {},
   "outputs": [],
   "source": [
    "client_id = open('../plesser_id.txt').read().strip()"
   ]
  },
  {
   "cell_type": "markdown",
   "id": "62e9108f-12c1-459a-865c-46dd8b1cad3b",
   "metadata": {},
   "source": [
    "### Requesting data from Frost\n",
    "\n",
    "- Define \n",
    "    - where we want to send our request (same for all requests to Frost)\n",
    "    - what information we want\n",
    "- Here\n",
    "    - data for the station at Ås (SN17850)\n",
    "    - daily (P1D) mean air temperature\n",
    "    - from 1 January 2021 until yesterday"
   ]
  },
  {
   "cell_type": "code",
   "execution_count": 45,
   "id": "fc54c6dc-a1e7-4b75-9507-e39e77ac4d9f",
   "metadata": {},
   "outputs": [],
   "source": [
    "endpoint = 'https://frost.met.no/observations/v0.jsonld'\n",
    "parameters = {\n",
    "    'sources': 'SN17850',\n",
    "    'elements': 'mean(air_temperature P1D)',\n",
    "    'referencetime': '2021-01-01/2021-09-26',\n",
    "}"
   ]
  },
  {
   "cell_type": "markdown",
   "id": "d2c25906-5390-4f33-a098-8d63d44b211a",
   "metadata": {},
   "source": [
    "- Send request\n",
    "- `get()` combines endpoint and parameters into URI and handles identification\n",
    "- We check that all went well"
   ]
  },
  {
   "cell_type": "code",
   "execution_count": 46,
   "id": "189e3b43-e202-4362-849c-9d2a4669a7ef",
   "metadata": {},
   "outputs": [],
   "source": [
    "frost_response = requests.get(endpoint, parameters, auth=(client_id,' '))\n",
    "assert frost_response.status_code == 200"
   ]
  },
  {
   "cell_type": "markdown",
   "id": "795819bd-6a8e-482f-ac0a-9b52c8497e08",
   "metadata": {},
   "source": [
    "- We can look at the URL that `get()` created\n",
    "- Note that it does *not* contain the authetication information, which is exchanged securely behind the scenes"
   ]
  },
  {
   "cell_type": "code",
   "execution_count": 47,
   "id": "9fce6733-da4e-4f38-a05f-918b49334e2f",
   "metadata": {},
   "outputs": [
    {
     "data": {
      "text/plain": [
       "'https://frost.met.no/observations/v0.jsonld?sources=SN17850&elements=mean%28air_temperature+P1D%29&referencetime=2021-01-01%2F2021-09-26'"
      ]
     },
     "execution_count": 47,
     "metadata": {},
     "output_type": "execute_result"
    }
   ],
   "source": [
    "frost_response.url"
   ]
  },
  {
   "cell_type": "markdown",
   "id": "1cb1b0b2-75a3-400a-80d4-73748d7d6f0d",
   "metadata": {},
   "source": [
    "- We can look at header information "
   ]
  },
  {
   "cell_type": "code",
   "execution_count": 48,
   "id": "b424e514-1424-488c-a1b6-a95a1bd6c0da",
   "metadata": {},
   "outputs": [
    {
     "name": "stdout",
     "output_type": "stream",
     "text": [
      "Cache-Control   : max-age=-1\n",
      "Content-Length  : 241437\n",
      "Content-Type    : application/json\n",
      "Date            : Tue, 28 Sep 2021 06:52:15 GMT\n",
      "X-Frost         : cache-status=hits:0/misses:0/noncacheable:1\n"
     ]
    }
   ],
   "source": [
    "for header_name, header_value in frost_response.headers.items():\n",
    "    print(f'{header_name:16s}: {header_value}')"
   ]
  },
  {
   "cell_type": "markdown",
   "id": "12d12c11-8317-4026-909d-10066639ffba",
   "metadata": {},
   "source": [
    "- We see that we got the payload in JSON form\n",
    "- We extract the payload, which we get as a dictionary\n",
    "- We look at all entries except `data` directly"
   ]
  },
  {
   "cell_type": "code",
   "execution_count": 49,
   "id": "ff1f3b73-e701-45d6-8a9d-eaae2345ad1b",
   "metadata": {},
   "outputs": [],
   "source": [
    "frost_payload = frost_response.json()"
   ]
  },
  {
   "cell_type": "code",
   "execution_count": 50,
   "id": "9a3268a6-a151-4bfe-85ec-562d275dbb41",
   "metadata": {},
   "outputs": [
    {
     "data": {
      "text/plain": [
       "dict"
      ]
     },
     "execution_count": 50,
     "metadata": {},
     "output_type": "execute_result"
    }
   ],
   "source": [
    "type(frost_payload)"
   ]
  },
  {
   "cell_type": "code",
   "execution_count": 51,
   "id": "79489b5d-e118-4946-af17-a4e0f1cd9c28",
   "metadata": {},
   "outputs": [
    {
     "data": {
      "text/plain": [
       "dict_keys(['@context', '@type', 'apiVersion', 'license', 'createdAt', 'queryTime', 'currentItemCount', 'itemsPerPage', 'offset', 'totalItemCount', 'currentLink', 'data'])"
      ]
     },
     "execution_count": 51,
     "metadata": {},
     "output_type": "execute_result"
    }
   ],
   "source": [
    "frost_payload.keys()"
   ]
  },
  {
   "cell_type": "code",
   "execution_count": 52,
   "id": "e5ad0d60-b6e1-4ba3-89af-10821450d77d",
   "metadata": {},
   "outputs": [
    {
     "name": "stdout",
     "output_type": "stream",
     "text": [
      "@context        : https://frost.met.no/schema\n",
      "@type           : ObservationResponse\n",
      "apiVersion      : v0\n",
      "license         : https://creativecommons.org/licenses/by/3.0/no/\n",
      "createdAt       : 2021-09-28T06:52:15Z\n",
      "queryTime       : 0.526\n",
      "currentItemCount: 268\n",
      "itemsPerPage    : 268\n",
      "offset          : 0\n",
      "totalItemCount  : 268\n",
      "currentLink     : https://frost.met.no/observations/v0.jsonld?sources=SN17850&elements=mean%28air_temperature+P1D%29&referencetime=2021-01-01%2F2021-09-26\n"
     ]
    }
   ],
   "source": [
    "for field_name, field_value in frost_payload.items():\n",
    "    if field_name == 'data':\n",
    "        continue\n",
    "    print(f'{field_name:16s}: {field_value}')"
   ]
  },
  {
   "cell_type": "markdown",
   "id": "44cffc25-b03f-4df9-b548-4e4d065b3df2",
   "metadata": {},
   "source": [
    "- The most interesting information here is the license: [Creative Commons Byline v3.0](https://creativecommons.org/licenses/by/3.0/no/)\n",
    "- This means that we can quite freely use the data as long as we credit the Norwegian Meteorological Institute as source"
   ]
  },
  {
   "cell_type": "markdown",
   "id": "1ea2d32c-6e1b-4038-8db3-5a9a3b98ac0c",
   "metadata": {},
   "source": [
    "### Transform the data into a dataframe for analysis"
   ]
  },
  {
   "cell_type": "code",
   "execution_count": 53,
   "id": "b906e53b-901b-4a97-849c-e92027617a90",
   "metadata": {},
   "outputs": [],
   "source": [
    "import pandas as pd"
   ]
  },
  {
   "cell_type": "markdown",
   "id": "381d0c6e-10b0-4981-b465-fe2c78a9e0de",
   "metadata": {},
   "source": [
    "- We first inspect the `data` entry of the payload\n",
    "- It is large, so we look only at the beginning"
   ]
  },
  {
   "cell_type": "code",
   "execution_count": 54,
   "id": "c0b95d78-4404-411f-a0d1-422d3b8758e2",
   "metadata": {},
   "outputs": [
    {
     "data": {
      "text/plain": [
       "[{'sourceId': 'SN17850:0',\n",
       "  'referenceTime': '2021-01-01T00:00:00.000Z',\n",
       "  'observations': [{'elementId': 'mean(air_temperature P1D)',\n",
       "    'value': -0.3,\n",
       "    'unit': 'degC',\n",
       "    'level': {'levelType': 'height_above_ground', 'unit': 'm', 'value': 2},\n",
       "    'timeOffset': 'PT0H',\n",
       "    'timeResolution': 'P1D',\n",
       "    'timeSeriesId': 0,\n",
       "    'performanceCategory': 'C',\n",
       "    'exposureCategory': '1',\n",
       "    'qualityCode': 0},\n",
       "   {'elementId': 'mean(air_temperature P1D)',\n",
       "    'value': -0.4,\n",
       "    'unit': 'degC',\n",
       "    'level': {'levelType': 'height_above_ground', 'unit': 'm', 'value': 2},\n",
       "    'timeOffset': 'PT6H',\n",
       "    'timeResolution': 'P1D',\n",
       "    'timeSeriesId': 0,\n",
       "    'performanceCategory': 'C',\n",
       "    'exposureCategory': '1'}]},\n",
       " {'sourceId': 'SN17850:0',\n",
       "  'referenceTime': '2021-01-02T00:00:00.000Z',\n",
       "  'observations': [{'elementId': 'mean(air_temperature P1D)',\n",
       "    'value': -0.4,\n",
       "    'unit': 'degC',\n",
       "    'level': {'levelType': 'height_above_ground', 'unit': 'm', 'value': 2},\n",
       "    'timeOffset': 'PT0H',\n",
       "    'timeResolution': 'P1D',\n",
       "    'timeSeriesId': 0,\n",
       "    'performanceCategory': 'C',\n",
       "    'exposureCategory': '1',\n",
       "    'qualityCode': 0},\n",
       "   {'elementId': 'mean(air_temperature P1D)',\n",
       "    'value': -0.4,\n",
       "    'unit': 'degC',\n",
       "    'level': {'levelType': 'height_above_ground', 'unit': 'm', 'value': 2},\n",
       "    'timeOffset': 'PT6H',\n",
       "    'timeResolution': 'P1D',\n",
       "    'timeSeriesId': 0,\n",
       "    'performanceCategory': 'C',\n",
       "    'exposureCategory': '1'}]}]"
      ]
     },
     "execution_count": 54,
     "metadata": {},
     "output_type": "execute_result"
    }
   ],
   "source": [
    "frost_payload['data'][:2]"
   ]
  },
  {
   "cell_type": "markdown",
   "id": "653c798b-18e7-4316-88f3-40bf43d28a5c",
   "metadata": {},
   "source": [
    "- We have two entries, which are dictionaries\n",
    "    - Each entry starts with `sourceID`\n",
    "    - Each entry contains an `observations` array with two dictionaries\n",
    "        - Averages midnight-to-midnight (`'timeOffset': 'PT0H'`)\n",
    "        - Averages morning-to-morning (`'timeOffset': 'PT6H'`)\n",
    "    - We want only the first observation here\n",
    "    - For each observation, we want the `value` entry\n",
    "- Note that we could obtain quit complete information about this data from other entries\n",
    "- We us a list comprehension to extract just the data we want\n",
    "    - Time entries are converted to Pandas Timestamp objects"
   ]
  },
  {
   "cell_type": "code",
   "execution_count": 55,
   "id": "4e4afcaa-8906-4edc-8133-39588a3babb5",
   "metadata": {},
   "outputs": [
    {
     "data": {
      "text/plain": [
       "[{'Time': Timestamp('2021-01-01 00:00:00+0000', tz='UTC'), 'T_avg': -0.3},\n",
       " {'Time': Timestamp('2021-01-02 00:00:00+0000', tz='UTC'), 'T_avg': -0.4},\n",
       " {'Time': Timestamp('2021-01-03 00:00:00+0000', tz='UTC'), 'T_avg': -3},\n",
       " {'Time': Timestamp('2021-01-04 00:00:00+0000', tz='UTC'), 'T_avg': -4.6}]"
      ]
     },
     "execution_count": 55,
     "metadata": {},
     "output_type": "execute_result"
    }
   ],
   "source": [
    "temp_data = [{'Time' : pd.to_datetime(entry['referenceTime']), \n",
    "              'T_avg': entry['observations'][0]['value']}\n",
    "             for entry in frost_payload['data']]\n",
    "temp_data[:4]"
   ]
  },
  {
   "cell_type": "markdown",
   "id": "5dcd1f6d-b38b-4416-bbd9-d9d2961c60b3",
   "metadata": {},
   "source": [
    "- We can now convert this into a dataframe\n",
    "- We immmediately set the `Time` column as the index of the dataframe"
   ]
  },
  {
   "cell_type": "code",
   "execution_count": 56,
   "id": "dcf09719-883d-48d2-9efd-199a7e7b63cc",
   "metadata": {},
   "outputs": [],
   "source": [
    "T_data = pd.DataFrame.from_records(temp_data).set_index('Time')"
   ]
  },
  {
   "cell_type": "code",
   "execution_count": 57,
   "id": "a6e8b89e-394c-408e-99b6-4faf71ea0178",
   "metadata": {},
   "outputs": [
    {
     "data": {
      "text/html": [
       "<div>\n",
       "<style scoped>\n",
       "    .dataframe tbody tr th:only-of-type {\n",
       "        vertical-align: middle;\n",
       "    }\n",
       "\n",
       "    .dataframe tbody tr th {\n",
       "        vertical-align: top;\n",
       "    }\n",
       "\n",
       "    .dataframe thead th {\n",
       "        text-align: right;\n",
       "    }\n",
       "</style>\n",
       "<table border=\"1\" class=\"dataframe\">\n",
       "  <thead>\n",
       "    <tr style=\"text-align: right;\">\n",
       "      <th></th>\n",
       "      <th>T_avg</th>\n",
       "    </tr>\n",
       "    <tr>\n",
       "      <th>Time</th>\n",
       "      <th></th>\n",
       "    </tr>\n",
       "  </thead>\n",
       "  <tbody>\n",
       "    <tr>\n",
       "      <th>2021-01-01 00:00:00+00:00</th>\n",
       "      <td>-0.3</td>\n",
       "    </tr>\n",
       "    <tr>\n",
       "      <th>2021-01-02 00:00:00+00:00</th>\n",
       "      <td>-0.4</td>\n",
       "    </tr>\n",
       "    <tr>\n",
       "      <th>2021-01-03 00:00:00+00:00</th>\n",
       "      <td>-3.0</td>\n",
       "    </tr>\n",
       "    <tr>\n",
       "      <th>2021-01-04 00:00:00+00:00</th>\n",
       "      <td>-4.6</td>\n",
       "    </tr>\n",
       "    <tr>\n",
       "      <th>2021-01-05 00:00:00+00:00</th>\n",
       "      <td>-7.4</td>\n",
       "    </tr>\n",
       "  </tbody>\n",
       "</table>\n",
       "</div>"
      ],
      "text/plain": [
       "                           T_avg\n",
       "Time                            \n",
       "2021-01-01 00:00:00+00:00   -0.3\n",
       "2021-01-02 00:00:00+00:00   -0.4\n",
       "2021-01-03 00:00:00+00:00   -3.0\n",
       "2021-01-04 00:00:00+00:00   -4.6\n",
       "2021-01-05 00:00:00+00:00   -7.4"
      ]
     },
     "execution_count": 57,
     "metadata": {},
     "output_type": "execute_result"
    }
   ],
   "source": [
    "T_data.head()"
   ]
  },
  {
   "cell_type": "code",
   "execution_count": 58,
   "id": "334c2853-1e90-4605-8517-41c33163d7ee",
   "metadata": {},
   "outputs": [
    {
     "data": {
      "image/png": "[encoded data removed]",
      "text/plain": [
       "<Figure size 432x288 with 1 Axes>"
      ]
     },
     "metadata": {
      "needs_background": "light"
     },
     "output_type": "display_data"
    }
   ],
   "source": [
    "T_data.plot();"
   ]
  },
  {
   "cell_type": "markdown",
   "id": "41d0d680-b801-4f7d-878e-d0fbbdbe4214",
   "metadata": {},
   "source": [
    "--------------\n",
    "\n",
    "# Scripting to manage file collections\n",
    "\n",
    "- Python offers powerful tools to work with files\n",
    "- Can be very useful if you need to search, rename or move many files\n",
    "- We will focus on `pathlib`\n",
    "    - relatively new (since Python 3.4)\n",
    "    - supports Unix-like systems and Windows\n",
    "    - https://docs.python.org/3/library/pathlib.html\n",
    "    - https://www.python.org/dev/peps/pep-0428/\n",
    "- For an overview over other useful Python components for working with files, see https://docs.python.org/3/library/filesys.html\n",
    "\n",
    "### Terminology: POSIX\n",
    "\n",
    "- *Portable Operating System Interface*\n",
    "- IEEE standard for many features of operating systems, including file system\n",
    "- Most Unix and Unix-like operating systems, including macOS, are fully or mostly POSIX compliant\n",
    "- https://en.wikipedia.org/wiki/POSIX\n",
    "\n",
    "## What is a path?\n",
    "\n",
    "- A way (path) to a directory or file on our system\n",
    "- Each path has \n",
    "    - a starting point, \n",
    "    - steps (intermediate directories) and \n",
    "    - a destination (directory or file)\n",
    "- Absolute paths\n",
    "    - start from the root of the file system hierarchy or drive (Windows)\n",
    "    - POSIX: start with `/`\n",
    "    - Windows\n",
    "        - start with drive letter, e.g., `C:`\n",
    "        - start with `\\\\`\n",
    "    - point to a uniquely defined place in the file system\n",
    "- Relative paths\n",
    "    - start from the directory \"where we are\": *current working directory* (cwd)\n",
    "    - start with any other letter than `/` (Posix) or `\\` (Windows)\n",
    "    - starting point determines which file or directory a relative path points to\n",
    "- Special paths\n",
    "    - `.` is the current directory\n",
    "    - `..` is the parent of the current directory\n",
    "    - `~` is the user's home directory (Posix only)\n",
    "\n",
    "## Pathlib: Pure and concrete paths\n",
    "\n",
    "![](https://docs.python.org/3/_images/pathlib-inheritance.png)\n",
    "\n",
    "- The diagram shows a hierarchy of *classes*\n",
    "- `PurePath` is the most general path concept\n",
    "    - Pure paths cannot \"do\" anything with real files, they just represent the path\n",
    "    - `PurePosixPath` and `PureWindowsPath` are specialised for Posix resp Windows systems\n",
    "    - You can create any type of pure path on any system\n",
    "- `Path` is the general concept of a path connected to real files on disk\n",
    "    - Will in practice always be either `PosixPath` (Linux, macOS) or `WindowsPath`\n",
    "    - Via these *concrete* paths, you *can* work with and change files on disk\n",
    "    - You cannot create a `WindowsPath` under Linux/macOS and vice versa\n",
    "- We usually create a `Path` object. Pathlib makes sure it is handled correctly on the system we use.    \n",
    "\n",
    "## Warning: Danger Zone!\n",
    "\n",
    "Pathlib contains commands that can **delete files or directories**.\n",
    "\n",
    "We will not use them here\n",
    "\n",
    "## Working with Pathlib"
   ]
  },
  {
   "cell_type": "code",
   "execution_count": 59,
   "id": "a739533e-88af-47af-8ea7-7121ea026467",
   "metadata": {},
   "outputs": [],
   "source": [
    "from pathlib import Path"
   ]
  },
  {
   "cell_type": "markdown",
   "id": "8b0c148b-b8b4-455e-8943-f89d338ae158",
   "metadata": {},
   "source": [
    "- Look at the current working directory"
   ]
  },
  {
   "cell_type": "code",
   "execution_count": 60,
   "id": "0af8fdae-4a39-45d5-8a05-352b9923dec5",
   "metadata": {},
   "outputs": [
    {
     "data": {
      "text/plain": [
       "PosixPath('/Users/plesser/Courses/INF200/H2021/lectures/INF200_H21_L03')"
      ]
     },
     "execution_count": 60,
     "metadata": {},
     "output_type": "execute_result"
    }
   ],
   "source": [
    "cwd = Path.cwd()\n",
    "cwd"
   ]
  },
  {
   "cell_type": "markdown",
   "id": "06712cc8-0c27-43cb-a010-c6cd6de0a1aa",
   "metadata": {},
   "source": [
    "- This is an absolute path\n",
    "- Whether it is a `PosixPath` or `WindowsPath` depends on the system\n",
    "- We can check a few things"
   ]
  },
  {
   "cell_type": "code",
   "execution_count": 61,
   "id": "b8497d1c-62bb-4000-8d0c-00b101251e99",
   "metadata": {},
   "outputs": [
    {
     "data": {
      "text/plain": [
       "True"
      ]
     },
     "execution_count": 61,
     "metadata": {},
     "output_type": "execute_result"
    }
   ],
   "source": [
    "cwd.exists()"
   ]
  },
  {
   "cell_type": "code",
   "execution_count": 62,
   "id": "eb25c37a-3a83-4af6-a5aa-0f93f1e9805e",
   "metadata": {},
   "outputs": [
    {
     "data": {
      "text/plain": [
       "True"
      ]
     },
     "execution_count": 62,
     "metadata": {},
     "output_type": "execute_result"
    }
   ],
   "source": [
    "cwd.is_dir()"
   ]
  },
  {
   "cell_type": "code",
   "execution_count": 63,
   "id": "1a9a38f4-73d3-423e-9fbd-49c0e740d61f",
   "metadata": {},
   "outputs": [
    {
     "data": {
      "text/plain": [
       "False"
      ]
     },
     "execution_count": 63,
     "metadata": {},
     "output_type": "execute_result"
    }
   ],
   "source": [
    "cwd.is_file()"
   ]
  },
  {
   "cell_type": "code",
   "execution_count": 64,
   "id": "8b45e227-d8ca-4b84-8793-3be8bcbf04e5",
   "metadata": {},
   "outputs": [
    {
     "data": {
      "text/plain": [
       "True"
      ]
     },
     "execution_count": 64,
     "metadata": {},
     "output_type": "execute_result"
    }
   ],
   "source": [
    "cwd.is_absolute()"
   ]
  },
  {
   "cell_type": "code",
   "execution_count": 65,
   "id": "26e3d565-228d-468c-bf4c-60f50c160573",
   "metadata": {},
   "outputs": [
    {
     "data": {
      "text/plain": [
       "'file:///Users/plesser/Courses/INF200/H2021/lectures/INF200_H21_L03'"
      ]
     },
     "execution_count": 65,
     "metadata": {},
     "output_type": "execute_result"
    }
   ],
   "source": [
    "cwd.as_uri()"
   ]
  },
  {
   "cell_type": "markdown",
   "id": "3e5a82dd-4686-4cf9-b413-fa366ca41579",
   "metadata": {},
   "source": [
    "- We can get the directory directly above `cwd`\n",
    "- An all the parents up to the file system root"
   ]
  },
  {
   "cell_type": "code",
   "execution_count": 66,
   "id": "418c5f3d-4fcb-4e52-96a0-49e153a450ed",
   "metadata": {},
   "outputs": [
    {
     "data": {
      "text/plain": [
       "PosixPath('/Users/plesser/Courses/INF200/H2021/lectures')"
      ]
     },
     "execution_count": 66,
     "metadata": {},
     "output_type": "execute_result"
    }
   ],
   "source": [
    "cwd.parent"
   ]
  },
  {
   "cell_type": "code",
   "execution_count": 67,
   "id": "55e31e3d-2b8e-42af-bc6d-ec059c7efe7a",
   "metadata": {},
   "outputs": [
    {
     "data": {
      "text/plain": [
       "[PosixPath('/Users/plesser/Courses/INF200/H2021/lectures'),\n",
       " PosixPath('/Users/plesser/Courses/INF200/H2021'),\n",
       " PosixPath('/Users/plesser/Courses/INF200'),\n",
       " PosixPath('/Users/plesser/Courses'),\n",
       " PosixPath('/Users/plesser'),\n",
       " PosixPath('/Users'),\n",
       " PosixPath('/')]"
      ]
     },
     "execution_count": 67,
     "metadata": {},
     "output_type": "execute_result"
    }
   ],
   "source": [
    "list(cwd.parents)"
   ]
  },
  {
   "cell_type": "markdown",
   "id": "d3f7f8cb-a656-492b-a74c-6a53e552743e",
   "metadata": {},
   "source": [
    "- We see the parts of the path"
   ]
  },
  {
   "cell_type": "code",
   "execution_count": 68,
   "id": "4ecab46e-e81a-431f-b891-3c367716f1df",
   "metadata": {},
   "outputs": [
    {
     "data": {
      "text/plain": [
       "('/',\n",
       " 'Users',\n",
       " 'plesser',\n",
       " 'Courses',\n",
       " 'INF200',\n",
       " 'H2021',\n",
       " 'lectures',\n",
       " 'INF200_H21_L03')"
      ]
     },
     "execution_count": 68,
     "metadata": {},
     "output_type": "execute_result"
    }
   ],
   "source": [
    "cwd.parts"
   ]
  },
  {
   "cell_type": "markdown",
   "id": "7d5843b8-191d-4caf-a928-823342899674",
   "metadata": {},
   "source": [
    "- We can create a relative path for the current directory"
   ]
  },
  {
   "cell_type": "code",
   "execution_count": 69,
   "id": "df48e9bf-855e-493b-ae1b-c9b0d21debfa",
   "metadata": {},
   "outputs": [
    {
     "data": {
      "text/plain": [
       "PosixPath('.')"
      ]
     },
     "execution_count": 69,
     "metadata": {},
     "output_type": "execute_result"
    }
   ],
   "source": [
    "relpath = Path('.')\n",
    "relpath"
   ]
  },
  {
   "cell_type": "code",
   "execution_count": 70,
   "id": "10c5f849-29ee-4505-bf8e-df6e855df6ce",
   "metadata": {},
   "outputs": [
    {
     "data": {
      "text/plain": [
       "False"
      ]
     },
     "execution_count": 70,
     "metadata": {},
     "output_type": "execute_result"
    }
   ],
   "source": [
    "relpath.is_absolute()"
   ]
  },
  {
   "cell_type": "markdown",
   "id": "ca6d1091-c65b-4668-a3e5-c60341bddf77",
   "metadata": {},
   "source": [
    "- Pathlib can resolve this to an absolute path"
   ]
  },
  {
   "cell_type": "code",
   "execution_count": 71,
   "id": "43d9306a-9d83-4031-97c6-1272e80d476d",
   "metadata": {},
   "outputs": [
    {
     "data": {
      "text/plain": [
       "PosixPath('/Users/plesser/Courses/INF200/H2021/lectures/INF200_H21_L03')"
      ]
     },
     "execution_count": 71,
     "metadata": {},
     "output_type": "execute_result"
    }
   ],
   "source": [
    "relpath.resolve()"
   ]
  },
  {
   "cell_type": "markdown",
   "id": "84fa69d6-db75-4d38-a7c2-ff38f7792020",
   "metadata": {},
   "source": [
    "### Building paths\n",
    "\n",
    "- Do not build paths by string addition, use pathlib\n",
    "- This will ensure correct translation between `/` and `\\` across systems\n",
    "- Pathlib makes this very elegant, although the syntax looks confusing at first\n",
    "- We want to go from our current directory (for lecture 3) and get a path to the directory for lecture 2"
   ]
  },
  {
   "cell_type": "code",
   "execution_count": 72,
   "id": "4bea679a-1cf6-4819-89aa-af19e019f5fc",
   "metadata": {},
   "outputs": [
    {
     "data": {
      "text/plain": [
       "PosixPath('../INF200_H21_L02')"
      ]
     },
     "execution_count": 72,
     "metadata": {},
     "output_type": "execute_result"
    }
   ],
   "source": [
    "lec2 = Path('..') / 'INF200_H21_L02'\n",
    "lec2"
   ]
  },
  {
   "cell_type": "code",
   "execution_count": 73,
   "id": "1b98b113-dffa-4701-b159-80a2f71686bf",
   "metadata": {},
   "outputs": [
    {
     "data": {
      "text/plain": [
       "PosixPath('/Users/plesser/Courses/INF200/H2021/lectures/INF200_H21_L02')"
      ]
     },
     "execution_count": 73,
     "metadata": {},
     "output_type": "execute_result"
    }
   ],
   "source": [
    "lec2.resolve()"
   ]
  },
  {
   "cell_type": "markdown",
   "id": "a6075732-4aa8-4dce-8dd9-9469ae10f86c",
   "metadata": {},
   "source": [
    "### Globbing: Looking at directories and files\n",
    "\n",
    "- \"Globbing\" means to find all files or directories matching a pattern\n",
    "- `*` is a wildcard matching anything, `?` matches any single letter\n",
    "- `Path.glob()` returns a *generator*, we need to convert explicitly to a list or iterate"
   ]
  },
  {
   "cell_type": "code",
   "execution_count": 74,
   "id": "baea3895-e719-4097-bec1-78da1c175c79",
   "metadata": {},
   "outputs": [
    {
     "data": {
      "text/plain": [
       "[PosixPath('../INF200_H21_L02/weather_umb_2012.csv'),\n",
       " PosixPath('../INF200_H21_L02/books.csv')]"
      ]
     },
     "execution_count": 74,
     "metadata": {},
     "output_type": "execute_result"
    }
   ],
   "source": [
    "list(lec2.glob('*.csv'))"
   ]
  },
  {
   "cell_type": "code",
   "execution_count": 75,
   "id": "c6b12552-f4d1-4674-949f-b02c5a5e1df5",
   "metadata": {},
   "outputs": [
    {
     "name": "stdout",
     "output_type": "stream",
     "text": [
      "FILE../INF200_H21_L02/INF200_H21_L02.ipynb\n",
      "FILE../INF200_H21_L02/Aas dogn 2003-2012.xlsx\n",
      "FILE../INF200_H21_L02/students.txt\n",
      "FILE../INF200_H21_L02/weather_umb_2012.csv\n",
      "FILE../INF200_H21_L02/students_with_birthday.txt\n",
      "FILE../INF200_H21_L02/students_with_header.txt\n",
      "FILE../INF200_H21_L02/books.csv\n",
      "FILE../INF200_H21_L02/testfile_utf8.txt\n",
      "FILE../INF200_H21_L02/testfile_plain.txt\n",
      "DIR ../INF200_H21_L02/.ipynb_checkpoints\n",
      "FILE../INF200_H21_L02/testfile_latin1.txt\n",
      "FILE../INF200_H21_L02/testfile_win_utf8.txt\n"
     ]
    }
   ],
   "source": [
    "for item in lec2.glob('*'):\n",
    "    if item.is_file():\n",
    "        print('FILE', end='')\n",
    "    elif item.is_dir():\n",
    "        print('DIR ', end='')\n",
    "    else:\n",
    "        print('????', end='')\n",
    "    print(item)"
   ]
  },
  {
   "cell_type": "markdown",
   "id": "efa8af1a-0330-4451-9957-0ff4869ae424",
   "metadata": {},
   "source": [
    "- `**` is a wildcard indicating recursives search through subdirectories"
   ]
  },
  {
   "cell_type": "code",
   "execution_count": 76,
   "id": "d37e6d4d-9fbe-4f7f-a4d0-2cb1f0367e31",
   "metadata": {},
   "outputs": [
    {
     "data": {
      "text/plain": [
       "[PosixPath('../INF200_H21_L02/INF200_H21_L02.ipynb'),\n",
       " PosixPath('../INF200_H21_L02/Aas dogn 2003-2012.xlsx'),\n",
       " PosixPath('../INF200_H21_L02/students.txt'),\n",
       " PosixPath('../INF200_H21_L02/weather_umb_2012.csv'),\n",
       " PosixPath('../INF200_H21_L02/students_with_birthday.txt'),\n",
       " PosixPath('../INF200_H21_L02/students_with_header.txt'),\n",
       " PosixPath('../INF200_H21_L02/books.csv'),\n",
       " PosixPath('../INF200_H21_L02/testfile_utf8.txt'),\n",
       " PosixPath('../INF200_H21_L02/testfile_plain.txt'),\n",
       " PosixPath('../INF200_H21_L02/.ipynb_checkpoints'),\n",
       " PosixPath('../INF200_H21_L02/testfile_latin1.txt'),\n",
       " PosixPath('../INF200_H21_L02/testfile_win_utf8.txt'),\n",
       " PosixPath('../INF200_H21_L02/.ipynb_checkpoints/INF200_H21_L02-checkpoint.ipynb')]"
      ]
     },
     "execution_count": 76,
     "metadata": {},
     "output_type": "execute_result"
    }
   ],
   "source": [
    "list(lec2.glob('**/*'))"
   ]
  },
  {
   "cell_type": "markdown",
   "id": "56544a29-4142-43a6-a628-6e28b9b86865",
   "metadata": {},
   "source": [
    "### Combining globbing and regex to find certain files\n",
    "\n",
    "- We want to find all notebook files in all lecture material containing the word \"program\"\n",
    "    - We use globbing to find files, looking only at directories for `L01` and `L02`\n",
    "    - We then send each file through a regular expression search and print matching lines"
   ]
  },
  {
   "cell_type": "code",
   "execution_count": 77,
   "id": "48a63032-239d-4988-ac26-9ad53ef25c4f",
   "metadata": {},
   "outputs": [
    {
     "name": "stdout",
     "output_type": "stream",
     "text": [
      "../INF200_H21_L02/INF200_H21_L02.ipynb:     \"- For storing data from a Python program to b\n",
      "../INF200_H21_L01/INF200_H21_L01.ipynb:     \"## Why learn to program (well)?\\n\",\n",
      "\n",
      "../INF200_H21_L01/INF200_H21_L01.ipynb:     \"- the insurance company faults your program f\n",
      "../INF200_H21_L01/INF200_H21_L01.ipynb:     \"    -   program code and documentation count \n",
      "../INF200_H21_L01/INF200_H21_L01.ipynb:     \"The file `norway_municipalities_2017.csv` con\n",
      "../INF200_H21_L01/INF200_H21_L01.ipynb:     \"Write a program that works the same data as i\n"
     ]
    }
   ],
   "source": [
    "r_prog = re.compile(r'\\bprogram\\b', flags=re.IGNORECASE)\n",
    "for path in Path('..').glob('*_L0[12]/*.ipynb'):\n",
    "    if path.is_dir():\n",
    "        continue\n",
    "    with path.open() as file:\n",
    "        for line in file:\n",
    "            if r_prog.search(line):\n",
    "                print(f'{str(path):20s}: {line[:50]}')"
   ]
  },
  {
   "cell_type": "markdown",
   "id": "55569b2b-4deb-446d-8e7a-ff721b87c19d",
   "metadata": {},
   "source": [
    "### Moving and renaming files\n",
    "\n",
    "- In the following, we create some (meaningless) demonstration data in a nested set of directories\n",
    "- We then extract information from each file and rename and move the file\n",
    "- Directories `demo` and `demo_new` must not exist before the next cells are run. \n",
    "- **Any data in those directories may be affeced by this code!**"
   ]
  },
  {
   "cell_type": "markdown",
   "id": "0771622e-0a4b-437a-a834-0bd82dbc942f",
   "metadata": {},
   "source": [
    "#### Generate demo data"
   ]
  },
  {
   "cell_type": "code",
   "execution_count": 78,
   "id": "883ef711-9fb7-446a-9e1b-d2d9f1b5c7f2",
   "metadata": {},
   "outputs": [],
   "source": [
    "demo_dir = Path('demo')"
   ]
  },
  {
   "cell_type": "code",
   "execution_count": 79,
   "id": "c81f45a9-76c3-4bdb-8124-3dcfbf79a06f",
   "metadata": {},
   "outputs": [
    {
     "data": {
      "text/plain": [
       "False"
      ]
     },
     "execution_count": 79,
     "metadata": {},
     "output_type": "execute_result"
    }
   ],
   "source": [
    "demo_dir.exists()"
   ]
  },
  {
   "cell_type": "code",
   "execution_count": 80,
   "id": "87a20a0d-cada-4f92-a341-f2d573156d76",
   "metadata": {},
   "outputs": [],
   "source": [
    "demo_dir.mkdir()"
   ]
  },
  {
   "cell_type": "code",
   "execution_count": 81,
   "id": "93a801dc-d967-4286-ada8-3e382967107e",
   "metadata": {},
   "outputs": [],
   "source": [
    "for n in range(4):\n",
    "    sd = demo_dir / str(n)\n",
    "    sd.mkdir()\n",
    "    for fnum in range(3):\n",
    "        cname = chr(97 + fnum)\n",
    "        fname = sd / (cname + '.txt')\n",
    "        with open(fname, 'w') as f:\n",
    "            f.write(f'Customer nr: {n}\\nCustomer name: {cname}\\nPayload\\n')"
   ]
  },
  {
   "cell_type": "code",
   "execution_count": 82,
   "id": "2ad646f0-0e84-48ea-b9b0-3ee964e53f17",
   "metadata": {},
   "outputs": [
    {
     "data": {
      "text/plain": [
       "[PosixPath('demo/0'),\n",
       " PosixPath('demo/1'),\n",
       " PosixPath('demo/3'),\n",
       " PosixPath('demo/2'),\n",
       " PosixPath('demo/0/c.txt'),\n",
       " PosixPath('demo/0/b.txt'),\n",
       " PosixPath('demo/0/a.txt'),\n",
       " PosixPath('demo/1/c.txt'),\n",
       " PosixPath('demo/1/b.txt'),\n",
       " PosixPath('demo/1/a.txt'),\n",
       " PosixPath('demo/3/c.txt'),\n",
       " PosixPath('demo/3/b.txt'),\n",
       " PosixPath('demo/3/a.txt'),\n",
       " PosixPath('demo/2/c.txt'),\n",
       " PosixPath('demo/2/b.txt'),\n",
       " PosixPath('demo/2/a.txt')]"
      ]
     },
     "execution_count": 82,
     "metadata": {},
     "output_type": "execute_result"
    }
   ],
   "source": [
    "list(demo_dir.glob('**/*'))"
   ]
  },
  {
   "cell_type": "code",
   "execution_count": 83,
   "id": "dc1d4553-4762-4c52-a7db-acaf285b194e",
   "metadata": {},
   "outputs": [
    {
     "name": "stdout",
     "output_type": "stream",
     "text": [
      "Customer nr: 0\n",
      "Customer name: a\n",
      "Payload\n",
      "\n"
     ]
    }
   ],
   "source": [
    "print(open('demo/0/a.txt').read())"
   ]
  },
  {
   "cell_type": "markdown",
   "id": "ba343a5c-3dfb-4367-ba3f-0fb99bb9ce9f",
   "metadata": {},
   "source": [
    "#### Re-organise files\n",
    "\n",
    "- Files will be put to directory `demo_new`\n",
    "- This will be a flat directory containing all files\n",
    "- Each file will get a new name containing customer name and number"
   ]
  },
  {
   "cell_type": "code",
   "execution_count": 84,
   "id": "ffc04ee6-f3a1-4250-9ea2-714bdc1162ee",
   "metadata": {},
   "outputs": [],
   "source": [
    "new_dir = Path('demo_new')\n",
    "new_dir.mkdir()\n",
    "\n",
    "for old_name in demo_dir.glob('**/*.txt'):\n",
    "    with old_name.open() as f:\n",
    "        c_num = int(f.readline().split(':')[-1].strip())\n",
    "        c_name = f.readline().split(':')[-1].strip()\n",
    "    new_name = new_dir / f'invoice_{c_name:s}_{c_num:03d}.dat'\n",
    "    old_name.rename(new_name)"
   ]
  },
  {
   "cell_type": "markdown",
   "id": "7583fa2b-2281-423f-ab3c-3f28cbc6bfa2",
   "metadata": {},
   "source": [
    "- We can now look at the content of the new directory\n",
    "- All files have been renamed\n",
    "- **If you do this for the first time, check that the files are intact and the correct files!**"
   ]
  },
  {
   "cell_type": "code",
   "execution_count": 85,
   "id": "54504b71-cd3c-4e16-9c66-74d8bb97ba1b",
   "metadata": {},
   "outputs": [
    {
     "data": {
      "text/plain": [
       "[PosixPath('demo_new/invoice_c_001.dat'),\n",
       " PosixPath('demo_new/invoice_c_000.dat'),\n",
       " PosixPath('demo_new/invoice_c_002.dat'),\n",
       " PosixPath('demo_new/invoice_c_003.dat'),\n",
       " PosixPath('demo_new/invoice_b_002.dat'),\n",
       " PosixPath('demo_new/invoice_b_003.dat'),\n",
       " PosixPath('demo_new/invoice_b_001.dat'),\n",
       " PosixPath('demo_new/invoice_b_000.dat'),\n",
       " PosixPath('demo_new/invoice_a_001.dat'),\n",
       " PosixPath('demo_new/invoice_a_000.dat'),\n",
       " PosixPath('demo_new/invoice_a_002.dat'),\n",
       " PosixPath('demo_new/invoice_a_003.dat')]"
      ]
     },
     "execution_count": 85,
     "metadata": {},
     "output_type": "execute_result"
    }
   ],
   "source": [
    "list(new_dir.glob('**/*'))"
   ]
  },
  {
   "cell_type": "markdown",
   "id": "0fae2b6a-fd6a-4cf4-bdc9-0ce9c11f6a42",
   "metadata": {},
   "source": [
    "- The original directory does not contain any files any more, just empty subdirectories."
   ]
  },
  {
   "cell_type": "code",
   "execution_count": 86,
   "id": "e070f3a6-04c6-416d-aa20-d3b129ec68d6",
   "metadata": {},
   "outputs": [
    {
     "data": {
      "text/plain": [
       "[PosixPath('demo/0'),\n",
       " PosixPath('demo/1'),\n",
       " PosixPath('demo/3'),\n",
       " PosixPath('demo/2')]"
      ]
     },
     "execution_count": 86,
     "metadata": {},
     "output_type": "execute_result"
    }
   ],
   "source": [
    "list(demo_dir.glob('**/*'))"
   ]
  },
  {
   "cell_type": "code",
   "execution_count": null,
   "id": "00c832eb-9491-44bf-8e64-6aaacad01861",
   "metadata": {},
   "outputs": [],
   "source": []
  }
 ],
 "metadata": {
  "kernelspec": {
   "display_name": "Python 3 (ipykernel)",
   "language": "python",
   "name": "python3"
  },
  "language_info": {
   "codemirror_mode": {
    "name": "ipython",
    "version": 3
   },
   "file_extension": ".py",
   "mimetype": "text/x-python",
   "name": "python",
   "nbconvert_exporter": "python",
   "pygments_lexer": "ipython3",
   "version": "3.8.11"
  }
 },
 "nbformat": 4,
 "nbformat_minor": 5
}
