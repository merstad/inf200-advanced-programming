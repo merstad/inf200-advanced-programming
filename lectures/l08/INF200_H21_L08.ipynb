{
 "cells": [
  {
   "cell_type": "markdown",
   "id": "d423d94e-5864-4901-b69f-89b82cca8ebb",
   "metadata": {},
   "source": [
    "\n",
    "INF200 Lecture No 8\n",
    "===================\n",
    "\n",
    "***Hans Ekkehard Plesser, NMBU, 1 November 2021***\n",
    "\n",
    "# Today's topics\n",
    "\n",
    "* Towards object-oriented programming\n",
    "    * From script to class: brief recap of Lecture 7\n",
    "    * Implementing all parts of C&L simulation as classes\n",
    "    * Implementing varied behavior through inheritance\n",
    "* Object-oriented programming\n",
    "    * Fundamentals\n",
    "        - Principles\n",
    "        - Terminology\n",
    "    * Key techniques\n",
    "        - Classes and instances\n",
    "        - Classes and subclasses\n",
    "    * Examples\n",
    "        - Combine data an operations\n",
    "        - Modify behavior\n",
    "        - Hide implementation details\n",
    "    * Names, namespaces and scopes\n",
    "    * Copying objects"
   ]
  },
  {
   "cell_type": "markdown",
   "id": "567a887f-59cb-4a41-aa1e-7e61cd2d63fa",
   "metadata": {},
   "source": [
    "-------\n",
    "\n",
    "# Towards object-oriented programming\n",
    "\n",
    "## Recap from Lecture 7\n",
    "<img src=\"../l07/simple_board.png\" width=\"60%\">\n",
    "\n"
   ]
  },
  {
   "cell_type": "markdown",
   "id": "a5e6d3d8-9382-42d8-9432-100ef4359639",
   "metadata": {},
   "source": [
    "### Starting point: poorly written procedural code"
   ]
  },
  {
   "cell_type": "code",
   "execution_count": 1,
   "id": "83cbc4d6-576c-4329-8ddc-bbe7fa930cd4",
   "metadata": {},
   "outputs": [
    {
     "name": "stdout",
     "output_type": "stream",
     "text": [
      "Shortest game duration:    3\n",
      "Mean game duration    :    7.8 ± 3.4\n",
      "Longest game duration :   25\n"
     ]
    },
    {
     "data": {
      "image/png": "[encoded data removed]",
      "text/plain": [
       "<Figure size 432x288 with 1 Axes>"
      ]
     },
     "metadata": {
      "needs_background": "light"
     },
     "output_type": "display_data"
    }
   ],
   "source": [
    "# %load ../l07/chutes_initial.py\n",
    "import random\n",
    "import matplotlib.pyplot as plt\n",
    "import numpy as np\n",
    "\n",
    "random.seed(12345679)\n",
    "\n",
    "res = []\n",
    "\n",
    "for _ in range(1000):\n",
    "    s = 0\n",
    "    p = 0\n",
    "    while p < 25:\n",
    "        p += random.randint(1, 6)\n",
    "        if p == 1:\n",
    "            p = 12\n",
    "        elif p == 13:\n",
    "            p = 22\n",
    "        elif p == 14:\n",
    "            p = 3\n",
    "        elif p == 20:\n",
    "            p = 8\n",
    "        s += 1\n",
    "    res.append(s)\n",
    "\n",
    "print(f'Shortest game duration: {min(res):4d}')\n",
    "print(f'Mean game duration    : {np.mean(res):6.1f} ± {np.std(res):.1f}')\n",
    "print(f'Longest game duration : {max(res):4d}')\n",
    "\n",
    "hv, hb = np.histogram(res, bins=np.arange(0, max(res)))\n",
    "plt.step(hb[:-1], hv)\n",
    "plt.show()"
   ]
  },
  {
   "cell_type": "markdown",
   "id": "e1b4957e-333e-413e-a8e6-358852232f62",
   "metadata": {},
   "source": [
    "### First improvement: Separation of concerns\n",
    "\n",
    "- Divide code into parts (functions) with specific tasks\n",
    "- Named units make for more expressive code\n",
    "- Smaller units are easier to maintain\n",
    "- We can reason about and test every part separately\n",
    "- Remember: We write code for humans, not for computers!\n",
    "- File: [l07/chutes_functions.py](../l07/chutes_functions.py)\n",
    "\n",
    "### Second improvement: Represent player as record\n",
    "\n",
    "- Collect all information about a player in a record\n",
    "- Fewer individual pieces of data to pass around\n",
    "- Easier to add more information about a player: requires changes only in code working \"inside\" the record\n",
    "- Allows for compact and expressive code\n",
    "\n",
    "```python\n",
    "    player = {\"steps\": 0, \"position\": 0}\n",
    "    while not goal_reached(player[\"position\"]):\n",
    "        move_player(player)\n",
    "    return player[\"steps\"]\n",
    "```\n",
    "\n",
    "- File: [l07/chutes_funcs_recs.py](../l07/chutes_funcs_recs.py)\n",
    "\n",
    "### Third improvement: Represent player as class\n",
    "\n",
    "- Combine data (record) and operations on data (functions) into a class\n",
    "- All now \"in one place\"\n",
    "- Even more compact and expressive code\n",
    "\n",
    "```python\n",
    "    player = Player()\n",
    "    while not goal_reached(player.position):\n",
    "        player.move()\n",
    "    return player.steps        \n",
    "```\n",
    "\n",
    "- Code using `Player` can ignore all internal details of `Player` implementation\n",
    "- File: [l07/chutes_classes.py](../l07/chutes_classes.py)\n",
    "\n",
    "### Comparison: Record-based vs class-based implementation\n",
    "\n",
    "- `self` represents instance (essentially the dictionary or record)\n",
    "- field access via `.name` instead of `[\"name\"]`\n",
    "- method (function in class) automatically gets access to `self`\n",
    "- instance is created by `__init__()` when calling `Player()`\n",
    "\n",
    "#### Record-based\n",
    "\n",
    "```python\n",
    "def move_player(player_rec):\n",
    "    player_rec[\"position\"] += random.randint(1, 6)\n",
    "    player_rec[\"position\"] = adjust_position(player_rec[\"position\"])\n",
    "    player_rec[\"steps\"] += 1\n",
    "\n",
    "def one_game():\n",
    "    player = {\"steps\": 0, \"position\": 0}\n",
    "    while not goal_reached(player[\"position\"]):\n",
    "        move_player(player)\n",
    "    return player[\"steps\"]\n",
    "```\n",
    "\n",
    "#### Class-based\n",
    "\n",
    "```python\n",
    "class Player:\n",
    "    def __init__(self):\n",
    "        self.position = 0\n",
    "        self.steps = 0\n",
    "\n",
    "    def move(self):\n",
    "        self.position += random.randint(1, 6)\n",
    "        self.position = adjust_position(self.position)\n",
    "        self.steps += 1\n",
    "\n",
    "def one_game():\n",
    "    player = Player()\n",
    "    while not goal_reached(player.position):\n",
    "        player.move()\n",
    "    return player.steps\n",
    "```"
   ]
  },
  {
   "cell_type": "markdown",
   "id": "32ddc40f-f767-48a6-b5fa-bc774501ebb3",
   "metadata": {},
   "source": [
    "### What are benefits of using a class?\n",
    "\n",
    "- Record-based solution keeps data together, but\n",
    "    - records need to be moved around\n",
    "    - code handling records can be spread\n",
    "    - code handling on part of the problem can be spread\n",
    "- Key idea in object-oriented programming\n",
    "    - Collect data describing a given part of a problem and operations on this data into one unit.\n",
    "    - This unit is a *class*: A description of data *fields* and *methods* (functions) to work on them.\n",
    "    - Can be thought of as \"dictionary with custom functions\"\n",
    "        - e.g. player \"dictionary\" with a move function working on the dict\n",
    "    - A class is a data type: it defines rules \n",
    "    - Acutal records are called *instances* (or *objects*)\n",
    "- Keeping control\n",
    "    - Create each instance in a consistent state\n",
    "    - Each method\n",
    "        - relies on instance being in a consistent state when it starts\n",
    "        - guarantees that instant is in a consistent state when it finishes\n",
    "    - We can check every method on its own!"
   ]
  },
  {
   "cell_type": "markdown",
   "id": "60a95b72-6a49-4b3c-a3e0-674e4afa0e00",
   "metadata": {},
   "source": [
    "---\n",
    "\n",
    "## Implementing all parts of Chutes & Ladders as classes\n",
    "\n",
    "- Create a class for each concept with a field for relevant data\n",
    "    - Player\n",
    "        - Fields (data)\n",
    "            - position\n",
    "            - step\n",
    "        - Methods (operations)\n",
    "            - move\n",
    "    - Board\n",
    "        - Fields\n",
    "        - Methods\n",
    "    - Game\n",
    "        - Fields\n",
    "        - Methods\n",
    "    - Experiment\n",
    "        - Fields\n",
    "        - Methods\n",
    " - Design decision: How to we implement the relation between players and board?\n",
    "\n",
    "- Live programming in PyCharm"
   ]
  },
  {
   "cell_type": "markdown",
   "id": "8eafb98c-6967-49f0-80d6-415bb9c97389",
   "metadata": {},
   "source": [
    "---\n",
    "## Implementing varied behavior\n",
    "\n",
    "- We will live-code in PyCharm\n",
    "\n",
    "### Multiple players\n",
    "\n",
    "- An flexible solution for any number of players\n",
    "\n",
    "### Different types of boards\n",
    "    \n",
    "- Flexible goal location\n",
    "- Flexible chutes and ladders\n",
    "- Board specifications from file\n",
    "- Blocking goal (must hit goal exactly, else stay in place)\n",
    "- Reflecting goal (move all eyes rolled, turning around at goal if necessary)\n",
    "\n",
    "### Different types of players\n",
    "\n",
    "- Take extra steps next time after going up a ladder\n",
    "- Take fewer steps next time after going up a ladder\n"
   ]
  },
  {
   "cell_type": "markdown",
   "id": "5611b418-93ce-4b44-beb0-e06775a08f86",
   "metadata": {},
   "source": [
    "------\n",
    "\n",
    "# Object-oriented programming\n",
    "\n",
    "- Invented in the 1960s **in Norway**\n",
    "- First OO language: [Simula](https://en.wikipedia.org/wiki/Simula) by [Kristen Nygaard](https://en.wikipedia.org/wiki/Kristen_Nygaard) and [Ole-Johan Dahl](https://en.wikipedia.org/wiki/Ole-Johan_Dahl)\n",
    "- Important early OO-language: [Smalltalk](https://en.wikipedia.org/wiki/Smalltalk) (1972)\n",
    "- First industrial-strength OO-language: [C++](https://en.wikipedia.org/wiki/C%2B%2B) by [Bjarne Stroustrup](https://en.wikipedia.org/wiki/Bjarne_Stroustrup) (1983, 1990, C++98, C++11, C++14, C++17, C++20)\n",
    "- Important OO-languages today\n",
    "    - General: [C++](https://en.wikipedia.org/wiki/C%2B%2B), <a href=https://en.wikipedia.org/wiki/Java_(programming_language)>Java</a>, \n",
    "<a href=https://en.wikipedia.org/wiki/Python_(programming_language)>Python</a>    \n",
    "    - Mostly for web: [PHP](https://en.wikipedia.org/wiki/PHP), [JavaScript](https://en.wikipedia.org/wiki/JavaScript), \n",
    "    <a href=https://en.wikipedia.org/wiki/Ruby_(programming_language)>Ruby</a>\n",
    "    - Vendor specific: \n",
    "    <a href=https://en.wikipedia.org/wiki/C_Sharp_(programming_language)>C#</a>,\n",
    "[Objective-C](https://en.wikipedia.org/wiki/Objective-C), <a href=https://en.wikipedia.org/wiki/Swift_(programming_language)>Swift</a>\n",
    "    - and more \n",
    "- Most of these languages are multi-paradigm languages supporting also other programming styles than strict object-oriented programming\n",
    "- Other [programming paradigms](https://en.wikipedia.org/wiki/Programming_paradigm) include, e.g. \n",
    "    - procedural\n",
    "    - functional\n",
    "    - generic"
   ]
  },
  {
   "cell_type": "markdown",
   "id": "0c56d058-ea3b-43ff-a9ca-84b245bced36",
   "metadata": {},
   "source": [
    "    \n",
    "##  Fundamentals\n",
    "\n",
    "### Idea 1: Combine data and operations into new data types\n",
    "\n",
    "- A (user-defined) data type is a *class*\n",
    "- Each *object* is an *instance* of a class\n",
    "- Classes and objects have *attributes*\n",
    "    - *Methods* are functions operation on objects\n",
    "    - *Fields* are data (variables) contained in objects\n",
    "    - Methods and fields are also known as *member functions* and *member variables*\n",
    "    \n",
    "### Idea 2: Allow modification and extension of data types\n",
    "\n",
    "- *Inheritance*: Define a *subclass* based on a *superclass* and adapt or extend it\n",
    "\n",
    "### Idea 3: Expose an interface, hide the implementation\n",
    "\n",
    "- *Interface*: Methods \"advertised\" for public use\n",
    "    - Provide access to functionality of the class\n",
    "    - Should be stable over time\n",
    "    - Should be well documented\n",
    "    - Should be well tested\n",
    "- *Implementation*: Does the actual work\n",
    "    - User should not need to know about it\n",
    "    - Can change at any time (refactoring)\n",
    "    - Changes should not affect behavior\n",
    "- Also know as *encapsulation*\n",
    "\n",
    "### Terminology\n",
    "\n",
    "#### Data type\n",
    "A set of rules specifying\n",
    "- how to interpret chunks of data (bits and bytes) in computer memory\n",
    "- what operations are permitted on this data (syntax/grammar)\n",
    "- what these operations do (semantics/meaning)\n",
    "\n",
    "#### Object\n",
    "A chunk of data at a given address in computer memory with a data type. An object can be created, destroyed, and possibly modified.\n",
    "\n",
    "#### Class\n",
    "A class is a (user-defined) data type. The class definition specifies\n",
    "- which data an object of the class contains\n",
    "- which operations may be performed on objects of the class\n",
    "\n",
    "#### Instance\n",
    "An instance of a class is an object that has the class as its data type.\n",
    "\n",
    "#### Method (member function)\n",
    "Functions defined in a class which operate on objects of the class are *methods* of the class.\n",
    "\n",
    "#### Data attribute (member variable, data member, field)\n",
    "Variables that are part of instances of a class, i.e., which contain the data in an object, are calles *data attributes*.\n",
    "\n",
    "#### Inheritance\n",
    "Create specialized classes from general ones\n",
    "\n",
    "#### Encapsulation\n",
    "Hide implementation details from the outside world"
   ]
  },
  {
   "cell_type": "markdown",
   "id": "2239196d-389f-48f5-a1ca-138c491371f2",
   "metadata": {},
   "source": [
    "----\n",
    "## Key techniques\n",
    "\n",
    "### Classes and instances\n",
    "\n",
    "#### Defining a class\n",
    "\n",
    "```python\n",
    "class ClassName:\n",
    "    \"\"\"\n",
    "    Class documentation.\n",
    "    \"\"\"\n",
    "    \n",
    "    def __init__(self, <constructor arguments>):\n",
    "        \"\"\"\n",
    "        Documentation of constructor arguments.\n",
    "        \"\"\"\n",
    "        # constructor body\n",
    "        \n",
    "    # class body\n",
    " ```\n",
    "\n",
    "- Defines new class as data type\n",
    "- Class names begin with capital letter and use camel-casing\n",
    "- The new class is itself an object of data type `type`\n",
    "\n",
    "#### Creating an instance\n",
    "```python\n",
    "obj = ClassName(<constructor arguments>)\n",
    "```\n",
    "\n",
    "- Create one instance (object) of class, initializing data members according to arguments\n",
    "\n",
    "#### Destroying an instance\n",
    "Handled automatically by Python's garbage collection mechanism when no references left.\n",
    "\n",
    "#### The *constructor*: `__init__()`\n",
    "\n",
    "- The name `__init__` has a special meaning in Python (also other `__...__` names in Python)\n",
    "- `__init__(self, ...)` method is the *constructor*\n",
    "    - Is called automatically by Python every time we create a class instance\n",
    "    - Initializes data members of each class instance\n",
    "    - In that way, someone reading the code will know from the constructor which data members to expect\n",
    "    - Initialize members with `None`, empty lists or similar to ensure initial state is self-consistent\n",
    "- Constructor should refuse to construct instances with meaningless values, e.g., a circle with negative radius\n",
    "\n",
    "**Overall idea: Construct objects with consistent state and guarantee that all methods maintain objects in a consistent state.**    \n",
    "\n",
    "\n",
    "#### Docstrings\n",
    "\n",
    "- Class docstring: describe purpose of class itself\n",
    "- Constructor docstring: describe arguments\n",
    "- Help functions will typically display constructor doc together with class doc\n",
    "\n",
    "---------\n",
    "### Example: Circles and rectangles"
   ]
  },
  {
   "cell_type": "code",
   "execution_count": 2,
   "id": "a494e017-5200-49cf-b87f-47866899c629",
   "metadata": {},
   "outputs": [],
   "source": [
    "import math"
   ]
  },
  {
   "cell_type": "code",
   "execution_count": 3,
   "id": "10f199d7-94fc-4183-b0ac-63b3c42d01dc",
   "metadata": {},
   "outputs": [],
   "source": [
    "class Circle:\n",
    "    \"\"\"Circle shape.\"\"\"\n",
    "    \n",
    "    def __init__(self, center, radius):\n",
    "        \"\"\"\n",
    "        center: co-coordinates of circle center\n",
    "        radius: radius of circle (>= 0 required)\n",
    "        \"\"\"\n",
    "        \n",
    "        assert radius >= 0, \"Radius must be strictly positive\"\n",
    "        self.ctr = center\n",
    "        self.rad = radius\n",
    "        \n",
    "    def area(self):\n",
    "        \"\"\"Area of circle.\"\"\"\n",
    "        return math.pi * self.rad**2"
   ]
  },
  {
   "cell_type": "code",
   "execution_count": 4,
   "id": "3077764e-e164-47ed-aac5-8e5f119b20bc",
   "metadata": {},
   "outputs": [],
   "source": [
    "class Rectangle:\n",
    "    def __init__(self, lower_left, upper_right):\n",
    "        self.ll = lower_left\n",
    "        self.ur = upper_right\n",
    "        \n",
    "    def area(self):\n",
    "        return (self.ur[0] - self.ll[0]) * (self.ur[1] - self.ll[1])"
   ]
  },
  {
   "cell_type": "code",
   "execution_count": 5,
   "id": "5cc99719-aea5-49fa-bcb3-49759b016bc6",
   "metadata": {},
   "outputs": [
    {
     "data": {
      "text/plain": [
       "type"
      ]
     },
     "execution_count": 5,
     "metadata": {},
     "output_type": "execute_result"
    }
   ],
   "source": [
    "type(Circle)"
   ]
  },
  {
   "cell_type": "code",
   "execution_count": 6,
   "id": "85a3270a-4de0-4e41-8845-8beb853f0dfb",
   "metadata": {},
   "outputs": [
    {
     "data": {
      "text/plain": [
       "type"
      ]
     },
     "execution_count": 6,
     "metadata": {},
     "output_type": "execute_result"
    }
   ],
   "source": [
    "type(Rectangle)"
   ]
  },
  {
   "cell_type": "code",
   "execution_count": 7,
   "id": "b6c61a2c-f6da-4a8c-8640-ae0ea3029da9",
   "metadata": {},
   "outputs": [
    {
     "data": {
      "text/plain": [
       "\u001b[0;31mInit signature:\u001b[0m \u001b[0mCircle\u001b[0m\u001b[0;34m(\u001b[0m\u001b[0mcenter\u001b[0m\u001b[0;34m,\u001b[0m \u001b[0mradius\u001b[0m\u001b[0;34m)\u001b[0m\u001b[0;34m\u001b[0m\u001b[0;34m\u001b[0m\u001b[0m\n",
       "\u001b[0;31mDocstring:\u001b[0m      Circle shape.\n",
       "\u001b[0;31mInit docstring:\u001b[0m\n",
       "center: co-coordinates of circle center\n",
       "radius: radius of circle (>= 0 required)\n",
       "\u001b[0;31mType:\u001b[0m           type\n",
       "\u001b[0;31mSubclasses:\u001b[0m     \n"
      ]
     },
     "metadata": {},
     "output_type": "display_data"
    }
   ],
   "source": [
    "Circle?"
   ]
  },
  {
   "cell_type": "markdown",
   "id": "e3c93bf6-f109-433b-9d94-f79ae5746246",
   "metadata": {},
   "source": [
    "- We create two instances and look at their type an id"
   ]
  },
  {
   "cell_type": "code",
   "execution_count": 8,
   "id": "c90cf276-db56-429a-8c93-8e6cb6168e0d",
   "metadata": {},
   "outputs": [
    {
     "name": "stdout",
     "output_type": "stream",
     "text": [
      "<__main__.Circle object at 0x7f921991ca00> <class '__main__.Circle'> 0x7f921991ca00\n",
      "<__main__.Circle object at 0x7f921991c9a0> <class '__main__.Circle'> 0x7f921991c9a0\n"
     ]
    }
   ],
   "source": [
    "c1 = Circle((0, 0), 10)\n",
    "c2 = Circle((0, 0), 20)\n",
    "print(c1, type(c1), hex(id(c1)))\n",
    "print(c2, type(c2), hex(id(c2)))"
   ]
  },
  {
   "cell_type": "markdown",
   "id": "6f98b990-420f-4237-9ad2-b402bdf40727",
   "metadata": {},
   "source": [
    "- We can query the area of the circles"
   ]
  },
  {
   "cell_type": "code",
   "execution_count": 9,
   "id": "855589cc-c3f4-44df-af1e-2cde62765795",
   "metadata": {},
   "outputs": [
    {
     "data": {
      "text/plain": [
       "(314.1592653589793, 1256.6370614359173)"
      ]
     },
     "execution_count": 9,
     "metadata": {},
     "output_type": "execute_result"
    }
   ],
   "source": [
    "c1.area(), c2.area()"
   ]
  },
  {
   "cell_type": "markdown",
   "id": "0acaca6a-6519-4873-b0b3-488e1ec7ca83",
   "metadata": {},
   "source": [
    "- We cannot create circles with \"illegal\" specs\"\n",
    "- What would happen if we did not have the protection in place?"
   ]
  },
  {
   "cell_type": "code",
   "execution_count": 10,
   "id": "ffb05a5b-bf8f-4feb-9c74-aef594a64331",
   "metadata": {},
   "outputs": [
    {
     "ename": "AssertionError",
     "evalue": "Radius must be strictly positive",
     "output_type": "error",
     "traceback": [
      "\u001b[0;31m---------------------------------------------------------------------------\u001b[0m",
      "\u001b[0;31mAssertionError\u001b[0m                            Traceback (most recent call last)",
      "\u001b[0;32m/var/folders/j5/971zg6qd58n070p_ds781hzm0000gn/T/ipykernel_82838/4235232341.py\u001b[0m in \u001b[0;36m<module>\u001b[0;34m\u001b[0m\n\u001b[0;32m----> 1\u001b[0;31m \u001b[0mCircle\u001b[0m\u001b[0;34m(\u001b[0m\u001b[0;34m(\u001b[0m\u001b[0;36m1\u001b[0m\u001b[0;34m,\u001b[0m \u001b[0;36m0\u001b[0m\u001b[0;34m)\u001b[0m\u001b[0;34m,\u001b[0m \u001b[0;34m-\u001b[0m\u001b[0;36m1\u001b[0m\u001b[0;34m)\u001b[0m\u001b[0;34m\u001b[0m\u001b[0;34m\u001b[0m\u001b[0m\n\u001b[0m",
      "\u001b[0;32m/var/folders/j5/971zg6qd58n070p_ds781hzm0000gn/T/ipykernel_82838/3473418739.py\u001b[0m in \u001b[0;36m__init__\u001b[0;34m(self, center, radius)\u001b[0m\n\u001b[1;32m      8\u001b[0m         \"\"\"\n\u001b[1;32m      9\u001b[0m \u001b[0;34m\u001b[0m\u001b[0m\n\u001b[0;32m---> 10\u001b[0;31m         \u001b[0;32massert\u001b[0m \u001b[0mradius\u001b[0m \u001b[0;34m>=\u001b[0m \u001b[0;36m0\u001b[0m\u001b[0;34m,\u001b[0m \u001b[0;34m\"Radius must be strictly positive\"\u001b[0m\u001b[0;34m\u001b[0m\u001b[0;34m\u001b[0m\u001b[0m\n\u001b[0m\u001b[1;32m     11\u001b[0m         \u001b[0mself\u001b[0m\u001b[0;34m.\u001b[0m\u001b[0mctr\u001b[0m \u001b[0;34m=\u001b[0m \u001b[0mcenter\u001b[0m\u001b[0;34m\u001b[0m\u001b[0;34m\u001b[0m\u001b[0m\n\u001b[1;32m     12\u001b[0m         \u001b[0mself\u001b[0m\u001b[0;34m.\u001b[0m\u001b[0mrad\u001b[0m \u001b[0;34m=\u001b[0m \u001b[0mradius\u001b[0m\u001b[0;34m\u001b[0m\u001b[0;34m\u001b[0m\u001b[0m\n",
      "\u001b[0;31mAssertionError\u001b[0m: Radius must be strictly positive"
     ]
    }
   ],
   "source": [
    "Circle((1, 0), -1)"
   ]
  },
  {
   "cell_type": "markdown",
   "id": "143cd7b5-c5de-49ef-be02-955c5d83103a",
   "metadata": {},
   "source": [
    "- We can combine circles and rectangles in a list and work with them"
   ]
  },
  {
   "cell_type": "code",
   "execution_count": 11,
   "id": "98461c37-b058-4887-a34d-639218541326",
   "metadata": {},
   "outputs": [
    {
     "name": "stdout",
     "output_type": "stream",
     "text": [
      "314.1592653589793\n",
      "78.53981633974483\n",
      "3.75\n"
     ]
    }
   ],
   "source": [
    "shapes = [Circle((0, 0), 10), Circle((1, 1), 5), Rectangle((0.5, 0.5), (3, 2))]\n",
    "for shape in shapes:\n",
    "    print(shape.area())"
   ]
  },
  {
   "cell_type": "markdown",
   "id": "5eeed4dc-970c-44dc-801f-56e916a4d36e",
   "metadata": {},
   "source": [
    "#### Compare to procedural code"
   ]
  },
  {
   "cell_type": "code",
   "execution_count": 12,
   "id": "2f90273b-b3c5-49f5-8067-4fba719e1a99",
   "metadata": {},
   "outputs": [
    {
     "name": "stdout",
     "output_type": "stream",
     "text": [
      "314.1592653589793\n",
      "78.53981633974483\n",
      "3.75\n"
     ]
    }
   ],
   "source": [
    "def circle_area(radius):\n",
    "    return math.pi * radius ** 2\n",
    "\n",
    "def rectangle_area(lower_left, upper_right):\n",
    "    return (upper_right[0] - lower_left[0]) * (upper_right[1] - lower_left[1])\n",
    "\n",
    "shapes = [{'form': 'circle', 'center': (0, 0), 'radius': 10},\n",
    "          {'form': 'circle', 'center': (1, 1), 'radius': 5},\n",
    "          {'form': 'rectangle', 'lower_left': (0.5, 0.5), 'upper_right': (3, 2)}]\n",
    "\n",
    "for shape in shapes:\n",
    "    if shape['form'] == 'circle':\n",
    "        area = circle_area(shape['radius'])\n",
    "    elif shape['form'] == 'rectangle':\n",
    "        area = rectangle_area(shape['lower_left'], shape['upper_right'])\n",
    "    else:\n",
    "        raise ValueError('Unknown geometrical form.')\n",
    "    print(area)"
   ]
  },
  {
   "cell_type": "markdown",
   "id": "c92383ff-b8c0-4ecc-99a6-4e9e443f20b5",
   "metadata": {},
   "source": [
    "- Does the same thing\n",
    "- Code is more complex\n",
    "- Difficult to maintain for more shapes and more operations"
   ]
  },
  {
   "cell_type": "markdown",
   "id": "9ddf2397-fc40-411e-b704-8adc216166bc",
   "metadata": {},
   "source": [
    "### Example: Expose interface, hide implementation\n",
    "\n",
    "- Different implementation of `Rectangle` with same behavior"
   ]
  },
  {
   "cell_type": "code",
   "execution_count": 13,
   "id": "f84be6a5-6b25-4f6d-ae40-3eb89e6d4b10",
   "metadata": {},
   "outputs": [],
   "source": [
    "class Rectangle:\n",
    "    def __init__(self, lower_left, upper_right):\n",
    "        self.width = upper_right[0] - lower_left[0]\n",
    "        self.height = upper_right[1] - lower_left[1]\n",
    "        \n",
    "    def area(self):\n",
    "        return self.width * self.height"
   ]
  },
  {
   "cell_type": "code",
   "execution_count": 14,
   "id": "f2d94fa4-10d8-4d4a-8fbb-5d16a968d2ae",
   "metadata": {},
   "outputs": [
    {
     "name": "stdout",
     "output_type": "stream",
     "text": [
      "314.1592653589793\n",
      "78.53981633974483\n",
      "3.75\n"
     ]
    }
   ],
   "source": [
    "shapes = [Circle((0, 0), 10), Circle((1, 1), 5), Rectangle((0.5, 0.5), (3, 2))]\n",
    "for shape in shapes:\n",
    "    print(shape.area())"
   ]
  },
  {
   "cell_type": "markdown",
   "id": "7cbc7f5a-5c82-472b-92f7-e8ffcbfb8b62",
   "metadata": {},
   "source": [
    "- Same interface\n",
    "    - Same member functions\n",
    "    - Member functions take same arguments \n",
    "    - Member functions behave the same\n",
    "- Different implementation\n",
    "    - width and height vs corner coordinates\n",
    "    \n",
    "### \"Hiding\" internal attributes\n",
    "\n",
    "- Code using our class should only use the *interface*\n",
    "- We should attempt to change interface as little as possible\n",
    "- Need to tell class users what is interface, what implementation\n",
    "- Many OO languages (C++, Java, ...) have\n",
    "    - *private* members\n",
    "        - only accessible from methods of the class\n",
    "        - strictly enforced by compiler\n",
    "- Python\n",
    "    - no enforced privacy\n",
    "    - convention: member names beginning with `_` indicate implementation details\n",
    "    - are accessible, but class user has been warned\n",
    "    - \"`_abc` may disappear or change its meaning at any time, snoop around at your own risk\"\n",
    "    \n",
    "#### Rectangle class with \"hidden\" details"
   ]
  },
  {
   "cell_type": "code",
   "execution_count": 15,
   "id": "c683425c-532b-425b-b407-150399173c29",
   "metadata": {},
   "outputs": [],
   "source": [
    "class Rectangle:\n",
    "    def __init__(self, lower_left, upper_right):\n",
    "        self._width = upper_right[0] - lower_left[0]\n",
    "        self._height = upper_right[1] - lower_left[1]\n",
    "        \n",
    "    def area(self):\n",
    "        return self._width * self._height"
   ]
  },
  {
   "cell_type": "markdown",
   "id": "8512fb8d-2d20-4c01-8891-130d2a87113a",
   "metadata": {},
   "source": [
    "- Deciding what is interface and what is implementation detail is an important design decision\n",
    "- Depends on the problem we want to solve with our program\n",
    "- Guiding questions: \n",
    "    - Will the user of our program know about or care about this information?\n",
    "    - Is the data related to the actual problem at hand?"
   ]
  },
  {
   "cell_type": "markdown",
   "id": "d86f203e-110f-4d62-a28d-43384478a994",
   "metadata": {},
   "source": [
    "----------\n",
    "\n",
    "## Inheritance (subclassing)\n",
    "\n",
    "- Define a class covering the general case\n",
    "- Specialize into subclasses for specific cases\n",
    "- Essential in languages such as C++ and Java\n",
    "    - Containers such as lists, arrays, etc can only contain pointers to objects derived from the same base class\n",
    "- Useful in Python\n",
    "\n",
    "### Example: Modifying and extending a data type\n",
    "\n",
    "#### Base class"
   ]
  },
  {
   "cell_type": "code",
   "execution_count": 16,
   "id": "b21ef8ef-6488-45bf-acf4-15e4f4da472c",
   "metadata": {},
   "outputs": [],
   "source": [
    "class Member:\n",
    "    def __init__(self, name, number):\n",
    "        self.name = name\n",
    "        self.number = number\n",
    "    \n",
    "    def display(self):\n",
    "        print('Member: {0.name} (#{0.number})'.format(self))        "
   ]
  },
  {
   "cell_type": "markdown",
   "id": "2fb21221-72c5-4797-87c2-3074e923a0f5",
   "metadata": {},
   "source": [
    "#### Subclass"
   ]
  },
  {
   "cell_type": "code",
   "execution_count": 17,
   "id": "ebcf0fdf-1da5-4daa-aa94-4bce65feba7b",
   "metadata": {},
   "outputs": [],
   "source": [
    "class Officer(Member):\n",
    "    def __init__(self, name, number, rank):\n",
    "        super().__init__(name, number)\n",
    "        self.rank = rank\n",
    "\n",
    "    def display(self):\n",
    "        print('{0.rank}: {0.name} (#{0.number})'.format(self))"
   ]
  },
  {
   "cell_type": "code",
   "execution_count": 18,
   "id": "f6b9b44e-2fcf-44d1-84e1-b9776c89ad56",
   "metadata": {},
   "outputs": [
    {
     "name": "stdout",
     "output_type": "stream",
     "text": [
      "President: Joe (#1)\n",
      "Treasurer: Jane (#2)\n",
      "Member: Jack (#3)\n"
     ]
    }
   ],
   "source": [
    "club = [Officer('Joe', 1, 'President'),\n",
    "        Officer('Jane', 2, 'Treasurer'),\n",
    "        Member('Jack', 3,)]\n",
    "for person in club:\n",
    "    person.display()"
   ]
  },
  {
   "cell_type": "markdown",
   "id": "9f648858-1118-4c8d-b6e2-bb13ede3ad2e",
   "metadata": {},
   "source": [
    "[Code on Pythontutor](http://www.pythontutor.com/visualize.html#code=class%20Member%3A%0A%20%20%20%20def%20__init__%28self,%20name,%20number%29%3A%0A%20%20%20%20%20%20%20%20self.name%20%3D%20name%0A%20%20%20%20%20%20%20%20self.number%20%3D%20number%0A%20%20%20%20%0A%20%20%20%20def%20display%28self%29%3A%0A%20%20%20%20%20%20%20%20print%28'Member%3A%20%7B0.name%7D%20%28%23%7B0.number%7D%29'.format%28self%29%29%20%20%20%20%20%20%20%20%0A%20%20%20%20%20%20%20%20%0Aclass%20Officer%28Member%29%3A%0A%20%20%20%20def%20__init__%28self,%20name,%20number,%20rank%29%3A%0A%20%20%20%20%20%20%20%20super%28%29.__init__%28name,%20number%29%0A%20%20%20%20%20%20%20%20self.rank%20%3D%20rank%0A%0A%20%20%20%20def%20display%28self%29%3A%0A%20%20%20%20%20%20%20%20print%28'%7B0.rank%7D%3A%20%7B0.name%7D%20%28%23%7B0.number%7D%29'.format%28self%29%29%0A%0Aclub%20%3D%20%5BOfficer%28'Joe',%201,%20'President'%29,%0A%20%20%20%20%20%20%20%20Officer%28'Jane',%202,%20'Treasurer'%29,%0A%20%20%20%20%20%20%20%20Member%28'Jack',%203,%29%5D%0Afor%20person%20in%20club%3A%0A%20%20%20%20person.display%28%29%0A%20%20%20%20&cumulative=false&curInstr=0&heapPrimitives=false&mode=display&origin=opt-frontend.js&py=3&rawInputLstJSON=%5B%5D&textReferences=false)"
   ]
  },
  {
   "cell_type": "markdown",
   "id": "21513f61-6936-4d03-ac23-3858be1d98a4",
   "metadata": {},
   "source": [
    "### Terminology\n",
    "\n",
    "#### Inheritance (Subclassing)\n",
    "\n",
    "Creating a new class based on an existing class. The new class (subclass, derived class, daughter class) inherits the attributes of the existing class (superclass, base class, mother class).\n",
    "\n",
    "Inheritance typically reflects an *is-a*  relationship, while *has-a* relationships are expressed using attributes:\n",
    "- a tiger *is a* mammal\n",
    "- a friend *has a* name\n",
    "\n",
    "#### Defining subclasses\n",
    "\n",
    "```python\n",
    "class SubClassName(SuperClass):\n",
    "    \"\"\"Subclass documentation.\"\"\"\n",
    "    \n",
    "    # body\n",
    "```\n",
    "\n",
    "#### Subclass instantiation\n",
    "\n",
    "```python\n",
    "obj = SubClassName()\n",
    "```\n",
    "\n",
    "- All methods defined in the superclass are available in the subclass\n",
    "- The subclass can redefine any inherited method\n",
    "- The subclass can define new methods and add new attributes"
   ]
  },
  {
   "cell_type": "markdown",
   "id": "6ef8c616-6378-4cbe-83e8-15e8ebaca66c",
   "metadata": {},
   "source": [
    "### Constructors for subclasses\n",
    "\n",
    "- Subclass constructor must initialize the attributes of the superclass\n",
    "- Most easily done by calling constructor of the superclass\n",
    "- Function `super()` provides access to superclass"
   ]
  },
  {
   "cell_type": "code",
   "execution_count": 19,
   "id": "e1fb0c37-a210-49ec-908d-53cfac193d2f",
   "metadata": {},
   "outputs": [],
   "source": [
    "class Officer(Member):\n",
    "    def __init__(self, name, number, rank):\n",
    "        super().__init__(name, number)\n",
    "        self.rank = rank\n",
    "\n",
    "    def display(self):\n",
    "        print('{0.rank}: {0.name} (#{0.number})'.format(self))"
   ]
  },
  {
   "cell_type": "markdown",
   "id": "349ba0b3-54b3-4672-9b25-2e77e458b522",
   "metadata": {},
   "source": [
    "### Subclasses of subclasses of ...\n",
    "\n",
    "- We can derive subclasses of any class\n",
    "- In principle, arbitrarily deep class hierarchies possible\n",
    "- In practice, keep hierarchies shallow!\n",
    "- All classes derive from built-in class `object` in the end\n",
    "- `__base__` attribute shows base class"
   ]
  },
  {
   "cell_type": "code",
   "execution_count": 20,
   "id": "c65c58ec-1c8c-4c03-89c1-60e27c2b4a75",
   "metadata": {},
   "outputs": [
    {
     "name": "stdout",
     "output_type": "stream",
     "text": [
      "<class 'object'>\n"
     ]
    }
   ],
   "source": [
    "print(Member.__base__)"
   ]
  },
  {
   "cell_type": "code",
   "execution_count": 21,
   "id": "411e68d9-6693-4331-8334-18f2ab308b13",
   "metadata": {},
   "outputs": [
    {
     "name": "stdout",
     "output_type": "stream",
     "text": [
      "<class '__main__.Member'>\n"
     ]
    }
   ],
   "source": [
    "print(Officer.__base__)"
   ]
  },
  {
   "cell_type": "code",
   "execution_count": 22,
   "id": "d01fcddc-9dd3-4e8b-a39a-a328e8cd39d5",
   "metadata": {},
   "outputs": [
    {
     "name": "stdout",
     "output_type": "stream",
     "text": [
      "None\n"
     ]
    }
   ],
   "source": [
    "print(object.__base__)"
   ]
  },
  {
   "cell_type": "markdown",
   "id": "2cba7816-1688-4789-9429-a5ed27e462c8",
   "metadata": {},
   "source": [
    "- `object` has no base class, it is the root of the class hierarchy."
   ]
  },
  {
   "cell_type": "markdown",
   "id": "badf6058-acc4-4eda-b4bf-38b31f1d7f4b",
   "metadata": {},
   "source": [
    "#### Who gets called when?—Method resolution order\n",
    "\n",
    "Define three classes `A > B > C` where each subclass redefines one method."
   ]
  },
  {
   "cell_type": "code",
   "execution_count": 23,
   "id": "96a6b9c4-d69f-43a0-bde8-071f089702b1",
   "metadata": {},
   "outputs": [],
   "source": [
    "class A:\n",
    "    def f(self): return 'A.f()'\n",
    "    def g(self): return 'A.g()'\n",
    "    def h(self): return 'A.h()'\n",
    "    \n",
    "class B(A):\n",
    "    def f(self): return 'B.f()'\n",
    "\n",
    "class C(B):\n",
    "    def g(self): return 'C.g()'"
   ]
  },
  {
   "cell_type": "markdown",
   "id": "9055c877-e019-42ca-871d-60a18487b1c1",
   "metadata": {},
   "source": [
    "[Code on Pythontutor](http://www.pythontutor.com/visualize.html#code=class%20A%3A%0A%20%20%20%20def%20f%28self%29%3A%20return%20'A.f%28%29'%0A%20%20%20%20def%20g%28self%29%3A%20return%20'A.g%28%29'%0A%20%20%20%20def%20h%28self%29%3A%20return%20'A.h%28%29'%0A%20%20%20%20%0Aclass%20B%28A%29%3A%0A%20%20%20%20def%20f%28self%29%3A%20return%20'B.f%28%29'%0A%0Aclass%20C%28B%29%3A%0A%20%20%20%20def%20g%28self%29%3A%20return%20'C.g%28%29'%0A%20%20%20%20%0Aa%20%3D%20A%28%29%0Ab%20%3D%20B%28%29%0Ac%20%3D%20C%28%29%0A%0Aprint%28a.f%28%29,%20a.g%28%29,%20a.h%28%29%29%0Aprint%28b.f%28%29,%20b.g%28%29,%20b.h%28%29%29%0Aprint%28c.f%28%29,%20c.g%28%29,%20c.h%28%29%29&cumulative=false&curInstr=0&heapPrimitives=false&mode=display&origin=opt-frontend.js&py=3&rawInputLstJSON=%5B%5D&textReferences=false)"
   ]
  },
  {
   "cell_type": "markdown",
   "id": "52caec1b-babc-422e-97d0-27fcb3d9a0cf",
   "metadata": {},
   "source": [
    "Create one instance per class."
   ]
  },
  {
   "cell_type": "code",
   "execution_count": 24,
   "id": "91ec1cd6-a32d-4606-beb5-2121febc986b",
   "metadata": {},
   "outputs": [],
   "source": [
    "a = A()\n",
    "b = B()\n",
    "c = C()"
   ]
  },
  {
   "cell_type": "markdown",
   "id": "d3679ec4-168f-4240-a7ed-97565858d41f",
   "metadata": {},
   "source": [
    "Call methods on `A` instance"
   ]
  },
  {
   "cell_type": "code",
   "execution_count": 25,
   "id": "788e206c-19db-48ea-bf3c-e0dd39380f15",
   "metadata": {},
   "outputs": [
    {
     "name": "stdout",
     "output_type": "stream",
     "text": [
      "A.f() A.g() A.h()\n"
     ]
    }
   ],
   "source": [
    "print(a.f(), a.g(), a.h())"
   ]
  },
  {
   "cell_type": "markdown",
   "id": "f730778f-aa5a-49c4-b87a-6672f3e1514a",
   "metadata": {},
   "source": [
    "Call methods on `B` instance"
   ]
  },
  {
   "cell_type": "code",
   "execution_count": 26,
   "id": "4fa64efd-65c1-4561-bb6f-4f104ed50e05",
   "metadata": {},
   "outputs": [
    {
     "name": "stdout",
     "output_type": "stream",
     "text": [
      "B.f() A.g() A.h()\n"
     ]
    }
   ],
   "source": [
    "print(b.f(), b.g(), b.h())"
   ]
  },
  {
   "cell_type": "markdown",
   "id": "951964f6-3bf1-4fc0-ac0f-4b67b244ec9e",
   "metadata": {},
   "source": [
    "Call methods on `C` instance"
   ]
  },
  {
   "cell_type": "code",
   "execution_count": 27,
   "id": "fa77ead3-a43d-45da-95c1-99f37c3847dc",
   "metadata": {},
   "outputs": [
    {
     "name": "stdout",
     "output_type": "stream",
     "text": [
      "B.f() C.g() A.h()\n"
     ]
    }
   ],
   "source": [
    "print(c.f(), c.g(), c.h())"
   ]
  },
  {
   "cell_type": "markdown",
   "id": "f8d47af7-7f8f-41af-b481-0aaf64d2dd80",
   "metadata": {},
   "source": [
    "- Methods are looked up from bottom and up\n",
    "    1. instance\n",
    "    1. class\n",
    "    1. superclasses in ascending order\n",
    "    1. `object`\n",
    "- Lookup order is available as attribute `__mro__` (method resolution order)"
   ]
  },
  {
   "cell_type": "code",
   "execution_count": 28,
   "id": "8cee5a7e-78f5-434b-9792-29c2bb90b149",
   "metadata": {},
   "outputs": [
    {
     "data": {
      "text/plain": [
       "(__main__.A, object)"
      ]
     },
     "execution_count": 28,
     "metadata": {},
     "output_type": "execute_result"
    }
   ],
   "source": [
    "A.__mro__"
   ]
  },
  {
   "cell_type": "code",
   "execution_count": 29,
   "id": "d9d6b56e-35d3-4012-886a-519b141f902c",
   "metadata": {},
   "outputs": [
    {
     "data": {
      "text/plain": [
       "(__main__.B, __main__.A, object)"
      ]
     },
     "execution_count": 29,
     "metadata": {},
     "output_type": "execute_result"
    }
   ],
   "source": [
    "B.__mro__"
   ]
  },
  {
   "cell_type": "code",
   "execution_count": 30,
   "id": "3e303c1a-9da3-49dd-8596-ffc4b06a3b05",
   "metadata": {},
   "outputs": [
    {
     "data": {
      "text/plain": [
       "(__main__.C, __main__.B, __main__.A, object)"
      ]
     },
     "execution_count": 30,
     "metadata": {},
     "output_type": "execute_result"
    }
   ],
   "source": [
    "C.__mro__"
   ]
  },
  {
   "cell_type": "markdown",
   "id": "8e04aebc-7bda-4835-b0ff-cce04eee4992",
   "metadata": {},
   "source": [
    "------------------------------------------\n",
    "\n",
    "## Names, Namespaces, and Scopes\n",
    "\n",
    "### Why worry about names?\n",
    "\n",
    "1. Programs execute functions to manipulate data.\n",
    "1. Data and functions are stored as sequences of bits in memory.\n",
    "1. We need *names* to refer to data and functions in our programs.\n",
    "1. In large programs\n",
    "    - the same name may be used or different purposes in different places\n",
    "    - it is impossible to keep an overview over all names\n",
    "    - E.g.: what do you get if you run `from xyz import *`?\n",
    "1. Solution: *namespaces* and *scoping rules*\n",
    "\n",
    "#### Namespaces (navnerom)\n",
    "Namespaces help to keep names organized.\n",
    "\n",
    "#### Scoping rules (regler for gyldighetsområder)\n",
    "Scoping rules define which namespace applies in each part of a program.\n",
    "\n",
    "### How do we bind names to objects in Python?\n",
    "\n",
    "Operation  |  Example  | Name bound\n",
    ":- | :- | -\n",
    "Assignment | `x = 2`| `x`\n",
    "Function definition | `def f(): pass` | `f`\n",
    "Class definition | `class A: pass`  | `A`\n",
    "Module import | `import math` | `math`\n",
    " | `import math as m` | `m` \n",
    " | `from math import sin` | `sin` \n",
    "\n",
    "[Code on Pythontutor](http://www.pythontutor.com/visualize.html#code=x%20%3D%202%0A%0Adef%20f%28%29%3A%0A%20%20%20%20pass%0A%0Aclass%20A%3A%0A%20%20%20%20pass%0A%0Aimport%20math%0Aimport%20math%20as%20m%0Afrom%20math%20import%20sin%0A&cumulative=false&curInstr=0&heapPrimitives=false&mode=display&origin=opt-frontend.js&py=3&rawInputLstJSON=%5B%5D&textReferences=false)\n",
    "\n",
    "#### Definitions are statements\n",
    "\n",
    "Definitions are statements in Python programs. They are executed just as all other statements."
   ]
  },
  {
   "cell_type": "markdown",
   "id": "4811aa19-71c9-4243-b52e-28b54010895b",
   "metadata": {},
   "source": [
    "### Where are names bound?\n",
    "\n",
    "<img src=\"L06_NamesBound.png\" width=\"60%\">\n",
    "\n",
    "[Code on Pythontutor](http://www.pythontutor.com/visualize.html#code=class%20Friend%3A%0A%20%20%20%20%0A%20%20%20%20greeting%20%3D%20'Hi,%20'%0A%20%20%20%20%0A%20%20%20%20def%20__init__%28self,%20name%29%3A%0A%20%20%20%20%20%20%20%20self.name%20%3D%20name%0A%20%20%20%20%20%20%20%20%0A%20%20%20%20def%20greet%28self%29%3A%0A%20%20%20%20%20%20%20%20text%20%3D%20Friend.greeting%20%2B%20self.name%0A%20%20%20%20%20%20%20%20print%28text%29%0A%20%20%20%20%20%20%20%20%0Ajoe%20%3D%20Friend%28'Joe'%29%0Ajoe.greet%28%29%0A&cumulative=false&curInstr=0&heapPrimitives=false&mode=display&origin=opt-frontend.js&py=3&rawInputLstJSON=%5B%5D&textReferences=false)"
   ]
  },
  {
   "cell_type": "markdown",
   "id": "20e0c5af-afe5-4b0f-a1ac-b75996113a8a",
   "metadata": {},
   "source": [
    "### Name-binding rules\n",
    "\n",
    "- When a name is bound, it is registered in *exactly one namespace*\n",
    "- Available namespaces\n",
    "    - `__builtin__` namespace of Python interepreter\n",
    "    - each module has a namespace (each imported `*.py` file)\n",
    "    - each class has a namespace\n",
    "    - each class *instance* has a namespace\n",
    "    - each function *invocation* has a namespace\n",
    "- In which namespace is a name registered?\n",
    "    - In the namespace of the *innermost scope*\n",
    "    - Inside a list comprehension: in the comprehension's namespace (Python 3)\n",
    "    - Inside function definitions: in the function invocation's namespace\n",
    "    - Inside class definitions: in the class' namespace\n",
    "    - Otherwise, in the module's namespace\n",
    "- Example of name binding in recursive function calls: \n",
    "[Code on Pythontutor](http://pythontutor.com/visualize.html#code=def%20factorial%28n%29%3A%0A%20%20%20%20if%20n%20%3C%3D%201%3A%0A%20%20%20%20%20%20%20%20res%20%3D%201%0A%20%20%20%20else%3A%0A%20%20%20%20%20%20%20%20res%20%3D%20n%20*%20factorial%28n-1%29%0A%20%20%20%20return%20res%0A%20%20%20%20%20%20%20%20%0Aprint%28factorial%283%29%29%0A&cumulative=false&curInstr=0&heapPrimitives=false&mode=display&origin=opt-frontend.js&py=3&rawInputLstJSON=%5B%5D&textReferences=false)"
   ]
  },
  {
   "cell_type": "markdown",
   "id": "4a95d31e-860c-4357-9a13-9746fe8b0d0a",
   "metadata": {},
   "source": [
    "### Where are names looked up?\n",
    "\n",
    "<img src=\"L06_NamesLookup.png\" width=\"60%\">"
   ]
  },
  {
   "cell_type": "markdown",
   "id": "351aafd5-9415-40f4-8a26-13884f82da58",
   "metadata": {},
   "source": [
    "### Name-lookup rules\n",
    "\n",
    "- When we use a name, Python must loop up the name and find the object it refers to\n",
    "- In which namespace does Python look?\n",
    "- **LEGB rule** (Mark Lutz, *Learning Python*)\n",
    "    - **L—Local:** Namespace of the function invocation currently executing\n",
    "    - **E—Enclosing:** Namespaces of all functions enclosing the definition of the current function (ignore for now)\n",
    "    - **G—Global:** Namespace of module in which the current function *was defined*\n",
    "    - **B—Builtin:** Namespace of Python builtins\n",
    "- Exceptions can be forced with `global` and `nonlocal` keywords (avoid for now)\n",
    "\n",
    "### Attribute lookup with \"dot\"\n",
    "\n",
    "- Modules, classes, and instances have attributes\n",
    "- Attribute names are bound inside module, class, instancance namespace\n",
    "- Accessible through the dot-operator:"
   ]
  },
  {
   "cell_type": "code",
   "execution_count": 33,
   "id": "99433e16-6d99-40f2-8b26-2d18f3607713",
   "metadata": {},
   "outputs": [
    {
     "name": "stdout",
     "output_type": "stream",
     "text": [
      "Joe\n"
     ]
    }
   ],
   "source": [
    "class Friend:\n",
    "    \n",
    "    greeting = 'Hi, '\n",
    "    \n",
    "    def __init__(self, name):\n",
    "        self.name = name\n",
    "        \n",
    "    def greet(self):\n",
    "        text = Friend.greeting + self.name\n",
    "        print(text)\n",
    "        \n",
    "joe = Friend('Joe')\n",
    "print(joe.name)"
   ]
  },
  {
   "cell_type": "code",
   "execution_count": 34,
   "id": "b3a6babb-4f4e-422b-b534-7b6258a51d6c",
   "metadata": {},
   "outputs": [
    {
     "name": "stdout",
     "output_type": "stream",
     "text": [
      "Hi, Joe Doe\n"
     ]
    }
   ],
   "source": [
    "joe.name = 'Joe Doe'\n",
    "joe.greet()"
   ]
  },
  {
   "cell_type": "code",
   "execution_count": 35,
   "id": "930c3540-a789-44a0-a446-cf781dbc81a5",
   "metadata": {},
   "outputs": [
    {
     "name": "stdout",
     "output_type": "stream",
     "text": [
      "Hello, Joe Doe\n"
     ]
    }
   ],
   "source": [
    "Friend.greeting = 'Hello, '\n",
    "joe.greet()"
   ]
  },
  {
   "cell_type": "markdown",
   "id": "299835a7-4646-449f-b306-e721419d2242",
   "metadata": {},
   "source": [
    "### Attribute lookup in instances vs classes\n",
    "\n",
    "<img src=\"L06_NamesInstanceClass.png\" width=\"45%\">"
   ]
  },
  {
   "cell_type": "markdown",
   "id": "68962a88-0ef0-4e4d-ac1f-07c4b540a1d2",
   "metadata": {},
   "source": [
    "### Pitfall: Duplicate attribute names\n",
    "\n",
    "- Python uses the same namespace for methods and data attributes\n",
    "- Names are looked up in the instance namespace first, then in the class namespace\n",
    "- This may lead to surprises when using the same name in multiple places"
   ]
  },
  {
   "cell_type": "code",
   "execution_count": 36,
   "id": "dc33b39e-20f8-4309-b065-4799e4c5b01b",
   "metadata": {},
   "outputs": [],
   "source": [
    "class Friend:\n",
    "    def __init__(self, name):\n",
    "        self.name = name\n",
    "    def greet(self):\n",
    "        print('Hi,', self.name)\n",
    "    def name(self):\n",
    "        print('Your name is', self.name)"
   ]
  },
  {
   "cell_type": "code",
   "execution_count": 37,
   "id": "493f15a0-47a1-4ef2-9e24-138df401752c",
   "metadata": {},
   "outputs": [
    {
     "name": "stdout",
     "output_type": "stream",
     "text": [
      "Hi, Joe\n"
     ]
    }
   ],
   "source": [
    "joe = Friend('Joe')\n",
    "joe.greet()"
   ]
  },
  {
   "cell_type": "code",
   "execution_count": 38,
   "id": "4dfb7485-e258-406c-b157-2267ac6d8f90",
   "metadata": {},
   "outputs": [
    {
     "ename": "TypeError",
     "evalue": "'str' object is not callable",
     "output_type": "error",
     "traceback": [
      "\u001b[0;31m---------------------------------------------------------------------------\u001b[0m",
      "\u001b[0;31mTypeError\u001b[0m                                 Traceback (most recent call last)",
      "\u001b[0;32m/var/folders/j5/971zg6qd58n070p_ds781hzm0000gn/T/ipykernel_82838/651456339.py\u001b[0m in \u001b[0;36m<module>\u001b[0;34m\u001b[0m\n\u001b[0;32m----> 1\u001b[0;31m \u001b[0mjoe\u001b[0m\u001b[0;34m.\u001b[0m\u001b[0mname\u001b[0m\u001b[0;34m(\u001b[0m\u001b[0;34m)\u001b[0m\u001b[0;34m\u001b[0m\u001b[0;34m\u001b[0m\u001b[0m\n\u001b[0m",
      "\u001b[0;31mTypeError\u001b[0m: 'str' object is not callable"
     ]
    }
   ],
   "source": [
    "joe.name()"
   ]
  },
  {
   "cell_type": "markdown",
   "id": "f60b60e0-10d5-45d8-8cd7-4c843f224c3c",
   "metadata": {},
   "source": [
    "[Code on Pythontutor](http://www.pythontutor.com/visualize.html#code=class%20Friend%3A%0A%20%20%20%20def%20__init__%28self,%20name%29%3A%0A%20%20%20%20%20%20%20%20self.name%20%3D%20name%0A%20%20%20%20def%20greet%28self%29%3A%0A%20%20%20%20%20%20%20%20print%28'Hi,',%20self.name%29%0A%20%20%20%20def%20name%28self%29%3A%0A%20%20%20%20%20%20%20%20print%28'Your%20name%20is',%20self.name%29%0A%20%20%20%20%20%20%20%20%0Ajoe%20%3D%20Friend%28'Joe'%29%0Ajoe.greet%28%29%0Ajoe.name%28%29&cumulative=false&curInstr=0&heapPrimitives=false&mode=display&origin=opt-frontend.js&py=3&rawInputLstJSON=%5B%5D&textReferences=false)"
   ]
  },
  {
   "cell_type": "markdown",
   "id": "c45abb70-3729-421d-9c19-a7998e5290b5",
   "metadata": {},
   "source": [
    "------\n",
    "\n",
    "## Copying objects\n",
    "\n",
    "### Assignment only adds new name to existing object"
   ]
  },
  {
   "cell_type": "code",
   "execution_count": 39,
   "id": "fa903f8c-0f65-45be-bccd-4413cd29a937",
   "metadata": {},
   "outputs": [
    {
     "name": "stdout",
     "output_type": "stream",
     "text": [
      "20 20\n"
     ]
    }
   ],
   "source": [
    "class A:\n",
    "    pass\n",
    "a = A()\n",
    "a.x = 10\n",
    "b = a\n",
    "b.x = 20\n",
    "print(a.x, b.x)"
   ]
  },
  {
   "cell_type": "markdown",
   "id": "8f94404e-1afb-40e6-9fe9-73b2f3d933e4",
   "metadata": {},
   "source": [
    "- `a` and `b` are two names for the same object\n",
    "- [Code on PythonTutor](http://www.pythontutor.com/visualize.html#code=class%20A%3A%0A%20%20%20%20pass%0Aa%20%3D%20A%28%29%0Aa.x%20%3D%2010%0Ab%20%3D%20a%0Ab.x%20%3D%2020%0Aprint%28a.x,%20b.x%29%0A&cumulative=false&curInstr=0&heapPrimitives=false&mode=display&origin=opt-frontend.js&py=3&rawInputLstJSON=%5B%5D&textReferences=false)"
   ]
  },
  {
   "cell_type": "markdown",
   "id": "b2d00fed-921d-4637-ba7a-e29a38d806c2",
   "metadata": {},
   "source": [
    "### The Python `copy` module\n",
    "\n",
    "- `copy` provides functions for copying objects\n",
    "- [Code on PythonTutor](http://www.pythontutor.com/visualize.html#code=import%20copy%0Aclass%20A%3A%0A%20%20%20%20pass%0Aa%20%3D%20A%28%29%0Aa.x%20%3D%2010%0Ab%20%3D%20a%0Ab.x%20%3D%2020%0Ac%20%3D%20copy.copy%28a%29%0Ac.x%20%3D%2050%0Aprint%28a.x,%20b.x,%20c.x%29%0A&cumulative=false&curInstr=0&heapPrimitives=false&mode=display&origin=opt-frontend.js&py=3&rawInputLstJSON=%5B%5D&textReferences=false)"
   ]
  },
  {
   "cell_type": "code",
   "execution_count": 40,
   "id": "eb26f290-c4c9-4f66-9bce-e5474d52a1e0",
   "metadata": {},
   "outputs": [
    {
     "name": "stdout",
     "output_type": "stream",
     "text": [
      "20 20 50\n"
     ]
    }
   ],
   "source": [
    "import copy\n",
    "c = copy.copy(a)\n",
    "c.x = 50\n",
    "print(a.x, b.x, c.x)"
   ]
  },
  {
   "cell_type": "markdown",
   "id": "62b169d7-4d32-4628-b0e6-e3ad9b915ee5",
   "metadata": {},
   "source": [
    "#### Copying: Details"
   ]
  },
  {
   "cell_type": "code",
   "execution_count": 41,
   "id": "f61944bf-5111-4880-b10d-ec456392fc4c",
   "metadata": {},
   "outputs": [
    {
     "name": "stdout",
     "output_type": "stream",
     "text": [
      "140265444103312 140265472291696\n",
      "140265471717664 140265471717664\n"
     ]
    }
   ],
   "source": [
    "class S:\n",
    "    pass\n",
    "\n",
    "s = S()\n",
    "s.m = 'Nice weather today.'\n",
    "t = copy.copy(s)\n",
    "print(id(s), id(t))\n",
    "print(id(s.m), id(t.m))"
   ]
  },
  {
   "cell_type": "markdown",
   "id": "6ac18d8f-350d-405d-9b49-cabfff35fef1",
   "metadata": {},
   "source": [
    "- `s` and `t` have *different* `id()`: they are *different `S` instances*\n",
    "- `s.m` and `t.m` have the same `id()`: they are the *same string instance*\n",
    "- `copy.copy()` is a *shallow copy*: `t` is a new instance with its own namespace, but the names refer to the same objects as in `s`\n",
    "- Assignment to a member re-binds the name to a new string object"
   ]
  },
  {
   "cell_type": "code",
   "execution_count": 42,
   "id": "07bd3217-4922-473f-964d-02598a79a6c9",
   "metadata": {},
   "outputs": [
    {
     "name": "stdout",
     "output_type": "stream",
     "text": [
      "140265444103312 140265472291696\n",
      "140265471717664 140265470929968\n"
     ]
    }
   ],
   "source": [
    "t.m = 'The forecast for tomorrow is also nice.'\n",
    "print(id(s), id(t))\n",
    "print(id(s.m), id(t.m))"
   ]
  },
  {
   "cell_type": "markdown",
   "id": "020f1605-9f6b-4206-8c07-e934d9830f4a",
   "metadata": {},
   "source": [
    "- [Explore on PythonTutor](http://www.pythontutor.com/visualize.html#code=import%20copy%0Aclass%20S%28object%29%3A%0A%20%20%20%20pass%0A%0As%20%3D%20S%28%29%0As.m%20%3D%20'Nice%20weather%20today.'%0At%20%3D%20copy.copy%28s%29%0At.m%20%3D%20'The%20forecast%20for%20tomorrow%20is%20also%20nice.'%0A&cumulative=false&curInstr=0&heapPrimitives=true&mode=display&origin=opt-frontend.js&py=3&rawInputLstJSON=%5B%5D&textReferences=false)"
   ]
  },
  {
   "cell_type": "markdown",
   "id": "e1aac965-37bf-4743-ac42-31b8c563093a",
   "metadata": {},
   "source": [
    "### Copying object with mutable members: deep copy\n",
    "\n",
    "- Mutables: lists, dictionaries, objects of most classes\n",
    "- What does shallow copy mean for objects with mutable members?"
   ]
  },
  {
   "cell_type": "code",
   "execution_count": 43,
   "id": "a61469d0-8abe-42eb-a51e-7e88032c7ac1",
   "metadata": {},
   "outputs": [
    {
     "name": "stdout",
     "output_type": "stream",
     "text": [
      "[1, 2, 3, 4] [1, 2, 3, 4]\n",
      "140265470853888 140265470853888\n"
     ]
    }
   ],
   "source": [
    "u = S()\n",
    "u.m = [1, 2, 3]\n",
    "v = copy.copy(u)\n",
    "u.m.append(4)\n",
    "print(u.m, v.m)\n",
    "print (id(u.m), id(v.m))"
   ]
  },
  {
   "cell_type": "markdown",
   "id": "e6f8e1bd-b908-4b63-acee-4d5e3a355ce8",
   "metadata": {},
   "source": [
    "- Lists are changed in *both* `u` and `v` because their `m` refers to the same list object\n",
    "- Solution: *deep copy*"
   ]
  },
  {
   "cell_type": "code",
   "execution_count": 44,
   "id": "52714826-4e4e-4332-9cff-6ff284c1d5b7",
   "metadata": {},
   "outputs": [
    {
     "name": "stdout",
     "output_type": "stream",
     "text": [
      "[1, 2, 3, 4] [1, 2, 3, 4] [1, 2, 3, 4]\n",
      "140265470853888 140265470853888 140265469569600\n"
     ]
    }
   ],
   "source": [
    "w = copy.deepcopy(u)\n",
    "print(u.m, v.m, w.m)\n",
    "print (id(u.m), id(v.m), id(w.m))"
   ]
  },
  {
   "cell_type": "markdown",
   "id": "3ae163f3-e5ce-4868-b581-6c7ef86b4c34",
   "metadata": {},
   "source": [
    "- Note that `w.m` has a different `id`"
   ]
  },
  {
   "cell_type": "code",
   "execution_count": 45,
   "id": "40a47f04-fb21-408b-91d9-a07e7a9b609b",
   "metadata": {},
   "outputs": [
    {
     "name": "stdout",
     "output_type": "stream",
     "text": [
      "[1, 2, 3, 4] [1, 2, 3, 4] [1, 2, 3, 4, 5]\n"
     ]
    }
   ],
   "source": [
    "w.m.append(5)\n",
    "print(u.m, v.m, w.m)"
   ]
  },
  {
   "cell_type": "markdown",
   "id": "fc18dc4c-5100-4355-b0b6-e3b3c28e4567",
   "metadata": {},
   "source": [
    "- Since `w.m` is a different list instance, `u.m` and `v.m` are not changed\n",
    "- `copy.deepcopy()` also works for classes we write ourselves"
   ]
  },
  {
   "cell_type": "code",
   "execution_count": 46,
   "id": "983b3188-313d-4c16-8566-f89537c1be0f",
   "metadata": {},
   "outputs": [
    {
     "name": "stdout",
     "output_type": "stream",
     "text": [
      "10 10 20\n"
     ]
    }
   ],
   "source": [
    "class V:\n",
    "    def __init__(self, x, y):\n",
    "        self.x, self.y = x, y\n",
    "        \n",
    "class C:\n",
    "    def __init__(self, ctr, r):\n",
    "        self.ctr, self.r = ctr, r\n",
    "        \n",
    "b = C(V(0, 0), 1)\n",
    "c = copy.copy(b)\n",
    "d = copy.deepcopy(b)\n",
    "\n",
    "c.ctr.x = 10\n",
    "d.ctr.x = 20\n",
    "\n",
    "print(b.ctr.x, c.ctr.x, d.ctr.x)"
   ]
  },
  {
   "cell_type": "markdown",
   "id": "77174890-ac1e-4165-a6a2-589a7fe9f336",
   "metadata": {},
   "source": [
    "**Forgetting the difference between shallow and deep copy is a common source of errors in Python programs!**"
   ]
  }
 ],
 "metadata": {
  "kernelspec": {
   "display_name": "Python 3 (ipykernel)",
   "language": "python",
   "name": "python3"
  },
  "language_info": {
   "codemirror_mode": {
    "name": "ipython",
    "version": 3
   },
   "file_extension": ".py",
   "mimetype": "text/x-python",
   "name": "python",
   "nbconvert_exporter": "python",
   "pygments_lexer": "ipython3",
   "version": "3.8.12"
  }
 },
 "nbformat": 4,
 "nbformat_minor": 5
}
