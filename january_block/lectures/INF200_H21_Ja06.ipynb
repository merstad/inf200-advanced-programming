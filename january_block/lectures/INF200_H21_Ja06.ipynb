{
 "cells": [
  {
   "cell_type": "markdown",
   "metadata": {},
   "source": [
    "# INF200 Lecture No Ja06\n",
    "### Hans Ekkehard Plesser / NMBU\n",
    "### 10 January 2022\n",
    "\n",
    "## Today's topics\n",
    "\n",
    "- Status\n",
    "- Priorities for remaining work\n",
    "- `isinstance()` considered harmful\n",
    "- Testing migration"
   ]
  },
  {
   "cell_type": "markdown",
   "metadata": {},
   "source": [
    "-----------------\n",
    "\n",
    "## Status\n",
    "\n",
    "- By **tomorrow afternoon**, all groups should have herbivores and carnivores behaving correctly in a single lowland cell as in my examples\n",
    "- By **Thursday afternoon**, all groups should have a rough draft version of migration"
   ]
  },
  {
   "cell_type": "markdown",
   "metadata": {},
   "source": [
    "-----------\n",
    "\n",
    "## Priorities for remaining work\n",
    "\n",
    "1. Correct file and directory layout\n",
    "1. Hunting\n",
    "1. Migration\n",
    "1. Visualization (use RandVis as a starting point!)\n",
    "1. Make sure your code passes `test_biosim_interface.py` test and that `check_sim.py` works with your code\n",
    "1. Documentation with Sphinx\n",
    "1. Packaging\n",
    "1. Optimization (more information later)"
   ]
  },
  {
   "cell_type": "markdown",
   "metadata": {},
   "source": [
    "---------\n",
    "\n",
    "## `isinstance()` considered harmful\n",
    "\n",
    "- Do not use \n",
    "    - `if isinstance() ...` \n",
    "    - `if type() == ...`\n",
    "    - `if cell.code == 'L' ...`\n",
    "\n",
    "- If you are tempted to do so, in 99.9% of cases you are trying to hack a solution that could be achieved much more elegantly and robustly using proper object oriented design.\n",
    "- An object shall know itself how to \"behave\" (through proper member functions).\n",
    "- For historical reference on the headline, see https://en.wikipedia.org/wiki/Considered_harmful."
   ]
  },
  {
   "cell_type": "markdown",
   "metadata": {},
   "source": [
    "-------------\n",
    "\n",
    "## Testing migration\n",
    "\n",
    "- To test if migration works, exclude all confusing effects\n",
    "    - no birth or death\n",
    "    - everyone walks\n",
    "    - all destinations accessible\n",
    "- To do so\n",
    "    - create square island with identical cells\n",
    "    - use particular parameter settings\n",
    "        - set very large `a_half` to ensure \"perfect\" fitness\n",
    "        - set birth and death parameters to zero\n",
    "        - set appetite of carnivores to zero\n",
    "        - set migration parameter $\\mu=1$\n",
    "    - create initial population at center of island with small age and large weight\n",
    "- Expected result\n",
    "    - constant number of animals\n",
    "    - all animals have $\\Phi=1$ and thus $\\mu\\Phi=1$, thus each animal moves every year\n",
    "    - animals will move to each neighbor location with equal probability\n",
    "\n",
    "### Example\n",
    "\n",
    "- 1000 herbivores and 1000 carnivores placed in center initially\n",
    "- All animals initially have age 5, weight 50\n",
    "- Parameters set with\n",
    "```python\n",
    "    sim.set_animal_parameters('Herbivore',\n",
    "                                {'mu': 1, 'omega': 0, 'gamma': 0,\n",
    "                                 'a_half': 1000})\n",
    "    sim.set_animal_parameters('Carnivore',\n",
    "                                {'mu': 1, 'omega': 0, 'gamma': 0,\n",
    "                                 'F': 0, 'a_half': 1000})\n",
    "```\n",
    "\n",
    "![mig0](figures/mig_00000.png) | ![mig1](figures/mig_00001.png) | \n",
    "-- | -- \n",
    "![mig2](figures/mig_00002.png) | ![mig3](figures/mig_00003.png) \n",
    "![mig4](figures/mig_00004.png) | ![mig10](figures/mig_00010.png)"
   ]
  },
  {
   "cell_type": "code",
   "execution_count": null,
   "metadata": {},
   "outputs": [],
   "source": []
  }
 ],
 "metadata": {
  "kernelspec": {
   "display_name": "Python 3 (ipykernel)",
   "language": "python",
   "name": "python3"
  },
  "language_info": {
   "codemirror_mode": {
    "name": "ipython",
    "version": 3
   },
   "file_extension": ".py",
   "mimetype": "text/x-python",
   "name": "python",
   "nbconvert_exporter": "python",
   "pygments_lexer": "ipython3",
   "version": "3.8.12"
  }
 },
 "nbformat": 4,
 "nbformat_minor": 4
}
