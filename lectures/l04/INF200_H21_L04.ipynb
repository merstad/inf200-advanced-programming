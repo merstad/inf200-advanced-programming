{
 "cells": [
  {
   "cell_type": "markdown",
   "id": "d423d94e-5864-4901-b69f-89b82cca8ebb",
   "metadata": {},
   "source": [
    "INF200 Lecture No 4\n",
    "===================\n",
    "\n",
    "***Hans Ekkehard Plesser, NMBU, 4 October 2021***\n",
    "\n",
    "# Today's topics\n",
    "\n",
    "* About INF200 *Advanced Programming*\n",
    "* Administrativa\n",
    "    - Choosing your project partner and a block\n",
    "    - Getting started with Git\n",
    "    - Guest lecture 11 Oct\n",
    "    - Tech assistance\n",
    "* Representing data\n",
    "    - Overview\n",
    "    - Standard containers: Lists, dictionaries, sets\n",
    "    - More advanced container techniques\n",
    "    - NumPy arrays\n",
    "    - Pandas series and dataframes"
   ]
  },
  {
   "cell_type": "markdown",
   "id": "aa66c278-eefa-471f-9df6-68fa62f2450b",
   "metadata": {
    "tags": []
   },
   "source": [
    "---\n",
    "\n",
    "# About INF200 *Advanced Programming*\n",
    "\n",
    "# Administrativa\n",
    "\n",
    "## Choosing your project partner and a block\n",
    "\n",
    "- Fill in the [quiz on Canvas](https://nmbu.instructure.com/courses/7165/quizzes/10047) by **Friday, 8 Oct, 18.00**!\n",
    "- Selection of block\n",
    "    - There will be more places in the January block than in the June block (approx 120 vs 60 places).\n",
    "    - If you cannot participate in one of the blocks for a good reason, you will have priority for a space in the other block.\n",
    "    - A good reason is primarily a \"colliding\" mandatory course in one of the blocks or studies abroad.\n",
    "    - Attendance **on campus** is **mandatory** during most of the block, **Mon–Fri from 9–15**.\n",
    "    - January block\n",
    "        - Mandatory attendance: 3 January–18 January\n",
    "        - Presentation preparation: 19/20/21 January\n",
    "        - Exam: 24/25 January (small probability for exams 24/25 Jan + 31 Jan/1 Feb)\n",
    "    - June block\n",
    "        - Mandatory attendance: 30 May–15 June (except 6 June, public holiday)\n",
    "        - Presentation preparation: 16/17 June\n",
    "        - Exam: 20/21 June\n",
    "- Selection of partner\n",
    "    - You must collaborate with a partner.\n",
    "    - You and your partner **must be in the same block**.\n",
    "    - You and your partner should be in the same exercise group.\n",
    "    - Change of partner will only be permitted under extraordinary circumstances.\n",
    "\n",
    "## Getting started with GitLab\n",
    "\n",
    "- From week 41 onward, we will use a version control system to manage course materials and exercise delivery.\n",
    "- You must create a GitLab account on https://about.gitlab.com/ by Friday 8 Oct.\n",
    "    - Register with your NMBU email address!\n",
    "    - Configure 2-factor authenication!\n",
    "    - Do this during the exercise groups this week!\n",
    "- You will practice working with GitLab and Git in the exercise groups next week (13–15 Oct).\n",
    "\n",
    "## Guest lecture next week\n",
    "\n",
    "On Monday, 11 October, Oliver Tomic will lecture on Python tools for machine learning.\n",
    "\n",
    "## Tech assistance\n",
    "\n",
    "Sanjay is available in TF2-325B *Thursdays 10–11* for help with technical problems (https://link.mazemap.com/V5Lvu0nK)."
   ]
  },
  {
   "cell_type": "markdown",
   "id": "50617b2c-e73b-4f94-ad23-c8b1444e48eb",
   "metadata": {
    "tags": []
   },
   "source": [
    "---\n",
    "# Representing data: Overview\n",
    "\n",
    "- We need to organize data in our code to work with it\n",
    "    - Keep control: is that value the temperature at noon or the wind speed at midnight?\n",
    "    - Select data according to different criteria: by name, by location, ...\n",
    "    - Exchange data between different parts of a large program\n",
    "    - Perform operations efficiently on large data\n",
    "- Keeping control is essential\n",
    "    - If we lose control of what is what, our code will produce incorrect results\n",
    "    - Wrong results are worse than no results: if the program crashes, we at least know something is wrong!\n",
    "- Code lives long and passes through many hands\n",
    "    - Code should be self-documenting\n",
    "    - Data should be self-documenting\n",
    "    - Example: Wheather data from frost.met.no\n",
    "\n",
    "        ```python\n",
    "          [{'sourceId': 'SN17850:0',\n",
    "            'referenceTime': '2021-01-01T00:00:00.000Z',\n",
    "            'observations': [{'elementId': 'mean(air_temperature P1D)',\n",
    "                              'value': -0.3,\n",
    "                              'unit': 'degC',\n",
    "                              'level': {'levelType': 'height_above_ground', 'unit': 'm', 'value': 2},\n",
    "                              'timeOffset': 'PT0H',\n",
    "                              'timeResolution': 'P1D',\n",
    "                              'timeSeriesId': 0,\n",
    "                              'performanceCategory': 'C',\n",
    "                              'exposureCategory': '1',\n",
    "                              'qualityCode': 0},\n",
    "        ```\n",
    "                          \n",
    "- In this lecture\n",
    "    - Standard containers for data: lists, dictionaries, sets\n",
    "    - NumPy arrays\n",
    "    - Pandas dataframes\n",
    "- Weeks 42–43\n",
    "    - Object-oriented programming as a technique for consistent representation of and operations on data"
   ]
  },
  {
   "cell_type": "markdown",
   "id": "58aed3c6-98ce-4df2-aaf8-c8f460849dcd",
   "metadata": {
    "tags": []
   },
   "source": [
    "---\n",
    "# Standard containers: Lists, dictionaries, sets\n",
    "\n",
    "- We often need to process *collections* of data\n",
    "    - students in a class\n",
    "    - series of weather measurements\n",
    "    - payments in a shop\n",
    "- Frequently, several items of information are related\n",
    "    - name, courses taken, grades achieved of a student\n",
    "    - temperature, humidity, precipitation, wind speed at a given hour\n",
    "    - items, quantities and prices of goods purchased\n",
    "- The number of data items we have will change ove time\n",
    "    - we cannot work with fixed variables, e.g.,\n",
    "      ```python\n",
    "      inf200_student1_name = 'Karim'\n",
    "      inf200_student2_name = 'Elise'\n",
    "      ...\n",
    "      inf200_student169_name = 'Ole'\n",
    "      ```\n",
    "    - we need flexible *containers*\n",
    "- General properties of containers\n",
    "    - We can insert data\n",
    "    - We can remove data\n",
    "    - We can access data\n",
    "    - We can query if an item is in a container\n",
    "- These general properties apply not only to containers in Python, but also in other programming languages\n",
    "- Different containers have different specific properties\n",
    "\n",
    "## The Python list\n",
    "\n",
    "- The only container you *really* need\n",
    "    - Everything else can *in principle* be implemented using lists\n",
    "    - Performance could suffer badly, though; an example follows below\n",
    "- Python's `list` is a *[random access](https://en.wikipedia.org/wiki/Random_access) container*\n",
    "    - We can ask for any element in a list—and get it fast.\n",
    "    - This differs from the meaning of \"[list](https://en.wikipedia.org/wiki/List_(abstract_data_type))\" in computer science, where it means a sequential container, where we only can move from one element to the next.\n",
    "\n",
    "### Python list as random access container\n",
    "- Insert data anywhere in a list"
   ]
  },
  {
   "cell_type": "code",
   "execution_count": 1,
   "id": "de8cfdf6-b99c-49da-ab6e-c11ad17a3437",
   "metadata": {
    "tags": []
   },
   "outputs": [
    {
     "name": "stdout",
     "output_type": "stream",
     "text": [
      "[5, 10, 20, 30, 35, 40, 50]\n"
     ]
    }
   ],
   "source": [
    "l = [10, 20, 30, 40]\n",
    "l.append(50)     # at end\n",
    "l.insert(3, 35)  # before element with index 3\n",
    "l.insert(0, 5)   # at beginning\n",
    "print(l)"
   ]
  },
  {
   "cell_type": "markdown",
   "id": "77d7ade1-fdbd-46ec-9e9e-02d45198b688",
   "metadata": {},
   "source": [
    "- Access and change data"
   ]
  },
  {
   "cell_type": "code",
   "execution_count": 2,
   "id": "41800ce2-97dc-4284-aa88-7f73267c7ab9",
   "metadata": {},
   "outputs": [
    {
     "data": {
      "text/plain": [
       "[5, 10, 20, 30, 300, 40, 50]"
      ]
     },
     "execution_count": 2,
     "metadata": {},
     "output_type": "execute_result"
    }
   ],
   "source": [
    "l[4] = 300\n",
    "l"
   ]
  },
  {
   "cell_type": "markdown",
   "id": "d94497e7-8493-49c2-8402-52ea6bc0ca05",
   "metadata": {},
   "source": [
    "- Remove data"
   ]
  },
  {
   "cell_type": "code",
   "execution_count": 3,
   "id": "e3158331-44f3-4021-b4e7-290f69e29c0e",
   "metadata": {},
   "outputs": [
    {
     "data": {
      "text/plain": [
       "[5, 10, 20, 30, 40, 50]"
      ]
     },
     "execution_count": 3,
     "metadata": {},
     "output_type": "execute_result"
    }
   ],
   "source": [
    "del l[4]\n",
    "l"
   ]
  },
  {
   "cell_type": "markdown",
   "id": "3bbb2bc5-7abe-4c16-a7dd-61df861d5e45",
   "metadata": {},
   "source": [
    "- Ask if a value is in a list"
   ]
  },
  {
   "cell_type": "code",
   "execution_count": 4,
   "id": "b53aad2f-bc1a-42ee-b0ac-4e045d51255e",
   "metadata": {},
   "outputs": [
    {
     "data": {
      "text/plain": [
       "True"
      ]
     },
     "execution_count": 4,
     "metadata": {},
     "output_type": "execute_result"
    }
   ],
   "source": [
    "20 in l"
   ]
  },
  {
   "cell_type": "code",
   "execution_count": 5,
   "id": "dc4db1d4-97de-42e0-b3c2-b7e0ea5711ac",
   "metadata": {},
   "outputs": [
    {
     "data": {
      "text/plain": [
       "3"
      ]
     },
     "execution_count": 5,
     "metadata": {},
     "output_type": "execute_result"
    }
   ],
   "source": [
    "l.index(30)"
   ]
  },
  {
   "cell_type": "code",
   "execution_count": 6,
   "id": "e6edb294-287a-45d2-a14c-9e093a668bb5",
   "metadata": {},
   "outputs": [
    {
     "ename": "ValueError",
     "evalue": "99 is not in list",
     "output_type": "error",
     "traceback": [
      "\u001b[0;31m---------------------------------------------------------------------------\u001b[0m",
      "\u001b[0;31mValueError\u001b[0m                                Traceback (most recent call last)",
      "\u001b[0;32m/var/folders/j5/971zg6qd58n070p_ds781hzm0000gn/T/ipykernel_65376/2762929508.py\u001b[0m in \u001b[0;36m<module>\u001b[0;34m\u001b[0m\n\u001b[0;32m----> 1\u001b[0;31m \u001b[0ml\u001b[0m\u001b[0;34m.\u001b[0m\u001b[0mindex\u001b[0m\u001b[0;34m(\u001b[0m\u001b[0;36m99\u001b[0m\u001b[0;34m)\u001b[0m\u001b[0;34m\u001b[0m\u001b[0;34m\u001b[0m\u001b[0m\n\u001b[0m",
      "\u001b[0;31mValueError\u001b[0m: 99 is not in list"
     ]
    }
   ],
   "source": [
    "l.index(99)"
   ]
  },
  {
   "cell_type": "markdown",
   "id": "50afc91e-72a5-433c-9319-ce4d1ce28f1a",
   "metadata": {},
   "source": [
    "### Building lists\n",
    "\n",
    "#### ... the old fashioned way using a loop"
   ]
  },
  {
   "cell_type": "code",
   "execution_count": 7,
   "id": "2da3d4c7-1e6f-41f3-8f2a-7cfbb835b9fd",
   "metadata": {},
   "outputs": [
    {
     "data": {
      "text/plain": [
       "[0, 1, 2, 3, 4]"
      ]
     },
     "execution_count": 7,
     "metadata": {},
     "output_type": "execute_result"
    }
   ],
   "source": [
    "x = []\n",
    "for n in range(5):\n",
    "    x.append(n)\n",
    "x"
   ]
  },
  {
   "cell_type": "markdown",
   "id": "83d8d82b-1b3b-4bcd-bbed-5bd50da681ca",
   "metadata": {},
   "source": [
    "- Works, but quite a lot of code\n",
    "- We write down instructions of how to build the list step by step\n",
    "\n",
    "#### ... the modern way by [list comprehension](https://en.wikipedia.org/wiki/List_comprehension)"
   ]
  },
  {
   "cell_type": "code",
   "execution_count": 8,
   "id": "c53ccdae-ff83-47de-9d58-33e89c755a8f",
   "metadata": {},
   "outputs": [
    {
     "data": {
      "text/plain": [
       "[0, 1, 2, 3, 4]"
      ]
     },
     "execution_count": 8,
     "metadata": {},
     "output_type": "execute_result"
    }
   ],
   "source": [
    "x = [n for n in range(5)]\n",
    "x"
   ]
  },
  {
   "cell_type": "markdown",
   "id": "fc2a564b-e4ed-49e9-83c4-80ad0a75c82a",
   "metadata": {},
   "source": [
    "- Much more compact\n",
    "- We express our *intent*: what do we want in the list\n",
    "- We can also perform operations and place conditions on which elements to include"
   ]
  },
  {
   "cell_type": "code",
   "execution_count": 9,
   "id": "f3b36924-ce30-4601-b0c2-772d8e97e3fe",
   "metadata": {},
   "outputs": [
    {
     "data": {
      "text/plain": [
       "[0, 27, 216, 729]"
      ]
     },
     "execution_count": 9,
     "metadata": {},
     "output_type": "execute_result"
    }
   ],
   "source": [
    "y = [n**3 for n in range(10) if n % 3 == 0]\n",
    "y"
   ]
  },
  {
   "cell_type": "markdown",
   "id": "efab4dd0-ece7-4556-bbab-548f2510cab9",
   "metadata": {},
   "source": [
    "- This is very close to the mathematical [set-builder notation](https://en.wikipedia.org/wiki/Set-builder_notation)\n",
    "$$y = \\{n^3|0\\leq n< 10 \\wedge n=0\\bmod 3\\}$$\n",
    "\n",
    "#### Building a chessboard\n",
    "\n",
    "- A chessboard has files (columns) a–h and ranks (rows) 1–8\n",
    "- Can we generate a list of all column-row combinations from a1 to h8?\n",
    "- We can use a nested list comprehension\n",
    "\n",
    "![Chessboard, Wikipedia](https://upload.wikimedia.org/wikipedia/commons/thumb/c/c3/Chess_board_opening_staunton.jpg/300px-Chess_board_opening_staunton.jpg) ![Odometer, Wikipedia](https://upload.wikimedia.org/wikipedia/commons/thumb/7/7d/Odometer2.jpg/250px-Odometer2.jpg)\n",
    "Source: Wikipedia"
   ]
  },
  {
   "cell_type": "code",
   "execution_count": 10,
   "id": "3f151c01-41a2-490b-92a2-b1bf21c84ca9",
   "metadata": {},
   "outputs": [
    {
     "name": "stdout",
     "output_type": "stream",
     "text": [
      "['a1', 'a2', 'a3', 'a4', 'a5', 'a6', 'a7', 'a8', 'b1', 'b2', 'b3', 'b4', 'b5', 'b6', 'b7', 'b8', 'c1', 'c2', 'c3', 'c4', 'c5', 'c6', 'c7', 'c8', 'd1', 'd2', 'd3', 'd4', 'd5', 'd6', 'd7', 'd8', 'e1', 'e2', 'e3', 'e4', 'e5', 'e6', 'e7', 'e8', 'f1', 'f2', 'f3', 'f4', 'f5', 'f6', 'f7', 'f8', 'g1', 'g2', 'g3', 'g4', 'g5', 'g6', 'g7', 'g8', 'h1', 'h2', 'h3', 'h4', 'h5', 'h6', 'h7', 'h8']\n"
     ]
    }
   ],
   "source": [
    "chessboard = [chr(ord('a')+file) + str(1+rank) \n",
    "              for file in range(8) for rank in range(8)]\n",
    "print(chessboard)"
   ]
  },
  {
   "cell_type": "markdown",
   "id": "552fc9f5-04e8-4a5e-99fd-e2e4c86655b7",
   "metadata": {},
   "source": [
    "- How does this list comprehension work?\n",
    "    - The last loop (over `rank`) runs fastest (like the digits on an odometer (tripteller)\n",
    "    - Every time the `rank`-loop has run through, the `file` loop makes one step\n",
    "    - We exploit that the capital letters have ordered character codes\n",
    "        - `ord('a')` gives us the code for a\n",
    "        - we add 0, 1, ..., 7\n",
    "        - `chr()` converts the resulting number to a letter\n",
    "- Can we create a list comprehension to get only the black fields, given that a1 is black?\n",
    "    - Inspecting the board shows that rank plus file number of black fields is even"
   ]
  },
  {
   "cell_type": "code",
   "execution_count": 11,
   "id": "bc33cc8f-8ceb-42b3-9d4f-84cf21980cd6",
   "metadata": {},
   "outputs": [
    {
     "name": "stdout",
     "output_type": "stream",
     "text": [
      "['a1', 'a3', 'a5', 'a7', 'b2', 'b4', 'b6', 'b8', 'c1', 'c3', 'c5', 'c7', 'd2', 'd4', 'd6', 'd8', 'e1', 'e3', 'e5', 'e7', 'f2', 'f4', 'f6', 'f8', 'g1', 'g3', 'g5', 'g7', 'h2', 'h4', 'h6', 'h8']\n"
     ]
    }
   ],
   "source": [
    "chess_black = [chr(ord('a')+file) + str(1+rank) \n",
    "               for file in range(8) for rank in range(8)\n",
    "               if (file + rank) % 2 == 0]\n",
    "print(chess_black)"
   ]
  },
  {
   "cell_type": "markdown",
   "id": "f5fa6bac-049a-452e-bea3-ef74e1bd6080",
   "metadata": {},
   "source": [
    "### Simple list operations\n",
    "\n",
    "#### Iterating forward"
   ]
  },
  {
   "cell_type": "code",
   "execution_count": 12,
   "id": "34707e53-218a-4c03-95e2-df4c11ab1294",
   "metadata": {},
   "outputs": [
    {
     "name": "stdout",
     "output_type": "stream",
     "text": [
      "11 22 33 44 "
     ]
    }
   ],
   "source": [
    "l = [11, 22, 33, 44]\n",
    "for n in l:\n",
    "    print(n, end=' ')"
   ]
  },
  {
   "cell_type": "markdown",
   "id": "7ff9653b-050f-405d-9637-72af9b64f699",
   "metadata": {},
   "source": [
    "#### Iterating backwards"
   ]
  },
  {
   "cell_type": "code",
   "execution_count": 14,
   "id": "d162d6e7-8127-47a7-b384-9a1748299d97",
   "metadata": {},
   "outputs": [
    {
     "name": "stdout",
     "output_type": "stream",
     "text": [
      "44 33 22 11 "
     ]
    }
   ],
   "source": [
    "for n in reversed(l):\n",
    "    print(n, end=' ')"
   ]
  },
  {
   "cell_type": "markdown",
   "id": "52eb08b7-6e79-4a49-ad44-82b372eef75d",
   "metadata": {},
   "source": [
    "#### Iterating with counter"
   ]
  },
  {
   "cell_type": "code",
   "execution_count": 15,
   "id": "8065660b-575c-4213-960d-f624e53eda26",
   "metadata": {},
   "outputs": [
    {
     "name": "stdout",
     "output_type": "stream",
     "text": [
      "0:11 1:22 2:33 3:44 "
     ]
    }
   ],
   "source": [
    "for counter, n in enumerate(l):\n",
    "    print(f'{counter}:{n}', end=' ')"
   ]
  },
  {
   "cell_type": "markdown",
   "id": "09d9f905-31c5-4c23-861f-b8a7952ab456",
   "metadata": {},
   "source": [
    "- The examples above show good Python style for working with elements of a list.\n",
    "    - **Avoid** C-style iteration such as\n",
    "\n",
    "      ```python\n",
    "      for i in range(len(l)):\n",
    "          print(l[i])\n",
    "\n",
    "      ```\n",
    "    - That looks like Python spoken with a very heavy accent!\n",
    "\n",
    "#### Slicing\n",
    "\n",
    "- Just some examples, experiment yourself!"
   ]
  },
  {
   "cell_type": "code",
   "execution_count": 16,
   "id": "965a2790-4791-4de5-aff2-42ae98e153d6",
   "metadata": {},
   "outputs": [
    {
     "data": {
      "text/plain": [
       "[11, 22, 33, 44]"
      ]
     },
     "execution_count": 16,
     "metadata": {},
     "output_type": "execute_result"
    }
   ],
   "source": [
    "l[:]"
   ]
  },
  {
   "cell_type": "code",
   "execution_count": 17,
   "id": "06b455c5-69f0-4611-b28b-44b0d3160761",
   "metadata": {},
   "outputs": [
    {
     "data": {
      "text/plain": [
       "[33, 44]"
      ]
     },
     "execution_count": 17,
     "metadata": {},
     "output_type": "execute_result"
    }
   ],
   "source": [
    "l[2:]"
   ]
  },
  {
   "cell_type": "code",
   "execution_count": 18,
   "id": "f66f0dfb-29ac-488e-aa28-40a7dce95d26",
   "metadata": {},
   "outputs": [
    {
     "data": {
      "text/plain": [
       "[11, 22]"
      ]
     },
     "execution_count": 18,
     "metadata": {},
     "output_type": "execute_result"
    }
   ],
   "source": [
    "l[:2]"
   ]
  },
  {
   "cell_type": "code",
   "execution_count": 19,
   "id": "98a3f3ed-c497-4c55-b61d-eb82440ec664",
   "metadata": {},
   "outputs": [
    {
     "data": {
      "text/plain": [
       "[11, 33]"
      ]
     },
     "execution_count": 19,
     "metadata": {},
     "output_type": "execute_result"
    }
   ],
   "source": [
    "l[::2]"
   ]
  },
  {
   "cell_type": "code",
   "execution_count": 20,
   "id": "e20e125f-70cb-4f82-8ac2-983dfb8feb6d",
   "metadata": {},
   "outputs": [
    {
     "data": {
      "text/plain": [
       "[11, 22, 33]"
      ]
     },
     "execution_count": 20,
     "metadata": {},
     "output_type": "execute_result"
    }
   ],
   "source": [
    "l[:-1]"
   ]
  },
  {
   "cell_type": "markdown",
   "id": "bbbf1f1e-0b21-4fa2-bb6e-7386af1eddda",
   "metadata": {},
   "source": [
    "### Lists of lists\n",
    "\n",
    "- Python lists can *in principle* contain anything, in arbitrary mixture"
   ]
  },
  {
   "cell_type": "code",
   "execution_count": 19,
   "id": "f24e100a-c6c4-4dcc-950b-01c3790fd890",
   "metadata": {},
   "outputs": [
    {
     "data": {
      "text/plain": [
       "[1, 5.4, 'a string', ['a list'], {'a': 1}]"
      ]
     },
     "execution_count": 19,
     "metadata": {},
     "output_type": "execute_result"
    }
   ],
   "source": [
    "[1, 5.4, 'a string', ['a list'], {'a': 1}]"
   ]
  },
  {
   "cell_type": "markdown",
   "id": "f8ed04d5-a6d1-4c5e-b7d6-94ba63dcbccf",
   "metadata": {},
   "source": [
    "- *In practice*, this is not a good idea and points to a lack of control\n",
    "- Usually, we want elements of the same type in a list (there are exceptions)\n",
    "- But lists can contain lists, e.g., student data"
   ]
  },
  {
   "cell_type": "code",
   "execution_count": 21,
   "id": "29bf075b-2db1-4741-8970-d721605b390e",
   "metadata": {},
   "outputs": [
    {
     "data": {
      "text/plain": [
       "[['Per', 'Olsen', 'M-DV', ['INF200', 'INF221', 'INF250']],\n",
       " ['Kari', 'Hansen', 'M-TDV', ['DAT300', 'DAT390', 'FYS388']]]"
      ]
     },
     "execution_count": 21,
     "metadata": {},
     "output_type": "execute_result"
    }
   ],
   "source": [
    "students = [['Per', 'Olsen', 'M-DV', ['INF200', 'INF221', 'INF250']],\n",
    "            ['Kari', 'Hansen', 'M-TDV', ['DAT300', 'DAT390', 'FYS388']]]\n",
    "students"
   ]
  },
  {
   "cell_type": "markdown",
   "id": "fd5633c8-c735-4cd8-986a-7438546d1e68",
   "metadata": {},
   "source": [
    "- We need to index one level at a time"
   ]
  },
  {
   "cell_type": "code",
   "execution_count": 22,
   "id": "e946237b-a1c3-4ec3-a318-adcf76e1f423",
   "metadata": {},
   "outputs": [
    {
     "data": {
      "text/plain": [
       "'Olsen'"
      ]
     },
     "execution_count": 22,
     "metadata": {},
     "output_type": "execute_result"
    }
   ],
   "source": [
    "students[0][1]"
   ]
  },
  {
   "cell_type": "code",
   "execution_count": 23,
   "id": "b04dc946-be75-424f-966b-158b221c3641",
   "metadata": {},
   "outputs": [
    {
     "data": {
      "text/plain": [
       "'DAT390'"
      ]
     },
     "execution_count": 23,
     "metadata": {},
     "output_type": "execute_result"
    }
   ],
   "source": [
    "students[1][3][1]"
   ]
  },
  {
   "cell_type": "markdown",
   "id": "ef5f3ae4-40fa-436b-86e6-2e62bf3a1a54",
   "metadata": {},
   "source": [
    "### Copying lists: beware!\n",
    "\n",
    "- Assignment only gives a new name, does not copy"
   ]
  },
  {
   "cell_type": "code",
   "execution_count": 24,
   "id": "792711a5-d659-4c6c-afad-e94d04ba5e7d",
   "metadata": {},
   "outputs": [
    {
     "name": "stdout",
     "output_type": "stream",
     "text": [
      "[11, 22, 0, 44]\n",
      "[11, 22, 0, 44]\n"
     ]
    }
   ],
   "source": [
    "l = [11, 22, 33, 44]\n",
    "m = l\n",
    "l[2] = 0\n",
    "print(l)\n",
    "print(m)"
   ]
  },
  {
   "cell_type": "markdown",
   "id": "3c63f9a0-1de5-443d-889a-85892ac393df",
   "metadata": {},
   "source": [
    "- Two ways of creating a copy"
   ]
  },
  {
   "cell_type": "code",
   "execution_count": 25,
   "id": "9b35f821-ee25-40eb-a77d-eb45c88fb27b",
   "metadata": {},
   "outputs": [
    {
     "name": "stdout",
     "output_type": "stream",
     "text": [
      "[11, 22, 0, 44]\n",
      "[11, 22, 33, 44]\n",
      "[11, 22, 33, 44]\n"
     ]
    }
   ],
   "source": [
    "l = [11, 22, 33, 44]\n",
    "m = l.copy()\n",
    "k = l[:]\n",
    "l[2] = 0\n",
    "print(l)\n",
    "print(m)\n",
    "print(k)"
   ]
  },
  {
   "cell_type": "markdown",
   "id": "21ca6828-98ba-460b-a5f9-2c42b52d493e",
   "metadata": {},
   "source": [
    "- But beware of nested lists!\n",
    "- `copy()` and `[:]` create a *shallow* copy!"
   ]
  },
  {
   "cell_type": "code",
   "execution_count": 26,
   "id": "b5f5fd06-c063-4794-973d-8c358ee1ac84",
   "metadata": {},
   "outputs": [
    {
     "name": "stdout",
     "output_type": "stream",
     "text": [
      "[0, [999, 33], 44]\n",
      "[11, [999, 33], 44]\n"
     ]
    }
   ],
   "source": [
    "l = [11, [22, 33], 44]\n",
    "m = l.copy()\n",
    "l[0] = 0\n",
    "l[1][0] = 999\n",
    "print(l)\n",
    "print(m)"
   ]
  },
  {
   "cell_type": "markdown",
   "id": "4f398845-d794-41ba-869e-d09bbc9a04c6",
   "metadata": {},
   "source": [
    "- Notice that the change to the inner list has affected `m` as well!\n",
    "- We need to `deepcopy()` is we want also included lists copied"
   ]
  },
  {
   "cell_type": "code",
   "execution_count": 27,
   "id": "22b51223-0a47-4aa6-8d2e-aab68f9f97cc",
   "metadata": {},
   "outputs": [
    {
     "name": "stdout",
     "output_type": "stream",
     "text": [
      "[0, [999, 33], 44]\n",
      "[11, [22, 33], 44]\n"
     ]
    }
   ],
   "source": [
    "from copy import deepcopy\n",
    "l = [11, [22, 33], 44]\n",
    "m = deepcopy(l)\n",
    "l[0] = 0\n",
    "l[1][0] = 999\n",
    "print(l)\n",
    "print(m)"
   ]
  },
  {
   "cell_type": "markdown",
   "id": "50838d8a-6181-4aea-aa8c-994c08c5dc8b",
   "metadata": {},
   "source": [
    "## Python dictionaries\n",
    "\n",
    "- What is problematic with storing student data like this?"
   ]
  },
  {
   "cell_type": "code",
   "execution_count": 27,
   "id": "cd39f42c-9f45-4872-975a-ce5e3f035fe9",
   "metadata": {},
   "outputs": [],
   "source": [
    "students = [['Per', 'Olsen', 'M-DV', ['INF200', 'INF221', 'INF250']],\n",
    "            ['Kari', 'Hansen', 'M-TDV', ['DAT300', 'DAT390', 'FYS388']]]"
   ]
  },
  {
   "cell_type": "markdown",
   "id": "4d5eb055-d5e6-4398-a065-92f1ccfe2b16",
   "metadata": {},
   "source": [
    "- To print student names, we would write code such as"
   ]
  },
  {
   "cell_type": "code",
   "execution_count": 28,
   "id": "f343d8a5-46e6-40c7-b34d-dbc3c3367b95",
   "metadata": {},
   "outputs": [
    {
     "name": "stdout",
     "output_type": "stream",
     "text": [
      "Olsen\n",
      "Hansen\n"
     ]
    }
   ],
   "source": [
    "for student in students:\n",
    "    print(student[1])"
   ]
  },
  {
   "cell_type": "markdown",
   "id": "392e8647-909b-4126-874d-9fb79822f9a0",
   "metadata": {},
   "source": [
    "- How long will we remember that `0` indexes the first and `1` the last name?\n",
    "- Will our colleague coding other parts of the problem know?\n",
    "- What happens if we want to make changes to the code, add new information?\n",
    "- We need a more robust solution: *dictionaries*\n",
    "- Also known as [*associative arrays*](https://en.wikipedia.org/wiki/Associative_array) or *maps*\n",
    "- Map or associate *keys* to *values*\n",
    "    - Keys must be unique\n",
    "    - Keys must be *immutable* (in Python): no lists or dicts as keys (use tuples!)\n",
    "    - Look-up by key is fast"
   ]
  },
  {
   "cell_type": "code",
   "execution_count": 29,
   "id": "0edf7f78-1df3-4a98-b7ba-af9042309544",
   "metadata": {},
   "outputs": [
    {
     "data": {
      "text/plain": [
       "[{'given_name': 'Per',\n",
       "  'family_name': 'Olsen',\n",
       "  'programme': 'M-DV',\n",
       "  'courses': ['INF200', 'INF221', 'INF250']},\n",
       " {'given_name': 'Kari',\n",
       "  'family_name': 'Hansen',\n",
       "  'programme': 'M-TDV',\n",
       "  'courses': ['DAT300', 'DAT390', 'FYS388']}]"
      ]
     },
     "execution_count": 29,
     "metadata": {},
     "output_type": "execute_result"
    }
   ],
   "source": [
    "students = [{'given_name': 'Per', 'family_name': 'Olsen', 'programme': 'M-DV', \n",
    "             'courses': ['INF200', 'INF221', 'INF250']},\n",
    "            {'given_name': 'Kari', 'family_name': 'Hansen', 'programme': 'M-TDV', \n",
    "             'courses': ['DAT300', 'DAT390', 'FYS388']}]\n",
    "students"
   ]
  },
  {
   "cell_type": "markdown",
   "id": "27ad9e78-47c3-42a2-85cb-3f83a0650791",
   "metadata": {},
   "source": [
    "- The data is now largely self-documenting.\n",
    "- In code working on the data, it becomes explicit what we are doing"
   ]
  },
  {
   "cell_type": "code",
   "execution_count": 30,
   "id": "6fb75a90-7198-413f-ad1e-938dc4033f84",
   "metadata": {},
   "outputs": [
    {
     "name": "stdout",
     "output_type": "stream",
     "text": [
      "Olsen\n",
      "Hansen\n"
     ]
    }
   ],
   "source": [
    "for student in students:\n",
    "    print(student['family_name'])"
   ]
  },
  {
   "cell_type": "markdown",
   "id": "7c62145a-7d69-4d42-93b4-ba7a3593fdf4",
   "metadata": {},
   "source": [
    "### Records and fields\n",
    "\n",
    "- Our student data contains one [record](https://en.wikipedia.org/wiki/Record_(computer_science)) per student.\n",
    "    - A record comprises information about an entity, e.g., one student.\n",
    "    - If we had student data in a spreasheet, a record would usually be a row.\n",
    "    - Standard databases also store records in rows.\n",
    "    - If we used cardboard cards, we would have one card per student as record.\n",
    "- Each record has one or more [fields](https://en.wikipedia.org/wiki/Field_(computer_science))\n",
    "    - A field contains a single piece of information, e.g., family name, phone number, etc.\n",
    "    - In a spreadsheet or database, fields correspond to columns.\n",
    "    - On a cardboard card, for each field we would have a box to fill in the data.\n",
    "- When representing students as a list of dictionaries\n",
    "    - each dictionary is the record for one student, and\n",
    "    - dictionary entries map field names to field entries."
   ]
  },
  {
   "cell_type": "markdown",
   "id": "9b5f05e1-f278-4ab3-9c0f-f925ee5cf420",
   "metadata": {},
   "source": [
    "### Design question: List of dicts or dicts of dicts?\n",
    "\n",
    "#### Alternative A: List of records"
   ]
  },
  {
   "cell_type": "code",
   "execution_count": 19,
   "id": "fe5771c5-0dfd-4190-af69-49b52be59d2b",
   "metadata": {},
   "outputs": [],
   "source": [
    "students = [{'given_name': 'Per', 'family_name': 'Olsen', 'programme': 'M-DV', \n",
    "             'courses': ['INF200', 'INF221', 'INF250']},\n",
    "            {'given_name': 'Kari', 'family_name': 'Hansen', 'programme': 'M-TDV', \n",
    "             'courses': ['DAT300', 'DAT390', 'FYS388']}]"
   ]
  },
  {
   "cell_type": "markdown",
   "id": "2cbf4a87-7370-4558-9eb1-609e5353cf18",
   "metadata": {},
   "source": [
    "#### Alternative B: Mapping family names to data"
   ]
  },
  {
   "cell_type": "code",
   "execution_count": 32,
   "id": "a6951f9c-2d72-45a8-8f1e-9c2aa3eda0b9",
   "metadata": {},
   "outputs": [],
   "source": [
    "students_by_fam = {'Olsen': {'given_name': 'Per', 'programme': 'M-DV', \n",
    "                             'courses': ['INF200', 'INF221', 'INF250']},\n",
    "                   'Hansen': {'given_name': 'Kari', 'programme': 'M-TDV', \n",
    "                              'courses': ['DAT300', 'DAT390', 'FYS388']}}"
   ]
  },
  {
   "cell_type": "markdown",
   "id": "0bda084e-707d-4f3a-8daa-cd2d2422911d",
   "metadata": {},
   "source": [
    "#### Alternative C: Mapping family and given name to data"
   ]
  },
  {
   "cell_type": "code",
   "execution_count": 33,
   "id": "e68cef33-5e4b-41eb-8406-4213cb72075b",
   "metadata": {},
   "outputs": [],
   "source": [
    "students_by_name = {('Olsen', 'Per'): {'programme': 'M-DV', \n",
    "                                       'courses': ['INF200', 'INF221', 'INF250']},\n",
    "                    ('Hansen', 'Kari'): {'programme': 'M-TDV', \n",
    "                                         'courses': ['DAT300', 'DAT390', 'FYS388']}}"
   ]
  },
  {
   "cell_type": "markdown",
   "id": "8fcdcc09-2217-449b-829a-a41893629581",
   "metadata": {},
   "source": [
    "#### Evaluation of alternatives\n",
    "\n",
    "- Are there principal (will not work!) problems with some alternatives?\n",
    "- Do some alternatives contain more or less information than others?\n",
    "- Do they provide more or less flexibility?\n",
    "- Do they provide advantages?"
   ]
  },
  {
   "cell_type": "markdown",
   "id": "db1f04de-bd72-488b-8218-0f19d29f8f51",
   "metadata": {},
   "source": [
    "### Dictionary details\n",
    "\n",
    "#### Building dictionaries by comprehension\n",
    "\n",
    "- Dictionaries can also be built by comprehension\n",
    "- We must supply key an value"
   ]
  },
  {
   "cell_type": "code",
   "execution_count": 31,
   "id": "478deef3-cdcb-42a7-9671-db56bf0cdc12",
   "metadata": {},
   "outputs": [
    {
     "data": {
      "text/plain": [
       "{1: 1, 3: 9, 5: 25, 7: 49, 9: 81}"
      ]
     },
     "execution_count": 31,
     "metadata": {},
     "output_type": "execute_result"
    }
   ],
   "source": [
    "odd_squares = {n: n**2 for n in range(10) if n % 2 == 1}\n",
    "odd_squares"
   ]
  },
  {
   "cell_type": "markdown",
   "id": "38604d49-afcb-44e6-9a88-0a6957925f95",
   "metadata": {},
   "source": [
    "#### Iterating over dictionaries\n",
    "\n",
    "- Just over the keys"
   ]
  },
  {
   "cell_type": "code",
   "execution_count": 32,
   "id": "b41a5dd5-bac1-4fc0-9565-89c9a4dc1b71",
   "metadata": {},
   "outputs": [
    {
     "name": "stdout",
     "output_type": "stream",
     "text": [
      "1 3 5 7 9 "
     ]
    }
   ],
   "source": [
    "for key in odd_squares:\n",
    "    print(key, end=' ')"
   ]
  },
  {
   "cell_type": "markdown",
   "id": "14307012-a3ab-48af-a6eb-d40c0ca3dcc9",
   "metadata": {},
   "source": [
    "- Just over values"
   ]
  },
  {
   "cell_type": "code",
   "execution_count": 33,
   "id": "8530c457-6f58-49f6-8399-11ca2e2edd87",
   "metadata": {},
   "outputs": [
    {
     "name": "stdout",
     "output_type": "stream",
     "text": [
      "1 9 25 49 81 "
     ]
    }
   ],
   "source": [
    "for val in odd_squares.values():\n",
    "    print(val, end=' ')"
   ]
  },
  {
   "cell_type": "markdown",
   "id": "605c9e94-8f15-4dc7-8fe0-842c8fef6020",
   "metadata": {},
   "source": [
    "- Over key-value pairs\n",
    "- We unpack the pairs immediately"
   ]
  },
  {
   "cell_type": "code",
   "execution_count": 34,
   "id": "fbb4066c-995c-4dbc-844b-e5f20fb7c877",
   "metadata": {},
   "outputs": [
    {
     "name": "stdout",
     "output_type": "stream",
     "text": [
      "1^2 = 1  3^2 = 9  5^2 = 25  7^2 = 49  9^2 = 81  "
     ]
    }
   ],
   "source": [
    "for key, val in odd_squares.items():\n",
    "    print(f'{key}^2 = {val}', end='  ')"
   ]
  },
  {
   "cell_type": "code",
   "execution_count": 35,
   "id": "91e62ba9-844b-494a-8261-036ce592ca9d",
   "metadata": {},
   "outputs": [
    {
     "name": "stdout",
     "output_type": "stream",
     "text": [
      "0:1^2 = 1  1:3^2 = 9  2:5^2 = 25  3:7^2 = 49  4:9^2 = 81  "
     ]
    }
   ],
   "source": [
    "for ctr, (key, val) in enumerate(odd_squares.items()):   # ctr, (k, v)\n",
    "    print(f'{ctr}:{key}^2 = {val}', end='  ')"
   ]
  },
  {
   "cell_type": "markdown",
   "id": "95ca1176-ac4b-464c-bb26-7ec345f67a0b",
   "metadata": {},
   "source": [
    "#### Turning a dictionary around\n",
    "\n",
    "- Make values keys and keys values\n",
    "- Works only if values are unique and immutable"
   ]
  },
  {
   "cell_type": "code",
   "execution_count": 36,
   "id": "cb4a9365-e2cc-437b-ba31-82ea7be0747d",
   "metadata": {},
   "outputs": [
    {
     "data": {
      "text/plain": [
       "{1: 1, 3: 9, 5: 25, 7: 49, 9: 81}"
      ]
     },
     "execution_count": 36,
     "metadata": {},
     "output_type": "execute_result"
    }
   ],
   "source": [
    "odd_squares"
   ]
  },
  {
   "cell_type": "code",
   "execution_count": 37,
   "id": "4a350966-575d-4a35-acce-334e1a10d68f",
   "metadata": {},
   "outputs": [
    {
     "data": {
      "text/plain": [
       "{1: 1, 9: 3, 25: 5, 49: 7, 81: 9}"
      ]
     },
     "execution_count": 37,
     "metadata": {},
     "output_type": "execute_result"
    }
   ],
   "source": [
    "odd_roots = {val: key for key, val in odd_squares.items()}\n",
    "odd_roots"
   ]
  },
  {
   "cell_type": "code",
   "execution_count": 39,
   "id": "78417a33-97e4-4b84-b858-1ca4c8e93efe",
   "metadata": {},
   "outputs": [
    {
     "data": {
      "text/plain": [
       "{0: 0, 1: 1, 2: 2, 3: 0, 4: 1, 5: 2, 6: 0, 7: 1, 8: 2, 9: 0}"
      ]
     },
     "execution_count": 39,
     "metadata": {},
     "output_type": "execute_result"
    }
   ],
   "source": [
    "rem = {n: n % 3 for n in range(10)}\n",
    "rem"
   ]
  },
  {
   "cell_type": "code",
   "execution_count": 41,
   "id": "5d174e53-4042-4d44-892e-3423ed2322d8",
   "metadata": {},
   "outputs": [
    {
     "data": {
      "text/plain": [
       "{0: 9, 1: 7, 2: 8}"
      ]
     },
     "execution_count": 41,
     "metadata": {},
     "output_type": "execute_result"
    }
   ],
   "source": [
    "num = {val: key for key, val in rem.items()}\n",
    "num"
   ]
  },
  {
   "cell_type": "markdown",
   "id": "64862f89-e5ea-40c1-8d95-5c57fb45da6d",
   "metadata": {},
   "source": [
    "##### Criticism\n",
    "- What happens if we have duplicate values?\n",
    "- How can we detect this problem?"
   ]
  },
  {
   "cell_type": "markdown",
   "id": "e827e30e-c2fe-4df4-825a-198e4d25ae82",
   "metadata": {},
   "source": [
    "#### Finding entries: dictionaries vs lists\n",
    "\n",
    "- Finding *keys* in a dictionary is *much* faster than finding entries in a list\n",
    "- The difference grows with container size\n",
    "- Finding dictionary values is no faster than finding list values\n",
    "- We *benchmark* by searching for a value not in the container\n",
    "- `%timeit` is an *IPython magic*\n",
    "    - only works in IPython and Jupyter, it is not Python code\n",
    "    - runs everything that follows on the line, taking time with a stopwatch\n",
    "    - repeats the timing several times to get statistics on fluctuations\n",
    "    - to ensure reasonably accurate timing, it executes (loops) the command many times until runtime is at least 0.2s\n",
    "    - For more, see online documentation: `%timeit?`"
   ]
  },
  {
   "cell_type": "code",
   "execution_count": 39,
   "id": "6cbe1c8e-0dc3-4cd4-9a29-ae8d9e31dd8d",
   "metadata": {},
   "outputs": [
    {
     "name": "stdout",
     "output_type": "stream",
     "text": [
      "Timing list (N=100)\n",
      "837 ns ± 8.04 ns per loop (mean ± std. dev. of 7 runs, 1000000 loops each)\n",
      "fTiming dict (N={N})\n",
      "35.2 ns ± 2.44 ns per loop (mean ± std. dev. of 7 runs, 10000000 loops each)\n"
     ]
    }
   ],
   "source": [
    "N = 10**2\n",
    "l = list(range(N))\n",
    "d = {n: n for n in l}\n",
    "\n",
    "print(f'Timing list (N={N})')\n",
    "%timeit (-1 in l)\n",
    "\n",
    "print(f'Timing dict (N={N})')\n",
    "%timeit (-1 in d)"
   ]
  },
  {
   "cell_type": "code",
   "execution_count": 40,
   "id": "a789d9f3-49f7-4dc5-8348-0e40a5d37932",
   "metadata": {},
   "outputs": [
    {
     "name": "stdout",
     "output_type": "stream",
     "text": [
      "Timing list (N=10000)\n",
      "83.6 µs ± 1.79 µs per loop (mean ± std. dev. of 7 runs, 10000 loops each)\n",
      "Timing dict (N=10000)\n",
      "30.6 ns ± 1.4 ns per loop (mean ± std. dev. of 7 runs, 10000000 loops each)\n"
     ]
    }
   ],
   "source": [
    "N = 10**4\n",
    "l = list(range(N))\n",
    "d = {n: n for n in l}\n",
    "\n",
    "print(f'Timing list (N={N})')\n",
    "%timeit (-1 in l)\n",
    "print(f'Timing dict (N={N})')\n",
    "%timeit (-1 in d)"
   ]
  },
  {
   "cell_type": "code",
   "execution_count": 41,
   "id": "f59c6d7d-858c-4770-b720-ec0f444df154",
   "metadata": {},
   "outputs": [
    {
     "name": "stdout",
     "output_type": "stream",
     "text": [
      "Timing list (N=1000000)\n",
      "8.52 ms ± 263 µs per loop (mean ± std. dev. of 7 runs, 100 loops each)\n",
      "Timing dict (N=1000000)\n",
      "29.1 ns ± 0.46 ns per loop (mean ± std. dev. of 7 runs, 10000000 loops each)\n"
     ]
    }
   ],
   "source": [
    "N = 10**6\n",
    "l = list(range(N))\n",
    "d = {n: n for n in l}\n",
    "print(f'Timing list (N={N})')\n",
    "%timeit (-1 in l)\n",
    "print(f'Timing dict (N={N})')\n",
    "%timeit (-1 in d)"
   ]
  },
  {
   "cell_type": "markdown",
   "id": "9c1ea5f7-9c76-491c-b7b3-62bf6f6f4d5c",
   "metadata": {},
   "source": [
    "## Python sets\n",
    "\n",
    "- Sets in Python are similar to mathematical sets\n",
    "    - Each element can occur only once\n",
    "    - Elements are not ordered\n",
    "- Elements must be immutable\n",
    "- We can look up, iterate over, and perform [set operations](https://docs.python.org/3.9/library/stdtypes.html#set-types-set-frozenset)\n",
    "- Especially useful to remove duplicates from a collection\n",
    "\n",
    "### Defining sets"
   ]
  },
  {
   "cell_type": "code",
   "execution_count": 1,
   "id": "73144121-cfcd-4fe8-9a5d-857dfb0b363e",
   "metadata": {},
   "outputs": [
    {
     "data": {
      "text/plain": [
       "{1, 2, 3}"
      ]
     },
     "execution_count": 1,
     "metadata": {},
     "output_type": "execute_result"
    }
   ],
   "source": [
    "set([1, 2, 3])"
   ]
  },
  {
   "cell_type": "code",
   "execution_count": 2,
   "id": "15aac330-30b4-412d-91d9-e8cee2838c74",
   "metadata": {},
   "outputs": [
    {
     "data": {
      "text/plain": [
       "{1, 2, 3}"
      ]
     },
     "execution_count": 2,
     "metadata": {},
     "output_type": "execute_result"
    }
   ],
   "source": [
    "{1, 2, 3}"
   ]
  },
  {
   "cell_type": "code",
   "execution_count": 3,
   "id": "8f2ac9c5-f5f7-45c1-8bf7-fe6f35387238",
   "metadata": {},
   "outputs": [
    {
     "data": {
      "text/plain": [
       "{1, 2, 4, 5, 7, 8}"
      ]
     },
     "execution_count": 3,
     "metadata": {},
     "output_type": "execute_result"
    }
   ],
   "source": [
    "{n for n in range(10) if n % 3 > 0}"
   ]
  },
  {
   "cell_type": "code",
   "execution_count": 4,
   "id": "7380e27f-ceee-4cb2-99b6-49437af179a4",
   "metadata": {},
   "outputs": [
    {
     "data": {
      "text/plain": [
       "{1, 2, 3}"
      ]
     },
     "execution_count": 4,
     "metadata": {},
     "output_type": "execute_result"
    }
   ],
   "source": [
    "duplicates = [1, 1, 2, 2, 3, 3, 3]\n",
    "set(duplicates)"
   ]
  },
  {
   "cell_type": "markdown",
   "id": "1521aa6c-cc08-4e7d-b432-3f2123ad52c6",
   "metadata": {},
   "source": [
    "### Set operations"
   ]
  },
  {
   "cell_type": "code",
   "execution_count": 5,
   "id": "9aaaf3cb-4551-4cf4-af16-08a38499394f",
   "metadata": {},
   "outputs": [
    {
     "data": {
      "text/plain": [
       "{0, 1, 2, 3, 4, 5, 6, 7, 8, 9, 10, 11, 12, 13, 14, 15, 16, 17, 18, 19}"
      ]
     },
     "execution_count": 5,
     "metadata": {},
     "output_type": "execute_result"
    }
   ],
   "source": [
    "numbers = set(range(20))\n",
    "numbers"
   ]
  },
  {
   "cell_type": "markdown",
   "id": "587ca1e1-66c9-446c-9d37-d0e3fc41030e",
   "metadata": {},
   "source": [
    "- Use comprehensions to generate some sets"
   ]
  },
  {
   "cell_type": "code",
   "execution_count": 6,
   "id": "6ad5d1e3-1002-42db-a940-8aab873c8bab",
   "metadata": {},
   "outputs": [
    {
     "name": "stdout",
     "output_type": "stream",
     "text": [
      "odds   : {1, 3, 5, 7, 9, 11, 13, 15, 17, 19}\n",
      "evens  : {0, 2, 4, 6, 8, 10, 12, 14, 16, 18}\n",
      "primes : {2, 3, 7, 11, 13, 17, 19}\n",
      "squares: {0, 1, 4, 9, 16}\n"
     ]
    }
   ],
   "source": [
    "odds = {n for n in numbers if n % 2}\n",
    "evens = {n for n in numbers if n % 2 == 0}\n",
    "primes = {2, 3, 7, 11, 13, 17, 19}\n",
    "squares = {n**2 for n in numbers if n**2 < max(numbers)}\n",
    "\n",
    "print('odds   :', odds)\n",
    "print('evens  :', evens)\n",
    "print('primes :', primes)\n",
    "print('squares:', squares)"
   ]
  },
  {
   "cell_type": "markdown",
   "id": "624a310c-7872-4cd8-bab4-1f5ba92fe71b",
   "metadata": {},
   "source": [
    "#### Membership"
   ]
  },
  {
   "cell_type": "code",
   "execution_count": 7,
   "id": "39d3c48f-a448-4bcb-8f0d-09e952b5f879",
   "metadata": {},
   "outputs": [
    {
     "data": {
      "text/plain": [
       "True"
      ]
     },
     "execution_count": 7,
     "metadata": {},
     "output_type": "execute_result"
    }
   ],
   "source": [
    "5 in odds"
   ]
  },
  {
   "cell_type": "code",
   "execution_count": 8,
   "id": "de40a95d-ea34-4e5f-a517-9510c62ace1b",
   "metadata": {},
   "outputs": [
    {
     "data": {
      "text/plain": [
       "True"
      ]
     },
     "execution_count": 8,
     "metadata": {},
     "output_type": "execute_result"
    }
   ],
   "source": [
    "4 not in primes"
   ]
  },
  {
   "cell_type": "markdown",
   "id": "0f4e8760-6f06-4106-a989-40b55eee67ce",
   "metadata": {},
   "source": [
    "#### Union: Combination of members from two sets"
   ]
  },
  {
   "cell_type": "code",
   "execution_count": 9,
   "id": "4cebc4fe-fbe0-43a1-94f5-b29c1c2cc4c3",
   "metadata": {},
   "outputs": [
    {
     "data": {
      "text/plain": [
       "{0, 1, 2, 3, 4, 7, 9, 11, 13, 16, 17, 19}"
      ]
     },
     "execution_count": 9,
     "metadata": {},
     "output_type": "execute_result"
    }
   ],
   "source": [
    "primes | squares"
   ]
  },
  {
   "cell_type": "markdown",
   "id": "a2ef91e4-0925-4229-a15a-57696e33fdae",
   "metadata": {},
   "source": [
    "#### Intersection: Members contained both sets"
   ]
  },
  {
   "cell_type": "code",
   "execution_count": 10,
   "id": "5b09663d-f446-4afa-9158-aebc2882d1cb",
   "metadata": {},
   "outputs": [
    {
     "data": {
      "text/plain": [
       "set()"
      ]
     },
     "execution_count": 10,
     "metadata": {},
     "output_type": "execute_result"
    }
   ],
   "source": [
    "primes & squares"
   ]
  },
  {
   "cell_type": "code",
   "execution_count": 11,
   "id": "73ae559a-4c9e-4428-9d37-9c3dc55bf2cd",
   "metadata": {},
   "outputs": [
    {
     "data": {
      "text/plain": [
       "{3, 7, 11, 13, 17, 19}"
      ]
     },
     "execution_count": 11,
     "metadata": {},
     "output_type": "execute_result"
    }
   ],
   "source": [
    "primes & odds"
   ]
  },
  {
   "cell_type": "markdown",
   "id": "4ec0121a-a66d-42f1-a925-289eb1c1a307",
   "metadata": {},
   "source": [
    "#### Difference: Members in on but not the other"
   ]
  },
  {
   "cell_type": "code",
   "execution_count": 12,
   "id": "22be60ec-527c-43c1-8d09-9d9cff5eb43b",
   "metadata": {},
   "outputs": [
    {
     "data": {
      "text/plain": [
       "{1, 5, 9, 15}"
      ]
     },
     "execution_count": 12,
     "metadata": {},
     "output_type": "execute_result"
    }
   ],
   "source": [
    "odds - primes"
   ]
  },
  {
   "cell_type": "code",
   "execution_count": 13,
   "id": "90d410ad-c469-4f3e-883f-23cd363823f7",
   "metadata": {},
   "outputs": [
    {
     "data": {
      "text/plain": [
       "{2}"
      ]
     },
     "execution_count": 13,
     "metadata": {},
     "output_type": "execute_result"
    }
   ],
   "source": [
    "primes - odds"
   ]
  },
  {
   "cell_type": "markdown",
   "id": "17147a8a-4302-470d-bc6e-62cd8f222528",
   "metadata": {},
   "source": [
    "#### Symmetric difference: members in one or the other set, but not in both"
   ]
  },
  {
   "cell_type": "code",
   "execution_count": 14,
   "id": "8f202fbf-8144-4c8d-92c6-c46817769c49",
   "metadata": {},
   "outputs": [
    {
     "data": {
      "text/plain": [
       "{0, 3, 4, 5, 7, 11, 13, 15, 16, 17, 19}"
      ]
     },
     "execution_count": 14,
     "metadata": {},
     "output_type": "execute_result"
    }
   ],
   "source": [
    "odds ^ squares"
   ]
  },
  {
   "cell_type": "markdown",
   "id": "1ba2470e-1a72-44e9-b338-70a11bc1c92d",
   "metadata": {},
   "source": [
    "#### Accessing members of a set\n",
    "\n",
    "- We can iterate over members of a set"
   ]
  },
  {
   "cell_type": "code",
   "execution_count": 15,
   "id": "1c8e25df-9920-44a8-8b31-84e65dfe4f16",
   "metadata": {},
   "outputs": [
    {
     "name": "stdout",
     "output_type": "stream",
     "text": [
      "2, 3, 7, 11, 13, 17, 19, "
     ]
    }
   ],
   "source": [
    "for p in primes:\n",
    "    print(p, end=', ')"
   ]
  },
  {
   "cell_type": "code",
   "execution_count": 16,
   "id": "f9b339c5-8729-4c27-bdb2-6f17ac8edd6a",
   "metadata": {},
   "outputs": [
    {
     "data": {
      "text/plain": [
       "[4, 9, 49, 121, 169, 289, 361]"
      ]
     },
     "execution_count": 16,
     "metadata": {},
     "output_type": "execute_result"
    }
   ],
   "source": [
    "[p**2 for p in primes]"
   ]
  },
  {
   "cell_type": "markdown",
   "id": "10f80d49-85c5-4cf2-84a2-3aa82bc0772e",
   "metadata": {},
   "source": [
    "- We cannot easily access individual members of a set\n",
    "- We always need to take a \"detour\"\n",
    "- We can access members by converting to a list"
   ]
  },
  {
   "cell_type": "code",
   "execution_count": 17,
   "id": "2a4c1540-271e-430f-b656-c8c6c8a28a7a",
   "metadata": {},
   "outputs": [
    {
     "data": {
      "text/plain": [
       "2"
      ]
     },
     "execution_count": 17,
     "metadata": {},
     "output_type": "execute_result"
    }
   ],
   "source": [
    "list(primes)[0]"
   ]
  },
  {
   "cell_type": "markdown",
   "id": "0083c41b-5347-4668-81f9-dbfc20daed62",
   "metadata": {},
   "source": [
    "- **Recommendation: do not rely on order of elements in a set!**\n",
    "- More ways to obtain set elements: https://stackoverflow.com/questions/59825/how-to-retrieve-an-element-from-a-set-without-removing-it (see especially the answer with the benchmarking graphics)"
   ]
  },
  {
   "cell_type": "markdown",
   "id": "de77f0aa-cc1b-42f4-9fb8-aa257bfa4c96",
   "metadata": {
    "tags": []
   },
   "source": [
    "---\n",
    "# More advanced container techniques\n",
    "\n",
    "## Sorting with help of lambda functions \n",
    "\n",
    "- How can we sort data in containers with complex items, such as the student data?\n",
    "- Python's `sort()` and `sorted()` allow us to provide a search *key*\n",
    "    - A function that takes each container element and returns a value we will use to sort\n",
    "- We look at the student data from above"
   ]
  },
  {
   "cell_type": "code",
   "execution_count": 20,
   "id": "3210694e-baf5-436d-a169-d2540a3ff81b",
   "metadata": {},
   "outputs": [
    {
     "data": {
      "text/plain": [
       "[{'given_name': 'Per',\n",
       "  'family_name': 'Olsen',\n",
       "  'programme': 'M-DV',\n",
       "  'courses': ['INF200', 'INF221', 'INF250']},\n",
       " {'given_name': 'Kari',\n",
       "  'family_name': 'Hansen',\n",
       "  'programme': 'M-TDV',\n",
       "  'courses': ['DAT300', 'DAT390', 'FYS388']}]"
      ]
     },
     "execution_count": 20,
     "metadata": {},
     "output_type": "execute_result"
    }
   ],
   "source": [
    "students"
   ]
  },
  {
   "cell_type": "code",
   "execution_count": 21,
   "id": "e02c5ea3-c139-4540-a948-53aaaf97e9f5",
   "metadata": {},
   "outputs": [],
   "source": [
    "def key_family(student_record):\n",
    "    return student_record['family_name']\n",
    "\n",
    "def key_programme(student_record):\n",
    "    return student_record['programme']"
   ]
  },
  {
   "cell_type": "code",
   "execution_count": 22,
   "id": "5d96e878-f6f7-4ae0-a6ad-97603f60185d",
   "metadata": {},
   "outputs": [
    {
     "data": {
      "text/plain": [
       "[{'given_name': 'Kari',\n",
       "  'family_name': 'Hansen',\n",
       "  'programme': 'M-TDV',\n",
       "  'courses': ['DAT300', 'DAT390', 'FYS388']},\n",
       " {'given_name': 'Per',\n",
       "  'family_name': 'Olsen',\n",
       "  'programme': 'M-DV',\n",
       "  'courses': ['INF200', 'INF221', 'INF250']}]"
      ]
     },
     "execution_count": 22,
     "metadata": {},
     "output_type": "execute_result"
    }
   ],
   "source": [
    "sorted(students, key=key_family)"
   ]
  },
  {
   "cell_type": "code",
   "execution_count": 23,
   "id": "b9d2efe4-d0a9-4abf-a5c6-8a532dddcccf",
   "metadata": {},
   "outputs": [
    {
     "data": {
      "text/plain": [
       "[{'given_name': 'Per',\n",
       "  'family_name': 'Olsen',\n",
       "  'programme': 'M-DV',\n",
       "  'courses': ['INF200', 'INF221', 'INF250']},\n",
       " {'given_name': 'Kari',\n",
       "  'family_name': 'Hansen',\n",
       "  'programme': 'M-TDV',\n",
       "  'courses': ['DAT300', 'DAT390', 'FYS388']}]"
      ]
     },
     "execution_count": 23,
     "metadata": {},
     "output_type": "execute_result"
    }
   ],
   "source": [
    "sorted(students, key=key_programme)"
   ]
  },
  {
   "cell_type": "markdown",
   "id": "909a7373-244b-4a20-b1c6-17ce88d3d44b",
   "metadata": {},
   "source": [
    "- This works, but is cumbersome\n",
    "- To allow more compact code, Python provide [*lambda functions*](https://en.wikipedia.org/wiki/Anonymous_function), also known as *anonymous functions*\n",
    "    - Name goes back to Church, Turing, and the early days of theoretical computer science\n",
    "- A lambda function maps one or more arguments to a value\n",
    "    - The value is given by an expression, i.e., anything that could be right of `=`\n",
    "    - Loops and branches are not allowed\n",
    "    - Conditional and comprehensions are allowed\n",
    "    - Syntax\n",
    "  ```python\n",
    "  lambda arg1: expression\n",
    "  lambda arg1, arg2, ..., argN: expression\n",
    "  ```\n",
    "  "
   ]
  },
  {
   "cell_type": "code",
   "execution_count": 24,
   "id": "c819d19f-3a75-4579-aa37-240d9365732c",
   "metadata": {},
   "outputs": [
    {
     "data": {
      "text/plain": [
       "[{'given_name': 'Kari',\n",
       "  'family_name': 'Hansen',\n",
       "  'programme': 'M-TDV',\n",
       "  'courses': ['DAT300', 'DAT390', 'FYS388']},\n",
       " {'given_name': 'Per',\n",
       "  'family_name': 'Olsen',\n",
       "  'programme': 'M-DV',\n",
       "  'courses': ['INF200', 'INF221', 'INF250']}]"
      ]
     },
     "execution_count": 24,
     "metadata": {},
     "output_type": "execute_result"
    }
   ],
   "source": [
    "sorted(students, key=lambda sr: sr['family_name'])"
   ]
  },
  {
   "cell_type": "code",
   "execution_count": 25,
   "id": "a378759e-3c09-4659-a94e-3cdc0a052e17",
   "metadata": {},
   "outputs": [
    {
     "data": {
      "text/plain": [
       "[{'given_name': 'Per',\n",
       "  'family_name': 'Olsen',\n",
       "  'programme': 'M-DV',\n",
       "  'courses': ['INF200', 'INF221', 'INF250']},\n",
       " {'given_name': 'Kari',\n",
       "  'family_name': 'Hansen',\n",
       "  'programme': 'M-TDV',\n",
       "  'courses': ['DAT300', 'DAT390', 'FYS388']}]"
      ]
     },
     "execution_count": 25,
     "metadata": {},
     "output_type": "execute_result"
    }
   ],
   "source": [
    "sorted(students, key=lambda sr: sr['programme'])"
   ]
  },
  {
   "cell_type": "markdown",
   "id": "222b87c5-5f89-42bd-bb08-ebd932cf81b8",
   "metadata": {},
   "source": [
    "- Downside of lambda-functions: we cannot use `lambda` as a variable name in Python"
   ]
  },
  {
   "cell_type": "markdown",
   "id": "7f7edf30-db4c-4117-9a69-e418f69b171c",
   "metadata": {
    "tags": []
   },
   "source": [
    "## The magic zip function\n",
    "\n",
    "- We want to plot a mathematical function and begin like this"
   ]
  },
  {
   "cell_type": "code",
   "execution_count": 26,
   "id": "7f50faa7-ad7c-4e24-bcb7-1ee3fbbdc1d0",
   "metadata": {},
   "outputs": [
    {
     "name": "stdout",
     "output_type": "stream",
     "text": [
      "[0, 1, 2, 3, 4, 5, 6, 7, 8, 9]\n",
      "[0, 1, 4, 9, 16, 25, 36, 49, 64, 81]\n"
     ]
    }
   ],
   "source": [
    "x = list(range(10))\n",
    "y = [v**2 for v in x]\n",
    "print(x)\n",
    "print(y)"
   ]
  },
  {
   "cell_type": "markdown",
   "id": "991c40d5-e5ef-4976-96f2-3d6e3c52d321",
   "metadata": {},
   "source": [
    "- Disadvantage: Two completly independent lists\n",
    "    - Matching between x and y is by position only\n",
    "    - Not robust: how do we know they remain in sync?\n",
    "- Idea: Create one list with x-y pairs"
   ]
  },
  {
   "cell_type": "code",
   "execution_count": 27,
   "id": "f4a1e45e-314a-4a58-8a16-6d692c662f72",
   "metadata": {},
   "outputs": [
    {
     "data": {
      "text/plain": [
       "[(0, 0),\n",
       " (1, 1),\n",
       " (2, 4),\n",
       " (3, 9),\n",
       " (4, 16),\n",
       " (5, 25),\n",
       " (6, 36),\n",
       " (7, 49),\n",
       " (8, 64),\n",
       " (9, 81)]"
      ]
     },
     "execution_count": 27,
     "metadata": {},
     "output_type": "execute_result"
    }
   ],
   "source": [
    "xy = [(x, x**2) for x in range(10)]\n",
    "xy"
   ]
  },
  {
   "cell_type": "markdown",
   "id": "af8999e8-5782-4138-8fd6-b99b2226495d",
   "metadata": {},
   "source": [
    "- Problem: how do we plot this?\n",
    "- Matplotlib needs and x and a y list!\n",
    "- \"Turn things around\" with the [`zip()`](https://docs.python.org/3.8/library/functions.html#zip) function!\n",
    "- Running just `zip()`, we get a zip object for efficies sake\n",
    "- We need to create a list from it to see what really happens (and will get to the funny `*` in a moment)"
   ]
  },
  {
   "cell_type": "code",
   "execution_count": 28,
   "id": "42a59c24-0837-43ef-9eaa-6d87e59593a3",
   "metadata": {},
   "outputs": [
    {
     "data": {
      "text/plain": [
       "<zip at 0x7fc2a8893e00>"
      ]
     },
     "execution_count": 28,
     "metadata": {},
     "output_type": "execute_result"
    }
   ],
   "source": [
    "zip(*xy)"
   ]
  },
  {
   "cell_type": "code",
   "execution_count": 29,
   "id": "8064baa1-91b1-4b64-bbbe-ff3763845339",
   "metadata": {},
   "outputs": [
    {
     "data": {
      "text/plain": [
       "[(0, 1, 2, 3, 4, 5, 6, 7, 8, 9), (0, 1, 4, 9, 16, 25, 36, 49, 64, 81)]"
      ]
     },
     "execution_count": 29,
     "metadata": {},
     "output_type": "execute_result"
    }
   ],
   "source": [
    "list(zip(*xy))"
   ]
  },
  {
   "cell_type": "markdown",
   "id": "3a1e3999-ec9f-40fe-aa48-64d7028493e7",
   "metadata": {},
   "source": [
    "- We get two lists, one with the elements from the left, the other from the right part of each pair\n",
    "- We could even assign directly to new x and y variables"
   ]
  },
  {
   "cell_type": "code",
   "execution_count": 30,
   "id": "b0d88a0d-2259-4f81-a0c1-7970752ab7a9",
   "metadata": {},
   "outputs": [
    {
     "name": "stdout",
     "output_type": "stream",
     "text": [
      "(0, 1, 2, 3, 4, 5, 6, 7, 8, 9)\n",
      "(0, 1, 4, 9, 16, 25, 36, 49, 64, 81)\n"
     ]
    }
   ],
   "source": [
    "new_x, new_y = list(zip(*xy))\n",
    "print(new_x)\n",
    "print(new_y)"
   ]
  },
  {
   "cell_type": "markdown",
   "id": "82e1e54e-f95d-44e1-93ba-f0f37b0737c8",
   "metadata": {},
   "source": [
    "- And `zip()` is its own inverse!"
   ]
  },
  {
   "cell_type": "code",
   "execution_count": 31,
   "id": "21deb172-e433-4b9a-9039-b19a539d35b9",
   "metadata": {},
   "outputs": [
    {
     "data": {
      "text/plain": [
       "[(0, 0),\n",
       " (1, 1),\n",
       " (2, 4),\n",
       " (3, 9),\n",
       " (4, 16),\n",
       " (5, 25),\n",
       " (6, 36),\n",
       " (7, 49),\n",
       " (8, 64),\n",
       " (9, 81)]"
      ]
     },
     "execution_count": 31,
     "metadata": {},
     "output_type": "execute_result"
    }
   ],
   "source": [
    "list(zip(*zip(*xy)))"
   ]
  },
  {
   "cell_type": "markdown",
   "id": "1deff7c7-8213-4640-b41e-34936b9420e2",
   "metadata": {},
   "source": [
    "- And now we can plot in an elegant way!"
   ]
  },
  {
   "cell_type": "code",
   "execution_count": 32,
   "id": "a290e7a4-5e17-4ec0-99f3-c03fd5ef164a",
   "metadata": {},
   "outputs": [
    {
     "data": {
      "image/png": "[encoded data removed]",
      "text/plain": [
       "<Figure size 432x288 with 1 Axes>"
      ]
     },
     "metadata": {
      "needs_background": "light"
     },
     "output_type": "display_data"
    }
   ],
   "source": [
    "import matplotlib.pyplot as plt\n",
    "plt.plot(*zip(*xy), 'o-');"
   ]
  },
  {
   "cell_type": "markdown",
   "id": "ef5a8a9c-bb79-49ca-b8f3-c07fc743c975",
   "metadata": {
    "tags": []
   },
   "source": [
    "### The container-unpacking asterisk\n",
    "\n",
    "- So what are the asterisks above?\n",
    "- A single asterisk (`*`) before a container\n",
    "    - unpacks the container elements\n",
    "    - **if** it occurs inside a container or function argument list\n",
    "    - and unpacks keys only of the container is a dictionary\n",
    "- Some examples"
   ]
  },
  {
   "cell_type": "code",
   "execution_count": 33,
   "id": "dac77382-bb7a-4338-b7bd-efb913966552",
   "metadata": {},
   "outputs": [
    {
     "data": {
      "text/plain": [
       "[11, 22, 33, 44]"
      ]
     },
     "execution_count": 33,
     "metadata": {},
     "output_type": "execute_result"
    }
   ],
   "source": [
    "l = [11, 22, 33]\n",
    "[*l, 44]"
   ]
  },
  {
   "cell_type": "code",
   "execution_count": 36,
   "id": "6ad3b07f-c3b9-4390-99c5-71b3c49feadb",
   "metadata": {},
   "outputs": [
    {
     "data": {
      "text/plain": [
       "(0, 11, 22, 33, 11)"
      ]
     },
     "execution_count": 36,
     "metadata": {},
     "output_type": "execute_result"
    }
   ],
   "source": [
    "(0, *l, 11)"
   ]
  },
  {
   "cell_type": "code",
   "execution_count": 37,
   "id": "28e79984-56a5-4788-9b39-6db28d7bb9c3",
   "metadata": {},
   "outputs": [
    {
     "name": "stdout",
     "output_type": "stream",
     "text": [
      "11 ; 22 ; 33\n"
     ]
    }
   ],
   "source": [
    "print(*l, sep=' ; ')"
   ]
  },
  {
   "cell_type": "code",
   "execution_count": 38,
   "id": "dfd11a1a-821e-417e-ab7e-2884673e3cf3",
   "metadata": {},
   "outputs": [
    {
     "name": "stdout",
     "output_type": "stream",
     "text": [
      "11 ; 22 ; 33\n"
     ]
    }
   ],
   "source": [
    "print(11, 22, 33, sep=' ; ')"
   ]
  },
  {
   "cell_type": "markdown",
   "id": "50360b8e-becd-4bd1-8fd6-2c52cb6619bb",
   "metadata": {},
   "source": [
    "- What does this mean for our zipping and plotting?\n",
    "- We need to provide every list that we want to zip over as one argument to `zip()`, as if we wrote\n",
    "  ```python\n",
    "  zip((1, 1), (2, 4), (3, 9), ...)\n",
    "  ```\n",
    "- `*xy` does precisely this unpacking for us, as we can see by the following calls to `print()`\n",
    "\n",
    "##### ... without unpacking"
   ]
  },
  {
   "cell_type": "code",
   "execution_count": 39,
   "id": "77629ed0-a290-4090-923a-7a5d0efc8f61",
   "metadata": {},
   "outputs": [
    {
     "name": "stdout",
     "output_type": "stream",
     "text": [
      "[(0, 0), (1, 1), (2, 4), (3, 9), (4, 16), (5, 25), (6, 36), (7, 49), (8, 64), (9, 81)]\n"
     ]
    }
   ],
   "source": [
    "print(xy, sep=' ; ')"
   ]
  },
  {
   "cell_type": "markdown",
   "id": "c0b25fbe-03ae-430c-aaaf-0602954cce08",
   "metadata": {},
   "source": [
    "##### ... with unpacking"
   ]
  },
  {
   "cell_type": "code",
   "execution_count": 40,
   "id": "8cf8dae5-52cb-4904-b403-f29df89f2250",
   "metadata": {},
   "outputs": [
    {
     "name": "stdout",
     "output_type": "stream",
     "text": [
      "(0, 0) ; (1, 1) ; (2, 4) ; (3, 9) ; (4, 16) ; (5, 25) ; (6, 36) ; (7, 49) ; (8, 64) ; (9, 81)\n"
     ]
    }
   ],
   "source": [
    "print(*xy, sep=' ; ')"
   ]
  },
  {
   "cell_type": "markdown",
   "id": "da058783-da0e-405b-bcc1-f3b139bbdf19",
   "metadata": {},
   "source": [
    "- Now consider the plot command\n",
    "  ```python\n",
    "  plt.plot(*zip(*xy), 'o-');\n",
    "  ```\n",
    "- `*xy` unpacks the original data for use by `zip()`, providing ten pairs of numbers\n",
    "- `*zip()` unpacks the two lists returned by `zip()`, providing x- and y-values to `plot()`."
   ]
  },
  {
   "cell_type": "markdown",
   "id": "fed07b37-5917-488e-97b2-1e761ab2fc63",
   "metadata": {},
   "source": [
    "#### Zip: beware of missing data!\n",
    "\n",
    "- `zip()` stops as soon as one of the containers provided as input runs out of data\n",
    "- This can lead to difficult-to-find errors"
   ]
  },
  {
   "cell_type": "code",
   "execution_count": 41,
   "id": "10b2354d-ea92-495d-9f2d-967118505c27",
   "metadata": {},
   "outputs": [
    {
     "data": {
      "text/plain": [
       "[(1, 10), (2, 20), (3, 30)]"
      ]
     },
     "execution_count": 41,
     "metadata": {},
     "output_type": "execute_result"
    }
   ],
   "source": [
    "list(zip([1, 2, 3, 4, 5], [10, 20, 30]))"
   ]
  },
  {
   "cell_type": "markdown",
   "id": "a77bba2a-b67e-4446-9fc3-977b404aaf95",
   "metadata": {},
   "source": [
    "#### Dictionary unpacking\n",
    "\n",
    "- Unpacking dictionaries with a single `*` gives the keys\n",
    "- Unpacking dictionaries with with `**` gives key-value pairs\n",
    "    - Only allowed insided dictionaries or argument lists\n",
    "    - Inside argument lists, key-value pairs turn into `parameter=value`"
   ]
  },
  {
   "cell_type": "code",
   "execution_count": 78,
   "id": "17dde1c3-dc18-4b0f-9300-79f0621308ef",
   "metadata": {},
   "outputs": [
    {
     "data": {
      "text/plain": [
       "{1: 2, 3: 4, 5: 6}"
      ]
     },
     "execution_count": 78,
     "metadata": {},
     "output_type": "execute_result"
    }
   ],
   "source": [
    "d = {1: 2, 3: 4}\n",
    "{**d, 5:6}"
   ]
  },
  {
   "cell_type": "code",
   "execution_count": 79,
   "id": "80f2f524-c2d2-44da-bd12-f93842eec543",
   "metadata": {},
   "outputs": [
    {
     "name": "stdout",
     "output_type": "stream",
     "text": [
      "1;2;3###"
     ]
    }
   ],
   "source": [
    "prop = {'sep': ';', 'end': '###'}\n",
    "print(1, 2, 3, **prop)"
   ]
  },
  {
   "cell_type": "code",
   "execution_count": 42,
   "id": "151cd833-27f8-49b0-8bb6-0e2c06aee5af",
   "metadata": {},
   "outputs": [
    {
     "name": "stdout",
     "output_type": "stream",
     "text": [
      "1;2;3###"
     ]
    }
   ],
   "source": [
    "print(1, 2, 3, sep=';', end='###')"
   ]
  },
  {
   "cell_type": "markdown",
   "id": "5a9f94f1-f5f5-4c7e-8735-72cd32a03bc6",
   "metadata": {},
   "source": [
    "---\n",
    "# NumPy arrays"
   ]
  },
  {
   "cell_type": "markdown",
   "id": "821f5867-955e-48e3-b234-3c26d22037c9",
   "metadata": {},
   "source": [
    "\n",
    "- Python lists can contain \"anything\"\n",
    "    - Flexible, but requires much space and time\n",
    "- NumPy\n",
    "    - Arrays containing a *fixed number* of elements of *the same data type*\n",
    "    - Compact and efficient storage\n",
    "    - Many mathematical operations can be applied to entire array"
   ]
  },
  {
   "cell_type": "code",
   "execution_count": 43,
   "id": "ad976f21-28fa-441b-a8bd-54385cab50ce",
   "metadata": {},
   "outputs": [],
   "source": [
    "import numpy as np\n",
    "import math"
   ]
  },
  {
   "cell_type": "code",
   "execution_count": 44,
   "id": "e7e7ec93-49dc-4818-8541-bb1a0b237a2c",
   "metadata": {},
   "outputs": [
    {
     "data": {
      "text/plain": [
       "array([ 2.,  5.,  8., 11., 14., 17., 20.])"
      ]
     },
     "execution_count": 44,
     "metadata": {},
     "output_type": "execute_result"
    }
   ],
   "source": [
    "x = np.array([0, 1., 2, 3, 4, 5, 6])\n",
    "3 * x + 2"
   ]
  },
  {
   "cell_type": "markdown",
   "id": "dcddce11-58ff-424b-a37c-d323b3f6d5d5",
   "metadata": {},
   "source": [
    "## Array properties\n",
    "- `ndim`: number of dimensions\n",
    "- `size`: total number of elements\n",
    "- `shape`: rows, columns, ...\n",
    "- `dtype`: data type of elements\n",
    "- `nbytes`: number of bytes occupied by data"
   ]
  },
  {
   "cell_type": "code",
   "execution_count": 45,
   "id": "b42156e1-c715-4fc3-b9af-eee4f246c186",
   "metadata": {},
   "outputs": [
    {
     "name": "stdout",
     "output_type": "stream",
     "text": [
      "x.ndim  : 1\n",
      "x.size  : 7\n",
      "x.shape : (7,)\n",
      "x.dtype : float64\n",
      "x.nbytes: 56\n"
     ]
    }
   ],
   "source": [
    "print('x.ndim  :', x.ndim)\n",
    "print('x.size  :', x.size)\n",
    "print('x.shape :', x.shape)\n",
    "print('x.dtype :', x.dtype)\n",
    "print('x.nbytes:', x.nbytes)"
   ]
  },
  {
   "cell_type": "markdown",
   "id": "90c0935f-5496-4fc6-82b1-914d50bf678d",
   "metadata": {},
   "source": [
    "## Creating Arrays\n",
    "\n",
    "### Numbers with fixed spacing: `linspace(a, b)`\n",
    "- Creates array with 50 numbers from $a$ to $b$\n",
    "- Both $a$ and $b$ er included\n",
    "- Fixed interval between numbers: $(b-a)/49$\n",
    "- You get an array with 100 numbers using `linspace(a, b, num=100)`"
   ]
  },
  {
   "cell_type": "code",
   "execution_count": 46,
   "id": "af9f7177-b01a-4f2b-a276-b302f1b5c6b8",
   "metadata": {},
   "outputs": [
    {
     "data": {
      "text/plain": [
       "array([ 1.,  2.,  3.,  4.,  5.,  6.,  7.,  8.,  9., 10., 11., 12., 13.,\n",
       "       14., 15., 16., 17., 18., 19., 20., 21., 22., 23., 24., 25., 26.,\n",
       "       27., 28., 29., 30., 31., 32., 33., 34., 35., 36., 37., 38., 39.,\n",
       "       40., 41., 42., 43., 44., 45., 46., 47., 48., 49., 50.])"
      ]
     },
     "execution_count": 46,
     "metadata": {},
     "output_type": "execute_result"
    }
   ],
   "source": [
    "np.linspace(1, 50)"
   ]
  },
  {
   "cell_type": "code",
   "execution_count": 47,
   "id": "165bcfe1-3e19-4266-bcde-2c223264871b",
   "metadata": {},
   "outputs": [
    {
     "data": {
      "text/plain": [
       "array([0. , 0.1, 0.2, 0.3, 0.4, 0.5, 0.6, 0.7, 0.8, 0.9, 1. ])"
      ]
     },
     "execution_count": 47,
     "metadata": {},
     "output_type": "execute_result"
    }
   ],
   "source": [
    "np.linspace(0, 1, num=11)"
   ]
  },
  {
   "cell_type": "markdown",
   "id": "5521bff5-341f-4f81-ad9a-815724f1c66a",
   "metadata": {},
   "source": [
    "### Numbers with logarithmic spacing: `logspace(a, b)`\n",
    "\n",
    "- Creates array with 50 numbers from $10^a$ to $10^b$\n",
    "- Both $10^a$ and $10^b$ are included\n",
    "- Logarithmic distance between numbers (fixed factor)"
   ]
  },
  {
   "cell_type": "code",
   "execution_count": 48,
   "id": "87cd8705-a205-469b-b8fc-934022b02a06",
   "metadata": {},
   "outputs": [
    {
     "data": {
      "text/plain": [
       "array([ 0.1       ,  0.16681005,  0.27825594,  0.46415888,  0.77426368,\n",
       "        1.29154967,  2.15443469,  3.59381366,  5.9948425 , 10.        ])"
      ]
     },
     "execution_count": 48,
     "metadata": {},
     "output_type": "execute_result"
    }
   ],
   "source": [
    "np.logspace(-1, 1, num=10)"
   ]
  },
  {
   "cell_type": "markdown",
   "id": "664a7c91-10d3-4a75-be6d-638363033919",
   "metadata": {},
   "source": [
    "### Some other functions generating arrays\n",
    "\n",
    "- take shape as first argument, data type is optional (default is `float`)\n",
    "- `zeros()`: array of zeros of given size\n",
    "- `ones()`: array of ones of given size\n",
    "- `empty()`: array with uninitialized data\n",
    "- `arange()`: similar to range, really useful only for arrays of integers\n",
    "- `*_like()`: create array with same shape as argument"
   ]
  },
  {
   "cell_type": "code",
   "execution_count": 49,
   "id": "bf742d70-8b03-45ad-931c-60196344adb8",
   "metadata": {},
   "outputs": [
    {
     "data": {
      "text/plain": [
       "array([ 0.1       ,  0.16681005,  0.27825594,  0.46415888,  0.77426368,\n",
       "        1.29154967,  2.15443469,  3.59381366,  5.9948425 , 10.        ])"
      ]
     },
     "execution_count": 49,
     "metadata": {},
     "output_type": "execute_result"
    }
   ],
   "source": [
    "np.empty(10)"
   ]
  },
  {
   "cell_type": "markdown",
   "id": "6a8a2c0a-6a10-4b9b-ab65-34e142070a48",
   "metadata": {},
   "source": [
    "- Note that the content if an array created with `empty()` is entirely unpredictable!"
   ]
  },
  {
   "cell_type": "markdown",
   "id": "93aeeee7-f810-410d-bd60-5c4ba05549a2",
   "metadata": {},
   "source": [
    "## Working with data in multiple dimension\n",
    "\n",
    "- We will stick to one and two dimensions here\n",
    "- Key concepts:\n",
    "    - Operations are applied element-wise if both operands have same size\n",
    "    - Otherwise, NumPy attempts to *broadcast*\n",
    "        - The smaller operand is replicated as many times as necessary to create an array that matches the larger operand\n",
    "        - The operation is then applied element-wise"
   ]
  },
  {
   "cell_type": "markdown",
   "id": "4b734aba-a506-4d38-9aeb-055f883ef1ca",
   "metadata": {},
   "source": [
    "### Example: array and array of same size"
   ]
  },
  {
   "cell_type": "code",
   "execution_count": 50,
   "id": "5a68f379-0fba-4dd6-9773-4c9794abfdb7",
   "metadata": {},
   "outputs": [
    {
     "name": "stdout",
     "output_type": "stream",
     "text": [
      "[[1 2]\n",
      " [3 4]\n",
      " [5 6]]\n",
      "[[10 20]\n",
      " [30 40]\n",
      " [50 60]]\n",
      "[[11 22]\n",
      " [33 44]\n",
      " [55 66]]\n"
     ]
    }
   ],
   "source": [
    "a = np.array([[1, 2], [3, 4], [5, 6]])\n",
    "b = np.array([[10, 20], [30, 40], [50, 60]])\n",
    "print(a)\n",
    "print(b)\n",
    "print(a+b)"
   ]
  },
  {
   "cell_type": "code",
   "execution_count": 51,
   "id": "6ec06c42-6945-47d9-a676-29b147626c1c",
   "metadata": {},
   "outputs": [
    {
     "data": {
      "text/plain": [
       "array([[ 10,  40],\n",
       "       [ 90, 160],\n",
       "       [250, 360]])"
      ]
     },
     "execution_count": 51,
     "metadata": {},
     "output_type": "execute_result"
    }
   ],
   "source": [
    "a * b"
   ]
  },
  {
   "cell_type": "markdown",
   "id": "56040299-fd68-49a9-b234-2f841d3b294b",
   "metadata": {},
   "source": [
    "- Note: **Element-wise multiplication, not matrix multiplication in mathematical sense**!\n",
    "\n",
    "### Mathematical matrix-matrix/matrix-vector multiplication\n",
    "\n",
    "- Available in Python 3.5 and later\n",
    "- First factor must have as many columns as the second has rows\n",
    "- `a` and `b` are both 3x2, so we get an error"
   ]
  },
  {
   "cell_type": "code",
   "execution_count": 52,
   "id": "5fc6b3da-cb9a-41de-988e-8db7d4e69a24",
   "metadata": {},
   "outputs": [
    {
     "ename": "ValueError",
     "evalue": "matmul: Input operand 1 has a mismatch in its core dimension 0, with gufunc signature (n?,k),(k,m?)->(n?,m?) (size 3 is different from 2)",
     "output_type": "error",
     "traceback": [
      "\u001b[0;31m---------------------------------------------------------------------------\u001b[0m",
      "\u001b[0;31mValueError\u001b[0m                                Traceback (most recent call last)",
      "\u001b[0;32m/var/folders/j5/971zg6qd58n070p_ds781hzm0000gn/T/ipykernel_65480/1573597190.py\u001b[0m in \u001b[0;36m<module>\u001b[0;34m\u001b[0m\n\u001b[0;32m----> 1\u001b[0;31m \u001b[0ma\u001b[0m \u001b[0;34m@\u001b[0m \u001b[0mb\u001b[0m\u001b[0;34m\u001b[0m\u001b[0;34m\u001b[0m\u001b[0m\n\u001b[0m",
      "\u001b[0;31mValueError\u001b[0m: matmul: Input operand 1 has a mismatch in its core dimension 0, with gufunc signature (n?,k),(k,m?)->(n?,m?) (size 3 is different from 2)"
     ]
    }
   ],
   "source": [
    "a @ b"
   ]
  },
  {
   "cell_type": "markdown",
   "id": "ddb2a2a3-58f9-4f2c-8964-9b19b5f516cc",
   "metadata": {},
   "source": [
    "- We *transpose* `b` (flip about diagonal) to make it 2x3\n",
    "- Now dimensions are compatible"
   ]
  },
  {
   "cell_type": "code",
   "execution_count": 53,
   "id": "466e1091-8de4-4f0a-b5c7-a8a480dcb9cd",
   "metadata": {},
   "outputs": [
    {
     "data": {
      "text/plain": [
       "array([[ 50, 110, 170],\n",
       "       [110, 250, 390],\n",
       "       [170, 390, 610]])"
      ]
     },
     "execution_count": 53,
     "metadata": {},
     "output_type": "execute_result"
    }
   ],
   "source": [
    "a @ b.T"
   ]
  },
  {
   "cell_type": "markdown",
   "id": "0cab0dde-8534-4364-86fe-09cc7791607f",
   "metadata": {},
   "source": [
    "### Example: array and scalar"
   ]
  },
  {
   "cell_type": "code",
   "execution_count": 54,
   "id": "75c39ec3-a8b1-4e2f-80b0-54baa2c6079c",
   "metadata": {},
   "outputs": [
    {
     "data": {
      "text/plain": [
       "array([[1, 2],\n",
       "       [3, 4],\n",
       "       [5, 6]])"
      ]
     },
     "execution_count": 54,
     "metadata": {},
     "output_type": "execute_result"
    }
   ],
   "source": [
    "a"
   ]
  },
  {
   "cell_type": "code",
   "execution_count": 55,
   "id": "12c02ae9-6820-4c7a-84ef-964e60b7647f",
   "metadata": {},
   "outputs": [
    {
     "data": {
      "text/plain": [
       "array([[101, 102],\n",
       "       [103, 104],\n",
       "       [105, 106]])"
      ]
     },
     "execution_count": 55,
     "metadata": {},
     "output_type": "execute_result"
    }
   ],
   "source": [
    "a + 100"
   ]
  },
  {
   "cell_type": "markdown",
   "id": "a8ffc10d-21c6-406b-8442-4b2a41a3d26f",
   "metadata": {},
   "source": [
    "### Example: 2D- and 1D arrays"
   ]
  },
  {
   "cell_type": "code",
   "execution_count": 56,
   "id": "69960088-9ab4-495e-ab0e-dd90e36d1203",
   "metadata": {},
   "outputs": [
    {
     "data": {
      "text/plain": [
       "array([100, 200])"
      ]
     },
     "execution_count": 56,
     "metadata": {},
     "output_type": "execute_result"
    }
   ],
   "source": [
    "c = np.array([100, 200])\n",
    "c"
   ]
  },
  {
   "cell_type": "code",
   "execution_count": 57,
   "id": "ac38c96c-5099-4d10-8aba-e292fd8a5ca0",
   "metadata": {},
   "outputs": [
    {
     "data": {
      "text/plain": [
       "array([[101, 202],\n",
       "       [103, 204],\n",
       "       [105, 206]])"
      ]
     },
     "execution_count": 57,
     "metadata": {},
     "output_type": "execute_result"
    }
   ],
   "source": [
    "a + c"
   ]
  },
  {
   "cell_type": "markdown",
   "id": "53191263-261a-45b7-a8d2-425620e57605",
   "metadata": {},
   "source": [
    "- `c` has been added to each row of `a`\n",
    "- What happens for 3-element array?"
   ]
  },
  {
   "cell_type": "code",
   "execution_count": 58,
   "id": "36968d1d-5c1f-4319-b2b6-31ec82b17bc7",
   "metadata": {},
   "outputs": [
    {
     "data": {
      "text/plain": [
       "array([10, 20, 30])"
      ]
     },
     "execution_count": 58,
     "metadata": {},
     "output_type": "execute_result"
    }
   ],
   "source": [
    "d = np.array([10, 20, 30])\n",
    "d"
   ]
  },
  {
   "cell_type": "code",
   "execution_count": 59,
   "id": "fd196685-5e56-418d-8218-bb8db8292ac3",
   "metadata": {},
   "outputs": [
    {
     "ename": "ValueError",
     "evalue": "operands could not be broadcast together with shapes (3,2) (3,) ",
     "output_type": "error",
     "traceback": [
      "\u001b[0;31m---------------------------------------------------------------------------\u001b[0m",
      "\u001b[0;31mValueError\u001b[0m                                Traceback (most recent call last)",
      "\u001b[0;32m/var/folders/j5/971zg6qd58n070p_ds781hzm0000gn/T/ipykernel_65480/1002857664.py\u001b[0m in \u001b[0;36m<module>\u001b[0;34m\u001b[0m\n\u001b[0;32m----> 1\u001b[0;31m \u001b[0ma\u001b[0m \u001b[0;34m+\u001b[0m \u001b[0md\u001b[0m\u001b[0;34m\u001b[0m\u001b[0;34m\u001b[0m\u001b[0m\n\u001b[0m",
      "\u001b[0;31mValueError\u001b[0m: operands could not be broadcast together with shapes (3,2) (3,) "
     ]
    }
   ],
   "source": [
    "a + d"
   ]
  },
  {
   "cell_type": "markdown",
   "id": "964c4dfa-9b2f-45a4-a476-3045a556b06a",
   "metadata": {},
   "source": [
    "- NumPy sees `d` as 1x3 vector, so shape does not fit\n",
    "- Need to transpose first!\n",
    "- But because `d` has only one dimension, transposing it has no effect"
   ]
  },
  {
   "cell_type": "code",
   "execution_count": 60,
   "id": "15d0e829-2058-4d5f-a1ba-e92ec2ea5648",
   "metadata": {},
   "outputs": [
    {
     "data": {
      "text/plain": [
       "array([10, 20, 30])"
      ]
     },
     "execution_count": 60,
     "metadata": {},
     "output_type": "execute_result"
    }
   ],
   "source": [
    "d.T"
   ]
  },
  {
   "cell_type": "markdown",
   "id": "46e1ff33-36ac-4175-867b-48e3a778b831",
   "metadata": {},
   "source": [
    "- We need to define a two-dimensional array that has one row and three columns (note the extra brackets!)\n",
    "- That can be transposed"
   ]
  },
  {
   "cell_type": "code",
   "execution_count": 61,
   "id": "c099ed4b-7605-47fa-bb9b-34acce82ecd9",
   "metadata": {},
   "outputs": [
    {
     "data": {
      "text/plain": [
       "array([[10, 20, 30]])"
      ]
     },
     "execution_count": 61,
     "metadata": {},
     "output_type": "execute_result"
    }
   ],
   "source": [
    "dd = np.array([[10, 20, 30]])\n",
    "dd"
   ]
  },
  {
   "cell_type": "code",
   "execution_count": 62,
   "id": "84b3a666-9085-4cda-bdcd-0fbd988f922d",
   "metadata": {},
   "outputs": [
    {
     "data": {
      "text/plain": [
       "array([[10],\n",
       "       [20],\n",
       "       [30]])"
      ]
     },
     "execution_count": 62,
     "metadata": {},
     "output_type": "execute_result"
    }
   ],
   "source": [
    "dd.T"
   ]
  },
  {
   "cell_type": "code",
   "execution_count": 63,
   "id": "e994a472-9fef-4f92-9add-2ecf768651d5",
   "metadata": {},
   "outputs": [
    {
     "data": {
      "text/plain": [
       "array([[11, 12],\n",
       "       [23, 24],\n",
       "       [35, 36]])"
      ]
     },
     "execution_count": 63,
     "metadata": {},
     "output_type": "execute_result"
    }
   ],
   "source": [
    "a + dd.T"
   ]
  },
  {
   "cell_type": "markdown",
   "id": "d1f7c5a9-53f5-4e8f-9359-bd4a7ebc4ee4",
   "metadata": {},
   "source": [
    "### Arrays vs Lists\n",
    "\n",
    "- NumPy arrays differ in several ways from Python lists, especially\n",
    "    - arrays have fixed size\n",
    "    - all entries in an array have the same data type (exceptions apply)\n",
    "- This makes arrays much more efficient in time and space than lists"
   ]
  },
  {
   "cell_type": "markdown",
   "id": "1fcab87d-a276-4ff5-b8d7-c9449d310387",
   "metadata": {},
   "source": [
    "#### Performance comparison\n",
    "\n",
    "- List and array with 1.000.000 entries\n",
    "- Compute sine of all elements"
   ]
  },
  {
   "cell_type": "code",
   "execution_count": 64,
   "id": "a5586503-f7f2-44c9-b2e7-f803c5cada52",
   "metadata": {},
   "outputs": [],
   "source": [
    "lx = list(range(0, 1000000))\n",
    "ax = np.array(lx)"
   ]
  },
  {
   "cell_type": "code",
   "execution_count": 65,
   "id": "0db390ab-5859-4c03-a2d2-62ed97c5d072",
   "metadata": {},
   "outputs": [
    {
     "name": "stdout",
     "output_type": "stream",
     "text": [
      "155 ms ± 1.14 ms per loop (mean ± std. dev. of 7 runs, 10 loops each)\n"
     ]
    }
   ],
   "source": [
    "%timeit sinlx = [math.sin(x) for x in lx]"
   ]
  },
  {
   "cell_type": "code",
   "execution_count": 66,
   "id": "8f383845-f438-4eee-8a4f-eaec1a8e0ad6",
   "metadata": {},
   "outputs": [
    {
     "name": "stdout",
     "output_type": "stream",
     "text": [
      "13.5 ms ± 79.7 µs per loop (mean ± std. dev. of 7 runs, 100 loops each)\n"
     ]
    }
   ],
   "source": [
    "%timeit sinax = np.sin(ax)"
   ]
  },
  {
   "cell_type": "code",
   "execution_count": 68,
   "id": "c734b21d-a33e-4490-bbe3-1daa3b23496d",
   "metadata": {},
   "outputs": [
    {
     "data": {
      "text/plain": [
       "True"
      ]
     },
     "execution_count": 68,
     "metadata": {},
     "output_type": "execute_result"
    }
   ],
   "source": [
    "sinlx = [math.sin(x) for x in lx]\n",
    "sinax = np.sin(ax)\n",
    "all(sinlx == sinax)"
   ]
  },
  {
   "cell_type": "markdown",
   "id": "677b2f0e-eece-4f17-a508-1dc118e63a50",
   "metadata": {},
   "source": [
    "- NumPy is *significantly* faster than list comprehension\n",
    "- This applies mainly when we apply NumPy functions to large arrays\n",
    "- For scalars, `math` functions are usually faster than `numpy` functions"
   ]
  },
  {
   "cell_type": "markdown",
   "id": "ab3901e9-f421-4e8c-945f-7b1e660a6d8e",
   "metadata": {},
   "source": [
    "### Arrays slices are view: An important difference from lists\n",
    "\n",
    "- See also [Copies and Views Tutorial](http://scipy-lectures.github.io/intro/numpy/array_object.html#copies-and-views)\n",
    "- Array slices are so-called *views*:\n",
    "    - If `a` is a Numpy array, and `b = a[m:n:s]`, then `b` is a *view* of array `a`\n",
    "    - `a` and `b` are distinct objects (i.e., `id(a) != id(b)`)\n",
    "    - `a` and `b` are both of type `numpy.ndarray`\n",
    "    - `a` and `b` ***share the same underlying data***: `b` just restricts what we see of the data in `a`\n",
    "    - Therefore, any change to data in `b` also affects data in `a`"
   ]
  },
  {
   "cell_type": "code",
   "execution_count": 69,
   "id": "8b850ac9-1bea-4e50-a058-893f2abc76b4",
   "metadata": {},
   "outputs": [
    {
     "name": "stdout",
     "output_type": "stream",
     "text": [
      "[10  2  3  4  5]\n",
      "[10  2  3]\n"
     ]
    }
   ],
   "source": [
    "a = np.array([1, 2, 3, 4, 5])\n",
    "b = a[:3]\n",
    "b[0] = 10\n",
    "print(a)\n",
    "print(b)"
   ]
  },
  {
   "cell_type": "markdown",
   "id": "c04c43be-9e52-4905-8931-ca94d299a6f0",
   "metadata": {},
   "source": [
    "- In contrast, slicing a list gives a new list object"
   ]
  },
  {
   "cell_type": "code",
   "execution_count": 70,
   "id": "c1148d4c-18d5-40ab-8b0a-60bb626ecc04",
   "metadata": {},
   "outputs": [
    {
     "name": "stdout",
     "output_type": "stream",
     "text": [
      "[1, 2, 3, 4, 5]\n",
      "[10, 2, 3]\n"
     ]
    }
   ],
   "source": [
    "l = [1, 2, 3, 4, 5]\n",
    "k = l[:3]\n",
    "k[0] = 10\n",
    "print(l)\n",
    "print(k)"
   ]
  },
  {
   "cell_type": "markdown",
   "id": "59641345-d013-4ee2-910e-0ff73b2d2d33",
   "metadata": {},
   "source": [
    "#### Summary: list slicing *vs* array slicing\n",
    "\n",
    "- For a normal Python *list* `l`, `l[:]` is a **copy**  of the elements in `l`, i.e., a new list object, that can be manipulated without affecting `l`. \n",
    "- For an array `a`, `a[:]` is a **view** of `a` with the same underlying data as `a` and changing data through this view *will change* the data in `a`."
   ]
  },
  {
   "cell_type": "markdown",
   "id": "c2b6f37f-7101-4815-b887-6f9dca921168",
   "metadata": {},
   "source": [
    "---\n",
    "# Pandas series and dataframes"
   ]
  },
  {
   "cell_type": "markdown",
   "id": "3a76e3fd-166b-41da-a4d5-aadf273402d4",
   "metadata": {},
   "source": [
    "\n",
    "## Pandas \n",
    "- Powerful and widely popular package for data processing\n",
    "- Developed by Wes McKinney since 2008\n",
    "    - Originally geared towards applications in finance\n",
    "- Resources\n",
    "    - https://pandas.pydata.org\n",
    "    - Chapter 12 in J.R. Johannsen's *Numerical Python*\n",
    "    - [*Python for Data Analysis*](http://shop.oreilly.com/product/0636920023784.do) by Wes McKinney\n",
    "- Focus on managing data\n",
    "- Can be considered Python's answer to spreadsheets\n",
    "- Similar to R's data frames\n",
    "- Some support for data analysis and visualization\n",
    "\n",
    "## Key concepts\n",
    "\n",
    "- `Series`, roughly comparable to single columns in a spreadsheet\n",
    "- `DataFrame`, roughly comparable to an entire table or spreadsheet\n",
    "- Builds on NumPy, but\n",
    "    - adds names to data\n",
    "    - provides powerful high-level tools to work with tables\n",
    "\n",
    "The remained of this lecture is based on Ch 12 of Johansson's *Numerical Python*.\n",
    "\n",
    "Example data are result data at the district level of the Norwegian parliament elections 2021, downloaded from https://valgresultater.no/eksport-av-valgresultater?type=st&year=2021 on 30 September 2021."
   ]
  },
  {
   "cell_type": "markdown",
   "id": "e63aafcf-e2a2-4bfb-b7d4-3abffe123f58",
   "metadata": {},
   "source": [
    "## Series\n",
    "\n",
    "- One-dimensional set of data\n",
    "- Defined by passing an iterable of values"
   ]
  },
  {
   "cell_type": "code",
   "execution_count": 71,
   "id": "a683eb09-27f4-45b3-b7a9-a0c8f898a628",
   "metadata": {},
   "outputs": [],
   "source": [
    "import pandas as pd"
   ]
  },
  {
   "cell_type": "code",
   "execution_count": 72,
   "id": "e32d7b77-f143-42bf-8a7b-733e0821a3b4",
   "metadata": {},
   "outputs": [
    {
     "data": {
      "text/plain": [
       "0     95609\n",
       "1     38779\n",
       "2    101439\n",
       "3     32584\n",
       "dtype: int64"
      ]
     },
     "execution_count": 72,
     "metadata": {},
     "output_type": "execute_result"
    }
   ],
   "source": [
    "v = pd.Series([95609, 38779, 101439, 32584])\n",
    "v"
   ]
  },
  {
   "cell_type": "markdown",
   "id": "c3e7a2e2-c346-4ce5-a055-c8a12e66219d",
   "metadata": {},
   "source": [
    "- The left column shown here is the *index* of the series\n",
    "    - Pandas automatically assigned index 0, 1, 2, 3 since we did not provide and index\n",
    "- The right column are the *values* of the series\n",
    "- We can access index and values:\n"
   ]
  },
  {
   "cell_type": "code",
   "execution_count": 73,
   "id": "235b1196-7609-4ad7-99dd-1395b3074623",
   "metadata": {},
   "outputs": [
    {
     "data": {
      "text/plain": [
       "RangeIndex(start=0, stop=4, step=1)"
      ]
     },
     "execution_count": 73,
     "metadata": {},
     "output_type": "execute_result"
    }
   ],
   "source": [
    "v.index"
   ]
  },
  {
   "cell_type": "code",
   "execution_count": 74,
   "id": "e262bc44-83f9-4514-b15f-bf606faca4f3",
   "metadata": {},
   "outputs": [
    {
     "data": {
      "text/plain": [
       "array([ 95609,  38779, 101439,  32584])"
      ]
     },
     "execution_count": 74,
     "metadata": {},
     "output_type": "execute_result"
    }
   ],
   "source": [
    "v.values"
   ]
  },
  {
   "cell_type": "markdown",
   "id": "60c15c19-5939-4b85-98ba-6aef6cb3568c",
   "metadata": {},
   "source": [
    "- Note that values are stored as NumPy arrays internally (Python packages build on top of each other)\n",
    "- We can assign a new index to provide more information\n",
    "- We can also assign a name"
   ]
  },
  {
   "cell_type": "code",
   "execution_count": 75,
   "id": "1592a2b6-7372-4b87-9ac6-3517e88f12b1",
   "metadata": {},
   "outputs": [
    {
     "data": {
      "text/plain": [
       "A       95609\n",
       "FRP     38779\n",
       "H      101439\n",
       "SP      32584\n",
       "Name: Votes, dtype: int64"
      ]
     },
     "execution_count": 75,
     "metadata": {},
     "output_type": "execute_result"
    }
   ],
   "source": [
    "v.index = ['A', 'FRP', 'H', 'SP']\n",
    "v.name = 'Votes'\n",
    "v"
   ]
  },
  {
   "cell_type": "markdown",
   "id": "e3b4292e-d827-48bd-9895-f688a56b880d",
   "metadata": {},
   "source": [
    "- Much more informative!\n",
    "- We could have done it in one step"
   ]
  },
  {
   "cell_type": "code",
   "execution_count": 76,
   "id": "5fddd22e-cf4f-4d70-bf25-f8512d082b3e",
   "metadata": {},
   "outputs": [
    {
     "data": {
      "text/plain": [
       "A       95609\n",
       "FRP     38779\n",
       "H      101439\n",
       "SP      32584\n",
       "Name: Votes, dtype: int64"
      ]
     },
     "execution_count": 76,
     "metadata": {},
     "output_type": "execute_result"
    }
   ],
   "source": [
    "v = pd.Series([95609, 38779, 101439, 32584],\n",
    "              index=['A', 'FRP', 'H', 'SP'],\n",
    "              name='Votes')\n",
    "v"
   ]
  },
  {
   "cell_type": "markdown",
   "id": "dad4b538-fa41-4ec6-86ce-5cea8b2cdae3",
   "metadata": {},
   "source": [
    "- The data in this series i now self-documenting through the series name and index\n",
    "- We can now access data conveniently\n",
    "    - We can always use dictionary notation"
   ]
  },
  {
   "cell_type": "code",
   "execution_count": 77,
   "id": "4ca28b73-1ec0-449d-9c2a-a53c92dc4c48",
   "metadata": {},
   "outputs": [
    {
     "data": {
      "text/plain": [
       "95609"
      ]
     },
     "execution_count": 77,
     "metadata": {},
     "output_type": "execute_result"
    }
   ],
   "source": [
    "v['A']"
   ]
  },
  {
   "cell_type": "markdown",
   "id": "595788ce-1076-4b4b-b56c-ff809efb1db6",
   "metadata": {},
   "source": [
    "- If a name is a valid Python name, we can also look it up as an attribute"
   ]
  },
  {
   "cell_type": "code",
   "execution_count": 78,
   "id": "9858d63b-76ef-438e-8469-2203310f4e20",
   "metadata": {},
   "outputs": [
    {
     "data": {
      "text/plain": [
       "101439"
      ]
     },
     "execution_count": 78,
     "metadata": {},
     "output_type": "execute_result"
    }
   ],
   "source": [
    "v.H"
   ]
  },
  {
   "cell_type": "markdown",
   "id": "27ff6783-9b10-419d-b751-ebc73bd256d9",
   "metadata": {},
   "source": [
    "- We can even look up several entries at once\n",
    "- The result is then a new series"
   ]
  },
  {
   "cell_type": "code",
   "execution_count": 79,
   "id": "f2153402-a352-4d20-b09f-25ed4a48a9fa",
   "metadata": {},
   "outputs": [
    {
     "data": {
      "text/plain": [
       "A     95609\n",
       "H    101439\n",
       "Name: Votes, dtype: int64"
      ]
     },
     "execution_count": 79,
     "metadata": {},
     "output_type": "execute_result"
    }
   ],
   "source": [
    "v[['A', 'H']]"
   ]
  },
  {
   "cell_type": "markdown",
   "id": "36147096-506f-47fe-983d-e5c488c15377",
   "metadata": {},
   "source": [
    "- And we can slice\n",
    "    - Note that the last matching index *is included*"
   ]
  },
  {
   "cell_type": "code",
   "execution_count": 80,
   "id": "e911b335-63ab-4894-83d5-6a38ba74a7fc",
   "metadata": {},
   "outputs": [
    {
     "data": {
      "text/plain": [
       "A       95609\n",
       "FRP     38779\n",
       "H      101439\n",
       "Name: Votes, dtype: int64"
      ]
     },
     "execution_count": 80,
     "metadata": {},
     "output_type": "execute_result"
    }
   ],
   "source": [
    "v[:'H']"
   ]
  },
  {
   "cell_type": "markdown",
   "id": "9663d435-e0f0-46ad-aa00-b55127d0000b",
   "metadata": {},
   "source": [
    "- We can do some data analysis"
   ]
  },
  {
   "cell_type": "code",
   "execution_count": 81,
   "id": "eebf0d86-5960-4839-8ea3-383c200069eb",
   "metadata": {},
   "outputs": [
    {
     "data": {
      "text/plain": [
       "(4, 268411, 67102.75, 67194.0)"
      ]
     },
     "execution_count": 81,
     "metadata": {},
     "output_type": "execute_result"
    }
   ],
   "source": [
    "v.count(), v.sum(), v.mean(), v.median()"
   ]
  },
  {
   "cell_type": "markdown",
   "id": "233e0e6f-a856-4b8f-ad51-1f5c4f8384b1",
   "metadata": {},
   "source": [
    "- We can get an overview easily"
   ]
  },
  {
   "cell_type": "code",
   "execution_count": 82,
   "id": "b29cd6ff-5bdf-49d0-99e9-3bb36c0486ba",
   "metadata": {},
   "outputs": [
    {
     "data": {
      "text/plain": [
       "count         4.000000\n",
       "mean      67102.750000\n",
       "std       36447.968708\n",
       "min       32584.000000\n",
       "25%       37230.250000\n",
       "50%       67194.000000\n",
       "75%       97066.500000\n",
       "max      101439.000000\n",
       "Name: Votes, dtype: float64"
      ]
     },
     "execution_count": 82,
     "metadata": {},
     "output_type": "execute_result"
    }
   ],
   "source": [
    "v.describe()"
   ]
  },
  {
   "cell_type": "markdown",
   "id": "633160e5-c5a4-4d79-9c94-c9356096b81c",
   "metadata": {},
   "source": [
    "- We can also plot the data in various ways\n",
    "- Note that we call `plot` as a method of the `Series`"
   ]
  },
  {
   "cell_type": "code",
   "execution_count": 84,
   "id": "c9c9a21e-ce04-485c-a0eb-6d9b86a8c733",
   "metadata": {},
   "outputs": [
    {
     "data": {
      "image/png": "[encoded data removed]",
      "text/plain": [
       "<Figure size 864x288 with 2 Axes>"
      ]
     },
     "metadata": {
      "needs_background": "light"
     },
     "output_type": "display_data"
    }
   ],
   "source": [
    "fig, axes = plt.subplots(1, 2, figsize=(12, 4))\n",
    "v.plot(ax=axes[0], kind='bar')\n",
    "v.plot(ax=axes[1], kind='pie');"
   ]
  },
  {
   "cell_type": "markdown",
   "id": "87b01750-ea3e-4929-814d-1b884809d32a",
   "metadata": {},
   "source": [
    "## DataFrame\n",
    "\n",
    "- Two-dimensional data structure\n",
    "- Consists of one more Series\n",
    "- Main workhorse of Pandas\n",
    "- Allows us to represent and work with annotated (self-documenting) data in table form\n",
    "- DataFrame vs Spreadsheet (Excel & Co)\n",
    "    - both organise data in tables\n",
    "    - both allow complex operation on tables\n",
    "    - DataFrame contains *only data*—*operations are separate*\n",
    "    - Spreadsheet *combines operations and data*: much more difficult to debug!\n",
    "\n",
    "### Constructing a DataFrame\n",
    "\n",
    "- Simplest construction from 2D array"
   ]
  },
  {
   "cell_type": "code",
   "execution_count": 86,
   "id": "77bbbb2e-9d39-4213-81a8-00f08d7fb1b3",
   "metadata": {},
   "outputs": [
    {
     "data": {
      "text/html": [
       "<div>\n",
       "<style scoped>\n",
       "    .dataframe tbody tr th:only-of-type {\n",
       "        vertical-align: middle;\n",
       "    }\n",
       "\n",
       "    .dataframe tbody tr th {\n",
       "        vertical-align: top;\n",
       "    }\n",
       "\n",
       "    .dataframe thead th {\n",
       "        text-align: right;\n",
       "    }\n",
       "</style>\n",
       "<table border=\"1\" class=\"dataframe\">\n",
       "  <thead>\n",
       "    <tr style=\"text-align: right;\">\n",
       "      <th></th>\n",
       "      <th>0</th>\n",
       "      <th>1</th>\n",
       "    </tr>\n",
       "  </thead>\n",
       "  <tbody>\n",
       "    <tr>\n",
       "      <th>0</th>\n",
       "      <td>87158</td>\n",
       "      <td>Oslo</td>\n",
       "    </tr>\n",
       "    <tr>\n",
       "      <th>1</th>\n",
       "      <td>89342</td>\n",
       "      <td>Oslo</td>\n",
       "    </tr>\n",
       "    <tr>\n",
       "      <th>2</th>\n",
       "      <td>95609</td>\n",
       "      <td>Akershus</td>\n",
       "    </tr>\n",
       "    <tr>\n",
       "      <th>3</th>\n",
       "      <td>101439</td>\n",
       "      <td>Akershus</td>\n",
       "    </tr>\n",
       "  </tbody>\n",
       "</table>\n",
       "</div>"
      ],
      "text/plain": [
       "        0         1\n",
       "0   87158      Oslo\n",
       "1   89342      Oslo\n",
       "2   95609  Akershus\n",
       "3  101439  Akershus"
      ]
     },
     "execution_count": 86,
     "metadata": {},
     "output_type": "execute_result"
    }
   ],
   "source": [
    "df = pd.DataFrame([[87158, 'Oslo'], \n",
    "                   [89342, 'Oslo'], \n",
    "                   [95609, 'Akershus'],\n",
    "                   [101439, 'Akershus']])\n",
    "df"
   ]
  },
  {
   "cell_type": "markdown",
   "id": "2852edd0-41b2-42bd-881b-07654f99b683",
   "metadata": {},
   "source": [
    "- Jupyter neatly renders the DataFrame as table\n",
    "- Pandas has automatically assigned numerical row index and column labels\n",
    "- We can set them explictly post-construction or pass the information directly to the constructor"
   ]
  },
  {
   "cell_type": "code",
   "execution_count": 87,
   "id": "a2d11094-b7cb-420f-9094-f84a1b421366",
   "metadata": {},
   "outputs": [
    {
     "data": {
      "text/html": [
       "<div>\n",
       "<style scoped>\n",
       "    .dataframe tbody tr th:only-of-type {\n",
       "        vertical-align: middle;\n",
       "    }\n",
       "\n",
       "    .dataframe tbody tr th {\n",
       "        vertical-align: top;\n",
       "    }\n",
       "\n",
       "    .dataframe thead th {\n",
       "        text-align: right;\n",
       "    }\n",
       "</style>\n",
       "<table border=\"1\" class=\"dataframe\">\n",
       "  <thead>\n",
       "    <tr style=\"text-align: right;\">\n",
       "      <th></th>\n",
       "      <th>Votes</th>\n",
       "      <th>District</th>\n",
       "    </tr>\n",
       "  </thead>\n",
       "  <tbody>\n",
       "    <tr>\n",
       "      <th>A</th>\n",
       "      <td>87158</td>\n",
       "      <td>Oslo</td>\n",
       "    </tr>\n",
       "    <tr>\n",
       "      <th>H</th>\n",
       "      <td>89342</td>\n",
       "      <td>Oslo</td>\n",
       "    </tr>\n",
       "    <tr>\n",
       "      <th>A</th>\n",
       "      <td>95609</td>\n",
       "      <td>Akershus</td>\n",
       "    </tr>\n",
       "    <tr>\n",
       "      <th>H</th>\n",
       "      <td>101439</td>\n",
       "      <td>Akershus</td>\n",
       "    </tr>\n",
       "  </tbody>\n",
       "</table>\n",
       "</div>"
      ],
      "text/plain": [
       "    Votes  District\n",
       "A   87158      Oslo\n",
       "H   89342      Oslo\n",
       "A   95609  Akershus\n",
       "H  101439  Akershus"
      ]
     },
     "execution_count": 87,
     "metadata": {},
     "output_type": "execute_result"
    }
   ],
   "source": [
    " df = pd.DataFrame([[87158, 'Oslo',], \n",
    "                    [89342, 'Oslo'], \n",
    "                    [95609, 'Akershus'],\n",
    "                    [101439, 'Akershus']],\n",
    "                   index=['A', 'H', 'A', 'H'],\n",
    "                   columns=['Votes', 'District'])\n",
    "df"
   ]
  },
  {
   "cell_type": "markdown",
   "id": "61374665-f510-4bf7-bd3f-a528d7d942da",
   "metadata": {},
   "source": [
    "- We can also pass a dictionary with one entry per column"
   ]
  },
  {
   "cell_type": "code",
   "execution_count": 88,
   "id": "7dc17a9f-8e65-490a-9af8-d6be67270ef9",
   "metadata": {},
   "outputs": [
    {
     "data": {
      "text/html": [
       "<div>\n",
       "<style scoped>\n",
       "    .dataframe tbody tr th:only-of-type {\n",
       "        vertical-align: middle;\n",
       "    }\n",
       "\n",
       "    .dataframe tbody tr th {\n",
       "        vertical-align: top;\n",
       "    }\n",
       "\n",
       "    .dataframe thead th {\n",
       "        text-align: right;\n",
       "    }\n",
       "</style>\n",
       "<table border=\"1\" class=\"dataframe\">\n",
       "  <thead>\n",
       "    <tr style=\"text-align: right;\">\n",
       "      <th></th>\n",
       "      <th>Votes</th>\n",
       "      <th>District</th>\n",
       "    </tr>\n",
       "  </thead>\n",
       "  <tbody>\n",
       "    <tr>\n",
       "      <th>A</th>\n",
       "      <td>87158</td>\n",
       "      <td>Oslo</td>\n",
       "    </tr>\n",
       "    <tr>\n",
       "      <th>H</th>\n",
       "      <td>89342</td>\n",
       "      <td>Oslo</td>\n",
       "    </tr>\n",
       "    <tr>\n",
       "      <th>A</th>\n",
       "      <td>95609</td>\n",
       "      <td>Akershus</td>\n",
       "    </tr>\n",
       "    <tr>\n",
       "      <th>H</th>\n",
       "      <td>101439</td>\n",
       "      <td>Akershus</td>\n",
       "    </tr>\n",
       "  </tbody>\n",
       "</table>\n",
       "</div>"
      ],
      "text/plain": [
       "    Votes  District\n",
       "A   87158      Oslo\n",
       "H   89342      Oslo\n",
       "A   95609  Akershus\n",
       "H  101439  Akershus"
      ]
     },
     "execution_count": 88,
     "metadata": {},
     "output_type": "execute_result"
    }
   ],
   "source": [
    "df = pd.DataFrame({'Votes': [87158, 89342, 95609, 101439],\n",
    "                   'District': ['Oslo', 'Oslo', 'Akershus', 'Akershus']},\n",
    "                  index=['A', 'H', 'A', 'H'])\n",
    "df"
   ]
  },
  {
   "cell_type": "markdown",
   "id": "4770e983-c86a-4b4f-b249-96547f3ee63e",
   "metadata": {},
   "source": [
    "- Both approaches are not ideal, because we rely heavily on the fact that the three arrays are \"in sync\".\n",
    "- Creating the DataFrame from records is safer"
   ]
  },
  {
   "cell_type": "code",
   "execution_count": 89,
   "id": "7b1d1cad-d872-4c0e-a280-674bac391536",
   "metadata": {},
   "outputs": [
    {
     "data": {
      "text/html": [
       "<div>\n",
       "<style scoped>\n",
       "    .dataframe tbody tr th:only-of-type {\n",
       "        vertical-align: middle;\n",
       "    }\n",
       "\n",
       "    .dataframe tbody tr th {\n",
       "        vertical-align: top;\n",
       "    }\n",
       "\n",
       "    .dataframe thead th {\n",
       "        text-align: right;\n",
       "    }\n",
       "</style>\n",
       "<table border=\"1\" class=\"dataframe\">\n",
       "  <thead>\n",
       "    <tr style=\"text-align: right;\">\n",
       "      <th></th>\n",
       "      <th>District</th>\n",
       "      <th>Party</th>\n",
       "      <th>Votes</th>\n",
       "    </tr>\n",
       "  </thead>\n",
       "  <tbody>\n",
       "    <tr>\n",
       "      <th>0</th>\n",
       "      <td>Oslo</td>\n",
       "      <td>A</td>\n",
       "      <td>87158</td>\n",
       "    </tr>\n",
       "    <tr>\n",
       "      <th>1</th>\n",
       "      <td>Oslo</td>\n",
       "      <td>H</td>\n",
       "      <td>89342</td>\n",
       "    </tr>\n",
       "    <tr>\n",
       "      <th>2</th>\n",
       "      <td>Akershus</td>\n",
       "      <td>A</td>\n",
       "      <td>95609</td>\n",
       "    </tr>\n",
       "    <tr>\n",
       "      <th>3</th>\n",
       "      <td>Akershus</td>\n",
       "      <td>H</td>\n",
       "      <td>101439</td>\n",
       "    </tr>\n",
       "  </tbody>\n",
       "</table>\n",
       "</div>"
      ],
      "text/plain": [
       "   District Party   Votes\n",
       "0      Oslo     A   87158\n",
       "1      Oslo     H   89342\n",
       "2  Akershus     A   95609\n",
       "3  Akershus     H  101439"
      ]
     },
     "execution_count": 89,
     "metadata": {},
     "output_type": "execute_result"
    }
   ],
   "source": [
    "df = pd.DataFrame.from_records([{'District': 'Oslo', 'Party': 'A', 'Votes': 87158},\n",
    "                                {'District': 'Oslo', 'Party': 'H', 'Votes': 89342},\n",
    "                                {'District': 'Akershus', 'Party': 'A', 'Votes': 95609},\n",
    "                                {'District': 'Akershus', 'Party': 'H', 'Votes': 101439}])\n",
    "df"
   ]
  },
  {
   "cell_type": "markdown",
   "id": "12239ea9-e168-4df9-a16e-ba0fce71df81",
   "metadata": {},
   "source": [
    "- We can then select one column as the index afterwards"
   ]
  },
  {
   "cell_type": "code",
   "execution_count": 90,
   "id": "35ab42c4-f5c1-4f6f-af35-51d51d1de06a",
   "metadata": {},
   "outputs": [
    {
     "data": {
      "text/html": [
       "<div>\n",
       "<style scoped>\n",
       "    .dataframe tbody tr th:only-of-type {\n",
       "        vertical-align: middle;\n",
       "    }\n",
       "\n",
       "    .dataframe tbody tr th {\n",
       "        vertical-align: top;\n",
       "    }\n",
       "\n",
       "    .dataframe thead th {\n",
       "        text-align: right;\n",
       "    }\n",
       "</style>\n",
       "<table border=\"1\" class=\"dataframe\">\n",
       "  <thead>\n",
       "    <tr style=\"text-align: right;\">\n",
       "      <th></th>\n",
       "      <th>District</th>\n",
       "      <th>Votes</th>\n",
       "    </tr>\n",
       "    <tr>\n",
       "      <th>Party</th>\n",
       "      <th></th>\n",
       "      <th></th>\n",
       "    </tr>\n",
       "  </thead>\n",
       "  <tbody>\n",
       "    <tr>\n",
       "      <th>A</th>\n",
       "      <td>Oslo</td>\n",
       "      <td>87158</td>\n",
       "    </tr>\n",
       "    <tr>\n",
       "      <th>H</th>\n",
       "      <td>Oslo</td>\n",
       "      <td>89342</td>\n",
       "    </tr>\n",
       "    <tr>\n",
       "      <th>A</th>\n",
       "      <td>Akershus</td>\n",
       "      <td>95609</td>\n",
       "    </tr>\n",
       "    <tr>\n",
       "      <th>H</th>\n",
       "      <td>Akershus</td>\n",
       "      <td>101439</td>\n",
       "    </tr>\n",
       "  </tbody>\n",
       "</table>\n",
       "</div>"
      ],
      "text/plain": [
       "       District   Votes\n",
       "Party                  \n",
       "A          Oslo   87158\n",
       "H          Oslo   89342\n",
       "A      Akershus   95609\n",
       "H      Akershus  101439"
      ]
     },
     "execution_count": 90,
     "metadata": {},
     "output_type": "execute_result"
    }
   ],
   "source": [
    "df = df.set_index('Party')\n",
    "df"
   ]
  },
  {
   "cell_type": "markdown",
   "id": "31df9561-90b4-430e-822d-75f186b5881c",
   "metadata": {},
   "source": [
    "- We can select individual columns"
   ]
  },
  {
   "cell_type": "code",
   "execution_count": 91,
   "id": "8a4a0460-e6a6-412c-8d27-6fd413882721",
   "metadata": {},
   "outputs": [
    {
     "data": {
      "text/plain": [
       "Party\n",
       "A     87158\n",
       "H     89342\n",
       "A     95609\n",
       "H    101439\n",
       "Name: Votes, dtype: int64"
      ]
     },
     "execution_count": 91,
     "metadata": {},
     "output_type": "execute_result"
    }
   ],
   "source": [
    "df.Votes"
   ]
  },
  {
   "cell_type": "code",
   "execution_count": 92,
   "id": "4a42bd5c-e93e-47a5-9c3e-08b46f2a17af",
   "metadata": {},
   "outputs": [
    {
     "data": {
      "text/plain": [
       "Party\n",
       "A     87158\n",
       "H     89342\n",
       "A     95609\n",
       "H    101439\n",
       "Name: Votes, dtype: int64"
      ]
     },
     "execution_count": 92,
     "metadata": {},
     "output_type": "execute_result"
    }
   ],
   "source": [
    "df['Votes']"
   ]
  },
  {
   "cell_type": "markdown",
   "id": "5a555176-3b0e-4fda-836e-dbe477fcd91b",
   "metadata": {},
   "source": [
    "- We can select rows using `loc`\n",
    "    - looks like a method, but used with brackets\n",
    "    - `ix` is used in Johansson's book but is deprecated today\n",
    "    "
   ]
  },
  {
   "cell_type": "code",
   "execution_count": 93,
   "id": "b4bb81b3-ddf7-48b4-92e8-be417495486c",
   "metadata": {},
   "outputs": [
    {
     "data": {
      "text/html": [
       "<div>\n",
       "<style scoped>\n",
       "    .dataframe tbody tr th:only-of-type {\n",
       "        vertical-align: middle;\n",
       "    }\n",
       "\n",
       "    .dataframe tbody tr th {\n",
       "        vertical-align: top;\n",
       "    }\n",
       "\n",
       "    .dataframe thead th {\n",
       "        text-align: right;\n",
       "    }\n",
       "</style>\n",
       "<table border=\"1\" class=\"dataframe\">\n",
       "  <thead>\n",
       "    <tr style=\"text-align: right;\">\n",
       "      <th></th>\n",
       "      <th>District</th>\n",
       "      <th>Votes</th>\n",
       "    </tr>\n",
       "    <tr>\n",
       "      <th>Party</th>\n",
       "      <th></th>\n",
       "      <th></th>\n",
       "    </tr>\n",
       "  </thead>\n",
       "  <tbody>\n",
       "    <tr>\n",
       "      <th>A</th>\n",
       "      <td>Oslo</td>\n",
       "      <td>87158</td>\n",
       "    </tr>\n",
       "    <tr>\n",
       "      <th>A</th>\n",
       "      <td>Akershus</td>\n",
       "      <td>95609</td>\n",
       "    </tr>\n",
       "  </tbody>\n",
       "</table>\n",
       "</div>"
      ],
      "text/plain": [
       "       District  Votes\n",
       "Party                 \n",
       "A          Oslo  87158\n",
       "A      Akershus  95609"
      ]
     },
     "execution_count": 93,
     "metadata": {},
     "output_type": "execute_result"
    }
   ],
   "source": [
    "df.loc['A']"
   ]
  },
  {
   "cell_type": "markdown",
   "id": "2bf8daa6-ecdd-47e7-ba6c-0f1808868a83",
   "metadata": {},
   "source": [
    "- We can also combine row and column indexing"
   ]
  },
  {
   "cell_type": "code",
   "execution_count": 94,
   "id": "409c8a01-10f0-435d-8207-bb08b740e530",
   "metadata": {},
   "outputs": [
    {
     "data": {
      "text/plain": [
       "Party\n",
       "A    87158\n",
       "A    95609\n",
       "Name: Votes, dtype: int64"
      ]
     },
     "execution_count": 94,
     "metadata": {},
     "output_type": "execute_result"
    }
   ],
   "source": [
    "df.loc['A'].Votes"
   ]
  },
  {
   "cell_type": "code",
   "execution_count": 95,
   "id": "93ffdb95-cd5e-49ab-a4c9-6eaa1e2eabce",
   "metadata": {},
   "outputs": [
    {
     "data": {
      "text/plain": [
       "Party\n",
       "A    87158\n",
       "A    95609\n",
       "Name: Votes, dtype: int64"
      ]
     },
     "execution_count": 95,
     "metadata": {},
     "output_type": "execute_result"
    }
   ],
   "source": [
    "df.loc['A', 'Votes']"
   ]
  },
  {
   "cell_type": "markdown",
   "id": "0b2af1ad-7025-4cdd-baf4-9b2ab30ab096",
   "metadata": {},
   "source": [
    "- We can obtain technical information about the dataframe"
   ]
  },
  {
   "cell_type": "code",
   "execution_count": 96,
   "id": "fc37788f-e8e5-4127-9721-b092fc89bec6",
   "metadata": {},
   "outputs": [
    {
     "name": "stdout",
     "output_type": "stream",
     "text": [
      "<class 'pandas.core.frame.DataFrame'>\n",
      "Index: 4 entries, A to H\n",
      "Data columns (total 2 columns):\n",
      " #   Column    Non-Null Count  Dtype \n",
      "---  ------    --------------  ----- \n",
      " 0   District  4 non-null      object\n",
      " 1   Votes     4 non-null      int64 \n",
      "dtypes: int64(1), object(1)\n",
      "memory usage: 268.0+ bytes\n"
     ]
    }
   ],
   "source": [
    "df.info()"
   ]
  },
  {
   "cell_type": "markdown",
   "id": "1bbd0be9-ca1e-4087-a9a0-ad9a4f23224f",
   "metadata": {},
   "source": [
    "- And we can get a summary "
   ]
  },
  {
   "cell_type": "code",
   "execution_count": 97,
   "id": "b7862214-2c9e-4735-ad66-d2d161925010",
   "metadata": {},
   "outputs": [
    {
     "data": {
      "text/html": [
       "<div>\n",
       "<style scoped>\n",
       "    .dataframe tbody tr th:only-of-type {\n",
       "        vertical-align: middle;\n",
       "    }\n",
       "\n",
       "    .dataframe tbody tr th {\n",
       "        vertical-align: top;\n",
       "    }\n",
       "\n",
       "    .dataframe thead th {\n",
       "        text-align: right;\n",
       "    }\n",
       "</style>\n",
       "<table border=\"1\" class=\"dataframe\">\n",
       "  <thead>\n",
       "    <tr style=\"text-align: right;\">\n",
       "      <th></th>\n",
       "      <th>Votes</th>\n",
       "    </tr>\n",
       "  </thead>\n",
       "  <tbody>\n",
       "    <tr>\n",
       "      <th>count</th>\n",
       "      <td>4.000000</td>\n",
       "    </tr>\n",
       "    <tr>\n",
       "      <th>mean</th>\n",
       "      <td>93387.000000</td>\n",
       "    </tr>\n",
       "    <tr>\n",
       "      <th>std</th>\n",
       "      <td>6453.279631</td>\n",
       "    </tr>\n",
       "    <tr>\n",
       "      <th>min</th>\n",
       "      <td>87158.000000</td>\n",
       "    </tr>\n",
       "    <tr>\n",
       "      <th>25%</th>\n",
       "      <td>88796.000000</td>\n",
       "    </tr>\n",
       "    <tr>\n",
       "      <th>50%</th>\n",
       "      <td>92475.500000</td>\n",
       "    </tr>\n",
       "    <tr>\n",
       "      <th>75%</th>\n",
       "      <td>97066.500000</td>\n",
       "    </tr>\n",
       "    <tr>\n",
       "      <th>max</th>\n",
       "      <td>101439.000000</td>\n",
       "    </tr>\n",
       "  </tbody>\n",
       "</table>\n",
       "</div>"
      ],
      "text/plain": [
       "               Votes\n",
       "count       4.000000\n",
       "mean    93387.000000\n",
       "std      6453.279631\n",
       "min     87158.000000\n",
       "25%     88796.000000\n",
       "50%     92475.500000\n",
       "75%     97066.500000\n",
       "max    101439.000000"
      ]
     },
     "execution_count": 97,
     "metadata": {},
     "output_type": "execute_result"
    }
   ],
   "source": [
    "df.describe()"
   ]
  },
  {
   "cell_type": "markdown",
   "id": "38bbc8ca-93dd-45d1-b44a-9656cc0caca1",
   "metadata": {},
   "source": [
    "- The summary does not contain the \"District\" column because that is not numerical"
   ]
  },
  {
   "cell_type": "markdown",
   "id": "76c8ec29-ff04-49ec-9285-cd4579321fe8",
   "metadata": {},
   "source": [
    "## Working with a large dataset: Complete election data\n",
    "\n",
    "- Print the first few lines of the file"
   ]
  },
  {
   "cell_type": "code",
   "execution_count": 98,
   "id": "56d297da-7069-47c4-90cd-629ccf737420",
   "metadata": {},
   "outputs": [
    {
     "data": {
      "text/plain": [
       "['Fylkenummer;Fylkenavn;Kommunenummer;Kommunenavn;Stemmekretsnummer;Stemmekretsnavn;Partikode;Partinavn;Oppslutning prosentvis;Antall stemmeberettigede;Antall forhåndsstemmer;Antall valgtingstemmer;Antall stemmer totalt;Endring % siste tilsvarende valg;Endring % siste ekvivalente valg;Antall mandater;Antall utjevningsmandater;\\n',\n",
       " '01;Østfold;;;;;A;Arbeiderpartiet;30,47944;223945;24817;24528;49345;-1,58188;3,00272;3;0;\\n',\n",
       " '01;Østfold;;;;;SV;SV - Sosialistisk Venstreparti;6,07798;223945;5525;4315;9840;1,69399;1,87632;1;1;\\n',\n",
       " '01;Østfold;;;;;RØDT;Rødt;4,58195;223945;4258;3160;7418;2,44108;0,40159;0;0;\\n',\n",
       " '01;Østfold;;;;;SP;Senterpartiet;14,11338;223945;10082;12767;22849;5,49005;-3,17734;2;0;\\n',\n",
       " '01;Østfold;;;;;KRF;Kristelig Folkeparti;3,34412;223945;2576;2838;5414;-0,84722;-0,23466;0;0;\\n',\n",
       " '01;Østfold;;;;;MDG;Miljøpartiet De Grønne;2,95375;223945;2974;1808;4782;0,34468;-3,04005;0;0;\\n',\n",
       " '01;Østfold;;;;;V;Venstre;2,94695;223945;2408;2363;4771;0,5299;1,06177;0;0;\\n',\n",
       " '01;Østfold;;;;;H;Høyre;18,66075;223945;15598;14613;30211;-5,17001;0,8591;2;0;\\n',\n",
       " '01;Østfold;;;;;FRP;Fremskrittspartiet;12,67913;223945;9329;11198;20527;-4,8618;3,77279;1;0;\\n']"
      ]
     },
     "execution_count": 98,
     "metadata": {},
     "output_type": "execute_result"
    }
   ],
   "source": [
    "open('2021-09-30_party distribution_1_st_2021.csv', encoding='utf-8').readlines()[:10]"
   ]
  },
  {
   "cell_type": "markdown",
   "id": "68da21ab-5a42-4e1b-b06f-f6ae7c9262d9",
   "metadata": {},
   "source": [
    "- We can read the file directly into a dataframe"
   ]
  },
  {
   "cell_type": "code",
   "execution_count": 99,
   "id": "b6271b37-ecd0-45e8-a714-3f5bbc7df89e",
   "metadata": {},
   "outputs": [],
   "source": [
    "vd = pd.read_csv('2021-09-30_party distribution_1_st_2021.csv', sep=';')"
   ]
  },
  {
   "cell_type": "code",
   "execution_count": 100,
   "id": "5b7ccb4e-99a3-4240-ab2a-6e8bce0fd9c5",
   "metadata": {},
   "outputs": [
    {
     "data": {
      "text/html": [
       "<div>\n",
       "<style scoped>\n",
       "    .dataframe tbody tr th:only-of-type {\n",
       "        vertical-align: middle;\n",
       "    }\n",
       "\n",
       "    .dataframe tbody tr th {\n",
       "        vertical-align: top;\n",
       "    }\n",
       "\n",
       "    .dataframe thead th {\n",
       "        text-align: right;\n",
       "    }\n",
       "</style>\n",
       "<table border=\"1\" class=\"dataframe\">\n",
       "  <thead>\n",
       "    <tr style=\"text-align: right;\">\n",
       "      <th></th>\n",
       "      <th>Fylkenummer</th>\n",
       "      <th>Fylkenavn</th>\n",
       "      <th>Kommunenummer</th>\n",
       "      <th>Kommunenavn</th>\n",
       "      <th>Stemmekretsnummer</th>\n",
       "      <th>Stemmekretsnavn</th>\n",
       "      <th>Partikode</th>\n",
       "      <th>Partinavn</th>\n",
       "      <th>Oppslutning prosentvis</th>\n",
       "      <th>Antall stemmeberettigede</th>\n",
       "      <th>Antall forhåndsstemmer</th>\n",
       "      <th>Antall valgtingstemmer</th>\n",
       "      <th>Antall stemmer totalt</th>\n",
       "      <th>Endring % siste tilsvarende valg</th>\n",
       "      <th>Endring % siste ekvivalente valg</th>\n",
       "      <th>Antall mandater</th>\n",
       "      <th>Antall utjevningsmandater</th>\n",
       "      <th>Unnamed: 17</th>\n",
       "    </tr>\n",
       "  </thead>\n",
       "  <tbody>\n",
       "    <tr>\n",
       "      <th>0</th>\n",
       "      <td>1</td>\n",
       "      <td>Østfold</td>\n",
       "      <td>NaN</td>\n",
       "      <td>NaN</td>\n",
       "      <td>NaN</td>\n",
       "      <td>NaN</td>\n",
       "      <td>A</td>\n",
       "      <td>Arbeiderpartiet</td>\n",
       "      <td>30,47944</td>\n",
       "      <td>223945</td>\n",
       "      <td>24817</td>\n",
       "      <td>24528</td>\n",
       "      <td>49345</td>\n",
       "      <td>-1,58188</td>\n",
       "      <td>3,00272</td>\n",
       "      <td>3</td>\n",
       "      <td>0</td>\n",
       "      <td>NaN</td>\n",
       "    </tr>\n",
       "    <tr>\n",
       "      <th>1</th>\n",
       "      <td>1</td>\n",
       "      <td>Østfold</td>\n",
       "      <td>NaN</td>\n",
       "      <td>NaN</td>\n",
       "      <td>NaN</td>\n",
       "      <td>NaN</td>\n",
       "      <td>SV</td>\n",
       "      <td>SV - Sosialistisk Venstreparti</td>\n",
       "      <td>6,07798</td>\n",
       "      <td>223945</td>\n",
       "      <td>5525</td>\n",
       "      <td>4315</td>\n",
       "      <td>9840</td>\n",
       "      <td>1,69399</td>\n",
       "      <td>1,87632</td>\n",
       "      <td>1</td>\n",
       "      <td>1</td>\n",
       "      <td>NaN</td>\n",
       "    </tr>\n",
       "    <tr>\n",
       "      <th>2</th>\n",
       "      <td>1</td>\n",
       "      <td>Østfold</td>\n",
       "      <td>NaN</td>\n",
       "      <td>NaN</td>\n",
       "      <td>NaN</td>\n",
       "      <td>NaN</td>\n",
       "      <td>RØDT</td>\n",
       "      <td>Rødt</td>\n",
       "      <td>4,58195</td>\n",
       "      <td>223945</td>\n",
       "      <td>4258</td>\n",
       "      <td>3160</td>\n",
       "      <td>7418</td>\n",
       "      <td>2,44108</td>\n",
       "      <td>0,40159</td>\n",
       "      <td>0</td>\n",
       "      <td>0</td>\n",
       "      <td>NaN</td>\n",
       "    </tr>\n",
       "    <tr>\n",
       "      <th>3</th>\n",
       "      <td>1</td>\n",
       "      <td>Østfold</td>\n",
       "      <td>NaN</td>\n",
       "      <td>NaN</td>\n",
       "      <td>NaN</td>\n",
       "      <td>NaN</td>\n",
       "      <td>SP</td>\n",
       "      <td>Senterpartiet</td>\n",
       "      <td>14,11338</td>\n",
       "      <td>223945</td>\n",
       "      <td>10082</td>\n",
       "      <td>12767</td>\n",
       "      <td>22849</td>\n",
       "      <td>5,49005</td>\n",
       "      <td>-3,17734</td>\n",
       "      <td>2</td>\n",
       "      <td>0</td>\n",
       "      <td>NaN</td>\n",
       "    </tr>\n",
       "    <tr>\n",
       "      <th>4</th>\n",
       "      <td>1</td>\n",
       "      <td>Østfold</td>\n",
       "      <td>NaN</td>\n",
       "      <td>NaN</td>\n",
       "      <td>NaN</td>\n",
       "      <td>NaN</td>\n",
       "      <td>KRF</td>\n",
       "      <td>Kristelig Folkeparti</td>\n",
       "      <td>3,34412</td>\n",
       "      <td>223945</td>\n",
       "      <td>2576</td>\n",
       "      <td>2838</td>\n",
       "      <td>5414</td>\n",
       "      <td>-0,84722</td>\n",
       "      <td>-0,23466</td>\n",
       "      <td>0</td>\n",
       "      <td>0</td>\n",
       "      <td>NaN</td>\n",
       "    </tr>\n",
       "    <tr>\n",
       "      <th>...</th>\n",
       "      <td>...</td>\n",
       "      <td>...</td>\n",
       "      <td>...</td>\n",
       "      <td>...</td>\n",
       "      <td>...</td>\n",
       "      <td>...</td>\n",
       "      <td>...</td>\n",
       "      <td>...</td>\n",
       "      <td>...</td>\n",
       "      <td>...</td>\n",
       "      <td>...</td>\n",
       "      <td>...</td>\n",
       "      <td>...</td>\n",
       "      <td>...</td>\n",
       "      <td>...</td>\n",
       "      <td>...</td>\n",
       "      <td>...</td>\n",
       "      <td>...</td>\n",
       "    </tr>\n",
       "    <tr>\n",
       "      <th>375</th>\n",
       "      <td>20</td>\n",
       "      <td>Finnmark Finnmárku</td>\n",
       "      <td>NaN</td>\n",
       "      <td>NaN</td>\n",
       "      <td>NaN</td>\n",
       "      <td>NaN</td>\n",
       "      <td>KRISTNE</td>\n",
       "      <td>Partiet De Kristne</td>\n",
       "      <td>0,354</td>\n",
       "      <td>54608</td>\n",
       "      <td>71</td>\n",
       "      <td>67</td>\n",
       "      <td>138</td>\n",
       "      <td>-0,00838</td>\n",
       "      <td>-0,07736</td>\n",
       "      <td>0</td>\n",
       "      <td>0</td>\n",
       "      <td>NaN</td>\n",
       "    </tr>\n",
       "    <tr>\n",
       "      <th>376</th>\n",
       "      <td>20</td>\n",
       "      <td>Finnmark Finnmárku</td>\n",
       "      <td>NaN</td>\n",
       "      <td>NaN</td>\n",
       "      <td>NaN</td>\n",
       "      <td>NaN</td>\n",
       "      <td>LIBS</td>\n",
       "      <td>Liberalistene</td>\n",
       "      <td>0,17957</td>\n",
       "      <td>54608</td>\n",
       "      <td>46</td>\n",
       "      <td>24</td>\n",
       "      <td>70</td>\n",
       "      <td>-0,04146</td>\n",
       "      <td>-0,16308</td>\n",
       "      <td>0</td>\n",
       "      <td>0</td>\n",
       "      <td>NaN</td>\n",
       "    </tr>\n",
       "    <tr>\n",
       "      <th>377</th>\n",
       "      <td>20</td>\n",
       "      <td>Finnmark Finnmárku</td>\n",
       "      <td>NaN</td>\n",
       "      <td>NaN</td>\n",
       "      <td>NaN</td>\n",
       "      <td>NaN</td>\n",
       "      <td>PS</td>\n",
       "      <td>Partiet Sentrum</td>\n",
       "      <td>0,177</td>\n",
       "      <td>54608</td>\n",
       "      <td>44</td>\n",
       "      <td>25</td>\n",
       "      <td>69</td>\n",
       "      <td>0,177</td>\n",
       "      <td>0,177</td>\n",
       "      <td>0</td>\n",
       "      <td>0</td>\n",
       "      <td>NaN</td>\n",
       "    </tr>\n",
       "    <tr>\n",
       "      <th>378</th>\n",
       "      <td>20</td>\n",
       "      <td>Finnmark Finnmárku</td>\n",
       "      <td>NaN</td>\n",
       "      <td>NaN</td>\n",
       "      <td>NaN</td>\n",
       "      <td>NaN</td>\n",
       "      <td>BLANKE</td>\n",
       "      <td>Blanke</td>\n",
       "      <td>0,81061</td>\n",
       "      <td>54608</td>\n",
       "      <td>172</td>\n",
       "      <td>144</td>\n",
       "      <td>316</td>\n",
       "      <td>-0,15832</td>\n",
       "      <td>-2,78715</td>\n",
       "      <td>0</td>\n",
       "      <td>0</td>\n",
       "      <td>NaN</td>\n",
       "    </tr>\n",
       "    <tr>\n",
       "      <th>379</th>\n",
       "      <td>20</td>\n",
       "      <td>Finnmark Finnmárku</td>\n",
       "      <td>NaN</td>\n",
       "      <td>NaN</td>\n",
       "      <td>NaN</td>\n",
       "      <td>NaN</td>\n",
       "      <td>PF</td>\n",
       "      <td>Pasientfokus</td>\n",
       "      <td>12,69784</td>\n",
       "      <td>54608</td>\n",
       "      <td>3548</td>\n",
       "      <td>1402</td>\n",
       "      <td>4950</td>\n",
       "      <td>12,69784</td>\n",
       "      <td>12,69784</td>\n",
       "      <td>1</td>\n",
       "      <td>0</td>\n",
       "      <td>NaN</td>\n",
       "    </tr>\n",
       "  </tbody>\n",
       "</table>\n",
       "<p>380 rows × 18 columns</p>\n",
       "</div>"
      ],
      "text/plain": [
       "     Fylkenummer           Fylkenavn  Kommunenummer  Kommunenavn  \\\n",
       "0              1             Østfold            NaN          NaN   \n",
       "1              1             Østfold            NaN          NaN   \n",
       "2              1             Østfold            NaN          NaN   \n",
       "3              1             Østfold            NaN          NaN   \n",
       "4              1             Østfold            NaN          NaN   \n",
       "..           ...                 ...            ...          ...   \n",
       "375           20  Finnmark Finnmárku            NaN          NaN   \n",
       "376           20  Finnmark Finnmárku            NaN          NaN   \n",
       "377           20  Finnmark Finnmárku            NaN          NaN   \n",
       "378           20  Finnmark Finnmárku            NaN          NaN   \n",
       "379           20  Finnmark Finnmárku            NaN          NaN   \n",
       "\n",
       "     Stemmekretsnummer  Stemmekretsnavn Partikode  \\\n",
       "0                  NaN              NaN         A   \n",
       "1                  NaN              NaN        SV   \n",
       "2                  NaN              NaN      RØDT   \n",
       "3                  NaN              NaN        SP   \n",
       "4                  NaN              NaN       KRF   \n",
       "..                 ...              ...       ...   \n",
       "375                NaN              NaN   KRISTNE   \n",
       "376                NaN              NaN      LIBS   \n",
       "377                NaN              NaN        PS   \n",
       "378                NaN              NaN    BLANKE   \n",
       "379                NaN              NaN        PF   \n",
       "\n",
       "                          Partinavn Oppslutning prosentvis  \\\n",
       "0                   Arbeiderpartiet               30,47944   \n",
       "1    SV - Sosialistisk Venstreparti                6,07798   \n",
       "2                              Rødt                4,58195   \n",
       "3                     Senterpartiet               14,11338   \n",
       "4              Kristelig Folkeparti                3,34412   \n",
       "..                              ...                    ...   \n",
       "375              Partiet De Kristne                  0,354   \n",
       "376                   Liberalistene                0,17957   \n",
       "377                 Partiet Sentrum                  0,177   \n",
       "378                          Blanke                0,81061   \n",
       "379                    Pasientfokus               12,69784   \n",
       "\n",
       "     Antall stemmeberettigede  Antall forhåndsstemmer  Antall valgtingstemmer  \\\n",
       "0                      223945                   24817                   24528   \n",
       "1                      223945                    5525                    4315   \n",
       "2                      223945                    4258                    3160   \n",
       "3                      223945                   10082                   12767   \n",
       "4                      223945                    2576                    2838   \n",
       "..                        ...                     ...                     ...   \n",
       "375                     54608                      71                      67   \n",
       "376                     54608                      46                      24   \n",
       "377                     54608                      44                      25   \n",
       "378                     54608                     172                     144   \n",
       "379                     54608                    3548                    1402   \n",
       "\n",
       "     Antall stemmer totalt Endring % siste tilsvarende valg  \\\n",
       "0                    49345                         -1,58188   \n",
       "1                     9840                          1,69399   \n",
       "2                     7418                          2,44108   \n",
       "3                    22849                          5,49005   \n",
       "4                     5414                         -0,84722   \n",
       "..                     ...                              ...   \n",
       "375                    138                         -0,00838   \n",
       "376                     70                         -0,04146   \n",
       "377                     69                            0,177   \n",
       "378                    316                         -0,15832   \n",
       "379                   4950                         12,69784   \n",
       "\n",
       "    Endring % siste ekvivalente valg  Antall mandater  \\\n",
       "0                            3,00272                3   \n",
       "1                            1,87632                1   \n",
       "2                            0,40159                0   \n",
       "3                           -3,17734                2   \n",
       "4                           -0,23466                0   \n",
       "..                               ...              ...   \n",
       "375                         -0,07736                0   \n",
       "376                         -0,16308                0   \n",
       "377                            0,177                0   \n",
       "378                         -2,78715                0   \n",
       "379                         12,69784                1   \n",
       "\n",
       "     Antall utjevningsmandater  Unnamed: 17  \n",
       "0                            0          NaN  \n",
       "1                            1          NaN  \n",
       "2                            0          NaN  \n",
       "3                            0          NaN  \n",
       "4                            0          NaN  \n",
       "..                         ...          ...  \n",
       "375                          0          NaN  \n",
       "376                          0          NaN  \n",
       "377                          0          NaN  \n",
       "378                          0          NaN  \n",
       "379                          0          NaN  \n",
       "\n",
       "[380 rows x 18 columns]"
      ]
     },
     "execution_count": 100,
     "metadata": {},
     "output_type": "execute_result"
    }
   ],
   "source": [
    "vd"
   ]
  },
  {
   "cell_type": "markdown",
   "id": "267d6bd5-9f8b-4ce3-9637-27f50885469f",
   "metadata": {},
   "source": [
    "- We see `NaN` (not-a-number) values: Pandas' way of marking missing data\n",
    "    - Data is missing here because the data file is at the district (Fylke) level\n",
    "- We can look at all column names"
   ]
  },
  {
   "cell_type": "code",
   "execution_count": 101,
   "id": "58c2b643-9c79-492c-9490-a6734d2b06f7",
   "metadata": {},
   "outputs": [
    {
     "data": {
      "text/plain": [
       "Index(['Fylkenummer', 'Fylkenavn', 'Kommunenummer', 'Kommunenavn',\n",
       "       'Stemmekretsnummer', 'Stemmekretsnavn', 'Partikode', 'Partinavn',\n",
       "       'Oppslutning prosentvis', 'Antall stemmeberettigede',\n",
       "       'Antall forhåndsstemmer', 'Antall valgtingstemmer',\n",
       "       'Antall stemmer totalt', 'Endring % siste tilsvarende valg',\n",
       "       'Endring % siste ekvivalente valg', 'Antall mandater',\n",
       "       'Antall utjevningsmandater', 'Unnamed: 17'],\n",
       "      dtype='object')"
      ]
     },
     "execution_count": 101,
     "metadata": {},
     "output_type": "execute_result"
    }
   ],
   "source": [
    "vd.columns"
   ]
  },
  {
   "cell_type": "markdown",
   "id": "5eb3d8f9-d12d-4db6-980f-c20af6d8b8ea",
   "metadata": {},
   "source": [
    "- We select columns we want to work with"
   ]
  },
  {
   "cell_type": "code",
   "execution_count": 102,
   "id": "9d269cbd-9928-4345-a93e-05fd9e142495",
   "metadata": {},
   "outputs": [],
   "source": [
    "vd = vd[['Fylkenavn', 'Partikode', 'Antall forhåndsstemmer', \n",
    "         'Antall valgtingstemmer', 'Antall stemmer totalt']]"
   ]
  },
  {
   "cell_type": "markdown",
   "id": "aec588c2-7527-4a89-9ebb-fe27ddac4a45",
   "metadata": {},
   "source": [
    "- And we rename those columns to shorter, English names\n",
    "- We use a dictionary to map old names to new names explicitly for robustness"
   ]
  },
  {
   "cell_type": "code",
   "execution_count": 103,
   "id": "b8f67cbe-93b6-4e1e-b276-90f3d6b9bfc1",
   "metadata": {},
   "outputs": [
    {
     "data": {
      "text/html": [
       "<div>\n",
       "<style scoped>\n",
       "    .dataframe tbody tr th:only-of-type {\n",
       "        vertical-align: middle;\n",
       "    }\n",
       "\n",
       "    .dataframe tbody tr th {\n",
       "        vertical-align: top;\n",
       "    }\n",
       "\n",
       "    .dataframe thead th {\n",
       "        text-align: right;\n",
       "    }\n",
       "</style>\n",
       "<table border=\"1\" class=\"dataframe\">\n",
       "  <thead>\n",
       "    <tr style=\"text-align: right;\">\n",
       "      <th></th>\n",
       "      <th>District</th>\n",
       "      <th>Party</th>\n",
       "      <th>EarlyVotes</th>\n",
       "      <th>EDayVotes</th>\n",
       "      <th>Votes</th>\n",
       "    </tr>\n",
       "  </thead>\n",
       "  <tbody>\n",
       "    <tr>\n",
       "      <th>0</th>\n",
       "      <td>Østfold</td>\n",
       "      <td>A</td>\n",
       "      <td>24817</td>\n",
       "      <td>24528</td>\n",
       "      <td>49345</td>\n",
       "    </tr>\n",
       "    <tr>\n",
       "      <th>1</th>\n",
       "      <td>Østfold</td>\n",
       "      <td>SV</td>\n",
       "      <td>5525</td>\n",
       "      <td>4315</td>\n",
       "      <td>9840</td>\n",
       "    </tr>\n",
       "    <tr>\n",
       "      <th>2</th>\n",
       "      <td>Østfold</td>\n",
       "      <td>RØDT</td>\n",
       "      <td>4258</td>\n",
       "      <td>3160</td>\n",
       "      <td>7418</td>\n",
       "    </tr>\n",
       "    <tr>\n",
       "      <th>3</th>\n",
       "      <td>Østfold</td>\n",
       "      <td>SP</td>\n",
       "      <td>10082</td>\n",
       "      <td>12767</td>\n",
       "      <td>22849</td>\n",
       "    </tr>\n",
       "    <tr>\n",
       "      <th>4</th>\n",
       "      <td>Østfold</td>\n",
       "      <td>KRF</td>\n",
       "      <td>2576</td>\n",
       "      <td>2838</td>\n",
       "      <td>5414</td>\n",
       "    </tr>\n",
       "  </tbody>\n",
       "</table>\n",
       "</div>"
      ],
      "text/plain": [
       "  District Party  EarlyVotes  EDayVotes  Votes\n",
       "0  Østfold     A       24817      24528  49345\n",
       "1  Østfold    SV        5525       4315   9840\n",
       "2  Østfold  RØDT        4258       3160   7418\n",
       "3  Østfold    SP       10082      12767  22849\n",
       "4  Østfold   KRF        2576       2838   5414"
      ]
     },
     "execution_count": 103,
     "metadata": {},
     "output_type": "execute_result"
    }
   ],
   "source": [
    "vd = vd.rename({'Fylkenavn': 'District',\n",
    "                'Partikode': 'Party',\n",
    "                'Antall forhåndsstemmer': 'EarlyVotes', \n",
    "                'Antall valgtingstemmer': 'EDayVotes',\n",
    "                'Antall stemmer totalt': 'Votes'},\n",
    "                axis=1)\n",
    "vd.head()"
   ]
  },
  {
   "cell_type": "markdown",
   "id": "c2c0466a-6faf-4e4c-bb88-e7b09a938e08",
   "metadata": {},
   "source": [
    "- We can perform one consistency check"
   ]
  },
  {
   "cell_type": "code",
   "execution_count": 104,
   "id": "d7fb72a9-1de2-47c5-9d65-32adc50acab1",
   "metadata": {},
   "outputs": [
    {
     "data": {
      "text/plain": [
       "True"
      ]
     },
     "execution_count": 104,
     "metadata": {},
     "output_type": "execute_result"
    }
   ],
   "source": [
    "all(vd.EarlyVotes + vd.EDayVotes == vd.Votes)"
   ]
  },
  {
   "cell_type": "markdown",
   "id": "ebb3b861-7edf-4991-887b-7436ad1f4ec8",
   "metadata": {},
   "source": [
    "- To keep the following examples less cluttered, we only keep data for parties who got at least 100.000 votes nationwide.\n",
    "- The way I select this data is a bit complicated, we will return to it later."
   ]
  },
  {
   "cell_type": "code",
   "execution_count": 105,
   "id": "0c533987-5743-4e63-a4c2-2442f44b101a",
   "metadata": {},
   "outputs": [],
   "source": [
    "bp = vd.groupby('Party').Votes.sum() > 100000\n",
    "vd = vd.set_index('Party').loc[bp.loc[bp].index].reset_index()"
   ]
  },
  {
   "cell_type": "markdown",
   "id": "809b5b0e-ef8f-4963-ae2e-dcf1d45e62ab",
   "metadata": {},
   "source": [
    "### Exploring the data"
   ]
  },
  {
   "cell_type": "code",
   "execution_count": 106,
   "id": "14d88766-e8e3-4f14-b580-ac7b09e53714",
   "metadata": {},
   "outputs": [
    {
     "name": "stdout",
     "output_type": "stream",
     "text": [
      "<class 'pandas.core.frame.DataFrame'>\n",
      "RangeIndex: 171 entries, 0 to 170\n",
      "Data columns (total 5 columns):\n",
      " #   Column      Non-Null Count  Dtype \n",
      "---  ------      --------------  ----- \n",
      " 0   Party       171 non-null    object\n",
      " 1   District    171 non-null    object\n",
      " 2   EarlyVotes  171 non-null    int64 \n",
      " 3   EDayVotes   171 non-null    int64 \n",
      " 4   Votes       171 non-null    int64 \n",
      "dtypes: int64(3), object(2)\n",
      "memory usage: 6.8+ KB\n"
     ]
    }
   ],
   "source": [
    "vd.info()"
   ]
  },
  {
   "cell_type": "code",
   "execution_count": 107,
   "id": "f0b6075f-fb9e-49b9-a6b9-717a7fd699f1",
   "metadata": {},
   "outputs": [
    {
     "data": {
      "text/html": [
       "<div>\n",
       "<style scoped>\n",
       "    .dataframe tbody tr th:only-of-type {\n",
       "        vertical-align: middle;\n",
       "    }\n",
       "\n",
       "    .dataframe tbody tr th {\n",
       "        vertical-align: top;\n",
       "    }\n",
       "\n",
       "    .dataframe thead th {\n",
       "        text-align: right;\n",
       "    }\n",
       "</style>\n",
       "<table border=\"1\" class=\"dataframe\">\n",
       "  <thead>\n",
       "    <tr style=\"text-align: right;\">\n",
       "      <th></th>\n",
       "      <th>EarlyVotes</th>\n",
       "      <th>EDayVotes</th>\n",
       "      <th>Votes</th>\n",
       "    </tr>\n",
       "  </thead>\n",
       "  <tbody>\n",
       "    <tr>\n",
       "      <th>count</th>\n",
       "      <td>171.000000</td>\n",
       "      <td>171.000000</td>\n",
       "      <td>171.000000</td>\n",
       "    </tr>\n",
       "    <tr>\n",
       "      <th>mean</th>\n",
       "      <td>9727.684211</td>\n",
       "      <td>7100.169591</td>\n",
       "      <td>16827.853801</td>\n",
       "    </tr>\n",
       "    <tr>\n",
       "      <th>std</th>\n",
       "      <td>11115.007252</td>\n",
       "      <td>7678.221370</td>\n",
       "      <td>18634.408765</td>\n",
       "    </tr>\n",
       "    <tr>\n",
       "      <th>min</th>\n",
       "      <td>349.000000</td>\n",
       "      <td>215.000000</td>\n",
       "      <td>564.000000</td>\n",
       "    </tr>\n",
       "    <tr>\n",
       "      <th>25%</th>\n",
       "      <td>2566.500000</td>\n",
       "      <td>1551.000000</td>\n",
       "      <td>4289.000000</td>\n",
       "    </tr>\n",
       "    <tr>\n",
       "      <th>50%</th>\n",
       "      <td>5853.000000</td>\n",
       "      <td>4315.000000</td>\n",
       "      <td>9696.000000</td>\n",
       "    </tr>\n",
       "    <tr>\n",
       "      <th>75%</th>\n",
       "      <td>13174.500000</td>\n",
       "      <td>10116.500000</td>\n",
       "      <td>23595.500000</td>\n",
       "    </tr>\n",
       "    <tr>\n",
       "      <th>max</th>\n",
       "      <td>64224.000000</td>\n",
       "      <td>40263.000000</td>\n",
       "      <td>101439.000000</td>\n",
       "    </tr>\n",
       "  </tbody>\n",
       "</table>\n",
       "</div>"
      ],
      "text/plain": [
       "         EarlyVotes     EDayVotes          Votes\n",
       "count    171.000000    171.000000     171.000000\n",
       "mean    9727.684211   7100.169591   16827.853801\n",
       "std    11115.007252   7678.221370   18634.408765\n",
       "min      349.000000    215.000000     564.000000\n",
       "25%     2566.500000   1551.000000    4289.000000\n",
       "50%     5853.000000   4315.000000    9696.000000\n",
       "75%    13174.500000  10116.500000   23595.500000\n",
       "max    64224.000000  40263.000000  101439.000000"
      ]
     },
     "execution_count": 107,
     "metadata": {},
     "output_type": "execute_result"
    }
   ],
   "source": [
    "vd.describe()"
   ]
  },
  {
   "cell_type": "markdown",
   "id": "238ed33e-b1b7-4ba1-8e57-053775bc0255",
   "metadata": {},
   "source": [
    "- Sort in decending order of votes"
   ]
  },
  {
   "cell_type": "code",
   "execution_count": 108,
   "id": "fc4164d1-e7f7-46e6-ab7d-a95db7ca4e26",
   "metadata": {},
   "outputs": [
    {
     "data": {
      "text/html": [
       "<div>\n",
       "<style scoped>\n",
       "    .dataframe tbody tr th:only-of-type {\n",
       "        vertical-align: middle;\n",
       "    }\n",
       "\n",
       "    .dataframe tbody tr th {\n",
       "        vertical-align: top;\n",
       "    }\n",
       "\n",
       "    .dataframe thead th {\n",
       "        text-align: right;\n",
       "    }\n",
       "</style>\n",
       "<table border=\"1\" class=\"dataframe\">\n",
       "  <thead>\n",
       "    <tr style=\"text-align: right;\">\n",
       "      <th></th>\n",
       "      <th>Party</th>\n",
       "      <th>District</th>\n",
       "      <th>EarlyVotes</th>\n",
       "      <th>EDayVotes</th>\n",
       "      <th>Votes</th>\n",
       "    </tr>\n",
       "  </thead>\n",
       "  <tbody>\n",
       "    <tr>\n",
       "      <th>39</th>\n",
       "      <td>H</td>\n",
       "      <td>Akershus</td>\n",
       "      <td>64224</td>\n",
       "      <td>37215</td>\n",
       "      <td>101439</td>\n",
       "    </tr>\n",
       "    <tr>\n",
       "      <th>1</th>\n",
       "      <td>A</td>\n",
       "      <td>Akershus</td>\n",
       "      <td>55346</td>\n",
       "      <td>40263</td>\n",
       "      <td>95609</td>\n",
       "    </tr>\n",
       "    <tr>\n",
       "      <th>40</th>\n",
       "      <td>H</td>\n",
       "      <td>Oslo</td>\n",
       "      <td>55643</td>\n",
       "      <td>33699</td>\n",
       "      <td>89342</td>\n",
       "    </tr>\n",
       "    <tr>\n",
       "      <th>2</th>\n",
       "      <td>A</td>\n",
       "      <td>Oslo</td>\n",
       "      <td>50857</td>\n",
       "      <td>36301</td>\n",
       "      <td>87158</td>\n",
       "    </tr>\n",
       "    <tr>\n",
       "      <th>49</th>\n",
       "      <td>H</td>\n",
       "      <td>Hordaland</td>\n",
       "      <td>45860</td>\n",
       "      <td>28422</td>\n",
       "      <td>74282</td>\n",
       "    </tr>\n",
       "  </tbody>\n",
       "</table>\n",
       "</div>"
      ],
      "text/plain": [
       "   Party   District  EarlyVotes  EDayVotes   Votes\n",
       "39     H   Akershus       64224      37215  101439\n",
       "1      A   Akershus       55346      40263   95609\n",
       "40     H       Oslo       55643      33699   89342\n",
       "2      A       Oslo       50857      36301   87158\n",
       "49     H  Hordaland       45860      28422   74282"
      ]
     },
     "execution_count": 108,
     "metadata": {},
     "output_type": "execute_result"
    }
   ],
   "source": [
    "vd.sort_values(by='Votes', ascending=False).head()"
   ]
  },
  {
   "cell_type": "markdown",
   "id": "cb99cddc-9698-4a82-a323-f2fb3dbbb200",
   "metadata": {},
   "source": [
    "#### Hierarchical indexing\n",
    "\n",
    "- We can create an index with several components\n",
    "- Entries are then grouped\n",
    "- We also sort by district"
   ]
  },
  {
   "cell_type": "code",
   "execution_count": 109,
   "id": "dbc8ba94-14ac-403f-bb4e-55b3847f18b6",
   "metadata": {},
   "outputs": [
    {
     "data": {
      "text/html": [
       "<div>\n",
       "<style scoped>\n",
       "    .dataframe tbody tr th:only-of-type {\n",
       "        vertical-align: middle;\n",
       "    }\n",
       "\n",
       "    .dataframe tbody tr th {\n",
       "        vertical-align: top;\n",
       "    }\n",
       "\n",
       "    .dataframe thead th {\n",
       "        text-align: right;\n",
       "    }\n",
       "</style>\n",
       "<table border=\"1\" class=\"dataframe\">\n",
       "  <thead>\n",
       "    <tr style=\"text-align: right;\">\n",
       "      <th></th>\n",
       "      <th></th>\n",
       "      <th>EarlyVotes</th>\n",
       "      <th>EDayVotes</th>\n",
       "      <th>Votes</th>\n",
       "    </tr>\n",
       "    <tr>\n",
       "      <th>District</th>\n",
       "      <th>Party</th>\n",
       "      <th></th>\n",
       "      <th></th>\n",
       "      <th></th>\n",
       "    </tr>\n",
       "  </thead>\n",
       "  <tbody>\n",
       "    <tr>\n",
       "      <th rowspan=\"9\" valign=\"top\">Akershus</th>\n",
       "      <th>A</th>\n",
       "      <td>55346</td>\n",
       "      <td>40263</td>\n",
       "      <td>95609</td>\n",
       "    </tr>\n",
       "    <tr>\n",
       "      <th>FRP</th>\n",
       "      <td>21035</td>\n",
       "      <td>17744</td>\n",
       "      <td>38779</td>\n",
       "    </tr>\n",
       "    <tr>\n",
       "      <th>H</th>\n",
       "      <td>64224</td>\n",
       "      <td>37215</td>\n",
       "      <td>101439</td>\n",
       "    </tr>\n",
       "    <tr>\n",
       "      <th>KRF</th>\n",
       "      <td>4388</td>\n",
       "      <td>3192</td>\n",
       "      <td>7580</td>\n",
       "    </tr>\n",
       "    <tr>\n",
       "      <th>MDG</th>\n",
       "      <td>12362</td>\n",
       "      <td>5099</td>\n",
       "      <td>17461</td>\n",
       "    </tr>\n",
       "    <tr>\n",
       "      <th>RØDT</th>\n",
       "      <td>9124</td>\n",
       "      <td>5448</td>\n",
       "      <td>14572</td>\n",
       "    </tr>\n",
       "    <tr>\n",
       "      <th>SP</th>\n",
       "      <td>17296</td>\n",
       "      <td>15288</td>\n",
       "      <td>32584</td>\n",
       "    </tr>\n",
       "    <tr>\n",
       "      <th>SV</th>\n",
       "      <td>15889</td>\n",
       "      <td>9351</td>\n",
       "      <td>25240</td>\n",
       "    </tr>\n",
       "    <tr>\n",
       "      <th>V</th>\n",
       "      <td>15224</td>\n",
       "      <td>10169</td>\n",
       "      <td>25393</td>\n",
       "    </tr>\n",
       "    <tr>\n",
       "      <th rowspan=\"9\" valign=\"top\">Aust-Agder</th>\n",
       "      <th>A</th>\n",
       "      <td>8454</td>\n",
       "      <td>7693</td>\n",
       "      <td>16147</td>\n",
       "    </tr>\n",
       "    <tr>\n",
       "      <th>FRP</th>\n",
       "      <td>3845</td>\n",
       "      <td>4883</td>\n",
       "      <td>8728</td>\n",
       "    </tr>\n",
       "    <tr>\n",
       "      <th>H</th>\n",
       "      <td>7331</td>\n",
       "      <td>5974</td>\n",
       "      <td>13305</td>\n",
       "    </tr>\n",
       "    <tr>\n",
       "      <th>KRF</th>\n",
       "      <td>3073</td>\n",
       "      <td>2676</td>\n",
       "      <td>5749</td>\n",
       "    </tr>\n",
       "    <tr>\n",
       "      <th>MDG</th>\n",
       "      <td>1333</td>\n",
       "      <td>643</td>\n",
       "      <td>1976</td>\n",
       "    </tr>\n",
       "    <tr>\n",
       "      <th>RØDT</th>\n",
       "      <td>1498</td>\n",
       "      <td>958</td>\n",
       "      <td>2456</td>\n",
       "    </tr>\n",
       "    <tr>\n",
       "      <th>SP</th>\n",
       "      <td>4107</td>\n",
       "      <td>4800</td>\n",
       "      <td>8907</td>\n",
       "    </tr>\n",
       "    <tr>\n",
       "      <th>SV</th>\n",
       "      <td>2248</td>\n",
       "      <td>1396</td>\n",
       "      <td>3644</td>\n",
       "    </tr>\n",
       "    <tr>\n",
       "      <th>V</th>\n",
       "      <td>1178</td>\n",
       "      <td>958</td>\n",
       "      <td>2136</td>\n",
       "    </tr>\n",
       "    <tr>\n",
       "      <th rowspan=\"9\" valign=\"top\">Buskerud</th>\n",
       "      <th>A</th>\n",
       "      <td>25258</td>\n",
       "      <td>15317</td>\n",
       "      <td>40575</td>\n",
       "    </tr>\n",
       "    <tr>\n",
       "      <th>FRP</th>\n",
       "      <td>9651</td>\n",
       "      <td>7858</td>\n",
       "      <td>17509</td>\n",
       "    </tr>\n",
       "    <tr>\n",
       "      <th>H</th>\n",
       "      <td>19806</td>\n",
       "      <td>11738</td>\n",
       "      <td>31544</td>\n",
       "    </tr>\n",
       "    <tr>\n",
       "      <th>KRF</th>\n",
       "      <td>2008</td>\n",
       "      <td>1311</td>\n",
       "      <td>3319</td>\n",
       "    </tr>\n",
       "    <tr>\n",
       "      <th>MDG</th>\n",
       "      <td>3065</td>\n",
       "      <td>1186</td>\n",
       "      <td>4251</td>\n",
       "    </tr>\n",
       "    <tr>\n",
       "      <th>RØDT</th>\n",
       "      <td>3373</td>\n",
       "      <td>1568</td>\n",
       "      <td>4941</td>\n",
       "    </tr>\n",
       "    <tr>\n",
       "      <th>SP</th>\n",
       "      <td>12690</td>\n",
       "      <td>10378</td>\n",
       "      <td>23068</td>\n",
       "    </tr>\n",
       "    <tr>\n",
       "      <th>SV</th>\n",
       "      <td>5469</td>\n",
       "      <td>2593</td>\n",
       "      <td>8062</td>\n",
       "    </tr>\n",
       "    <tr>\n",
       "      <th>V</th>\n",
       "      <td>3149</td>\n",
       "      <td>2058</td>\n",
       "      <td>5207</td>\n",
       "    </tr>\n",
       "    <tr>\n",
       "      <th rowspan=\"9\" valign=\"top\">Finnmark Finnmárku</th>\n",
       "      <th>A</th>\n",
       "      <td>7253</td>\n",
       "      <td>4975</td>\n",
       "      <td>12228</td>\n",
       "    </tr>\n",
       "    <tr>\n",
       "      <th>FRP</th>\n",
       "      <td>2289</td>\n",
       "      <td>1931</td>\n",
       "      <td>4220</td>\n",
       "    </tr>\n",
       "    <tr>\n",
       "      <th>H</th>\n",
       "      <td>1644</td>\n",
       "      <td>1020</td>\n",
       "      <td>2664</td>\n",
       "    </tr>\n",
       "    <tr>\n",
       "      <th>KRF</th>\n",
       "      <td>377</td>\n",
       "      <td>271</td>\n",
       "      <td>648</td>\n",
       "    </tr>\n",
       "    <tr>\n",
       "      <th>MDG</th>\n",
       "      <td>665</td>\n",
       "      <td>227</td>\n",
       "      <td>892</td>\n",
       "    </tr>\n",
       "    <tr>\n",
       "      <th>RØDT</th>\n",
       "      <td>1297</td>\n",
       "      <td>662</td>\n",
       "      <td>1959</td>\n",
       "    </tr>\n",
       "    <tr>\n",
       "      <th>SP</th>\n",
       "      <td>4033</td>\n",
       "      <td>3124</td>\n",
       "      <td>7157</td>\n",
       "    </tr>\n",
       "    <tr>\n",
       "      <th>SV</th>\n",
       "      <td>1541</td>\n",
       "      <td>874</td>\n",
       "      <td>2415</td>\n",
       "    </tr>\n",
       "    <tr>\n",
       "      <th>V</th>\n",
       "      <td>349</td>\n",
       "      <td>215</td>\n",
       "      <td>564</td>\n",
       "    </tr>\n",
       "    <tr>\n",
       "      <th rowspan=\"4\" valign=\"top\">Hedmark</th>\n",
       "      <th>A</th>\n",
       "      <td>20746</td>\n",
       "      <td>17390</td>\n",
       "      <td>38136</td>\n",
       "    </tr>\n",
       "    <tr>\n",
       "      <th>FRP</th>\n",
       "      <td>4393</td>\n",
       "      <td>5303</td>\n",
       "      <td>9696</td>\n",
       "    </tr>\n",
       "    <tr>\n",
       "      <th>H</th>\n",
       "      <td>6657</td>\n",
       "      <td>5534</td>\n",
       "      <td>12191</td>\n",
       "    </tr>\n",
       "    <tr>\n",
       "      <th>KRF</th>\n",
       "      <td>966</td>\n",
       "      <td>910</td>\n",
       "      <td>1876</td>\n",
       "    </tr>\n",
       "  </tbody>\n",
       "</table>\n",
       "</div>"
      ],
      "text/plain": [
       "                          EarlyVotes  EDayVotes   Votes\n",
       "District           Party                               \n",
       "Akershus           A           55346      40263   95609\n",
       "                   FRP         21035      17744   38779\n",
       "                   H           64224      37215  101439\n",
       "                   KRF          4388       3192    7580\n",
       "                   MDG         12362       5099   17461\n",
       "                   RØDT         9124       5448   14572\n",
       "                   SP          17296      15288   32584\n",
       "                   SV          15889       9351   25240\n",
       "                   V           15224      10169   25393\n",
       "Aust-Agder         A            8454       7693   16147\n",
       "                   FRP          3845       4883    8728\n",
       "                   H            7331       5974   13305\n",
       "                   KRF          3073       2676    5749\n",
       "                   MDG          1333        643    1976\n",
       "                   RØDT         1498        958    2456\n",
       "                   SP           4107       4800    8907\n",
       "                   SV           2248       1396    3644\n",
       "                   V            1178        958    2136\n",
       "Buskerud           A           25258      15317   40575\n",
       "                   FRP          9651       7858   17509\n",
       "                   H           19806      11738   31544\n",
       "                   KRF          2008       1311    3319\n",
       "                   MDG          3065       1186    4251\n",
       "                   RØDT         3373       1568    4941\n",
       "                   SP          12690      10378   23068\n",
       "                   SV           5469       2593    8062\n",
       "                   V            3149       2058    5207\n",
       "Finnmark Finnmárku A            7253       4975   12228\n",
       "                   FRP          2289       1931    4220\n",
       "                   H            1644       1020    2664\n",
       "                   KRF           377        271     648\n",
       "                   MDG           665        227     892\n",
       "                   RØDT         1297        662    1959\n",
       "                   SP           4033       3124    7157\n",
       "                   SV           1541        874    2415\n",
       "                   V             349        215     564\n",
       "Hedmark            A           20746      17390   38136\n",
       "                   FRP          4393       5303    9696\n",
       "                   H            6657       5534   12191\n",
       "                   KRF           966        910    1876"
      ]
     },
     "execution_count": 109,
     "metadata": {},
     "output_type": "execute_result"
    }
   ],
   "source": [
    "vd_dp = vd.set_index(['District', 'Party']).sort_index(level=0)\n",
    "vd_dp.head(40)"
   ]
  },
  {
   "cell_type": "markdown",
   "id": "1d423733-7b91-41c6-adcc-e93543de588c",
   "metadata": {},
   "source": [
    "- Look up one district"
   ]
  },
  {
   "cell_type": "code",
   "execution_count": 110,
   "id": "79cc3f6a-52f5-420f-866e-737cf009bb24",
   "metadata": {},
   "outputs": [
    {
     "data": {
      "text/html": [
       "<div>\n",
       "<style scoped>\n",
       "    .dataframe tbody tr th:only-of-type {\n",
       "        vertical-align: middle;\n",
       "    }\n",
       "\n",
       "    .dataframe tbody tr th {\n",
       "        vertical-align: top;\n",
       "    }\n",
       "\n",
       "    .dataframe thead th {\n",
       "        text-align: right;\n",
       "    }\n",
       "</style>\n",
       "<table border=\"1\" class=\"dataframe\">\n",
       "  <thead>\n",
       "    <tr style=\"text-align: right;\">\n",
       "      <th></th>\n",
       "      <th>EarlyVotes</th>\n",
       "      <th>EDayVotes</th>\n",
       "      <th>Votes</th>\n",
       "    </tr>\n",
       "    <tr>\n",
       "      <th>Party</th>\n",
       "      <th></th>\n",
       "      <th></th>\n",
       "      <th></th>\n",
       "    </tr>\n",
       "  </thead>\n",
       "  <tbody>\n",
       "    <tr>\n",
       "      <th>A</th>\n",
       "      <td>33085</td>\n",
       "      <td>24884</td>\n",
       "      <td>57969</td>\n",
       "    </tr>\n",
       "    <tr>\n",
       "      <th>FRP</th>\n",
       "      <td>23656</td>\n",
       "      <td>19726</td>\n",
       "      <td>43382</td>\n",
       "    </tr>\n",
       "    <tr>\n",
       "      <th>H</th>\n",
       "      <td>37182</td>\n",
       "      <td>24810</td>\n",
       "      <td>61992</td>\n",
       "    </tr>\n",
       "    <tr>\n",
       "      <th>KRF</th>\n",
       "      <td>11890</td>\n",
       "      <td>8969</td>\n",
       "      <td>20859</td>\n",
       "    </tr>\n",
       "    <tr>\n",
       "      <th>MDG</th>\n",
       "      <td>4297</td>\n",
       "      <td>1855</td>\n",
       "      <td>6152</td>\n",
       "    </tr>\n",
       "    <tr>\n",
       "      <th>RØDT</th>\n",
       "      <td>6036</td>\n",
       "      <td>3584</td>\n",
       "      <td>9620</td>\n",
       "    </tr>\n",
       "    <tr>\n",
       "      <th>SP</th>\n",
       "      <td>13879</td>\n",
       "      <td>13076</td>\n",
       "      <td>26955</td>\n",
       "    </tr>\n",
       "    <tr>\n",
       "      <th>SV</th>\n",
       "      <td>8466</td>\n",
       "      <td>4795</td>\n",
       "      <td>13261</td>\n",
       "    </tr>\n",
       "    <tr>\n",
       "      <th>V</th>\n",
       "      <td>5254</td>\n",
       "      <td>3852</td>\n",
       "      <td>9106</td>\n",
       "    </tr>\n",
       "  </tbody>\n",
       "</table>\n",
       "</div>"
      ],
      "text/plain": [
       "       EarlyVotes  EDayVotes  Votes\n",
       "Party                              \n",
       "A           33085      24884  57969\n",
       "FRP         23656      19726  43382\n",
       "H           37182      24810  61992\n",
       "KRF         11890       8969  20859\n",
       "MDG          4297       1855   6152\n",
       "RØDT         6036       3584   9620\n",
       "SP          13879      13076  26955\n",
       "SV           8466       4795  13261\n",
       "V            5254       3852   9106"
      ]
     },
     "execution_count": 110,
     "metadata": {},
     "output_type": "execute_result"
    }
   ],
   "source": [
    "vd_dp.loc['Rogaland']"
   ]
  },
  {
   "cell_type": "markdown",
   "id": "ad3b85ea-20c6-4ef3-baa1-e441732b929a",
   "metadata": {},
   "source": [
    "- Look up the result of a specify party in a specific district with hierarchical index\n",
    "    - Argument *must* be *tuple*, not list"
   ]
  },
  {
   "cell_type": "code",
   "execution_count": 111,
   "id": "396ae2cf-9e22-49f4-8030-212fa6e20045",
   "metadata": {},
   "outputs": [
    {
     "data": {
      "text/plain": [
       "EarlyVotes    12362\n",
       "EDayVotes      5099\n",
       "Votes         17461\n",
       "Name: (Akershus, MDG), dtype: int64"
      ]
     },
     "execution_count": 111,
     "metadata": {},
     "output_type": "execute_result"
    }
   ],
   "source": [
    "vd_dp.loc[('Akershus', 'MDG')]"
   ]
  },
  {
   "cell_type": "markdown",
   "id": "1cd9ad21-d55b-44c9-bbe1-42167681d54a",
   "metadata": {},
   "source": [
    "#### Multiple levels of columns\n",
    "\n",
    "- We would like to plot the distribution of votes to parties by district\n",
    "- For this, we need a table with\n",
    "    - one row per district\n",
    "    - one column per party\n",
    "- `unstack()` turns the \"inner\" index level to a new column level"
   ]
  },
  {
   "cell_type": "code",
   "execution_count": 112,
   "id": "a4703c91-0d7e-4a72-b8f9-f1aede221582",
   "metadata": {},
   "outputs": [
    {
     "data": {
      "text/html": [
       "<div>\n",
       "<style scoped>\n",
       "    .dataframe tbody tr th:only-of-type {\n",
       "        vertical-align: middle;\n",
       "    }\n",
       "\n",
       "    .dataframe tbody tr th {\n",
       "        vertical-align: top;\n",
       "    }\n",
       "\n",
       "    .dataframe thead tr th {\n",
       "        text-align: left;\n",
       "    }\n",
       "\n",
       "    .dataframe thead tr:last-of-type th {\n",
       "        text-align: right;\n",
       "    }\n",
       "</style>\n",
       "<table border=\"1\" class=\"dataframe\">\n",
       "  <thead>\n",
       "    <tr>\n",
       "      <th></th>\n",
       "      <th colspan=\"9\" halign=\"left\">EarlyVotes</th>\n",
       "      <th colspan=\"3\" halign=\"left\">EDayVotes</th>\n",
       "      <th colspan=\"9\" halign=\"left\">Votes</th>\n",
       "    </tr>\n",
       "    <tr>\n",
       "      <th>Party</th>\n",
       "      <th>A</th>\n",
       "      <th>FRP</th>\n",
       "      <th>H</th>\n",
       "      <th>KRF</th>\n",
       "      <th>MDG</th>\n",
       "      <th>RØDT</th>\n",
       "      <th>SP</th>\n",
       "      <th>SV</th>\n",
       "      <th>V</th>\n",
       "      <th>A</th>\n",
       "      <th>...</th>\n",
       "      <th>V</th>\n",
       "      <th>A</th>\n",
       "      <th>FRP</th>\n",
       "      <th>H</th>\n",
       "      <th>KRF</th>\n",
       "      <th>MDG</th>\n",
       "      <th>RØDT</th>\n",
       "      <th>SP</th>\n",
       "      <th>SV</th>\n",
       "      <th>V</th>\n",
       "    </tr>\n",
       "    <tr>\n",
       "      <th>District</th>\n",
       "      <th></th>\n",
       "      <th></th>\n",
       "      <th></th>\n",
       "      <th></th>\n",
       "      <th></th>\n",
       "      <th></th>\n",
       "      <th></th>\n",
       "      <th></th>\n",
       "      <th></th>\n",
       "      <th></th>\n",
       "      <th></th>\n",
       "      <th></th>\n",
       "      <th></th>\n",
       "      <th></th>\n",
       "      <th></th>\n",
       "      <th></th>\n",
       "      <th></th>\n",
       "      <th></th>\n",
       "      <th></th>\n",
       "      <th></th>\n",
       "      <th></th>\n",
       "    </tr>\n",
       "  </thead>\n",
       "  <tbody>\n",
       "    <tr>\n",
       "      <th>Akershus</th>\n",
       "      <td>55346</td>\n",
       "      <td>21035</td>\n",
       "      <td>64224</td>\n",
       "      <td>4388</td>\n",
       "      <td>12362</td>\n",
       "      <td>9124</td>\n",
       "      <td>17296</td>\n",
       "      <td>15889</td>\n",
       "      <td>15224</td>\n",
       "      <td>40263</td>\n",
       "      <td>...</td>\n",
       "      <td>10169</td>\n",
       "      <td>95609</td>\n",
       "      <td>38779</td>\n",
       "      <td>101439</td>\n",
       "      <td>7580</td>\n",
       "      <td>17461</td>\n",
       "      <td>14572</td>\n",
       "      <td>32584</td>\n",
       "      <td>25240</td>\n",
       "      <td>25393</td>\n",
       "    </tr>\n",
       "    <tr>\n",
       "      <th>Aust-Agder</th>\n",
       "      <td>8454</td>\n",
       "      <td>3845</td>\n",
       "      <td>7331</td>\n",
       "      <td>3073</td>\n",
       "      <td>1333</td>\n",
       "      <td>1498</td>\n",
       "      <td>4107</td>\n",
       "      <td>2248</td>\n",
       "      <td>1178</td>\n",
       "      <td>7693</td>\n",
       "      <td>...</td>\n",
       "      <td>958</td>\n",
       "      <td>16147</td>\n",
       "      <td>8728</td>\n",
       "      <td>13305</td>\n",
       "      <td>5749</td>\n",
       "      <td>1976</td>\n",
       "      <td>2456</td>\n",
       "      <td>8907</td>\n",
       "      <td>3644</td>\n",
       "      <td>2136</td>\n",
       "    </tr>\n",
       "    <tr>\n",
       "      <th>Buskerud</th>\n",
       "      <td>25258</td>\n",
       "      <td>9651</td>\n",
       "      <td>19806</td>\n",
       "      <td>2008</td>\n",
       "      <td>3065</td>\n",
       "      <td>3373</td>\n",
       "      <td>12690</td>\n",
       "      <td>5469</td>\n",
       "      <td>3149</td>\n",
       "      <td>15317</td>\n",
       "      <td>...</td>\n",
       "      <td>2058</td>\n",
       "      <td>40575</td>\n",
       "      <td>17509</td>\n",
       "      <td>31544</td>\n",
       "      <td>3319</td>\n",
       "      <td>4251</td>\n",
       "      <td>4941</td>\n",
       "      <td>23068</td>\n",
       "      <td>8062</td>\n",
       "      <td>5207</td>\n",
       "    </tr>\n",
       "    <tr>\n",
       "      <th>Finnmark Finnmárku</th>\n",
       "      <td>7253</td>\n",
       "      <td>2289</td>\n",
       "      <td>1644</td>\n",
       "      <td>377</td>\n",
       "      <td>665</td>\n",
       "      <td>1297</td>\n",
       "      <td>4033</td>\n",
       "      <td>1541</td>\n",
       "      <td>349</td>\n",
       "      <td>4975</td>\n",
       "      <td>...</td>\n",
       "      <td>215</td>\n",
       "      <td>12228</td>\n",
       "      <td>4220</td>\n",
       "      <td>2664</td>\n",
       "      <td>648</td>\n",
       "      <td>892</td>\n",
       "      <td>1959</td>\n",
       "      <td>7157</td>\n",
       "      <td>2415</td>\n",
       "      <td>564</td>\n",
       "    </tr>\n",
       "    <tr>\n",
       "      <th>Hedmark</th>\n",
       "      <td>20746</td>\n",
       "      <td>4393</td>\n",
       "      <td>6657</td>\n",
       "      <td>966</td>\n",
       "      <td>1652</td>\n",
       "      <td>2342</td>\n",
       "      <td>15307</td>\n",
       "      <td>4686</td>\n",
       "      <td>1437</td>\n",
       "      <td>17390</td>\n",
       "      <td>...</td>\n",
       "      <td>1205</td>\n",
       "      <td>38136</td>\n",
       "      <td>9696</td>\n",
       "      <td>12191</td>\n",
       "      <td>1876</td>\n",
       "      <td>2382</td>\n",
       "      <td>3876</td>\n",
       "      <td>32286</td>\n",
       "      <td>7902</td>\n",
       "      <td>2642</td>\n",
       "    </tr>\n",
       "  </tbody>\n",
       "</table>\n",
       "<p>5 rows × 27 columns</p>\n",
       "</div>"
      ],
      "text/plain": [
       "                   EarlyVotes                                                 \\\n",
       "Party                       A    FRP      H   KRF    MDG  RØDT     SP     SV   \n",
       "District                                                                       \n",
       "Akershus                55346  21035  64224  4388  12362  9124  17296  15889   \n",
       "Aust-Agder               8454   3845   7331  3073   1333  1498   4107   2248   \n",
       "Buskerud                25258   9651  19806  2008   3065  3373  12690   5469   \n",
       "Finnmark Finnmárku       7253   2289   1644   377    665  1297   4033   1541   \n",
       "Hedmark                 20746   4393   6657   966   1652  2342  15307   4686   \n",
       "\n",
       "                          EDayVotes  ...         Votes                       \\\n",
       "Party                   V         A  ...      V      A    FRP       H   KRF   \n",
       "District                             ...                                      \n",
       "Akershus            15224     40263  ...  10169  95609  38779  101439  7580   \n",
       "Aust-Agder           1178      7693  ...    958  16147   8728   13305  5749   \n",
       "Buskerud             3149     15317  ...   2058  40575  17509   31544  3319   \n",
       "Finnmark Finnmárku    349      4975  ...    215  12228   4220    2664   648   \n",
       "Hedmark              1437     17390  ...   1205  38136   9696   12191  1876   \n",
       "\n",
       "                                                       \n",
       "Party                 MDG   RØDT     SP     SV      V  \n",
       "District                                               \n",
       "Akershus            17461  14572  32584  25240  25393  \n",
       "Aust-Agder           1976   2456   8907   3644   2136  \n",
       "Buskerud             4251   4941  23068   8062   5207  \n",
       "Finnmark Finnmárku    892   1959   7157   2415    564  \n",
       "Hedmark              2382   3876  32286   7902   2642  \n",
       "\n",
       "[5 rows x 27 columns]"
      ]
     },
     "execution_count": 112,
     "metadata": {},
     "output_type": "execute_result"
    }
   ],
   "source": [
    "vd_dp_us = vd_dp.unstack()\n",
    "vd_dp_us.head()"
   ]
  },
  {
   "cell_type": "markdown",
   "id": "1ee8a3e2-1ada-4a67-b1cb-f2c4bdd8a0fa",
   "metadata": {},
   "source": [
    "- This gives us a table with the number of votes for each party in each district"
   ]
  },
  {
   "cell_type": "code",
   "execution_count": 113,
   "id": "6d773f96-3ca0-45bf-913c-903511aded3f",
   "metadata": {},
   "outputs": [
    {
     "data": {
      "text/html": [
       "<div>\n",
       "<style scoped>\n",
       "    .dataframe tbody tr th:only-of-type {\n",
       "        vertical-align: middle;\n",
       "    }\n",
       "\n",
       "    .dataframe tbody tr th {\n",
       "        vertical-align: top;\n",
       "    }\n",
       "\n",
       "    .dataframe thead th {\n",
       "        text-align: right;\n",
       "    }\n",
       "</style>\n",
       "<table border=\"1\" class=\"dataframe\">\n",
       "  <thead>\n",
       "    <tr style=\"text-align: right;\">\n",
       "      <th>Party</th>\n",
       "      <th>A</th>\n",
       "      <th>FRP</th>\n",
       "      <th>H</th>\n",
       "      <th>KRF</th>\n",
       "      <th>MDG</th>\n",
       "      <th>RØDT</th>\n",
       "      <th>SP</th>\n",
       "      <th>SV</th>\n",
       "      <th>V</th>\n",
       "    </tr>\n",
       "    <tr>\n",
       "      <th>District</th>\n",
       "      <th></th>\n",
       "      <th></th>\n",
       "      <th></th>\n",
       "      <th></th>\n",
       "      <th></th>\n",
       "      <th></th>\n",
       "      <th></th>\n",
       "      <th></th>\n",
       "      <th></th>\n",
       "    </tr>\n",
       "  </thead>\n",
       "  <tbody>\n",
       "    <tr>\n",
       "      <th>Akershus</th>\n",
       "      <td>95609</td>\n",
       "      <td>38779</td>\n",
       "      <td>101439</td>\n",
       "      <td>7580</td>\n",
       "      <td>17461</td>\n",
       "      <td>14572</td>\n",
       "      <td>32584</td>\n",
       "      <td>25240</td>\n",
       "      <td>25393</td>\n",
       "    </tr>\n",
       "    <tr>\n",
       "      <th>Aust-Agder</th>\n",
       "      <td>16147</td>\n",
       "      <td>8728</td>\n",
       "      <td>13305</td>\n",
       "      <td>5749</td>\n",
       "      <td>1976</td>\n",
       "      <td>2456</td>\n",
       "      <td>8907</td>\n",
       "      <td>3644</td>\n",
       "      <td>2136</td>\n",
       "    </tr>\n",
       "    <tr>\n",
       "      <th>Buskerud</th>\n",
       "      <td>40575</td>\n",
       "      <td>17509</td>\n",
       "      <td>31544</td>\n",
       "      <td>3319</td>\n",
       "      <td>4251</td>\n",
       "      <td>4941</td>\n",
       "      <td>23068</td>\n",
       "      <td>8062</td>\n",
       "      <td>5207</td>\n",
       "    </tr>\n",
       "    <tr>\n",
       "      <th>Finnmark Finnmárku</th>\n",
       "      <td>12228</td>\n",
       "      <td>4220</td>\n",
       "      <td>2664</td>\n",
       "      <td>648</td>\n",
       "      <td>892</td>\n",
       "      <td>1959</td>\n",
       "      <td>7157</td>\n",
       "      <td>2415</td>\n",
       "      <td>564</td>\n",
       "    </tr>\n",
       "    <tr>\n",
       "      <th>Hedmark</th>\n",
       "      <td>38136</td>\n",
       "      <td>9696</td>\n",
       "      <td>12191</td>\n",
       "      <td>1876</td>\n",
       "      <td>2382</td>\n",
       "      <td>3876</td>\n",
       "      <td>32286</td>\n",
       "      <td>7902</td>\n",
       "      <td>2642</td>\n",
       "    </tr>\n",
       "    <tr>\n",
       "      <th>Hordaland</th>\n",
       "      <td>68945</td>\n",
       "      <td>38352</td>\n",
       "      <td>74282</td>\n",
       "      <td>14724</td>\n",
       "      <td>11940</td>\n",
       "      <td>14150</td>\n",
       "      <td>29981</td>\n",
       "      <td>26901</td>\n",
       "      <td>13163</td>\n",
       "    </tr>\n",
       "    <tr>\n",
       "      <th>Møre og Romsdal</th>\n",
       "      <td>29928</td>\n",
       "      <td>32746</td>\n",
       "      <td>24123</td>\n",
       "      <td>7905</td>\n",
       "      <td>3697</td>\n",
       "      <td>4933</td>\n",
       "      <td>25938</td>\n",
       "      <td>9341</td>\n",
       "      <td>4364</td>\n",
       "    </tr>\n",
       "    <tr>\n",
       "      <th>Nord-Trøndelag</th>\n",
       "      <td>25730</td>\n",
       "      <td>6146</td>\n",
       "      <td>8121</td>\n",
       "      <td>1726</td>\n",
       "      <td>1424</td>\n",
       "      <td>3035</td>\n",
       "      <td>22089</td>\n",
       "      <td>4389</td>\n",
       "      <td>1557</td>\n",
       "    </tr>\n",
       "    <tr>\n",
       "      <th>Nordland</th>\n",
       "      <td>38611</td>\n",
       "      <td>16338</td>\n",
       "      <td>20532</td>\n",
       "      <td>2637</td>\n",
       "      <td>3138</td>\n",
       "      <td>7273</td>\n",
       "      <td>28465</td>\n",
       "      <td>9620</td>\n",
       "      <td>3342</td>\n",
       "    </tr>\n",
       "    <tr>\n",
       "      <th>Oppland</th>\n",
       "      <td>34552</td>\n",
       "      <td>8459</td>\n",
       "      <td>12323</td>\n",
       "      <td>1537</td>\n",
       "      <td>2289</td>\n",
       "      <td>3534</td>\n",
       "      <td>25619</td>\n",
       "      <td>5508</td>\n",
       "      <td>2370</td>\n",
       "    </tr>\n",
       "    <tr>\n",
       "      <th>Oslo</th>\n",
       "      <td>87158</td>\n",
       "      <td>22784</td>\n",
       "      <td>89342</td>\n",
       "      <td>6922</td>\n",
       "      <td>32198</td>\n",
       "      <td>31352</td>\n",
       "      <td>11953</td>\n",
       "      <td>50382</td>\n",
       "      <td>38142</td>\n",
       "    </tr>\n",
       "    <tr>\n",
       "      <th>Rogaland</th>\n",
       "      <td>57969</td>\n",
       "      <td>43382</td>\n",
       "      <td>61992</td>\n",
       "      <td>20859</td>\n",
       "      <td>6152</td>\n",
       "      <td>9620</td>\n",
       "      <td>26955</td>\n",
       "      <td>13261</td>\n",
       "      <td>9106</td>\n",
       "    </tr>\n",
       "    <tr>\n",
       "      <th>Sogn og Fjordane</th>\n",
       "      <td>16426</td>\n",
       "      <td>5771</td>\n",
       "      <td>8529</td>\n",
       "      <td>2389</td>\n",
       "      <td>1542</td>\n",
       "      <td>2489</td>\n",
       "      <td>17634</td>\n",
       "      <td>3675</td>\n",
       "      <td>2135</td>\n",
       "    </tr>\n",
       "    <tr>\n",
       "      <th>Sør-Trøndelag</th>\n",
       "      <td>57621</td>\n",
       "      <td>16650</td>\n",
       "      <td>31837</td>\n",
       "      <td>4211</td>\n",
       "      <td>9268</td>\n",
       "      <td>10852</td>\n",
       "      <td>29181</td>\n",
       "      <td>17635</td>\n",
       "      <td>8435</td>\n",
       "    </tr>\n",
       "    <tr>\n",
       "      <th>Telemark</th>\n",
       "      <td>29883</td>\n",
       "      <td>12297</td>\n",
       "      <td>15198</td>\n",
       "      <td>4327</td>\n",
       "      <td>2729</td>\n",
       "      <td>4506</td>\n",
       "      <td>15963</td>\n",
       "      <td>5934</td>\n",
       "      <td>2203</td>\n",
       "    </tr>\n",
       "    <tr>\n",
       "      <th>Troms Romsa</th>\n",
       "      <td>25168</td>\n",
       "      <td>12998</td>\n",
       "      <td>12493</td>\n",
       "      <td>2062</td>\n",
       "      <td>2768</td>\n",
       "      <td>4455</td>\n",
       "      <td>17698</td>\n",
       "      <td>10029</td>\n",
       "      <td>2298</td>\n",
       "    </tr>\n",
       "    <tr>\n",
       "      <th>Vest-Agder</th>\n",
       "      <td>21845</td>\n",
       "      <td>13821</td>\n",
       "      <td>22359</td>\n",
       "      <td>14598</td>\n",
       "      <td>3330</td>\n",
       "      <td>3355</td>\n",
       "      <td>10859</td>\n",
       "      <td>5615</td>\n",
       "      <td>3834</td>\n",
       "    </tr>\n",
       "    <tr>\n",
       "      <th>Vestfold</th>\n",
       "      <td>37518</td>\n",
       "      <td>17271</td>\n",
       "      <td>34831</td>\n",
       "      <td>4861</td>\n",
       "      <td>5428</td>\n",
       "      <td>6155</td>\n",
       "      <td>13775</td>\n",
       "      <td>8670</td>\n",
       "      <td>5771</td>\n",
       "    </tr>\n",
       "    <tr>\n",
       "      <th>Østfold</th>\n",
       "      <td>49345</td>\n",
       "      <td>20527</td>\n",
       "      <td>30211</td>\n",
       "      <td>5414</td>\n",
       "      <td>4782</td>\n",
       "      <td>7418</td>\n",
       "      <td>22849</td>\n",
       "      <td>9840</td>\n",
       "      <td>4771</td>\n",
       "    </tr>\n",
       "  </tbody>\n",
       "</table>\n",
       "</div>"
      ],
      "text/plain": [
       "Party                   A    FRP       H    KRF    MDG   RØDT     SP     SV  \\\n",
       "District                                                                      \n",
       "Akershus            95609  38779  101439   7580  17461  14572  32584  25240   \n",
       "Aust-Agder          16147   8728   13305   5749   1976   2456   8907   3644   \n",
       "Buskerud            40575  17509   31544   3319   4251   4941  23068   8062   \n",
       "Finnmark Finnmárku  12228   4220    2664    648    892   1959   7157   2415   \n",
       "Hedmark             38136   9696   12191   1876   2382   3876  32286   7902   \n",
       "Hordaland           68945  38352   74282  14724  11940  14150  29981  26901   \n",
       "Møre og Romsdal     29928  32746   24123   7905   3697   4933  25938   9341   \n",
       "Nord-Trøndelag      25730   6146    8121   1726   1424   3035  22089   4389   \n",
       "Nordland            38611  16338   20532   2637   3138   7273  28465   9620   \n",
       "Oppland             34552   8459   12323   1537   2289   3534  25619   5508   \n",
       "Oslo                87158  22784   89342   6922  32198  31352  11953  50382   \n",
       "Rogaland            57969  43382   61992  20859   6152   9620  26955  13261   \n",
       "Sogn og Fjordane    16426   5771    8529   2389   1542   2489  17634   3675   \n",
       "Sør-Trøndelag       57621  16650   31837   4211   9268  10852  29181  17635   \n",
       "Telemark            29883  12297   15198   4327   2729   4506  15963   5934   \n",
       "Troms Romsa         25168  12998   12493   2062   2768   4455  17698  10029   \n",
       "Vest-Agder          21845  13821   22359  14598   3330   3355  10859   5615   \n",
       "Vestfold            37518  17271   34831   4861   5428   6155  13775   8670   \n",
       "Østfold             49345  20527   30211   5414   4782   7418  22849   9840   \n",
       "\n",
       "Party                   V  \n",
       "District                   \n",
       "Akershus            25393  \n",
       "Aust-Agder           2136  \n",
       "Buskerud             5207  \n",
       "Finnmark Finnmárku    564  \n",
       "Hedmark              2642  \n",
       "Hordaland           13163  \n",
       "Møre og Romsdal      4364  \n",
       "Nord-Trøndelag       1557  \n",
       "Nordland             3342  \n",
       "Oppland              2370  \n",
       "Oslo                38142  \n",
       "Rogaland             9106  \n",
       "Sogn og Fjordane     2135  \n",
       "Sør-Trøndelag        8435  \n",
       "Telemark             2203  \n",
       "Troms Romsa          2298  \n",
       "Vest-Agder           3834  \n",
       "Vestfold             5771  \n",
       "Østfold              4771  "
      ]
     },
     "execution_count": 113,
     "metadata": {},
     "output_type": "execute_result"
    }
   ],
   "source": [
    "vd_dp_us.Votes"
   ]
  },
  {
   "cell_type": "code",
   "execution_count": 115,
   "id": "36e46704-dded-423d-bc4c-b4035d275236",
   "metadata": {},
   "outputs": [
    {
     "data": {
      "image/png": "[encoded data removed]",
      "text/plain": [
       "<Figure size 864x288 with 1 Axes>"
      ]
     },
     "metadata": {
      "needs_background": "light"
     },
     "output_type": "display_data"
    }
   ],
   "source": [
    "vd_dp_us.Votes.plot(kind='bar', stacked=True, figsize=(12, 4), rot=30);"
   ]
  },
  {
   "cell_type": "markdown",
   "id": "43cebadf-911e-42be-af34-61c8f8135c40",
   "metadata": {},
   "source": [
    "- By unstacking differently, we can also see the distribution across districts for each party"
   ]
  },
  {
   "cell_type": "code",
   "execution_count": 116,
   "id": "39eddce2-083a-4e4e-ba4d-5ce73e8a860c",
   "metadata": {},
   "outputs": [
    {
     "data": {
      "image/png": "[encoded data removed]",
      "text/plain": [
       "<Figure size 864x288 with 1 Axes>"
      ]
     },
     "metadata": {
      "needs_background": "light"
     },
     "output_type": "display_data"
    }
   ],
   "source": [
    "vd_dp.unstack(level=0).Votes.plot(kind='bar', stacked=True, figsize=(12, 4));"
   ]
  },
  {
   "cell_type": "markdown",
   "id": "70f325ba-bf4e-4aa6-8308-bfbb5c1ad31f",
   "metadata": {},
   "source": [
    "### Grouping\n",
    "\n",
    "- Using grouping, we can aggregate data across a group\n",
    "- Here we will aggregate the number of votes by party\n",
    "- We first apply `groupby()` to perform the grouping, then an aggregation operation\n",
    "- See also https://pandas.pydata.org/pandas-docs/stable/groupby.html"
   ]
  },
  {
   "cell_type": "code",
   "execution_count": 117,
   "id": "5b6c3249-d5a0-4118-9cd8-b52d054aa758",
   "metadata": {},
   "outputs": [
    {
     "data": {
      "text/html": [
       "<div>\n",
       "<style scoped>\n",
       "    .dataframe tbody tr th:only-of-type {\n",
       "        vertical-align: middle;\n",
       "    }\n",
       "\n",
       "    .dataframe tbody tr th {\n",
       "        vertical-align: top;\n",
       "    }\n",
       "\n",
       "    .dataframe thead th {\n",
       "        text-align: right;\n",
       "    }\n",
       "</style>\n",
       "<table border=\"1\" class=\"dataframe\">\n",
       "  <thead>\n",
       "    <tr style=\"text-align: right;\">\n",
       "      <th></th>\n",
       "      <th>EarlyVotes</th>\n",
       "      <th>EDayVotes</th>\n",
       "      <th>Votes</th>\n",
       "    </tr>\n",
       "    <tr>\n",
       "      <th>Party</th>\n",
       "      <th></th>\n",
       "      <th></th>\n",
       "      <th></th>\n",
       "    </tr>\n",
       "  </thead>\n",
       "  <tbody>\n",
       "    <tr>\n",
       "      <th>A</th>\n",
       "      <td>448001</td>\n",
       "      <td>335393</td>\n",
       "      <td>783394</td>\n",
       "    </tr>\n",
       "    <tr>\n",
       "      <th>FRP</th>\n",
       "      <td>182398</td>\n",
       "      <td>164076</td>\n",
       "      <td>346474</td>\n",
       "    </tr>\n",
       "    <tr>\n",
       "      <th>H</th>\n",
       "      <td>364352</td>\n",
       "      <td>242964</td>\n",
       "      <td>607316</td>\n",
       "    </tr>\n",
       "    <tr>\n",
       "      <th>KRF</th>\n",
       "      <td>64604</td>\n",
       "      <td>48740</td>\n",
       "      <td>113344</td>\n",
       "    </tr>\n",
       "    <tr>\n",
       "      <th>MDG</th>\n",
       "      <td>82235</td>\n",
       "      <td>35412</td>\n",
       "      <td>117647</td>\n",
       "    </tr>\n",
       "    <tr>\n",
       "      <th>RØDT</th>\n",
       "      <td>90313</td>\n",
       "      <td>50618</td>\n",
       "      <td>140931</td>\n",
       "    </tr>\n",
       "    <tr>\n",
       "      <th>SP</th>\n",
       "      <td>205534</td>\n",
       "      <td>197427</td>\n",
       "      <td>402961</td>\n",
       "    </tr>\n",
       "    <tr>\n",
       "      <th>SV</th>\n",
       "      <td>145819</td>\n",
       "      <td>82244</td>\n",
       "      <td>228063</td>\n",
       "    </tr>\n",
       "    <tr>\n",
       "      <th>V</th>\n",
       "      <td>80178</td>\n",
       "      <td>57255</td>\n",
       "      <td>137433</td>\n",
       "    </tr>\n",
       "  </tbody>\n",
       "</table>\n",
       "</div>"
      ],
      "text/plain": [
       "       EarlyVotes  EDayVotes   Votes\n",
       "Party                               \n",
       "A          448001     335393  783394\n",
       "FRP        182398     164076  346474\n",
       "H          364352     242964  607316\n",
       "KRF         64604      48740  113344\n",
       "MDG         82235      35412  117647\n",
       "RØDT        90313      50618  140931\n",
       "SP         205534     197427  402961\n",
       "SV         145819      82244  228063\n",
       "V           80178      57255  137433"
      ]
     },
     "execution_count": 117,
     "metadata": {},
     "output_type": "execute_result"
    }
   ],
   "source": [
    "party_votes = vd.groupby('Party').sum()\n",
    "party_votes"
   ]
  },
  {
   "cell_type": "markdown",
   "id": "9ece3a50-9c36-4e8b-8f2b-ee6cd2f3ef6e",
   "metadata": {},
   "source": [
    "- We can compute the share of the total votes for each party and the percentage of early votes"
   ]
  },
  {
   "cell_type": "code",
   "execution_count": 118,
   "id": "6ed1b62e-632c-4ce3-8075-41dd84195fb8",
   "metadata": {},
   "outputs": [],
   "source": [
    "total_votes = party_votes.Votes.sum()\n",
    "party_votes['% Votes'] = party_votes.Votes / total_votes * 100\n",
    "party_votes['% Early'] = party_votes.EarlyVotes / party_votes.Votes * 100"
   ]
  },
  {
   "cell_type": "markdown",
   "id": "6f944971-35e6-48fb-bded-9acaf4618913",
   "metadata": {},
   "source": [
    "- We are most interested in the larger parties, so we sort\n",
    "    - Here, we sort the dataframe in place instead of returning a new one"
   ]
  },
  {
   "cell_type": "code",
   "execution_count": 119,
   "id": "3c17fc8a-fa16-49a9-a4a6-b4dac21e6e94",
   "metadata": {},
   "outputs": [
    {
     "data": {
      "text/html": [
       "<div>\n",
       "<style scoped>\n",
       "    .dataframe tbody tr th:only-of-type {\n",
       "        vertical-align: middle;\n",
       "    }\n",
       "\n",
       "    .dataframe tbody tr th {\n",
       "        vertical-align: top;\n",
       "    }\n",
       "\n",
       "    .dataframe thead th {\n",
       "        text-align: right;\n",
       "    }\n",
       "</style>\n",
       "<table border=\"1\" class=\"dataframe\">\n",
       "  <thead>\n",
       "    <tr style=\"text-align: right;\">\n",
       "      <th></th>\n",
       "      <th>EarlyVotes</th>\n",
       "      <th>EDayVotes</th>\n",
       "      <th>Votes</th>\n",
       "      <th>% Votes</th>\n",
       "      <th>% Early</th>\n",
       "    </tr>\n",
       "    <tr>\n",
       "      <th>Party</th>\n",
       "      <th></th>\n",
       "      <th></th>\n",
       "      <th></th>\n",
       "      <th></th>\n",
       "      <th></th>\n",
       "    </tr>\n",
       "  </thead>\n",
       "  <tbody>\n",
       "    <tr>\n",
       "      <th>A</th>\n",
       "      <td>448001</td>\n",
       "      <td>335393</td>\n",
       "      <td>783394</td>\n",
       "      <td>27.224217</td>\n",
       "      <td>57.187188</td>\n",
       "    </tr>\n",
       "    <tr>\n",
       "      <th>H</th>\n",
       "      <td>364352</td>\n",
       "      <td>242964</td>\n",
       "      <td>607316</td>\n",
       "      <td>21.105220</td>\n",
       "      <td>59.993809</td>\n",
       "    </tr>\n",
       "    <tr>\n",
       "      <th>SP</th>\n",
       "      <td>205534</td>\n",
       "      <td>197427</td>\n",
       "      <td>402961</td>\n",
       "      <td>14.003551</td>\n",
       "      <td>51.005929</td>\n",
       "    </tr>\n",
       "    <tr>\n",
       "      <th>FRP</th>\n",
       "      <td>182398</td>\n",
       "      <td>164076</td>\n",
       "      <td>346474</td>\n",
       "      <td>12.040536</td>\n",
       "      <td>52.644066</td>\n",
       "    </tr>\n",
       "    <tr>\n",
       "      <th>SV</th>\n",
       "      <td>145819</td>\n",
       "      <td>82244</td>\n",
       "      <td>228063</td>\n",
       "      <td>7.925561</td>\n",
       "      <td>63.938035</td>\n",
       "    </tr>\n",
       "  </tbody>\n",
       "</table>\n",
       "</div>"
      ],
      "text/plain": [
       "       EarlyVotes  EDayVotes   Votes    % Votes    % Early\n",
       "Party                                                     \n",
       "A          448001     335393  783394  27.224217  57.187188\n",
       "H          364352     242964  607316  21.105220  59.993809\n",
       "SP         205534     197427  402961  14.003551  51.005929\n",
       "FRP        182398     164076  346474  12.040536  52.644066\n",
       "SV         145819      82244  228063   7.925561  63.938035"
      ]
     },
     "execution_count": 119,
     "metadata": {},
     "output_type": "execute_result"
    }
   ],
   "source": [
    "party_votes.sort_values(by='Votes', ascending=False, inplace=True)\n",
    "party_votes.head()"
   ]
  },
  {
   "cell_type": "code",
   "execution_count": 120,
   "id": "77946ef1-c020-4316-82a3-4d9eedeb4f0e",
   "metadata": {},
   "outputs": [
    {
     "data": {
      "image/png": "[encoded data removed]",
      "text/plain": [
       "<Figure size 864x288 with 1 Axes>"
      ]
     },
     "metadata": {
      "needs_background": "light"
     },
     "output_type": "display_data"
    }
   ],
   "source": [
    "party_votes['% Votes'].plot(kind='bar', figsize=(12, 4), rot=0);"
   ]
  },
  {
   "cell_type": "markdown",
   "id": "4de990b3-ee10-4320-893b-bde965c77140",
   "metadata": {},
   "source": [
    "- `rot=0` turns the bar label horizonal\n",
    "- We also look at the share of early voters"
   ]
  },
  {
   "cell_type": "code",
   "execution_count": 121,
   "id": "f5b076cd-0656-4b33-a673-59e9296aa617",
   "metadata": {},
   "outputs": [
    {
     "data": {
      "image/png": "[encoded data removed]",
      "text/plain": [
       "<Figure size 864x288 with 1 Axes>"
      ]
     },
     "metadata": {
      "needs_background": "light"
     },
     "output_type": "display_data"
    }
   ],
   "source": [
    "party_votes['% Early'].plot(kind='bar', figsize=(12, 4), rot=0);"
   ]
  },
  {
   "cell_type": "code",
   "execution_count": null,
   "id": "f965680b-d7db-4d0b-85e2-84f88bdf260e",
   "metadata": {},
   "outputs": [],
   "source": []
  }
 ],
 "metadata": {
  "kernelspec": {
   "display_name": "Python 3 (ipykernel)",
   "language": "python",
   "name": "python3"
  },
  "language_info": {
   "codemirror_mode": {
    "name": "ipython",
    "version": 3
   },
   "file_extension": ".py",
   "mimetype": "text/x-python",
   "name": "python",
   "nbconvert_exporter": "python",
   "pygments_lexer": "ipython3",
   "version": "3.8.11"
  }
 },
 "nbformat": 4,
 "nbformat_minor": 5
}
