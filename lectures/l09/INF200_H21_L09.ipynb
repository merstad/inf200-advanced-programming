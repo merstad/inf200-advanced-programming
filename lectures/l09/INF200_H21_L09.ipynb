{
 "cells": [
  {
   "cell_type": "markdown",
   "metadata": {},
   "source": [
    "# INF200 Lecture No 9\n",
    "\n",
    "### 8 November 2021\n",
    "\n",
    "## Today's topics\n",
    "\n",
    "1. Object-oriented programming\n",
    "    1. Review\n",
    "    1. Defining new data types\n",
    "1. Staying in control\n",
    "    1. Assertions\n",
    "    1. Exceptions\n",
    "    1. Testing\n",
    "1. Some advanced Python concepts\n",
    "    1. Factories and closures\n",
    "    1. Decorators and memoization\n",
    "    1. Properties\n",
    "    1. Iterators and generators"
   ]
  },
  {
   "cell_type": "markdown",
   "metadata": {},
   "source": [
    "# Object-oriented programming\n",
    "\n",
    "----------\n",
    "\n",
    "## Review\n",
    "\n",
    "See slides for Lecture 8."
   ]
  },
  {
   "cell_type": "markdown",
   "metadata": {},
   "source": [
    "-------------------\n",
    "\n",
    "## Defining new data types\n",
    "\n",
    "- OO Idea 1: Combine data and behavior into *new data types*\n",
    "- Problem: How to make our classes behave more like built-in data types\n",
    "    - nice printing\n",
    "    - comparison between instances (e.g., sorting `Member`s)\n",
    "    - mathematical operations (e.g., computing with vectors)\n",
    "- Solution: Operator overloading\n",
    "- See, e.g., Langtangen ch 7.3-7.5 (4th edition)\n",
    "- **Overloading**: Giving an operation a (new) meaning.\n",
    "\n",
    "### Overloading in Python\n",
    "\n",
    "- All classes inherit from `object` methods for\n",
    "    - initialization (constructor)\n",
    "    - string representation (printing)\n",
    "    - comparison (by `id`)\n",
    "    - etc\n",
    "- Operations are implemented by `__xxxxxx__()` methods\n",
    "- We can *overload* these functions to define behavior for our classes\n",
    "- First example: constructor `__init__()`\n",
    "\n",
    "#### Defining the string representation of objects"
   ]
  },
  {
   "cell_type": "code",
   "execution_count": 1,
   "metadata": {},
   "outputs": [
    {
     "name": "stdout",
     "output_type": "stream",
     "text": [
      "<__main__.Member object at 0x7fa665ec8af0> <__main__.Member object at 0x7fa665ec8b50>\n"
     ]
    }
   ],
   "source": [
    "class Member:\n",
    "    def __init__(self, name, number):\n",
    "        self.name, self.number = name, number\n",
    "\n",
    "    def display(self):\n",
    "        print(\"Member: {0.name} (#{0.number})\".format(self))\n",
    "        \n",
    "joe = Member('Joe', 123)\n",
    "jane = Member('Jane', 456)\n",
    "\n",
    "print(joe, jane)"
   ]
  },
  {
   "cell_type": "markdown",
   "metadata": {},
   "source": [
    "- Default string representation from `object`\n",
    "- Not useful\n",
    "- Add string representation methods `__str__()` and `__repr__()`"
   ]
  },
  {
   "cell_type": "code",
   "execution_count": 2,
   "metadata": {},
   "outputs": [
    {
     "name": "stdout",
     "output_type": "stream",
     "text": [
      "Member: Joe (#123)\n",
      "Member: Jane (#456)\n",
      "[Member('Joe', 123), Member('Jane', 456)]\n"
     ]
    }
   ],
   "source": [
    "class Member:\n",
    "    def __init__(self, name, number):\n",
    "        self.name, self.number = name, number\n",
    "        \n",
    "    def __str__(self):\n",
    "        return \"Member: {0.name} (#{0.number})\".format(self)\n",
    "\n",
    "    def __repr__(self):\n",
    "        return \"Member('{0.name}', {0.number})\".format(self)\n",
    "\n",
    "    def display(self):\n",
    "        print(\"Member: {0.name} (#{0.number})\".format(self))\n",
    "        \n",
    "joe = Member('Joe', 123)\n",
    "jane = Member('Jane', 456)\n",
    "\n",
    "print(joe)\n",
    "print(jane)\n",
    "print([joe, jane])"
   ]
  },
  {
   "cell_type": "markdown",
   "metadata": {},
   "source": [
    "- The two string representation methods:\n",
    "    - **`__str__()`**\n",
    "        - called by `print` and `str` it it exists\n",
    "        - should return \"user friendly\" display of instance\n",
    "    - **`__repr__()`**\n",
    "        - called in all other cases\n",
    "        - also called by `print` and `str` if\n",
    "            - `__str__()` is not defined\n",
    "            - the instance is part of a list, tuple or dictionary\n",
    "        - should return a string that can be used to recreate the object\n",
    "    - Both methods must return a string\n",
    "    - If you want to implement only one of the two, implement `__repr__()`\n",
    "- We can re-define the `display()` method in terms of `__str__()`\n",
    "    - Note that `print(self)` inside a method is equivalent to `print(self.__str__())`"
   ]
  },
  {
   "cell_type": "code",
   "execution_count": 3,
   "metadata": {},
   "outputs": [],
   "source": [
    "class Member:\n",
    "    def __init__(self, name, number):\n",
    "        self.name, self.number = name, number\n",
    "        \n",
    "    def __str__(self):\n",
    "        return \"Member: {0.name} (#{0.number})\".format(self)\n",
    "\n",
    "    def __repr__(self):\n",
    "        return \"Member('{0.name}', {0.number})\".format(self)\n",
    "\n",
    "    def display(self):\n",
    "        print(self)"
   ]
  },
  {
   "cell_type": "markdown",
   "metadata": {},
   "source": [
    "- In subclasses, we now only need to override `__str__()` and `__repr__()`, but not `display()`"
   ]
  },
  {
   "cell_type": "code",
   "execution_count": 4,
   "metadata": {},
   "outputs": [],
   "source": [
    "class Officer(Member):\n",
    "    def __init__(self, name, number, rank):\n",
    "        Member.__init__(self, name, number)\n",
    "        self.rank = rank\n",
    "\n",
    "    def __str__(self):\n",
    "        return \"{0.rank}: {0.name} (#{0.number})\".format(self)\n",
    "\n",
    "    def __repr__(self):\n",
    "        return \"Officer('{0.name}', {0.number}, '{0.rank}')\".format(self)\n",
    "\n",
    "jack = Officer('Jack', 789, 'President')"
   ]
  },
  {
   "cell_type": "code",
   "execution_count": 5,
   "metadata": {},
   "outputs": [
    {
     "name": "stdout",
     "output_type": "stream",
     "text": [
      "Members as list: [Member('Joe', 123), Member('Jane', 456), Officer('Jack', 789, 'President')]\n",
      "Member: Joe (#123)\n",
      "Member: Jane (#456)\n",
      "President: Jack (#789)\n"
     ]
    }
   ],
   "source": [
    "members = [joe, jane, jack]\n",
    "print(\"Members as list:\", members)\n",
    "for member in members:\n",
    "    member.display()"
   ]
  },
  {
   "cell_type": "markdown",
   "metadata": {},
   "source": [
    "### Defining mathematical operations\n",
    "\n",
    "- `+`, `-`, `*`, `/` and further mathematical operators can be defined for classes\n",
    "- See http://docs.python.org/library/operator.html for a complete list\n",
    "- No default definitions are inherited from `object`: only what you provide is available\n",
    "- Think carefully about what definitions may make sense, e.g.,\n",
    "    - string addition: concatenation\n",
    "    - string times integer n: concatenate string with itself n times\n",
    "    - subtraction and division not definable for string\n",
    "- Methods: `__add__`, `__sub__`, `__mul__`, `__truediv__`\n",
    "- `a + b` is equivalent to `a.__add__(b)`\n",
    "- Below\n",
    "    - `lhs`: left-hand side\n",
    "    - `rhs`: right-hand side"
   ]
  },
  {
   "cell_type": "code",
   "execution_count": 6,
   "metadata": {},
   "outputs": [],
   "source": [
    "import math"
   ]
  },
  {
   "cell_type": "code",
   "execution_count": 7,
   "metadata": {},
   "outputs": [],
   "source": [
    "class Vector:\n",
    "\n",
    "    def __init__(self, x, y):\n",
    "        self.x = x\n",
    "        self.y = y\n",
    "\n",
    "    def __repr__(self):\n",
    "        return 'Vector({0.x}, {0.y})'.format(self)\n",
    "\n",
    "    def __add__(self, rhs):\n",
    "        return Vector(self.x + rhs.x, self.y + rhs.y)\n",
    "\n",
    "    def __sub__(self, rhs):\n",
    "        return Vector(self.x - rhs.x, self.y - rhs.y)\n",
    "\n",
    "    def __mul__(self, rhs):\n",
    "        return Vector(self.x * rhs, self.y * rhs)\n",
    "\n",
    "    def __rmul__(self, lhs):\n",
    "        return self * lhs\n",
    "\n",
    "    def __truediv__(self, rhs):\n",
    "        return self * (1. / rhs)\n",
    "\n",
    "    def norm(self):\n",
    "        return math.sqrt(self.x ** 2 + self.y ** 2)"
   ]
  },
  {
   "cell_type": "markdown",
   "metadata": {},
   "source": [
    "We create a few vectors and work with them. Note that `print` now falls back on the `__repr__()` method for printing the vectors, because `__str__()` is not implemented."
   ]
  },
  {
   "cell_type": "code",
   "execution_count": 8,
   "metadata": {
    "scrolled": true
   },
   "outputs": [
    {
     "name": "stdout",
     "output_type": "stream",
     "text": [
      "v       =  Vector(1, 2)\n",
      "w       =  Vector(30, 40)\n",
      "v + w   =  Vector(31, 42)\n",
      "v * 5   =  Vector(5, 10)\n",
      "2 * v   =  Vector(2, 4)\n",
      "v / 10. =  Vector(0.1, 0.2)\n",
      "norm(v) =  2.23606797749979\n"
     ]
    }
   ],
   "source": [
    "v = Vector(1, 2)\n",
    "w = Vector(30, 40)\n",
    "\n",
    "print(\"v       = \", v)\n",
    "print(\"w       = \", w)\n",
    "print(\"v + w   = \", v + w)\n",
    "print(\"v * 5   = \", v * 5)\n",
    "print(\"2 * v   = \", 2 * v)\n",
    "print(\"v / 10. = \", v / 10.)\n",
    "print(\"norm(v) = \", v.norm())"
   ]
  },
  {
   "cell_type": "markdown",
   "metadata": {},
   "source": [
    "- `__rmul__()` vs `__mul__()`:\n",
    "    - `v * 5` is `v.__mul__(5)`: no problem, run `Vector.__mul__(v, 5)`\n",
    "    - `2 * v` would be `2.__mul__(v)`, i.e., `int.__mul__(2, v)`\n",
    "    - `int` knows nothing about vectors: error!\n",
    "    - `__rmul__()`: called with swapped arguments if `__mul__()` fails\n",
    "    - `2 * v` becomes `v.__rmul__(2)`, running `Vector.__rmul__(v, 2)`\n",
    "    - `__rmul__()` usually implemented in terms of `__mul__()` or `*`\n",
    "- `r`-versions also for other math methods"
   ]
  },
  {
   "cell_type": "markdown",
   "metadata": {},
   "source": [
    "### Overriding comparisons\n",
    "\n",
    "- `<`, `<=`, `>`, `>=`, `==`, `!=` can be overriding by defining `__lt__`, `__le__`, `__gt__`, `__ge__`, `__eq__`, `__ne__`\n",
    "- `x < y` is equivalent to `x.__lt__(y)`\n",
    "- Shall return `True` or `False`\n",
    "- This set of six comparisons is known as \"rich comparisons\"\n",
    "\n",
    "#### Default comparisons\n",
    "\n",
    "- By default, a new class inherits comparisons from the fundamental base class `object`\n",
    "- `__eq__` and `__ne__` test for *object identity*\n",
    "    - same `o1 == o2` means the same as `o1 is o2`\n",
    "    - ususally sensible, except for mathematical types\n",
    "- All other comparisons return `NotImplemented` and will result in an error"
   ]
  },
  {
   "cell_type": "code",
   "execution_count": 9,
   "metadata": {},
   "outputs": [
    {
     "data": {
      "text/plain": [
       "(True, False)"
      ]
     },
     "execution_count": 9,
     "metadata": {},
     "output_type": "execute_result"
    }
   ],
   "source": [
    "o1 = object()\n",
    "o2 = object()\n",
    "\n",
    "o1 == o1, o1 == o2"
   ]
  },
  {
   "cell_type": "code",
   "execution_count": 10,
   "metadata": {},
   "outputs": [
    {
     "ename": "TypeError",
     "evalue": "'<' not supported between instances of 'object' and 'object'",
     "output_type": "error",
     "traceback": [
      "\u001b[0;31m---------------------------------------------------------------------------\u001b[0m",
      "\u001b[0;31mTypeError\u001b[0m                                 Traceback (most recent call last)",
      "\u001b[0;32m/var/folders/j5/971zg6qd58n070p_ds781hzm0000gn/T/ipykernel_11249/556318062.py\u001b[0m in \u001b[0;36m<module>\u001b[0;34m\u001b[0m\n\u001b[0;32m----> 1\u001b[0;31m \u001b[0mo1\u001b[0m \u001b[0;34m<\u001b[0m \u001b[0mo2\u001b[0m\u001b[0;34m\u001b[0m\u001b[0;34m\u001b[0m\u001b[0m\n\u001b[0m",
      "\u001b[0;31mTypeError\u001b[0m: '<' not supported between instances of 'object' and 'object'"
     ]
    }
   ],
   "source": [
    "o1 < o2"
   ]
  },
  {
   "cell_type": "markdown",
   "metadata": {},
   "source": [
    "#### Class-specific comparisons\n",
    "\n",
    "- Override only comparisons that can be defined meaningfully!\n",
    "- Equality can be defined for most types\n",
    "- Only define \"less than\" and similar if there is one universal way of ordering instances of a class\n",
    "    - Numbers are well-ordered in a mathematical sense: define `__lt__()` etc\n",
    "    - Vectors can only be compared for equality\n",
    "    - If instances can be ordered in different ways in different situations (by name, member number, age, ...) define the ordering rule as `key` to the sorting function\n",
    "- If you define \"less than\", implement all other comparisons as well\n",
    "    - Define them in terms of `<` and `==` to ensure consistency\n",
    "    \n",
    "##### Example: Vector class\n",
    "\n",
    "- Only equality and inequality\n",
    "- Try first vector class from above *without* comparisons"
   ]
  },
  {
   "cell_type": "code",
   "execution_count": 11,
   "metadata": {},
   "outputs": [
    {
     "data": {
      "text/plain": [
       "False"
      ]
     },
     "execution_count": 11,
     "metadata": {},
     "output_type": "execute_result"
    }
   ],
   "source": [
    "v1 = Vector(1, 2)\n",
    "v2 = Vector(1, 2)\n",
    "v1 == v2"
   ]
  },
  {
   "cell_type": "markdown",
   "metadata": {},
   "source": [
    "- Result is `False` because `Vector` inherited `__eq__` from `object` and tests for `v1 is v2`\n",
    "- Now create class with overridden comparisons"
   ]
  },
  {
   "cell_type": "code",
   "execution_count": 12,
   "metadata": {},
   "outputs": [],
   "source": [
    "class NewVector:\n",
    "\n",
    "    def __init__(self, x, y):\n",
    "        self.x = x\n",
    "        self.y = y\n",
    "        \n",
    "    def __eq__(self, rhs):\n",
    "        return self.x == rhs.x and self.y == rhs.y\n",
    "    \n",
    "    def __ne__(self, rhs):\n",
    "        return not self == rhs\n",
    "\n",
    "    def __repr__(self):\n",
    "        return 'Vector({0.x}, {0.y})'.format(self)\n",
    "\n",
    "    def __add__(self, rhs):\n",
    "        return Vector(self.x + rhs.x, self.y + rhs.y)\n",
    "\n",
    "    def __sub__(self, rhs):\n",
    "        return Vector(self.x - rhs.x, self.y - rhs.y)\n",
    "\n",
    "    def __mul__(self, rhs):\n",
    "        return Vector(self.x * rhs, self.y * rhs)\n",
    "\n",
    "    def __rmul__(self, lhs):\n",
    "        return self * lhs\n",
    "\n",
    "    def __truediv__(self, rhs):\n",
    "        return self * (1. / rhs)\n",
    "\n",
    "    def norm(self):\n",
    "        return math.sqrt(self.x ** 2 + self.y ** 2)"
   ]
  },
  {
   "cell_type": "code",
   "execution_count": 13,
   "metadata": {},
   "outputs": [
    {
     "data": {
      "text/plain": [
       "(True, True, False)"
      ]
     },
     "execution_count": 13,
     "metadata": {},
     "output_type": "execute_result"
    }
   ],
   "source": [
    "nv1 = NewVector(1, 2)\n",
    "nv2 = NewVector(1, 2)\n",
    "nv3 = NewVector(1.0, 2.0)\n",
    "nv4 = NewVector(5, 8)\n",
    "\n",
    "nv1 == nv2, nv1 == nv3, nv1 == nv4"
   ]
  },
  {
   "cell_type": "markdown",
   "metadata": {},
   "source": [
    "- We now compare for equality in the mathematical sense\n",
    "- We do not allow relative comparisons"
   ]
  },
  {
   "cell_type": "code",
   "execution_count": 14,
   "metadata": {},
   "outputs": [
    {
     "ename": "TypeError",
     "evalue": "'<' not supported between instances of 'NewVector' and 'NewVector'",
     "output_type": "error",
     "traceback": [
      "\u001b[0;31m---------------------------------------------------------------------------\u001b[0m",
      "\u001b[0;31mTypeError\u001b[0m                                 Traceback (most recent call last)",
      "\u001b[0;32m/var/folders/j5/971zg6qd58n070p_ds781hzm0000gn/T/ipykernel_11249/1330033468.py\u001b[0m in \u001b[0;36m<module>\u001b[0;34m\u001b[0m\n\u001b[0;32m----> 1\u001b[0;31m \u001b[0mnv1\u001b[0m \u001b[0;34m<\u001b[0m \u001b[0mnv4\u001b[0m\u001b[0;34m\u001b[0m\u001b[0;34m\u001b[0m\u001b[0m\n\u001b[0m",
      "\u001b[0;31mTypeError\u001b[0m: '<' not supported between instances of 'NewVector' and 'NewVector'"
     ]
    }
   ],
   "source": [
    "nv1 < nv4"
   ]
  },
  {
   "cell_type": "markdown",
   "metadata": {},
   "source": [
    "#### Example: a fraction class supporting all comparisons\n",
    "\n",
    "- Note that we only need to implement `__eq__()` and `__lt__()` explicitly\n",
    "- All other comparisons can be constructed from those two."
   ]
  },
  {
   "cell_type": "code",
   "execution_count": 15,
   "metadata": {},
   "outputs": [],
   "source": [
    "class Fraction:\n",
    "    def __init__(self, a, b):\n",
    "        assert b > 0, \"Denominator b > 0 required.\"\n",
    "        self.a, self.b = a, b\n",
    "    \n",
    "    def __eq__(self, rhs):\n",
    "        return self.a == rhs.a and self.b == rhs.b\n",
    "\n",
    "    def __ne__(self, rhs):\n",
    "        return not self == rhs\n",
    "    \n",
    "    def __lt__(self, rhs):\n",
    "        return self.a * rhs.b < rhs.a * self.b  # expand fractions to same denominator and compare numerators\n",
    "\n",
    "    def __le__(self, rhs):\n",
    "        return self < rhs or self == rhs\n",
    "    \n",
    "    def __gt__(self, rhs):\n",
    "        return rhs < self\n",
    "\n",
    "    def __ge__(self, rhs):\n",
    "        return rhs <= self"
   ]
  },
  {
   "cell_type": "code",
   "execution_count": 16,
   "metadata": {},
   "outputs": [],
   "source": [
    "f1 = Fraction(3, 4)\n",
    "f2 = Fraction(2, 3)"
   ]
  },
  {
   "cell_type": "code",
   "execution_count": 17,
   "metadata": {},
   "outputs": [
    {
     "data": {
      "text/plain": [
       "(False, False, True)"
      ]
     },
     "execution_count": 17,
     "metadata": {},
     "output_type": "execute_result"
    }
   ],
   "source": [
    "f1 == f2, f1 < f2, f1 >= f2"
   ]
  },
  {
   "cell_type": "markdown",
   "metadata": {},
   "source": [
    "------------\n",
    "\n",
    "# Staying in control\n",
    "\n",
    "## Background\n",
    "\n",
    "- Computers can solve complex tasks fast\n",
    "- Humans tend to trust in results provided by computers\n",
    "- In some situations, lives depend on computers working correctly\n",
    "- Requires reliable software\n",
    "- Difficult to achieve: we can demonstrate the presence of bugs, proving their absence is (essentially) impossible\n",
    "- Field of software engineering: *Verification* and *Validation*\n",
    "- We look only at essential elements"
   ]
  },
  {
   "cell_type": "markdown",
   "metadata": {},
   "source": [
    "### Elements of reliable software\n",
    "\n",
    "- Software shall not return incorrect results\n",
    "- Software shall fail in controlled ways \n",
    "- Software shall handle unforseen conditions\n",
    "- Software shall be tested solidly\n",
    "- **Software should fail rather than return incorrect results.**"
   ]
  },
  {
   "cell_type": "markdown",
   "metadata": {},
   "source": [
    "### Techniques towards reliability\n",
    "\n",
    "- **Assertions**\n",
    "    - check that requirements are fulfilled\n",
    "    - stop execution if requirement not fulfilled\n",
    "    - key use cases\n",
    "        - very simple \"emergency stops\" if we don't want to spend time on proper error handling\n",
    "        - catching things that \"cannot happen\", but where we want to be on the safe side (in large projects, you never know ...)\n",
    "- **Exceptions**\n",
    "    - mechanism for signaling that something unexpected happended\n",
    "    - available in most modern programming languages\n",
    "    - exceptions are *raised* or *thrown* when a problem is detected\n",
    "    - exceptions can be *caught* and *handled*, e.g., by issuing a useful error message\n",
    "    - in some languages, e.g., Python, exceptions are also used as part of normal programming\n",
    "- **Testing**\n",
    "    - systematic testing of code can help us to find errors\n",
    "    - a proper set of tests also helps us to avoid introducing new errors as software evolves\n",
    "    - *unit tests* are tests of small parts of code, typically functions\n",
    "    - *integration tests* test that the parts of a larger project work together\n",
    "    - *regression tests* are added when a bug is discovered\n",
    "        - the test reproduces the bug\n",
    "        - when the bug is fixed, the test passes\n",
    "        - we keep the test, in case we should re-introduce the bug by a later change (regress)"
   ]
  },
  {
   "cell_type": "markdown",
   "metadata": {},
   "source": [
    "----------\n",
    "\n",
    "## Assertions\n",
    "\n",
    "- *pass* if a boolean expression is True\n",
    "- *fail* if a boolean expression is False"
   ]
  },
  {
   "cell_type": "code",
   "execution_count": 18,
   "metadata": {},
   "outputs": [],
   "source": [
    "assert True"
   ]
  },
  {
   "cell_type": "code",
   "execution_count": 19,
   "metadata": {},
   "outputs": [
    {
     "ename": "AssertionError",
     "evalue": "",
     "output_type": "error",
     "traceback": [
      "\u001b[0;31m---------------------------------------------------------------------------\u001b[0m",
      "\u001b[0;31mAssertionError\u001b[0m                            Traceback (most recent call last)",
      "\u001b[0;32m/var/folders/j5/971zg6qd58n070p_ds781hzm0000gn/T/ipykernel_11249/2103537015.py\u001b[0m in \u001b[0;36m<module>\u001b[0;34m\u001b[0m\n\u001b[0;32m----> 1\u001b[0;31m \u001b[0;32massert\u001b[0m \u001b[0;32mFalse\u001b[0m\u001b[0;34m\u001b[0m\u001b[0;34m\u001b[0m\u001b[0m\n\u001b[0m",
      "\u001b[0;31mAssertionError\u001b[0m: "
     ]
    }
   ],
   "source": [
    "assert False"
   ]
  },
  {
   "cell_type": "markdown",
   "metadata": {},
   "source": [
    "We can use them to catch certain conditions"
   ]
  },
  {
   "cell_type": "code",
   "execution_count": 20,
   "metadata": {},
   "outputs": [],
   "source": [
    "def inverse(x):\n",
    "    \"\"\"Returns 1 / x.\"\"\"\n",
    "    \n",
    "    assert x != 0\n",
    "    \n",
    "    return 1. / x"
   ]
  },
  {
   "cell_type": "code",
   "execution_count": 21,
   "metadata": {},
   "outputs": [
    {
     "data": {
      "text/plain": [
       "0.1"
      ]
     },
     "execution_count": 21,
     "metadata": {},
     "output_type": "execute_result"
    }
   ],
   "source": [
    "inverse(10)"
   ]
  },
  {
   "cell_type": "code",
   "execution_count": 22,
   "metadata": {},
   "outputs": [
    {
     "ename": "AssertionError",
     "evalue": "",
     "output_type": "error",
     "traceback": [
      "\u001b[0;31m---------------------------------------------------------------------------\u001b[0m",
      "\u001b[0;31mAssertionError\u001b[0m                            Traceback (most recent call last)",
      "\u001b[0;32m/var/folders/j5/971zg6qd58n070p_ds781hzm0000gn/T/ipykernel_11249/3105141989.py\u001b[0m in \u001b[0;36m<module>\u001b[0;34m\u001b[0m\n\u001b[0;32m----> 1\u001b[0;31m \u001b[0minverse\u001b[0m\u001b[0;34m(\u001b[0m\u001b[0;36m0.\u001b[0m\u001b[0;34m)\u001b[0m\u001b[0;34m\u001b[0m\u001b[0;34m\u001b[0m\u001b[0m\n\u001b[0m",
      "\u001b[0;32m/var/folders/j5/971zg6qd58n070p_ds781hzm0000gn/T/ipykernel_11249/855487488.py\u001b[0m in \u001b[0;36minverse\u001b[0;34m(x)\u001b[0m\n\u001b[1;32m      2\u001b[0m     \u001b[0;34m\"\"\"Returns 1 / x.\"\"\"\u001b[0m\u001b[0;34m\u001b[0m\u001b[0;34m\u001b[0m\u001b[0m\n\u001b[1;32m      3\u001b[0m \u001b[0;34m\u001b[0m\u001b[0m\n\u001b[0;32m----> 4\u001b[0;31m     \u001b[0;32massert\u001b[0m \u001b[0mx\u001b[0m \u001b[0;34m!=\u001b[0m \u001b[0;36m0\u001b[0m\u001b[0;34m\u001b[0m\u001b[0;34m\u001b[0m\u001b[0m\n\u001b[0m\u001b[1;32m      5\u001b[0m \u001b[0;34m\u001b[0m\u001b[0m\n\u001b[1;32m      6\u001b[0m     \u001b[0;32mreturn\u001b[0m \u001b[0;36m1.\u001b[0m \u001b[0;34m/\u001b[0m \u001b[0mx\u001b[0m\u001b[0;34m\u001b[0m\u001b[0;34m\u001b[0m\u001b[0m\n",
      "\u001b[0;31mAssertionError\u001b[0m: "
     ]
    }
   ],
   "source": [
    "inverse(0.)"
   ]
  },
  {
   "cell_type": "markdown",
   "metadata": {},
   "source": [
    "We can provide some more information to the user by adding a string after the boolean expression:"
   ]
  },
  {
   "cell_type": "code",
   "execution_count": 23,
   "metadata": {},
   "outputs": [],
   "source": [
    "def inverse(x):\n",
    "    \"\"\"Returns 1 / x.\"\"\"\n",
    "    \n",
    "    assert x != 0, \"Inverse of 0 is not defined.\"\n",
    "    \n",
    "    return 1. / x"
   ]
  },
  {
   "cell_type": "code",
   "execution_count": 24,
   "metadata": {},
   "outputs": [
    {
     "ename": "AssertionError",
     "evalue": "Inverse of 0 is not defined.",
     "output_type": "error",
     "traceback": [
      "\u001b[0;31m---------------------------------------------------------------------------\u001b[0m",
      "\u001b[0;31mAssertionError\u001b[0m                            Traceback (most recent call last)",
      "\u001b[0;32m/var/folders/j5/971zg6qd58n070p_ds781hzm0000gn/T/ipykernel_11249/1507482295.py\u001b[0m in \u001b[0;36m<module>\u001b[0;34m\u001b[0m\n\u001b[0;32m----> 1\u001b[0;31m \u001b[0minverse\u001b[0m\u001b[0;34m(\u001b[0m\u001b[0;36m0\u001b[0m\u001b[0;34m)\u001b[0m\u001b[0;34m\u001b[0m\u001b[0;34m\u001b[0m\u001b[0m\n\u001b[0m",
      "\u001b[0;32m/var/folders/j5/971zg6qd58n070p_ds781hzm0000gn/T/ipykernel_11249/2662188056.py\u001b[0m in \u001b[0;36minverse\u001b[0;34m(x)\u001b[0m\n\u001b[1;32m      2\u001b[0m     \u001b[0;34m\"\"\"Returns 1 / x.\"\"\"\u001b[0m\u001b[0;34m\u001b[0m\u001b[0;34m\u001b[0m\u001b[0m\n\u001b[1;32m      3\u001b[0m \u001b[0;34m\u001b[0m\u001b[0m\n\u001b[0;32m----> 4\u001b[0;31m     \u001b[0;32massert\u001b[0m \u001b[0mx\u001b[0m \u001b[0;34m!=\u001b[0m \u001b[0;36m0\u001b[0m\u001b[0;34m,\u001b[0m \u001b[0;34m\"Inverse of 0 is not defined.\"\u001b[0m\u001b[0;34m\u001b[0m\u001b[0;34m\u001b[0m\u001b[0m\n\u001b[0m\u001b[1;32m      5\u001b[0m \u001b[0;34m\u001b[0m\u001b[0m\n\u001b[1;32m      6\u001b[0m     \u001b[0;32mreturn\u001b[0m \u001b[0;36m1.\u001b[0m \u001b[0;34m/\u001b[0m \u001b[0mx\u001b[0m\u001b[0;34m\u001b[0m\u001b[0;34m\u001b[0m\u001b[0m\n",
      "\u001b[0;31mAssertionError\u001b[0m: Inverse of 0 is not defined."
     ]
    }
   ],
   "source": [
    "inverse(0)"
   ]
  },
  {
   "cell_type": "markdown",
   "metadata": {},
   "source": [
    "We can also use this to check for conditions that are mathematically defined, but make no sense."
   ]
  },
  {
   "cell_type": "code",
   "execution_count": 25,
   "metadata": {},
   "outputs": [],
   "source": [
    "import math\n",
    "\n",
    "def area(r):\n",
    "    \"\"\"Returns area of circle with radius r.\"\"\"\n",
    "    \n",
    "    assert r >= 0, 'Circle radius must be positive.'\n",
    "    \n",
    "    return math.pi * r**2"
   ]
  },
  {
   "cell_type": "code",
   "execution_count": 26,
   "metadata": {},
   "outputs": [
    {
     "data": {
      "text/plain": [
       "3.141592653589793"
      ]
     },
     "execution_count": 26,
     "metadata": {},
     "output_type": "execute_result"
    }
   ],
   "source": [
    "area(1)"
   ]
  },
  {
   "cell_type": "code",
   "execution_count": 27,
   "metadata": {},
   "outputs": [
    {
     "ename": "AssertionError",
     "evalue": "Circle radius must be positive.",
     "output_type": "error",
     "traceback": [
      "\u001b[0;31m---------------------------------------------------------------------------\u001b[0m",
      "\u001b[0;31mAssertionError\u001b[0m                            Traceback (most recent call last)",
      "\u001b[0;32m/var/folders/j5/971zg6qd58n070p_ds781hzm0000gn/T/ipykernel_11249/2431085113.py\u001b[0m in \u001b[0;36m<module>\u001b[0;34m\u001b[0m\n\u001b[0;32m----> 1\u001b[0;31m \u001b[0marea\u001b[0m\u001b[0;34m(\u001b[0m\u001b[0;34m-\u001b[0m\u001b[0;36m1\u001b[0m\u001b[0;34m)\u001b[0m\u001b[0;34m\u001b[0m\u001b[0;34m\u001b[0m\u001b[0m\n\u001b[0m",
      "\u001b[0;32m/var/folders/j5/971zg6qd58n070p_ds781hzm0000gn/T/ipykernel_11249/1911076325.py\u001b[0m in \u001b[0;36marea\u001b[0;34m(r)\u001b[0m\n\u001b[1;32m      4\u001b[0m     \u001b[0;34m\"\"\"Returns area of circle with radius r.\"\"\"\u001b[0m\u001b[0;34m\u001b[0m\u001b[0;34m\u001b[0m\u001b[0m\n\u001b[1;32m      5\u001b[0m \u001b[0;34m\u001b[0m\u001b[0m\n\u001b[0;32m----> 6\u001b[0;31m     \u001b[0;32massert\u001b[0m \u001b[0mr\u001b[0m \u001b[0;34m>=\u001b[0m \u001b[0;36m0\u001b[0m\u001b[0;34m,\u001b[0m \u001b[0;34m'Circle radius must be positive.'\u001b[0m\u001b[0;34m\u001b[0m\u001b[0;34m\u001b[0m\u001b[0m\n\u001b[0m\u001b[1;32m      7\u001b[0m \u001b[0;34m\u001b[0m\u001b[0m\n\u001b[1;32m      8\u001b[0m     \u001b[0;32mreturn\u001b[0m \u001b[0mmath\u001b[0m\u001b[0;34m.\u001b[0m\u001b[0mpi\u001b[0m \u001b[0;34m*\u001b[0m \u001b[0mr\u001b[0m\u001b[0;34m**\u001b[0m\u001b[0;36m2\u001b[0m\u001b[0;34m\u001b[0m\u001b[0;34m\u001b[0m\u001b[0m\n",
      "\u001b[0;31mAssertionError\u001b[0m: Circle radius must be positive."
     ]
    }
   ],
   "source": [
    "area(-1)"
   ]
  },
  {
   "cell_type": "markdown",
   "metadata": {},
   "source": [
    "-------\n",
    "\n",
    "## Exceptions\n",
    "\n",
    "- Exceptions provide more fine-grained control over unexpected situations\n",
    "- Python defines a number of different exception types (see [Python Documentation](https://docs.python.org/3/library/exceptions.html))\n",
    "- The exception types are arranged as a class hierarchy\n",
    "- The diagram shows some of the pre-defined exception types\n",
    "\n",
    "        +-- Exception\n",
    "              +-- StandardError\n",
    "              |    +-- ArithmeticError\n",
    "              |    |    +-- FloatingPointError\n",
    "              |    |    +-- OverflowError\n",
    "              |    |    +-- ZeroDivisionError\n",
    "              |    +-- AssertionError\n",
    "              |    +-- AttributeError\n",
    "              |    +-- EnvironmentError\n",
    "              |    |    +-- IOError\n",
    "              |    +-- EOFError\n",
    "              |    +-- ImportError\n",
    "              |    +-- LookupError\n",
    "              |    |    +-- IndexError\n",
    "              |    |    +-- KeyError\n",
    "              |    +-- NameError\n",
    "              |    +-- RuntimeError\n",
    "              |    |    +-- NotImplementedError\n",
    "              |    +-- SyntaxError\n",
    "              |    |    +-- IndentationError\n",
    "              |    |         +-- TabError\n",
    "              |    +-- SystemError\n",
    "              |    +-- TypeError\n",
    "              |    +-- ValueError\n",
    "              \n",
    "- We can use an exception in our `area()` function\n",
    "    - We `raise` the exception: execution stops here\n",
    "    - The type of exception indicates the kind of problem\n",
    "    - We can provide an error message to be sent to the user"
   ]
  },
  {
   "cell_type": "code",
   "execution_count": 28,
   "metadata": {},
   "outputs": [],
   "source": [
    "def area(r):\n",
    "    \"\"\"Returns area of circle with radius r.\"\"\"\n",
    "    \n",
    "    if r < 0:\n",
    "        raise ValueError('Circle radius must be positive.')\n",
    "    \n",
    "    return math.pi * r**2"
   ]
  },
  {
   "cell_type": "code",
   "execution_count": 29,
   "metadata": {},
   "outputs": [
    {
     "data": {
      "text/plain": [
       "314.1592653589793"
      ]
     },
     "execution_count": 29,
     "metadata": {},
     "output_type": "execute_result"
    }
   ],
   "source": [
    "area(10)"
   ]
  },
  {
   "cell_type": "code",
   "execution_count": 30,
   "metadata": {},
   "outputs": [
    {
     "ename": "ValueError",
     "evalue": "Circle radius must be positive.",
     "output_type": "error",
     "traceback": [
      "\u001b[0;31m---------------------------------------------------------------------------\u001b[0m",
      "\u001b[0;31mValueError\u001b[0m                                Traceback (most recent call last)",
      "\u001b[0;32m/var/folders/j5/971zg6qd58n070p_ds781hzm0000gn/T/ipykernel_11249/1651330675.py\u001b[0m in \u001b[0;36m<module>\u001b[0;34m\u001b[0m\n\u001b[0;32m----> 1\u001b[0;31m \u001b[0marea\u001b[0m\u001b[0;34m(\u001b[0m\u001b[0;34m-\u001b[0m\u001b[0;36m5\u001b[0m\u001b[0;34m)\u001b[0m\u001b[0;34m\u001b[0m\u001b[0;34m\u001b[0m\u001b[0m\n\u001b[0m",
      "\u001b[0;32m/var/folders/j5/971zg6qd58n070p_ds781hzm0000gn/T/ipykernel_11249/2921648391.py\u001b[0m in \u001b[0;36marea\u001b[0;34m(r)\u001b[0m\n\u001b[1;32m      3\u001b[0m \u001b[0;34m\u001b[0m\u001b[0m\n\u001b[1;32m      4\u001b[0m     \u001b[0;32mif\u001b[0m \u001b[0mr\u001b[0m \u001b[0;34m<\u001b[0m \u001b[0;36m0\u001b[0m\u001b[0;34m:\u001b[0m\u001b[0;34m\u001b[0m\u001b[0;34m\u001b[0m\u001b[0m\n\u001b[0;32m----> 5\u001b[0;31m         \u001b[0;32mraise\u001b[0m \u001b[0mValueError\u001b[0m\u001b[0;34m(\u001b[0m\u001b[0;34m'Circle radius must be positive.'\u001b[0m\u001b[0;34m)\u001b[0m\u001b[0;34m\u001b[0m\u001b[0;34m\u001b[0m\u001b[0m\n\u001b[0m\u001b[1;32m      6\u001b[0m \u001b[0;34m\u001b[0m\u001b[0m\n\u001b[1;32m      7\u001b[0m     \u001b[0;32mreturn\u001b[0m \u001b[0mmath\u001b[0m\u001b[0;34m.\u001b[0m\u001b[0mpi\u001b[0m \u001b[0;34m*\u001b[0m \u001b[0mr\u001b[0m\u001b[0;34m**\u001b[0m\u001b[0;36m2\u001b[0m\u001b[0;34m\u001b[0m\u001b[0;34m\u001b[0m\u001b[0m\n",
      "\u001b[0;31mValueError\u001b[0m: Circle radius must be positive."
     ]
    }
   ],
   "source": [
    "area(-5)"
   ]
  },
  {
   "cell_type": "markdown",
   "metadata": {},
   "source": [
    "- Almost the same effect as an assertion\n",
    "\n",
    "### Catching exceptions\n",
    "\n",
    "- But we can catch an exception and handle it"
   ]
  },
  {
   "cell_type": "code",
   "execution_count": 32,
   "metadata": {},
   "outputs": [
    {
     "name": "stdin",
     "output_type": "stream",
     "text": [
      "Radius:  5\n"
     ]
    },
    {
     "name": "stdout",
     "output_type": "stream",
     "text": [
      "    Area: 78.53981633974483\n"
     ]
    },
    {
     "name": "stdin",
     "output_type": "stream",
     "text": [
      "Radius:  -5\n"
     ]
    },
    {
     "name": "stdout",
     "output_type": "stream",
     "text": [
      "    An error occured\n"
     ]
    },
    {
     "name": "stdin",
     "output_type": "stream",
     "text": [
      "Radius:  2\n"
     ]
    },
    {
     "name": "stdout",
     "output_type": "stream",
     "text": [
      "    Area: 12.566370614359172\n"
     ]
    },
    {
     "name": "stdin",
     "output_type": "stream",
     "text": [
      "Radius:  0\n"
     ]
    }
   ],
   "source": [
    "while True:\n",
    "    r = float(input('Radius: '))\n",
    "    if r == 0:\n",
    "        break\n",
    "    try:\n",
    "        print('    Area:', area(r))\n",
    "    except ValueError:\n",
    "        print('    An error occured')"
   ]
  },
  {
   "cell_type": "markdown",
   "metadata": {},
   "source": [
    "- We can also extract the error message an print it"
   ]
  },
  {
   "cell_type": "code",
   "execution_count": 34,
   "metadata": {},
   "outputs": [
    {
     "name": "stdin",
     "output_type": "stream",
     "text": [
      "Radius:  -5\n"
     ]
    },
    {
     "name": "stdout",
     "output_type": "stream",
     "text": [
      "Circle radius must be positive.\n"
     ]
    },
    {
     "name": "stdin",
     "output_type": "stream",
     "text": [
      "Radius:  2\n"
     ]
    },
    {
     "name": "stdout",
     "output_type": "stream",
     "text": [
      "    Area: 12.566370614359172\n"
     ]
    },
    {
     "name": "stdin",
     "output_type": "stream",
     "text": [
      "Radius:  0\n"
     ]
    }
   ],
   "source": [
    "while True:\n",
    "    r = float(input('Radius: '))\n",
    "    if r == 0:\n",
    "        break\n",
    "    try:\n",
    "        print('    Area:', area(r))\n",
    "    except ValueError as err:\n",
    "        print(err)"
   ]
  },
  {
   "cell_type": "markdown",
   "metadata": {},
   "source": [
    "- Or even nicer for the user"
   ]
  },
  {
   "cell_type": "code",
   "execution_count": 35,
   "metadata": {},
   "outputs": [
    {
     "name": "stdin",
     "output_type": "stream",
     "text": [
      "Radius:  -2\n"
     ]
    },
    {
     "name": "stdout",
     "output_type": "stream",
     "text": [
      "    ERROR: Circle radius must be positive.\n",
      "    Please try again!\n"
     ]
    },
    {
     "name": "stdin",
     "output_type": "stream",
     "text": [
      "Radius:  1\n"
     ]
    },
    {
     "name": "stdout",
     "output_type": "stream",
     "text": [
      "    Area: 3.141592653589793\n"
     ]
    },
    {
     "name": "stdin",
     "output_type": "stream",
     "text": [
      "Radius:  0\n"
     ]
    }
   ],
   "source": [
    "while True:\n",
    "    r = float(input('Radius: '))\n",
    "    if r == 0:\n",
    "        break\n",
    "    try:\n",
    "        print('    Area:', area(r))\n",
    "    except ValueError as err:\n",
    "        print('    ERROR: {}\\n    Please try again!'.format(err))"
   ]
  },
  {
   "cell_type": "markdown",
   "metadata": {},
   "source": [
    "### Exceptions as part of normal programming (Python style)\n",
    "\n",
    "- In certain cases, we can use exceptions to choose action\n",
    "- First try something, then something else\n",
    "- Consider a string containing numbers\n",
    "\n",
    "        2 3.4 12.8 72\n",
    "        \n",
    "- Converting this directly into numbers would force us to make all floats"
   ]
  },
  {
   "cell_type": "code",
   "execution_count": 36,
   "metadata": {},
   "outputs": [
    {
     "data": {
      "text/plain": [
       "[2.0, 3.4, 12.8, 72.0]"
      ]
     },
     "execution_count": 36,
     "metadata": {},
     "output_type": "execute_result"
    }
   ],
   "source": [
    "s = \"2 3.4 12.8 72\"\n",
    "[float(num) for num in s.split()]"
   ]
  },
  {
   "cell_type": "markdown",
   "metadata": {},
   "source": [
    "- We can try to convert to `int` first and only convert to `float` if that fails"
   ]
  },
  {
   "cell_type": "code",
   "execution_count": 37,
   "metadata": {},
   "outputs": [
    {
     "data": {
      "text/plain": [
       "[2, 3.4, 12.8, 72]"
      ]
     },
     "execution_count": 37,
     "metadata": {},
     "output_type": "execute_result"
    }
   ],
   "source": [
    "def float_or_int(s):\n",
    "    try:\n",
    "        return int(s)\n",
    "    except ValueError:\n",
    "        return float(s)\n",
    "\n",
    "[float_or_int(num) for num in s.split()] "
   ]
  },
  {
   "cell_type": "markdown",
   "metadata": {},
   "source": [
    "-------\n",
    "\n",
    "## Testing Python code\n",
    "\n",
    "- Systematic testing is essential part of quality control\n",
    "- Do not trust code that comes without tests!\n",
    "- But: passings tests are no guarantee that everything is correct\n",
    "    - Tests might not cover all code\n",
    "    - Tests may not cover all possible situations\n",
    "    - Tests may pass for the wrong reasons\n",
    "- Different levels of testing\n",
    "    - Unit tests: test \"units\", i.e., functions and methods\n",
    "    - Integration tests: test larger parts, e.g., modules or packages\n",
    "    - Acceptance tests: tests by client required for accepting delivery, test the entire system against client use-cases\n",
    "    - Regression tests: test detecting bugs in earlier versions, kept to avoid falling back to old mistakes"
   ]
  },
  {
   "cell_type": "markdown",
   "metadata": {},
   "source": [
    "### Agile software development\n",
    "\n",
    "- [Agile software development](https://en.wikipedia.org/wiki/Agile_software_development) is a modern (2001-) set of software development methods\n",
    "- Focus on quick delivery, frequent updates, and flexibility, while maintaining quality\n",
    "- Strong focus on testing\n",
    "- [Test-driven development](https://en.wikipedia.org/wiki/Test-driven_development) is part of Agile\n",
    "    - Write tests first, otherwise you'll write them never\n",
    "    - Writing tests for working code often results in weak tests\n",
    "    - Therefore\n",
    "        1. Write test\n",
    "        1. Write code only when a test fails\n",
    "        1. Write code until tests passes (and no more)\n",
    "        1. Review and refactor code without breaking tests\n",
    "        1. Go back to 1\n",
    "    - Important: Always run all tests after code changes\n",
    "- Advantages\n",
    "    - We can be much more confident in our code\n",
    "    - We can make changes, big and small, and immediately check that the code still works correctly"
   ]
  },
  {
   "cell_type": "markdown",
   "metadata": {},
   "source": [
    "### Tools for testing\n",
    "\n",
    "- Systems for automatically running tests on changes or commits\n",
    "    - often known as [continuous integration](https://en.wikipedia.org/wiki/Continuous_integration)\n",
    "    tools\n",
    "    - \"watch\" VCS repository and run tests on each commit or push\n",
    "    - notify developers in case of trouble\n",
    "    - can be combined with code-review platforms\n",
    "    - GitLab Pipelines (more later), [Jenkins](http://jenkins-ci.org), [GitHub & Travis](http://docs.travis-ci.com/user/getting-started/), [Bitbucket Bamboo](https://www.atlassian.com/software/bamboo)"
   ]
  },
  {
   "cell_type": "markdown",
   "metadata": {},
   "source": [
    "### Writing tests\n",
    "\n",
    "There are several tools (frameworks) for writing and running tests in Python\n",
    "\n",
    "- [unittest](https://docs.python.org/2/library/unittest.html)\n",
    "    - advantage: part of standard Python\n",
    "    - disadvantage: no automated test discovery\n",
    "- [nosetest](https://nose.readthedocs.org/en/latest/testing.html)\n",
    "    - advantage: automated test discovery\n",
    "    - disadvantage: no longer actively maintained (nor is nosetest2)\n",
    "- [pytest](https://docs.pytest.org/en/latest/index.html)\n",
    "    - automated test discovery\n",
    "    - easy coding style\n",
    "    - actively developed\n",
    "    - powerful advanced features\n",
    "- We will use pytest "
   ]
  },
  {
   "cell_type": "markdown",
   "metadata": {},
   "source": [
    "### pytest basics\n",
    "\n",
    "- pytest finds tests automatically\n",
    "- Any file named `test_*.py` or `*_test.py` will be considered a collection of tests\n",
    "- In such files\n",
    "    - any function called `test_*`\n",
    "    - any method called `test_*` in a class called `Test*`\n",
    "  will be run as tests\n",
    "- See [pytest documentation](https://docs.pytest.org/en/latest/goodpractices.html) for more on test discovery\n",
    "- A test *passes* if it does not throw an exception\n",
    "- In pytest, all checks are implemented as `assert`\n",
    "- Module `pynest` provides useful tools\n",
    "\n",
    "### Tests and randomness\n",
    "\n",
    "Tests including random numbers introduce particular problems; we leave those for later."
   ]
  },
  {
   "cell_type": "markdown",
   "metadata": {},
   "source": [
    "### A Pytest example\n",
    "\n",
    "#### Preparations\n",
    "\n",
    "- We will create some files in which we will store our test code\n",
    "- We create a separate directory for those, removing it if it should exist"
   ]
  },
  {
   "cell_type": "code",
   "execution_count": 38,
   "metadata": {},
   "outputs": [],
   "source": [
    "%rm -rf tests\n",
    "%mkdir -p tests"
   ]
  },
  {
   "cell_type": "markdown",
   "metadata": {},
   "source": [
    "- We then use the `%%writefile` magic to write our test file.\n",
    "- The first test includes the code that it tests.\n",
    "- The second test is deliberately incorrect to show what happens when a test fails."
   ]
  },
  {
   "cell_type": "code",
   "execution_count": 39,
   "metadata": {},
   "outputs": [
    {
     "name": "stdout",
     "output_type": "stream",
     "text": [
      "Writing tests/test_example.py\n"
     ]
    }
   ],
   "source": [
    "%%writefile tests/test_example.py\n",
    "\n",
    "def square(x):\n",
    "    return x * x\n",
    "\n",
    "def test_square_1():\n",
    "    assert square(1) == 1\n",
    "    \n",
    "def test_square_2():\n",
    "    assert square(2) == 3"
   ]
  },
  {
   "cell_type": "markdown",
   "metadata": {},
   "source": [
    "#### Running the tests\n",
    "\n",
    "- We run the test by executing the `pytest` program\n",
    "- Several alternatives\n",
    "    - `pytest` searches for tests in our current working directory and all subdirectories\n",
    "    - `pytest tests` searches for tests in directory `tests`\n",
    "    - `pytest tests/text_example.py` searches for tests in `test/text_example.py`\n",
    "- If working on macOS or Linux, one could run all the example below like this in notebook cells:\n",
    "    ```shell\n",
    "    !pytest tests/test_example.py\n",
    "    ```\n",
    "    as if one would run them from the Terminal.\n",
    "- To ensure that the examples work also under Windows, we run PyTest here from inside Python; this is not the usual way of running tests."
   ]
  },
  {
   "cell_type": "code",
   "execution_count": 46,
   "metadata": {},
   "outputs": [],
   "source": [
    "import pytest"
   ]
  },
  {
   "cell_type": "code",
   "execution_count": 47,
   "metadata": {},
   "outputs": [
    {
     "name": "stdout",
     "output_type": "stream",
     "text": [
      "============================= test session starts ==============================\n",
      "platform darwin -- Python 3.8.12, pytest-6.2.4, py-1.10.0, pluggy-0.13.1\n",
      "Using --randomly-seed=2938801928\n",
      "rootdir: /Users/plesser/Courses/INF200/H2021/inf200-course-materials/lectures/l09\n",
      "plugins: cov-2.12.1, randomly-3.10.1, anyio-2.2.0, xdist-2.3.0, mock-3.6.1, timeout-1.4.2, forked-1.3.0\n",
      "collected 2 items\n",
      "\n",
      "tests/test_example.py F.                                                 [100%]\n",
      "\n",
      "=================================== FAILURES ===================================\n",
      "________________________________ test_square_2 _________________________________\n",
      "\n",
      "    def test_square_2():\n",
      ">       assert square(2) == 3\n",
      "E       assert 4 == 3\n",
      "E        +  where 4 = square(2)\n",
      "\n",
      "tests/test_example.py:9: AssertionError\n",
      "=========================== short test summary info ============================\n",
      "FAILED tests/test_example.py::test_square_2 - assert 4 == 3\n",
      "========================= 1 failed, 1 passed in 0.03s ==========================\n"
     ]
    },
    {
     "data": {
      "text/plain": [
       "<ExitCode.TESTS_FAILED: 1>"
      ]
     },
     "execution_count": 47,
     "metadata": {},
     "output_type": "execute_result"
    }
   ],
   "source": [
    "pytest.main(['tests/test_example.py'])"
   ]
  },
  {
   "cell_type": "markdown",
   "metadata": {},
   "source": [
    "- We see that one test failed, one passed\n",
    "- We create a corrected test"
   ]
  },
  {
   "cell_type": "code",
   "execution_count": 49,
   "metadata": {},
   "outputs": [
    {
     "name": "stdout",
     "output_type": "stream",
     "text": [
      "Writing tests/test_example_fixed.py\n"
     ]
    }
   ],
   "source": [
    "%%writefile tests/test_example_fixed.py\n",
    "\n",
    "def square(x):\n",
    "    return x * x\n",
    "\n",
    "def test_square_1():\n",
    "    assert square(1) == 1\n",
    "    \n",
    "def test_square_2():\n",
    "    assert square(2) == 4"
   ]
  },
  {
   "cell_type": "code",
   "execution_count": 50,
   "metadata": {},
   "outputs": [
    {
     "name": "stdout",
     "output_type": "stream",
     "text": [
      "============================= test session starts ==============================\n",
      "platform darwin -- Python 3.8.12, pytest-6.2.4, py-1.10.0, pluggy-0.13.1\n",
      "Using --randomly-seed=2938801928\n",
      "rootdir: /Users/plesser/Courses/INF200/H2021/inf200-course-materials/lectures/l09\n",
      "plugins: cov-2.12.1, randomly-3.10.1, anyio-2.2.0, xdist-2.3.0, mock-3.6.1, timeout-1.4.2, forked-1.3.0\n",
      "collected 2 items\n",
      "\n",
      "tests/test_example_fixed.py ..                                           [100%]\n",
      "\n",
      "============================== 2 passed in 0.03s ===============================\n"
     ]
    },
    {
     "data": {
      "text/plain": [
       "<ExitCode.OK: 0>"
      ]
     },
     "execution_count": 50,
     "metadata": {},
     "output_type": "execute_result"
    }
   ],
   "source": [
    "pytest.main(['tests/test_example_fixed.py'])"
   ]
  },
  {
   "cell_type": "markdown",
   "metadata": {},
   "source": [
    "- Now both tests pass\n",
    "- We can get more information with the `-v` option"
   ]
  },
  {
   "cell_type": "code",
   "execution_count": 51,
   "metadata": {},
   "outputs": [
    {
     "name": "stdout",
     "output_type": "stream",
     "text": [
      "============================= test session starts ==============================\n",
      "platform darwin -- Python 3.8.12, pytest-6.2.4, py-1.10.0, pluggy-0.13.1 -- /Users/plesser/opt/miniconda3/envs/inf200/bin/python\n",
      "cachedir: .pytest_cache\n",
      "Using --randomly-seed=2938801928\n",
      "rootdir: /Users/plesser/Courses/INF200/H2021/inf200-course-materials/lectures/l09\n",
      "plugins: cov-2.12.1, randomly-3.10.1, anyio-2.2.0, xdist-2.3.0, mock-3.6.1, timeout-1.4.2, forked-1.3.0\n",
      "collecting ... collected 2 items\n",
      "\n",
      "tests/test_example_fixed.py::test_square_2 PASSED                        [ 50%]\n",
      "tests/test_example_fixed.py::test_square_1 PASSED                        [100%]\n",
      "\n",
      "============================== 2 passed in 0.02s ===============================\n"
     ]
    },
    {
     "data": {
      "text/plain": [
       "<ExitCode.OK: 0>"
      ]
     },
     "execution_count": 51,
     "metadata": {},
     "output_type": "execute_result"
    }
   ],
   "source": [
    "pytest.main(['-v', 'tests/test_example_fixed.py'])"
   ]
  },
  {
   "cell_type": "markdown",
   "metadata": {},
   "source": [
    "- If we call `pytest` without specifying the test file, it will run all tests (works from command line only)"
   ]
  },
  {
   "cell_type": "code",
   "execution_count": 53,
   "metadata": {},
   "outputs": [
    {
     "name": "stdout",
     "output_type": "stream",
     "text": [
      "\u001b[1m============================= test session starts ==============================\u001b[0m\n",
      "platform darwin -- Python 3.8.12, pytest-6.2.4, py-1.10.0, pluggy-0.13.1 -- /Users/plesser/opt/miniconda3/envs/inf200/bin/python\n",
      "cachedir: .pytest_cache\n",
      "Using --randomly-seed=207339439\n",
      "rootdir: /Users/plesser/Courses/INF200/H2021/inf200-course-materials/lectures/l09\n",
      "plugins: cov-2.12.1, randomly-3.10.1, anyio-2.2.0, xdist-2.3.0, mock-3.6.1, timeout-1.4.2, forked-1.3.0\n",
      "collected 4 items                                                              \u001b[0m\n",
      "\n",
      "tests/test_example.py::test_square_2 \u001b[31mFAILED\u001b[0m\u001b[31m                              [ 25%]\u001b[0m\n",
      "tests/test_example.py::test_square_1 \u001b[32mPASSED\u001b[0m\u001b[31m                              [ 50%]\u001b[0m\n",
      "tests/test_example_fixed.py::test_square_2 \u001b[32mPASSED\u001b[0m\u001b[31m                        [ 75%]\u001b[0m\n",
      "tests/test_example_fixed.py::test_square_1 \u001b[32mPASSED\u001b[0m\u001b[31m                        [100%]\u001b[0m\n",
      "\n",
      "=================================== FAILURES ===================================\n",
      "\u001b[31m\u001b[1m________________________________ test_square_2 _________________________________\u001b[0m\n",
      "\n",
      "    \u001b[94mdef\u001b[39;49;00m \u001b[92mtest_square_2\u001b[39;49;00m():\n",
      ">       \u001b[94massert\u001b[39;49;00m square(\u001b[94m2\u001b[39;49;00m) == \u001b[94m3\u001b[39;49;00m\n",
      "\u001b[1m\u001b[31mE       assert 4 == 3\u001b[0m\n",
      "\u001b[1m\u001b[31mE         +4\u001b[0m\n",
      "\u001b[1m\u001b[31mE         -3\u001b[0m\n",
      "\n",
      "\u001b[1m\u001b[31mtests/test_example.py\u001b[0m:9: AssertionError\n",
      "=========================== short test summary info ============================\n",
      "FAILED tests/test_example.py::test_square_2 - assert 4 == 3\n",
      "\u001b[31m========================= \u001b[31m\u001b[1m1 failed\u001b[0m, \u001b[32m3 passed\u001b[0m\u001b[31m in 0.18s\u001b[0m\u001b[31m ==========================\u001b[0m\n"
     ]
    }
   ],
   "source": [
    "!pytest -v"
   ]
  },
  {
   "cell_type": "markdown",
   "metadata": {},
   "source": [
    "### Testing for exceptions\n",
    "\n",
    "- In some cases, we want to test that a function raises an exception\n",
    "- In Pytest, with can do this with the help of a *context*\n",
    "- In the following example, argument 0 should raise `ValueError`"
   ]
  },
  {
   "cell_type": "code",
   "execution_count": 54,
   "metadata": {},
   "outputs": [
    {
     "name": "stdout",
     "output_type": "stream",
     "text": [
      "Writing tests/test_division.py\n"
     ]
    }
   ],
   "source": [
    "%%writefile tests/test_division.py\n",
    "\n",
    "import pytest\n",
    "\n",
    "def inv(x):\n",
    "    if x == 0:\n",
    "        raise ValueError\n",
    "    return 1 / x\n",
    "\n",
    "def test_inv_raises():\n",
    "    with pytest.raises(ValueError):\n",
    "        inv(0)"
   ]
  },
  {
   "cell_type": "code",
   "execution_count": 55,
   "metadata": {},
   "outputs": [
    {
     "name": "stdout",
     "output_type": "stream",
     "text": [
      "============================= test session starts ==============================\n",
      "platform darwin -- Python 3.8.12, pytest-6.2.4, py-1.10.0, pluggy-0.13.1\n",
      "Using --randomly-seed=2938801928\n",
      "rootdir: /Users/plesser/Courses/INF200/H2021/inf200-course-materials/lectures/l09\n",
      "plugins: cov-2.12.1, randomly-3.10.1, anyio-2.2.0, xdist-2.3.0, mock-3.6.1, timeout-1.4.2, forked-1.3.0\n",
      "collected 1 item\n",
      "\n",
      "tests/test_division.py .                                                 [100%]\n",
      "\n",
      "============================== 1 passed in 0.03s ===============================\n"
     ]
    },
    {
     "data": {
      "text/plain": [
       "<ExitCode.OK: 0>"
      ]
     },
     "execution_count": 55,
     "metadata": {},
     "output_type": "execute_result"
    }
   ],
   "source": [
    "pytest.main(['tests/test_division.py'])"
   ]
  },
  {
   "cell_type": "markdown",
   "metadata": {},
   "source": [
    "### Pytest in PyCharm\n",
    "\n",
    "#### Running py.tests in PyCharm\n",
    "\n",
    "1. go to `Run > Edit configurations ...`\n",
    "1. click `+` in top-left corner\n",
    "1. choose `Python tests > py.test`\n",
    "1. give the test run configuration a name, e.g. `Test sorting`\n",
    "1. select `Script path`, browse \n",
    "    - to folder with your tests if you want to run tests from all test files\n",
    "    - to specific test file if you only want to run tests from one file\n",
    "1. optionally add `-v` as `Additional Arguments`\n",
    "1. click `OK`\n",
    "1. you can now run the tests with the `Run` button\n",
    "1. with the \"Toggle auto tests\" icon, you can make tests run on any change\n",
    "\n",
    "#### Testing coverage\n",
    "\n",
    "- It is important to know how much code is actually tested\n",
    "- This is called *test coverage*\n",
    "- Complete coverage can be difficult to achieve in complex programs\n",
    "- Even complete coverage does not guarantee absence of errors\n",
    "- In PyCharm\n",
    "    1. You may need to go to Preferences/Settings and\n",
    "        1. go to `Build, Execution, Deployment > Coverage`\n",
    "        1. check off for \"Activate Coverage View\"\n",
    "        1. check off for \"Use bundled coverage.py\"\n",
    "    1. from the `Run` menu, choose `Run 'Test sorting' with Coverage`"
   ]
  },
  {
   "cell_type": "markdown",
   "metadata": {},
   "source": [
    "--------\n",
    "\n",
    "# Some advanced Python concepts\n",
    "\n",
    "---------------\n",
    "\n",
    "## Factories and closures\n",
    "\n",
    "### Factory\n",
    "\n",
    "- A function producing other functions (or classes, or objects)"
   ]
  },
  {
   "cell_type": "code",
   "execution_count": 56,
   "metadata": {},
   "outputs": [
    {
     "name": "stdout",
     "output_type": "stream",
     "text": [
      "4 10 aa\n",
      "6 15 aaa\n"
     ]
    }
   ],
   "source": [
    "def make_multiplier(factor):\n",
    "    \n",
    "    def multiplier(n):\n",
    "        return factor * n\n",
    "    \n",
    "    return multiplier\n",
    "\n",
    "doubler = make_multiplier(2)\n",
    "tripler = make_multiplier(3)\n",
    "\n",
    "factor = 10\n",
    "\n",
    "print(doubler(2), doubler(5), doubler('a'))\n",
    "print(tripler(2), tripler(5), tripler('a'))"
   ]
  },
  {
   "cell_type": "markdown",
   "metadata": {},
   "source": [
    "- Function `multiplier(n)` is defined *inside* `make_multiplier`\n",
    "- The variable `factor` inside `multiplier(n)` is bound *when the function definition is executed*\n",
    "- Therefore, we get `multiplier` functions with different values of `factor`\n",
    "- Shows up in function representation as `<locals>` dictionary\n",
    "    - local variables in factory class at time when `multiplier` was defined"
   ]
  },
  {
   "cell_type": "code",
   "execution_count": 57,
   "metadata": {},
   "outputs": [
    {
     "data": {
      "text/plain": [
       "<function __main__.make_multiplier.<locals>.multiplier(n)>"
      ]
     },
     "execution_count": 57,
     "metadata": {},
     "output_type": "execute_result"
    }
   ],
   "source": [
    "doubler"
   ]
  },
  {
   "cell_type": "markdown",
   "metadata": {},
   "source": [
    "### Closure\n",
    "- Here, `__main__.multiplier_factory.<locals>.multiplier` forms a *closure*\n",
    "- `<locals>` stores variables bound in the environment in which `multiplier` was defined\n",
    "- Generally: A closure binds free variables in a function to the value to which the name was bound when the function was defined, i.e., when the closure was created\n",
    "- See also <a href=\"https://en.wikipedia.org/wiki/Closure_(computer_programming)\">Wikipedia article on Closure</a>\n",
    "\n",
    "#### Example\n",
    "\n",
    "##### Function with free variable without closure\n",
    "\n",
    "- Note: in the definition below, `foo` is not bound, it is a *free* variable"
   ]
  },
  {
   "cell_type": "code",
   "execution_count": 58,
   "metadata": {},
   "outputs": [],
   "source": [
    "def f_open(x):\n",
    "    return foo * x"
   ]
  },
  {
   "cell_type": "markdown",
   "metadata": {},
   "source": [
    "- We cannot use `f_open()` unless `foo` is defined somewhere\n",
    "- When executed, it will use the most local `foo` value available\n",
    "- Can lead to difficult to predict results"
   ]
  },
  {
   "cell_type": "code",
   "execution_count": 59,
   "metadata": {},
   "outputs": [
    {
     "ename": "NameError",
     "evalue": "name 'foo' is not defined",
     "output_type": "error",
     "traceback": [
      "\u001b[0;31m---------------------------------------------------------------------------\u001b[0m",
      "\u001b[0;31mNameError\u001b[0m                                 Traceback (most recent call last)",
      "\u001b[0;32m/var/folders/j5/971zg6qd58n070p_ds781hzm0000gn/T/ipykernel_11249/792917407.py\u001b[0m in \u001b[0;36m<module>\u001b[0;34m\u001b[0m\n\u001b[0;32m----> 1\u001b[0;31m \u001b[0mf_open\u001b[0m\u001b[0;34m(\u001b[0m\u001b[0;36m10\u001b[0m\u001b[0;34m)\u001b[0m\u001b[0;34m\u001b[0m\u001b[0;34m\u001b[0m\u001b[0m\n\u001b[0m",
      "\u001b[0;32m/var/folders/j5/971zg6qd58n070p_ds781hzm0000gn/T/ipykernel_11249/724408251.py\u001b[0m in \u001b[0;36mf_open\u001b[0;34m(x)\u001b[0m\n\u001b[1;32m      1\u001b[0m \u001b[0;32mdef\u001b[0m \u001b[0mf_open\u001b[0m\u001b[0;34m(\u001b[0m\u001b[0mx\u001b[0m\u001b[0;34m)\u001b[0m\u001b[0;34m:\u001b[0m\u001b[0;34m\u001b[0m\u001b[0;34m\u001b[0m\u001b[0m\n\u001b[0;32m----> 2\u001b[0;31m     \u001b[0;32mreturn\u001b[0m \u001b[0mfoo\u001b[0m \u001b[0;34m*\u001b[0m \u001b[0mx\u001b[0m\u001b[0;34m\u001b[0m\u001b[0;34m\u001b[0m\u001b[0m\n\u001b[0m",
      "\u001b[0;31mNameError\u001b[0m: name 'foo' is not defined"
     ]
    }
   ],
   "source": [
    "f_open(10)"
   ]
  },
  {
   "cell_type": "code",
   "execution_count": 60,
   "metadata": {},
   "outputs": [
    {
     "data": {
      "text/plain": [
       "50"
      ]
     },
     "execution_count": 60,
     "metadata": {},
     "output_type": "execute_result"
    }
   ],
   "source": [
    "foo = 5\n",
    "f_open(10)"
   ]
  },
  {
   "cell_type": "code",
   "execution_count": 61,
   "metadata": {},
   "outputs": [
    {
     "data": {
      "text/plain": [
       "21"
      ]
     },
     "execution_count": 61,
     "metadata": {},
     "output_type": "execute_result"
    }
   ],
   "source": [
    "def g(y):\n",
    "    foo = 100\n",
    "    return f_open(y)\n",
    "\n",
    "foo = 7\n",
    "g(3)"
   ]
  },
  {
   "cell_type": "markdown",
   "metadata": {},
   "source": [
    "- Why does `foo = 7` apply from global namespace, not `foo = 100` from local namespace in `g()`?\n",
    "- Python (and many other programming languages) use <a href=\"https://en.wikipedia.org/wiki/Scope_(computer_science)#Lexical_scoping\">*lexical scoping*</a>: name lookup is determined by where a function is *defined* in the program text, not where it is used\n",
    "- In this example:\n",
    "    - `f_open()` is defined at the module (notebook) level\n",
    "    - therefore, any name not in the local namespace is looked up in the global namespace\n",
    "        \n",
    "##### Function with free variable with closure\n",
    "\n",
    "- In definition below, `foo` is free in `f_func` itself\n",
    "- By defining `f_func` inside another function, here `f_factory`, `foo` in `f_func` is bound to the `foo` argument of `f_factory` forming a closure"
   ]
  },
  {
   "cell_type": "code",
   "execution_count": 62,
   "metadata": {},
   "outputs": [
    {
     "data": {
      "text/plain": [
       "(27, 72)"
      ]
     },
     "execution_count": 62,
     "metadata": {},
     "output_type": "execute_result"
    }
   ],
   "source": [
    "def f_factory(foo):\n",
    "    def f_func(x):\n",
    "        return foo * x\n",
    "    return f_func\n",
    "\n",
    "f3 = f_factory(3)\n",
    "f8 = f_factory(8)\n",
    "\n",
    "f3(9), f8(9)"
   ]
  },
  {
   "cell_type": "markdown",
   "metadata": {},
   "source": [
    "[Code in Pythontutor](https://pythontutor.com/visualize.html#code=def%20f_factory%28foo%29%3A%0A%20%20%20%20def%20f_func%28x%29%3A%0A%20%20%20%20%20%20%20%20return%20foo%20*%20x%0A%20%20%20%20return%20f_func%0A%0Af3%20%3D%20f_factory%283%29%0Af8%20%3D%20f_factory%288%29%0Aprint%28f3%289%29,%20f8%289%29%29%0A&cumulative=false&curInstr=18&heapPrimitives=nevernest&mode=display&origin=opt-frontend.js&py=3&rawInputLstJSON=%5B%5D&textReferences=false)"
   ]
  },
  {
   "cell_type": "markdown",
   "metadata": {},
   "source": [
    "--------------------\n",
    "\n",
    "## Decorators and Memoization\n",
    "\n",
    "- Often useful to equip classes, functions or methods with extra functionality\n",
    "- Can be wrapped around methods or functions\n",
    "- Example: print state if debug mode is active\n",
    "- [Fibonacci numbers](https://en.wikipedia.org/wiki/Fibonacci_number)\n",
    "$$F_n = F_{n-1}+F_{n-2}\\;, F_1 = 1,\\; F_2 = 1$$"
   ]
  },
  {
   "cell_type": "code",
   "execution_count": 63,
   "metadata": {},
   "outputs": [],
   "source": [
    "def fib(n):\n",
    "    if n < 2:\n",
    "        return 1\n",
    "    else:\n",
    "        return fib(n-1) + fib(n-2)"
   ]
  },
  {
   "cell_type": "code",
   "execution_count": 64,
   "metadata": {},
   "outputs": [
    {
     "data": {
      "text/plain": [
       "8"
      ]
     },
     "execution_count": 64,
     "metadata": {},
     "output_type": "execute_result"
    }
   ],
   "source": [
    "fib(5)"
   ]
  },
  {
   "cell_type": "markdown",
   "metadata": {},
   "source": [
    "- Would like to see recursive calls\n",
    "- Do not want to insert print statements into code\n",
    "- Wrap printing around functions!"
   ]
  },
  {
   "cell_type": "code",
   "execution_count": 65,
   "metadata": {},
   "outputs": [],
   "source": [
    "def show_args(*args, **kwargs):\n",
    "    print(args)\n",
    "    print(kwargs)"
   ]
  },
  {
   "cell_type": "code",
   "execution_count": 66,
   "metadata": {},
   "outputs": [
    {
     "name": "stdout",
     "output_type": "stream",
     "text": [
      "(5,)\n",
      "{}\n"
     ]
    }
   ],
   "source": [
    "show_args(5)"
   ]
  },
  {
   "cell_type": "code",
   "execution_count": 67,
   "metadata": {},
   "outputs": [
    {
     "name": "stdout",
     "output_type": "stream",
     "text": [
      "(5, 6, 'a')\n",
      "{'foo': 25, 't': 10}\n"
     ]
    }
   ],
   "source": [
    "show_args(5, 6, 'a', foo=25, t=10)"
   ]
  },
  {
   "cell_type": "code",
   "execution_count": 68,
   "metadata": {},
   "outputs": [],
   "source": [
    "def show_steps(func):\n",
    "    \n",
    "    def wrapped_func(*args, **kwargs):\n",
    "\n",
    "        print('Args:', *args, kwargs)\n",
    "\n",
    "        res = func(*args, **kwargs)\n",
    "\n",
    "        print('Res :', res)\n",
    "\n",
    "        return res\n",
    "    \n",
    "    return wrapped_func"
   ]
  },
  {
   "cell_type": "code",
   "execution_count": 69,
   "metadata": {},
   "outputs": [],
   "source": [
    "fib = show_steps(fib)"
   ]
  },
  {
   "cell_type": "code",
   "execution_count": 70,
   "metadata": {},
   "outputs": [
    {
     "name": "stdout",
     "output_type": "stream",
     "text": [
      "Args: 3 {}\n",
      "Args: 2 {}\n",
      "Args: 1 {}\n",
      "Res : 1\n",
      "Args: 0 {}\n",
      "Res : 1\n",
      "Res : 2\n",
      "Args: 1 {}\n",
      "Res : 1\n",
      "Res : 3\n"
     ]
    },
    {
     "data": {
      "text/plain": [
       "3"
      ]
     },
     "execution_count": 70,
     "metadata": {},
     "output_type": "execute_result"
    }
   ],
   "source": [
    "fib(3)"
   ]
  },
  {
   "cell_type": "markdown",
   "metadata": {},
   "source": [
    "- Tidier: Use decorator notation"
   ]
  },
  {
   "cell_type": "code",
   "execution_count": 71,
   "metadata": {},
   "outputs": [],
   "source": [
    "@show_steps\n",
    "def fib(n):\n",
    "    if n < 2:\n",
    "        return 1\n",
    "    else:\n",
    "        return fib(n-1) + fib(n-2)\n",
    "\n",
    "@show_steps\n",
    "def fac(n):\n",
    "    if n < 2:\n",
    "        return 1\n",
    "    else:\n",
    "        return n * fac(n-1)"
   ]
  },
  {
   "cell_type": "code",
   "execution_count": 72,
   "metadata": {},
   "outputs": [
    {
     "name": "stdout",
     "output_type": "stream",
     "text": [
      "Args: 3 {}\n",
      "Args: 2 {}\n",
      "Args: 1 {}\n",
      "Res : 1\n",
      "Args: 0 {}\n",
      "Res : 1\n",
      "Res : 2\n",
      "Args: 1 {}\n",
      "Res : 1\n",
      "Res : 3\n"
     ]
    },
    {
     "data": {
      "text/plain": [
       "3"
      ]
     },
     "execution_count": 72,
     "metadata": {},
     "output_type": "execute_result"
    }
   ],
   "source": [
    "fib(3)"
   ]
  },
  {
   "cell_type": "code",
   "execution_count": 73,
   "metadata": {},
   "outputs": [
    {
     "name": "stdout",
     "output_type": "stream",
     "text": [
      "Args: 5 {}\n",
      "Args: 4 {}\n",
      "Args: 3 {}\n",
      "Args: 2 {}\n",
      "Args: 1 {}\n",
      "Res : 1\n",
      "Args: 0 {}\n",
      "Res : 1\n",
      "Res : 2\n",
      "Args: 1 {}\n",
      "Res : 1\n",
      "Res : 3\n",
      "Args: 2 {}\n",
      "Args: 1 {}\n",
      "Res : 1\n",
      "Args: 0 {}\n",
      "Res : 1\n",
      "Res : 2\n",
      "Res : 5\n",
      "Args: 3 {}\n",
      "Args: 2 {}\n",
      "Args: 1 {}\n",
      "Res : 1\n",
      "Args: 0 {}\n",
      "Res : 1\n",
      "Res : 2\n",
      "Args: 1 {}\n",
      "Res : 1\n",
      "Res : 3\n",
      "Res : 8\n"
     ]
    },
    {
     "data": {
      "text/plain": [
       "8"
      ]
     },
     "execution_count": 73,
     "metadata": {},
     "output_type": "execute_result"
    }
   ],
   "source": [
    "fib(5)"
   ]
  },
  {
   "cell_type": "markdown",
   "metadata": {},
   "source": [
    "### Application: Memoize functions\n",
    "\n",
    "- `fib()` for large arguments means many repeated calls with same argument\n",
    "- Eliminate by storing values we have seen before\n",
    "- Called *memoization*\n",
    "- Can be implemented using closure\n",
    "\n",
    "#### \"Manual\" implementation"
   ]
  },
  {
   "cell_type": "code",
   "execution_count": 74,
   "metadata": {},
   "outputs": [],
   "source": [
    "def memoize(func):\n",
    "    _memo = {}\n",
    "\n",
    "    def wrapped(arg):\n",
    "        if arg not in _memo:\n",
    "            _memo[arg] = func(arg)\n",
    "        return _memo[arg]\n",
    "    \n",
    "    return wrapped"
   ]
  },
  {
   "cell_type": "markdown",
   "metadata": {},
   "source": [
    "**NOTE: Cells below must be executed in order!**\n",
    "\n",
    "##### Original function, not memoized"
   ]
  },
  {
   "cell_type": "code",
   "execution_count": 75,
   "metadata": {},
   "outputs": [],
   "source": [
    "def memo_fib(n):\n",
    "    if n < 2:\n",
    "        return 1\n",
    "    else:\n",
    "        return memo_fib(n-1) + memo_fib(n-2)"
   ]
  },
  {
   "cell_type": "code",
   "execution_count": 76,
   "metadata": {},
   "outputs": [
    {
     "data": {
      "text/plain": [
       "<function __main__.memo_fib(n)>"
      ]
     },
     "execution_count": 76,
     "metadata": {},
     "output_type": "execute_result"
    }
   ],
   "source": [
    "memo_fib"
   ]
  },
  {
   "cell_type": "markdown",
   "metadata": {},
   "source": [
    "##### Wrap function with memoize, obtain a closure\n",
    "\n",
    "- Note that we must assign to same name again because of recursion!"
   ]
  },
  {
   "cell_type": "code",
   "execution_count": 77,
   "metadata": {},
   "outputs": [],
   "source": [
    "memo_fib = memoize(memo_fib)"
   ]
  },
  {
   "cell_type": "code",
   "execution_count": 78,
   "metadata": {},
   "outputs": [
    {
     "data": {
      "text/plain": [
       "<function __main__.memoize.<locals>.wrapped(arg)>"
      ]
     },
     "execution_count": 78,
     "metadata": {},
     "output_type": "execute_result"
    }
   ],
   "source": [
    "memo_fib"
   ]
  },
  {
   "cell_type": "markdown",
   "metadata": {},
   "source": [
    "##### Test on slightly larger n"
   ]
  },
  {
   "cell_type": "code",
   "execution_count": 79,
   "metadata": {},
   "outputs": [
    {
     "data": {
      "text/plain": [
       "14930352"
      ]
     },
     "execution_count": 79,
     "metadata": {},
     "output_type": "execute_result"
    }
   ],
   "source": [
    "memo_fib(35)"
   ]
  },
  {
   "cell_type": "code",
   "execution_count": 80,
   "metadata": {},
   "outputs": [
    {
     "data": {
      "text/plain": [
       "573147844013817084101"
      ]
     },
     "execution_count": 80,
     "metadata": {},
     "output_type": "execute_result"
    }
   ],
   "source": [
    "memo_fib(100)"
   ]
  },
  {
   "cell_type": "markdown",
   "metadata": {},
   "source": [
    "##### For comparison using a version without memoization"
   ]
  },
  {
   "cell_type": "code",
   "execution_count": 81,
   "metadata": {},
   "outputs": [
    {
     "data": {
      "text/plain": [
       "14930352"
      ]
     },
     "execution_count": 81,
     "metadata": {},
     "output_type": "execute_result"
    }
   ],
   "source": [
    "def plain_fib(n):\n",
    "    if n < 2:\n",
    "        return 1\n",
    "    else:\n",
    "        return plain_fib(n-1) + plain_fib(n-2)\n",
    "\n",
    "plain_fib(35)"
   ]
  },
  {
   "cell_type": "markdown",
   "metadata": {},
   "source": [
    "- Significantly slower!"
   ]
  },
  {
   "cell_type": "markdown",
   "metadata": {},
   "source": [
    "#### The same using memoize as decorator"
   ]
  },
  {
   "cell_type": "code",
   "execution_count": 82,
   "metadata": {},
   "outputs": [],
   "source": [
    "@memoize\n",
    "def fib(n):\n",
    "    if n < 2:\n",
    "        return 1\n",
    "    else:\n",
    "        return fib(n-1) + fib(n-2)"
   ]
  },
  {
   "cell_type": "code",
   "execution_count": 83,
   "metadata": {},
   "outputs": [
    {
     "data": {
      "text/plain": [
       "453973694165307953197296969697410619233826"
      ]
     },
     "execution_count": 83,
     "metadata": {},
     "output_type": "execute_result"
    }
   ],
   "source": [
    "fib(200)"
   ]
  },
  {
   "cell_type": "markdown",
   "metadata": {},
   "source": [
    "- Shorter code\n",
    "- No risk of unexpected results if cells are evaluated out-of-order (in Notebook)"
   ]
  },
  {
   "cell_type": "markdown",
   "metadata": {},
   "source": [
    "## Properties\n",
    "\n",
    "- OO Idea 2: Hide implementation details\n",
    "- E.g., two different `Vector` implementations\n",
    "\n",
    "```Python\n",
    "class V:\n",
    "    def __init__(self, x, y):\n",
    "        self._x, self._y = x, y\n",
    "    \n",
    "class W:\n",
    "    def __init__(self, x, y):\n",
    "        self._c = [x, y]\n",
    "```\n",
    "\n",
    "- Problem\n",
    "    - need accessor methods for coordinates\n",
    "    - clumsy to use\n",
    "\n",
    "```Python\n",
    "    def getX(self): return self._x\n",
    "    def getY(self): return self._y\n",
    "    ...\n",
    "    print v.getX() + v.getY()\n",
    "```\n",
    "\n",
    "- Solution: *Properties*\n",
    "- Make accessor methods easily available\n",
    "- In practice: \n",
    "    - define accessor methods\n",
    "    - add methods as property to class using the Python `property()` function\n",
    "- We only look at properties getting information\n",
    "    - such read-only properties prevent that users change data\n",
    "    - one can also implement properties that can be set\n",
    "    - see [Python documentation for `property()`](https://docs.python.org/3.9/library/functions.html?highlight=property#property)"
   ]
  },
  {
   "cell_type": "code",
   "execution_count": 84,
   "metadata": {},
   "outputs": [
    {
     "name": "stdout",
     "output_type": "stream",
     "text": [
      "1\n",
      "2\n",
      "V(1, 2)\n"
     ]
    }
   ],
   "source": [
    "class V:\n",
    "    def __init__(self, x, y):\n",
    "        self._c = [x, y]\n",
    "    def __repr__(self):\n",
    "        return 'V({}, {})'.format(self.x, self.y)\n",
    "\n",
    "    def getX(self): return self._c[0]\n",
    "    x = property(getX)\n",
    "\n",
    "    def getY(self): return self._c[1]\n",
    "    y = property(getY)\n",
    "\n",
    "v = V(1, 2)\n",
    "print(v.x)\n",
    "print(v.y)\n",
    "print(v)"
   ]
  },
  {
   "cell_type": "code",
   "execution_count": 85,
   "metadata": {},
   "outputs": [
    {
     "ename": "AttributeError",
     "evalue": "can't set attribute",
     "output_type": "error",
     "traceback": [
      "\u001b[0;31m---------------------------------------------------------------------------\u001b[0m",
      "\u001b[0;31mAttributeError\u001b[0m                            Traceback (most recent call last)",
      "\u001b[0;32m/var/folders/j5/971zg6qd58n070p_ds781hzm0000gn/T/ipykernel_11249/2524590249.py\u001b[0m in \u001b[0;36m<module>\u001b[0;34m\u001b[0m\n\u001b[0;32m----> 1\u001b[0;31m \u001b[0mv\u001b[0m\u001b[0;34m.\u001b[0m\u001b[0mx\u001b[0m \u001b[0;34m=\u001b[0m \u001b[0;36m10\u001b[0m\u001b[0;34m\u001b[0m\u001b[0;34m\u001b[0m\u001b[0m\n\u001b[0m",
      "\u001b[0;31mAttributeError\u001b[0m: can't set attribute"
     ]
    }
   ],
   "source": [
    "v.x = 10"
   ]
  },
  {
   "cell_type": "markdown",
   "metadata": {},
   "source": [
    "#### Syntactic sugar: The property decorator\n",
    "\n",
    "- *Syntactic sugar*: a way to express things \"more nicely\" without adding a new feature (\"same stuff, nice wrapping\")\n",
    "- *Decorator*\n",
    "    - a special type of function\n",
    "    - name begins with `@`\n",
    "    - modifies the definition following the decorator\n",
    "- `@property` decorator makes it easy to create read-only properties"
   ]
  },
  {
   "cell_type": "code",
   "execution_count": 86,
   "metadata": {},
   "outputs": [
    {
     "name": "stdout",
     "output_type": "stream",
     "text": [
      "1 2\n"
     ]
    }
   ],
   "source": [
    "class V:\n",
    "    def __init__(self, x, y):\n",
    "        self._c = [x, y]\n",
    "    def __repr__(self):\n",
    "        return 'V({}, {})'.format(self.x, self.y)\n",
    "\n",
    "    @property\n",
    "    def x(self): return self._c[0]\n",
    "    \n",
    "    @property\n",
    "    def y(self): return self._c[1]\n",
    "\n",
    "v = V(1, 2)\n",
    "print(v.x, v.y)"
   ]
  },
  {
   "cell_type": "markdown",
   "metadata": {},
   "source": [
    "#### More complex properties\n",
    "\n",
    "- Can also provide values as properties that require more complex operations\n",
    "- Example: polar representation of vector"
   ]
  },
  {
   "cell_type": "code",
   "execution_count": 87,
   "metadata": {},
   "outputs": [
    {
     "name": "stdout",
     "output_type": "stream",
     "text": [
      "5.0 0.6435011087932844\n"
     ]
    }
   ],
   "source": [
    "import math\n",
    "\n",
    "class V:\n",
    "    def __init__(self, x, y):\n",
    "        self._c = [x, y]\n",
    "    def __repr__(self):\n",
    "        return 'V({}, {})'.format(self.x, self.y)\n",
    "\n",
    "    @property\n",
    "    def x(self): return self._c[0]\n",
    "    \n",
    "    @property\n",
    "    def y(self): return self._c[1]\n",
    "    \n",
    "    @property\n",
    "    def r(self): return math.sqrt(self.x**2+self.y**2)\n",
    "    \n",
    "    @property\n",
    "    def phi(self): return math.atan2(self.x, self.y)\n",
    "\n",
    "v = V(3, 4)\n",
    "print(v.r, v.phi)"
   ]
  },
  {
   "cell_type": "markdown",
   "metadata": {},
   "source": [
    "#### Lazy evaluation\n",
    "\n",
    "- Some properties may be expensive to compute\n",
    "- In example above, if `r` or `phi` are used often, calculation repeated over and over again\n",
    "- Could compute in constructor, but that costs if `r` and `phi` are never used\n",
    "- Idea: compute only when needed, then retain\n",
    "- Need to decide on most useful approach depending on use case"
   ]
  },
  {
   "cell_type": "code",
   "execution_count": 88,
   "metadata": {},
   "outputs": [
    {
     "name": "stdout",
     "output_type": "stream",
     "text": [
      "5.0 0.6435011087932844\n"
     ]
    }
   ],
   "source": [
    "class V:\n",
    "    def __init__(self, x, y):\n",
    "        self._c = [x, y]\n",
    "        self._r = None\n",
    "        self._phi = None\n",
    "        \n",
    "    def __repr__(self):\n",
    "        return 'V({}, {})'.format(self.x, self.y)\n",
    "\n",
    "    @property\n",
    "    def x(self): return self._c[0]\n",
    "    \n",
    "    @property\n",
    "    def y(self): return self._c[1]\n",
    "    \n",
    "    @property\n",
    "    def r(self): \n",
    "        if self._r is None:\n",
    "            self._r = math.sqrt(self._c[0]**2+self._c[1]**2)\n",
    "        return self._r\n",
    "    \n",
    "    @property\n",
    "    def phi(self): \n",
    "        if self._phi is None:\n",
    "            self._phi = math.atan2(self._c[0], self._c[1])\n",
    "        return self._phi\n",
    "\n",
    "v = V(3, 4)\n",
    "print(v.r, v.phi)"
   ]
  },
  {
   "cell_type": "markdown",
   "metadata": {},
   "source": [
    "## Iterators and Generators\n",
    "\n",
    "- We commonly have data types containing elements that we access in sequence\n",
    "    - elements of a list, characters of a string, lines in a file, ...\n",
    "- Occasionally, we wan to generate numbers, permutations, etc, in sequence\n",
    "    - Fibonacci numbers, card permutations, ...\n",
    "\n",
    "### Basics\n",
    "\n",
    "#### [Iterable](https://docs.python.org/3/glossary.html#term-iterable)\n",
    "\n",
    "Any object that can be iterated over, i.e., and object that has elements or values that can be accessed in sequence.\n",
    "\n",
    "#### [Iterator](https://docs.python.org/3/glossary.html#term-iterator)\n",
    "\n",
    "An object that represents a stream of data, i.e., a sequence of elements or values.\n",
    "\n",
    "##### Note\n",
    "- In Python, every iterator is also an iterable, but not each iterable is an iterator.\n",
    "- Example:\n",
    "    - Each `list` is an iterable, but not an iterator\n",
    "    - We can have multiple iterators for any given list\n",
    "- See also\n",
    "    - http://nvie.com/posts/iterators-vs-generators\n",
    "    - https://www.python-course.eu/python3_generators.php\n",
    "    - https://docs.python.org/3/howto/functional.html\n",
    "    \n",
    "### Working with iterators\n",
    "\n",
    "- `iter(a)` provides us with an iterator for an iterable `a`\n",
    "- `next(i)` returns the next value from the iterator `i`\n",
    "- `StopIteration` exception is raise when no more values available\n",
    "\n",
    "#### Example"
   ]
  },
  {
   "cell_type": "code",
   "execution_count": 89,
   "metadata": {},
   "outputs": [
    {
     "data": {
      "text/plain": [
       "'Oslo'"
      ]
     },
     "execution_count": 89,
     "metadata": {},
     "output_type": "execute_result"
    }
   ],
   "source": [
    "cities = ['Oslo', 'Bergen', 'Trondheim', 'Tromsø']\n",
    "c_it = iter(cities)\n",
    "next(c_it)"
   ]
  },
  {
   "cell_type": "code",
   "execution_count": 90,
   "metadata": {},
   "outputs": [
    {
     "data": {
      "text/plain": [
       "'Bergen'"
      ]
     },
     "execution_count": 90,
     "metadata": {},
     "output_type": "execute_result"
    }
   ],
   "source": [
    "next(c_it)"
   ]
  },
  {
   "cell_type": "code",
   "execution_count": 91,
   "metadata": {},
   "outputs": [],
   "source": [
    "c_it_2 = iter(cities)"
   ]
  },
  {
   "cell_type": "code",
   "execution_count": 92,
   "metadata": {},
   "outputs": [
    {
     "data": {
      "text/plain": [
       "('Trondheim', 'Oslo')"
      ]
     },
     "execution_count": 92,
     "metadata": {},
     "output_type": "execute_result"
    }
   ],
   "source": [
    "next(c_it), next(c_it_2)"
   ]
  },
  {
   "cell_type": "code",
   "execution_count": 93,
   "metadata": {},
   "outputs": [
    {
     "data": {
      "text/plain": [
       "('Tromsø', 'Bergen')"
      ]
     },
     "execution_count": 93,
     "metadata": {},
     "output_type": "execute_result"
    }
   ],
   "source": [
    "next(c_it), next(c_it_2)"
   ]
  },
  {
   "cell_type": "code",
   "execution_count": 94,
   "metadata": {},
   "outputs": [
    {
     "ename": "StopIteration",
     "evalue": "",
     "output_type": "error",
     "traceback": [
      "\u001b[0;31m---------------------------------------------------------------------------\u001b[0m",
      "\u001b[0;31mStopIteration\u001b[0m                             Traceback (most recent call last)",
      "\u001b[0;32m/var/folders/j5/971zg6qd58n070p_ds781hzm0000gn/T/ipykernel_11249/3307122062.py\u001b[0m in \u001b[0;36m<module>\u001b[0;34m\u001b[0m\n\u001b[0;32m----> 1\u001b[0;31m \u001b[0mnext\u001b[0m\u001b[0;34m(\u001b[0m\u001b[0mc_it\u001b[0m\u001b[0;34m)\u001b[0m\u001b[0;34m\u001b[0m\u001b[0;34m\u001b[0m\u001b[0m\n\u001b[0m",
      "\u001b[0;31mStopIteration\u001b[0m: "
     ]
    }
   ],
   "source": [
    "next(c_it)"
   ]
  },
  {
   "cell_type": "markdown",
   "metadata": {},
   "source": [
    "#### How `for` really works\n",
    "\n",
    "```python\n",
    "for n in [11, 22, 33]:\n",
    "  print(n)\n",
    "```\n",
    "\n",
    "1. calls `iter()` on list `[11, 22, 33]`\n",
    "1. runs `n = next()` on  iterator\n",
    "1. executes loop body\n",
    "1. goto 2\n",
    "1. exits when iterator raises `StopIteration`"
   ]
  },
  {
   "cell_type": "markdown",
   "metadata": {},
   "source": [
    "### Defining an iterator\n",
    "\n",
    "- An iterator is a class\n",
    "- It must provide a `__next__()` method returning items in sequence\n",
    "- It must provide an `__iter__()` method returning itself (iterators are iterables)\n",
    "- NB: iterables provide and `__iter__()` method that returns an interator object\n",
    "\n",
    "#### Example: Fibonacci numbers"
   ]
  },
  {
   "cell_type": "code",
   "execution_count": 95,
   "metadata": {},
   "outputs": [],
   "source": [
    "class FibsIterator:\n",
    "    def __init__(self, maxValue):\n",
    "        self._a, self._b = 0, 1\n",
    "        self.maxValue = maxValue\n",
    "    \n",
    "    def __iter__(self):\n",
    "        return self\n",
    "    \n",
    "    def __next__(self):\n",
    "        self._a, self._b = self._b, self._a + self._b\n",
    "        if self._a > self.maxValue:\n",
    "            raise StopIteration\n",
    "        return self._a"
   ]
  },
  {
   "cell_type": "code",
   "execution_count": 96,
   "metadata": {},
   "outputs": [
    {
     "data": {
      "text/plain": [
       "(1, 1, 2, 3)"
      ]
     },
     "execution_count": 96,
     "metadata": {},
     "output_type": "execute_result"
    }
   ],
   "source": [
    "fi = FibsIterator(5)\n",
    "fi.__next__(), next(fi), next(fi), next(fi)"
   ]
  },
  {
   "cell_type": "markdown",
   "metadata": {},
   "source": [
    "[Code on Python Tutor](http://www.pythontutor.com/visualize.html#code=class%20FibsIter%3A%0A%20%20%20%20def%20__init__%28self,%20maxValue%29%3A%0A%20%20%20%20%20%20%20%20self._a,%20self._b%20%3D%200,%201%0A%20%20%20%20%20%20%20%20self.maxValue%20%3D%20maxValue%0A%20%20%20%20%0A%20%20%20%20def%20__iter__%28self%29%3A%0A%20%20%20%20%20%20%20%20return%20self%0A%20%20%20%20%0A%20%20%20%20def%20__next__%28self%29%3A%0A%20%20%20%20%20%20%20%20self._a,%20self._b%20%3D%20self._b,%20self._a%20%2B%20self._b%0A%20%20%20%20%20%20%20%20if%20self._a%20%3E%20self.maxValue%3A%0A%20%20%20%20%20%20%20%20%20%20%20%20raise%20StopIteration%0A%20%20%20%20%20%20%20%20return%20self._a%0A%20%20%20%20%20%20%20%20%0Afi%20%3D%20FibsIter%285%29%0Afi.__next__%28%29,%20next%28fi%29,%20next%28fi%29,%20next%28fi%29%0A&cumulative=false&curInstr=0&heapPrimitives=false&mode=display&origin=opt-frontend.js&py=3&rawInputLstJSON=%5B%5D&textReferences=false)"
   ]
  },
  {
   "cell_type": "code",
   "execution_count": 97,
   "metadata": {},
   "outputs": [
    {
     "name": "stdout",
     "output_type": "stream",
     "text": [
      "[1, 1, 2, 3, 5, 8]\n",
      "[1, 1, 2, 3, 5, 8, 13, 21, 34, 55, 89]\n"
     ]
    }
   ],
   "source": [
    "print([f for f in FibsIterator(10)])\n",
    "print([f for f in FibsIterator(100)])"
   ]
  },
  {
   "cell_type": "markdown",
   "metadata": {},
   "source": [
    "### Generators: Compact iterators\n",
    "\n",
    "- Writing iterators requires a lot of \"boilerplate\" (typeskilt) code, i.e., code that is the same for each iterator\n",
    "- *Generators* are similar to iterators, but Python does most of the work behind the scenes\n",
    "- We only define a single function\n",
    "- Using `yield` instead of `return` makes this a generator function"
   ]
  },
  {
   "cell_type": "code",
   "execution_count": 98,
   "metadata": {},
   "outputs": [],
   "source": [
    "def FibsPrint(maxValue):\n",
    "    a, b = 1, 1\n",
    "    while a < maxValue:\n",
    "        print(a)\n",
    "        a, b = b, a + b"
   ]
  },
  {
   "cell_type": "code",
   "execution_count": 99,
   "metadata": {},
   "outputs": [
    {
     "name": "stdout",
     "output_type": "stream",
     "text": [
      "1\n",
      "1\n",
      "2\n",
      "3\n",
      "5\n",
      "8\n"
     ]
    }
   ],
   "source": [
    "FibsPrint(10)"
   ]
  },
  {
   "cell_type": "code",
   "execution_count": 100,
   "metadata": {},
   "outputs": [
    {
     "data": {
      "text/plain": [
       "(1, 1, 2, 3)"
      ]
     },
     "execution_count": 100,
     "metadata": {},
     "output_type": "execute_result"
    }
   ],
   "source": [
    "def FibsGen(maxValue):\n",
    "    a, b = 1, 1\n",
    "    while a < maxValue:\n",
    "        yield a\n",
    "        a, b = b, a + b\n",
    "        \n",
    "fg = FibsGen(5)\n",
    "fg.__next__(), next(fg), next(fg), next(fg)"
   ]
  },
  {
   "cell_type": "markdown",
   "metadata": {},
   "source": [
    "[Code on PythonTutor](http://www.pythontutor.com/visualize.html#code=def%20FibsGen%28maxValue%29%3A%0A%20%20%20%20a,%20b%20%3D%201,%201%0A%20%20%20%20while%20a%20%3C%20maxValue%3A%0A%20%20%20%20%20%20%20%20yield%20a%0A%20%20%20%20%20%20%20%20a,%20b%20%3D%20b,%20a%20%2B%20b%0A%20%20%20%20%20%20%20%20%0Afg%20%3D%20FibsGen%285%29%0Afg.__next__%28%29,%20next%28fg%29,%20next%28fg%29,%20next%28fg%29&cumulative=false&curInstr=0&heapPrimitives=false&mode=display&origin=opt-frontend.js&py=3&rawInputLstJSON=%5B%5D&textReferences=false)\n",
    "\n",
    "- `fg` is iterator object with `__next__()` method\n",
    "- On first call to `__next__()`, code is executed from start of generator function up to and including `yield`\n",
    "- `yield` returns value and execution stops (just as `return`)\n",
    "- Generator *remembers* local variable `a`, `b`, `maxValue`\n",
    "- On *next* and all further calls to `__next__()`, execution starts immediately after `yield` statement\n",
    "- When execution reaches end of generator function, `StopIteration` is raised"
   ]
  },
  {
   "cell_type": "markdown",
   "metadata": {},
   "source": [
    "#### Tracking a generator step by step\n",
    "\n",
    "- We add some output lines to a generator, so we can see exactly what happens"
   ]
  },
  {
   "cell_type": "code",
   "execution_count": 101,
   "metadata": {},
   "outputs": [],
   "source": [
    "def FibsGenVerbose(maxValue):\n",
    "    print(\"Entering\")\n",
    "    a, b = 1, 1\n",
    "    print(\"Before while (a={}, b={}, maxValue={})\".format(a, b, maxValue))\n",
    "\n",
    "    while a < maxValue:\n",
    "        print(\"Before yield (a={}, b={}, maxValue={})\".format(a, b, maxValue))\n",
    "        yield a\n",
    "        print(\"After  yield (a={}, b={}, maxValue={})\".format(a, b, maxValue))\n",
    "        a, b = b, a + b\n",
    "        print(\"End    while (a={}, b={}, maxValue={})\".format(a, b, maxValue))\n",
    "\n",
    "    print(\"End code     (a={}, b={}, maxValue={})\".format(a, b, maxValue))"
   ]
  },
  {
   "cell_type": "markdown",
   "metadata": {},
   "source": [
    "We now create a generator and call its `next()` method several times:"
   ]
  },
  {
   "cell_type": "code",
   "execution_count": 102,
   "metadata": {},
   "outputs": [],
   "source": [
    "fg = FibsGenVerbose(3)"
   ]
  },
  {
   "cell_type": "code",
   "execution_count": 103,
   "metadata": {},
   "outputs": [
    {
     "name": "stdout",
     "output_type": "stream",
     "text": [
      "Entering\n",
      "Before while (a=1, b=1, maxValue=3)\n",
      "Before yield (a=1, b=1, maxValue=3)\n"
     ]
    },
    {
     "data": {
      "text/plain": [
       "1"
      ]
     },
     "execution_count": 103,
     "metadata": {},
     "output_type": "execute_result"
    }
   ],
   "source": [
    "next(fg)"
   ]
  },
  {
   "cell_type": "markdown",
   "metadata": {},
   "source": [
    "Note that execution ended with `yield`."
   ]
  },
  {
   "cell_type": "code",
   "execution_count": 104,
   "metadata": {},
   "outputs": [
    {
     "name": "stdout",
     "output_type": "stream",
     "text": [
      "After  yield (a=1, b=1, maxValue=3)\n",
      "End    while (a=1, b=2, maxValue=3)\n",
      "Before yield (a=1, b=2, maxValue=3)\n"
     ]
    },
    {
     "data": {
      "text/plain": [
       "1"
      ]
     },
     "execution_count": 104,
     "metadata": {},
     "output_type": "execute_result"
    }
   ],
   "source": [
    "next(fg)"
   ]
  },
  {
   "cell_type": "markdown",
   "metadata": {},
   "source": [
    "Execution recommenced immediately after `yield` and continued until `yield` was \"reached again."
   ]
  },
  {
   "cell_type": "code",
   "execution_count": 105,
   "metadata": {},
   "outputs": [
    {
     "name": "stdout",
     "output_type": "stream",
     "text": [
      "After  yield (a=1, b=2, maxValue=3)\n",
      "End    while (a=2, b=3, maxValue=3)\n",
      "Before yield (a=2, b=3, maxValue=3)\n"
     ]
    },
    {
     "data": {
      "text/plain": [
       "2"
      ]
     },
     "execution_count": 105,
     "metadata": {},
     "output_type": "execute_result"
    }
   ],
   "source": [
    "next(fg)"
   ]
  },
  {
   "cell_type": "markdown",
   "metadata": {},
   "source": [
    "The same once more. Note that we now have `b == 3`, i.e., we will get `a == 3` on the next call, so the `while`-condition will no longer be fulfilled."
   ]
  },
  {
   "cell_type": "code",
   "execution_count": 106,
   "metadata": {},
   "outputs": [
    {
     "name": "stdout",
     "output_type": "stream",
     "text": [
      "After  yield (a=2, b=3, maxValue=3)\n",
      "End    while (a=3, b=5, maxValue=3)\n",
      "End code     (a=3, b=5, maxValue=3)\n"
     ]
    },
    {
     "ename": "StopIteration",
     "evalue": "",
     "output_type": "error",
     "traceback": [
      "\u001b[0;31m---------------------------------------------------------------------------\u001b[0m",
      "\u001b[0;31mStopIteration\u001b[0m                             Traceback (most recent call last)",
      "\u001b[0;32m/var/folders/j5/971zg6qd58n070p_ds781hzm0000gn/T/ipykernel_11249/4046775206.py\u001b[0m in \u001b[0;36m<module>\u001b[0;34m\u001b[0m\n\u001b[0;32m----> 1\u001b[0;31m \u001b[0mnext\u001b[0m\u001b[0;34m(\u001b[0m\u001b[0mfg\u001b[0m\u001b[0;34m)\u001b[0m\u001b[0;34m\u001b[0m\u001b[0;34m\u001b[0m\u001b[0m\n\u001b[0m",
      "\u001b[0;31mStopIteration\u001b[0m: "
     ]
    }
   ],
   "source": [
    "next(fg)"
   ]
  },
  {
   "cell_type": "markdown",
   "metadata": {},
   "source": [
    "We now left the loop, reached the end of the code, and triggered a `StopIteration` exception.\n",
    "\n",
    "When we use a generator inside a `for`-loop, the loop will catch this exception and stop:"
   ]
  },
  {
   "cell_type": "code",
   "execution_count": 107,
   "metadata": {},
   "outputs": [
    {
     "name": "stdout",
     "output_type": "stream",
     "text": [
      "Entering\n",
      "Before while (a=1, b=1, maxValue=3)\n",
      "Before yield (a=1, b=1, maxValue=3)\n",
      "***** 1 *****\n",
      "After  yield (a=1, b=1, maxValue=3)\n",
      "End    while (a=1, b=2, maxValue=3)\n",
      "Before yield (a=1, b=2, maxValue=3)\n",
      "***** 1 *****\n",
      "After  yield (a=1, b=2, maxValue=3)\n",
      "End    while (a=2, b=3, maxValue=3)\n",
      "Before yield (a=2, b=3, maxValue=3)\n",
      "***** 2 *****\n",
      "After  yield (a=2, b=3, maxValue=3)\n",
      "End    while (a=3, b=5, maxValue=3)\n",
      "End code     (a=3, b=5, maxValue=3)\n"
     ]
    }
   ],
   "source": [
    "for n in FibsGenVerbose(3):\n",
    "    print(\"***** {} *****\".format(n))"
   ]
  },
  {
   "cell_type": "markdown",
   "metadata": {},
   "source": [
    "#### Iterators and Generators are used in just the same way"
   ]
  },
  {
   "cell_type": "code",
   "execution_count": 108,
   "metadata": {},
   "outputs": [
    {
     "data": {
      "text/plain": [
       "(232, 232)"
      ]
     },
     "execution_count": 108,
     "metadata": {},
     "output_type": "execute_result"
    }
   ],
   "source": [
    "sum(FibsIterator(100)), sum(FibsGen(100))"
   ]
  },
  {
   "cell_type": "code",
   "execution_count": null,
   "metadata": {},
   "outputs": [],
   "source": []
  }
 ],
 "metadata": {
  "kernelspec": {
   "display_name": "Python 3 (ipykernel)",
   "language": "python",
   "name": "python3"
  },
  "language_info": {
   "codemirror_mode": {
    "name": "ipython",
    "version": 3
   },
   "file_extension": ".py",
   "mimetype": "text/x-python",
   "name": "python",
   "nbconvert_exporter": "python",
   "pygments_lexer": "ipython3",
   "version": "3.8.12"
  }
 },
 "nbformat": 4,
 "nbformat_minor": 4
}
