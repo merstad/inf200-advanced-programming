{
 "cells": [
  {
   "cell_type": "markdown",
   "id": "d423d94e-5864-4901-b69f-89b82cca8ebb",
   "metadata": {},
   "source": [
    "\n",
    "INF200 Lecture No 7\n",
    "===================\n",
    "\n",
    "***Hans Ekkehard Plesser, NMBU, 25 October 2021***\n",
    "\n",
    "# Today's topics\n",
    "\n",
    "* Representing data — repetition\n",
    "* Towards object-oriented programming\n",
    "    - Simulating [Chutes & Ladders](https://en.wikipedia.org/wiki/Snakes_and_ladders)\n",
    "    - Initial code and critique\n",
    "    - Separation of concerns\n",
    "    - Representing information as records\n",
    "    - Introducing classes\n",
    "    - Evolving our simulation"
   ]
  },
  {
   "cell_type": "markdown",
   "id": "50617b2c-e73b-4f94-ad23-c8b1444e48eb",
   "metadata": {
    "tags": []
   },
   "source": [
    "----\n",
    "\n",
    "# Representing data: Overview\n",
    "\n",
    "- We need to organize data in our code to work with it\n",
    "    - Keep control: is that value the temperature at noon or the wind speed at midnight?\n",
    "    - Select data according to different criteria: by name, by location, ...\n",
    "    - Exchange data between different parts of a large program\n",
    "    - Perform operations efficiently on large data\n",
    "- Keeping control is essential\n",
    "    - If we lose control of what is what, our code will produce incorrect results\n",
    "    - Wrong results are worse than no results: if the program crashes, we at least know something is wrong!\n",
    "- Code lives long and passes through many hands\n",
    "    - Code should be self-documenting\n",
    "    - Data should be self-documenting"
   ]
  },
  {
   "cell_type": "markdown",
   "id": "7c62145a-7d69-4d42-93b4-ba7a3593fdf4",
   "metadata": {},
   "source": [
    "### Records and fields\n",
    "\n",
    "- Our student data contains one [record](https://en.wikipedia.org/wiki/Record_(computer_science)) per student.\n",
    "    - A record comprises information about an entity, e.g., one student.\n",
    "    - If we had student data in a spreasheet, a record would usually be a row.\n",
    "    - Standard databases also store records in rows.\n",
    "    - If we used cardboard cards, we would have one card per student as record.\n",
    "- Each record has one or more [fields](https://en.wikipedia.org/wiki/Field_(computer_science))\n",
    "    - A field contains a single piece of information, e.g., family name, phone number, etc.\n",
    "    - In a spreadsheet or database, fields correspond to columns.\n",
    "    - On a cardboard card, for each field we would have a box to fill in the data.\n",
    "- When representing students as a list of dictionaries\n",
    "    - each dictionary is the record for one student, and\n",
    "    - dictionary entries map field names to field entries."
   ]
  },
  {
   "cell_type": "code",
   "execution_count": 1,
   "id": "fe5771c5-0dfd-4190-af69-49b52be59d2b",
   "metadata": {},
   "outputs": [],
   "source": [
    "students = [{'given_name': 'Per', \n",
    "             'family_name': 'Olsen', \n",
    "             'programme': 'M-DV', \n",
    "             'courses': ['INF200', 'INF221', 'INF250']},\n",
    "            {'given_name': 'Kari', \n",
    "             'family_name': 'Hansen', \n",
    "             'programme': 'M-TDV', \n",
    "             'courses': ['DAT300', 'DAT390', 'FYS388']}]"
   ]
  },
  {
   "cell_type": "markdown",
   "id": "5af4c481-a3c5-4f93-895c-2ee4dc3e69cb",
   "metadata": {},
   "source": [
    "------\n",
    "\n",
    "# Towards object-oriented programming\n",
    "\n",
    "- Invented in the 1960s **in Norway** to program simulations\n",
    "- First OO language: [Simula](https://en.wikipedia.org/wiki/Simula) by [Kristen Nygaard](https://en.wikipedia.org/wiki/Kristen_Nygaard) and [Ole-Johan Dahl](https://en.wikipedia.org/wiki/Ole-Johan_Dahl)\n",
    "<img src=\"NygaardDahl.jpg\" width=\"60%\">"
   ]
  },
  {
   "cell_type": "markdown",
   "id": "567a887f-59cb-4a41-aa1e-7e61cd2d63fa",
   "metadata": {},
   "source": [
    "## Simulating Chutes & Ladders (\"Stigespillet\")\n",
    "\n",
    "<img src=\"simple_board.png\" width=\"60%\">\n",
    "\n",
    "### Rules\n",
    "- Player starts on square 0 (not on board, to left of square 1)\n",
    "- Roll six-sided die and move accordingly\n",
    "    - Climb ladder immediately if move ends on green field\n",
    "    - Slide down ladder immediately if move ends on orange field\n",
    "- Game ends when goal reached\n",
    "- If multiple players, game ends immediately when first player reaches goal\n",
    "\n",
    "### Question\n",
    "- How are game durations distributed?\n",
    "\n",
    "### Approach\n",
    "- Simulate many games and collect statistics\n",
    "\n",
    "## Initial code and critique\n",
    "\n",
    "- Below is an initial imlpementation of a Chutes & Ladders simulation for a single player."
   ]
  },
  {
   "cell_type": "code",
   "execution_count": 5,
   "id": "83cbc4d6-576c-4329-8ddc-bbe7fa930cd4",
   "metadata": {},
   "outputs": [
    {
     "name": "stdout",
     "output_type": "stream",
     "text": [
      "Shortest game duration:    3\n",
      "Mean game duration    :    7.9 ± 3.6\n",
      "Longest game duration :   26\n"
     ]
    },
    {
     "data": {
      "image/png": "[encoded data removed]",
      "text/plain": [
       "<Figure size 432x288 with 1 Axes>"
      ]
     },
     "metadata": {
      "needs_background": "light"
     },
     "output_type": "display_data"
    }
   ],
   "source": [
    "# %load chutes_initial.py\n",
    "import random\n",
    "import matplotlib.pyplot as plt\n",
    "import numpy as np\n",
    "\n",
    "res = []\n",
    "\n",
    "for _ in range(1000):\n",
    "    s = 0\n",
    "    p = 0\n",
    "    while p < 25:\n",
    "        p += random.randint(1, 6)\n",
    "        if p == 1:\n",
    "            p = 12\n",
    "        elif p == 13:\n",
    "            p = 22\n",
    "        elif p == 14:\n",
    "            p = 3\n",
    "        elif p == 20:\n",
    "            p = 8\n",
    "        s += 1\n",
    "    res.append(s)\n",
    "\n",
    "print(f'Shortest game duration: {min(res):4d}')\n",
    "print(f'Mean game duration    : {np.mean(res):6.1f} ± {np.std(res):.1f}')\n",
    "print(f'Longest game duration : {max(res):4d}')\n",
    "\n",
    "hv, hb = np.histogram(res, bins=np.arange(0, max(res)))\n",
    "plt.step(hb[:-1], hv)\n",
    "plt.show()"
   ]
  },
  {
   "cell_type": "markdown",
   "id": "da384656-16bd-4a43-bfc9-9bca2d501da6",
   "metadata": {},
   "source": [
    "### Code critique\n",
    "\n",
    "Discuss the solution above with you neighbor. Possible questions include:\n",
    "\n",
    "- Is the code clear and comprehensible?\n",
    "- What would we need to do to simulate a different board?\n",
    "- Can we be sure that the code is correct? How could we test it?\n",
    "- Why does the code return different results on each execution?"
   ]
  },
  {
   "cell_type": "markdown",
   "id": "61090de3-56ee-456d-acfa-c790cc6cd9b5",
   "metadata": {},
   "source": [
    "## Separation of concerns\n",
    "\n",
    "- Programming requires us to keep control\n",
    "    - Split larger problems into smaller parts\n",
    "    - Solve each part separately\n",
    "    - Be explicit about assumptions for each part\n",
    "- What are the parts of a Chutes & Ladders simulation?\n",
    "\n",
    "    -\n",
    "    -\n",
    "    -\n",
    "    -\n",
    "\n",
    "### Revise code to divide simulation into parts\n",
    "\n",
    "Live coding in PyCharm."
   ]
  },
  {
   "cell_type": "markdown",
   "id": "c3fb6463-1f98-4ea5-88e3-b8789f0e0a07",
   "metadata": {},
   "source": [
    "## Representing information as records\n",
    "\n",
    "- What properties do the different parts of a Chutes & Ladders simulation have?\n",
    "\n",
    "    -\n",
    "        -\n",
    "        -\n",
    "        -\n",
    "    -\n",
    "        -\n",
    "        -\n",
    "    -\n",
    "        -\n",
    "    -\n",
    "        -\n",
    "        -\n",
    "- Represent each part by a record, each property by a field\n",
    "- Use `dict`s to represent records\n",
    "\n",
    "### Revise code to represent data as records\n",
    "\n",
    "Live coding in PyCharm.\n",
    "\n",
    "### Extend code to simulate a game with multiple players"
   ]
  },
  {
   "cell_type": "markdown",
   "id": "bfd40444-9a78-42b0-a5ad-6263e43795de",
   "metadata": {},
   "source": [
    "## Introducing classes\n",
    "\n",
    "- Record-based solution keeps data together, but\n",
    "    - records need to be moved around\n",
    "    - code handling records can be spread\n",
    "    - code handling on part of the problem can be spread\n",
    "- Key idea in object-oriented programming\n",
    "    - Collect data describing a given part of a problem and operations on this data into one unit.\n",
    "    - This unit is a *class*: A description of data *fields* and *methods* (functions) to work on them.\n",
    "    - Can be thought of as \"dictionary with custom functions\"\n",
    "        - e.g. player \"dictionary\" with a move function working on the dict\n",
    "    - A class is a data type: it defines rules \n",
    "    - Acutal records are called *instances* (or *objects*)\n",
    "- Keeping control\n",
    "    - Create each instance in a consistent state\n",
    "    - Each method\n",
    "        - relies on instance being in a consistent state when it starts\n",
    "        - guarantees that instant is in a consistent state when it finishes\n",
    "    - We can check every method on its own!\n",
    "    \n",
    "### Revise code to a class-based implementation\n",
    "- Create a class for each concept with a field for relevant data\n",
    "    - Player\n",
    "        - Fields (data)\n",
    "            - position\n",
    "            - step\n",
    "            -\n",
    "        - Methods (operations)\n",
    "            - move\n",
    "    - Board\n",
    "        - Fields\n",
    "            - goal\n",
    "            - chutes and ladders\n",
    "        - Methods\n",
    "            -\n",
    "            -\n",
    "    - Game\n",
    "        - Fields\n",
    "        - Methods\n",
    "    - Experiment\n",
    "        - Fields\n",
    "        - Methods\n",
    "\n",
    "- Live programming in PyCharm\n",
    "    "
   ]
  },
  {
   "cell_type": "markdown",
   "id": "8eafb98c-6967-49f0-80d6-415bb9c97389",
   "metadata": {},
   "source": [
    "## Evolving the simulation\n",
    "\n",
    "- Extend the simulation with new features\n",
    "    - Different types of boards\n",
    "        - flexible goal location\n",
    "        - flexible chutes and ladders\n",
    "        - blocking goal (must hit goal exactly, else stay in place)\n",
    "        - reflecting goal (move all eyes rolled, turning around at goal if necessary)\n",
    "    - Different types of players\n",
    "        - player makes extra steps next time after going up a ladder\n",
    "        - player makes fewer steps next time after going up a ladder\n",
    "        - ...\n",
    "- Some new features just require different values in existing fields\n",
    "- Other features require modified behavior, i.e., modified methods\n",
    "- This can be implemented in *subclasses*\n",
    "    - *inherit* common data and behavior from *superclass*\n",
    "    - add or replace methods to implement different behavior\n",
    "- Live coding in PyCharm"
   ]
  },
  {
   "cell_type": "code",
   "execution_count": null,
   "id": "ca8c3f84-f81a-4294-83f8-52489f449e44",
   "metadata": {},
   "outputs": [],
   "source": []
  }
 ],
 "metadata": {
  "kernelspec": {
   "display_name": "Python 3 (ipykernel)",
   "language": "python",
   "name": "python3"
  },
  "language_info": {
   "codemirror_mode": {
    "name": "ipython",
    "version": 3
   },
   "file_extension": ".py",
   "mimetype": "text/x-python",
   "name": "python",
   "nbconvert_exporter": "python",
   "pygments_lexer": "ipython3",
   "version": "3.8.11"
  }
 },
 "nbformat": 4,
 "nbformat_minor": 5
}
