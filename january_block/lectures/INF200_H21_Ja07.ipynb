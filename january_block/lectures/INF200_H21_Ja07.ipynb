{
 "cells": [
  {
   "cell_type": "markdown",
   "metadata": {},
   "source": [
    "# INF200 Lecture No Ja07\n",
    "### Hans Ekkehard Plesser / NMBU\n",
    "### 14 January 2022\n",
    "\n",
    "## Today's topics\n",
    "\n",
    "- Schedule for remainder of block\n",
    "- Class diagrams\n",
    "- Profiling and optimization\n",
    "- Exam information\n",
    "    - Exam schedule\n",
    "    - How to submit your code\n",
    "    - How to submit your presentation material"
   ]
  },
  {
   "cell_type": "markdown",
   "metadata": {},
   "source": [
    "---\n",
    "\n",
    "## Schedule for remainder of block\n",
    "\n",
    "- Friday 14 Jan\n",
    "    - 14.30 Afternoon meeting\n",
    "- Monday 17 Jan\n",
    "    - 09.15 Morning meeting\n",
    "    - 14.30 Afternoon meeting\n",
    "- Tuesday 18 Jan\n",
    "    - 09.15 Morning meeting\n",
    "    - **18.00 Deadline for delivery**\n",
    "- Lectures on model dynamics and programming in C++ are available via Panopto.\n",
    "    - INF200_H20_J08_ModelDynamics\n",
    "    - INF200_H20_C++_Part1\n",
    "    - INF200_H20_C++_Part2\n",
    "    - Study them on your own, **but do not ignore them!**\n",
    "- Wednesday–Friday 18–21 January\n",
    "    - Individual work on your presentations\n",
    "    - *No* mandatory attendance\n",
    "    - TAs will be available for some time for questions\n",
    "        - Precise times will be posted later\n",
    "- Friday 21 January\n",
    "    - Presentation material deadline 15.00 CET\n",
    "- Monday/Tuesday 24/25 January\n",
    "    - Exam"
   ]
  },
  {
   "cell_type": "markdown",
   "metadata": {},
   "source": [
    "-------------\n",
    "\n",
    "## Class diagrams\n",
    "\n",
    "- PyCharm allows you to draw class diagrams\n",
    "- Right-click on your package, then `Diagrams > Show diagram`\n",
    "- See also [Unified Modeling Languange (UML)](https://en.wikipedia.org/wiki/Unified_Modeling_Language)"
   ]
  },
  {
   "cell_type": "markdown",
   "metadata": {},
   "source": [
    "------------------\n",
    "\n",
    "## Profiling and optimization\n",
    "\n",
    "1. See also L12 from the fall term\n",
    "1. Profile to understand where you program uses time\n",
    "    - **Disable all graphics and file output for profiling**\n",
    "    - Profile in PyCharm using `Profile` from the `Run` menu\n",
    "        - See call statistics and call graph\n",
    "        - Graph can also be stored as figure\n",
    "        - If the graph never appears, updated PyCharm to 2021.3.1\n",
    "        - When the graph appears but looks weird\n",
    "            - click this icon ![pcp](figures/pcp_logo.png) to draw it properly\n",
    "            - right click on the graph background and remove the tick on `Appearance > Show Grid` to remove the grid behind the graph\n",
    "1. Optimize the parts that require most time first\n",
    "    - See if you can find \"low hanging fruits\": individual functions taking a lot of time\n",
    "1. How to optimize\n",
    "    - Reduce number of function calls required\n",
    "    - Make functions run faster\n",
    "1. Techniques\n",
    "    - Lazy evaluation\n",
    "        - If a computation is costly, perform it only when really necessary\n",
    "        - Mark value as invalid if changes occur that will require recomputation at some point\n",
    "        - When a value is marked invalid when requested, recompute and store\n",
    "    - Implementation of lazy evaluation\n",
    "        - Use *properties*  in Python \n",
    "    - Just in time compilation using [Numba](https://numba.pydata.org)\n",
    "        - See discussion in lectures in the fall term\n",
    "        - Use only for compact functions or methods performing mathematical operations\n",
    "    - Coding critical parts with [Cython](https://cython.org) (or even in C++, but that is a whole new story ...)"
   ]
  },
  {
   "cell_type": "markdown",
   "metadata": {},
   "source": [
    "---\n",
    "\n",
    "## Exam schedule\n",
    "\n",
    "To be posted on Canvas.\n",
    "\n",
    "## Submission of material\n",
    "\n",
    "### Project Code\n",
    "- **Deadline: Tuesday, 18 January 2022, 18.00 CET**\n",
    "- Submit your code as follows, working in your team repository (see also video INF200_H20_GitTags on Panopto):\n",
    "    1. Commit your final changes\n",
    "    1. Make sure all your code is in your **main branch** \n",
    "    1. Push everything to you GitLab repository\n",
    "    1. On GitLab, got to the History for your repo and choose the commit with your final version and use `Options > Tag` to add the tag `BiosimSubmission` (no spaces)\n",
    "    1. **Confirm that tag is visible on GitLab!**\n",
    "- The tagged commit must be dated no later than 18 January 2022, 18.00 CET.\n",
    "- Test creating tags **today**!"
   ]
  },
  {
   "cell_type": "markdown",
   "metadata": {},
   "source": [
    "\n",
    "### Presentation files\n",
    "\n",
    "- All presentation files must be handed in, and will be available on the examiners machine during the presentation, this is to save time on setup between students.\n",
    "- **Deadline: Friday, 21 January, 15.00 CET**\n",
    "- Submit your material (one PDF plus one mp4 or GIF) as follows, working in your **team repository**:\n",
    "    1. At the top level in the repository, create a folder `Exam`\n",
    "    1. Put your files into the `Exam` folder, on branch `main`\n",
    "    1. Commit and push to GitLab\n",
    "    1. Add a tag `INF200Exam` to the final commit of the material\n",
    "    1. Make sure material and tag are visible on GitLab\n",
    "- Files and tag must be in place by the deadline.\n",
    "- I will contact you by mail if there is any issues getting hold of your pdf/mp4/gif so **please check your mail during Saturday and Sunday!**"
   ]
  },
  {
   "cell_type": "code",
   "execution_count": null,
   "metadata": {},
   "outputs": [],
   "source": []
  }
 ],
 "metadata": {
  "kernelspec": {
   "display_name": "Python 3 (ipykernel)",
   "language": "python",
   "name": "python3"
  },
  "language_info": {
   "codemirror_mode": {
    "name": "ipython",
    "version": 3
   },
   "file_extension": ".py",
   "mimetype": "text/x-python",
   "name": "python",
   "nbconvert_exporter": "python",
   "pygments_lexer": "ipython3",
   "version": "3.8.12"
  }
 },
 "nbformat": 4,
 "nbformat_minor": 4
}
