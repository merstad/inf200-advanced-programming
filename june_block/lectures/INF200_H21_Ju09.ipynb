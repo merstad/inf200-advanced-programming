{
 "cells": [
  {
   "cell_type": "markdown",
   "id": "dfac8023-21d0-4ce5-9603-c657b0635767",
   "metadata": {},
   "source": [
    "# INF200 Lecture No. Ju09\n",
    "\n",
    "### Hans Ekkehard Plesser\n",
    "### 15 June 2022\n",
    "\n",
    "\n",
    "## Final steps for delivery\n",
    "\n",
    "1. See recommendations in lecture of Thursday 9 June (INF200_H21_Ju08)\n",
    "1. Your `main` (or `master`) branch will be evaluated\n",
    "1. Ensure that you have the `BiosimSubmission` tag in place by **15.00 CEST today**\n",
    "    1. Ensure the name is spelled correctly\n",
    "    1. Make sure the tag is visible on GitLab\n",
    "    1. See end of Ju07 lecture (8 June) for details"
   ]
  },
  {
   "cell_type": "markdown",
   "id": "6d2f2923-9112-48d1-aece-a500c4ca4e3b",
   "metadata": {},
   "source": [
    "## Presentation and movie\n",
    "\n",
    "1. Files to submit\n",
    "    - PDF with presentation slides\n",
    "    - MP4 movie or animated GIF, or empty `no_animation.txt`\n",
    "1. Place files into `Exam` folder in your repository, `main` branch\n",
    "1. Commit and push\n",
    "1. Tag commit with PDF and movie with `INF200Exam`\n",
    "    1. Ensure the name is spelled correctly\n",
    "    1. Make sure the tag is visible on GitLab\n",
    "1. Deadline is Friday 17 June **15.00 CEST**\n",
    "1. Check email for confirmation that files have been received"
   ]
  },
  {
   "cell_type": "markdown",
   "id": "b0fa7591-594a-4801-868c-22f05f9bbcb2",
   "metadata": {},
   "source": [
    "## Additional material to review\n",
    "\n",
    "1. Lecture on model dynamics [INF200_H20_Ju08_ModelDynamics](https://nmbu.cloud.panopto.eu/Panopto/Pages/Viewer.aspx?id=bb72f940-6bd8-48bd-9c6a-ae1c00d9d99f)\n",
    "1. Lectures on C++\n",
    "    1. [INF200_H20_C++_Part1](https://nmbu.cloud.panopto.eu/Panopto/Pages/Viewer.aspx?id=2ccc5288-ebb9-4150-9bc5-ae1c00d9aa10)\n",
    "    1. [INF200_H20_C++_Part2](https://nmbu.cloud.panopto.eu/Panopto/Pages/Viewer.aspx?id=f88b6a43-0b98-4b45-b126-ae1c00e784b4)\n",
    "    1. Example code under `january_block/examples/c++` in course repository\n",
    "    "
   ]
  },
  {
   "cell_type": "markdown",
   "id": "9277652b-bda6-4080-abc1-889db4ddcd52",
   "metadata": {},
   "source": [
    "## Exam\n",
    "\n",
    "1. See schedule https://nmbu.instructure.com/courses/7165/pages/june-block-exam-schedule\n",
    "1. Exam location: TF-Bygget TF1-305 (Zeta) (Mazemap: https://link.mazemap.com/ZP3SWT4c)\n",
    "1. Make sure\n",
    "    - you know your exam day and time\n",
    "    - you are outside the exam room at the latest **5 minutes before** your exam begins\n",
    "1. In case of emergency, send email to\n",
    "    - Hans Ekkehard Plesser (hans.ekkehard.plesser@nmbu.no)"
   ]
  },
  {
   "cell_type": "markdown",
   "id": "52b5d5f9-f607-40b9-b175-960c4c50c4cb",
   "metadata": {},
   "source": [
    "## Some comments on professional ethics"
   ]
  },
  {
   "cell_type": "markdown",
   "id": "ad332522-6e9d-4a55-ae14-460a8273877b",
   "metadata": {},
   "source": [
    "## Thank you!"
   ]
  },
  {
   "cell_type": "code",
   "execution_count": null,
   "id": "dc037c6a-8526-4bf3-8144-a19dde7fce64",
   "metadata": {},
   "outputs": [],
   "source": []
  }
 ],
 "metadata": {
  "kernelspec": {
   "display_name": "Python 3 (ipykernel)",
   "language": "python",
   "name": "python3"
  },
  "language_info": {
   "codemirror_mode": {
    "name": "ipython",
    "version": 3
   },
   "file_extension": ".py",
   "mimetype": "text/x-python",
   "name": "python",
   "nbconvert_exporter": "python",
   "pygments_lexer": "ipython3",
   "version": "3.9.12"
  }
 },
 "nbformat": 4,
 "nbformat_minor": 5
}
