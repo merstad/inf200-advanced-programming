{
 "cells": [
  {
   "cell_type": "markdown",
   "metadata": {},
   "source": [
    "# INF200 Lecture No 11\n",
    "\n",
    "### 22 November 2021\n",
    "\n",
    "## Today's topics\n",
    "\n",
    "1. Some advanced Python concepts\n",
    "    1. Decorators and memoization\n",
    "    1. Properties\n",
    "    1. Iterators and generators\n",
    "1. Generating Data / Scientific Computing\n",
    "    1. SymPy: Symbolic Algebra with Python\n",
    "    1. Limits of numerical precision\n",
    "    1. SciPy: A Scientific Python package"
   ]
  },
  {
   "cell_type": "markdown",
   "metadata": {},
   "source": [
    "--------\n",
    "\n",
    "# Some advanced Python concepts\n"
   ]
  },
  {
   "cell_type": "markdown",
   "metadata": {},
   "source": [
    "## Decorators and Memoization\n",
    "\n",
    "- Often useful to equip classes, functions or methods with extra functionality\n",
    "- Can be wrapped around methods or functions\n",
    "- Example: print state if debug mode is active\n",
    "- [Fibonacci numbers](https://en.wikipedia.org/wiki/Fibonacci_number)\n",
    "$$F_n = F_{n-1}+F_{n-2}\\;, F_1 = 1,\\; F_2 = 1$$"
   ]
  },
  {
   "cell_type": "code",
   "execution_count": 1,
   "metadata": {},
   "outputs": [],
   "source": [
    "def fib(n):\n",
    "    if n < 3:\n",
    "        return 1\n",
    "    else:\n",
    "        return fib(n-1) + fib(n-2)"
   ]
  },
  {
   "cell_type": "code",
   "execution_count": 2,
   "metadata": {},
   "outputs": [
    {
     "data": {
      "text/plain": [
       "(1, 1, 2, 3, 5)"
      ]
     },
     "execution_count": 2,
     "metadata": {},
     "output_type": "execute_result"
    }
   ],
   "source": [
    "fib(1), fib(2), fib(3), fib(4), fib(5)"
   ]
  },
  {
   "cell_type": "code",
   "execution_count": 3,
   "metadata": {},
   "outputs": [
    {
     "data": {
      "text/plain": [
       "832040"
      ]
     },
     "execution_count": 3,
     "metadata": {},
     "output_type": "execute_result"
    }
   ],
   "source": [
    "fib(30)"
   ]
  },
  {
   "cell_type": "markdown",
   "metadata": {},
   "source": [
    "- Would like to see recursive calls\n",
    "- Do not want to insert print statements into code\n",
    "- Wrap printing around functions!"
   ]
  },
  {
   "cell_type": "code",
   "execution_count": 4,
   "metadata": {},
   "outputs": [],
   "source": [
    "def show_args(*args, **kwargs):\n",
    "    print(args)\n",
    "    print(kwargs)"
   ]
  },
  {
   "cell_type": "code",
   "execution_count": 5,
   "metadata": {},
   "outputs": [
    {
     "name": "stdout",
     "output_type": "stream",
     "text": [
      "(5,)\n",
      "{}\n"
     ]
    }
   ],
   "source": [
    "show_args(5)"
   ]
  },
  {
   "cell_type": "code",
   "execution_count": 6,
   "metadata": {},
   "outputs": [
    {
     "name": "stdout",
     "output_type": "stream",
     "text": [
      "(5, 6, 'a')\n",
      "{'foo': 25, 't': 10}\n"
     ]
    }
   ],
   "source": [
    "show_args(5, 6, 'a', foo=25, t=10)"
   ]
  },
  {
   "cell_type": "code",
   "execution_count": 7,
   "metadata": {},
   "outputs": [],
   "source": [
    "def show_steps(func):\n",
    "    \n",
    "    def wrapped_func(*args, **kwargs):\n",
    "\n",
    "        print('Args:', *args, kwargs)\n",
    "\n",
    "        res = func(*args, **kwargs)\n",
    "\n",
    "        print('Res :', res)\n",
    "\n",
    "        return res\n",
    "    \n",
    "    return wrapped_func"
   ]
  },
  {
   "cell_type": "code",
   "execution_count": 8,
   "metadata": {},
   "outputs": [],
   "source": [
    "fib = show_steps(fib)"
   ]
  },
  {
   "cell_type": "code",
   "execution_count": 9,
   "metadata": {},
   "outputs": [
    {
     "name": "stdout",
     "output_type": "stream",
     "text": [
      "Args: 3 {}\n",
      "Args: 2 {}\n",
      "Res : 1\n",
      "Args: 1 {}\n",
      "Res : 1\n",
      "Res : 2\n"
     ]
    },
    {
     "data": {
      "text/plain": [
       "2"
      ]
     },
     "execution_count": 9,
     "metadata": {},
     "output_type": "execute_result"
    }
   ],
   "source": [
    "fib(3)"
   ]
  },
  {
   "cell_type": "markdown",
   "metadata": {},
   "source": [
    "- Tidier: Use decorator notation"
   ]
  },
  {
   "cell_type": "code",
   "execution_count": 10,
   "metadata": {},
   "outputs": [],
   "source": [
    "@show_steps\n",
    "def fib(n):\n",
    "    if n < 3:\n",
    "        return 1\n",
    "    else:\n",
    "        return fib(n-1) + fib(n-2)"
   ]
  },
  {
   "cell_type": "code",
   "execution_count": 11,
   "metadata": {},
   "outputs": [
    {
     "name": "stdout",
     "output_type": "stream",
     "text": [
      "Args: 3 {}\n",
      "Args: 2 {}\n",
      "Res : 1\n",
      "Args: 1 {}\n",
      "Res : 1\n",
      "Res : 2\n"
     ]
    },
    {
     "data": {
      "text/plain": [
       "2"
      ]
     },
     "execution_count": 11,
     "metadata": {},
     "output_type": "execute_result"
    }
   ],
   "source": [
    "fib(3)"
   ]
  },
  {
   "cell_type": "code",
   "execution_count": 12,
   "metadata": {},
   "outputs": [
    {
     "name": "stdout",
     "output_type": "stream",
     "text": [
      "Args: 5 {}\n",
      "Args: 4 {}\n",
      "Args: 3 {}\n",
      "Args: 2 {}\n",
      "Res : 1\n",
      "Args: 1 {}\n",
      "Res : 1\n",
      "Res : 2\n",
      "Args: 2 {}\n",
      "Res : 1\n",
      "Res : 3\n",
      "Args: 3 {}\n",
      "Args: 2 {}\n",
      "Res : 1\n",
      "Args: 1 {}\n",
      "Res : 1\n",
      "Res : 2\n",
      "Res : 5\n"
     ]
    },
    {
     "data": {
      "text/plain": [
       "5"
      ]
     },
     "execution_count": 12,
     "metadata": {},
     "output_type": "execute_result"
    }
   ],
   "source": [
    "fib(5)"
   ]
  },
  {
   "cell_type": "markdown",
   "metadata": {},
   "source": [
    "### Application: Memoize functions\n",
    "\n",
    "- `fib()` for large arguments means many repeated calls with same argument\n",
    "- Eliminate by storing values we have seen before\n",
    "- Called *memoization*\n",
    "- Can be implemented using closure\n",
    "\n",
    "#### \"Manual\" implementation"
   ]
  },
  {
   "cell_type": "code",
   "execution_count": 13,
   "metadata": {},
   "outputs": [],
   "source": [
    "def memoize(func):\n",
    "    _memo = {}\n",
    "\n",
    "    def wrapped(arg):\n",
    "        if arg not in _memo:\n",
    "            _memo[arg] = func(arg)\n",
    "        return _memo[arg]\n",
    "    \n",
    "    return wrapped"
   ]
  },
  {
   "cell_type": "markdown",
   "metadata": {},
   "source": [
    "**NOTE: Cells below must be executed in order!**\n",
    "\n",
    "##### Original function, not memoized"
   ]
  },
  {
   "cell_type": "code",
   "execution_count": 14,
   "metadata": {},
   "outputs": [],
   "source": [
    "def memo_fib(n):\n",
    "    if n < 3:\n",
    "        return 1\n",
    "    else:\n",
    "        return memo_fib(n-1) + memo_fib(n-2)"
   ]
  },
  {
   "cell_type": "code",
   "execution_count": 15,
   "metadata": {},
   "outputs": [
    {
     "data": {
      "text/plain": [
       "<function __main__.memo_fib(n)>"
      ]
     },
     "execution_count": 15,
     "metadata": {},
     "output_type": "execute_result"
    }
   ],
   "source": [
    "memo_fib"
   ]
  },
  {
   "cell_type": "markdown",
   "metadata": {},
   "source": [
    "##### Wrap function with memoize, obtain a closure\n",
    "\n",
    "- Note that we must assign to same name again because of recursion!"
   ]
  },
  {
   "cell_type": "code",
   "execution_count": 16,
   "metadata": {},
   "outputs": [],
   "source": [
    "memo_fib = memoize(memo_fib)"
   ]
  },
  {
   "cell_type": "code",
   "execution_count": 17,
   "metadata": {},
   "outputs": [
    {
     "data": {
      "text/plain": [
       "<function __main__.memoize.<locals>.wrapped(arg)>"
      ]
     },
     "execution_count": 17,
     "metadata": {},
     "output_type": "execute_result"
    }
   ],
   "source": [
    "memo_fib"
   ]
  },
  {
   "cell_type": "markdown",
   "metadata": {},
   "source": [
    "##### Test on slightly larger n"
   ]
  },
  {
   "cell_type": "code",
   "execution_count": 18,
   "metadata": {},
   "outputs": [
    {
     "data": {
      "text/plain": [
       "9227465"
      ]
     },
     "execution_count": 18,
     "metadata": {},
     "output_type": "execute_result"
    }
   ],
   "source": [
    "memo_fib(35)"
   ]
  },
  {
   "cell_type": "code",
   "execution_count": 19,
   "metadata": {},
   "outputs": [
    {
     "data": {
      "text/plain": [
       "354224848179261915075"
      ]
     },
     "execution_count": 19,
     "metadata": {},
     "output_type": "execute_result"
    }
   ],
   "source": [
    "memo_fib(100)"
   ]
  },
  {
   "cell_type": "code",
   "execution_count": 20,
   "metadata": {},
   "outputs": [
    {
     "data": {
      "text/plain": [
       "280571172992510140037611932413038677189525"
      ]
     },
     "execution_count": 20,
     "metadata": {},
     "output_type": "execute_result"
    }
   ],
   "source": [
    "memo_fib(200)"
   ]
  },
  {
   "cell_type": "code",
   "execution_count": 21,
   "metadata": {},
   "outputs": [
    {
     "data": {
      "text/plain": [
       "2.8057117299251016e+41"
      ]
     },
     "execution_count": 21,
     "metadata": {},
     "output_type": "execute_result"
    }
   ],
   "source": [
    "float(memo_fib(200))"
   ]
  },
  {
   "cell_type": "markdown",
   "metadata": {},
   "source": [
    "##### For comparison using a version without memoization"
   ]
  },
  {
   "cell_type": "code",
   "execution_count": 22,
   "metadata": {},
   "outputs": [
    {
     "data": {
      "text/plain": [
       "14930352"
      ]
     },
     "execution_count": 22,
     "metadata": {},
     "output_type": "execute_result"
    }
   ],
   "source": [
    "def plain_fib(n):\n",
    "    if n < 3:\n",
    "        return 1\n",
    "    else:\n",
    "        return plain_fib(n-1) + plain_fib(n-2)\n",
    "\n",
    "plain_fib(36)"
   ]
  },
  {
   "cell_type": "markdown",
   "metadata": {},
   "source": [
    "- Significantly slower!"
   ]
  },
  {
   "cell_type": "markdown",
   "metadata": {},
   "source": [
    "#### The same using memoize as decorator"
   ]
  },
  {
   "cell_type": "code",
   "execution_count": 23,
   "metadata": {},
   "outputs": [],
   "source": [
    "@memoize\n",
    "def fib(n):\n",
    "    if n < 3:\n",
    "        return 1\n",
    "    else:\n",
    "        return fib(n-1) + fib(n-2)"
   ]
  },
  {
   "cell_type": "code",
   "execution_count": 24,
   "metadata": {},
   "outputs": [
    {
     "data": {
      "text/plain": [
       "280571172992510140037611932413038677189525"
      ]
     },
     "execution_count": 24,
     "metadata": {},
     "output_type": "execute_result"
    }
   ],
   "source": [
    "fib(200)"
   ]
  },
  {
   "cell_type": "markdown",
   "metadata": {},
   "source": [
    "- Shorter code\n",
    "- No risk of unexpected results if cells are evaluated out-of-order (in Notebook)"
   ]
  },
  {
   "cell_type": "markdown",
   "metadata": {},
   "source": [
    "## Properties\n",
    "\n",
    "- OO Idea 2: Hide implementation details\n",
    "- E.g., two different `Vector` implementations\n",
    "\n",
    "```Python\n",
    "class V:\n",
    "    def __init__(self, x, y):\n",
    "        self._c = [x, y]\n",
    "\n",
    "class W:\n",
    "    def __init__(self, x, y):\n",
    "        self._x, self._y = x, y\n",
    "```\n",
    "\n",
    "- Problem\n",
    "    - need accessor methods for coordinates\n",
    "    - clumsy to use\n",
    "\n",
    "```Python\n",
    "    def getX(self): return self._x\n",
    "    def getY(self): return self._y\n",
    "    ...\n",
    "    print v.getX() + v.getY()\n",
    "```\n",
    "\n",
    "- Solution: *Properties*\n",
    "- Make accessor methods easily available\n",
    "- In practice: \n",
    "    - define accessor methods\n",
    "    - add methods as property to class using the Python `property()` function\n",
    "- We only look at properties getting information\n",
    "    - such read-only properties prevent that users change data\n",
    "    - one can also implement properties that can be set\n",
    "    - see [Python documentation for `property()`](https://docs.python.org/3.9/library/functions.html?highlight=property#property)"
   ]
  },
  {
   "cell_type": "code",
   "execution_count": 25,
   "metadata": {},
   "outputs": [
    {
     "name": "stdout",
     "output_type": "stream",
     "text": [
      "1\n",
      "2\n",
      "W(1, 2)\n"
     ]
    }
   ],
   "source": [
    "class V:\n",
    "    def __init__(self, x, y):\n",
    "        self._c = [x, y]\n",
    "        \n",
    "    def __repr__(self):\n",
    "        return 'W({}, {})'.format(self.x, self.y)\n",
    "\n",
    "    def getX(self): return self._c[0]\n",
    "    x = property(getX)\n",
    "\n",
    "    def getY(self): return self._c[1]\n",
    "    y = property(getY)\n",
    "\n",
    "v = V(1, 2)\n",
    "print(v.x)\n",
    "print(v.y)\n",
    "print(v)"
   ]
  },
  {
   "cell_type": "code",
   "execution_count": 26,
   "metadata": {},
   "outputs": [
    {
     "ename": "AttributeError",
     "evalue": "can't set attribute",
     "output_type": "error",
     "traceback": [
      "\u001b[0;31m---------------------------------------------------------------------------\u001b[0m",
      "\u001b[0;31mAttributeError\u001b[0m                            Traceback (most recent call last)",
      "\u001b[0;32m/var/folders/j5/971zg6qd58n070p_ds781hzm0000gn/T/ipykernel_78952/2524590249.py\u001b[0m in \u001b[0;36m<module>\u001b[0;34m\u001b[0m\n\u001b[0;32m----> 1\u001b[0;31m \u001b[0mv\u001b[0m\u001b[0;34m.\u001b[0m\u001b[0mx\u001b[0m \u001b[0;34m=\u001b[0m \u001b[0;36m10\u001b[0m\u001b[0;34m\u001b[0m\u001b[0;34m\u001b[0m\u001b[0m\n\u001b[0m",
      "\u001b[0;31mAttributeError\u001b[0m: can't set attribute"
     ]
    }
   ],
   "source": [
    "v.x = 10"
   ]
  },
  {
   "cell_type": "markdown",
   "metadata": {},
   "source": [
    "#### Syntactic sugar: The property decorator\n",
    "\n",
    "- *Syntactic sugar*: a way to express things \"more nicely\" without adding a new feature (\"same stuff, nice wrapping\")\n",
    "- *Decorator*\n",
    "    - a special type of function\n",
    "    - name begins with `@`\n",
    "    - modifies the definition following the decorator\n",
    "- `@property` decorator makes it easy to create read-only properties"
   ]
  },
  {
   "cell_type": "code",
   "execution_count": 27,
   "metadata": {},
   "outputs": [
    {
     "name": "stdout",
     "output_type": "stream",
     "text": [
      "1 2\n"
     ]
    }
   ],
   "source": [
    "class V:\n",
    "    def __init__(self, x, y):\n",
    "        self._c = [x, y]\n",
    "    def __repr__(self):\n",
    "        return 'V({}, {})'.format(self.x, self.y)\n",
    "\n",
    "    @property\n",
    "    def x(self): return self._c[0]\n",
    "    \n",
    "    @property\n",
    "    def y(self): return self._c[1]\n",
    "\n",
    "v = V(1, 2)\n",
    "print(v.x, v.y)"
   ]
  },
  {
   "cell_type": "code",
   "execution_count": 28,
   "metadata": {},
   "outputs": [
    {
     "ename": "AttributeError",
     "evalue": "can't set attribute",
     "output_type": "error",
     "traceback": [
      "\u001b[0;31m---------------------------------------------------------------------------\u001b[0m",
      "\u001b[0;31mAttributeError\u001b[0m                            Traceback (most recent call last)",
      "\u001b[0;32m/var/folders/j5/971zg6qd58n070p_ds781hzm0000gn/T/ipykernel_78952/1382744213.py\u001b[0m in \u001b[0;36m<module>\u001b[0;34m\u001b[0m\n\u001b[0;32m----> 1\u001b[0;31m \u001b[0mv\u001b[0m\u001b[0;34m.\u001b[0m\u001b[0my\u001b[0m \u001b[0;34m=\u001b[0m \u001b[0;36m10\u001b[0m\u001b[0;34m\u001b[0m\u001b[0;34m\u001b[0m\u001b[0m\n\u001b[0m",
      "\u001b[0;31mAttributeError\u001b[0m: can't set attribute"
     ]
    }
   ],
   "source": [
    "v.y = 10"
   ]
  },
  {
   "cell_type": "markdown",
   "metadata": {},
   "source": [
    "#### More complex properties\n",
    "\n",
    "- Can also provide values as properties that require more complex operations\n",
    "- Example: polar representation of vector"
   ]
  },
  {
   "cell_type": "code",
   "execution_count": 29,
   "metadata": {},
   "outputs": [
    {
     "name": "stdout",
     "output_type": "stream",
     "text": [
      "5.0 0.6435011087932844\n"
     ]
    }
   ],
   "source": [
    "import math\n",
    "\n",
    "class V:\n",
    "    def __init__(self, x, y):\n",
    "        self._c = [x, y]\n",
    "    def __repr__(self):\n",
    "        return 'V({}, {})'.format(self.x, self.y)\n",
    "\n",
    "    @property\n",
    "    def x(self): \n",
    "        return self._c[0]\n",
    "    \n",
    "    @property\n",
    "    def y(self): \n",
    "        return self._c[1]\n",
    "    \n",
    "    @property\n",
    "    def r(self): \n",
    "        return math.sqrt(self.x**2 + self.y**2)\n",
    "    \n",
    "    @property\n",
    "    def phi(self): \n",
    "        return math.atan2(self.x, self.y)\n",
    "\n",
    "v = V(3, 4)\n",
    "print(v.r, v.phi)"
   ]
  },
  {
   "cell_type": "markdown",
   "metadata": {},
   "source": [
    "#### Lazy evaluation\n",
    "\n",
    "- Some properties may be expensive to compute\n",
    "- In example above, if `r` or `phi` are used often, calculation repeated over and over again\n",
    "- Could compute in constructor, but that costs if `r` and `phi` are never used\n",
    "- Idea: compute only when needed, then retain\n",
    "- Need to decide on most useful approach depending on use case"
   ]
  },
  {
   "cell_type": "code",
   "execution_count": 30,
   "metadata": {},
   "outputs": [
    {
     "name": "stdout",
     "output_type": "stream",
     "text": [
      "5.0 0.6435011087932844\n"
     ]
    }
   ],
   "source": [
    "class V:\n",
    "    def __init__(self, x, y):\n",
    "        self._c = [x, y]\n",
    "        self._r = None\n",
    "        self._phi = None\n",
    "        \n",
    "    def __repr__(self):\n",
    "        return 'V({}, {})'.format(self.x, self.y)\n",
    "\n",
    "    @property\n",
    "    def x(self): return self._c[0]\n",
    "    \n",
    "    @property\n",
    "    def y(self): return self._c[1]\n",
    "    \n",
    "    @property\n",
    "    def r(self): \n",
    "        if self._r is None:\n",
    "            self._r = math.sqrt(self._c[0]**2+self._c[1]**2)\n",
    "        return self._r\n",
    "    \n",
    "    @property\n",
    "    def phi(self): \n",
    "        if self._phi is None:\n",
    "            self._phi = math.atan2(self._c[0], self._c[1])\n",
    "        return self._phi\n",
    "\n",
    "v = V(3, 4)\n",
    "print(v.r, v.phi)"
   ]
  },
  {
   "cell_type": "markdown",
   "metadata": {},
   "source": [
    "## Iterators and Generators\n",
    "\n",
    "- We commonly have data types containing elements that we access in sequence\n",
    "    - elements of a list, characters of a string, lines in a file, ...\n",
    "- Occasionally, we wan to generate numbers, permutations, etc, in sequence\n",
    "    - Fibonacci numbers, card permutations, ...\n",
    "\n",
    "### Basics\n",
    "\n",
    "#### [Iterable](https://docs.python.org/3/glossary.html#term-iterable)\n",
    "\n",
    "Any object that can be iterated over, i.e., and object that has elements or values that can be accessed in sequence.\n",
    "\n",
    "#### [Iterator](https://docs.python.org/3/glossary.html#term-iterator)\n",
    "\n",
    "An object that represents a stream of data, i.e., a sequence of elements or values.\n",
    "\n",
    "##### Note\n",
    "- In Python, every iterator is also an iterable, but not each iterable is an iterator.\n",
    "- Example:\n",
    "    - Each `list` is an iterable, but not an iterator\n",
    "    - We can have multiple iterators for any given list\n",
    "- See also\n",
    "    - http://nvie.com/posts/iterators-vs-generators\n",
    "    - https://www.python-course.eu/python3_generators.php\n",
    "    - https://docs.python.org/3/howto/functional.html\n",
    "    \n",
    "### Working with iterators\n",
    "\n",
    "- `iter(a)` provides us with an iterator for an iterable `a`\n",
    "- `next(i)` returns the next value from the iterator `i`\n",
    "- `StopIteration` exception is raise when no more values available\n",
    "\n",
    "#### Example"
   ]
  },
  {
   "cell_type": "code",
   "execution_count": 31,
   "metadata": {},
   "outputs": [
    {
     "data": {
      "text/plain": [
       "'Oslo'"
      ]
     },
     "execution_count": 31,
     "metadata": {},
     "output_type": "execute_result"
    }
   ],
   "source": [
    "cities = ['Oslo', 'Bergen', 'Trondheim', 'Tromsø']\n",
    "c_it = iter(cities)\n",
    "next(c_it)"
   ]
  },
  {
   "cell_type": "code",
   "execution_count": 32,
   "metadata": {},
   "outputs": [
    {
     "data": {
      "text/plain": [
       "'Bergen'"
      ]
     },
     "execution_count": 32,
     "metadata": {},
     "output_type": "execute_result"
    }
   ],
   "source": [
    "next(c_it)"
   ]
  },
  {
   "cell_type": "code",
   "execution_count": 33,
   "metadata": {},
   "outputs": [],
   "source": [
    "c_it_2 = iter(cities)"
   ]
  },
  {
   "cell_type": "code",
   "execution_count": 34,
   "metadata": {},
   "outputs": [
    {
     "data": {
      "text/plain": [
       "('Trondheim', 'Oslo')"
      ]
     },
     "execution_count": 34,
     "metadata": {},
     "output_type": "execute_result"
    }
   ],
   "source": [
    "next(c_it), next(c_it_2)"
   ]
  },
  {
   "cell_type": "code",
   "execution_count": 35,
   "metadata": {},
   "outputs": [
    {
     "data": {
      "text/plain": [
       "('Tromsø', 'Bergen')"
      ]
     },
     "execution_count": 35,
     "metadata": {},
     "output_type": "execute_result"
    }
   ],
   "source": [
    "next(c_it), next(c_it_2)"
   ]
  },
  {
   "cell_type": "code",
   "execution_count": 36,
   "metadata": {},
   "outputs": [
    {
     "ename": "StopIteration",
     "evalue": "",
     "output_type": "error",
     "traceback": [
      "\u001b[0;31m---------------------------------------------------------------------------\u001b[0m",
      "\u001b[0;31mStopIteration\u001b[0m                             Traceback (most recent call last)",
      "\u001b[0;32m/var/folders/j5/971zg6qd58n070p_ds781hzm0000gn/T/ipykernel_78952/3307122062.py\u001b[0m in \u001b[0;36m<module>\u001b[0;34m\u001b[0m\n\u001b[0;32m----> 1\u001b[0;31m \u001b[0mnext\u001b[0m\u001b[0;34m(\u001b[0m\u001b[0mc_it\u001b[0m\u001b[0;34m)\u001b[0m\u001b[0;34m\u001b[0m\u001b[0;34m\u001b[0m\u001b[0m\n\u001b[0m",
      "\u001b[0;31mStopIteration\u001b[0m: "
     ]
    }
   ],
   "source": [
    "next(c_it)"
   ]
  },
  {
   "cell_type": "markdown",
   "metadata": {},
   "source": [
    "#### How `for` really works\n",
    "\n",
    "```python\n",
    "for n in [11, 22, 33]:\n",
    "  print(n)\n",
    "```\n",
    "\n",
    "1. calls `iter()` on list `[11, 22, 33]`\n",
    "1. runs `n = next()` on  iterator\n",
    "1. executes loop body\n",
    "1. goto 2\n",
    "1. exits when iterator raises `StopIteration`"
   ]
  },
  {
   "cell_type": "markdown",
   "metadata": {},
   "source": [
    "### Defining an iterator\n",
    "\n",
    "- An iterator is a class\n",
    "- It must provide a `__next__()` method returning items in sequence\n",
    "- It must provide an `__iter__()` method returning itself (iterators are iterables)\n",
    "- NB: iterables provide and `__iter__()` method that returns an interator object\n",
    "\n",
    "#### Example: Fibonacci numbers"
   ]
  },
  {
   "cell_type": "code",
   "execution_count": 37,
   "metadata": {},
   "outputs": [],
   "source": [
    "class FibsIterator:\n",
    "    def __init__(self, maxValue):\n",
    "        self._a, self._b = 0, 1\n",
    "        self.maxValue = maxValue\n",
    "    \n",
    "    def __iter__(self):\n",
    "        return self\n",
    "    \n",
    "    def __next__(self):\n",
    "        self._a, self._b = self._b, self._a + self._b\n",
    "        if self._a > self.maxValue:\n",
    "            raise StopIteration\n",
    "        return self._a"
   ]
  },
  {
   "cell_type": "code",
   "execution_count": 38,
   "metadata": {},
   "outputs": [
    {
     "data": {
      "text/plain": [
       "(1, 1, 2, 3)"
      ]
     },
     "execution_count": 38,
     "metadata": {},
     "output_type": "execute_result"
    }
   ],
   "source": [
    "fi = FibsIterator(5)\n",
    "fi.__next__(), next(fi), next(fi), next(fi)"
   ]
  },
  {
   "cell_type": "markdown",
   "metadata": {},
   "source": [
    "[Code on Python Tutor](http://www.pythontutor.com/visualize.html#code=class%20FibsIter%3A%0A%20%20%20%20def%20__init__%28self,%20maxValue%29%3A%0A%20%20%20%20%20%20%20%20self._a,%20self._b%20%3D%200,%201%0A%20%20%20%20%20%20%20%20self.maxValue%20%3D%20maxValue%0A%20%20%20%20%0A%20%20%20%20def%20__iter__%28self%29%3A%0A%20%20%20%20%20%20%20%20return%20self%0A%20%20%20%20%0A%20%20%20%20def%20__next__%28self%29%3A%0A%20%20%20%20%20%20%20%20self._a,%20self._b%20%3D%20self._b,%20self._a%20%2B%20self._b%0A%20%20%20%20%20%20%20%20if%20self._a%20%3E%20self.maxValue%3A%0A%20%20%20%20%20%20%20%20%20%20%20%20raise%20StopIteration%0A%20%20%20%20%20%20%20%20return%20self._a%0A%20%20%20%20%20%20%20%20%0Afi%20%3D%20FibsIter%285%29%0Afi.__next__%28%29,%20next%28fi%29,%20next%28fi%29,%20next%28fi%29%0A&cumulative=false&curInstr=0&heapPrimitives=false&mode=display&origin=opt-frontend.js&py=3&rawInputLstJSON=%5B%5D&textReferences=false)"
   ]
  },
  {
   "cell_type": "code",
   "execution_count": 39,
   "metadata": {},
   "outputs": [
    {
     "name": "stdout",
     "output_type": "stream",
     "text": [
      "[1, 1, 2, 3, 5, 8]\n",
      "[1, 1, 2, 3, 5, 8, 13, 21, 34, 55, 89]\n"
     ]
    }
   ],
   "source": [
    "print([f for f in FibsIterator(10)])\n",
    "print([f for f in FibsIterator(100)])"
   ]
  },
  {
   "cell_type": "code",
   "execution_count": 40,
   "metadata": {},
   "outputs": [
    {
     "data": {
      "text/plain": [
       "232"
      ]
     },
     "execution_count": 40,
     "metadata": {},
     "output_type": "execute_result"
    }
   ],
   "source": [
    "sum(f for f in FibsIterator(100))"
   ]
  },
  {
   "cell_type": "markdown",
   "metadata": {},
   "source": [
    "### Generators: Compact iterators\n",
    "\n",
    "- Writing iterators requires a lot of \"boilerplate\" (typeskilt) code, i.e., code that is the same for each iterator\n",
    "- *Generators* are similar to iterators, but Python does most of the work behind the scenes\n",
    "- We only define a single function\n",
    "- Using `yield` instead of `return` makes this a generator function"
   ]
  },
  {
   "cell_type": "code",
   "execution_count": 41,
   "metadata": {},
   "outputs": [],
   "source": [
    "def FibsPrint(maxValue):\n",
    "    a, b = 1, 1\n",
    "    while a < maxValue:\n",
    "        print(a)\n",
    "        a, b = b, a + b"
   ]
  },
  {
   "cell_type": "code",
   "execution_count": 42,
   "metadata": {},
   "outputs": [
    {
     "name": "stdout",
     "output_type": "stream",
     "text": [
      "1\n",
      "1\n",
      "2\n",
      "3\n",
      "5\n",
      "8\n"
     ]
    }
   ],
   "source": [
    "FibsPrint(10)"
   ]
  },
  {
   "cell_type": "code",
   "execution_count": 43,
   "metadata": {},
   "outputs": [
    {
     "data": {
      "text/plain": [
       "(1, 1, 2, 3)"
      ]
     },
     "execution_count": 43,
     "metadata": {},
     "output_type": "execute_result"
    }
   ],
   "source": [
    "def FibsGen(maxValue):\n",
    "    a, b = 1, 1\n",
    "    while a < maxValue:\n",
    "        yield a\n",
    "        a, b = b, a + b\n",
    "        \n",
    "fg = FibsGen(5)\n",
    "next(fg), next(fg), next(fg), next(fg)"
   ]
  },
  {
   "cell_type": "markdown",
   "metadata": {},
   "source": [
    "[Code on PythonTutor](http://www.pythontutor.com/visualize.html#code=def%20FibsGen%28maxValue%29%3A%0A%20%20%20%20a,%20b%20%3D%201,%201%0A%20%20%20%20while%20a%20%3C%20maxValue%3A%0A%20%20%20%20%20%20%20%20yield%20a%0A%20%20%20%20%20%20%20%20a,%20b%20%3D%20b,%20a%20%2B%20b%0A%20%20%20%20%20%20%20%20%0Afg%20%3D%20FibsGen%285%29%0Afg.__next__%28%29,%20next%28fg%29,%20next%28fg%29,%20next%28fg%29&cumulative=false&curInstr=0&heapPrimitives=false&mode=display&origin=opt-frontend.js&py=3&rawInputLstJSON=%5B%5D&textReferences=false)\n",
    "\n",
    "- `fg` is iterator object with `__next__()` method\n",
    "- On first call to `__next__()`, code is executed from start of generator function up to and including `yield`\n",
    "- `yield` returns value and execution stops (just as `return`)\n",
    "- Generator *remembers* local variable `a`, `b`, `maxValue`\n",
    "- On *next* and all further calls to `__next__()`, execution starts immediately after `yield` statement\n",
    "- When execution reaches end of generator function, `StopIteration` is raised"
   ]
  },
  {
   "cell_type": "markdown",
   "metadata": {},
   "source": [
    "#### Tracking a generator step by step\n",
    "\n",
    "- We add some output lines to a generator, so we can see exactly what happens"
   ]
  },
  {
   "cell_type": "code",
   "execution_count": 44,
   "metadata": {},
   "outputs": [],
   "source": [
    "def FibsGenVerbose(maxValue):\n",
    "    print(\"Entering\")\n",
    "    a, b = 1, 1\n",
    "    print(\"Before while (a={}, b={}, maxValue={})\".format(a, b, maxValue))\n",
    "\n",
    "    while a < maxValue:\n",
    "        print(\"Before yield (a={}, b={}, maxValue={})\".format(a, b, maxValue))\n",
    "        yield a\n",
    "        print(\"After  yield (a={}, b={}, maxValue={})\".format(a, b, maxValue))\n",
    "        a, b = b, a + b\n",
    "        print(\"End    while (a={}, b={}, maxValue={})\".format(a, b, maxValue))\n",
    "\n",
    "    print(\"End code     (a={}, b={}, maxValue={})\".format(a, b, maxValue))"
   ]
  },
  {
   "cell_type": "markdown",
   "metadata": {},
   "source": [
    "We now create a generator and call its `next()` method several times:"
   ]
  },
  {
   "cell_type": "code",
   "execution_count": 45,
   "metadata": {},
   "outputs": [],
   "source": [
    "fg = FibsGenVerbose(3)"
   ]
  },
  {
   "cell_type": "code",
   "execution_count": 46,
   "metadata": {},
   "outputs": [
    {
     "name": "stdout",
     "output_type": "stream",
     "text": [
      "Entering\n",
      "Before while (a=1, b=1, maxValue=3)\n",
      "Before yield (a=1, b=1, maxValue=3)\n"
     ]
    },
    {
     "data": {
      "text/plain": [
       "1"
      ]
     },
     "execution_count": 46,
     "metadata": {},
     "output_type": "execute_result"
    }
   ],
   "source": [
    "next(fg)"
   ]
  },
  {
   "cell_type": "markdown",
   "metadata": {},
   "source": [
    "Note that execution ended with `yield`."
   ]
  },
  {
   "cell_type": "code",
   "execution_count": 47,
   "metadata": {},
   "outputs": [
    {
     "name": "stdout",
     "output_type": "stream",
     "text": [
      "After  yield (a=1, b=1, maxValue=3)\n",
      "End    while (a=1, b=2, maxValue=3)\n",
      "Before yield (a=1, b=2, maxValue=3)\n"
     ]
    },
    {
     "data": {
      "text/plain": [
       "1"
      ]
     },
     "execution_count": 47,
     "metadata": {},
     "output_type": "execute_result"
    }
   ],
   "source": [
    "next(fg)"
   ]
  },
  {
   "cell_type": "markdown",
   "metadata": {},
   "source": [
    "Execution recommenced immediately after `yield` and continued until `yield` was \"reached again."
   ]
  },
  {
   "cell_type": "code",
   "execution_count": 48,
   "metadata": {},
   "outputs": [
    {
     "name": "stdout",
     "output_type": "stream",
     "text": [
      "After  yield (a=1, b=2, maxValue=3)\n",
      "End    while (a=2, b=3, maxValue=3)\n",
      "Before yield (a=2, b=3, maxValue=3)\n"
     ]
    },
    {
     "data": {
      "text/plain": [
       "2"
      ]
     },
     "execution_count": 48,
     "metadata": {},
     "output_type": "execute_result"
    }
   ],
   "source": [
    "next(fg)"
   ]
  },
  {
   "cell_type": "markdown",
   "metadata": {},
   "source": [
    "The same once more. Note that we now have `b == 3`, i.e., we will get `a == 3` on the next call, so the `while`-condition will no longer be fulfilled."
   ]
  },
  {
   "cell_type": "code",
   "execution_count": 49,
   "metadata": {},
   "outputs": [
    {
     "name": "stdout",
     "output_type": "stream",
     "text": [
      "After  yield (a=2, b=3, maxValue=3)\n",
      "End    while (a=3, b=5, maxValue=3)\n",
      "End code     (a=3, b=5, maxValue=3)\n"
     ]
    },
    {
     "ename": "StopIteration",
     "evalue": "",
     "output_type": "error",
     "traceback": [
      "\u001b[0;31m---------------------------------------------------------------------------\u001b[0m",
      "\u001b[0;31mStopIteration\u001b[0m                             Traceback (most recent call last)",
      "\u001b[0;32m/var/folders/j5/971zg6qd58n070p_ds781hzm0000gn/T/ipykernel_78952/4046775206.py\u001b[0m in \u001b[0;36m<module>\u001b[0;34m\u001b[0m\n\u001b[0;32m----> 1\u001b[0;31m \u001b[0mnext\u001b[0m\u001b[0;34m(\u001b[0m\u001b[0mfg\u001b[0m\u001b[0;34m)\u001b[0m\u001b[0;34m\u001b[0m\u001b[0;34m\u001b[0m\u001b[0m\n\u001b[0m",
      "\u001b[0;31mStopIteration\u001b[0m: "
     ]
    }
   ],
   "source": [
    "next(fg)"
   ]
  },
  {
   "cell_type": "markdown",
   "metadata": {},
   "source": [
    "We now left the loop, reached the end of the code, and triggered a `StopIteration` exception.\n",
    "\n",
    "When we use a generator inside a `for`-loop, the loop will catch this exception and stop:"
   ]
  },
  {
   "cell_type": "code",
   "execution_count": 50,
   "metadata": {},
   "outputs": [
    {
     "name": "stdout",
     "output_type": "stream",
     "text": [
      "Entering\n",
      "Before while (a=1, b=1, maxValue=3)\n",
      "Before yield (a=1, b=1, maxValue=3)\n",
      "***** 1 *****\n",
      "After  yield (a=1, b=1, maxValue=3)\n",
      "End    while (a=1, b=2, maxValue=3)\n",
      "Before yield (a=1, b=2, maxValue=3)\n",
      "***** 1 *****\n",
      "After  yield (a=1, b=2, maxValue=3)\n",
      "End    while (a=2, b=3, maxValue=3)\n",
      "Before yield (a=2, b=3, maxValue=3)\n",
      "***** 2 *****\n",
      "After  yield (a=2, b=3, maxValue=3)\n",
      "End    while (a=3, b=5, maxValue=3)\n",
      "End code     (a=3, b=5, maxValue=3)\n"
     ]
    }
   ],
   "source": [
    "for n in FibsGenVerbose(3):\n",
    "    print(\"***** {} *****\".format(n))"
   ]
  },
  {
   "cell_type": "markdown",
   "metadata": {},
   "source": [
    "#### Iterators and Generators are used in just the same way"
   ]
  },
  {
   "cell_type": "code",
   "execution_count": 51,
   "metadata": {},
   "outputs": [
    {
     "data": {
      "text/plain": [
       "(232, 232)"
      ]
     },
     "execution_count": 51,
     "metadata": {},
     "output_type": "execute_result"
    }
   ],
   "source": [
    "sum(FibsIterator(100)), sum(FibsGen(100))"
   ]
  },
  {
   "cell_type": "markdown",
   "metadata": {},
   "source": [
    "-----------\n",
    "\n",
    "# Generating data / Scientific Python\n",
    "\n",
    "- This course provides only a brief introduction to Scientific Python\n",
    "- See especially [J. R. Johansson's book *Numerical Python*](http://jrjohansson.github.io/numericalpython.html)\n",
    "    - Available for free as [eBook from NMBU network](https://link.springer.com/book/10.1007/978-1-4842-0553-2)\n",
    "    - [Jupyter Notebooks for the book on Github](https://github.com/jrjohansson/numerical-python-book-code)\n",
    "- See also \n",
    "    - J.R.Johanssons' [Introduction to Scientific Computing with Python](http://nbviewer.ipython.org/github/jrjohansson/scientific-python-lectures/blob/master/Lecture-0-Scientific-Computing-with-Python.ipynb)\n",
    "    - [Python Scienctific Lecture Notes](http://scipy-lectures.github.io/) \n"
   ]
  },
  {
   "cell_type": "markdown",
   "metadata": {},
   "source": [
    "## Version information\n",
    "\n",
    "- When working with scientific Python, we often use a large stack of packages\n",
    "- Can be useful to freeze a set of package version using a [conda environment](https://conda.io/docs/user-guide/tasks/manage-environments.html)\n",
    "- Important to keep track of which versions we are using\n",
    "\n",
    "#### A little tool to display version information"
   ]
  },
  {
   "cell_type": "code",
   "execution_count": 52,
   "metadata": {},
   "outputs": [],
   "source": [
    "import importlib\n",
    "\n",
    "def show_versions(additional_modules=None):\n",
    "    \"\"\"\n",
    "    Displays table of version numbers.\n",
    "    \n",
    "    :param additional_modules: Iterable with modules beyond default modules\n",
    "    \"\"\"\n",
    "\n",
    "    modules = ['numpy', 'scipy', 'pandas', 'matplotlib']\n",
    "\n",
    "    if additional_modules:\n",
    "        modules += additional_modules\n",
    "        \n",
    "    for name in modules:\n",
    "        try:\n",
    "            mod = importlib.import_module(name)\n",
    "        except ImportError:\n",
    "            print(f'{name:12} module not available')\n",
    "            continue\n",
    "            \n",
    "        try:    \n",
    "            print(f'{name:12} {mod.__version__:8}')\n",
    "        except AttributeError:\n",
    "            print(f'{name:12} no version information')"
   ]
  },
  {
   "cell_type": "code",
   "execution_count": 53,
   "metadata": {},
   "outputs": [
    {
     "name": "stdout",
     "output_type": "stream",
     "text": [
      "numpy        1.21.2  \n",
      "scipy        1.7.1   \n",
      "pandas       1.3.4   \n",
      "matplotlib   3.4.3   \n"
     ]
    }
   ],
   "source": [
    "show_versions()"
   ]
  },
  {
   "cell_type": "code",
   "execution_count": 54,
   "metadata": {},
   "outputs": [
    {
     "name": "stdout",
     "output_type": "stream",
     "text": [
      "numpy        1.21.2  \n",
      "scipy        1.7.1   \n",
      "pandas       1.3.4   \n",
      "matplotlib   3.4.3   \n",
      "seaborn      0.11.2  \n",
      "sympy        1.9     \n",
      "sklearn      1.0.1   \n"
     ]
    }
   ],
   "source": [
    "show_versions(['seaborn', 'sympy', 'sklearn'])"
   ]
  },
  {
   "cell_type": "markdown",
   "metadata": {},
   "source": [
    "----------\n",
    "\n",
    "## A *very* short introduction to SymPy\n",
    "\n",
    "- [SymPy](http://www.sympy.org/en/index.html) provides *computer algebra* or *symbolic mathematics* in Python\n",
    "- It allows you to perform *symbolic* manipulations on mathematical expressions (instead of *numerical* calculations)\n",
    "- Examples based on SymPy documentation"
   ]
  },
  {
   "cell_type": "code",
   "execution_count": 55,
   "metadata": {},
   "outputs": [],
   "source": [
    "import sympy as sy\n",
    "sy.init_printing(use_latex=True)"
   ]
  },
  {
   "cell_type": "markdown",
   "metadata": {},
   "source": [
    "### Simplify expressions\n",
    "\n",
    "- Before we can use a variable name as a *symbolic* variable, we need to define it as such"
   ]
  },
  {
   "cell_type": "code",
   "execution_count": 56,
   "metadata": {},
   "outputs": [],
   "source": [
    "x = sy.symbols('x')"
   ]
  },
  {
   "cell_type": "markdown",
   "metadata": {},
   "source": [
    "- We can then use the symbol in mathematical expressions"
   ]
  },
  {
   "cell_type": "code",
   "execution_count": 57,
   "metadata": {},
   "outputs": [
    {
     "data": {
      "image/png": "[encoded data removed]",
      "text/latex": [
       "$\\displaystyle \\frac{x^{3} + x^{2} - x - 1}{x^{2} + 2 x + 1}$"
      ],
      "text/plain": [
       " 3    2        \n",
       "x  + x  - x - 1\n",
       "───────────────\n",
       "   2           \n",
       "  x  + 2⋅x + 1 "
      ]
     },
     "execution_count": 57,
     "metadata": {},
     "output_type": "execute_result"
    }
   ],
   "source": [
    "y = (x**3 + x**2 - x - 1)/(x**2 + 2*x + 1)\n",
    "y"
   ]
  },
  {
   "cell_type": "markdown",
   "metadata": {},
   "source": [
    "- And we can apply operations, e.g., simplification"
   ]
  },
  {
   "cell_type": "code",
   "execution_count": 58,
   "metadata": {},
   "outputs": [
    {
     "data": {
      "image/png": "[encoded data removed]",
      "text/latex": [
       "$\\displaystyle x - 1$"
      ],
      "text/plain": [
       "x - 1"
      ]
     },
     "execution_count": 58,
     "metadata": {},
     "output_type": "execute_result"
    }
   ],
   "source": [
    "sy.simplify(y)"
   ]
  },
  {
   "cell_type": "markdown",
   "metadata": {},
   "source": [
    "### Find the derivative of an expression\n",
    "\n",
    "$$\\frac{d}{dx} \\sin(x) e^x$$\n",
    "\n",
    "- When using mathematical functions in expressions, we need to take them from SymPy"
   ]
  },
  {
   "cell_type": "code",
   "execution_count": 59,
   "metadata": {},
   "outputs": [
    {
     "data": {
      "image/png": "[encoded data removed]",
      "text/latex": [
       "$\\displaystyle e^{x} \\sin{\\left(x \\right)} + e^{x} \\cos{\\left(x \\right)}$"
      ],
      "text/plain": [
       " x           x       \n",
       "ℯ ⋅sin(x) + ℯ ⋅cos(x)"
      ]
     },
     "execution_count": 59,
     "metadata": {},
     "output_type": "execute_result"
    }
   ],
   "source": [
    "sy.diff(sy.sin(x) * sy.exp(x), x)"
   ]
  },
  {
   "cell_type": "markdown",
   "metadata": {},
   "source": [
    "### Find the integral of an expression\n",
    "\n",
    "$$\\int e^x\\sin x + e^x \\cos x dx$$"
   ]
  },
  {
   "cell_type": "code",
   "execution_count": 60,
   "metadata": {},
   "outputs": [
    {
     "data": {
      "image/png": "[encoded data removed]",
      "text/latex": [
       "$\\displaystyle e^{x} \\sin{\\left(x \\right)}$"
      ],
      "text/plain": [
       " x       \n",
       "ℯ ⋅sin(x)"
      ]
     },
     "execution_count": 60,
     "metadata": {},
     "output_type": "execute_result"
    }
   ],
   "source": [
    "sy.integrate(sy.exp(x) * sy.sin(x) + sy.exp(x) * sy.cos(x), x)"
   ]
  },
  {
   "cell_type": "markdown",
   "metadata": {},
   "source": [
    "### Solve equations\n",
    "\n",
    "- By default, SymPy assumes that the expression should be zero"
   ]
  },
  {
   "cell_type": "code",
   "execution_count": 61,
   "metadata": {},
   "outputs": [
    {
     "data": {
      "image/png": "[encoded data removed]",
      "text/latex": [
       "$\\displaystyle \\left[ - \\sqrt{2} i, \\  \\sqrt{2} i\\right]$"
      ],
      "text/plain": [
       "[-√2⋅ⅈ, √2⋅ⅈ]"
      ]
     },
     "execution_count": 61,
     "metadata": {},
     "output_type": "execute_result"
    }
   ],
   "source": [
    "sy.solve(x**2+2, x)"
   ]
  },
  {
   "cell_type": "markdown",
   "metadata": {},
   "source": [
    "- If the right hand side is not zero, we need to use `Eq`"
   ]
  },
  {
   "cell_type": "code",
   "execution_count": 62,
   "metadata": {},
   "outputs": [
    {
     "data": {
      "image/png": "[encoded data removed]",
      "text/latex": [
       "$\\displaystyle \\left[ - \\frac{1}{2} + \\frac{\\sqrt{13}}{2}, \\  - \\frac{\\sqrt{13}}{2} - \\frac{1}{2}\\right]$"
      ],
      "text/plain": [
       "⎡  1   √13    √13   1⎤\n",
       "⎢- ─ + ───, - ─── - ─⎥\n",
       "⎣  2    2      2    2⎦"
      ]
     },
     "execution_count": 62,
     "metadata": {},
     "output_type": "execute_result"
    }
   ],
   "source": [
    "sy.solve(sy.Eq(x**2 + x, 3), x)"
   ]
  },
  {
   "cell_type": "markdown",
   "metadata": {},
   "source": [
    "- Using `solveset()` we can obtain all solutions"
   ]
  },
  {
   "cell_type": "code",
   "execution_count": 63,
   "metadata": {},
   "outputs": [
    {
     "data": {
      "image/png": "[encoded data removed]",
      "text/latex": [
       "$\\displaystyle \\left\\{2 n \\pi + \\frac{3 \\pi}{2}\\; \\middle|\\; n \\in \\mathbb{Z}\\right\\}$"
      ],
      "text/plain": [
       "⎧        3⋅π │      ⎫\n",
       "⎨2⋅n⋅π + ─── │ n ∊ ℤ⎬\n",
       "⎩         2  │      ⎭"
      ]
     },
     "execution_count": 63,
     "metadata": {},
     "output_type": "execute_result"
    }
   ],
   "source": [
    "sy.solveset(sy.sin(x)+1, x)"
   ]
  },
  {
   "cell_type": "markdown",
   "metadata": {},
   "source": [
    "### Some linear algebra\n",
    "\n",
    "#### Define a matrix"
   ]
  },
  {
   "cell_type": "code",
   "execution_count": 64,
   "metadata": {},
   "outputs": [
    {
     "data": {
      "image/png": "[encoded data removed]",
      "text/latex": [
       "$\\displaystyle \\left[\\begin{matrix}3 & -2 & 4 & -2\\\\5 & 3 & -3 & -2\\\\5 & -2 & 2 & -2\\\\5 & -2 & -3 & 3\\end{matrix}\\right]$"
      ],
      "text/plain": [
       "⎡3  -2  4   -2⎤\n",
       "⎢             ⎥\n",
       "⎢5  3   -3  -2⎥\n",
       "⎢             ⎥\n",
       "⎢5  -2  2   -2⎥\n",
       "⎢             ⎥\n",
       "⎣5  -2  -3  3 ⎦"
      ]
     },
     "execution_count": 64,
     "metadata": {},
     "output_type": "execute_result"
    }
   ],
   "source": [
    "m = sy.Matrix([[3, -2,  4, -2], [5,  3, -3, -2], [5, -2,  2, -2], [5, -2, -3,  3]])\n",
    "m"
   ]
  },
  {
   "cell_type": "markdown",
   "metadata": {},
   "source": [
    "#### Matrix-matrix multiplication"
   ]
  },
  {
   "cell_type": "code",
   "execution_count": 65,
   "metadata": {},
   "outputs": [
    {
     "data": {
      "image/png": "[encoded data removed]",
      "text/latex": [
       "$\\displaystyle \\left[\\begin{matrix}9 & -16 & 32 & -16\\\\5 & 9 & 11 & -16\\\\5 & -16 & 36 & -16\\\\5 & -16 & 11 & 9\\end{matrix}\\right]$"
      ],
      "text/plain": [
       "⎡9  -16  32  -16⎤\n",
       "⎢               ⎥\n",
       "⎢5   9   11  -16⎥\n",
       "⎢               ⎥\n",
       "⎢5  -16  36  -16⎥\n",
       "⎢               ⎥\n",
       "⎣5  -16  11   9 ⎦"
      ]
     },
     "execution_count": 65,
     "metadata": {},
     "output_type": "execute_result"
    }
   ],
   "source": [
    "m * m"
   ]
  },
  {
   "cell_type": "markdown",
   "metadata": {},
   "source": [
    "#### Inverse matrix"
   ]
  },
  {
   "cell_type": "code",
   "execution_count": 66,
   "metadata": {},
   "outputs": [
    {
     "data": {
      "image/png": "[encoded data removed]",
      "text/latex": [
       "$\\displaystyle \\left[\\begin{matrix}\\frac{1}{3} & \\frac{2}{15} & - \\frac{4}{15} & \\frac{2}{15}\\\\\\frac{5}{6} & \\frac{1}{3} & - \\frac{29}{30} & \\frac{2}{15}\\\\\\frac{5}{6} & \\frac{2}{15} & - \\frac{23}{30} & \\frac{2}{15}\\\\\\frac{5}{6} & \\frac{2}{15} & - \\frac{29}{30} & \\frac{1}{3}\\end{matrix}\\right]$"
      ],
      "text/plain": [
       "⎡1/3  2/15  -4/15  2/15⎤\n",
       "⎢                      ⎥\n",
       "⎢           -29        ⎥\n",
       "⎢5/6  1/3   ────   2/15⎥\n",
       "⎢            30        ⎥\n",
       "⎢                      ⎥\n",
       "⎢           -23        ⎥\n",
       "⎢5/6  2/15  ────   2/15⎥\n",
       "⎢            30        ⎥\n",
       "⎢                      ⎥\n",
       "⎢           -29        ⎥\n",
       "⎢5/6  2/15  ────   1/3 ⎥\n",
       "⎣            30        ⎦"
      ]
     },
     "execution_count": 66,
     "metadata": {},
     "output_type": "execute_result"
    }
   ],
   "source": [
    "m_inv = m**(-1)\n",
    "m_inv"
   ]
  },
  {
   "cell_type": "code",
   "execution_count": 67,
   "metadata": {},
   "outputs": [
    {
     "data": {
      "image/png": "[encoded data removed]",
      "text/latex": [
       "$\\displaystyle \\left[\\begin{matrix}1 & 0 & 0 & 0\\\\0 & 1 & 0 & 0\\\\0 & 0 & 1 & 0\\\\0 & 0 & 0 & 1\\end{matrix}\\right]$"
      ],
      "text/plain": [
       "⎡1  0  0  0⎤\n",
       "⎢          ⎥\n",
       "⎢0  1  0  0⎥\n",
       "⎢          ⎥\n",
       "⎢0  0  1  0⎥\n",
       "⎢          ⎥\n",
       "⎣0  0  0  1⎦"
      ]
     },
     "execution_count": 67,
     "metadata": {},
     "output_type": "execute_result"
    }
   ],
   "source": [
    "m * m_inv"
   ]
  },
  {
   "cell_type": "markdown",
   "metadata": {},
   "source": [
    "#### Determinant"
   ]
  },
  {
   "cell_type": "code",
   "execution_count": 68,
   "metadata": {},
   "outputs": [
    {
     "data": {
      "image/png": "[encoded data removed]",
      "text/latex": [
       "$\\displaystyle -150$"
      ],
      "text/plain": [
       "-150"
      ]
     },
     "execution_count": 68,
     "metadata": {},
     "output_type": "execute_result"
    }
   ],
   "source": [
    "m.det()"
   ]
  },
  {
   "cell_type": "markdown",
   "metadata": {},
   "source": [
    "#### Eigenvalues and eigenvectors"
   ]
  },
  {
   "cell_type": "code",
   "execution_count": 69,
   "metadata": {},
   "outputs": [
    {
     "data": {
      "image/png": "[encoded data removed]",
      "text/latex": [
       "$\\displaystyle \\left\\{ -2 : 1, \\  3 : 1, \\  5 : 2\\right\\}$"
      ],
      "text/plain": [
       "{-2: 1, 3: 1, 5: 2}"
      ]
     },
     "execution_count": 69,
     "metadata": {},
     "output_type": "execute_result"
    }
   ],
   "source": [
    "m.eigenvals()"
   ]
  },
  {
   "cell_type": "code",
   "execution_count": 70,
   "metadata": {},
   "outputs": [
    {
     "data": {
      "image/png": "[encoded data removed]",
      "text/latex": [
       "$\\displaystyle \\left[ \\left( -2, \\  1, \\  \\left[ \\left[\\begin{matrix}0\\\\1\\\\1\\\\1\\end{matrix}\\right]\\right]\\right), \\  \\left( 3, \\  1, \\  \\left[ \\left[\\begin{matrix}1\\\\1\\\\1\\\\1\\end{matrix}\\right]\\right]\\right), \\  \\left( 5, \\  2, \\  \\left[ \\left[\\begin{matrix}1\\\\1\\\\1\\\\0\\end{matrix}\\right], \\  \\left[\\begin{matrix}0\\\\-1\\\\0\\\\1\\end{matrix}\\right]\\right]\\right)\\right]$"
      ],
      "text/plain": [
       "⎡⎛       ⎡⎡0⎤⎤⎞  ⎛      ⎡⎡1⎤⎤⎞  ⎛      ⎡⎡1⎤  ⎡0 ⎤⎤⎞⎤\n",
       "⎢⎜       ⎢⎢ ⎥⎥⎟  ⎜      ⎢⎢ ⎥⎥⎟  ⎜      ⎢⎢ ⎥  ⎢  ⎥⎥⎟⎥\n",
       "⎢⎜       ⎢⎢1⎥⎥⎟  ⎜      ⎢⎢1⎥⎥⎟  ⎜      ⎢⎢1⎥  ⎢-1⎥⎥⎟⎥\n",
       "⎢⎜-2, 1, ⎢⎢ ⎥⎥⎟, ⎜3, 1, ⎢⎢ ⎥⎥⎟, ⎜5, 2, ⎢⎢ ⎥, ⎢  ⎥⎥⎟⎥\n",
       "⎢⎜       ⎢⎢1⎥⎥⎟  ⎜      ⎢⎢1⎥⎥⎟  ⎜      ⎢⎢1⎥  ⎢0 ⎥⎥⎟⎥\n",
       "⎢⎜       ⎢⎢ ⎥⎥⎟  ⎜      ⎢⎢ ⎥⎥⎟  ⎜      ⎢⎢ ⎥  ⎢  ⎥⎥⎟⎥\n",
       "⎣⎝       ⎣⎣1⎦⎦⎠  ⎝      ⎣⎣1⎦⎦⎠  ⎝      ⎣⎣0⎦  ⎣1 ⎦⎦⎠⎦"
      ]
     },
     "execution_count": 70,
     "metadata": {},
     "output_type": "execute_result"
    }
   ],
   "source": [
    "m.eigenvects()"
   ]
  },
  {
   "cell_type": "code",
   "execution_count": 71,
   "metadata": {},
   "outputs": [],
   "source": [
    "sy.init_printing(use_latex=False)"
   ]
  },
  {
   "cell_type": "markdown",
   "metadata": {},
   "source": [
    "-------------------------\n",
    "\n",
    "## Limits of numerical precision\n",
    "\n",
    "- Computers represent floating point numbers with a fixed number of digits\n",
    "- Most used today\n",
    "    - 64-bit floating point numbers (aka \"doubles\")\n",
    "    - 53-bit mantissa $\\implies$ ca. 16 digits\n",
    "    - smallest and largest numbers ca. $10^{-308}$ and $10^{308}$\n",
    "    - details defined in [IEEE754 Standard for Floating-Point Arithmetic](https://en.wikipedia.org/wiki/IEEE_754)\n",
    "- Machine learning often uses lower precision to gain performance"
   ]
  },
  {
   "cell_type": "markdown",
   "metadata": {},
   "source": [
    "#### Example"
   ]
  },
  {
   "cell_type": "code",
   "execution_count": 72,
   "metadata": {},
   "outputs": [],
   "source": [
    "import math"
   ]
  },
  {
   "cell_type": "code",
   "execution_count": 73,
   "metadata": {},
   "outputs": [
    {
     "data": {
      "text/plain": [
       "4.999999999999999"
      ]
     },
     "execution_count": 73,
     "metadata": {},
     "output_type": "execute_result"
    }
   ],
   "source": [
    "math.exp(math.log(5))"
   ]
  },
  {
   "cell_type": "markdown",
   "metadata": {},
   "source": [
    "The numerical error in this case is"
   ]
  },
  {
   "cell_type": "code",
   "execution_count": 74,
   "metadata": {},
   "outputs": [
    {
     "data": {
      "text/plain": [
       "-8.881784197001252e-16"
      ]
     },
     "execution_count": 74,
     "metadata": {},
     "output_type": "execute_result"
    }
   ],
   "source": [
    "math.exp(math.log(5)) - 5"
   ]
  },
  {
   "cell_type": "markdown",
   "metadata": {},
   "source": [
    "- This is $-8.8817841970012523\\times 10^{-16}$\n",
    "- Such errors are unavoidable and we need to handle them properly\n",
    "- *Numerical mathematics* is a branch of mathematics that focuses on how to obtain reliable results efficiently even while working with limited precision"
   ]
  },
  {
   "cell_type": "markdown",
   "metadata": {},
   "source": [
    "#### Machine precision `eps`\n",
    "\n",
    "Machine precision is the smallest number for which `1 + x > 1` yields `True`."
   ]
  },
  {
   "cell_type": "code",
   "execution_count": 75,
   "metadata": {},
   "outputs": [
    {
     "name": "stdout",
     "output_type": "stream",
     "text": [
      "2.220446049250313e-16\n"
     ]
    }
   ],
   "source": [
    "x = 1.\n",
    "while 1 + x > 1:\n",
    "    x /= 2\n",
    "print(2 * x)"
   ]
  },
  {
   "cell_type": "markdown",
   "metadata": {},
   "source": [
    "- This is the typical machine precision for 64-bit floating point numbers with 53-bit mantissa.\n",
    "- It is equal to "
   ]
  },
  {
   "cell_type": "code",
   "execution_count": 76,
   "metadata": {},
   "outputs": [
    {
     "data": {
      "text/plain": [
       "2.220446049250313e-16"
      ]
     },
     "execution_count": 76,
     "metadata": {},
     "output_type": "execute_result"
    }
   ],
   "source": [
    "2**-52"
   ]
  },
  {
   "cell_type": "markdown",
   "metadata": {},
   "source": [
    "----------\n",
    "\n",
    "## SciPy: A package for scientific computing with Python\n",
    "\n",
    "- Builds on NumPy\n",
    "- [User Guide](https://scipy.github.io/devdocs/tutorial/index.html#user-guide)\n",
    "- Components\n",
    "    - Special functions (scipy.special)\n",
    "    - Integration (scipy.integrate)\n",
    "    - Optimization (scipy.optimize)\n",
    "    - Interpolation (scipy.interpolate)\n",
    "    - Fourier Transforms (scipy.fft)\n",
    "    - Signal Processing (scipy.signal)\n",
    "    - Linear Algebra (scipy.linalg)\n",
    "    - Sparse eigenvalue problems with ARPACK\n",
    "    - Compressed Sparse Graph Routines (scipy.sparse.csgraph)\n",
    "    - Spatial data structures and algorithms (scipy.spatial)\n",
    "    - Statistics (scipy.stats)\n",
    "    - Multidimensional image processing (scipy.ndimage)"
   ]
  },
  {
   "cell_type": "markdown",
   "metadata": {},
   "source": [
    "### SciPy Example: The Lotka-Volterra Model of Population Dynamics"
   ]
  },
  {
   "cell_type": "markdown",
   "metadata": {
    "slideshow": {
     "slide_type": "subslide"
    }
   },
   "source": [
    "- Classic model of predator-prey population dynamics\n",
    "- Two species\n",
    "    - A prey species, e.g., hares\n",
    "    - A predator species, e.g., foxes\n",
    "- Each species is represented by a single density variable\n",
    "- Dynamics are described by coupled, non-linear differential equations\n",
    "\\begin{align}\n",
    "\\dot{x} &= \\alpha x - \\beta x z  \\\\\n",
    "\\dot{z} &= \\delta x z - \\gamma z \n",
    "\\end{align}\n",
    "where $x$ is prey and $z$ is predator.\n",
    "- Notes:\n",
    "    - Solutions are continuous functions\n",
    "    - Fractional values for $x$ and $z$ are possible, and animals never become extinct\n",
    "    - One can remove three out of the four parameters by re-scaling\n",
    "- See also [Wikipedia](https://en.wikipedia.org/wiki/Lotka–Volterra_equations)\n",
    "\n",
    "#### Implementation considerations\n",
    "\n",
    "- SciPy supports integration of ODEs of the form\n",
    "$$\n",
    "\\vec{y}'(t) = \\frac{d\\vec{y}}{dt} = f(\\vec{y}, t; \\text{parameters})\n",
    "$$\n",
    "- This function gives the *instantaneous change*\n",
    "- $\\vec{y}$ is the *state vector* describing the system\n",
    "- We need to combine all variables describing our system into the state vector\n",
    "$$\\vec{y}=\\begin{bmatrix}x \\\\ z\\end{bmatrix}$$\n",
    "- The simplest way to solve the equations is the [forward Euler method](https://en.wikipedia.org/wiki/Euler_method)\n",
    "$$\\vec{y}(t_{k+1}) = \\vec{y}(t_k) + \\Delta \\times \\vec{y}'(t_k)\\quad\\text{with}\\quad \\Delta = t_{k+1}-t_k\\;.$$\n",
    "- SciPy's `odeint` provides a more advanced way to solve the equations (better accuracy)\n",
    "- Note that you must import `scipy.integrate`"
   ]
  },
  {
   "cell_type": "code",
   "execution_count": 77,
   "metadata": {},
   "outputs": [],
   "source": [
    "import numpy as np\n",
    "import matplotlib.pyplot as plt\n",
    "import scipy.integrate"
   ]
  },
  {
   "cell_type": "code",
   "execution_count": 78,
   "metadata": {},
   "outputs": [],
   "source": [
    "plt.rcParams['figure.figsize'] = (12, 4)"
   ]
  },
  {
   "cell_type": "markdown",
   "metadata": {},
   "source": [
    "- Define derivative function\n",
    "    - Our function does not use parameter `t`, the time at which we evaluate the derivative, because time does not appear expliclity in the differetial equations\n",
    "    - If we want to include, e.g., seasonal variation, we could add a term depending explicitly on `t`"
   ]
  },
  {
   "cell_type": "code",
   "execution_count": 79,
   "metadata": {
    "slideshow": {
     "slide_type": "subslide"
    }
   },
   "outputs": [],
   "source": [
    "def lv_dynamics(y, t, alpha, beta, gamma, delta):\n",
    "    x, z = y\n",
    "    dx = alpha * x - beta * x * z\n",
    "    dz = delta * x * z - gamma * z\n",
    "    return np.array([dx, dz])"
   ]
  },
  {
   "cell_type": "markdown",
   "metadata": {},
   "source": [
    "- Create a time axis\n",
    "- Then call `odeint` to solve the equation system for the given times\n",
    "- We need to pass as arguments\n",
    "    - The function computing the derivatives\n",
    "    - The initial conditions $\\vec{y}(0) = \\left(x(0), z(0)\\right)$\n",
    "    - The time axis\n",
    "    - The parameters for the derivatives function"
   ]
  },
  {
   "cell_type": "code",
   "execution_count": 80,
   "metadata": {
    "slideshow": {
     "slide_type": "subslide"
    }
   },
   "outputs": [],
   "source": [
    "t = np.linspace(0, 15, num=100)\n",
    "y = scipy.integrate.odeint(lv_dynamics, (10, 5), t, args=(1.0, 0.1, 1.5, 0.075))"
   ]
  },
  {
   "cell_type": "markdown",
   "metadata": {},
   "source": [
    "- `y` now has two columns, one with the values for `x`, one with the values for `z`\n",
    "- `y` has one row per time step in `t`"
   ]
  },
  {
   "cell_type": "code",
   "execution_count": 81,
   "metadata": {},
   "outputs": [
    {
     "name": "stdout",
     "output_type": "stream",
     "text": [
      "100\n",
      "(100, 2)\n",
      "[[10.          5.        ]\n",
      " [10.83069053  4.48339944]\n",
      " [11.81388408  4.06178257]\n",
      " [12.96046926  3.72457292]\n",
      " [14.28279236  3.46356423]]\n"
     ]
    }
   ],
   "source": [
    "print(len(t))\n",
    "print(y.shape)\n",
    "print(y[:5, :])"
   ]
  },
  {
   "cell_type": "markdown",
   "metadata": {},
   "source": [
    "- We now plot"
   ]
  },
  {
   "cell_type": "code",
   "execution_count": 82,
   "metadata": {
    "slideshow": {
     "slide_type": "subslide"
    }
   },
   "outputs": [
    {
     "data": {
      "image/png": "[encoded data removed]",
      "text/plain": [
       "<Figure size 864x288 with 1 Axes>"
      ]
     },
     "metadata": {
      "needs_background": "light"
     },
     "output_type": "display_data"
    }
   ],
   "source": [
    "plt.plot(t, y)\n",
    "plt.legend(['Hares', 'Foxes'], loc='upper left')\n",
    "plt.title('Time Evolution')\n",
    "plt.xlabel('Time')\n",
    "plt.ylabel('Population size');"
   ]
  },
  {
   "cell_type": "markdown",
   "metadata": {},
   "source": [
    "- We can also look at the number of foxes as a function of the number of hares"
   ]
  },
  {
   "cell_type": "code",
   "execution_count": 83,
   "metadata": {
    "slideshow": {
     "slide_type": "subslide"
    }
   },
   "outputs": [
    {
     "data": {
      "image/png": "[encoded data removed]",
      "text/plain": [
       "<Figure size 864x288 with 1 Axes>"
      ]
     },
     "metadata": {
      "needs_background": "light"
     },
     "output_type": "display_data"
    }
   ],
   "source": [
    "hares, foxes = y[:, 0], y[:, 1]\n",
    "\n",
    "plt.plot(hares, foxes)\n",
    "plt.title('Phase Space')\n",
    "plt.xlabel('Number of hares')\n",
    "plt.ylabel('Number of foxes')\n",
    "plt.axis([0, 50, 0, 30])\n",
    "plt.plot(10, 5, 'ro')\n",
    "plt.gca().set_aspect(aspect='equal')\n",
    "plt.legend(['Time evolution', 'Initial condition']);"
   ]
  },
  {
   "cell_type": "markdown",
   "metadata": {},
   "source": [
    "### How does the minimum number of hares depend on parameters?"
   ]
  },
  {
   "cell_type": "code",
   "execution_count": 84,
   "metadata": {},
   "outputs": [],
   "source": [
    "alpha = np.linspace(0.5, 1.5, num=20)\n",
    "beta = np.linspace(0.05, 0.15, num=15)\n",
    "min_hares = np.zeros((len(alpha), len(beta)))\n",
    "\n",
    "for aix, a in enumerate(alpha):\n",
    "    for bix, b in enumerate(beta):\n",
    "        t = np.linspace(0, 15, num=200)\n",
    "        y = scipy.integrate.odeint(lv_dynamics, (10, 5), t, args=(a, b, 1.5, 0.075))\n",
    "        min_hares[aix, bix] = y[:, 0].min()"
   ]
  },
  {
   "cell_type": "code",
   "execution_count": 85,
   "metadata": {},
   "outputs": [
    {
     "data": {
      "image/png": "[encoded data removed]",
      "text/plain": [
       "<Figure size 864x288 with 2 Axes>"
      ]
     },
     "metadata": {
      "needs_background": "light"
     },
     "output_type": "display_data"
    }
   ],
   "source": [
    "plt.pcolormesh(beta, alpha, min_hares, shading='nearest');\n",
    "plt.xlabel(r'$\\beta$');\n",
    "plt.ylabel(r'$\\alpha$');\n",
    "plt.title('Minimal number of hares');\n",
    "cb = plt.colorbar();\n",
    "cb.ax.set_ylabel('Animal number');"
   ]
  },
  {
   "cell_type": "markdown",
   "metadata": {},
   "source": [
    "#### Analysis\n",
    "\n",
    "- This figure is somewhat confusing:\n",
    "    - Large $\\alpha$ means high birth-rate for hares\n",
    "    - Small $\\beta$ means low rate of hares being eaten by foxes\n",
    "    - Why do we then have the smallest minimum of hares in the top-left corner, where $\\alpha$ is largest and $\\beta$ is smallest?\n",
    "- We need to check if this is plausible\n",
    "    - Plot trajectories for different $(\\alpha, \\beta)$ combinations\n"
   ]
  },
  {
   "cell_type": "code",
   "execution_count": 90,
   "metadata": {},
   "outputs": [
    {
     "data": {
      "image/png": "[encoded data removed]",
      "text/plain": [
       "<Figure size 864x288 with 1 Axes>"
      ]
     },
     "metadata": {
      "needs_background": "light"
     },
     "output_type": "display_data"
    }
   ],
   "source": [
    "t = np.linspace(0, 15, num=100)\n",
    "ab_combis = ((0.6, 0.05), (1.4, 0.05), (1.0, 0.1), (0.6, 0.15), (1.4, 0.15))\n",
    "for alpha, beta in ab_combis:\n",
    "    y = scipy.integrate.odeint(lv_dynamics, (10, 5), t, args=(alpha, beta, 1.5, 0.075))\n",
    "    plt.plot(y[:, 0], y[:, 1], label=rf'$\\alpha={alpha}, \\beta={beta}$')\n",
    "    \n",
    "plt.title('Phase Space')\n",
    "plt.xlabel('Number of hares')\n",
    "plt.ylabel('Number of foxes')\n",
    "plt.axis([0, 70, 0, 100])\n",
    "plt.plot(10, 5, 'ro', label='Initial condition')\n",
    "#plt.gca().set_aspect(aspect='equal')\n",
    "plt.legend();"
   ]
  },
  {
   "cell_type": "markdown",
   "metadata": {},
   "source": [
    "- This plot shows that for the point corresponding to $\\alpha=1.4$, $\\beta=0.05$ (orange) has the smallest minimal number of hares, but at the same time the largest maximum number as well. So the results seem to make sense.\n",
    "- We note that the orange curve has some \"kinks\", which points to a too low time resolution. We thus run the integration again with ten-fold time resolution."
   ]
  },
  {
   "cell_type": "code",
   "execution_count": 109,
   "metadata": {},
   "outputs": [
    {
     "data": {
      "image/png": "[encoded data removed]",
      "text/plain": [
       "<Figure size 864x288 with 1 Axes>"
      ]
     },
     "metadata": {
      "needs_background": "light"
     },
     "output_type": "display_data"
    }
   ],
   "source": [
    "alpha, beta = 1.4, 0.05\n",
    "\n",
    "for num_timesteps, ls in [(1000, '.'), (100, 'sy'), (10, 'vr')]:\n",
    "    t = np.linspace(0, 15, num=num_timesteps)\n",
    "    y = scipy.integrate.odeint(lv_dynamics, (10, 5), t, args=(alpha, beta, 1.5, 0.075))\n",
    "    plt.plot(y[:, 0], y[:, 1], ls, label=rf'$N = {num_timesteps}$')\n",
    "plt.legend();"
   ]
  },
  {
   "cell_type": "markdown",
   "metadata": {},
   "source": [
    "- We see that the points for all resolutions lie on the same curve, but for few points we sample the complete trajectory only very coarsly\n",
    "- We get this high precision even for low time resolution because `odeint()` uses an advanced adaptive-stepsize solver behind the scenes\n",
    "- The data points for 10 and 100 time points occur in groups because we integrate up to $t=15$, corresponding to slightly more than three periods of the oscillatory cycle, as seen in the time plot:"
   ]
  },
  {
   "cell_type": "code",
   "execution_count": 113,
   "metadata": {},
   "outputs": [
    {
     "data": {
      "image/png": "[encoded data removed]",
      "text/plain": [
       "<Figure size 864x288 with 1 Axes>"
      ]
     },
     "metadata": {
      "needs_background": "light"
     },
     "output_type": "display_data"
    }
   ],
   "source": [
    "alpha, beta = 1.4, 0.05\n",
    "\n",
    "for num_timesteps, ls in [(1000, '.'), (100, 'sy'), (10, 'vr')]:\n",
    "    t = np.linspace(0, 15, num=num_timesteps)\n",
    "    y = scipy.integrate.odeint(lv_dynamics, (10, 5), t, args=(alpha, beta, 1.5, 0.075))\n",
    "    plt.plot(t, y, ls)"
   ]
  },
  {
   "cell_type": "markdown",
   "metadata": {},
   "source": [
    "#### Add-on: Showing the derivatives in the phase plane\n",
    "\n",
    "- It can be interesing to visualised the right-hand side of the differential equation\n",
    "- The followin code computes the derivative at certain points in the Hares-Foxes plain and displays it as arrows\n",
    "- We use a quiver-plot for that"
   ]
  },
  {
   "cell_type": "code",
   "execution_count": 117,
   "metadata": {
    "slideshow": {
     "slide_type": "subslide"
    }
   },
   "outputs": [
    {
     "data": {
      "image/png": "[encoded data removed]",
      "text/plain": [
       "<Figure size 864x288 with 2 Axes>"
      ]
     },
     "metadata": {
      "needs_background": "light"
     },
     "output_type": "display_data"
    }
   ],
   "source": [
    "# Plot trajectories\n",
    "values = ((6, 3), (9, 4), (12, 6), (15, 8), (18, 9))\n",
    "colors = plt.cm.autumn_r(np.linspace(0.3, 1., len(values)))\n",
    "\n",
    "for u0, col in zip(values, colors):\n",
    "    y = scipy.integrate.odeint(lv_dynamics, u0, t, args=(1.0, 0.1, 1.5, 0.075))\n",
    "    plt.plot(y[:,0], y[:,1], color=col)\n",
    "\n",
    "# Plot phase space direction arrows\n",
    "x = np.linspace(0, 70, 17)\n",
    "y = np.linspace(0, 50, 13)\n",
    "X, Y = np.meshgrid(x, y)\n",
    "DX, DY = lv_dynamics([X, Y], 0, 1.0, 0.1, 1.5, 0.075)\n",
    "\n",
    "# Normalize direction vectors\n",
    "M = np.hypot(DX, DY)\n",
    "M[M == 0] = 1.                                 # Avoid zero division errors\n",
    "DX /= M                                        # Normalize each arrow\n",
    "DY /= M\n",
    "\n",
    "plt.title('Trajectories and direction fields')\n",
    "plt.quiver(X, Y, DX, DY, M, pivot='mid', cmap=plt.cm.jet)\n",
    "plt.xlabel('Number of rabbits')\n",
    "plt.ylabel('Number of foxes')\n",
    "plt.gca().set_aspect(aspect='equal')\n",
    "plt.axis([0, 70, 0, 50]);\n",
    "plt.colorbar();"
   ]
  },
  {
   "cell_type": "code",
   "execution_count": null,
   "metadata": {},
   "outputs": [],
   "source": []
  }
 ],
 "metadata": {
  "kernelspec": {
   "display_name": "Python 3 (ipykernel)",
   "language": "python",
   "name": "python3"
  },
  "language_info": {
   "codemirror_mode": {
    "name": "ipython",
    "version": 3
   },
   "file_extension": ".py",
   "mimetype": "text/x-python",
   "name": "python",
   "nbconvert_exporter": "python",
   "pygments_lexer": "ipython3",
   "version": "3.8.12"
  }
 },
 "nbformat": 4,
 "nbformat_minor": 4
}
