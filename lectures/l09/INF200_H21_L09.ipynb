{
 "cells": [
  {
   "cell_type": "markdown",
   "metadata": {},
   "source": [
    "# INF200 Lecture No 9\n",
    "\n",
    "### 8 November 2021\n",
    "\n",
    "## Today's topics\n",
    "\n",
    "1. Object-oriented programming\n",
    "    1. Review\n",
    "    1. Defining new data types\n",
    "1. Staying in control\n",
    "    1. Assertions"
   ]
  },
  {
   "cell_type": "markdown",
   "metadata": {},
   "source": [
    "# Object-oriented programming\n",
    "\n",
    "----------\n",
    "\n",
    "## Review\n",
    "\n",
    "See slides for Lecture 8."
   ]
  },
  {
   "cell_type": "markdown",
   "metadata": {},
   "source": [
    "-------------------\n",
    "\n",
    "## Defining new data types\n",
    "\n",
    "- OO Idea 1: Combine data and behavior into *new data types*\n",
    "- Problem: How to make our classes behave more like built-in data types\n",
    "    - nice printing\n",
    "    - comparison between instances (e.g., sorting `Member`s)\n",
    "    - mathematical operations (e.g., computing with vectors)\n",
    "- Solution: Operator overloading\n",
    "- See, e.g., Langtangen ch 7.3-7.5 (4th edition)\n",
    "- **Overloading**: Giving an operation a (new) meaning.\n",
    "\n",
    "### Overloading in Python\n",
    "\n",
    "- All classes inherit from `object` methods for\n",
    "    - initialization (constructor)\n",
    "    - string representation (printing)\n",
    "    - comparison (by `id`)\n",
    "    - etc\n",
    "- Operations are implemented by `__xxxxxx__()` methods\n",
    "- We can *overload* these functions to define behavior for our classes\n",
    "- First example: constructor `__init__()`\n",
    "\n",
    "#### Defining the string representation of objects"
   ]
  },
  {
   "cell_type": "code",
   "execution_count": 1,
   "metadata": {},
   "outputs": [
    {
     "name": "stdout",
     "output_type": "stream",
     "text": [
      "<__main__.Member object at 0x7fb104fcd1c0> <__main__.Member object at 0x7fb104fcd220>\n"
     ]
    }
   ],
   "source": [
    "class Member:\n",
    "    def __init__(self, name, number):\n",
    "        self.name, self.number = name, number\n",
    "\n",
    "    def display(self):\n",
    "        print(\"Member: {0.name} (#{0.number})\".format(self))\n",
    "        \n",
    "joe = Member('Joe', 123)\n",
    "jane = Member('Jane', 456)\n",
    "\n",
    "print(joe, jane)"
   ]
  },
  {
   "cell_type": "markdown",
   "metadata": {},
   "source": [
    "- Default string representation from `object`\n",
    "- Not useful\n",
    "- Add string representation methods `__str__()` and `__repr__()`"
   ]
  },
  {
   "cell_type": "code",
   "execution_count": 4,
   "metadata": {},
   "outputs": [
    {
     "name": "stdout",
     "output_type": "stream",
     "text": [
      "Member: Joe (#123)\n",
      "Member: Jane (#456)\n",
      "[Member('Joe', 123), Member('Jane', 456)]\n"
     ]
    }
   ],
   "source": [
    "class Member:\n",
    "    def __init__(self, name, number):\n",
    "        self.name, self.number = name, number\n",
    "        \n",
    "    def __str__(self):\n",
    "        return \"Member: {0.name} (#{0.number})\".format(self)\n",
    "\n",
    "    def __repr__(self):\n",
    "        return \"Member('{0.name}', {0.number})\".format(self)\n",
    "\n",
    "    def display(self):\n",
    "        print(\"Member: {0.name} (#{0.number})\".format(self))\n",
    "        \n",
    "joe = Member('Joe', 123)\n",
    "jane = Member('Jane', 456)\n",
    "\n",
    "print(joe)\n",
    "print(jane)\n",
    "print([joe, jane])"
   ]
  },
  {
   "cell_type": "markdown",
   "metadata": {},
   "source": [
    "- The two string representation methods:\n",
    "    - **`__str__()`**\n",
    "        - called by `print` and `str` it it exists\n",
    "        - should return \"user friendly\" display of instance\n",
    "    - **`__repr__()`**\n",
    "        - called in all other cases\n",
    "        - also called by `print` and `str` if\n",
    "            - `__str__()` is not defined\n",
    "            - the instance is part of a list, tuple or dictionary\n",
    "        - should return a string that can be used to recreate the object\n",
    "    - Both methods must return a string\n",
    "    - If you want to implement only one of the two, implement `__repr__()`\n",
    "- We can re-define the `display()` method in terms of `__str__()`\n",
    "    - Note that `print(self)` inside a method is equivalent to `print(self.__str__())`"
   ]
  },
  {
   "cell_type": "code",
   "execution_count": 5,
   "metadata": {},
   "outputs": [],
   "source": [
    "class Member:\n",
    "    def __init__(self, name, number):\n",
    "        self.name, self.number = name, number\n",
    "        \n",
    "    def __str__(self):\n",
    "        return \"Member: {0.name} (#{0.number})\".format(self)\n",
    "\n",
    "    def __repr__(self):\n",
    "        return \"Member('{0.name}', {0.number})\".format(self)\n",
    "\n",
    "    def display(self):\n",
    "        print(self)"
   ]
  },
  {
   "cell_type": "markdown",
   "metadata": {},
   "source": [
    "- In subclasses, we now only need to override `__str__()` and `__repr__()`, but not `display()`"
   ]
  },
  {
   "cell_type": "code",
   "execution_count": 6,
   "metadata": {},
   "outputs": [],
   "source": [
    "class Officer(Member):\n",
    "    def __init__(self, name, number, rank):\n",
    "        Member.__init__(self, name, number)\n",
    "        self.rank = rank\n",
    "\n",
    "    def __str__(self):\n",
    "        return \"{0.rank}: {0.name} (#{0.number})\".format(self)\n",
    "\n",
    "    def __repr__(self):\n",
    "        return \"Officer('{0.name}', {0.number}, '{0.rank}')\".format(self)\n",
    "\n",
    "jack = Officer('Jack', 789, 'President')"
   ]
  },
  {
   "cell_type": "code",
   "execution_count": 7,
   "metadata": {},
   "outputs": [
    {
     "name": "stdout",
     "output_type": "stream",
     "text": [
      "Members as list: [Member('Joe', 123), Member('Jane', 456), Officer('Jack', 789, 'President')]\n",
      "Member: Joe (#123)\n",
      "Member: Jane (#456)\n",
      "President: Jack (#789)\n"
     ]
    }
   ],
   "source": [
    "members = [joe, jane, jack]\n",
    "print(\"Members as list:\", members)\n",
    "for member in members:\n",
    "    member.display()"
   ]
  },
  {
   "cell_type": "markdown",
   "metadata": {},
   "source": [
    "### Defining mathematical operations\n",
    "\n",
    "- `+`, `-`, `*`, `/` and further mathematical operators can be defined for classes\n",
    "- See http://docs.python.org/library/operator.html for a complete list\n",
    "- No default definitions are inherited from `object`: only what you provide is available\n",
    "- Think carefully about what definitions may make sense, e.g.,\n",
    "    - string addition: concatenation\n",
    "    - string times integer n: concatenate string with itself n times\n",
    "    - subtraction and division not definable for string\n",
    "- Methods: `__add__`, `__sub__`, `__mul__`, `__truediv__`\n",
    "- `a + b` is equivalent to `a.__add__(b)`\n",
    "- Below\n",
    "    - `lhs`: left-hand side\n",
    "    - `rhs`: right-hand side"
   ]
  },
  {
   "cell_type": "code",
   "execution_count": 11,
   "metadata": {},
   "outputs": [],
   "source": [
    "import math"
   ]
  },
  {
   "cell_type": "code",
   "execution_count": 15,
   "metadata": {},
   "outputs": [],
   "source": [
    "class Vector:\n",
    "\n",
    "    def __init__(self, x, y):\n",
    "        self.x = x\n",
    "        self.y = y\n",
    "\n",
    "    def __repr__(self):\n",
    "        return f'Vector({self.x}, {self.y})'\n",
    "\n",
    "    def __add__(self, rhs):\n",
    "        return Vector(self.x + rhs.x, self.y + rhs.y)\n",
    "\n",
    "    def __sub__(self, rhs):\n",
    "        return Vector(self.x - rhs.x, self.y - rhs.y)\n",
    "\n",
    "    def __mul__(self, rhs):\n",
    "        return Vector(self.x * rhs, self.y * rhs)\n",
    "\n",
    "    def __rmul__(self, lhs):\n",
    "        return self * lhs\n",
    "\n",
    "    def __truediv__(self, rhs):\n",
    "        return self * (1. / rhs)\n",
    "\n",
    "    def norm(self):\n",
    "        return math.sqrt(self.x ** 2 + self.y ** 2)"
   ]
  },
  {
   "cell_type": "markdown",
   "metadata": {},
   "source": [
    "We create a few vectors and work with them. Note that `print` now falls back on the `__repr__()` method for printing the vectors, because `__str__()` is not implemented."
   ]
  },
  {
   "cell_type": "code",
   "execution_count": 17,
   "metadata": {
    "scrolled": true
   },
   "outputs": [
    {
     "name": "stdout",
     "output_type": "stream",
     "text": [
      "v       =  Vector(1, 2)\n",
      "w       =  Vector(30, 40)\n",
      "v + w   =  Vector(31, 42)\n",
      "v * 5   =  Vector(5, 10)\n",
      "2 * v   =  Vector(2, 4)\n",
      "v / 10  =  Vector(0.1, 0.2)\n",
      "norm(v) =  2.23606797749979\n"
     ]
    }
   ],
   "source": [
    "v = Vector(1, 2)\n",
    "w = Vector(30, 40)\n",
    "\n",
    "print(\"v       = \", v)\n",
    "print(\"w       = \", w)\n",
    "print(\"v + w   = \", v + w)\n",
    "print(\"v * 5   = \", v * 5)\n",
    "print(\"2 * v   = \", 2 * v)\n",
    "print(\"v / 10  = \", v / 10)\n",
    "print(\"norm(v) = \", v.norm())"
   ]
  },
  {
   "cell_type": "markdown",
   "metadata": {},
   "source": [
    "- `__rmul__()` vs `__mul__()`:\n",
    "    - `v * 5` is `v.__mul__(5)`: no problem, run `Vector.__mul__(v, 5)`\n",
    "    - `2 * v` would be `2.__mul__(v)`, i.e., `int.__mul__(2, v)`\n",
    "    - `int` knows nothing about vectors: error!\n",
    "    - `__rmul__()`: called with swapped arguments if `__mul__()` fails\n",
    "    - `2 * v` becomes `v.__rmul__(2)`, running `Vector.__rmul__(v, 2)`\n",
    "    - `__rmul__()` usually implemented in terms of `__mul__()` or `*`\n",
    "- `r`-versions also for other math methods"
   ]
  },
  {
   "cell_type": "markdown",
   "metadata": {},
   "source": [
    "### Overriding comparisons\n",
    "\n",
    "- `<`, `<=`, `>`, `>=`, `==`, `!=` can be overriding by defining `__lt__`, `__le__`, `__gt__`, `__ge__`, `__eq__`, `__ne__`\n",
    "- `x < y` is equivalent to `x.__lt__(y)`\n",
    "- Shall return `True` or `False`\n",
    "- This set of six comparisons is known as \"rich comparisons\"\n",
    "\n",
    "#### Default comparisons\n",
    "\n",
    "- By default, a new class inherits comparisons from the fundamental base class `object`\n",
    "- `__eq__` and `__ne__` test for *object identity*\n",
    "    - same `o1 == o2` means the same as `o1 is o2`\n",
    "    - ususally sensible, except for mathematical types\n",
    "- All other comparisons return `NotImplemented` and will result in an error"
   ]
  },
  {
   "cell_type": "code",
   "execution_count": 18,
   "metadata": {},
   "outputs": [
    {
     "data": {
      "text/plain": [
       "(True, False)"
      ]
     },
     "execution_count": 18,
     "metadata": {},
     "output_type": "execute_result"
    }
   ],
   "source": [
    "o1 = object()\n",
    "o2 = object()\n",
    "\n",
    "o1 == o1, o1 == o2"
   ]
  },
  {
   "cell_type": "code",
   "execution_count": 19,
   "metadata": {},
   "outputs": [
    {
     "ename": "TypeError",
     "evalue": "'<' not supported between instances of 'object' and 'object'",
     "output_type": "error",
     "traceback": [
      "\u001b[0;31m---------------------------------------------------------------------------\u001b[0m",
      "\u001b[0;31mTypeError\u001b[0m                                 Traceback (most recent call last)",
      "\u001b[0;32m/var/folders/j5/971zg6qd58n070p_ds781hzm0000gn/T/ipykernel_16263/556318062.py\u001b[0m in \u001b[0;36m<module>\u001b[0;34m\u001b[0m\n\u001b[0;32m----> 1\u001b[0;31m \u001b[0mo1\u001b[0m \u001b[0;34m<\u001b[0m \u001b[0mo2\u001b[0m\u001b[0;34m\u001b[0m\u001b[0;34m\u001b[0m\u001b[0m\n\u001b[0m",
      "\u001b[0;31mTypeError\u001b[0m: '<' not supported between instances of 'object' and 'object'"
     ]
    }
   ],
   "source": [
    "o1 < o2"
   ]
  },
  {
   "cell_type": "markdown",
   "metadata": {},
   "source": [
    "#### Class-specific comparisons\n",
    "\n",
    "- Override only comparisons that can be defined meaningfully!\n",
    "- Equality can be defined for most types\n",
    "- Only define \"less than\" and similar if there is one universal way of ordering instances of a class\n",
    "    - Numbers are well-ordered in a mathematical sense: define `__lt__()` etc\n",
    "    - Vectors can only be compared for equality\n",
    "    - If instances can be ordered in different ways in different situations (by name, member number, age, ...) define the ordering rule as `key` to the sorting function\n",
    "- If you define \"less than\", implement all other comparisons as well\n",
    "    - Define them in terms of `<` and `==` to ensure consistency\n",
    "    \n",
    "##### Example: Vector class\n",
    "\n",
    "- Only equality and inequality\n",
    "- Try first vector class from above *without* comparisons"
   ]
  },
  {
   "cell_type": "code",
   "execution_count": 20,
   "metadata": {},
   "outputs": [
    {
     "data": {
      "text/plain": [
       "False"
      ]
     },
     "execution_count": 20,
     "metadata": {},
     "output_type": "execute_result"
    }
   ],
   "source": [
    "v1 = Vector(1, 2)\n",
    "v2 = Vector(1, 2)\n",
    "v1 == v2"
   ]
  },
  {
   "cell_type": "markdown",
   "metadata": {},
   "source": [
    "- Result is `False` because `Vector` inherited `__eq__` from `object` and tests for `v1 is v2`\n",
    "- Now create class with overridden comparisons"
   ]
  },
  {
   "cell_type": "code",
   "execution_count": 22,
   "metadata": {},
   "outputs": [],
   "source": [
    "class NewVector:\n",
    "\n",
    "    def __init__(self, x, y):\n",
    "        self.x = x\n",
    "        self.y = y\n",
    "        \n",
    "    def __eq__(self, rhs):\n",
    "        return self.x == rhs.x and self.y == rhs.y\n",
    "    \n",
    "    def __ne__(self, rhs):\n",
    "        return not self == rhs\n",
    "\n",
    "    def __repr__(self):\n",
    "        return 'Vector({0.x}, {0.y})'.format(self)\n",
    "\n",
    "    def __add__(self, rhs):\n",
    "        return Vector(self.x + rhs.x, self.y + rhs.y)\n",
    "\n",
    "    def __sub__(self, rhs):\n",
    "        return Vector(self.x - rhs.x, self.y - rhs.y)\n",
    "\n",
    "    def __mul__(self, rhs):\n",
    "        return Vector(self.x * rhs, self.y * rhs)\n",
    "\n",
    "    def __rmul__(self, lhs):\n",
    "        return self * lhs\n",
    "\n",
    "    def __truediv__(self, rhs):\n",
    "        return self * (1. / rhs)\n",
    "\n",
    "    def norm(self):\n",
    "        return math.sqrt(self.x ** 2 + self.y ** 2)"
   ]
  },
  {
   "cell_type": "code",
   "execution_count": 23,
   "metadata": {},
   "outputs": [
    {
     "data": {
      "text/plain": [
       "(True, True, False)"
      ]
     },
     "execution_count": 23,
     "metadata": {},
     "output_type": "execute_result"
    }
   ],
   "source": [
    "nv1 = NewVector(1, 2)\n",
    "nv2 = NewVector(1, 2)\n",
    "nv3 = NewVector(1.0, 2.0)\n",
    "nv4 = NewVector(5, 8)\n",
    "\n",
    "nv1 == nv2, nv1 == nv3, nv1 == nv4"
   ]
  },
  {
   "cell_type": "markdown",
   "metadata": {},
   "source": [
    "- We now compare for equality in the mathematical sense\n",
    "- We do not allow relative comparisons"
   ]
  },
  {
   "cell_type": "code",
   "execution_count": 24,
   "metadata": {},
   "outputs": [
    {
     "ename": "TypeError",
     "evalue": "'<' not supported between instances of 'NewVector' and 'NewVector'",
     "output_type": "error",
     "traceback": [
      "\u001b[0;31m---------------------------------------------------------------------------\u001b[0m",
      "\u001b[0;31mTypeError\u001b[0m                                 Traceback (most recent call last)",
      "\u001b[0;32m/var/folders/j5/971zg6qd58n070p_ds781hzm0000gn/T/ipykernel_16263/1330033468.py\u001b[0m in \u001b[0;36m<module>\u001b[0;34m\u001b[0m\n\u001b[0;32m----> 1\u001b[0;31m \u001b[0mnv1\u001b[0m \u001b[0;34m<\u001b[0m \u001b[0mnv4\u001b[0m\u001b[0;34m\u001b[0m\u001b[0;34m\u001b[0m\u001b[0m\n\u001b[0m",
      "\u001b[0;31mTypeError\u001b[0m: '<' not supported between instances of 'NewVector' and 'NewVector'"
     ]
    }
   ],
   "source": [
    "nv1 < nv4"
   ]
  },
  {
   "cell_type": "markdown",
   "metadata": {},
   "source": [
    "#### Example: a fraction class supporting all comparisons\n",
    "\n",
    "- Note that we only need to implement `__eq__()` and `__lt__()` explicitly\n",
    "- All other comparisons can be constructed from those two."
   ]
  },
  {
   "cell_type": "code",
   "execution_count": 31,
   "metadata": {},
   "outputs": [],
   "source": [
    "class Fraction:\n",
    "    def __init__(self, a, b):\n",
    "        assert b > 0, \"Denominator b > 0 required.\"\n",
    "        self.a, self.b = a, b\n",
    "    \n",
    "    def __eq__(self, rhs):\n",
    "        return self.a * rhs.b == rhs.a * self.b\n",
    "    \n",
    "    def __ne__(self, rhs):\n",
    "        return not self == rhs\n",
    "    \n",
    "    def __lt__(self, rhs):\n",
    "        return self.a * rhs.b < rhs.a * self.b  # expand fractions to same denominator and compare numerators\n",
    "\n",
    "    def __le__(self, rhs):\n",
    "        return self < rhs or self == rhs\n",
    "    \n",
    "    def __gt__(self, rhs):\n",
    "        return rhs < self\n",
    "\n",
    "    def __ge__(self, rhs):\n",
    "        return rhs <= self"
   ]
  },
  {
   "cell_type": "code",
   "execution_count": 32,
   "metadata": {},
   "outputs": [
    {
     "data": {
      "text/plain": [
       "True"
      ]
     },
     "execution_count": 32,
     "metadata": {},
     "output_type": "execute_result"
    }
   ],
   "source": [
    "Fraction(1, 2) == Fraction(2, 4)"
   ]
  },
  {
   "cell_type": "code",
   "execution_count": 16,
   "metadata": {},
   "outputs": [],
   "source": [
    "f1 = Fraction(3, 4)\n",
    "f2 = Fraction(2, 3)"
   ]
  },
  {
   "cell_type": "code",
   "execution_count": 17,
   "metadata": {},
   "outputs": [
    {
     "data": {
      "text/plain": [
       "(False, False, True)"
      ]
     },
     "execution_count": 17,
     "metadata": {},
     "output_type": "execute_result"
    }
   ],
   "source": [
    "f1 == f2, f1 < f2, f1 >= f2"
   ]
  },
  {
   "cell_type": "markdown",
   "metadata": {},
   "source": [
    "------------\n",
    "\n",
    "# Staying in control\n",
    "\n",
    "## Background\n",
    "\n",
    "- Computers can solve complex tasks fast\n",
    "- Humans tend to trust in results provided by computers\n",
    "- In some situations, lives depend on computers working correctly\n",
    "- Requires reliable software\n",
    "- Difficult to achieve: we can demonstrate the presence of bugs, proving their absence is (essentially) impossible\n",
    "- Field of software engineering: *Verification* and *Validation*\n",
    "- We look only at essential elements"
   ]
  },
  {
   "cell_type": "markdown",
   "metadata": {},
   "source": [
    "### Elements of reliable software\n",
    "\n",
    "- Software shall not return incorrect results\n",
    "- Software shall fail in controlled ways \n",
    "- Software shall handle unforseen conditions\n",
    "- Software shall be tested solidly\n",
    "- **Software should fail rather than return incorrect results.**"
   ]
  },
  {
   "cell_type": "markdown",
   "metadata": {},
   "source": [
    "### Techniques towards reliability\n",
    "\n",
    "- **Assertions**\n",
    "    - check that requirements are fulfilled\n",
    "    - stop execution if requirement not fulfilled\n",
    "    - key use cases\n",
    "        - very simple \"emergency stops\" if we don't want to spend time on proper error handling\n",
    "        - catching things that \"cannot happen\", but where we want to be on the safe side (in large projects, you never know ...)\n",
    "- **Exceptions**\n",
    "    - mechanism for signaling that something unexpected happended\n",
    "    - available in most modern programming languages\n",
    "    - exceptions are *raised* or *thrown* when a problem is detected\n",
    "    - exceptions can be *caught* and *handled*, e.g., by issuing a useful error message\n",
    "    - in some languages, e.g., Python, exceptions are also used as part of normal programming\n",
    "- **Testing**\n",
    "    - systematic testing of code can help us to find errors\n",
    "    - a proper set of tests also helps us to avoid introducing new errors as software evolves\n",
    "    - *unit tests* are tests of small parts of code, typically functions\n",
    "    - *integration tests* test that the parts of a larger project work together\n",
    "    - *regression tests* are added when a bug is discovered\n",
    "        - the test reproduces the bug\n",
    "        - when the bug is fixed, the test passes\n",
    "        - we keep the test, in case we should re-introduce the bug by a later change (regress)"
   ]
  },
  {
   "cell_type": "markdown",
   "metadata": {},
   "source": [
    "----------\n",
    "\n",
    "## Assertions\n",
    "\n",
    "- *pass* if a boolean expression is True\n",
    "- *fail* if a boolean expression is False"
   ]
  },
  {
   "cell_type": "code",
   "execution_count": 33,
   "metadata": {},
   "outputs": [],
   "source": [
    "assert True"
   ]
  },
  {
   "cell_type": "code",
   "execution_count": 34,
   "metadata": {},
   "outputs": [
    {
     "ename": "AssertionError",
     "evalue": "",
     "output_type": "error",
     "traceback": [
      "\u001b[0;31m---------------------------------------------------------------------------\u001b[0m",
      "\u001b[0;31mAssertionError\u001b[0m                            Traceback (most recent call last)",
      "\u001b[0;32m/var/folders/j5/971zg6qd58n070p_ds781hzm0000gn/T/ipykernel_16263/2103537015.py\u001b[0m in \u001b[0;36m<module>\u001b[0;34m\u001b[0m\n\u001b[0;32m----> 1\u001b[0;31m \u001b[0;32massert\u001b[0m \u001b[0;32mFalse\u001b[0m\u001b[0;34m\u001b[0m\u001b[0;34m\u001b[0m\u001b[0m\n\u001b[0m",
      "\u001b[0;31mAssertionError\u001b[0m: "
     ]
    }
   ],
   "source": [
    "assert False"
   ]
  },
  {
   "cell_type": "markdown",
   "metadata": {},
   "source": [
    "We can use them to catch certain conditions"
   ]
  },
  {
   "cell_type": "code",
   "execution_count": 35,
   "metadata": {},
   "outputs": [],
   "source": [
    "def inverse(x):\n",
    "    \"\"\"Returns 1 / x.\"\"\"\n",
    "    \n",
    "    assert x != 0\n",
    "    \n",
    "    return 1. / x"
   ]
  },
  {
   "cell_type": "code",
   "execution_count": 36,
   "metadata": {},
   "outputs": [
    {
     "data": {
      "text/plain": [
       "0.1"
      ]
     },
     "execution_count": 36,
     "metadata": {},
     "output_type": "execute_result"
    }
   ],
   "source": [
    "inverse(10)"
   ]
  },
  {
   "cell_type": "code",
   "execution_count": 37,
   "metadata": {},
   "outputs": [
    {
     "ename": "AssertionError",
     "evalue": "",
     "output_type": "error",
     "traceback": [
      "\u001b[0;31m---------------------------------------------------------------------------\u001b[0m",
      "\u001b[0;31mAssertionError\u001b[0m                            Traceback (most recent call last)",
      "\u001b[0;32m/var/folders/j5/971zg6qd58n070p_ds781hzm0000gn/T/ipykernel_16263/3105141989.py\u001b[0m in \u001b[0;36m<module>\u001b[0;34m\u001b[0m\n\u001b[0;32m----> 1\u001b[0;31m \u001b[0minverse\u001b[0m\u001b[0;34m(\u001b[0m\u001b[0;36m0.\u001b[0m\u001b[0;34m)\u001b[0m\u001b[0;34m\u001b[0m\u001b[0;34m\u001b[0m\u001b[0m\n\u001b[0m",
      "\u001b[0;32m/var/folders/j5/971zg6qd58n070p_ds781hzm0000gn/T/ipykernel_16263/855487488.py\u001b[0m in \u001b[0;36minverse\u001b[0;34m(x)\u001b[0m\n\u001b[1;32m      2\u001b[0m     \u001b[0;34m\"\"\"Returns 1 / x.\"\"\"\u001b[0m\u001b[0;34m\u001b[0m\u001b[0;34m\u001b[0m\u001b[0m\n\u001b[1;32m      3\u001b[0m \u001b[0;34m\u001b[0m\u001b[0m\n\u001b[0;32m----> 4\u001b[0;31m     \u001b[0;32massert\u001b[0m \u001b[0mx\u001b[0m \u001b[0;34m!=\u001b[0m \u001b[0;36m0\u001b[0m\u001b[0;34m\u001b[0m\u001b[0;34m\u001b[0m\u001b[0m\n\u001b[0m\u001b[1;32m      5\u001b[0m \u001b[0;34m\u001b[0m\u001b[0m\n\u001b[1;32m      6\u001b[0m     \u001b[0;32mreturn\u001b[0m \u001b[0;36m1.\u001b[0m \u001b[0;34m/\u001b[0m \u001b[0mx\u001b[0m\u001b[0;34m\u001b[0m\u001b[0;34m\u001b[0m\u001b[0m\n",
      "\u001b[0;31mAssertionError\u001b[0m: "
     ]
    }
   ],
   "source": [
    "inverse(0.)"
   ]
  },
  {
   "cell_type": "markdown",
   "metadata": {},
   "source": [
    "We can provide some more information to the user by adding a string after the boolean expression:"
   ]
  },
  {
   "cell_type": "code",
   "execution_count": 38,
   "metadata": {},
   "outputs": [],
   "source": [
    "def inverse(x):\n",
    "    \"\"\"Returns 1 / x.\"\"\"\n",
    "    \n",
    "    assert x != 0, \"Inverse of 0 is not defined.\"\n",
    "    \n",
    "    return 1. / x"
   ]
  },
  {
   "cell_type": "code",
   "execution_count": 39,
   "metadata": {},
   "outputs": [
    {
     "ename": "AssertionError",
     "evalue": "Inverse of 0 is not defined.",
     "output_type": "error",
     "traceback": [
      "\u001b[0;31m---------------------------------------------------------------------------\u001b[0m",
      "\u001b[0;31mAssertionError\u001b[0m                            Traceback (most recent call last)",
      "\u001b[0;32m/var/folders/j5/971zg6qd58n070p_ds781hzm0000gn/T/ipykernel_16263/1507482295.py\u001b[0m in \u001b[0;36m<module>\u001b[0;34m\u001b[0m\n\u001b[0;32m----> 1\u001b[0;31m \u001b[0minverse\u001b[0m\u001b[0;34m(\u001b[0m\u001b[0;36m0\u001b[0m\u001b[0;34m)\u001b[0m\u001b[0;34m\u001b[0m\u001b[0;34m\u001b[0m\u001b[0m\n\u001b[0m",
      "\u001b[0;32m/var/folders/j5/971zg6qd58n070p_ds781hzm0000gn/T/ipykernel_16263/2662188056.py\u001b[0m in \u001b[0;36minverse\u001b[0;34m(x)\u001b[0m\n\u001b[1;32m      2\u001b[0m     \u001b[0;34m\"\"\"Returns 1 / x.\"\"\"\u001b[0m\u001b[0;34m\u001b[0m\u001b[0;34m\u001b[0m\u001b[0m\n\u001b[1;32m      3\u001b[0m \u001b[0;34m\u001b[0m\u001b[0m\n\u001b[0;32m----> 4\u001b[0;31m     \u001b[0;32massert\u001b[0m \u001b[0mx\u001b[0m \u001b[0;34m!=\u001b[0m \u001b[0;36m0\u001b[0m\u001b[0;34m,\u001b[0m \u001b[0;34m\"Inverse of 0 is not defined.\"\u001b[0m\u001b[0;34m\u001b[0m\u001b[0;34m\u001b[0m\u001b[0m\n\u001b[0m\u001b[1;32m      5\u001b[0m \u001b[0;34m\u001b[0m\u001b[0m\n\u001b[1;32m      6\u001b[0m     \u001b[0;32mreturn\u001b[0m \u001b[0;36m1.\u001b[0m \u001b[0;34m/\u001b[0m \u001b[0mx\u001b[0m\u001b[0;34m\u001b[0m\u001b[0;34m\u001b[0m\u001b[0m\n",
      "\u001b[0;31mAssertionError\u001b[0m: Inverse of 0 is not defined."
     ]
    }
   ],
   "source": [
    "inverse(0)"
   ]
  },
  {
   "cell_type": "markdown",
   "metadata": {},
   "source": [
    "We can also use this to check for conditions that are mathematically defined, but make no sense."
   ]
  },
  {
   "cell_type": "code",
   "execution_count": 40,
   "metadata": {},
   "outputs": [],
   "source": [
    "import math\n",
    "\n",
    "def area(r):\n",
    "    \"\"\"Returns area of circle with radius r.\"\"\"\n",
    "    \n",
    "    assert r >= 0, 'Circle radius must be positive.'\n",
    "    \n",
    "    return math.pi * r**2"
   ]
  },
  {
   "cell_type": "code",
   "execution_count": 41,
   "metadata": {},
   "outputs": [
    {
     "data": {
      "text/plain": [
       "3.141592653589793"
      ]
     },
     "execution_count": 41,
     "metadata": {},
     "output_type": "execute_result"
    }
   ],
   "source": [
    "area(1)"
   ]
  },
  {
   "cell_type": "code",
   "execution_count": 42,
   "metadata": {},
   "outputs": [
    {
     "ename": "AssertionError",
     "evalue": "Circle radius must be positive.",
     "output_type": "error",
     "traceback": [
      "\u001b[0;31m---------------------------------------------------------------------------\u001b[0m",
      "\u001b[0;31mAssertionError\u001b[0m                            Traceback (most recent call last)",
      "\u001b[0;32m/var/folders/j5/971zg6qd58n070p_ds781hzm0000gn/T/ipykernel_16263/2431085113.py\u001b[0m in \u001b[0;36m<module>\u001b[0;34m\u001b[0m\n\u001b[0;32m----> 1\u001b[0;31m \u001b[0marea\u001b[0m\u001b[0;34m(\u001b[0m\u001b[0;34m-\u001b[0m\u001b[0;36m1\u001b[0m\u001b[0;34m)\u001b[0m\u001b[0;34m\u001b[0m\u001b[0;34m\u001b[0m\u001b[0m\n\u001b[0m",
      "\u001b[0;32m/var/folders/j5/971zg6qd58n070p_ds781hzm0000gn/T/ipykernel_16263/1911076325.py\u001b[0m in \u001b[0;36marea\u001b[0;34m(r)\u001b[0m\n\u001b[1;32m      4\u001b[0m     \u001b[0;34m\"\"\"Returns area of circle with radius r.\"\"\"\u001b[0m\u001b[0;34m\u001b[0m\u001b[0;34m\u001b[0m\u001b[0m\n\u001b[1;32m      5\u001b[0m \u001b[0;34m\u001b[0m\u001b[0m\n\u001b[0;32m----> 6\u001b[0;31m     \u001b[0;32massert\u001b[0m \u001b[0mr\u001b[0m \u001b[0;34m>=\u001b[0m \u001b[0;36m0\u001b[0m\u001b[0;34m,\u001b[0m \u001b[0;34m'Circle radius must be positive.'\u001b[0m\u001b[0;34m\u001b[0m\u001b[0;34m\u001b[0m\u001b[0m\n\u001b[0m\u001b[1;32m      7\u001b[0m \u001b[0;34m\u001b[0m\u001b[0m\n\u001b[1;32m      8\u001b[0m     \u001b[0;32mreturn\u001b[0m \u001b[0mmath\u001b[0m\u001b[0;34m.\u001b[0m\u001b[0mpi\u001b[0m \u001b[0;34m*\u001b[0m \u001b[0mr\u001b[0m\u001b[0;34m**\u001b[0m\u001b[0;36m2\u001b[0m\u001b[0;34m\u001b[0m\u001b[0;34m\u001b[0m\u001b[0m\n",
      "\u001b[0;31mAssertionError\u001b[0m: Circle radius must be positive."
     ]
    }
   ],
   "source": [
    "area(-1)"
   ]
  }
 ],
 "metadata": {
  "kernelspec": {
   "display_name": "Python 3 (ipykernel)",
   "language": "python",
   "name": "python3"
  },
  "language_info": {
   "codemirror_mode": {
    "name": "ipython",
    "version": 3
   },
   "file_extension": ".py",
   "mimetype": "text/x-python",
   "name": "python",
   "nbconvert_exporter": "python",
   "pygments_lexer": "ipython3",
   "version": "3.9.6"
  }
 },
 "nbformat": 4,
 "nbformat_minor": 4
}
