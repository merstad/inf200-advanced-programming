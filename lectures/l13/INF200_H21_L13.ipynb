{
 "cells": [
  {
   "cell_type": "markdown",
   "metadata": {},
   "source": [
    "# INF200 Lecture No 13\n",
    "\n",
    "###  6 December 2021\n",
    "\n",
    "## Today's topics\n",
    "\n",
    "1. A little more on numerical performance\n",
    "    1. An interesting observation\n",
    "    1. Systematic analysis\n",
    "1. Scientific computing: Chutes & Ladders — Markov analysis\n",
    "1. The block project\n",
    "    1. Practical information\n",
    "    1. Project preview"
   ]
  },
  {
   "cell_type": "markdown",
   "metadata": {
    "jp-MarkdownHeadingCollapsed": true,
    "tags": []
   },
   "source": [
    "----------------\n",
    "\n",
    "# A little more on numerical performance"
   ]
  },
  {
   "cell_type": "code",
   "execution_count": 3,
   "metadata": {},
   "outputs": [
    {
     "name": "stdout",
     "output_type": "stream",
     "text": [
      "NumPy      1.21.2\n",
      "Pandas     1.3.4\n",
      "Matplotlib 3.5.0\n"
     ]
    }
   ],
   "source": [
    "import numpy as np\n",
    "import pandas as pd\n",
    "import matplotlib\n",
    "import matplotlib.pyplot as plt\n",
    "\n",
    "print(f'NumPy      {np.__version__}')\n",
    "print(f'Pandas     {pd.__version__}')\n",
    "print(f'Matplotlib {matplotlib.__version__}')"
   ]
  },
  {
   "cell_type": "markdown",
   "metadata": {},
   "source": [
    "## An interesting observation\n",
    "\n",
    "1. Create a square random matrix\n",
    "1. Perform a mathematical operation on \n",
    "    1. a single column\n",
    "    1. a single row\n",
    "1. Compare times"
   ]
  },
  {
   "cell_type": "code",
   "execution_count": 9,
   "metadata": {},
   "outputs": [],
   "source": [
    "mc = np.random.random((10000, 10000))"
   ]
  },
  {
   "cell_type": "code",
   "execution_count": 24,
   "metadata": {},
   "outputs": [
    {
     "name": "stdout",
     "output_type": "stream",
     "text": [
      "90.8 µs ± 935 ns per loop (mean ± std. dev. of 7 runs, 10000 loops each)\n"
     ]
    }
   ],
   "source": [
    "%timeit mc[:, 5] * 0.5"
   ]
  },
  {
   "cell_type": "code",
   "execution_count": 25,
   "metadata": {},
   "outputs": [
    {
     "name": "stdout",
     "output_type": "stream",
     "text": [
      "3.35 µs ± 32.7 ns per loop (mean ± std. dev. of 7 runs, 100000 loops each)\n"
     ]
    }
   ],
   "source": [
    "%timeit mc[5, :] * 0.5"
   ]
  },
  {
   "cell_type": "markdown",
   "metadata": {},
   "source": [
    "- Multiplying a row is almost 30 times faster than multiplying a column\n",
    "- Why?\n",
    "- We can get the opposite result with a slight modification"
   ]
  },
  {
   "cell_type": "code",
   "execution_count": 26,
   "metadata": {},
   "outputs": [],
   "source": [
    "mf = np.array(np.random.random((10000, 10000)), order='F')"
   ]
  },
  {
   "cell_type": "code",
   "execution_count": 27,
   "metadata": {},
   "outputs": [
    {
     "name": "stdout",
     "output_type": "stream",
     "text": [
      "3.32 µs ± 34.6 ns per loop (mean ± std. dev. of 7 runs, 100000 loops each)\n"
     ]
    }
   ],
   "source": [
    "%timeit mf[:, 5] * 0.5"
   ]
  },
  {
   "cell_type": "code",
   "execution_count": 28,
   "metadata": {},
   "outputs": [
    {
     "name": "stdout",
     "output_type": "stream",
     "text": [
      "90.5 µs ± 445 ns per loop (mean ± std. dev. of 7 runs, 10000 loops each)\n"
     ]
    }
   ],
   "source": [
    "%timeit mf[5, :] * 0.5"
   ]
  },
  {
   "cell_type": "markdown",
   "metadata": {},
   "source": [
    "- The reason for this behavior is *memory layout* for arrays\n",
    "- NumPy default:\n",
    "    - C-style memory layout\n",
    "    - Row elements contiguous in memory\n",
    "    - Also called *row-major* ordering\n",
    "- Alternative `order='F'`\n",
    "    - FORTRAN-style memory layout\n",
    "    - Column elements contiguous in memory\n",
    "    - Also called *column-major* ordering\n",
    "- Operations on contiguous memory are fast\n",
    "    - Data can be moved much more efficiently to CPU"
   ]
  },
  {
   "cell_type": "markdown",
   "metadata": {},
   "source": [
    "## Systematic analysis\n",
    "\n",
    "- Above, we only looked at single array size\n",
    "- To confirm results, we need to look at a range of sizes\n",
    "- Focus on sizes that are powers of 2\n",
    "    - Watch out for memory size: $16384\\times 16384 \\times 8\\text{B}=2\\text{GB}$"
   ]
  },
  {
   "cell_type": "code",
   "execution_count": 30,
   "metadata": {},
   "outputs": [],
   "source": [
    "from timeit import Timer"
   ]
  },
  {
   "cell_type": "code",
   "execution_count": 37,
   "metadata": {},
   "outputs": [],
   "source": [
    "t_c_col = [(n, *Timer(stmt='mc[:, 5] * 0.5', \n",
    "                      setup='mc = np.random.random((n, n))', \n",
    "                      globals={'np': np, 'n': n}).autorange())\n",
    "            for n in [2**k for k in range(3, 15)]]"
   ]
  },
  {
   "cell_type": "code",
   "execution_count": 44,
   "metadata": {},
   "outputs": [
    {
     "data": {
      "text/html": [
       "<div>\n",
       "<style scoped>\n",
       "    .dataframe tbody tr th:only-of-type {\n",
       "        vertical-align: middle;\n",
       "    }\n",
       "\n",
       "    .dataframe tbody tr th {\n",
       "        vertical-align: top;\n",
       "    }\n",
       "\n",
       "    .dataframe thead th {\n",
       "        text-align: right;\n",
       "    }\n",
       "</style>\n",
       "<table border=\"1\" class=\"dataframe\">\n",
       "  <thead>\n",
       "    <tr style=\"text-align: right;\">\n",
       "      <th></th>\n",
       "      <th>0</th>\n",
       "      <th>1</th>\n",
       "      <th>2</th>\n",
       "      <th>3</th>\n",
       "      <th>4</th>\n",
       "      <th>5</th>\n",
       "      <th>6</th>\n",
       "      <th>7</th>\n",
       "      <th>8</th>\n",
       "      <th>9</th>\n",
       "      <th>10</th>\n",
       "      <th>11</th>\n",
       "    </tr>\n",
       "  </thead>\n",
       "  <tbody>\n",
       "    <tr>\n",
       "      <th>n</th>\n",
       "      <td>1.000000e+00</td>\n",
       "      <td>1.000000e+00</td>\n",
       "      <td>1.000000e+00</td>\n",
       "      <td>1.000000e+00</td>\n",
       "      <td>1.000000e+00</td>\n",
       "      <td>1.000000e+00</td>\n",
       "      <td>1.000000e+00</td>\n",
       "      <td>1.000000e+00</td>\n",
       "      <td>1.000000e+00</td>\n",
       "      <td>1.000000e+00</td>\n",
       "      <td>1.000000e+00</td>\n",
       "      <td>1.000000e+00</td>\n",
       "    </tr>\n",
       "    <tr>\n",
       "      <th>Loops</th>\n",
       "      <td>6.250000e+04</td>\n",
       "      <td>3.125000e+04</td>\n",
       "      <td>1.562500e+04</td>\n",
       "      <td>7.812500e+03</td>\n",
       "      <td>3.906250e+03</td>\n",
       "      <td>7.812500e+02</td>\n",
       "      <td>3.906250e+02</td>\n",
       "      <td>9.765625e+01</td>\n",
       "      <td>9.765625e+00</td>\n",
       "      <td>1.220703e+00</td>\n",
       "      <td>2.441406e-01</td>\n",
       "      <td>6.103516e-02</td>\n",
       "    </tr>\n",
       "    <tr>\n",
       "      <th>T_all</th>\n",
       "      <td>4.755096e-02</td>\n",
       "      <td>2.397914e-02</td>\n",
       "      <td>1.220828e-02</td>\n",
       "      <td>6.208735e-03</td>\n",
       "      <td>3.878493e-03</td>\n",
       "      <td>9.753330e-04</td>\n",
       "      <td>6.965778e-04</td>\n",
       "      <td>3.544356e-04</td>\n",
       "      <td>1.009895e-04</td>\n",
       "      <td>5.144097e-05</td>\n",
       "      <td>3.060081e-05</td>\n",
       "      <td>2.097124e-05</td>\n",
       "    </tr>\n",
       "    <tr>\n",
       "      <th>T</th>\n",
       "      <td>9.510192e-08</td>\n",
       "      <td>4.795828e-08</td>\n",
       "      <td>2.441657e-08</td>\n",
       "      <td>1.241747e-08</td>\n",
       "      <td>7.756987e-09</td>\n",
       "      <td>4.876665e-09</td>\n",
       "      <td>3.482889e-09</td>\n",
       "      <td>3.544356e-09</td>\n",
       "      <td>5.049475e-09</td>\n",
       "      <td>1.028819e-08</td>\n",
       "      <td>1.530040e-08</td>\n",
       "      <td>2.097124e-08</td>\n",
       "    </tr>\n",
       "  </tbody>\n",
       "</table>\n",
       "</div>"
      ],
      "text/plain": [
       "                 0             1             2             3             4   \\\n",
       "n      1.000000e+00  1.000000e+00  1.000000e+00  1.000000e+00  1.000000e+00   \n",
       "Loops  6.250000e+04  3.125000e+04  1.562500e+04  7.812500e+03  3.906250e+03   \n",
       "T_all  4.755096e-02  2.397914e-02  1.220828e-02  6.208735e-03  3.878493e-03   \n",
       "T      9.510192e-08  4.795828e-08  2.441657e-08  1.241747e-08  7.756987e-09   \n",
       "\n",
       "                 5             6             7             8             9   \\\n",
       "n      1.000000e+00  1.000000e+00  1.000000e+00  1.000000e+00  1.000000e+00   \n",
       "Loops  7.812500e+02  3.906250e+02  9.765625e+01  9.765625e+00  1.220703e+00   \n",
       "T_all  9.753330e-04  6.965778e-04  3.544356e-04  1.009895e-04  5.144097e-05   \n",
       "T      4.876665e-09  3.482889e-09  3.544356e-09  5.049475e-09  1.028819e-08   \n",
       "\n",
       "                 10            11  \n",
       "n      1.000000e+00  1.000000e+00  \n",
       "Loops  2.441406e-01  6.103516e-02  \n",
       "T_all  3.060081e-05  2.097124e-05  \n",
       "T      1.530040e-08  2.097124e-08  "
      ]
     },
     "execution_count": 44,
     "metadata": {},
     "output_type": "execute_result"
    }
   ],
   "source": [
    "tcc.T / tcc.n"
   ]
  },
  {
   "cell_type": "code",
   "execution_count": 46,
   "metadata": {},
   "outputs": [],
   "source": [
    "tcc = pd.DataFrame(t_c_col)\n",
    "tcc.columns = ['n', 'Loops', 'T_all']\n",
    "tcc['T_stmt'] = tcc.T_all / tcc.Loops    # time per statement execution\n",
    "tcc['T_op'] = tcc.T_stmt / tcc.n * 1e9   # time per single operation, in ns\n",
    "tcc.set_index('n', inplace=True)"
   ]
  },
  {
   "cell_type": "code",
   "execution_count": 47,
   "metadata": {},
   "outputs": [
    {
     "data": {
      "text/html": [
       "<div>\n",
       "<style scoped>\n",
       "    .dataframe tbody tr th:only-of-type {\n",
       "        vertical-align: middle;\n",
       "    }\n",
       "\n",
       "    .dataframe tbody tr th {\n",
       "        vertical-align: top;\n",
       "    }\n",
       "\n",
       "    .dataframe thead th {\n",
       "        text-align: right;\n",
       "    }\n",
       "</style>\n",
       "<table border=\"1\" class=\"dataframe\">\n",
       "  <thead>\n",
       "    <tr style=\"text-align: right;\">\n",
       "      <th></th>\n",
       "      <th>Loops</th>\n",
       "      <th>T_all</th>\n",
       "      <th>T_stmt</th>\n",
       "      <th>T_op</th>\n",
       "    </tr>\n",
       "    <tr>\n",
       "      <th>n</th>\n",
       "      <th></th>\n",
       "      <th></th>\n",
       "      <th></th>\n",
       "      <th></th>\n",
       "    </tr>\n",
       "  </thead>\n",
       "  <tbody>\n",
       "    <tr>\n",
       "      <th>8</th>\n",
       "      <td>500000</td>\n",
       "      <td>0.380408</td>\n",
       "      <td>7.608154e-07</td>\n",
       "      <td>95.101923</td>\n",
       "    </tr>\n",
       "    <tr>\n",
       "      <th>16</th>\n",
       "      <td>500000</td>\n",
       "      <td>0.383666</td>\n",
       "      <td>7.673324e-07</td>\n",
       "      <td>47.958277</td>\n",
       "    </tr>\n",
       "    <tr>\n",
       "      <th>32</th>\n",
       "      <td>500000</td>\n",
       "      <td>0.390665</td>\n",
       "      <td>7.813301e-07</td>\n",
       "      <td>24.416567</td>\n",
       "    </tr>\n",
       "    <tr>\n",
       "      <th>64</th>\n",
       "      <td>500000</td>\n",
       "      <td>0.397359</td>\n",
       "      <td>7.947181e-07</td>\n",
       "      <td>12.417470</td>\n",
       "    </tr>\n",
       "    <tr>\n",
       "      <th>128</th>\n",
       "      <td>500000</td>\n",
       "      <td>0.496447</td>\n",
       "      <td>9.928943e-07</td>\n",
       "      <td>7.756987</td>\n",
       "    </tr>\n",
       "    <tr>\n",
       "      <th>256</th>\n",
       "      <td>200000</td>\n",
       "      <td>0.249685</td>\n",
       "      <td>1.248426e-06</td>\n",
       "      <td>4.876665</td>\n",
       "    </tr>\n",
       "    <tr>\n",
       "      <th>512</th>\n",
       "      <td>200000</td>\n",
       "      <td>0.356648</td>\n",
       "      <td>1.783239e-06</td>\n",
       "      <td>3.482889</td>\n",
       "    </tr>\n",
       "    <tr>\n",
       "      <th>1024</th>\n",
       "      <td>100000</td>\n",
       "      <td>0.362942</td>\n",
       "      <td>3.629420e-06</td>\n",
       "      <td>3.544356</td>\n",
       "    </tr>\n",
       "    <tr>\n",
       "      <th>2048</th>\n",
       "      <td>20000</td>\n",
       "      <td>0.206826</td>\n",
       "      <td>1.034132e-05</td>\n",
       "      <td>5.049475</td>\n",
       "    </tr>\n",
       "    <tr>\n",
       "      <th>4096</th>\n",
       "      <td>5000</td>\n",
       "      <td>0.210702</td>\n",
       "      <td>4.214044e-05</td>\n",
       "      <td>10.288194</td>\n",
       "    </tr>\n",
       "    <tr>\n",
       "      <th>8192</th>\n",
       "      <td>2000</td>\n",
       "      <td>0.250682</td>\n",
       "      <td>1.253409e-04</td>\n",
       "      <td>15.300404</td>\n",
       "    </tr>\n",
       "    <tr>\n",
       "      <th>16384</th>\n",
       "      <td>1000</td>\n",
       "      <td>0.343593</td>\n",
       "      <td>3.435928e-04</td>\n",
       "      <td>20.971241</td>\n",
       "    </tr>\n",
       "  </tbody>\n",
       "</table>\n",
       "</div>"
      ],
      "text/plain": [
       "        Loops     T_all        T_stmt       T_op\n",
       "n                                               \n",
       "8      500000  0.380408  7.608154e-07  95.101923\n",
       "16     500000  0.383666  7.673324e-07  47.958277\n",
       "32     500000  0.390665  7.813301e-07  24.416567\n",
       "64     500000  0.397359  7.947181e-07  12.417470\n",
       "128    500000  0.496447  9.928943e-07   7.756987\n",
       "256    200000  0.249685  1.248426e-06   4.876665\n",
       "512    200000  0.356648  1.783239e-06   3.482889\n",
       "1024   100000  0.362942  3.629420e-06   3.544356\n",
       "2048    20000  0.206826  1.034132e-05   5.049475\n",
       "4096     5000  0.210702  4.214044e-05  10.288194\n",
       "8192     2000  0.250682  1.253409e-04  15.300404\n",
       "16384    1000  0.343593  3.435928e-04  20.971241"
      ]
     },
     "execution_count": 47,
     "metadata": {},
     "output_type": "execute_result"
    }
   ],
   "source": [
    "tcc"
   ]
  },
  {
   "cell_type": "code",
   "execution_count": 50,
   "metadata": {},
   "outputs": [
    {
     "data": {
      "image/png": "[encoded data removed]",
      "text/plain": [
       "<Figure size 432x288 with 1 Axes>"
      ]
     },
     "metadata": {
      "needs_background": "light"
     },
     "output_type": "display_data"
    }
   ],
   "source": [
    "tcc.T_op.plot(kind='bar');\n",
    "plt.xlabel('Array size n');\n",
    "plt.ylabel('Time per operation [ns]');"
   ]
  },
  {
   "cell_type": "markdown",
   "metadata": {},
   "source": [
    "- Looks like a \"sweet spot\" around matrix size $512\\times 512$\n",
    "- Probably dependent on how data is precisely fed in to CPU\n",
    "\n",
    "### Create helper function to run more cases"
   ]
  },
  {
   "cell_type": "code",
   "execution_count": 54,
   "metadata": {},
   "outputs": [],
   "source": [
    "def mat_op_timer(stmt, setup, sizes):\n",
    "    \"\"\"\n",
    "    Time stmt using given setup for problem sizes given.\n",
    "    \n",
    "    setup must use \"n\" to determine size of test data.\n",
    "    \n",
    "    Returns dataframe with results.\n",
    "    \"\"\"\n",
    "    \n",
    "    res = pd.DataFrame(((n, *Timer(stmt=stmt, setup=setup,\n",
    "                                  globals={'np': np, 'n': n}).autorange())\n",
    "                        for n in sizes),\n",
    "                        columns=['n', 'Loops', 'T_all'])\n",
    "    res['T_stmt'] = res.T_all / res.Loops    # time per statement execution\n",
    "    res['T_op'] = res.T_stmt / res.n * 1e9   # time per single operation, in ns\n",
    "    res.set_index('n', inplace=True)\n",
    "    return res"
   ]
  },
  {
   "cell_type": "markdown",
   "metadata": {},
   "source": [
    "### Collect column-wise data"
   ]
  },
  {
   "cell_type": "code",
   "execution_count": 83,
   "metadata": {},
   "outputs": [],
   "source": [
    "sz = [2**k for k in range(3, 16)]\n",
    "tcc = mat_op_timer('mc[:, 1] * 0.5', 'mc = np.random.random((n, n))', sz)"
   ]
  },
  {
   "cell_type": "code",
   "execution_count": 84,
   "metadata": {},
   "outputs": [
    {
     "data": {
      "image/png": "[encoded data removed]",
      "text/plain": [
       "<Figure size 432x288 with 1 Axes>"
      ]
     },
     "metadata": {
      "needs_background": "light"
     },
     "output_type": "display_data"
    }
   ],
   "source": [
    "tcc.T_op.plot(kind='bar');\n",
    "plt.ylabel('Time per operation [ns]');"
   ]
  },
  {
   "cell_type": "markdown",
   "metadata": {},
   "source": [
    "- Consistent with result above"
   ]
  },
  {
   "cell_type": "markdown",
   "metadata": {},
   "source": [
    "### Collect row-wise data"
   ]
  },
  {
   "cell_type": "code",
   "execution_count": 85,
   "metadata": {},
   "outputs": [],
   "source": [
    "tcr = mat_op_timer('mc[1, :] * 0.5', 'mc = np.random.random((n, n))', sz)"
   ]
  },
  {
   "cell_type": "code",
   "execution_count": 86,
   "metadata": {},
   "outputs": [
    {
     "data": {
      "image/png": "[encoded data removed]",
      "text/plain": [
       "<Figure size 432x288 with 1 Axes>"
      ]
     },
     "metadata": {
      "needs_background": "light"
     },
     "output_type": "display_data"
    }
   ],
   "source": [
    "tcr.T_op.plot(kind='bar');\n",
    "plt.ylabel('Time per operation [ns]');"
   ]
  },
  {
   "cell_type": "markdown",
   "metadata": {},
   "source": [
    "- Becomes extremely fast for large sizes\n",
    "- Plot logarithmically "
   ]
  },
  {
   "cell_type": "code",
   "execution_count": 87,
   "metadata": {},
   "outputs": [
    {
     "data": {
      "image/png": "[encoded data removed]",
      "text/plain": [
       "<Figure size 432x288 with 1 Axes>"
      ]
     },
     "metadata": {
      "needs_background": "light"
     },
     "output_type": "display_data"
    }
   ],
   "source": [
    "tcr.T_op.plot(kind='bar', logy=True);\n",
    "plt.ylabel('Time per operation [ns]');"
   ]
  },
  {
   "cell_type": "markdown",
   "metadata": {},
   "source": [
    "### Combine data for column- and row-wise operations\n",
    "\n",
    "- Pandas `merge()` allows us to combine data from two DataFrames\n",
    "    - We use the index (array size) to match rows from the two data frames\n",
    "    - Columns will get suffixes `_c` and `_r` respectively\n",
    "    - We also add a new column with the ratio of operation speeds"
   ]
  },
  {
   "cell_type": "code",
   "execution_count": 88,
   "metadata": {},
   "outputs": [],
   "source": [
    "tc = pd.merge(tcc, tcr, on='n', suffixes=['_c', '_r'])\n",
    "tc['T_op_c / T_op_r'] = tc.T_op_c / tc.T_op_r"
   ]
  },
  {
   "cell_type": "code",
   "execution_count": 89,
   "metadata": {},
   "outputs": [
    {
     "data": {
      "text/html": [
       "<div>\n",
       "<style scoped>\n",
       "    .dataframe tbody tr th:only-of-type {\n",
       "        vertical-align: middle;\n",
       "    }\n",
       "\n",
       "    .dataframe tbody tr th {\n",
       "        vertical-align: top;\n",
       "    }\n",
       "\n",
       "    .dataframe thead th {\n",
       "        text-align: right;\n",
       "    }\n",
       "</style>\n",
       "<table border=\"1\" class=\"dataframe\">\n",
       "  <thead>\n",
       "    <tr style=\"text-align: right;\">\n",
       "      <th></th>\n",
       "      <th>Loops_c</th>\n",
       "      <th>T_all_c</th>\n",
       "      <th>T_stmt_c</th>\n",
       "      <th>T_op_c</th>\n",
       "      <th>Loops_r</th>\n",
       "      <th>T_all_r</th>\n",
       "      <th>T_stmt_r</th>\n",
       "      <th>T_op_r</th>\n",
       "      <th>T_op_c / T_op_r</th>\n",
       "    </tr>\n",
       "    <tr>\n",
       "      <th>n</th>\n",
       "      <th></th>\n",
       "      <th></th>\n",
       "      <th></th>\n",
       "      <th></th>\n",
       "      <th></th>\n",
       "      <th></th>\n",
       "      <th></th>\n",
       "      <th></th>\n",
       "      <th></th>\n",
       "    </tr>\n",
       "  </thead>\n",
       "  <tbody>\n",
       "    <tr>\n",
       "      <th>8</th>\n",
       "      <td>500000</td>\n",
       "      <td>0.388084</td>\n",
       "      <td>7.761690e-07</td>\n",
       "      <td>97.021120</td>\n",
       "      <td>500000</td>\n",
       "      <td>0.394951</td>\n",
       "      <td>7.899021e-07</td>\n",
       "      <td>98.737762</td>\n",
       "      <td>0.982614</td>\n",
       "    </tr>\n",
       "    <tr>\n",
       "      <th>16</th>\n",
       "      <td>500000</td>\n",
       "      <td>0.395611</td>\n",
       "      <td>7.912228e-07</td>\n",
       "      <td>49.451427</td>\n",
       "      <td>500000</td>\n",
       "      <td>0.405792</td>\n",
       "      <td>8.115843e-07</td>\n",
       "      <td>50.724017</td>\n",
       "      <td>0.974911</td>\n",
       "    </tr>\n",
       "    <tr>\n",
       "      <th>32</th>\n",
       "      <td>500000</td>\n",
       "      <td>0.400622</td>\n",
       "      <td>8.012445e-07</td>\n",
       "      <td>25.038891</td>\n",
       "      <td>500000</td>\n",
       "      <td>0.395366</td>\n",
       "      <td>7.907328e-07</td>\n",
       "      <td>24.710399</td>\n",
       "      <td>1.013294</td>\n",
       "    </tr>\n",
       "    <tr>\n",
       "      <th>64</th>\n",
       "      <td>500000</td>\n",
       "      <td>0.405319</td>\n",
       "      <td>8.106376e-07</td>\n",
       "      <td>12.666213</td>\n",
       "      <td>500000</td>\n",
       "      <td>0.399758</td>\n",
       "      <td>7.995152e-07</td>\n",
       "      <td>12.492426</td>\n",
       "      <td>1.013911</td>\n",
       "    </tr>\n",
       "    <tr>\n",
       "      <th>128</th>\n",
       "      <td>200000</td>\n",
       "      <td>0.201877</td>\n",
       "      <td>1.009383e-06</td>\n",
       "      <td>7.885803</td>\n",
       "      <td>500000</td>\n",
       "      <td>0.462965</td>\n",
       "      <td>9.259302e-07</td>\n",
       "      <td>7.233830</td>\n",
       "      <td>1.090128</td>\n",
       "    </tr>\n",
       "    <tr>\n",
       "      <th>256</th>\n",
       "      <td>200000</td>\n",
       "      <td>0.253306</td>\n",
       "      <td>1.266529e-06</td>\n",
       "      <td>4.947378</td>\n",
       "      <td>500000</td>\n",
       "      <td>0.465250</td>\n",
       "      <td>9.305001e-07</td>\n",
       "      <td>3.634766</td>\n",
       "      <td>1.361127</td>\n",
       "    </tr>\n",
       "    <tr>\n",
       "      <th>512</th>\n",
       "      <td>200000</td>\n",
       "      <td>0.360163</td>\n",
       "      <td>1.800817e-06</td>\n",
       "      <td>3.517221</td>\n",
       "      <td>200000</td>\n",
       "      <td>0.211117</td>\n",
       "      <td>1.055586e-06</td>\n",
       "      <td>2.061691</td>\n",
       "      <td>1.705988</td>\n",
       "    </tr>\n",
       "    <tr>\n",
       "      <th>1024</th>\n",
       "      <td>100000</td>\n",
       "      <td>0.343120</td>\n",
       "      <td>3.431202e-06</td>\n",
       "      <td>3.350784</td>\n",
       "      <td>200000</td>\n",
       "      <td>0.209868</td>\n",
       "      <td>1.049341e-06</td>\n",
       "      <td>1.024747</td>\n",
       "      <td>3.269866</td>\n",
       "    </tr>\n",
       "    <tr>\n",
       "      <th>2048</th>\n",
       "      <td>20000</td>\n",
       "      <td>0.203257</td>\n",
       "      <td>1.016284e-05</td>\n",
       "      <td>4.962324</td>\n",
       "      <td>200000</td>\n",
       "      <td>0.248751</td>\n",
       "      <td>1.243757e-06</td>\n",
       "      <td>0.607303</td>\n",
       "      <td>8.171081</td>\n",
       "    </tr>\n",
       "    <tr>\n",
       "      <th>4096</th>\n",
       "      <td>5000</td>\n",
       "      <td>0.211986</td>\n",
       "      <td>4.239722e-05</td>\n",
       "      <td>10.350884</td>\n",
       "      <td>200000</td>\n",
       "      <td>0.362550</td>\n",
       "      <td>1.812748e-06</td>\n",
       "      <td>0.442566</td>\n",
       "      <td>23.388364</td>\n",
       "    </tr>\n",
       "    <tr>\n",
       "      <th>8192</th>\n",
       "      <td>2000</td>\n",
       "      <td>0.249092</td>\n",
       "      <td>1.245462e-04</td>\n",
       "      <td>15.203398</td>\n",
       "      <td>100000</td>\n",
       "      <td>0.312602</td>\n",
       "      <td>3.126019e-06</td>\n",
       "      <td>0.381594</td>\n",
       "      <td>39.841809</td>\n",
       "    </tr>\n",
       "    <tr>\n",
       "      <th>16384</th>\n",
       "      <td>1000</td>\n",
       "      <td>0.327216</td>\n",
       "      <td>3.272156e-04</td>\n",
       "      <td>19.971658</td>\n",
       "      <td>50000</td>\n",
       "      <td>0.236667</td>\n",
       "      <td>4.733342e-06</td>\n",
       "      <td>0.288900</td>\n",
       "      <td>69.129937</td>\n",
       "    </tr>\n",
       "    <tr>\n",
       "      <th>32768</th>\n",
       "      <td>200</td>\n",
       "      <td>0.235433</td>\n",
       "      <td>1.177165e-03</td>\n",
       "      <td>35.924211</td>\n",
       "      <td>20000</td>\n",
       "      <td>0.200103</td>\n",
       "      <td>1.000515e-05</td>\n",
       "      <td>0.305333</td>\n",
       "      <td>117.655866</td>\n",
       "    </tr>\n",
       "  </tbody>\n",
       "</table>\n",
       "</div>"
      ],
      "text/plain": [
       "       Loops_c   T_all_c      T_stmt_c     T_op_c  Loops_r   T_all_r  \\\n",
       "n                                                                      \n",
       "8       500000  0.388084  7.761690e-07  97.021120   500000  0.394951   \n",
       "16      500000  0.395611  7.912228e-07  49.451427   500000  0.405792   \n",
       "32      500000  0.400622  8.012445e-07  25.038891   500000  0.395366   \n",
       "64      500000  0.405319  8.106376e-07  12.666213   500000  0.399758   \n",
       "128     200000  0.201877  1.009383e-06   7.885803   500000  0.462965   \n",
       "256     200000  0.253306  1.266529e-06   4.947378   500000  0.465250   \n",
       "512     200000  0.360163  1.800817e-06   3.517221   200000  0.211117   \n",
       "1024    100000  0.343120  3.431202e-06   3.350784   200000  0.209868   \n",
       "2048     20000  0.203257  1.016284e-05   4.962324   200000  0.248751   \n",
       "4096      5000  0.211986  4.239722e-05  10.350884   200000  0.362550   \n",
       "8192      2000  0.249092  1.245462e-04  15.203398   100000  0.312602   \n",
       "16384     1000  0.327216  3.272156e-04  19.971658    50000  0.236667   \n",
       "32768      200  0.235433  1.177165e-03  35.924211    20000  0.200103   \n",
       "\n",
       "           T_stmt_r     T_op_r  T_op_c / T_op_r  \n",
       "n                                                \n",
       "8      7.899021e-07  98.737762         0.982614  \n",
       "16     8.115843e-07  50.724017         0.974911  \n",
       "32     7.907328e-07  24.710399         1.013294  \n",
       "64     7.995152e-07  12.492426         1.013911  \n",
       "128    9.259302e-07   7.233830         1.090128  \n",
       "256    9.305001e-07   3.634766         1.361127  \n",
       "512    1.055586e-06   2.061691         1.705988  \n",
       "1024   1.049341e-06   1.024747         3.269866  \n",
       "2048   1.243757e-06   0.607303         8.171081  \n",
       "4096   1.812748e-06   0.442566        23.388364  \n",
       "8192   3.126019e-06   0.381594        39.841809  \n",
       "16384  4.733342e-06   0.288900        69.129937  \n",
       "32768  1.000515e-05   0.305333       117.655866  "
      ]
     },
     "execution_count": 89,
     "metadata": {},
     "output_type": "execute_result"
    }
   ],
   "source": [
    "tc"
   ]
  },
  {
   "cell_type": "code",
   "execution_count": 90,
   "metadata": {},
   "outputs": [
    {
     "data": {
      "image/png": "[encoded data removed]",
      "text/plain": [
       "<Figure size 1080x288 with 2 Axes>"
      ]
     },
     "metadata": {
      "needs_background": "light"
     },
     "output_type": "display_data"
    }
   ],
   "source": [
    "fig, ax = plt.subplots(1, 2, figsize=(15, 4))\n",
    "tc.loc[:, ['T_op_c', 'T_op_r']].plot(kind='bar', ax=ax[0], logy=True);\n",
    "ax[0].set_ylabel('Time per operation [ns]');\n",
    "tc.loc[:, 'T_op_c / T_op_r'].plot(marker='o', ax=ax[1]);\n",
    "ax[1].set_ylabel('Speed row vs column');"
   ]
  },
  {
   "cell_type": "markdown",
   "metadata": {},
   "source": [
    "- For small sizes, memory layout makes no difference\n",
    "- For large sizes, row-wise operations *much* faster than column-wise\n",
    "    - Absolute time per operation seems to level-off around 0.3ns\n",
    "    - For a 2 GHz CPU, this time is *shorter than CPU clock cycle* (0.5 ns)\n",
    "    - Possible because [AVX512](https://en.wikipedia.org/wiki/AVX-512) vector operations work on up to 8 doubles simultaneously\n",
    "    \n",
    "### Further steps\n",
    "\n",
    "- Multiple repetitions of experiment to estimate statistical error of measurements\n",
    "- Current `autorange()` use is inefficient, find more intelligent approach\n",
    "- Also measure for Fortran memory layout\n",
    "- Test array sizes that are not power of 2."
   ]
  },
  {
   "cell_type": "code",
   "execution_count": null,
   "metadata": {},
   "outputs": [],
   "source": []
  },
  {
   "cell_type": "markdown",
   "metadata": {
    "tags": []
   },
   "source": [
    "-------------\n",
    "\n",
    "# Chutes & Ladders — Markov analysis"
   ]
  },
  {
   "cell_type": "markdown",
   "metadata": {
    "tags": []
   },
   "source": [
    "We will now use NumPy to analyse Chutes & Ladders not through simulation, but by modeling a stochastic process.\n",
    "\n",
    "The game has two important properties:\n",
    "\n",
    "- The movement of each player is completely independent of the\n",
    "  movements of all other players as long as no player reaches\n",
    "  field 90.\n",
    "- Each move is completely determined by the current position of the figure and the cast of the die.\n",
    "\n",
    "Therefore, each move does not depend on the past moves of the\n",
    "figure in any other way than through the current position of the\n",
    "figure. Because the future depends on the past only through the\n",
    "present position of the figure, the movement of the figure is a\n",
    "[Markov process](https://en.wikipedia.org/wiki/Markov_process). Markov\n",
    "processes play an important role in modeling of a large range of\n",
    "systems in biology, physics, economy etc.\n",
    "\n",
    "An interesting question is how long games last, i.e., how many moves a\n",
    "player has to make before reaching or passing field 90. The number of\n",
    "moves will vary from game to game, and we are interested in the\n",
    "probability distribution for the duration of the game. This is a\n",
    "*first-passage-time problem*, an important class of problems first\n",
    "studied by Erwin Schrödinger in 1915 (Zur Theorie der Fall- und\n",
    "Steigversuche an Teilchen mit Brownscher Bewegung. *Physikalische\n",
    "Zeitschrift* **16**:289–295, 1915)."
   ]
  },
  {
   "cell_type": "markdown",
   "metadata": {},
   "source": [
    "\n",
    "### Background\n",
    "\n",
    "The movement of the walker is a [Markov process](https://en.wikipedia.org/wiki/Markov_process), because the result of a single move depends only on the current position $j$ of the walker and the roll of the die. The entire history, i.e., *how* the walker got to position $j$ does not matter. Such processes are highly relevant in many branches of science and technology. One example of their use in neuroscience is in my PhD thesis ([Plesser, 1999](http://arken.umb.no/~plesser/publications/HEPlesser_PhD.pdf)). We can use techniques for Markov processes to study the movement of the walker in the Chutes & Ladders game.\n",
    "\n",
    "Instead of obtaining the distribution of times to goal using simulation, we can also obtain it by numerical computation (or, using, e.g. SymPy, even exact). Let ${p^{(k)}}$ be a vector with elements $p^{(k)}_j$ ($0\\leq j \\leq G$) representing the probability probability that the walker is at position $j$ after move $k$. As initial conditions, we have\n",
    "\\begin{align}\n",
    "p^{(0)}_0 &= 1\\\\\n",
    "p^{(0)}_j &= 0\\quad\\mathrm{for}\\; j>0\n",
    "\\end{align}\n",
    "Let $M$ be a matrix that describes the how a single move changes the probabilities for the location of the walker. Specifically, let $M_{ij}$ be the probability that a walker in position $j$ will move to position $i$ in the next move. \n",
    "Let us first consider a game without chutes and ladders. The walker will then with equal probability move to one of the next six positions, except for the last few positions on the board, where any move will stop at $G$. We therefore have\n",
    "\\begin{align}\n",
    "M_{0j} &= 0 \\qquad\\mathrm{(can\\,never\\,return\\,to\\,0)} \\\\\n",
    "M_{ij} &= 1/6 \\quad\\mathrm{for}\\; j+1\\leq i \\leq j+6 \\;\\mathrm{and}\\; i < G\\\\\n",
    "M_{Gj} &= 0 \\quad\\mathrm{for}\\; j < G-6 \\\\\n",
    "M_{Gj} &= 1 - (G-j-1)/6 \\quad\\mathrm{for}\\; G-6 \\leq j < G \\\\\n",
    "M_{GG} &= 1\\\\\n",
    "M_{ij} &= 0 \\quad\\mathrm{else}\n",
    "\\end{align}\n",
    "\n",
    "We can then describe the motion of the walker across the board by the following equation:\n",
    "\n",
    "\\begin{equation}\n",
    "p^{(k+1)} = M \\times p^{(k)} \\;.\n",
    "\\end{equation}\n",
    "\n",
    "To obtain the probability distribution for the time to arrive at the goal $G$, we consider $p^{(k)}_G$, which corresponds to the probability that the walker has reached the goal after at most $k$ moves. If $G=6n$, then the goal can at the earliest be reached after $n$ moves (all sixes, probability $(1/6)^n$), and must at the latest be reached after $G$ moves ($G$ ones, probability $(1/6)^G$), i.e.,\n",
    "\n",
    "\\begin{align}\n",
    "p^{(k)}_G &= 0 \\quad\\mathrm{for}\\; k < n \\\\\n",
    "p^{(n)}_G &= (1/6)^n \\\\\n",
    "p^{(G)}_G &= 1\n",
    "\\end{align}\n",
    "\n",
    "These cases provide test cases. Note that $Q_k=p^{(k)}_G$ is the *cumulative*  probability of arrival by step $k$. The probability for arriving *at* step $k$ is \n",
    "$$q_k = Q_k - Q_{k-1}\\;.$$\n",
    "\n",
    "Let us now assume that we have a ladder from $r$ to $s$ (chutes work the same way). Then the probability for the walker to move to $r$ will be $0$, and the corresponding probability will be \"moved\" to $s$. Specifically, based on matrix $M$ from above, we can defined matrix $L$ as follows:\n",
    "\\begin{align}\n",
    "L_{rj} &= 0 \\quad \\forall j \\qquad\\mathrm{(no\\,moves\\,to\\,r)}\\\\\n",
    "L_{sj} &= M_{sj} + M_{rj}\\quad \\forall j \\qquad\\mathrm{(moves\\,to\\,s\\,instead\\,of\\,r)}\\\\\n",
    "L_{ij} &= M_{ij}\\quad\\mathrm{else}\n",
    "\\end{align}"
   ]
  },
  {
   "cell_type": "markdown",
   "metadata": {},
   "source": [
    "### Implementation"
   ]
  },
  {
   "cell_type": "markdown",
   "metadata": {},
   "source": [
    "We defined $p$ as an array with one column per time point we are interested in, and one row per position. We add some extra columns to ensure all is stationary after $G$ steps and to avoid confusion about which matrix dimension is what."
   ]
  },
  {
   "cell_type": "code",
   "execution_count": 91,
   "metadata": {},
   "outputs": [],
   "source": [
    "p = np.zeros((91, 100))\n",
    "p[0, 0] = 1"
   ]
  },
  {
   "cell_type": "code",
   "execution_count": 92,
   "metadata": {},
   "outputs": [],
   "source": [
    "M = np.zeros((91, 91))\n",
    "M[90, 90] = 1\n",
    "M[90, 84:90] = np.array([1., 2., 3., 4., 5., 6.]) / 6.\n",
    "for i in range(1, 90):\n",
    "    M[i, max(0, i-6):i] = 1./6."
   ]
  },
  {
   "cell_type": "code",
   "execution_count": 93,
   "metadata": {},
   "outputs": [],
   "source": [
    "for k in range(1, 100):\n",
    "    p[:, k] = M @ p[:, k-1]"
   ]
  },
  {
   "cell_type": "code",
   "execution_count": 94,
   "metadata": {},
   "outputs": [],
   "source": [
    "plt.rcParams['savefig.dpi'] = 120          \n",
    "plt.rcParams['figure.figsize'] = (12., 6.)"
   ]
  },
  {
   "cell_type": "code",
   "execution_count": 95,
   "metadata": {},
   "outputs": [
    {
     "data": {
      "image/png": "[encoded data removed]",
      "text/plain": [
       "<Figure size 432x432 with 2 Axes>"
      ]
     },
     "metadata": {
      "needs_background": "light"
     },
     "output_type": "display_data"
    }
   ],
   "source": [
    "plt.matshow(M);\n",
    "plt.xlabel('Current board position $j$');\n",
    "plt.ylabel('Next board position $i$');\n",
    "plt.title('Transistion matrix for plain board');\n",
    "ax = plt.colorbar(shrink=0.7);"
   ]
  },
  {
   "cell_type": "markdown",
   "metadata": {},
   "source": [
    "- The broad band slighly below the diagonal represents normal moves.\n",
    "- Accumulation of probability in position $G=90$ is visible in the bottom right corner."
   ]
  },
  {
   "cell_type": "code",
   "execution_count": 96,
   "metadata": {},
   "outputs": [
    {
     "data": {
      "image/png": "[encoded data removed]",
      "text/plain": [
       "<Figure size 474.725x432 with 2 Axes>"
      ]
     },
     "metadata": {
      "needs_background": "light"
     },
     "output_type": "display_data"
    }
   ],
   "source": [
    "plt.matshow(p)\n",
    "plt.xlabel('Step number $k$');\n",
    "plt.ylabel('Board position $j$');\n",
    "plt.title('Evolution of residence probability');\n",
    "ax = plt.colorbar(shrink=0.7);"
   ]
  },
  {
   "cell_type": "markdown",
   "metadata": {},
   "source": [
    "#### Improving the figures\n",
    "\n",
    "- Graphs are a bit difficult to read due to low contrast\n",
    "- We define a function providing nice plotting\n",
    "- For details, see the end of this part of the notebook"
   ]
  },
  {
   "cell_type": "code",
   "execution_count": 99,
   "metadata": {},
   "outputs": [],
   "source": [
    "import matplotlib.cm as cm\n",
    "\n",
    "def prettymat(m):\n",
    "    cm7 = cm.get_cmap('YlGnBu_r', 7)\n",
    "    cm7list = [cm7(i) for i in range(cm7.N)]\n",
    "    cm7list[0] = [0.9, 0.9, 0.9]\n",
    "    cm7mod = cm7.from_list('mymap', cm7list, cm7.N)\n",
    "    plt.matshow(m, cmap=cm7mod)\n",
    "    cax = plt.colorbar(shrink=0.7);\n",
    "    cax.set_ticks(np.arange(0., 7.) / 7. + 1./14.);\n",
    "    cax.set_ticklabels(('0', '1/6', '1/3', '1/2', '2/3', '5/6', '1'));\n",
    "    plt.xlabel('Current board position $j$');\n",
    "    plt.ylabel('Next board position $i$');\n",
    "    plt.title('Transistion matrix for plain board');"
   ]
  },
  {
   "cell_type": "code",
   "execution_count": 100,
   "metadata": {},
   "outputs": [
    {
     "data": {
      "image/png": "[encoded data removed]",
      "text/plain": [
       "<Figure size 432x432 with 2 Axes>"
      ]
     },
     "metadata": {
      "needs_background": "light"
     },
     "output_type": "display_data"
    }
   ],
   "source": [
    "prettymat(M);"
   ]
  },
  {
   "cell_type": "code",
   "execution_count": 101,
   "metadata": {},
   "outputs": [],
   "source": [
    "from matplotlib.colors import PowerNorm\n",
    "\n",
    "def prettyprob(p):\n",
    "    p_cutoff = 0.001\n",
    "    cm_p = cm.get_cmap('YlGnBu_r')\n",
    "    plt.matshow(p, cmap=cm_p,\n",
    "                norm=PowerNorm(gamma=0.2, vmin=p_cutoff, vmax=1))\n",
    "    plt.xlabel('Step number $k$');\n",
    "    plt.ylabel('Board position $j$');\n",
    "    plt.title('Evolution of residence probability');\n",
    "    cax = plt.colorbar(shrink=0.8, extend='min');\n",
    "    cax.set_ticks([p_cutoff, 0.002, 0.005, 0.01, 0.02, 0.05, \n",
    "                   0.1, 0.2, 0.5, 1.0]);"
   ]
  },
  {
   "cell_type": "code",
   "execution_count": 102,
   "metadata": {},
   "outputs": [
    {
     "data": {
      "image/png": "[encoded data removed]",
      "text/plain": [
       "<Figure size 474.725x432 with 2 Axes>"
      ]
     },
     "metadata": {
      "needs_background": "light"
     },
     "output_type": "display_data"
    }
   ],
   "source": [
    "prettyprob(p)"
   ]
  },
  {
   "cell_type": "markdown",
   "metadata": {},
   "source": [
    "#### Arrival time probabilities"
   ]
  },
  {
   "cell_type": "code",
   "execution_count": 103,
   "metadata": {},
   "outputs": [],
   "source": [
    "Q = p[90, :]\n",
    "q = np.zeros_like(Q)   # fiddle a little to avoid zero-indexing trouble\n",
    "q[1:] = np.diff(Q)"
   ]
  },
  {
   "cell_type": "code",
   "execution_count": 104,
   "metadata": {},
   "outputs": [
    {
     "data": {
      "image/png": "[encoded data removed]",
      "text/plain": [
       "<Figure size 864x432 with 1 Axes>"
      ]
     },
     "metadata": {
      "needs_background": "light"
     },
     "output_type": "display_data"
    }
   ],
   "source": [
    "plt.step(range(100), Q, where='mid');\n",
    "plt.title('Cumulative distribution of arrival times')\n",
    "plt.xlabel('Number of steps');\n",
    "plt.ylabel('$Q_k$');"
   ]
  },
  {
   "cell_type": "code",
   "execution_count": 105,
   "metadata": {},
   "outputs": [
    {
     "data": {
      "image/png": "[encoded data removed]",
      "text/plain": [
       "<Figure size 864x432 with 1 Axes>"
      ]
     },
     "metadata": {
      "needs_background": "light"
     },
     "output_type": "display_data"
    }
   ],
   "source": [
    "plt.step(range(100), q, where='mid');\n",
    "plt.title('Distribution of arrival times')\n",
    "plt.xlabel('Number of steps');\n",
    "plt.ylabel('$q_k$');"
   ]
  },
  {
   "cell_type": "markdown",
   "metadata": {},
   "source": [
    "Let's check the border cases"
   ]
  },
  {
   "cell_type": "code",
   "execution_count": 106,
   "metadata": {},
   "outputs": [
    {
     "data": {
      "text/plain": [
       "(0.0, 2.126822490730477e-12, 2.126822490730477e-12, 0.0)"
      ]
     },
     "execution_count": 106,
     "metadata": {},
     "output_type": "execute_result"
    }
   ],
   "source": [
    "Q[14], Q[15], (1./6.)**15, Q[15]-(1./6.)**15"
   ]
  },
  {
   "cell_type": "code",
   "execution_count": 107,
   "metadata": {},
   "outputs": [
    {
     "data": {
      "text/plain": [
       "0.0"
      ]
     },
     "execution_count": 107,
     "metadata": {},
     "output_type": "execute_result"
    }
   ],
   "source": [
    "q[90]"
   ]
  },
  {
   "cell_type": "code",
   "execution_count": 108,
   "metadata": {},
   "outputs": [
    {
     "data": {
      "text/plain": [
       "(-1.3322676295501878e-15, -1.3322676295501878e-15)"
      ]
     },
     "execution_count": 108,
     "metadata": {},
     "output_type": "execute_result"
    }
   ],
   "source": [
    "Q[89]-1, Q[90]-1"
   ]
  },
  {
   "cell_type": "code",
   "execution_count": 109,
   "metadata": {},
   "outputs": [
    {
     "data": {
      "text/plain": [
       "9.255235320869914e-71"
      ]
     },
     "execution_count": 109,
     "metadata": {},
     "output_type": "execute_result"
    }
   ],
   "source": [
    "(1./6.)**90"
   ]
  },
  {
   "cell_type": "markdown",
   "metadata": {},
   "source": [
    "Okay, probabilities for long game durations are far below numerical precision, therefore we do not see exact values in the tail of the distribution. But the error of $\\mathcal{O}(10^{-15})$ is acceptable."
   ]
  },
  {
   "cell_type": "markdown",
   "metadata": {},
   "source": [
    "#### Matrix with chutes and ladders"
   ]
  },
  {
   "cell_type": "markdown",
   "metadata": {},
   "source": [
    "We first define the standard set of chutes and ladders."
   ]
  },
  {
   "cell_type": "code",
   "execution_count": 113,
   "metadata": {},
   "outputs": [],
   "source": [
    "cnl = ( [(1, 40), (8, 10), (36, 52), (43, 62), (49, 79), (65, 82), (68, 85)] + \n",
    "        [(24, 5), (33, 3), (42, 30), (56, 37), (64, 27), (74, 12), (87, 70)] )"
   ]
  },
  {
   "cell_type": "code",
   "execution_count": 114,
   "metadata": {},
   "outputs": [],
   "source": [
    "L = M.copy()\n",
    "for start, dest in cnl:\n",
    "    L[start, :] = 0.\n",
    "    L[dest, :] += M[start, :]"
   ]
  },
  {
   "cell_type": "code",
   "execution_count": 115,
   "metadata": {},
   "outputs": [
    {
     "data": {
      "image/png": "[encoded data removed]",
      "text/plain": [
       "<Figure size 432x432 with 2 Axes>"
      ]
     },
     "metadata": {
      "needs_background": "light"
     },
     "output_type": "display_data"
    }
   ],
   "source": [
    "prettymat(L)"
   ]
  },
  {
   "cell_type": "markdown",
   "metadata": {},
   "source": [
    "- The broad band slighly below the diagonal represents normal moves.\n",
    "- Stripes above the diagonal represent chutes.\n",
    "- Stripes below the broad band represent ladders.\n",
    "- The bright blue bar in the top-left corner is the $8\\to 10$ ladder which is so short it overlaps with normal movement.\n",
    "- The $1\t\\to 40$ ladder is visible as a single bright blue pixel on row 40.\n",
    "- Accumulation of probability in position $G=90$ is visible in the bottom right corner."
   ]
  },
  {
   "cell_type": "code",
   "execution_count": 116,
   "metadata": {},
   "outputs": [],
   "source": [
    "pL = np.zeros((91, 300))\n",
    "pL[0, 0] = 1\n",
    "for k in range(1, pL.shape[1]):\n",
    "    pL[:, k] = L @ pL[:, k-1]"
   ]
  },
  {
   "cell_type": "code",
   "execution_count": 117,
   "metadata": {},
   "outputs": [],
   "source": [
    "QL = pL[90]\n",
    "qL = np.zeros_like(QL)\n",
    "qL[1:] = np.diff(QL)"
   ]
  },
  {
   "cell_type": "code",
   "execution_count": 118,
   "metadata": {},
   "outputs": [
    {
     "data": {
      "image/png": "[encoded data removed]",
      "text/plain": [
       "<Figure size 712.088x432 with 2 Axes>"
      ]
     },
     "metadata": {
      "needs_background": "light"
     },
     "output_type": "display_data"
    }
   ],
   "source": [
    "prettyprob(pL[:, :150])"
   ]
  },
  {
   "cell_type": "code",
   "execution_count": 119,
   "metadata": {},
   "outputs": [
    {
     "data": {
      "image/png": "[encoded data removed]",
      "text/plain": [
       "<Figure size 864x432 with 1 Axes>"
      ]
     },
     "metadata": {
      "needs_background": "light"
     },
     "output_type": "display_data"
    }
   ],
   "source": [
    "plt.step(range(len(QL)), QL, where='mid');\n",
    "plt.title('Cumulative distribution of arrival times')\n",
    "plt.xlabel('Number of steps $k$');\n",
    "plt.ylabel('$Q_k$');"
   ]
  },
  {
   "cell_type": "code",
   "execution_count": 120,
   "metadata": {},
   "outputs": [
    {
     "data": {
      "image/png": "[encoded data removed]",
      "text/plain": [
       "<Figure size 864x432 with 1 Axes>"
      ]
     },
     "metadata": {
      "needs_background": "light"
     },
     "output_type": "display_data"
    }
   ],
   "source": [
    "plt.step(range(len(qL)), qL, where='mid');\n",
    "plt.title('Distribution of arrival times')\n",
    "plt.xlabel('Number of steps $k$');\n",
    "plt.ylabel('$q_k$');"
   ]
  },
  {
   "cell_type": "markdown",
   "metadata": {},
   "source": [
    "We know that the shortest path is 4 steps, requiring a precise sequence of die casts, i.e., it has probability $6^{-4}$. We can check this:"
   ]
  },
  {
   "cell_type": "code",
   "execution_count": 121,
   "metadata": {},
   "outputs": [
    {
     "name": "stdout",
     "output_type": "stream",
     "text": [
      "No one should make it in three moves                   : 0.0\n",
      "It is possible to make it in four moves                : 0.0015432098765432098\n",
      "If there is a single way to do it four moves, we expect: 0.0007716049382716048\n",
      "If there are two ways to do it in four moves, we expect: 0.0015432098765432096\n",
      "Difference between results and two-ways expectation    : 2.168404344971009e-19\n"
     ]
    }
   ],
   "source": [
    "print(\"No one should make it in three moves                   :\", qL[3])\n",
    "print(\"It is possible to make it in four moves                :\", qL[4])\n",
    "print(\"If there is a single way to do it four moves, we expect:\", (1./6.)**4)\n",
    "print(\"If there are two ways to do it in four moves, we expect:\", 2 * (1./6.)**4)\n",
    "print(\"Difference between results and two-ways expectation    :\", qL[4] - 2 * (1./6.)**4)"
   ]
  },
  {
   "cell_type": "markdown",
   "metadata": {},
   "source": [
    "So apparently there are two ways to do it in four steps. Inspection of the board reveals the following possibilities:\n",
    "\n",
    "1. Roll 1, then take ladder from 1 to 40.\n",
    "1. Roll 3, then take ladder from 43 to 62.\n",
    "1. Roll 6, then take ladder from 68 to 85.\n",
    "1. From 85, you can reach 90 by either rolling 5 or 6.\n",
    "\n",
    "Therefore, there are indeed exactly two ways of reaching the goal with four moves.\n",
    "\n",
    "Furthermore, we can check that $Q_k\t\\to 1$ for $k\t\\to\\infty$:"
   ]
  },
  {
   "cell_type": "code",
   "execution_count": 122,
   "metadata": {},
   "outputs": [
    {
     "data": {
      "text/plain": [
       "5.445159400263577e-06"
      ]
     },
     "execution_count": 122,
     "metadata": {},
     "output_type": "execute_result"
    }
   ],
   "source": [
    "1 - QL[-1]"
   ]
  },
  {
   "cell_type": "markdown",
   "metadata": {},
   "source": [
    "This indicates convergence to $1$, but at the same time a rather long tail. We can plot semilogarithmically to see the tail better:"
   ]
  },
  {
   "cell_type": "code",
   "execution_count": 123,
   "metadata": {},
   "outputs": [
    {
     "data": {
      "image/png": "[encoded data removed]",
      "text/plain": [
       "<Figure size 864x432 with 1 Axes>"
      ]
     },
     "metadata": {
      "needs_background": "light"
     },
     "output_type": "display_data"
    }
   ],
   "source": [
    "plt.step(range(len(qL)), qL, where='mid');\n",
    "plt.yscale('log')\n",
    "plt.title('Distribution of arrival times')\n",
    "plt.xlabel('Number of steps $k$');\n",
    "plt.ylabel('$q_k$');"
   ]
  },
  {
   "cell_type": "markdown",
   "metadata": {},
   "source": [
    "The tail of the distribution is linear in the semilogarithmic plot, indicating that it follows an exponential distribution. For more detailed characterization, we could fit the distribution for $k>50$ to an exponential distribution; we leave this as an exercise."
   ]
  },
  {
   "cell_type": "markdown",
   "metadata": {},
   "source": [
    "#### Comparison with simulation"
   ]
  },
  {
   "cell_type": "code",
   "execution_count": 124,
   "metadata": {},
   "outputs": [],
   "source": [
    "from chutes import multi_game_experiment"
   ]
  },
  {
   "cell_type": "code",
   "execution_count": 125,
   "metadata": {},
   "outputs": [],
   "source": [
    "d = multi_game_experiment(num_games=20000, num_players=1, seed=1234567)"
   ]
  },
  {
   "cell_type": "code",
   "execution_count": 126,
   "metadata": {},
   "outputs": [],
   "source": [
    "qE = np.zeros(max(d)+1, dtype=float)\n",
    "for n in frozenset(d):\n",
    "    qE[n] = d.count(n)\n",
    "qE /= len(d)"
   ]
  },
  {
   "cell_type": "code",
   "execution_count": 127,
   "metadata": {},
   "outputs": [
    {
     "data": {
      "image/png": "[encoded data removed]",
      "text/plain": [
       "<Figure size 864x432 with 1 Axes>"
      ]
     },
     "metadata": {
      "needs_background": "light"
     },
     "output_type": "display_data"
    }
   ],
   "source": [
    "plt.step(range(len(qL)), qL, where='mid', label='Markov Chain');\n",
    "plt.step(range(len(qE)), qE, where='mid', label='Simulation');\n",
    "plt.title('Distribution of arrival times')\n",
    "plt.xlabel('Number of steps $k$');\n",
    "plt.ylabel('$q_k$');\n",
    "plt.legend();"
   ]
  },
  {
   "cell_type": "code",
   "execution_count": 128,
   "metadata": {},
   "outputs": [
    {
     "data": {
      "image/png": "[encoded data removed]",
      "text/plain": [
       "<Figure size 864x432 with 1 Axes>"
      ]
     },
     "metadata": {
      "needs_background": "light"
     },
     "output_type": "display_data"
    }
   ],
   "source": [
    "plt.step(range(len(qL)), qL, where='mid', label='Markov Chain');\n",
    "plt.step(range(len(qE)), qE, where='mid', label='Simulation');\n",
    "plt.title('Distribution of arrival times')\n",
    "plt.xlabel('Number of steps $k$');\n",
    "plt.ylabel('$q_k$')\n",
    "plt.xlim(0, 100)\n",
    "plt.legend();"
   ]
  },
  {
   "cell_type": "markdown",
   "metadata": {},
   "source": [
    "Markov chain analysis and simulation are apparently in good agreement. This qualitative statement based on visual inspection (which may be misleading) should be substantiated by a proper statistical test, cf *Extensions* below."
   ]
  },
  {
   "cell_type": "markdown",
   "metadata": {},
   "source": [
    "#### Games with multiple players\n",
    "\n",
    "In order to find the distribution of the arrival time for the first of $N$ (identical) players in a game, we can use results from [order statistics](http://en.wikipedia.org/wiki/Order_statistic). If $T_n$ is the random variable representing the arrival time of walker $n$, then we are interested in the distribution of $\\min \\{T_1, T_2, ..., T_N\\}$, where all $T_n$ are independently and identically distributed according to the discrete distribution $q_k$. From [David and Nagaraja (1992, Eq 2.1.3)](http://books.google.no/books?id=bdhzFXg6xFkC&dq=Arnold,+B.+C.,+N.+Balakrishnan,+H.+N.+Nagaraja.+1992.+A+First+Course+in+Order+Statistics.+Wiley,+New+York.&hl=no&source=gbs_navlinks_s), we obtain the cumulative distribution of the minimum of $N$ random variables i.i.d. with cumulative distribution $Q_k$ as\n",
    "$$R^{(N)}_k = 1 - ( 1 - Q_k )^N$$\n",
    "and the corresponding distribution as\n",
    "$$r^{(N)}_k = R^{(N)}_k - R^{(N)}_{k-1}\\;.$$\n",
    "See also [Evans et al (2006)](http://www.math.wm.edu/~leemis/2006informsjoc.pdf).\n",
    "\n",
    "We consider a game with four players."
   ]
  },
  {
   "cell_type": "code",
   "execution_count": 129,
   "metadata": {},
   "outputs": [],
   "source": [
    "N = 4\n",
    "RL = 1 - (1 - QL)**N\n",
    "rL = np.zeros_like(RL)   # fiddle a little to avoid zero-indexing trouble\n",
    "rL[1:] = np.diff(RL)"
   ]
  },
  {
   "cell_type": "code",
   "execution_count": 130,
   "metadata": {},
   "outputs": [],
   "source": [
    "dN = multi_game_experiment(num_games=20000, num_players=4, seed=1234567)\n",
    "rE = np.zeros(max(dN)+1, dtype=float)\n",
    "for n in frozenset(dN):\n",
    "    rE[n] = dN.count(n)\n",
    "rE /= len(dN)"
   ]
  },
  {
   "cell_type": "code",
   "execution_count": 131,
   "metadata": {},
   "outputs": [
    {
     "data": {
      "image/png": "[encoded data removed]",
      "text/plain": [
       "<Figure size 864x432 with 1 Axes>"
      ]
     },
     "metadata": {
      "needs_background": "light"
     },
     "output_type": "display_data"
    }
   ],
   "source": [
    "plt.step(range(len(rL)), rL, where='mid', label='Markov Chain');\n",
    "plt.step(range(len(rE)), rE, where='mid', label='Simulation');\n",
    "plt.title('Distribution of arrival times for first of {:d} walkers'.format(N))\n",
    "plt.xlabel('Number of steps $k$');\n",
    "plt.ylabel('$r_k$');\n",
    "plt.legend();\n",
    "plt.xlim(0, 75);"
   ]
  },
  {
   "cell_type": "markdown",
   "metadata": {},
   "source": [
    "Also in this case theory and simulation appear to agree very well; see *Extensions* below for a note on statistical tests for distributions. As a sanity check, we check that no-one arrived in fewer than four moves, and that $R_k^{(4)}\t\\to1$ for $k\t\\to\\infty$:"
   ]
  },
  {
   "cell_type": "code",
   "execution_count": 132,
   "metadata": {},
   "outputs": [
    {
     "name": "stdout",
     "output_type": "stream",
     "text": [
      "0.0 0.006158565220760082\n",
      "0.0\n"
     ]
    }
   ],
   "source": [
    "print(RL[3], RL[4])\n",
    "print(1 - RL[-1])"
   ]
  },
  {
   "cell_type": "markdown",
   "metadata": {},
   "source": [
    "### Extensions\n",
    "\n",
    "#### Statistical tests for distributions\n",
    "Above, we compared distributions obtained numerically by Markov chain analysis with distributions obtained from simulations by visual inspection. While this is a useful first step (*always* look at your data before applying statistical analysis!), it may also be misleading. To draw solid conclusions, we need to apply statistical tests to check whether the simulation results follow the distribution obtained from Markov chain analysis.\n",
    "\n",
    "For continuous random variables, e.g., variables following a Gaussian or exponential distribution, the proper test is the [Kolmogorov-Smirnov test](http://itl.nist.gov/div898/handbook/eda/section3/eda35g.htm), which is available as [`scipy.stats.kstest`](http://docs.scipy.org/doc/scipy/reference/generated/scipy.stats.kstest.html).\n",
    "\n",
    "The distribution of game durations, though, is a discrete distribution and we need to apply the [$\\chi^2$-test](http://itl.nist.gov/div898/handbook/eda/section3/eda35f.htm), which is available as [`scipy.stats.chisquare`](http://docs.scipy.org/doc/scipy/reference/generated/scipy.stats.chisquare.html). In this test, we compare the number of times each game duration has been observed with the number predicted, $n_k=q_k\\times N$, where $N$ is then number of games played. To be valid, the $\\chi^2$-test requires that $n_k >5\\; \\forall k$. In order to ensure that this is fulfilled, we proceed as follows:\n",
    "\n",
    "1. Find $k_{\\mathrm{max}}$, the game duration for with highest probability $q_k$. The distribution for $k>k_{\\mathrm{max}}$ is essentially the tail of the distribution, while the part $k<k_{\\mathrm{max}}$ is the interesting part.\n",
    "1. Find $k_{\\mathrm{min}} < k_{\\mathrm{max}}$, the game duration for which $q_k$ is smallest (but non-zero), to the left of the maximum.\n",
    "1. Choose $N$ so that $N\\times q_{k_{\\mathrm{min}}}>5$.\n",
    "1. Find $k_{\\mathrm{tail}}$ as the largest $k$ for which both of the following conditions are fulfilled:\n",
    "\n",
    "    1. $N\\times q_k>5$\n",
    "    1. $(1-Q_k)\\times N>5$\n",
    "\n",
    "   Condition A. ensures that the expectation for the rightmost bin, $k_{\\mathrm{tail}}$ is more than 5, while B. ensures that the remaining tail, which we will collapse into a single bin, also has an expectation of at least 5.\n",
    "1. Simulate $N$ games.\n",
    "1. Each game duration $k$ forms one *bin* for the $\\chi^2$-test, except that all game durations $k>k_{\\mathrm{tail}}$ are combined in a single bin. The expectation for this bin is $n_{\\mathrm{tail}}=(1-Q_{k_\\mathrm{tail}})\\times N$.\n",
    "1. Apply the $\\chi^2$-test to the data.\n",
    "\n",
    "#### Modeling players with internal state\n",
    "In order to treat players with internal state, such as resilient players (take extra step(s) after sliding down) or lazy players (take fewer step(s) after climbing up), we need to split every element of vector $p$ into two: one representing the probability of being in normal, and on of being in special mode at a given location. Matrices $M$ and $L$ then have twice as many rows and columns and become more complicated, although the design approach is the same.\n",
    "\n",
    "#### Using sparse matrices\n",
    "For very large matrices, it may be useful to consider *sparse matrix* implementations from SciPy, which do not store all the zeros elements in $M$ and $L$."
   ]
  },
  {
   "cell_type": "markdown",
   "metadata": {},
   "source": [
    "### Using more suitable color maps\n",
    "\n",
    "- The color maps we used above were not optimal due to limited contrast\n",
    "- We will look at better color maps here\n",
    "- We first define functions to\n",
    "    - create a propagator matrix M for a given game board\n",
    "    - evolve the state of the game over time\n",
    "    - extract the arrival-time distribution"
   ]
  },
  {
   "cell_type": "code",
   "execution_count": 57,
   "metadata": {},
   "outputs": [],
   "source": [
    "def propagator(ladders=None, chutes=None, goal=90):\n",
    "    ladders = ladders if ladders is not None else [(1, 40), (8, 10), (36, 52), \n",
    "                                                   (43, 62), (49, 79), (65, 82), \n",
    "                                                   (68, 85)] \n",
    "    chutes = chutes if chutes is not None else [(24, 5), (33, 3), (42, 30), \n",
    "                                                (56, 37), (64, 27), (74, 12), \n",
    "                                                (87, 70)]\n",
    "    \n",
    "    M = np.zeros((goal+1, goal+1))\n",
    "    M[goal, goal] = 1\n",
    "    M[goal, (goal-6):goal] = np.array([1., 2., 3., 4., 5., 6.]) / 6.\n",
    "    for i in range(1, goal):\n",
    "        M[i, max(0, i-6):i] = 1./6.\n",
    "        \n",
    "    L = M.copy()\n",
    "    for start, dest in chutes + ladders:\n",
    "        L[start, :] = 0.\n",
    "        L[dest, :] += M[start, :]\n",
    "        \n",
    "    return L"
   ]
  },
  {
   "cell_type": "code",
   "execution_count": 58,
   "metadata": {},
   "outputs": [],
   "source": [
    "def evolve(prop, num_moves, initial=None):\n",
    "    r, c = prop.shape\n",
    "    assert r == c, \"Propagator must be square\"\n",
    "    if initial is None:\n",
    "        initial = np.zeros(r)\n",
    "        initial[0] = 1\n",
    "    else:\n",
    "        assert len(initial) == r, \"Initial size wrong\"\n",
    "    \n",
    "    p = np.zeros((r, num_moves+1))\n",
    "    p[:, 0] = initial\n",
    "    \n",
    "    for k in range(1, num_moves+1):\n",
    "        p[:, k] = np.dot(prop, p[:, k-1])\n",
    "        \n",
    "    return p    "
   ]
  },
  {
   "cell_type": "code",
   "execution_count": 59,
   "metadata": {},
   "outputs": [],
   "source": [
    "def arrival_dist(p_evol):\n",
    "    Q = p_evol[-1, :]\n",
    "    q = np.zeros_like(Q)\n",
    "    q[1:] = np.diff(Q)\n",
    "    return q, Q"
   ]
  },
  {
   "cell_type": "markdown",
   "metadata": {},
   "source": [
    "#### Propagator matrix—standard color map"
   ]
  },
  {
   "cell_type": "code",
   "execution_count": 60,
   "metadata": {},
   "outputs": [],
   "source": [
    "prop90 = propagator()"
   ]
  },
  {
   "cell_type": "code",
   "execution_count": 61,
   "metadata": {},
   "outputs": [
    {
     "data": {
      "image/png": "[encoded data removed]",
      "text/plain": [
       "<Figure size 432x432 with 2 Axes>"
      ]
     },
     "metadata": {
      "needs_background": "light"
     },
     "output_type": "display_data"
    }
   ],
   "source": [
    "plt.matshow(prop90)\n",
    "plt.xlabel('Current board position $j$');\n",
    "plt.ylabel('Next board position $i$');\n",
    "plt.title('Propagator matrix for Litor Board');\n",
    "plt.colorbar(shrink=0.7);"
   ]
  },
  {
   "cell_type": "markdown",
   "metadata": {},
   "source": [
    "- Problems with the figure above: \n",
    "    - all values in the matrix are either 0 or a multiple of 1/6\n",
    "    - this is not clear from the color scale\n",
    "    - actual values are difficult to read off\n",
    "    - color scale is not linear in any sense\n",
    "- Solution: Alternative color map\n",
    "    - See [Choosing colormaps](http://matplotlib.org/users/colormaps.html) and [Colormaps reference](http://matplotlib.org/examples/color/colormaps_reference.html)\n",
    "    - See also [this presentation on the default colormap in Matplotlib 2.0](https://bids.github.io/colormap/)\n",
    "- Some of the examples below are based on ideas from\n",
    "    - http://stackoverflow.com/questions/14777066/matplotlib-discrete-colorbar\n",
    "    - http://pyhogs.github.io/colormap-examples.html\n",
    "\n",
    "##### Step 1: Use a perceptually uniform color map\n",
    "\n",
    "- Lightness changes uniformly over range of color map\n",
    "- The `_r` suffix on the name reverses the color map, so that 0 is darkest\n",
    "- For clarity, we use a small matrix and drop axis decorations"
   ]
  },
  {
   "cell_type": "code",
   "execution_count": 62,
   "metadata": {},
   "outputs": [],
   "source": [
    "import matplotlib.cm as cm"
   ]
  },
  {
   "cell_type": "code",
   "execution_count": 64,
   "metadata": {},
   "outputs": [],
   "source": [
    "propsmall = propagator(ladders=[(3, 5), (10, 15)], \n",
    "                       chutes=[(7, 2), (16, 12)], goal=20)"
   ]
  },
  {
   "cell_type": "code",
   "execution_count": 65,
   "metadata": {},
   "outputs": [
    {
     "data": {
      "image/png": "[encoded data removed]",
      "text/plain": [
       "<Figure size 432x432 with 2 Axes>"
      ]
     },
     "metadata": {
      "needs_background": "light"
     },
     "output_type": "display_data"
    }
   ],
   "source": [
    "plt.matshow(propsmall, cmap=cm.YlGnBu_r)\n",
    "plt.colorbar(shrink=0.7);"
   ]
  },
  {
   "cell_type": "markdown",
   "metadata": {},
   "source": [
    "##### Step 2: Discrete color map with values 0, 1/6, 2/6, ..., 1\n",
    "\n",
    "- Seven different colors needed\n",
    "- We can just get a color map with the necessary number of levels"
   ]
  },
  {
   "cell_type": "code",
   "execution_count": 66,
   "metadata": {},
   "outputs": [
    {
     "data": {
      "image/png": "[encoded data removed]",
      "text/plain": [
       "<Figure size 432x432 with 2 Axes>"
      ]
     },
     "metadata": {
      "needs_background": "light"
     },
     "output_type": "display_data"
    }
   ],
   "source": [
    "cm7 = cm.get_cmap('YlGnBu_r', 7)\n",
    "plt.matshow(propsmall, cmap=cm7)\n",
    "plt.colorbar(shrink=0.7);"
   ]
  },
  {
   "cell_type": "markdown",
   "metadata": {},
   "source": [
    "- The axis label are now not very helpful\n",
    "- We can change the placement of the labels"
   ]
  },
  {
   "cell_type": "code",
   "execution_count": 67,
   "metadata": {},
   "outputs": [
    {
     "data": {
      "image/png": "[encoded data removed]",
      "text/plain": [
       "<Figure size 432x432 with 2 Axes>"
      ]
     },
     "metadata": {
      "needs_background": "light"
     },
     "output_type": "display_data"
    }
   ],
   "source": [
    "cm7 = cm.get_cmap('YlGnBu_r', 7)\n",
    "plt.matshow(propsmall, cmap=cm7)\n",
    "cax = plt.colorbar(shrink=0.7);\n",
    "cax.set_ticks(np.linspace(0, 1, 7));"
   ]
  },
  {
   "cell_type": "markdown",
   "metadata": {},
   "source": [
    "- Better, but it would be even nicer to place the markers in the center of the boxes and show fractions\n",
    "- For $n$ boxes, the box centers are placed at\n",
    "\n",
    "$$y_k = \\frac{1}{2n} + \\frac{k}{n} \\quad k = 0, 1, \\dots, n-1$$"
   ]
  },
  {
   "cell_type": "code",
   "execution_count": 68,
   "metadata": {},
   "outputs": [
    {
     "data": {
      "image/png": "[encoded data removed]",
      "text/plain": [
       "<Figure size 432x432 with 2 Axes>"
      ]
     },
     "metadata": {
      "needs_background": "light"
     },
     "output_type": "display_data"
    }
   ],
   "source": [
    "cm7 = cm.get_cmap('YlGnBu_r', 7)\n",
    "plt.matshow(propsmall, cmap=cm7)\n",
    "cax = plt.colorbar(shrink=0.7);\n",
    "cax.set_ticks(np.arange(0., 7.) / 7. + 1./14.);\n",
    "cax.set_ticklabels(('0', '1/6', '1/3', '1/2', '2/3', '5/6', '1'));"
   ]
  },
  {
   "cell_type": "markdown",
   "metadata": {},
   "source": [
    "##### Step 3: change representation of zero probability for better contrast"
   ]
  },
  {
   "cell_type": "code",
   "execution_count": 69,
   "metadata": {},
   "outputs": [
    {
     "data": {
      "image/png": "[encoded data removed]",
      "text/plain": [
       "<Figure size 432x432 with 2 Axes>"
      ]
     },
     "metadata": {
      "needs_background": "light"
     },
     "output_type": "display_data"
    }
   ],
   "source": [
    "cm7 = cm.get_cmap('YlGnBu_r', 7)\n",
    "cm7list = [cm7(i) for i in range(cm7.N)]\n",
    "cm7list[0] = [0.9, 0.9, 0.9]\n",
    "cm7mod = cm7.from_list('mymap', cm7list, cm7.N)\n",
    "plt.matshow(propsmall, cmap=cm7mod)\n",
    "cax = plt.colorbar(shrink=0.7);\n",
    "cax.set_ticks(np.arange(0., 7.) / 7. + 1./14.);\n",
    "cax.set_ticklabels(('0', '1/6', '1/3', '1/2', '2/3', '5/6', '1'));"
   ]
  },
  {
   "cell_type": "markdown",
   "metadata": {},
   "source": [
    "#### Time evolution of residence probability\n",
    "\n",
    "- We will use a similar color map as above for the time evolution, but with full resolution\n",
    "- We will mark values below a certain limit with a separat color"
   ]
  },
  {
   "cell_type": "code",
   "execution_count": 70,
   "metadata": {},
   "outputs": [],
   "source": [
    "p90 = evolve(prop90, 200)"
   ]
  },
  {
   "cell_type": "code",
   "execution_count": 71,
   "metadata": {},
   "outputs": [],
   "source": [
    "import copy"
   ]
  },
  {
   "cell_type": "code",
   "execution_count": 73,
   "metadata": {},
   "outputs": [
    {
     "data": {
      "image/png": "[encoded data removed]",
      "text/plain": [
       "<Figure size 474.725x432 with 2 Axes>"
      ]
     },
     "metadata": {
      "needs_background": "light"
     },
     "output_type": "display_data"
    }
   ],
   "source": [
    "p_cutoff = 0.005\n",
    "\n",
    "cm_p = copy.copy(cm.get_cmap('YlGnBu_r'))\n",
    "cm_p.set_under((0.95, 0.95, 0.95))\n",
    "plt.matshow(p90[:, :100], cmap=cm_p, vmin=p_cutoff)\n",
    "plt.xlabel('Step number $k$');\n",
    "plt.ylabel('Board position $j$');\n",
    "plt.title('Evolution of residence probability');\n",
    "cax = plt.colorbar(shrink=0.7, extend='min');\n",
    "cax.set_ticks([p_cutoff] + list(np.arange(0.1, 1.01, 0.1)));"
   ]
  },
  {
   "cell_type": "markdown",
   "metadata": {},
   "source": [
    "##### Step 4: Zooming in on parts of the color scale\n",
    "\n",
    "- We can use different normalizations for the color scale to make important parts of the figure more visible\n",
    "- Here, we use a power norm $x^\\gamma$"
   ]
  },
  {
   "cell_type": "code",
   "execution_count": 74,
   "metadata": {},
   "outputs": [],
   "source": [
    "from matplotlib.colors import PowerNorm"
   ]
  },
  {
   "cell_type": "code",
   "execution_count": 77,
   "metadata": {},
   "outputs": [
    {
     "data": {
      "image/png": "[encoded data removed]",
      "text/plain": [
       "<Figure size 474.725x432 with 2 Axes>"
      ]
     },
     "metadata": {
      "needs_background": "light"
     },
     "output_type": "display_data"
    }
   ],
   "source": [
    "p_cutoff = 0.001\n",
    "cm_p = copy.copy(cm.get_cmap('YlGnBu_r'))\n",
    "cm_p.set_under((0.95, 0.95, 0.95))\n",
    "plt.matshow(p90[:, :100], cmap=cm_p,\n",
    "            norm=PowerNorm(gamma=0.2, vmin=p_cutoff, vmax=1))\n",
    "plt.xlabel('Step number $k$');\n",
    "plt.ylabel('Board position $j$');\n",
    "plt.title('Evolution of residence probability');\n",
    "cax = plt.colorbar(shrink=0.8, extend='min');\n",
    "cax.set_ticks([p_cutoff, 0.002, 0.005, 0.01, 0.02, 0.05, 0.1, 0.2, 0.5, 1.0]);"
   ]
  },
  {
   "cell_type": "markdown",
   "metadata": {},
   "source": [
    "--------\n",
    "\n",
    "# Block project\n",
    "\n",
    "## Practical information\n",
    "\n",
    "### January block\n",
    "\n",
    "- Starts Monday 3 January 09.15 in Festsalen, Samfunnet\n",
    "- Mandatory attendance 09.15–15.00 until Tuesday 18 January\n",
    "    - Contact Plesser without delay if you cannot come to class because of illness or other important reason!\n",
    "- Presentation preparation 19–21 January\n",
    "- Exam 24/25 January\n",
    "- Currently still planning for on-site course\n",
    "    - Keep an eye on e-mail/Canvas notifications!\n",
    "    \n",
    "### June block\n",
    "\n",
    "- Check-in via e-mail/Canvas form in May 2022\n",
    "- Starts Monday 30 May 09.15\n",
    "- Mandatory attendance 09.15–15.00 until Wednesday 15 June\n",
    "- Presentation preparation 16–17 June\n",
    "- Exam 20/21 June\n",
    "\n",
    "### How to maintain and improve your Python skills\n",
    "\n",
    "- Look for programming opportunities in other courses or real life!\n",
    "- If you do it with Excel, could you do it in Python?\n",
    "- Nicolas P. Rougier, *100 numpy exercises*, https://github.com/rougier/numpy-100/blob/master/100_Numpy_exercises.ipynb\"\n",
    "- Have a look at https://www.checkio.org\n",
    "    \n",
    "\n",
    "## Project preview\n",
    "\n",
    "- Review of final exercise (separate notebook)\n",
    "- Sneak preview"
   ]
  },
  {
   "cell_type": "code",
   "execution_count": null,
   "metadata": {},
   "outputs": [],
   "source": []
  }
 ],
 "metadata": {
  "kernelspec": {
   "display_name": "Python 3 (ipykernel)",
   "language": "python",
   "name": "python3"
  },
  "language_info": {
   "codemirror_mode": {
    "name": "ipython",
    "version": 3
   },
   "file_extension": ".py",
   "mimetype": "text/x-python",
   "name": "python",
   "nbconvert_exporter": "python",
   "pygments_lexer": "ipython3",
   "version": "3.8.12"
  }
 },
 "nbformat": 4,
 "nbformat_minor": 4
}
