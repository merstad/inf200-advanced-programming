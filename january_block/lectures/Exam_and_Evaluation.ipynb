{
 "cells": [
  {
   "cell_type": "markdown",
   "id": "e93f69d9-845b-47cf-a258-df1102d1f202",
   "metadata": {
    "tags": []
   },
   "source": [
    "----------\n",
    "\n",
    "# Exam information"
   ]
  },
  {
   "cell_type": "markdown",
   "id": "19df053e-b7c9-40c0-a581-0061756c14c2",
   "metadata": {},
   "source": [
    "### Time and Place\n",
    "\n",
    "- **08.00-18.00, Monday 24 January and Tuesday 25 January 2022** \n",
    "- The detailed schedule will be posted later\n",
    "- Exams will be held on Zoom\n",
    "    - Under exceptionally positive developments wrt COVID we may open for on-site exams for students who prefer this. More information on this later."
   ]
  },
  {
   "cell_type": "markdown",
   "id": "8f5296c6-8df7-4cda-8c2d-c2be374e2168",
   "metadata": {},
   "source": [
    "### Format\n",
    "\n",
    "- Both students in a group are examined together\n",
    "- Short presentation of your results (**five minutes**)\n",
    "    - You may use **one** PDF file (a few slides) and **one** short animation (MP4 or GIF)\n",
    "    - These must be submitted by **Friday, 21 January, 15.00 CET**\n",
    "- Discussion with examiners (20 minutes)\n",
    "    - Your code will available on screen during discussion\n",
    "- There will be two separate exam commissions working in parallel\n",
    "- Exam will be in English\n",
    "- **You must have your camera on during the exam**"
   ]
  },
  {
   "cell_type": "markdown",
   "id": "87f373ae-1d52-434a-9476-e4be7190aa20",
   "metadata": {},
   "source": [
    "### Content of presentation/discussion\n",
    "\n",
    "- You are a software developer presenting your product to your client\n",
    "- Explain to the client/examiner how you have solved the task\n",
    "    - Overall structure of the code\n",
    "    - Examples of how you solved specific aspects/problems\n",
    "- Persuade the client/examiner that your code is trustworthy\n",
    "    - How did you ensure quality?\n",
    "    - Is code in maintainable shape (tests/documentation etc)\n",
    "    - Do you as a developer know your stuff?\n",
    "- Pursuade the client that your code is productive\n",
    "    - Ease of use. Is it easy to use and manipulate the code you have written?\n",
    "    - Performance: Is the code fast?\n",
    "- Show some interesting results\n",
    "- Remember, 5 minutes is not very long!\n",
    "    - Choose in advance what you want to spend your time on\n",
    "    - Do not make too many or too verbose slides"
   ]
  },
  {
   "cell_type": "markdown",
   "id": "662fc51c-5e03-47a2-abda-09d0525514f1",
   "metadata": {},
   "source": [
    "-------\n",
    "\n",
    "## Evaluation criteria\n",
    "\n",
    "### Criteria for code\n",
    "\n",
    "#### Weighting\n",
    "\n",
    "##### Code (70%)\n",
    "\n",
    "- Delivery 20%\n",
    "- Quality 20%\n",
    "- Tests 15%\n",
    "- Documentation 10%\n",
    "- Bonus 5%\n",
    "\n",
    "##### Exam (30%)\n",
    "\n",
    "- Presentation 10%\n",
    "- Discussion 20%\n",
    "\n",
    "#### Evaluation\n",
    "\n",
    "- Generally, joint evaluation for code, individual evaluation for exam\n",
    "- Deviation possible if there is clear indication that partners differ very strongly in contributions and competence\n",
    "- In each category, A-F logic is applied:\n",
    "    - On a 0-100 point scale, \"just passing\" is usually at 40% (lower end of E)\n",
    "    - Thus, e.g., for *Delivery*, a \"just passing\" code will give 40% of 20%, i.e., 8% to the total, while a perfect delivery would give 20% to the total.\n",
    "- General definition of grades (https://www.uhr.no/_f/p1/i4bfb251a-5e7c-4e34-916b-85478c61a800/karaktersystemet_generelle_kvalitative_beskrivelser.pdf):\n",
    "    - A: An excellent performance, clearly outstanding. The candidate demonstrates excellent judgement and a very high degree of independent thinking.\n",
    "    - B: A very good performance. The candidate demonstrates sound judgement and a high degree of independent thinking.\n",
    "    - C: A good performance in most areas. The candidate demonstrates a reasonable degree of judgement and independent thinking in the most important areas.\n",
    "    - D: A satisfactory performance, but with significant shortcomings. The candidate demonstrates a limited degree of judgement and independent thinking.\n",
    "    - E: A performance that meets the minimum criteria, but no more. The candidate demonstrates a very limited degree of judgement and independent thinking.\n",
    "\n",
    "#### Requirements in different categories\n",
    "\n",
    "##### Delivery\n",
    "\n",
    "- Does your code deliver on all requirements described in Sec. 1–3 of the task description?\n",
    "- Full score (20%) requires that all is in place and works.\n",
    "- Minimum requirement to pass is herbivores, carnivores, migration on an island with one landscape type, plotting of total number of animals of each species, and ability to run via the BioSim class (eg `check_sim`, `test_biosim_interface`)\n",
    "\n",
    "##### Quality\n",
    "\n",
    "- Is your code well written?\n",
    "    - Sensible organisation of code into classes?\n",
    "    - Well-chosen class and variable names?\n",
    "    - Is the encapsulation principle in object-oriented programming observed?\n",
    "    - Do you follow PEP8 rules (but with lines up to 100 characters allowed)?\n",
    "- Are there any bugs?\n",
    "- Is your code well readable?\n",
    "- Is your code reasonably efficient?\n",
    "\n",
    "##### Tests\n",
    "\n",
    "- Do you have unit tests for all methodes in classes for animals and landscape types?\n",
    "- Do you have tests for the island and simulation classes?\n",
    "- You do **not** need to write tests for visualisation.\n",
    "- Are your tests meaningful and sufficiently comprehensive?\n",
    "- Are the tests well written?\n",
    "- Do you use some advanced techniques, such as parameterization, fixtures and statistical tests?\n",
    "- Full score requires comprehensive tests including good use of parameterization, fixtures and statistical tests.\n",
    "\n",
    "##### Documentation\n",
    "\n",
    "- Do you have meaningfull docstrings for all classes and methods?\n",
    "- Are docstrings reasonably formatted?\n",
    "- Do you have documentation text describing the parts of BioSim and how to use them?\n",
    "- For a \"B\"-level score, you must also use at least one advanced Sphinx features, e.g., example code, note boxes, mathematics, or figures\n",
    "- For an \"A\"-level score, you must use several advanced Sphinx features including math and figures.\n",
    "\n",
    "##### Bonus\n",
    "\n",
    "- In this category, you can earn up to 5% extra for features beyond the requirements of Sec 1–3 or extraordinarily well-written code."
   ]
  },
  {
   "cell_type": "markdown",
   "id": "d86512f0-5341-4def-b6c4-2529226cf9e6",
   "metadata": {},
   "source": [
    "### Criteria for presentation\n",
    "\n",
    "- Your ability to present and explain your code\n",
    "    - Overall structure\n",
    "    - What solutions you chose and why\n",
    "    - Why your code is trustworthy\n",
    "- Your ability to discuss your code\n",
    "    - Do you understand your own code?\n",
    "    - Are you aware of its limitations?\n",
    "    - Can you discuss improvements or extensions to your code?"
   ]
  }
 ],
 "metadata": {
  "kernelspec": {
   "display_name": "Python 3 (ipykernel)",
   "language": "python",
   "name": "python3"
  },
  "language_info": {
   "codemirror_mode": {
    "name": "ipython",
    "version": 3
   },
   "file_extension": ".py",
   "mimetype": "text/x-python",
   "name": "python",
   "nbconvert_exporter": "python",
   "pygments_lexer": "ipython3",
   "version": "3.9.7"
  }
 },
 "nbformat": 4,
 "nbformat_minor": 5
}
