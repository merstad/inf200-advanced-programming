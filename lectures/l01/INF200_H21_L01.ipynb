{
 "cells": [
  {
   "cell_type": "markdown",
   "metadata": {},
   "source": [
    "# INF200 Lecture No 1\n",
    "\n",
    "### 13 September 2021\n",
    "\n",
    "## Today's topics\n",
    "\n",
    "* Introduction to INF200\n",
    "* Online Python Tutor\n",
    "* Jupyter Lab Basics\n",
    "* Coding standards: PEP8\n",
    "* Pre-course exercise: Counting the population\n",
    "* Live programming: Norwegian Parliamentary Elections"
   ]
  },
  {
   "cell_type": "markdown",
   "metadata": {},
   "source": [
    "-----------\n",
    "\n",
    "## Why learn to program (well)?\n",
    "\n",
    "- Where programming is useful?\n",
    "    - Data analysis and aggregation\n",
    "    - Simulation and prediction\n",
    "    - Control systems\n",
    "    - Automate routine tasks\n",
    "\n",
    "### Computers are reliable, so ...\n",
    "\n",
    "> \"How dare we imagine that computational science, as routinely\n",
    "> practiced, is reliable! Many researchers using scientific computing\n",
    "> are not even trying to follow a systematic, rigorous discipline that\n",
    "> would in principle allow others to verify the claims they make.\"\n",
    "> *Donoho et al, Computing in Science & Engineering **11**:8 (2009)*\n",
    "\n",
    "#### Sleipner A\n",
    "\n",
    "- Most expensive numerical error in Norwegian history\n",
    "- Oil-platform Sleipner A collapsed during construction in 1991\n",
    "- Cause: numerical error in finite-element method\n",
    "- Cost: USD 700 million \n",
    "-   More information:\n",
    "    <http://www.ima.umn.edu/~arnold/disasters/sleipner.html>\n",
    "\n",
    "#### Could you run that again ...\n",
    "\n",
    "- after you made that little change yesterday?\n",
    "- when your advisor doubts the figures you show him next week?\n",
    "- when the referee wants the data analyzed in a different way?\n",
    "- the insurance company faults your program for the brigde collapse?\n",
    "- the {climate change denialists, tobacco lobby, alcohol lobby,\n",
    "  ... (pick one)} claim that your research results are based on\n",
    "  programming bugs?\n",
    "\n",
    "### Towards reliable scientific software\n",
    "\n",
    "- Increasing focus in basic sciences, e.g., Greg Wilson *et al*, Best\n",
    "    Practices for Scientific Computing, [PLoS\n",
    "Biology 12:e1001745, 2014](https://doi.org/10.1371/journal.pbio.1001745)\n",
    "- Software Carpentry movement works to educate scientist-programmers\n",
    "    in good software development practices\n",
    "    (<http://software-carpentry.org>)\n",
    "- Partially inspired by *Agile Software Development* movement\n",
    "    (<http://en.wikipedia.org/wiki/Agile_software_development>)\n",
    "- Software quality has received attention in engineering sciences,\n",
    "    e.g., Oberkampf & Roy, *Verification and Validation in Scientific\n",
    "    Computing*, 2010\n",
    "\n",
    "### Best practice suggestions\n",
    "\n",
    "1.  Write programs for people, no computers\n",
    "2.  Let the computer do the work\n",
    "3.  Make incremental changes\n",
    "4.  Don't repeat yourself (or others)\n",
    "5.  Plan for mistakes\n",
    "6.  Optimize software only after it works correctly\n",
    "7.  Document design and purpose, not mechanics\n",
    "8.  Collaborate\n",
    "\n",
    "Source: G. Wilson et al, Best Practices for Scientific Computing, [PLoS\n",
    "Biology 12:e1001745, 2014](https://doi.org/10.1371/journal.pbio.1001745)"
   ]
  },
  {
   "cell_type": "markdown",
   "metadata": {},
   "source": [
    "------------\n",
    "\n",
    "## About INF200\n",
    "\n",
    "### What will you learn?\n",
    "\n",
    "After completing INF200, you will be able to\n",
    "\n",
    "- develop programs based on procedural and object-oriented\n",
    "    programming;\n",
    "-   read and understand programs at a comparable level of complexity;\n",
    "-   analyse problems and implement algorithms to solve them;\n",
    "-   use functionality provided by standard libraries;\n",
    "-   combine solutions implemented in different programming languages;\n",
    "-   locate errors in programs;\n",
    "-   use programming tools such as debuggers, profilers, testing\n",
    "    frameworks, documentation tools and version control.\n",
    "\n",
    "### Which topics will we cover?\n",
    "\n",
    "#### Aspects of problem solving\n",
    "\n",
    "- Collecting data\n",
    "- Managing data\n",
    "- Representing data\n",
    "- Processing data\n",
    "- Generating data\n",
    "- Presenting data\n",
    "\n",
    "#### Technical topics covered\n",
    "\n",
    "- Minimal Python Review by Example\n",
    "- File handling\n",
    "- Regular expressions\n",
    "- Scripting chores\n",
    "- Classes and object oriented programming\n",
    "- Tools for data science: Pandas & Scikit Learn\n",
    "- Tools for scientific computing: NumPy, SciPy, SymPy\n",
    "- Version control with Git\n",
    "- Exceptions and error handling\n",
    "- Testing and debugging\n",
    "- Benchmarking, Profiling, and Optimizing with Cython\n",
    "- Concurrency\n",
    "- Presenting results through notebooks \n",
    "- Structuring, documenting ans shipping larger Python projects\n",
    "- A little glimpse of C++ and interfacing it to Python\n",
    "\n",
    "### Who will teach you?\n",
    "\n",
    "#### Teacher\n",
    "\n",
    "Hans Ekkehard Plesser\n",
    "\n",
    "- Office TF2-305\n",
    "- Email [hans.ekkehard.plesser\\@nmbu.no](mailto:hans.ekkehard.plesser@nmbu.no)\n",
    "- Website <http://arken.nmbu.no/~plesser>\n",
    "\n",
    "#### First point of contact\n",
    "\n",
    "Teaching assistant *Sara Idris*\n",
    ": Email [sara.elisabeth.idris@nmbu.no](mailto:sara.elisabeth.idris@nmbu.no)\n",
    "\n",
    "- **Contact Sara before contacting Plesser!**\n",
    "- **Use email or Teams for contact and respect reasonable hours!**\n",
    "\n",
    "#### Teaching assistants\n",
    "\n",
    "- Hans Marius Johnsen\n",
    "- Mikko Rekstad\n",
    "- Sanjayan Rengarajan\n",
    "- Sara Idris\n",
    "- Talha Naveed \n",
    "\n",
    "#### My research\n",
    "\n",
    "- Simulation of large neuronal networks\n",
    "- Specification and generation of structured networks\n",
    "- Reproducibility and replicability of simulations\n",
    "- More about NEST: <http://www.nest-simulator.org>\n",
    "- Follow me on Github: <https://github.com/heplesser>"
   ]
  },
  {
   "cell_type": "markdown",
   "metadata": {},
   "source": [
    "### How will we (you) work?\n",
    "\n",
    "#### Lectures\n",
    "\n",
    "- Mostly live programming exercises to explore programming techniques\n",
    "- Prepare by going through material ahead of class\n",
    "- If participating remotely, you can ask questions during the lecture via Padlet: https://padlet.com/hansekkehardplesser/ooqyhd1fnntnpt9v\n",
    "\n",
    "#### Mandatory activity\n",
    "\n",
    "- Total of 6 out of 8 activities must be approved \n",
    "- Activities\n",
    "    - Mandatory attendance and work on programming tasks during exercise groups week 37–40 (15.9.–8.10.)\n",
    "    - Four hand-ins in pairs in weeks 41–48\n",
    "\n",
    "#### Which software do I need?\n",
    "-   For details, see Canvas!\n",
    "-   Python: Conda Python Distribution (3.8 or later)\n",
    "-   Integrated Development Environment: PyCharm\n",
    "\n",
    "#### Some useful resources (to be updated)\n",
    "\n",
    "\n",
    "##### Online books\n",
    "\n",
    "-   R. Johansson, *Numerical Python*\n",
    "    (<https://link.springer.com/book/10.1007/978-1-4842-0553-2>)\n",
    "-   Jupyter notebooks for Johannson's book:\n",
    "    <https://github.com/jrjohansson/numerical-python-book-code>\n",
    "-   H. P. Langtangen, *A Primer on Scientific Programming with Python*\n",
    "    (<https://link.springer.com/book/10.1007/978-3-662-49887-3>)\n",
    "\n",
    "##### More resources\n",
    "\n",
    "-   Philip Guo's *Online Python Tutor*, <http://www.pythontutor.com>\n",
    "-   Software Carpentry Lessons at\n",
    "    <http://software-carpentry.org/lessons.html>\n",
    "-   CheckIO—a Pythonic adventure, <http://www.checkio.org>\n",
    "\n",
    "### The Block Project\n",
    "\n",
    "-   Apply what you have learned to large project to hone your skills\n",
    "-   Three-week programming project in January or June\n",
    "    - Approximately 2/3 of places in January, 1/3 in June\n",
    "    - Assignment to January/June in mid-October\n",
    "    - Priority based on other mandatory courses in blocks or studies abroad\n",
    "-   Teams of two\n",
    "    - Team assignment in mid-October\n",
    "-   Full-time attendance three weeks in January/June, 0900--1500\n",
    "-   Oral exam\n",
    "\n",
    "## Grading\n",
    "\n",
    "- Grading rule A–F\n",
    "- Mandatory exercises must be approved to start on project\n",
    "- Grading based on project\n",
    "    -   program code and documentation count 70%\n",
    "    -   exam counts 30%"
   ]
  },
  {
   "cell_type": "markdown",
   "metadata": {},
   "source": [
    "--------\n",
    "\n",
    "## About Python\n",
    "\n",
    "### Why Python?\n",
    "\n",
    "- Modern, object-oriented programming language\n",
    "- Clear, readable syntax $\\Rightarrow$ easy to learn\n",
    "- Extensive standard library (\"batteries included\")\n",
    "- Extensions for (almost) everything, e.g.\n",
    "    - scientific computing\n",
    "    - graphical user interfaces\n",
    "    - database access\n",
    "    - web services\n",
    "- Free specification, free implementations available\n",
    "- Very widely used in academia and industry today\n",
    "- https://spectrum.ieee.org/top-programming-languages/\n",
    "\n",
    "\n",
    "### What is Python?\n",
    "\n",
    "-   A programming language\n",
    "    -   Developed by Guido van Rossum since 1991\n",
    "    -   GvR is BDFL (*benevolent dictator for life*)\n",
    "    -   Defined by Python Reference and PEPs (Python Enhancement\n",
    "        Proposals) (<https://www.python.org>)\n",
    "-   Implementations (selection)\n",
    "    - **CPython** Open-source reference implementation in C, managed by Python\n",
    "        Software Foundation.\n",
    "    - **Jython** Java-based implementation.\n",
    "    - **IronPython** An implementation tailored to the .NET framework.\n",
    "-   A community and software \"ecosystem\"\n",
    "\n",
    "### Which Python?\n",
    "\n",
    "#### Python 2.x\n",
    "\n",
    "- Still in use, development ended with 2.7 on 1 Jan 2020\n",
    "\n",
    "#### Python 3.x\n",
    "\n",
    "- Available since 2008 (currently 3.9)\n",
    "- You should install Miniconda with base version 3.9\n",
    "- The `inf200` configuration in `inf200_conda_env.yml` specifices Python ≥ 3.8, since some packages are not officially compatible with Python 3.9 yet."
   ]
  },
  {
   "cell_type": "markdown",
   "metadata": {},
   "source": [
    "----------\n",
    "\n",
    "## Online Python Tutor\n",
    "\n",
    "* [Online Python Tutor](http://pythontutor.com) is an excellent learning tool\n",
    "* Step through Python code an see what happens\n",
    "\n",
    "### Example"
   ]
  },
  {
   "cell_type": "code",
   "execution_count": 1,
   "metadata": {},
   "outputs": [
    {
     "name": "stdout",
     "output_type": "stream",
     "text": [
      "[0, 2, 4, 6]\n"
     ]
    }
   ],
   "source": [
    "def evens_by_loop(n):\n",
    "    res = []\n",
    "    for k in range(n):\n",
    "        if k % 2 == 0:\n",
    "            res.append(k)\n",
    "    return res\n",
    "\n",
    "print(evens_by_loop(7))"
   ]
  },
  {
   "cell_type": "markdown",
   "metadata": {},
   "source": [
    "- [Run example on Python Tutor Website](http://www.pythontutor.com/visualize.html#code=def%20evens_by_loop%28n%29%3A%0A%20%20%20%20res%20%3D%20%5B%5D%0A%20%20%20%20for%20k%20in%20range%28n%29%3A%0A%20%20%20%20%20%20%20%20if%20k%20%25%202%20%3D%3D%200%3A%0A%20%20%20%20%20%20%20%20%20%20%20%20res.append%28k%29%0A%20%20%20%20return%20res%0A%0Aprint%28evens_by_loop%287%29%29%0A&cumulative=false&curInstr=25&heapPrimitives=false&mode=display&origin=opt-frontend.js&py=3&rawInputLstJSON=%5B%5D&textReferences=false)"
   ]
  },
  {
   "cell_type": "markdown",
   "metadata": {},
   "source": [
    "----------\n",
    "\n",
    "## Jupyter Lab Basics\n",
    "\n",
    "* Excellent tool for interactive work with Python\n",
    "* Results are integrated with code in notebook\n",
    "* We can typeset using $\\LaTeX$, for nice equations\n",
    "* See [Fernando Perez' PyCon14 keynote on IPython](http://www.youtube.com/watch?v=2NSbuKFYyvc)\n",
    "* Newer framework for running notebooks: [Jupyter Lab](https://jupyterlab.readthedocs.io/en/stable/)\n",
    "\n",
    "### How Jupyter Lab works\n",
    "\n",
    "* In Notebook mode, Jupyter runs a webserver on your computer (`localhost`)\n",
    "* Your browser connects to the webserver\n",
    "* The webserver runs Python for you (the *kernel*)\n",
    "* The browser sends Python commands to the webserver, gets results back, displays them\n",
    "* Communication between browser and server uses [JSON](http://en.wikipedia.org/wiki/JSON) (JavaScript Object Notation)\n",
    "* Notebooks are stored as `.ipynb` files in JSON format\n",
    "\n",
    "### How to run notebooks\n",
    "\n",
    "* Start the server using Anaconda Navigator or in a Terminal using\n",
    "   \n",
    "        jupyter lab\n",
    "        \n",
    "* You may want to move to directory with notebook files first\n",
    "* Shut down kernel with `Ctrl-C` after closing all notebooks"
   ]
  },
  {
   "cell_type": "markdown",
   "metadata": {},
   "source": [
    "------\n",
    "\n",
    "## Coding Standards\n",
    "\n",
    "### The Zen of Python"
   ]
  },
  {
   "cell_type": "code",
   "execution_count": 2,
   "metadata": {},
   "outputs": [
    {
     "name": "stdout",
     "output_type": "stream",
     "text": [
      "The Zen of Python, by Tim Peters\n",
      "\n",
      "Beautiful is better than ugly.\n",
      "Explicit is better than implicit.\n",
      "Simple is better than complex.\n",
      "Complex is better than complicated.\n",
      "Flat is better than nested.\n",
      "Sparse is better than dense.\n",
      "Readability counts.\n",
      "Special cases aren't special enough to break the rules.\n",
      "Although practicality beats purity.\n",
      "Errors should never pass silently.\n",
      "Unless explicitly silenced.\n",
      "In the face of ambiguity, refuse the temptation to guess.\n",
      "There should be one-- and preferably only one --obvious way to do it.\n",
      "Although that way may not be obvious at first unless you're Dutch.\n",
      "Now is better than never.\n",
      "Although never is often better than *right* now.\n",
      "If the implementation is hard to explain, it's a bad idea.\n",
      "If the implementation is easy to explain, it may be a good idea.\n",
      "Namespaces are one honking great idea -- let's do more of those!\n"
     ]
    }
   ],
   "source": [
    "import this"
   ]
  },
  {
   "cell_type": "markdown",
   "metadata": {},
   "source": [
    "### PEP8\n",
    "\n",
    "* Readable code requires clean coding\n",
    "* [Python Enhancement Proposal No 8 (PEP8)](http://legacy.python.org/dev/peps/pep-0008/) provides rules for good Python style\n",
    "* Read PEP8!\n",
    "* PyCharm will help you to format code according to PEP8 (e.g. `Code > Reformat code ...`)\n",
    "* In PyCharm, use `Code > Inspect code ...` to have your code checked\n",
    "* Inspect you code often!\n",
    "* Try to understand inspection results and improve your code!\n",
    "\n",
    "#### Spacing\n",
    "* Ident by 4 *spaces*, do not use tabs\n",
    "* Avoid lines longer than 79 characters (although this limit is moving up ...)\n",
    "* When wrapping long lines, use parentheses to keep things together\n",
    "* Separate top-level functions by two blank lines\n",
    "* Use UTF-8 encoding by beginning each code file with\n",
    "        # -*- coding: utf-8 -*-\n",
    "* Put imports on separate lines at the top of the file\n",
    "* Be careful and consistent with whitespace (examples from PEP8):\n",
    "        Yes: spam(ham[1], {eggs: 2})\n",
    "        No:  spam( ham[ 1 ], { eggs: 2 } )\n",
    "        \n",
    "        Yes: if x == 4: print x, y; x, y = y, x\n",
    "        No:  if x == 4 : print x , y ; x , y = y , x\n",
    "        \n",
    "        Yes: spam(1)\n",
    "        No:  spam (1)\n",
    "        \n",
    "        Yes: dct['key'] = lst[index]\n",
    "        No:  dct ['key'] = lst [index]\n",
    "* More *good* examples\n",
    "        i = i + 1\n",
    "        submitted += 1\n",
    "        x = x*2 - 1\n",
    "        hypot2 = x*x + y*y\n",
    "        c = (a+b) * (a-b)\n",
    "        \n",
    "        def complex(real, imag=0.0):\n",
    "            return magic(r=real, i=imag)\n",
    "* More *bad* examples\n",
    "        i=i+1\n",
    "        submitted +=1\n",
    "        x = x * 2 - 1\n",
    "        hypot2 = x * x + y * y\n",
    "        c = (a + b) * (a - b)\n",
    "        \n",
    "        def complex(real, imag = 0.0):\n",
    "            return magic(r = real, i = imag)"
   ]
  },
  {
   "cell_type": "markdown",
   "metadata": {},
   "source": [
    "#### Naming conventions\n",
    "\n",
    "* Never use `l`, `O` or `I` for single-letter names\n",
    "* Module (file) names: short, all lowercase, underscore allowed\n",
    "* Functions: all lowercase, parts separated by underscore (`count_words()`)\n",
    "* Variables: same as function names\n",
    "* Constants: all uppercase, parts separated by underscore (`MAX_WEIGHT`)"
   ]
  },
  {
   "cell_type": "markdown",
   "metadata": {},
   "source": [
    "#### Coding practice\n",
    "* Most examples copied from PEP8\n",
    "* Use `is` and `is not` when testing if something is `None`\n",
    "        Yes:   if foo is None:\n",
    "               if foo is not None:\n",
    "        No:    if foo == None:\n",
    "               if foo != None:\n",
    "               if not foo is None:\n",
    "* Note the difference between testing for `None` and `False`:\n",
    "    * The following will print `---` only if `foo` is `None`\n",
    "            if foo is not None:\n",
    "                print '***'\n",
    "            else:\n",
    "                print '---'\n",
    "    * The following will print `***` if `foo` is `None`, `False`, `0`, `[]`, eller `''`:\n",
    "            if foo:\n",
    "                print '***'\n",
    "            else:\n",
    "                print '---'\n",
    "* Don't compare boolean values to `True` or `False` using `==`.\n",
    "        Yes:   if greeting:\n",
    "        No:    if greeting == True:\n",
    "        Worse: if greeting is True:\n",
    "* For sequences, (strings, lists, tuples), use the fact that empty sequences are false.\n",
    "        Yes: if not seq:\n",
    "             if seq:\n",
    "        \n",
    "        No: if len(seq)\n",
    "            if not len(seq)\n",
    "* Use `''.startswith()` and `''.endswith()` instead of string slicing to check for prefixes or suffixes.\n",
    "        Yes: if foo.startswith('bar'):\n",
    "        No:  if foo[:3] == 'bar':"
   ]
  },
  {
   "cell_type": "markdown",
   "metadata": {},
   "source": [
    "------\n",
    "\n",
    "## Pre-course exercise: Counting the population\n",
    "\n",
    "### Task 1\n",
    "\n",
    "The file `norway_municipalities_2017.csv` contains a list of all Norwegian municipalities, the district (fylke) they belong to and their population (data from 2017). Write a program that reads this file, calculates the population for each of the 19 districts and prints this as a well-formatted table in descending order of population (i.e., from the most to the least populous district). Your program should only use built-in Python features and not contain any import statements. Between 10 and 20 lines of code should be enough to solve this task. \n",
    "\n",
    "#### Look at the data"
   ]
  },
  {
   "cell_type": "code",
   "execution_count": 1,
   "metadata": {},
   "outputs": [],
   "source": [
    "# This box works only on Mac and Linux. You can open the file in the Jupyter Lab file browser, too."
   ]
  },
  {
   "cell_type": "code",
   "execution_count": 3,
   "metadata": {},
   "outputs": [
    {
     "name": "stdout",
     "output_type": "stream",
     "text": [
      "Municipality,District,Population\n",
      "Halden,Østfold,30790\n",
      "Moss,Østfold,32407\n",
      "Sarpsborg,Østfold,55127\n",
      "Fredrikstad,Østfold,80121\n",
      "Hvaler,Østfold,4517\n",
      "Aremark,Østfold,1398\n",
      "Marker,Østfold,3597\n",
      "Rømskog,Østfold,685\n",
      "Trøgstad,Østfold,5367\n"
     ]
    }
   ],
   "source": [
    "!head norway_municipalities_2017.csv"
   ]
  },
  {
   "cell_type": "markdown",
   "metadata": {},
   "source": [
    "#### Analysis\n",
    "- How is the data structured?\n",
    "- How could we represent it in Python?\n",
    "- How can we split the lines?\n",
    "- How do we compute the results?\n",
    "- How do we tabulate the results?"
   ]
  },
  {
   "cell_type": "markdown",
   "metadata": {},
   "source": [
    "#### First solution"
   ]
  },
  {
   "cell_type": "code",
   "execution_count": 16,
   "metadata": {},
   "outputs": [
    {
     "name": "stdout",
     "output_type": "stream",
     "text": [
      "District            Population\n",
      "------------------------------\n",
      "Oslo                    666759\n",
      "Akershus                604368\n",
      "Hordaland               519963\n",
      "Rogaland                472024\n",
      "Sør-Trøndelag           317363\n",
      "Østfold                 292893\n",
      "Buskerud                279714\n",
      "Møre og Romsdal         266274\n",
      "Vestfold                247048\n",
      "Nordland                242866\n",
      "Hedmark                 196190\n",
      "Oppland                 189479\n",
      "Vest-Agder              184116\n",
      "Telemark                173307\n",
      "Troms - Romsa           165632\n",
      "Nord-Trøndelag          137233\n",
      "Aust-Agder              116673\n",
      "Sogn og Fjordane        110266\n",
      "Finnmark - Finnmárku     76149\n"
     ]
    }
   ],
   "source": [
    "district_population = {}\n",
    "with open('norway_municipalities_2017.csv', 'r') as infile:\n",
    "    header = infile.readline().strip().split(',')\n",
    "\n",
    "    for line in infile:\n",
    "        _, district, muni_population = line.split(',')\n",
    "        district_population[district] = district_population.get(district, 0) + int(muni_population)\n",
    "\n",
    "print(f'{header[1]:20s}{header[2]:>10s}')\n",
    "print(30 * '-')\n",
    "for district, population in sorted(district_population.items(), key=lambda s: s[1], reverse=True):\n",
    "    print(f'{district:20s}{population:10d}')"
   ]
  },
  {
   "cell_type": "markdown",
   "metadata": {},
   "source": [
    "#### Critique\n",
    "\n",
    "- How could we improve the code?"
   ]
  },
  {
   "cell_type": "markdown",
   "metadata": {},
   "source": [
    "### Task 2\n",
    "\n",
    "Write a program that works the same data as in 1, but plots the population of the districts as a bar diagram (one bar per district). You can import any modules you would like to use. This task can be solved with a single import statement and just one more line of code.\n",
    "\n",
    "#### Solution based on Pandas"
   ]
  },
  {
   "cell_type": "code",
   "execution_count": 17,
   "metadata": {},
   "outputs": [
    {
     "data": {
      "image/png": "[encoded data removed]",
      "text/plain": [
       "<Figure size 432x288 with 1 Axes>"
      ]
     },
     "metadata": {
      "needs_background": "light"
     },
     "output_type": "display_data"
    }
   ],
   "source": [
    "import pandas as pd\n",
    "pd.read_csv('norway_municipalities_2017.csv').groupby('District').sum().plot(kind='bar');"
   ]
  },
  {
   "cell_type": "markdown",
   "metadata": {},
   "source": [
    "#### A step-by-step solution"
   ]
  },
  {
   "cell_type": "code",
   "execution_count": 20,
   "metadata": {},
   "outputs": [
    {
     "data": {
      "image/png": "[encoded data removed]",
      "text/plain": [
       "<Figure size 432x288 with 1 Axes>"
      ]
     },
     "metadata": {
      "needs_background": "light"
     },
     "output_type": "display_data"
    }
   ],
   "source": [
    "population_per_municipality = pd.read_csv('norway_municipalities_2017.csv')\n",
    "population_grouped_by_district = population_per_municipality.groupby('District')\n",
    "population_per_district = population_grouped_by_district.sum()\n",
    "population_per_district.plot(kind='bar');"
   ]
  },
  {
   "cell_type": "markdown",
   "metadata": {},
   "source": [
    "---\n",
    "\n",
    "## Live Programming: Norwegian National Elections\n",
    "\n",
    "### Election rules\n",
    "\n",
    "- [Norwegian constitution §59](https://lovdata.no/NLE/lov/1814-05-17/a59)\n",
    "- [Election Act §11](https://lovdata.no/NLE/lov/2002-06-28-57/§11-1)\n",
    "- For those who want the fine details:\n",
    "    - [Valghåndboken](https://www.regjeringen.no/no/tema/valg-og-demokrati/den-norske-valgordningen/valghandboken/id463405/)\n",
    "    - https://valgmedarbeiderportalen.valg.no\n",
    "- Election result data\n",
    "    - 2017: https://valgresultat.no/?type=st&year=2017\n",
    "    - 2021: https://valgresultat.no/?type=st&year=2021\n",
    "- Election software source code\n",
    "    - https://www.valg.no/en/elections2/conduct-of-elections/eva--the-electronic-election-administration-system/\n",
    "    \n",
    "### Summary of rules\n",
    "\n",
    "1. 169 seats in total.\n",
    "2. 19 election districts (former fylker up to 2017).\n",
    "3. Number of seats per district determined by population and area.\n",
    "4. One seat per district is *seat at large* (*utjevningsmandat*), the remaining *district seats*.\n",
    "5. District seats are allocated to parties first.\n",
    "6. Then seats at large are allocated to parties, considering only parties which have received at least 4% of the votes cast (*sperregrense*).\n",
    "7. Finally, seats at large are assigned to districts.\n",
    "8. Allocation of seats is done according to the [modified Sainte-Laguë metoden](https://en.wikipedia.org/wiki/Webster/Sainte-Laguë_method), the assignment of seats at large to the districts according to the method describe in Election Act §11-6(3).\n",
    "\n",
    "#### Sainte-Laguë's method\n",
    "\n",
    "1. For each district, count the number of votes cast for each party.\n",
    "2. Divide the number of votes successively by 1.4-3-5-7-... \n",
    "3. Find the largest fraction in the resulting table and assign a seat to the corresponding party. Cross out that fraction.\n",
    "4. Repeat until all seats have been assigned.\n",
    "5. If two parties have the same fraction, assign the seat to the party that has the largest number of votes. If they have the same number of votes, toss a coin.\n",
    "\n",
    "#### Assigning seats at large\n",
    "\n",
    "1. Compute the number of votes each party has received in all of Norway.\n",
    "2. Find those parties who have received at least 4% of the total votes cast.\n",
    "3. Apply Sainte-Laguë's method to the total vote count for these parties to distribute all 169 seats minus the number of district seats won by parties who received less than 4% of the total votes cast.\n",
    "4. If this results in a party receiving fewer seats than it has already gotten as district seats, remove this party and re-do the distribution according to 3.\n",
    "\n",
    "#### Distribution of seats to districts (2017)\n",
    "\n",
    "|       |   Østfold |   Akershus |   Oslo |   Hedmark |   Oppland |   Buskerud |   Vestfold |   Telemark |   Aust-Agder |   Vest-Agder |   Rogaland |   Hordaland |   Sogn og Fjordane |   Møre og Romsdal |   Sør-Trøndelag |   Nord-Trøndelag |   Nordland |   Troms Romsa |   Finnmark Finnmárku |\n",
    "|:------|----------:|-----------:|-------:|----------:|----------:|-----------:|-----------:|-----------:|-------------:|-------------:|-----------:|------------:|-------------------:|------------------:|----------------:|-----------------:|-----------:|--------------:|---------------------:|\n",
    "| Seats |         9 |         17 |     19 |         7 |         7 |          9 |          7 |          6 |            4 |            6 |         14 |          16 |                  4 |                 9 |              10 |                5 |          9 |             6 |                    5 |"
   ]
  },
  {
   "cell_type": "markdown",
   "metadata": {},
   "source": [
    "### The data\n",
    "\n",
    "We will work with data for the 2017 election in file `http://localhost:8888/lab/tree/prep/2021-09-08_party%20distribution_1_st_2017.csv` obtained from [valgresultat.no](https://valgresultat.no/eksport-av-valgresultater?type=st&year=2017), Table *Export to CSV > Party distribution > County level*.\n",
    "\n",
    "You can also look at the data in the data browser, remember to choose the right column separator."
   ]
  },
  {
   "cell_type": "code",
   "execution_count": 6,
   "metadata": {},
   "outputs": [
    {
     "name": "stdout",
     "output_type": "stream",
     "text": [
      "Fylkenummer;Fylkenavn;Kommunenummer;Kommunenavn;Stemmekretsnummer;Stemmekretsnavn;Partikode;Partinavn;Oppslutning prosentvis;Antall stemmeberettigede;Antall forhåndsstemmer;Antall valgtingstemmer;Antall stemmer totalt;Endring % siste tilsvarende valg;Endring % siste ekvivalente valg;Antall mandater;Antall utjevningsmandater;\n",
      "01;Østfold;;;;;A;Arbeiderpartiet;32,05136;216293;12947;38598;51545;-2,86489;-8,0513;3;0;\n",
      "01;Østfold;;;;;SV;Sosialistisk Venstreparti;4,37508;216293;1767;5269;7036;2,04266;1,82474;1;1;\n",
      "01;Østfold;;;;;RØDT;Rødt;2,13593;216293;1018;2417;3435;1,4053;0,59057;0;0;\n",
      "01;Østfold;;;;;SP;Senterpartiet;8,66994;216293;3046;10897;13943;4,59712;2,38115;1;0;\n",
      "01;Østfold;;;;;KRF;Kristelig Folkeparti;4,23517;216293;1575;5236;6811;-1,37839;-1,52677;0;0;\n",
      "01;Østfold;;;;;MDG;Miljøpartiet De Grønne;2,60664;216293;1403;2789;4192;0,59217;-1,84089;0;0;\n",
      "01;Østfold;;;;;V;Venstre;2,41139;216293;984;2894;3878;-1,22776;-0,49078;0;0;\n",
      "01;Østfold;;;;;H;Høyre;23,79306;216293;9366;28898;38264;-1,45334;2,08947;2;0;\n",
      "01;Østfold;;;;;FRP;Fremskrittspartiet;17,52332;216293;7085;21096;28181;-2,06247;5,71526;2;0;\n"
     ]
    }
   ],
   "source": [
    "!head 2021-09-08_party\\ distribution_1_st_2017.csv"
   ]
  },
  {
   "cell_type": "markdown",
   "metadata": {},
   "source": [
    "### Analysis\n",
    "\n",
    "- What is in the table?\n",
    "- What information do we need?\n",
    "- How can we import this data?\n",
    "- How should we represent this data?\n",
    "- How can we apply Sainte-Laguë's method?\n",
    "- What should we do first?"
   ]
  },
  {
   "cell_type": "markdown",
   "metadata": {},
   "source": [
    "### Implementation\n",
    "\n",
    "Live programming in class."
   ]
  },
  {
   "cell_type": "code",
   "execution_count": null,
   "metadata": {},
   "outputs": [],
   "source": []
  }
 ],
 "metadata": {
  "kernelspec": {
   "display_name": "Python 3 (ipykernel)",
   "language": "python",
   "name": "python3"
  },
  "language_info": {
   "codemirror_mode": {
    "name": "ipython",
    "version": 3
   },
   "file_extension": ".py",
   "mimetype": "text/x-python",
   "name": "python",
   "nbconvert_exporter": "python",
   "pygments_lexer": "ipython3",
   "version": "3.8.11"
  },
  "toc-showtags": false
 },
 "nbformat": 4,
 "nbformat_minor": 4
}
