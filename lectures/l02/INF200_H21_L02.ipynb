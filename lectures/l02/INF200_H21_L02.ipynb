{
 "cells": [
  {
   "cell_type": "markdown",
   "id": "c33f5a1a-7ad4-45b0-b510-7aec0000b29a",
   "metadata": {},
   "source": [
    "INF200 Lecture No 2\n",
    "===================\n",
    "\n",
    "***Hans Ekkehard Plesser, NMBU, 20 September 2021***\n",
    "\n",
    "\n",
    "# Today's topics\n",
    "\n",
    "* Course syllabus\n",
    "* Exercises and deliverables\n",
    "* Collecting data\n",
    "    - Reading from files\n",
    "    - Character encoding\n",
    "    - Parsing strings\n",
    "    - Reading some widely used formats: CSV, Excel, JSON, YAML"
   ]
  },
  {
   "cell_type": "markdown",
   "id": "d6709dbc-0050-446f-8ad6-ed46f0d7bf70",
   "metadata": {},
   "source": [
    "----\n",
    "\n",
    "# Course syllabus\n",
    "\n",
    "This is a preliminary overview over the course content. Expect some adjustments as the semester progresses.\n",
    "\n",
    "| Week | Date | No. | Chapter | Topics |\n",
    "|:---:|---:|:---:|:----|:----|\n",
    "| 37 | 13 Sep | 01 | Introduction | |\n",
    "| 38 | 20 Sep | 02 | Collecting data | Reading files, parsing strings, reading common file formats |\n",
    "| 39 | 27 Sep | 03 | Collecting data | Regular expressions, pulling data from external sources |\n",
    "|    |        |    | Managing data | Scripting to manage file collections |\n",
    "| 40 | 04 Oct | 04 | Representing data | List, dictionaries, sets; NumPy arrays; Pandas series and dataframes |\n",
    "| 41 | 11 Oct | 05 | Processing data | Guest lecture by Oliver Tomic on ScikitLearn, Hoggorm and RENT |\n",
    "| 42 | 18 Oct | 06 | Representing data | Object-oriented programming: classes and instances|\n",
    "| 43 | 25 Oct | 07 | Representing data | Abstract data types, error handling, testing, documentation |\n",
    "| 44 | 01 Nov | 08 | Generating data | Simulation: Random numbers and processes, Markov chain analysis with NumPy|\n",
    "| 45 | 08 Nov | 09 | Generating data | Modeling systems with SciPy; intro to SymPy |\n",
    "| 46 | 15 Nov | 10 | Processing data | Data processing and analysis with Pandas |\n",
    "| 47 | 22 Nov | 11 | Presenting data | Visualisation with Matplotlib |\n",
    "| 48 | 29 Nov | 12 | Presenting data | Advanced visualisation tools |\n",
    "| 49 | 06 Dec | 13 | INF200 Project | Introduction to the INF200 project |\n",
    "\n",
    "\n",
    "\n",
    "\n"
   ]
  },
  {
   "cell_type": "markdown",
   "id": "5ea3f8fd-4a44-4315-8e78-d8a7de574464",
   "metadata": {},
   "source": [
    "----\n",
    "\n",
    "# Exercises and deliverables\n",
    "\n",
    "## Exercise groups\n",
    "| Week | Exercise | Attendance |\n",
    "|:---:|:-----|:-----|\n",
    "| 38 | Programming on site | mandatory |\n",
    "| 39 | Programming on site | mandatory |\n",
    "| 40 | Programming on site | mandatory |\n",
    "| 41 | Git practice | highly recommended |\n",
    "| 42–48 | Help with deliverables |  recommended |\n",
    "\n",
    "## Deliverables\n",
    "\n",
    "| Due date | Topic |\n",
    "| ---- | :--- |\n",
    "| 18 Oct | Data collection |\n",
    "| 01 Nov | Data representation |\n",
    "| 15 Nov | Data representation |\n",
    "| 29 Nov | Data generation |\n"
   ]
  },
  {
   "cell_type": "markdown",
   "id": "02d8ff83-cce0-44b4-92a9-bc645e6e3139",
   "metadata": {},
   "source": [
    "-----\n",
    "\n",
    "# Reading from files\n",
    "\n",
    "- We will focus on files containing human-readable text.\n",
    "- Much data is today available in such formats.\n",
    "- If data is stored in a binary file format (not human-readable), there will most likely be a Python module available to read such a file.\n",
    "\n",
    "### Important points about files\n",
    "\n",
    "- Files are an *abstraction* for data stored on a computer\n",
    "- A file may be in one of several different physical forms\n",
    "    - On magnetic tape, magnetic disc, solid-state disk or USB stick\n",
    "    - It may be on our local computer or on a remote server\n",
    "    - On a tape, a file will be stored in one contiguous part of the tape\n",
    "    - On a disk, a single file can be stored in many separate segments\n",
    "- The operating system hides all this complexity from us (abstracts away the details)\n",
    "- Thus, logically, a file\n",
    "    - is a *linear* sequence of bytes: each byte has exactly one predecessor and one successor (except first/last)\n",
    "    - has a name and a size (number of bytes)    \n",
    "- Common operations on files include\n",
    "    - open for reading and read, a byte at a time\n",
    "    - move back and forth in the file (similar to winding/rewinding a tape); not covered here\n",
    "    - open for writing (deletes existing content)\n",
    "    - open to append new content\n",
    "    - rename or move (later)\n",
    "\n",
    "### Basic steps for reading from a file\n",
    "\n",
    "1. Open file \n",
    "1. Read content\n",
    "1. Close file\n",
    "\n",
    "#### Important points\n",
    "\n",
    "- Python \"talks\" to operating system (OS) to get access to file.\n",
    "- File may be located on a remote server, OS hides this from us/handles this for us.\n",
    "- We must close the file when we are done, otherwise OS may refuse to, e.g., delete the file or eject the USB-stick with the file on it.\n",
    "- There is usually a limit on how many files we can have open simultaneously (~256).\n",
    "- All open files will be closed when Python terminates.\n",
    "\n",
    "\n",
    "### \"Old-fashioned\" approach: open, read, close explicitly"
   ]
  },
  {
   "cell_type": "code",
   "execution_count": 1,
   "id": "4cf11a09-86a2-4c31-ab48-b7bb0426d0fd",
   "metadata": {},
   "outputs": [],
   "source": [
    "f = open('testfile_plain.txt')"
   ]
  },
  {
   "cell_type": "code",
   "execution_count": 2,
   "id": "88eba7fd-70eb-43b9-986f-dd7ae6f15c58",
   "metadata": {},
   "outputs": [
    {
     "name": "stdout",
     "output_type": "stream",
     "text": [
      "This is a simple text file.\n",
      "\n",
      "It contains four lines, of which one is empty.\n",
      "The file does not end with a new line character.\n"
     ]
    }
   ],
   "source": [
    "text = f.read()\n",
    "print(text)"
   ]
  },
  {
   "cell_type": "code",
   "execution_count": 3,
   "id": "6ef5d4e1-410f-4e02-8fe6-8637e81c9ba9",
   "metadata": {},
   "outputs": [],
   "source": [
    "f.close()"
   ]
  },
  {
   "cell_type": "markdown",
   "id": "a711707d-98c7-43fe-bed8-a2f3ef5010e9",
   "metadata": {},
   "source": [
    "### Modern approach using a *context*"
   ]
  },
  {
   "cell_type": "code",
   "execution_count": 4,
   "id": "df4b8bac-2d09-41be-ad10-29f5ed4764eb",
   "metadata": {},
   "outputs": [
    {
     "name": "stdout",
     "output_type": "stream",
     "text": [
      "This is a simple text file.\n",
      "\n",
      "It contains four lines, of which one is empty.\n",
      "The file does not end with a new line character.\n"
     ]
    }
   ],
   "source": [
    "with open('testfile_plain.txt') as fc:\n",
    "    text = fc.read()\n",
    "\n",
    "print(text)"
   ]
  },
  {
   "cell_type": "markdown",
   "id": "36485eac-c3bc-4b80-8ce2-7d8c528ebe83",
   "metadata": {},
   "source": [
    "- File is only open inside context.\n",
    "- File will be closed properly no matter how we leave the context.\n",
    "- Highly recommended for new code.\n",
    "- `f` and `fc` are *file handles*, Python objects giving us access to the file."
   ]
  },
  {
   "cell_type": "markdown",
   "id": "c1d6ab9e-d2ab-475d-81fe-38ab83cdbd40",
   "metadata": {},
   "source": [
    "### A very compact way (mostly for illustration here)"
   ]
  },
  {
   "cell_type": "code",
   "execution_count": 5,
   "id": "785c7ae1-68e4-469d-bbb8-aaef8defcdb4",
   "metadata": {},
   "outputs": [
    {
     "data": {
      "text/plain": [
       "'This is a simple text file.\\n\\nIt contains four lines, of which one is empty.\\nThe file does not end with a new line character.'"
      ]
     },
     "execution_count": 5,
     "metadata": {},
     "output_type": "execute_result"
    }
   ],
   "source": [
    "text = open('testfile_plain.txt').read()\n",
    "text"
   ]
  },
  {
   "cell_type": "markdown",
   "id": "bb409700-a6f1-4fbc-b818-fadf050fc83f",
   "metadata": {},
   "source": [
    "- `open()` returns a file handle, we apply `read()` directly to it.\n",
    "- We never store the file handle in a variable. Python garbage collection then automatically deletes the file handle object when the statement completes and closes the file in the process.\n",
    "- We display the `text` variable instead of `print()`ing it. This shows the newline characters `\\n` explicitly."
   ]
  },
  {
   "cell_type": "markdown",
   "id": "6c75d738-97de-4ead-a388-b760531c384d",
   "metadata": {},
   "source": [
    "### Three ways of reading a file: whole, by line, by letter\n",
    "\n",
    "- `f.read()` reads the entire file, see above.\n",
    "    - Simple, but may not work well for large files.\n",
    "- `f.read(1)` reads one character at a time. \n",
    "    - With `f.seek()`, one can even move back and forth in a file while reading.\n",
    "    - We will not cover letter-by-letter reading here.\n",
    "\n",
    "#### Reading by line"
   ]
  },
  {
   "cell_type": "code",
   "execution_count": 6,
   "id": "72e08b49-ceb4-4436-9356-aabe278ae421",
   "metadata": {},
   "outputs": [
    {
     "name": "stdout",
     "output_type": "stream",
     "text": [
      "This is a simple text file.\n",
      "\n",
      "\n",
      "\n",
      "It contains four lines, of which one is empty.\n",
      "\n",
      "The file does not end with a new line character.\n"
     ]
    }
   ],
   "source": [
    "with open('testfile_plain.txt') as tfile:\n",
    "    for line in tfile:\n",
    "        print(line)"
   ]
  },
  {
   "cell_type": "markdown",
   "id": "843bd519-9cee-4f4c-b89c-37271e53ed0d",
   "metadata": {},
   "source": [
    "- Why does this print extra lines?\n",
    "- Print lines in \"representation mode\" using `repr()`:"
   ]
  },
  {
   "cell_type": "code",
   "execution_count": 7,
   "id": "0f13d179-2fc0-4a45-8406-4d53f843b76d",
   "metadata": {},
   "outputs": [
    {
     "name": "stdout",
     "output_type": "stream",
     "text": [
      "'This is a simple text file.\\n'\n",
      "'\\n'\n",
      "'It contains four lines, of which one is empty.\\n'\n",
      "'The file does not end with a new line character.'\n"
     ]
    }
   ],
   "source": [
    "with open('testfile_plain.txt') as tfile:\n",
    "    for line in tfile:\n",
    "        print(repr(line))"
   ]
  },
  {
   "cell_type": "markdown",
   "id": "c1ea4eb2-7aa5-47c4-81b1-62140816c354",
   "metadata": {},
   "source": [
    "- When reading linewise, line feed is included in the string.\n",
    "- `print()` also adds a line break.\n",
    "- Two solutions:\n",
    "    - tell `print()` not to add line break\n",
    "    - `rstrip('\\n')` line feed off (usually most sensible)"
   ]
  },
  {
   "cell_type": "code",
   "execution_count": 8,
   "id": "db3d33bc-9d2f-41a4-9239-482cb5d2badd",
   "metadata": {},
   "outputs": [
    {
     "name": "stdout",
     "output_type": "stream",
     "text": [
      "This is a simple text file.\n",
      "\n",
      "It contains four lines, of which one is empty.\n",
      "The file does not end with a new line character."
     ]
    }
   ],
   "source": [
    "with open('testfile_plain.txt') as tfile:\n",
    "    for line in tfile:\n",
    "        print(line, end='')"
   ]
  },
  {
   "cell_type": "code",
   "execution_count": 9,
   "id": "81198686-112a-4723-8167-4d2fb2b3a099",
   "metadata": {},
   "outputs": [
    {
     "name": "stdout",
     "output_type": "stream",
     "text": [
      "This is a simple text file.\n",
      "\n",
      "It contains four lines, of which one is empty.\n",
      "The file does not end with a new line character.\n"
     ]
    }
   ],
   "source": [
    "with open('testfile_plain.txt') as tfile:\n",
    "    for line in tfile:\n",
    "        print(line.rstrip('\\n'))"
   ]
  },
  {
   "cell_type": "markdown",
   "id": "489c83b1-1551-4d93-ab93-b19c293190fc",
   "metadata": {},
   "source": [
    "- Why would it not be a good idea to just use `line.strip()` above?\n",
    "- What could go wrong if we just printed all except the last letter in a line, i.e., used `print(line[:-1])`?"
   ]
  },
  {
   "cell_type": "markdown",
   "id": "c88e16c2-deb3-4cf4-8934-b1c2447a6846",
   "metadata": {},
   "source": [
    "#### Python goodie: line numbers with `enumerate()`"
   ]
  },
  {
   "cell_type": "code",
   "execution_count": 10,
   "id": "65cc7719-d88c-4192-84d3-a4bd2d501f56",
   "metadata": {},
   "outputs": [
    {
     "name": "stdout",
     "output_type": "stream",
     "text": [
      "000: This is a simple text file.\n",
      "001: \n",
      "002: It contains four lines, of which one is empty.\n",
      "003: The file does not end with a new line character.\n"
     ]
    }
   ],
   "source": [
    "with open('testfile_plain.txt') as tfile:\n",
    "    for line_number, line in enumerate(tfile):\n",
    "        print(f'{line_number:03d}: {line.strip()}')"
   ]
  },
  {
   "cell_type": "markdown",
   "id": "50a23bda-b36e-4434-9f3f-f9220f7a1e3c",
   "metadata": {},
   "source": [
    "### Text mode vs binary mode\n",
    "\n",
    "- We usually read files in text mode: Python handles letters outside A-Z intelligently for us.\n",
    "    - Makes sense for text files only.\n",
    "    - This is default.\n",
    "- We can also read files in *binary mode*: Python reads strictly one byte (8 bits) at a time.\n",
    "    - Can be useful to inspect content of a file.\n",
    "    - Pass `'br'` as second argument to read in binary mode.\n",
    "        - `b`: binary mode\n",
    "        - `r`: open for reading\n",
    "- As an example, we read a test file with some Norwegian special characters first in text mode and then in binary mode.\n",
    "    - The output below will look strange on Windows. The explanation follows in the section \"Character encoding\" below."
   ]
  },
  {
   "cell_type": "code",
   "execution_count": 11,
   "id": "796ef3d4-5a08-4771-9141-8a6e9e4c97ed",
   "metadata": {},
   "outputs": [
    {
     "data": {
      "text/plain": [
       "'Vi er på Ås, et særdeles fint sted i Østnorge.'"
      ]
     },
     "execution_count": 11,
     "metadata": {},
     "output_type": "execute_result"
    }
   ],
   "source": [
    "open('testfile_utf8.txt').read()"
   ]
  },
  {
   "cell_type": "code",
   "execution_count": 12,
   "id": "fcd55e4e-d1fe-429a-91f3-4ac03017703a",
   "metadata": {},
   "outputs": [
    {
     "data": {
      "text/plain": [
       "b'Vi er p\\xc3\\xa5 \\xc3\\x85s, et s\\xc3\\xa6rdeles fint sted i \\xc3\\x98stnorge.'"
      ]
     },
     "execution_count": 12,
     "metadata": {},
     "output_type": "execute_result"
    }
   ],
   "source": [
    "open('testfile_utf8.txt', 'br').read()"
   ]
  },
  {
   "cell_type": "markdown",
   "id": "0a84a0bc-1017-4668-8e16-150d2cac24f2",
   "metadata": {},
   "source": [
    "- The `b` in `b'...'` indicates that this is a byte string, not a normal Python string."
   ]
  },
  {
   "cell_type": "markdown",
   "id": "14660161-9a22-46e6-a4d2-d8ac229a832a",
   "metadata": {
    "tags": []
   },
   "source": [
    "### A quick look at line endings\n",
    "\n",
    "- Marking of line endings is based on mechanical typewriter logic\n",
    "    - https://youtu.be/G4nX0Xrn-wo?t=96\n",
    "    - LF / Line Feed / `\\n` / `^J`/ `0x0a`/ `10`: move paper one line upwards\n",
    "    - CR / Carriage Return / `\\r` / `^M` / `0x0d`/ `13`: send carriage back to left edge\n",
    "- Unices (Unix, Linux, macOS) only use LF\n",
    "- Windows uses CR and LF\n",
    "- `open()` tries to handle this gracefully, dropping CR on reading\n",
    "- When opening files from Windows on Unices, one can sometimes see stray CRs\n",
    "- When opening files from Unices on Windows, sometimes all lines are turned into a single line\n",
    "\n",
    "#### Reading a file from Windows as text file"
   ]
  },
  {
   "cell_type": "code",
   "execution_count": 13,
   "id": "bdaec6e4-442c-4ff0-8bce-f221540a2cea",
   "metadata": {},
   "outputs": [
    {
     "data": {
      "text/plain": [
       "'This file as been created\\nwith Notepad under Win10.\\n\\nÅs is a town in Follo. The\\ndistrict to the south of\\nFollo is Østfold.\\n'"
      ]
     },
     "execution_count": 13,
     "metadata": {},
     "output_type": "execute_result"
    }
   ],
   "source": [
    "open('testfile_win_utf8.txt').read()"
   ]
  },
  {
   "cell_type": "markdown",
   "id": "cfb085b3-2eca-4594-a5e6-59a70e15f48c",
   "metadata": {},
   "source": [
    "#### Reading the same file in binary mode\n",
    "\n",
    "- Decode is explained below.\n",
    "- Note the `\\r\\n` for each line break."
   ]
  },
  {
   "cell_type": "code",
   "execution_count": 14,
   "id": "1acaf93a-978f-478e-856c-4a25df32eb77",
   "metadata": {},
   "outputs": [
    {
     "data": {
      "text/plain": [
       "'This file as been created\\r\\nwith Notepad under Win10.\\r\\n\\r\\nÅs is a town in Follo. The\\r\\ndistrict to the south of\\r\\nFollo is Østfold.\\r\\n'"
      ]
     },
     "execution_count": 14,
     "metadata": {},
     "output_type": "execute_result"
    }
   ],
   "source": [
    "open('testfile_win_utf8.txt', 'br').read().decode()"
   ]
  },
  {
   "cell_type": "markdown",
   "id": "626a0739-2f3c-4403-af13-d4f3fd7454e9",
   "metadata": {},
   "source": [
    "## Character encoding"
   ]
  },
  {
   "cell_type": "markdown",
   "id": "f354df07-41ee-4bba-8362-f5134953ba68",
   "metadata": {},
   "source": [
    "### The beginnings\n",
    "\n",
    "- [Morse code](https://en.wikipedia.org/wiki/Morse_code) and other telegraph codes\n",
    "- [ASCII code](https://en.wikipedia.org/wiki/ASCII) from the 1960s\n",
    "    - 7 bit (remaining bit in byte could be used as parity)\n",
    "    - numerical values 0-127\n",
    "    \n",
    "|Range|Hex|Values|\n",
    "|--:|--:|:--|\n",
    "|0-31|0x00-0x1f|Control characters, e.g., \"newline\"|\n",
    "|32|0x20|Space|\n",
    "|33-47|0x21-02f|Punctuation|\n",
    "|48-57|0x30-0x39|0-9|\n",
    "|58-64|0x3a-0x40|Punctuation|\n",
    "|65-90|0x41-0x5a|A-Z|\n",
    "|91-96|0x5b-0x60|Punctuation|\n",
    "|97-122|0x61-0x7a|a-z|\n",
    "|123-126|0x7b-0x7e|Punctuation|\n",
    "|127|0x7f|Control character DEL|\n",
    "\n",
    "### The murky middle ages\n",
    "\n",
    "- Wide range of incompatible characted coding schemes for characters outside A-Z, e.g., `latin-1`, `iso-8859-1`, `cp1252`, ...\n",
    "- For a list of supported encodings, see https://docs.python.org/3/library/codecs.html#standard-encodings\n",
    "\n",
    "### Today's solution: Unicode and UTF-8\n",
    "\n",
    "- [Unicode (ISO 10646 standard)](https://en.wikipedia.org/wiki/Unicode)\n",
    "- Provides 1,114,112 *code points* which can represent one symbol each\n",
    "- Currently, 143,859 code points defined\n",
    "    - 154 scripts/languages\n",
    "    - mathematics\n",
    "    - emojis, ...\n",
    "- Code points up to 255 (0xff) agree with ASCII (to 127) and [ISO 8859-1 Latin 1](https://en.wikipedia.org/wiki/ISO/IEC_8859-1) for 128-255\n",
    "- Code points are abstract numbers\n",
    "- Code points are written as U+005a (capital \"Z\")\n",
    "- Actual storage: Unicode Transformation Format (UTF)\n",
    "    - Most common: [UTF-8](https://en.wikipedia.org/wiki/UTF-8) (over 90% of all websites)\n",
    "    - UTF-8 is default for Python\n",
    "    - Also used: UTF-16 and UTF-32\n",
    "    \n",
    "<p><a href=\"https://commons.wikimedia.org/wiki/File:Utf8webgrowth.svg#/media/File:Utf8webgrowth.svg\"><img src=\"https://upload.wikimedia.org/wikipedia/commons/thumb/c/c4/Utf8webgrowth.svg/1200px-Utf8webgrowth.svg.png\" alt=\"Utf8webgrowth.svg\"></a><br>By <a href=\"//commons.wikimedia.org/wiki/User:Chris55\" title=\"User:Chris55\">Chris55</a> - <span class=\"int-own-work\" lang=\"en\">Own work</span>, <a href=\"http://creativecommons.org/licenses/by-sa/4.0\" title=\"Creative Commons Attribution-Share Alike 4.0\">CC BY-SA 4.0</a>, <a href=\"https://commons.wikimedia.org/w/index.php?curid=51421096\">Link</a></p>\n",
    "\n",
    "- UTF-8 encodes the number of a Unicode code point in 1, 2, 3 or 4 bytes\n",
    "- UTF-8 is identical to ASCII up to 127\n",
    "- Number of bytes and bits for different code point (CP) ranges ([after Wikipedia](https://en.wikipedia.org/wiki/UTF-8))\n",
    "\n",
    "|Bytes|Bits for CP|First CP|Last CP|Byte 1|Byte 2|Byte 3|Byte 4|\n",
    "|-:|-:|-:|-:|-:|-:|-:|-:|\n",
    "|1|7|U+0000|U+007F|`0xxxxxxx`||||\n",
    "|2|\t11|\tU+0080\t|U+07FF|\t`110xxxxx`\t|`10xxxxxx`|||\t\t\n",
    "|3|\t16|\tU+0800\t|U+FFFF|\t`1110xxxx`\t|`10xxxxxx`\t|`10xxxxxx`||\t\n",
    "|4|\t21|\tU+10000\t|U+10FFFF\t|`11110xxx`\t|`10xxxxxx`\t|`10xxxxxx`\t|`10xxxxxx`|\n"
   ]
  },
  {
   "cell_type": "markdown",
   "id": "28c17a39-db29-4c25-a41c-dfa41d648b79",
   "metadata": {},
   "source": [
    "### Character encoding in Python\n",
    "\n",
    "- `str` data type fully supports Unicode\n",
    "- Each character in a string is represented by its Unicode code point\n",
    "- `chr()` converts code point to single-chararcter string\n",
    "- `ord()` converts single-character string to code point\n",
    "\n",
    "Some examples"
   ]
  },
  {
   "cell_type": "code",
   "execution_count": 15,
   "id": "07f1f232-fdff-4a90-a916-ac6700184742",
   "metadata": {},
   "outputs": [
    {
     "data": {
      "text/plain": [
       "[65, 97, 48, 230, 945, 8364, 12469, 128514]"
      ]
     },
     "execution_count": 15,
     "metadata": {},
     "output_type": "execute_result"
    }
   ],
   "source": [
    "cps = [ord(c) for c in ['A', 'a', '0', 'æ', 'α', '€', 'サ', '😂']]\n",
    "cps"
   ]
  },
  {
   "cell_type": "markdown",
   "id": "0f5dbe5c-93c7-4969-9e26-34160e4dcc79",
   "metadata": {},
   "source": [
    "The same expressed as hexadecimal numbers"
   ]
  },
  {
   "cell_type": "code",
   "execution_count": 16,
   "id": "1a632dea-a83d-4f4e-9fc2-65565cd02ba6",
   "metadata": {},
   "outputs": [
    {
     "data": {
      "text/plain": [
       "['0x41', '0x61', '0x30', '0xe6', '0x3b1', '0x20ac', '0x30b5', '0x1f602']"
      ]
     },
     "execution_count": 16,
     "metadata": {},
     "output_type": "execute_result"
    }
   ],
   "source": [
    "[hex(cp) for cp in cps]"
   ]
  },
  {
   "cell_type": "markdown",
   "id": "ea70c802-50d1-4e47-80cf-d770498b1353",
   "metadata": {},
   "source": [
    "We use code point to character conversion to look at the character at the next code point:"
   ]
  },
  {
   "cell_type": "code",
   "execution_count": 17,
   "id": "a931e1f1-393c-4593-bfc8-751200a6fe8f",
   "metadata": {},
   "outputs": [
    {
     "name": "stdout",
     "output_type": "stream",
     "text": [
      "    65    0x41 A B\n",
      "    97    0x61 a b\n",
      "    48    0x30 0 1\n",
      "   230    0xe6 æ ç\n",
      "   945   0x3b1 α β\n",
      "  8364  0x20ac € ₭\n",
      " 12469  0x30b5 サ ザ\n",
      "128514 0x1f602 😂 😃\n"
     ]
    }
   ],
   "source": [
    "for cp in cps:\n",
    "    print('{:>6} {:>7} {} {}'.format(cp, hex(cp), chr(cp), chr(cp+1)))"
   ]
  },
  {
   "cell_type": "markdown",
   "id": "5ee1c924-591e-4915-9a8c-02f48f3d9a17",
   "metadata": {},
   "source": [
    "- Code point values are used when sorting strings"
   ]
  },
  {
   "cell_type": "markdown",
   "id": "f11e46e0-2b94-45ff-8f25-5707070400db",
   "metadata": {},
   "source": [
    "#### UTF-8 encoding\n",
    "\n",
    "- Files contain bytes\n",
    "- We need to convert characters (code points) to some byte-based encoding\n",
    "- Default in Python: UTF-8\n",
    "- Special data type: `bytes`\n",
    "    - Similar to `str`\n",
    "    - Exactly one byte per position: values 0-255\n",
    "    - Elements are `int`\n",
    "    - Literals are marked as `b'This is a bytes literal.'`\n",
    "    - Values 128-255 in literals as escape sequences"
   ]
  },
  {
   "cell_type": "code",
   "execution_count": 18,
   "id": "378945e1-98b9-46a8-bfcb-30b81ba03c62",
   "metadata": {
    "tags": []
   },
   "outputs": [
    {
     "name": "stdout",
     "output_type": "stream",
     "text": [
      "b'This is a bytes literal.'\n",
      "<class 'bytes'>\n"
     ]
    }
   ],
   "source": [
    "blit = b'This is a bytes literal.'\n",
    "print(blit)\n",
    "print(type(blit))"
   ]
  },
  {
   "cell_type": "code",
   "execution_count": 19,
   "id": "64f7fa00-03af-4f34-82ff-1e44830ce144",
   "metadata": {},
   "outputs": [
    {
     "ename": "SyntaxError",
     "evalue": "bytes can only contain ASCII literal characters. (3112072472.py, line 1)",
     "output_type": "error",
     "traceback": [
      "\u001b[0;36m  File \u001b[0;32m\"/var/folders/j5/971zg6qd58n070p_ds781hzm0000gn/T/ipykernel_63972/3112072472.py\"\u001b[0;36m, line \u001b[0;32m1\u001b[0m\n\u001b[0;31m    b'Ås'\u001b[0m\n\u001b[0m    ^\u001b[0m\n\u001b[0;31mSyntaxError\u001b[0m\u001b[0;31m:\u001b[0m bytes can only contain ASCII literal characters.\n"
     ]
    }
   ],
   "source": [
    "b'Ås'"
   ]
  },
  {
   "cell_type": "markdown",
   "id": "c852de60-96b9-49af-92b5-493c7c5282ee",
   "metadata": {
    "tags": []
   },
   "source": [
    "#### Encoding and decoding\n",
    "\n",
    "- *Encoding*: converting a `str` to its `bytes` representation\n",
    "- We must provide an encoding"
   ]
  },
  {
   "cell_type": "code",
   "execution_count": 20,
   "id": "9ad680bb-1a81-4933-902c-427d0813c2ce",
   "metadata": {},
   "outputs": [
    {
     "data": {
      "text/plain": [
       "b'This is an example.'"
      ]
     },
     "execution_count": 20,
     "metadata": {},
     "output_type": "execute_result"
    }
   ],
   "source": [
    "bytes('This is an example.', encoding='utf-8')"
   ]
  },
  {
   "cell_type": "code",
   "execution_count": 21,
   "id": "a9d7266e-8ef8-42c2-84f9-4a695476d41b",
   "metadata": {},
   "outputs": [
    {
     "name": "stdout",
     "output_type": "stream",
     "text": [
      "UTF-8  : b'Vi er p\\xc3\\xa5 \\xc3\\x85s, et s\\xc3\\xa6rdeles fint sted i \\xc3\\x98stnorge.'\n",
      "Latin-1: b'Vi er p\\xe5 \\xc5s, et s\\xe6rdeles fint sted i \\xd8stnorge.'\n"
     ]
    }
   ],
   "source": [
    "text = 'Vi er på Ås, et særdeles fint sted i Østnorge.'\n",
    "text_utf8 = bytes(text, encoding='utf-8')\n",
    "text_latin1 = bytes(text, encoding='latin1')\n",
    "print('UTF-8  :', text_utf8)\n",
    "print('Latin-1:', text_latin1)"
   ]
  },
  {
   "cell_type": "markdown",
   "id": "8417f04d-48b4-4a7a-ba38-ecfc09b67a0c",
   "metadata": {},
   "source": [
    "- Note the different encodings: UTF-8 requires two bytes for each Norwegian character\n",
    "- *Decoding*: Converting from some encoding to Python `str`\n",
    "- Strange things can happen if we choose the wrong encoding to decode with\n",
    "- UTF-8 is default encoding"
   ]
  },
  {
   "cell_type": "code",
   "execution_count": 22,
   "id": "f53655f1-3cb8-4108-978e-0ec75a96ff14",
   "metadata": {},
   "outputs": [
    {
     "data": {
      "text/plain": [
       "'Vi er på Ås, et særdeles fint sted i Østnorge.'"
      ]
     },
     "execution_count": 22,
     "metadata": {},
     "output_type": "execute_result"
    }
   ],
   "source": [
    "text_utf8.decode()"
   ]
  },
  {
   "cell_type": "code",
   "execution_count": 23,
   "id": "40e2f1b2-7d5b-4f9a-afb5-b5776c02957b",
   "metadata": {},
   "outputs": [
    {
     "ename": "UnicodeDecodeError",
     "evalue": "'utf-8' codec can't decode byte 0xe5 in position 7: invalid continuation byte",
     "output_type": "error",
     "traceback": [
      "\u001b[0;31m---------------------------------------------------------------------------\u001b[0m",
      "\u001b[0;31mUnicodeDecodeError\u001b[0m                        Traceback (most recent call last)",
      "\u001b[0;32m/var/folders/j5/971zg6qd58n070p_ds781hzm0000gn/T/ipykernel_63972/4160925972.py\u001b[0m in \u001b[0;36m<module>\u001b[0;34m\u001b[0m\n\u001b[0;32m----> 1\u001b[0;31m \u001b[0mtext_latin1\u001b[0m\u001b[0;34m.\u001b[0m\u001b[0mdecode\u001b[0m\u001b[0;34m(\u001b[0m\u001b[0;34m)\u001b[0m\u001b[0;34m\u001b[0m\u001b[0;34m\u001b[0m\u001b[0m\n\u001b[0m",
      "\u001b[0;31mUnicodeDecodeError\u001b[0m: 'utf-8' codec can't decode byte 0xe5 in position 7: invalid continuation byte"
     ]
    }
   ],
   "source": [
    "text_latin1.decode()"
   ]
  },
  {
   "cell_type": "markdown",
   "id": "eaa318ad-31d1-49e9-8f8b-b6a6b56e533d",
   "metadata": {},
   "source": [
    "- We can tell `decode()` how to handle errors"
   ]
  },
  {
   "cell_type": "code",
   "execution_count": 24,
   "id": "6beb6763-093b-4548-9b8f-ec32c02c1e12",
   "metadata": {},
   "outputs": [
    {
     "data": {
      "text/plain": [
       "'Vi er p� �s, et s�rdeles fint sted i �stnorge.'"
      ]
     },
     "execution_count": 24,
     "metadata": {},
     "output_type": "execute_result"
    }
   ],
   "source": [
    "text_latin1.decode(errors='replace')"
   ]
  },
  {
   "cell_type": "code",
   "execution_count": 25,
   "id": "1060eab4-0198-4604-a69a-44906fdb0465",
   "metadata": {},
   "outputs": [
    {
     "data": {
      "text/plain": [
       "'Vi er p s, et srdeles fint sted i stnorge.'"
      ]
     },
     "execution_count": 25,
     "metadata": {},
     "output_type": "execute_result"
    }
   ],
   "source": [
    "text_latin1.decode(errors='ignore')"
   ]
  },
  {
   "cell_type": "code",
   "execution_count": 26,
   "id": "4d81172f-db4a-4cb4-83cc-3a6be5213d50",
   "metadata": {},
   "outputs": [
    {
     "data": {
      "text/plain": [
       "'Vi er på Ås, et særdeles fint sted i Østnorge.'"
      ]
     },
     "execution_count": 26,
     "metadata": {},
     "output_type": "execute_result"
    }
   ],
   "source": [
    "text_latin1.decode(encoding='latin1')"
   ]
  },
  {
   "cell_type": "code",
   "execution_count": 27,
   "id": "11c46960-9ce1-46b6-b66e-a938f8e7de5d",
   "metadata": {},
   "outputs": [
    {
     "data": {
      "text/plain": [
       "'Vi er pÃ¥ Ã\\x85s, et sÃ¦rdeles fint sted i Ã\\x98stnorge.'"
      ]
     },
     "execution_count": 27,
     "metadata": {},
     "output_type": "execute_result"
    }
   ],
   "source": [
    "text_utf8.decode(encoding='latin1')"
   ]
  },
  {
   "cell_type": "markdown",
   "id": "9d1107c8-74f3-45c8-8817-722b2fbe7f1d",
   "metadata": {},
   "source": [
    "#### And a little Japanese example\n",
    "\n",
    "- Let us encode 'サイトマップ' (japansk \"saitomappo\", i.e., \"site map\")\n",
    "- We first look at the character codes"
   ]
  },
  {
   "cell_type": "code",
   "execution_count": 28,
   "id": "66e5ea95-3bac-42a8-88bc-e007bb641d11",
   "metadata": {},
   "outputs": [
    {
     "name": "stdout",
     "output_type": "stream",
     "text": [
      "サ 12469\n",
      "イ 12452\n",
      "ト 12488\n",
      "マ 12510\n",
      "ッ 12483\n",
      "プ 12503\n"
     ]
    }
   ],
   "source": [
    "smap = 'サイトマップ'\n",
    "for kana in smap:\n",
    "    print(kana, ord(kana))"
   ]
  },
  {
   "cell_type": "markdown",
   "id": "509c47b2-f875-4df6-b94a-3464969b911c",
   "metadata": {},
   "source": [
    "- Now we encode in bytes"
   ]
  },
  {
   "cell_type": "code",
   "execution_count": 29,
   "id": "39dddc84-582e-48cf-a07c-1ea5c259cec6",
   "metadata": {},
   "outputs": [
    {
     "data": {
      "text/plain": [
       "b'\\xe3\\x82\\xb5\\xe3\\x82\\xa4\\xe3\\x83\\x88\\xe3\\x83\\x9e\\xe3\\x83\\x83\\xe3\\x83\\x97'"
      ]
     },
     "execution_count": 29,
     "metadata": {},
     "output_type": "execute_result"
    }
   ],
   "source": [
    "kana_utf8 = bytes(smap, encoding='utf-8')\n",
    "kana_utf8"
   ]
  },
  {
   "cell_type": "markdown",
   "id": "ef61f064-c447-4087-96d3-303a89c9a157",
   "metadata": {},
   "source": [
    "- All katakana letters have been encoded as three-byte codes, beginning with `\\xe3`\n",
    "- Decoding this as, e.g., latin-1 gives nothing sensible"
   ]
  },
  {
   "cell_type": "code",
   "execution_count": 30,
   "id": "6b4cf382-8bab-4256-9596-862fb53d1a26",
   "metadata": {},
   "outputs": [
    {
     "data": {
      "text/plain": [
       "'ã\\x82µã\\x82¤ã\\x83\\x88ã\\x83\\x9eã\\x83\\x83ã\\x83\\x97'"
      ]
     },
     "execution_count": 30,
     "metadata": {},
     "output_type": "execute_result"
    }
   ],
   "source": [
    "kana_utf8.decode('latin-1')"
   ]
  },
  {
   "cell_type": "markdown",
   "id": "8e8d7b5e-aa1d-4f36-8688-21f5701ed085",
   "metadata": {},
   "source": [
    "### Reading text files with different encodings\n",
    "\n",
    "- `open()` opens files in text mode with some encoding\n",
    "- The default encoding is system dependent: UTF-8 on macOS/Linux, `cp1252` on (western?) Windows systems\n",
    "- If reading a file gives strange results, try a different encoding\n",
    "    - Finding the right encoding may require some experimentation\n",
    "    - Always try UTF-8\n",
    "    - If files are of Western European or North-American origin, `latin-1` and `cp1252` are good candidates (they are almost identical)\n",
    "\n",
    "#### Reading with default encoding\n",
    "\n",
    "- The next two cells open a file with the same content, but two different encodings.\n",
    "- We do not specify the encoding explicity.\n",
    "- `open()` then uses a system-dependent default encoding\n",
    "- This leads to the following results\n",
    "    - The first cell will display the text correctly on macOS/Linux and looks strange under Windows\n",
    "    - The second cell will look fine under Windows and fail under macOS/Linux"
   ]
  },
  {
   "cell_type": "code",
   "execution_count": 31,
   "id": "7ab374b2-f0b6-4664-8675-e4064e974c96",
   "metadata": {},
   "outputs": [
    {
     "data": {
      "text/plain": [
       "'Vi er på Ås, et særdeles fint sted i Østnorge.'"
      ]
     },
     "execution_count": 31,
     "metadata": {},
     "output_type": "execute_result"
    }
   ],
   "source": [
    "open('testfile_utf8.txt').read()"
   ]
  },
  {
   "cell_type": "code",
   "execution_count": 32,
   "id": "0ef454e4-6a35-45c3-89ac-51eb04bb3e7a",
   "metadata": {},
   "outputs": [
    {
     "ename": "UnicodeDecodeError",
     "evalue": "'utf-8' codec can't decode byte 0xe5 in position 7: invalid continuation byte",
     "output_type": "error",
     "traceback": [
      "\u001b[0;31m---------------------------------------------------------------------------\u001b[0m",
      "\u001b[0;31mUnicodeDecodeError\u001b[0m                        Traceback (most recent call last)",
      "\u001b[0;32m/var/folders/j5/971zg6qd58n070p_ds781hzm0000gn/T/ipykernel_63972/2185216198.py\u001b[0m in \u001b[0;36m<module>\u001b[0;34m\u001b[0m\n\u001b[0;32m----> 1\u001b[0;31m \u001b[0mopen\u001b[0m\u001b[0;34m(\u001b[0m\u001b[0;34m'testfile_latin1.txt'\u001b[0m\u001b[0;34m)\u001b[0m\u001b[0;34m.\u001b[0m\u001b[0mread\u001b[0m\u001b[0;34m(\u001b[0m\u001b[0;34m)\u001b[0m\u001b[0;34m\u001b[0m\u001b[0;34m\u001b[0m\u001b[0m\n\u001b[0m",
      "\u001b[0;32m~/opt/miniconda3/envs/inf200/lib/python3.8/codecs.py\u001b[0m in \u001b[0;36mdecode\u001b[0;34m(self, input, final)\u001b[0m\n\u001b[1;32m    320\u001b[0m         \u001b[0;31m# decode input (taking the buffer into account)\u001b[0m\u001b[0;34m\u001b[0m\u001b[0;34m\u001b[0m\u001b[0;34m\u001b[0m\u001b[0m\n\u001b[1;32m    321\u001b[0m         \u001b[0mdata\u001b[0m \u001b[0;34m=\u001b[0m \u001b[0mself\u001b[0m\u001b[0;34m.\u001b[0m\u001b[0mbuffer\u001b[0m \u001b[0;34m+\u001b[0m \u001b[0minput\u001b[0m\u001b[0;34m\u001b[0m\u001b[0;34m\u001b[0m\u001b[0m\n\u001b[0;32m--> 322\u001b[0;31m         \u001b[0;34m(\u001b[0m\u001b[0mresult\u001b[0m\u001b[0;34m,\u001b[0m \u001b[0mconsumed\u001b[0m\u001b[0;34m)\u001b[0m \u001b[0;34m=\u001b[0m \u001b[0mself\u001b[0m\u001b[0;34m.\u001b[0m\u001b[0m_buffer_decode\u001b[0m\u001b[0;34m(\u001b[0m\u001b[0mdata\u001b[0m\u001b[0;34m,\u001b[0m \u001b[0mself\u001b[0m\u001b[0;34m.\u001b[0m\u001b[0merrors\u001b[0m\u001b[0;34m,\u001b[0m \u001b[0mfinal\u001b[0m\u001b[0;34m)\u001b[0m\u001b[0;34m\u001b[0m\u001b[0;34m\u001b[0m\u001b[0m\n\u001b[0m\u001b[1;32m    323\u001b[0m         \u001b[0;31m# keep undecoded input until the next call\u001b[0m\u001b[0;34m\u001b[0m\u001b[0;34m\u001b[0m\u001b[0;34m\u001b[0m\u001b[0m\n\u001b[1;32m    324\u001b[0m         \u001b[0mself\u001b[0m\u001b[0;34m.\u001b[0m\u001b[0mbuffer\u001b[0m \u001b[0;34m=\u001b[0m \u001b[0mdata\u001b[0m\u001b[0;34m[\u001b[0m\u001b[0mconsumed\u001b[0m\u001b[0;34m:\u001b[0m\u001b[0;34m]\u001b[0m\u001b[0;34m\u001b[0m\u001b[0;34m\u001b[0m\u001b[0m\n",
      "\u001b[0;31mUnicodeDecodeError\u001b[0m: 'utf-8' codec can't decode byte 0xe5 in position 7: invalid continuation byte"
     ]
    }
   ],
   "source": [
    "open('testfile_latin1.txt').read()"
   ]
  },
  {
   "cell_type": "markdown",
   "id": "a71b9553-c866-4048-8998-59e3b36da73c",
   "metadata": {},
   "source": [
    "#### Reading with explicit encoding\n",
    "\n",
    "- We can specify the encoding explicitly.\n",
    "- Then, both file will be read correctly under Windows and macOS/Linux."
   ]
  },
  {
   "cell_type": "code",
   "execution_count": 33,
   "id": "11ab889c-4e9c-4ea1-a2bb-b42c5883185b",
   "metadata": {},
   "outputs": [
    {
     "data": {
      "text/plain": [
       "'Vi er på Ås, et særdeles fint sted i Østnorge.'"
      ]
     },
     "execution_count": 33,
     "metadata": {},
     "output_type": "execute_result"
    }
   ],
   "source": [
    "open('testfile_utf8.txt', encoding='utf-8').read()"
   ]
  },
  {
   "cell_type": "code",
   "execution_count": 34,
   "id": "7b2062d1-fd53-4f77-a2f4-a1f850335961",
   "metadata": {},
   "outputs": [
    {
     "data": {
      "text/plain": [
       "'Vi er på Ås, et særdeles fint sted i Østnorge.'"
      ]
     },
     "execution_count": 34,
     "metadata": {},
     "output_type": "execute_result"
    }
   ],
   "source": [
    "open('testfile_latin1.txt', encoding='latin-1').read()"
   ]
  },
  {
   "cell_type": "markdown",
   "id": "1a23fdb4-6b8b-45db-9356-2f0158faeb7d",
   "metadata": {},
   "source": [
    "### Python goodie: How to re-encode a file on a single line\n",
    "\n",
    "- If you try to open the data file `weather_umb_2012.csv` as a textfile in Jupyter Lab (double-click on it), you get an error message saying that the file is not in UTF-8.\n",
    "- How can we fix this?\n",
    "    1. Find out which encoding the file has and read using that encoding. \n",
    "        - May require experimentation, but `latin-1` is a good guess.\n",
    "    2. Write the file content to a new file with `utf-8` encoding.\n",
    "        - Need to open destination file in write mode with letter `'w'`.\n",
    "        - NB: This will overwrite an existing file with the same name.\n",
    "        - Then just `write()` the file contents.\n",
    "        \n",
    "#### Step-by-step solution"
   ]
  },
  {
   "cell_type": "code",
   "execution_count": 35,
   "id": "4cfba495-0e9b-41d6-bbb1-d8deeb633a28",
   "metadata": {},
   "outputs": [],
   "source": [
    "with open('weather_umb_2012.csv', encoding='latin-1') as infile:\n",
    "    weather_data = infile.read()\n",
    "    \n",
    "with open('weather_umb_2012_utf8.csv', 'w', encoding='utf-8') as outfile:\n",
    "    outfile.write(weather_data)"
   ]
  },
  {
   "cell_type": "markdown",
   "id": "4748eca6-b50e-4c08-8708-23222eb64ff7",
   "metadata": {},
   "source": [
    "#### One-line solution"
   ]
  },
  {
   "cell_type": "code",
   "execution_count": 36,
   "id": "948f1fb3-8506-43e1-ab83-4e9f603cdb95",
   "metadata": {},
   "outputs": [
    {
     "data": {
      "text/plain": [
       "13044"
      ]
     },
     "execution_count": 36,
     "metadata": {},
     "output_type": "execute_result"
    }
   ],
   "source": [
    "open('weather_umb_2012_utf8.csv', 'w', encoding='utf-8').write(\n",
    "                                         open('weather_umb_2012.csv', encoding='latin-1').read())"
   ]
  },
  {
   "cell_type": "markdown",
   "id": "23bc22ba-f29c-4e15-89cf-8b22436edfb6",
   "metadata": {},
   "source": [
    "- In this case we get the number of bytes written as result. \n",
    "- Above, it is not displayed because we `write()` inside a `with` block."
   ]
  },
  {
   "cell_type": "markdown",
   "id": "51fcb321-f196-47fb-8cf9-88dc247ce9ab",
   "metadata": {},
   "source": [
    "#### Could we write back to the same file?\n",
    "\n",
    "- Above, we created a new file with the UTF-8 encoded data.\n",
    "- Could we write to a file with the same name to replace the Latin-1 encoded file with the UTF-8 encoded file?\n",
    "- Opening with mode `w` deletes existing file of given name\n",
    "- Step-by-step solution\n",
    "    - Yes\n",
    "    - Minimal chance of data loss if computer crashes between reading and writing\n",
    "- One-line solution\n",
    "    - **Not safe!**\n",
    "    - Two `open()` in one statement, order of opening is implementation dependent.\n",
    "- Safe solution if we want to replace a file with a re-coded version\n",
    "    1. Rename original file to a temporary name.\n",
    "    2. Write re-encoded file to original file name.\n",
    "    3. Delete original file."
   ]
  },
  {
   "cell_type": "markdown",
   "id": "f7815dbf-684a-4f9d-9084-33e8ff093494",
   "metadata": {},
   "source": [
    "### How can we learn more about `open()`?\n",
    "\n",
    "- Online documentation\n",
    "    - https://docs.python.org/3/library/functions.html\n",
    "    - https://docs.python.org/3/library/functions.html#open\n",
    "- Documentation is accessible right in the notebook!"
   ]
  },
  {
   "cell_type": "code",
   "execution_count": 37,
   "id": "45eb6eeb-fd2e-4d66-bda8-ed89eb47887b",
   "metadata": {},
   "outputs": [
    {
     "data": {
      "text/plain": [
       "\u001b[0;31mSignature:\u001b[0m\n",
       "\u001b[0mopen\u001b[0m\u001b[0;34m(\u001b[0m\u001b[0;34m\u001b[0m\n",
       "\u001b[0;34m\u001b[0m    \u001b[0mfile\u001b[0m\u001b[0;34m,\u001b[0m\u001b[0;34m\u001b[0m\n",
       "\u001b[0;34m\u001b[0m    \u001b[0mmode\u001b[0m\u001b[0;34m=\u001b[0m\u001b[0;34m'r'\u001b[0m\u001b[0;34m,\u001b[0m\u001b[0;34m\u001b[0m\n",
       "\u001b[0;34m\u001b[0m    \u001b[0mbuffering\u001b[0m\u001b[0;34m=\u001b[0m\u001b[0;34m-\u001b[0m\u001b[0;36m1\u001b[0m\u001b[0;34m,\u001b[0m\u001b[0;34m\u001b[0m\n",
       "\u001b[0;34m\u001b[0m    \u001b[0mencoding\u001b[0m\u001b[0;34m=\u001b[0m\u001b[0;32mNone\u001b[0m\u001b[0;34m,\u001b[0m\u001b[0;34m\u001b[0m\n",
       "\u001b[0;34m\u001b[0m    \u001b[0merrors\u001b[0m\u001b[0;34m=\u001b[0m\u001b[0;32mNone\u001b[0m\u001b[0;34m,\u001b[0m\u001b[0;34m\u001b[0m\n",
       "\u001b[0;34m\u001b[0m    \u001b[0mnewline\u001b[0m\u001b[0;34m=\u001b[0m\u001b[0;32mNone\u001b[0m\u001b[0;34m,\u001b[0m\u001b[0;34m\u001b[0m\n",
       "\u001b[0;34m\u001b[0m    \u001b[0mclosefd\u001b[0m\u001b[0;34m=\u001b[0m\u001b[0;32mTrue\u001b[0m\u001b[0;34m,\u001b[0m\u001b[0;34m\u001b[0m\n",
       "\u001b[0;34m\u001b[0m    \u001b[0mopener\u001b[0m\u001b[0;34m=\u001b[0m\u001b[0;32mNone\u001b[0m\u001b[0;34m,\u001b[0m\u001b[0;34m\u001b[0m\n",
       "\u001b[0;34m\u001b[0m\u001b[0;34m)\u001b[0m\u001b[0;34m\u001b[0m\u001b[0;34m\u001b[0m\u001b[0m\n",
       "\u001b[0;31mDocstring:\u001b[0m\n",
       "Open file and return a stream.  Raise OSError upon failure.\n",
       "\n",
       "file is either a text or byte string giving the name (and the path\n",
       "if the file isn't in the current working directory) of the file to\n",
       "be opened or an integer file descriptor of the file to be\n",
       "wrapped. (If a file descriptor is given, it is closed when the\n",
       "returned I/O object is closed, unless closefd is set to False.)\n",
       "\n",
       "mode is an optional string that specifies the mode in which the file\n",
       "is opened. It defaults to 'r' which means open for reading in text\n",
       "mode.  Other common values are 'w' for writing (truncating the file if\n",
       "it already exists), 'x' for creating and writing to a new file, and\n",
       "'a' for appending (which on some Unix systems, means that all writes\n",
       "append to the end of the file regardless of the current seek position).\n",
       "In text mode, if encoding is not specified the encoding used is platform\n",
       "dependent: locale.getpreferredencoding(False) is called to get the\n",
       "current locale encoding. (For reading and writing raw bytes use binary\n",
       "mode and leave encoding unspecified.) The available modes are:\n",
       "\n",
       "========= ===============================================================\n",
       "Character Meaning\n",
       "--------- ---------------------------------------------------------------\n",
       "'r'       open for reading (default)\n",
       "'w'       open for writing, truncating the file first\n",
       "'x'       create a new file and open it for writing\n",
       "'a'       open for writing, appending to the end of the file if it exists\n",
       "'b'       binary mode\n",
       "'t'       text mode (default)\n",
       "'+'       open a disk file for updating (reading and writing)\n",
       "'U'       universal newline mode (deprecated)\n",
       "========= ===============================================================\n",
       "\n",
       "The default mode is 'rt' (open for reading text). For binary random\n",
       "access, the mode 'w+b' opens and truncates the file to 0 bytes, while\n",
       "'r+b' opens the file without truncation. The 'x' mode implies 'w' and\n",
       "raises an `FileExistsError` if the file already exists.\n",
       "\n",
       "Python distinguishes between files opened in binary and text modes,\n",
       "even when the underlying operating system doesn't. Files opened in\n",
       "binary mode (appending 'b' to the mode argument) return contents as\n",
       "bytes objects without any decoding. In text mode (the default, or when\n",
       "'t' is appended to the mode argument), the contents of the file are\n",
       "returned as strings, the bytes having been first decoded using a\n",
       "platform-dependent encoding or using the specified encoding if given.\n",
       "\n",
       "'U' mode is deprecated and will raise an exception in future versions\n",
       "of Python.  It has no effect in Python 3.  Use newline to control\n",
       "universal newlines mode.\n",
       "\n",
       "buffering is an optional integer used to set the buffering policy.\n",
       "Pass 0 to switch buffering off (only allowed in binary mode), 1 to select\n",
       "line buffering (only usable in text mode), and an integer > 1 to indicate\n",
       "the size of a fixed-size chunk buffer.  When no buffering argument is\n",
       "given, the default buffering policy works as follows:\n",
       "\n",
       "* Binary files are buffered in fixed-size chunks; the size of the buffer\n",
       "  is chosen using a heuristic trying to determine the underlying device's\n",
       "  \"block size\" and falling back on `io.DEFAULT_BUFFER_SIZE`.\n",
       "  On many systems, the buffer will typically be 4096 or 8192 bytes long.\n",
       "\n",
       "* \"Interactive\" text files (files for which isatty() returns True)\n",
       "  use line buffering.  Other text files use the policy described above\n",
       "  for binary files.\n",
       "\n",
       "encoding is the name of the encoding used to decode or encode the\n",
       "file. This should only be used in text mode. The default encoding is\n",
       "platform dependent, but any encoding supported by Python can be\n",
       "passed.  See the codecs module for the list of supported encodings.\n",
       "\n",
       "errors is an optional string that specifies how encoding errors are to\n",
       "be handled---this argument should not be used in binary mode. Pass\n",
       "'strict' to raise a ValueError exception if there is an encoding error\n",
       "(the default of None has the same effect), or pass 'ignore' to ignore\n",
       "errors. (Note that ignoring encoding errors can lead to data loss.)\n",
       "See the documentation for codecs.register or run 'help(codecs.Codec)'\n",
       "for a list of the permitted encoding error strings.\n",
       "\n",
       "newline controls how universal newlines works (it only applies to text\n",
       "mode). It can be None, '', '\\n', '\\r', and '\\r\\n'.  It works as\n",
       "follows:\n",
       "\n",
       "* On input, if newline is None, universal newlines mode is\n",
       "  enabled. Lines in the input can end in '\\n', '\\r', or '\\r\\n', and\n",
       "  these are translated into '\\n' before being returned to the\n",
       "  caller. If it is '', universal newline mode is enabled, but line\n",
       "  endings are returned to the caller untranslated. If it has any of\n",
       "  the other legal values, input lines are only terminated by the given\n",
       "  string, and the line ending is returned to the caller untranslated.\n",
       "\n",
       "* On output, if newline is None, any '\\n' characters written are\n",
       "  translated to the system default line separator, os.linesep. If\n",
       "  newline is '' or '\\n', no translation takes place. If newline is any\n",
       "  of the other legal values, any '\\n' characters written are translated\n",
       "  to the given string.\n",
       "\n",
       "If closefd is False, the underlying file descriptor will be kept open\n",
       "when the file is closed. This does not work when a file name is given\n",
       "and must be True in that case.\n",
       "\n",
       "A custom opener can be used by passing a callable as *opener*. The\n",
       "underlying file descriptor for the file object is then obtained by\n",
       "calling *opener* with (*file*, *flags*). *opener* must return an open\n",
       "file descriptor (passing os.open as *opener* results in functionality\n",
       "similar to passing None).\n",
       "\n",
       "open() returns a file object whose type depends on the mode, and\n",
       "through which the standard file operations such as reading and writing\n",
       "are performed. When open() is used to open a file in a text mode ('w',\n",
       "'r', 'wt', 'rt', etc.), it returns a TextIOWrapper. When used to open\n",
       "a file in a binary mode, the returned class varies: in read binary\n",
       "mode, it returns a BufferedReader; in write binary and append binary\n",
       "modes, it returns a BufferedWriter, and in read/write mode, it returns\n",
       "a BufferedRandom.\n",
       "\n",
       "It is also possible to use a string or bytearray as a file for both\n",
       "reading and writing. For strings StringIO can be used like a file\n",
       "opened in a text mode, and for bytes a BytesIO can be used like a file\n",
       "opened in a binary mode.\n",
       "\u001b[0;31mType:\u001b[0m      builtin_function_or_method\n"
      ]
     },
     "metadata": {},
     "output_type": "display_data"
    }
   ],
   "source": [
    "open?"
   ]
  },
  {
   "cell_type": "markdown",
   "id": "0c2ad33f-edf2-4bdd-b7d6-97c61ed097aa",
   "metadata": {},
   "source": [
    "----------\n",
    "\n",
    "# Parsing strings\n",
    "\n",
    "- Parsing is the process of breaking down a text into parts according to grammar rules.\n",
    "- It is an important topic in computer science: computer programs need to be parsed before they can be executed.\n",
    "- For some more backgrond, see Wikipedia: https://en.wikipedia.org/wiki/Parsing.\n",
    "- We will stick to very simple \"grammars\" for text files containing data\n",
    "    - Each line is one data entry or *record*\n",
    "    - Parts of each line are separated by a given character, e.g., comma or semicolon\n",
    "    - The kind of data in each part (each column) is pre-defined, e.g., a date, a name or and number\n",
    "    \n",
    "## General approach\n",
    "\n",
    "1. Read one line at a time\n",
    "2. Split line into parts on the separator symbol\n",
    "    - Each part is one *token*\n",
    "3. Convert tokens to proper data type and collect in a suitable data structure\n",
    "4. Collect all records in a suitable data structure\n",
    "\n",
    "### First example\n",
    "\n",
    "Consider the following file:\n",
    "\n",
    "```\n",
    "Name;Age;Phone number\n",
    "Per;24;12345678\n",
    "Kari;23;23456789\n",
    "```\n",
    "\n",
    "- What is the separator symbol?\n",
    "- What are the data types for each column?\n",
    "- Do we need to handle any line specially?\n",
    "- How should we process each token?\n",
    "- Which data structure should we use for\n",
    "    - each token?\n",
    "    - the entire collection?\n",
    "    \n",
    "#### Implementation (in class)\n",
    "\n",
    "- The following code works for a file without header line"
   ]
  },
  {
   "cell_type": "code",
   "execution_count": 38,
   "id": "6f1a322f-9345-44ff-b196-382ddae4ab20",
   "metadata": {},
   "outputs": [],
   "source": [
    "students = {}\n",
    "with open('students.txt', encoding='utf-8') as sfile:\n",
    "    for line in sfile:\n",
    "        name, age, phone = line.rstrip('\\n').split(';')\n",
    "        students[name] = {'Age': int(age), 'Phone': phone}"
   ]
  },
  {
   "cell_type": "code",
   "execution_count": 39,
   "id": "29026798-64e2-4f3a-ae13-02751daa8097",
   "metadata": {},
   "outputs": [
    {
     "data": {
      "text/plain": [
       "{'Per': {'Age': 24, 'Phone': '12345678'},\n",
       " 'Kari': {'Age': 23, 'Phone': '23456789'}}"
      ]
     },
     "execution_count": 39,
     "metadata": {},
     "output_type": "execute_result"
    }
   ],
   "source": [
    "students"
   ]
  },
  {
   "cell_type": "markdown",
   "id": "607f9886-136d-4f34-9e1b-ffebc74e3796",
   "metadata": {},
   "source": [
    "- The code clearly works\n",
    "- Age is stored as integer, phone number as string\n",
    "- Name is \"privileged\", since it is handled as key\n",
    "- We needed to add field title for Age and Phone\n",
    "\n",
    "#### Alternative solution using the header line\n",
    "\n",
    "- Our first solution ignored the information in the header line\n",
    "- We want to include it now, so we need to provide less information in our code\n",
    "- We also want to treat all three fields (name, age, phone) on the same footing"
   ]
  },
  {
   "cell_type": "code",
   "execution_count": 40,
   "id": "ec97948b-0890-4dbf-958d-325d05471321",
   "metadata": {},
   "outputs": [
    {
     "name": "stdout",
     "output_type": "stream",
     "text": [
      "[{'Name': 'Per', 'Age': 24, 'Phone number': '12345678'}, {'Name': 'Kari', 'Age': 23, 'Phone number': '23456789'}]\n"
     ]
    }
   ],
   "source": [
    "students = []\n",
    "with open('students_with_header.txt', encoding='utf-8') as sfile:\n",
    "    header = sfile.readline().rstrip('\\n').split(';')\n",
    "    for line in sfile:\n",
    "        data = line.rstrip('\\n').split(';')\n",
    "        students.append({header[0]: data[0], header[1]: int(data[1]), header[2]: data[2]})\n",
    "        \n",
    "print(students)"
   ]
  },
  {
   "cell_type": "markdown",
   "id": "587b258f-1268-4b91-a664-4432de1b7e87",
   "metadata": {},
   "source": [
    "- Field names have now beend taken from the header line\n",
    "- The solution is still a bit unelegant, since we need to build the dictionary \"manually\" to handle the conversion of age to integer.\n",
    "- We will see more elegant solutions for this problem later."
   ]
  },
  {
   "cell_type": "markdown",
   "id": "4dd8c910-ac7b-41bb-997c-cd6e5a55b9cb",
   "metadata": {},
   "source": [
    "### A more challenging example\n",
    "\n",
    "```\n",
    "Name;Age;Phone number;Birthday\n",
    "Per;24;12345678;23.08.1997\n",
    "Kari;23;23456789;12.12.1997\n",
    "Ole;;23456789;\n",
    "```\n",
    "\n",
    "- How can we read this and then store day, month and year of birth separately?\n",
    "- How can we handle missing data?\n",
    "\n",
    "#### Implementation (in class)\n",
    "\n",
    "- We build on the same code as above; in this case, we read and ignore the header line\n",
    "- We need to handle the birthday separately, splitting into day, month, year\n",
    "- If name of phone are missing, we just store empty strings.\n",
    "- We mark missing age with `-1` and missing birthday information with `None`"
   ]
  },
  {
   "cell_type": "code",
   "execution_count": 41,
   "id": "67c509db-1bfa-4ffe-8fdf-9e997b017e0b",
   "metadata": {},
   "outputs": [
    {
     "name": "stdout",
     "output_type": "stream",
     "text": [
      "{'Name': 'Per', 'Age': 24, 'Phone number': '12345678', 'birth_day': 23, 'birth_month': 8, 'birth_year': 1997}\n",
      "{'Name': 'Kari', 'Age': 23, 'Phone number': '23456789', 'birth_day': 12, 'birth_month': 12, 'birth_year': 1997}\n",
      "{'Name': 'Ole', 'Age': -1, 'Phone number': '23456789', 'birth_day': None, 'birth_month': None, 'birth_year': None}\n"
     ]
    }
   ],
   "source": [
    "students = []\n",
    "with open('students_with_birthday.txt', encoding='utf-8') as sfile:\n",
    "    sfile.readline() # read and ignore header\n",
    "    for line in sfile:\n",
    "        name, age, phone, bday = line.rstrip('\\n').split(';')\n",
    "        student = {'Name': name, \n",
    "                   'Age': int(age) if age else -1,\n",
    "                   'Phone number': phone}\n",
    "        bday_parts = bday.split('.')\n",
    "        if len(bday_parts) == 3:\n",
    "            student['birth_day'] = int(bday_parts[0])\n",
    "            student['birth_month'] = int(bday_parts[1])\n",
    "            student['birth_year'] = int(bday_parts[2])\n",
    "        else:\n",
    "            student['birth_day'] = None\n",
    "            student['birth_month'] = None\n",
    "            student['birth_year'] = None\n",
    "        students.append(student)\n",
    "        \n",
    "for s in students:\n",
    "    print(s)"
   ]
  },
  {
   "cell_type": "markdown",
   "id": "0b7612d6-d243-443a-8bec-51959aca9363",
   "metadata": {},
   "source": [
    "#### Note on CSV files\n",
    "\n",
    "- In a CSV file, there should be *no spaces* around the separator sign!\n",
    "\n",
    "### Real-life example\n",
    "\n",
    "- Read data from `weather_umb_2012.csv`.\n",
    "- Choose good names for the different data fields.\n",
    "- Re-write the dates to YYYY-MM-DD format.\n",
    "- Task 2 during next week's exercises."
   ]
  },
  {
   "cell_type": "markdown",
   "id": "3d936aab-63ad-4105-b958-2498087d5fb6",
   "metadata": {},
   "source": [
    "----\n",
    "\n",
    "# Reading some widely used formats: CSV, Excel, JSON, YAML\n",
    "\n",
    "- A very large part of data available comes in a few standard formats\n",
    "    - CSV: comma-separated value, common text files (can also be semicolon, space, tab separated)\n",
    "    - Excel spreadsheets (xls, xlsx; also ods from OpenOffice/LibreOffice)\n",
    "        - Note: xlsx is technically a Zip archive of XML files\n",
    "    - JSON: [JavaScript Object Notation](https://en.wikipedia.org/wiki/JSON) is used much for data exchange between client and server applications; Jupyter Notebooks are JSON files. It looks a lot like Python lists and dictionaries.\n",
    "        - The complete JSON grammar is described here: https://www.json.org/json-en.html\n",
    "    - YAML: [YAML ain't Markup Language](https://en.wikipedia.org/wiki/YAML) is used much for configuration files, but can be used to store data in general. It has a similar indented block structure as Python code and is maybe the most human-readable format (certainly the most human-writable).\n",
    "        - See also https://yaml.org/spec/1.2.1 and https://pyyaml.org/wiki/PyYAMLDocumentation\n",
    "    - XML: [Extensible Markup Language](https://en.wikipedia.org/wiki/XML) has been around for a long time and is very powerful, but also verbose and complex and used less in data science contexts today; it is related to HTML. We will not look at reading it here.\n",
    "- These formats can also be used to store data\n",
    "- This is often called *serialization*, because data is written to file, one byte after the next\n",
    "- For storing data from a Python program to be used just by the same or other Python programs later, use `pickle` (later)\n",
    "- Loading data from expressive formats such as JSON, YAML and XML is potentially **dangerous**, because attackers may embed malicious code in such files\n",
    "    - Be suspicious of files from third parties\n",
    "    - Load them in safe ways where possible"
   ]
  },
  {
   "cell_type": "markdown",
   "id": "7f0b8439-a2d3-43f2-96ef-ef011806ff7f",
   "metadata": {},
   "source": [
    "## Additional Python package required\n",
    "\n",
    "To run the YAML examples below, you need to install `pyyaml` as follows, before starting Jupyter Lab:\n",
    "\n",
    "1. Open Terminal or Anaconda Power Shell\n",
    "1. `conda activate inf200`\n",
    "1. `conda install pyyaml`"
   ]
  },
  {
   "cell_type": "markdown",
   "id": "9a328c17-8472-45c6-80d7-4c9274bdadbf",
   "metadata": {},
   "source": [
    "## Writing a JSON and YAML file\n",
    "\n",
    "We will use the same data we had in the CVS files above:"
   ]
  },
  {
   "cell_type": "code",
   "execution_count": 42,
   "id": "a61a930c-d230-44d5-acf6-d60515b93f00",
   "metadata": {},
   "outputs": [],
   "source": [
    "students = [{'Name': 'Per', 'Age': 24, 'Phone number': '12345678'},\n",
    "            {'Name': 'Kari', 'Age': 23, 'Phone number': '23456789'}]"
   ]
  },
  {
   "cell_type": "code",
   "execution_count": 43,
   "id": "8cd1ba07-34cd-446a-aa1e-7bcc1ccd6c26",
   "metadata": {},
   "outputs": [],
   "source": [
    "import json\n",
    "import yaml"
   ]
  },
  {
   "cell_type": "markdown",
   "id": "aefab8e0-a4b4-40fd-876e-f4261ea41753",
   "metadata": {},
   "source": [
    "#### Write to JSON"
   ]
  },
  {
   "cell_type": "code",
   "execution_count": 44,
   "id": "dad894e7-d44a-4c4e-a612-71d8dcce956b",
   "metadata": {},
   "outputs": [],
   "source": [
    "with open('students.json', 'w') as jfile:\n",
    "    json.dump(students, jfile)"
   ]
  },
  {
   "cell_type": "markdown",
   "id": "cc83b9d4-275a-4041-acb6-606df005075d",
   "metadata": {},
   "source": [
    "#### Print JSON file content"
   ]
  },
  {
   "cell_type": "code",
   "execution_count": 45,
   "id": "5cd5ccc1-eb8e-4c24-927b-de23b02bc7d2",
   "metadata": {},
   "outputs": [
    {
     "name": "stdout",
     "output_type": "stream",
     "text": [
      "[{\"Name\": \"Per\", \"Age\": 24, \"Phone number\": \"12345678\"}, {\"Name\": \"Kari\", \"Age\": 23, \"Phone number\": \"23456789\"}]\n"
     ]
    }
   ],
   "source": [
    "print(open('students.json').read())"
   ]
  },
  {
   "cell_type": "markdown",
   "id": "2e4fb47f-164e-499c-9b22-4236c7a1a702",
   "metadata": {},
   "source": [
    "- The format is almost identical to Python code.\n",
    "- For more complex data, there are small differences.\n",
    "\n",
    "#### Write to YAML\n",
    "\n",
    "- Instead of using the `with`-context, open the output file \"on the fly\""
   ]
  },
  {
   "cell_type": "code",
   "execution_count": 46,
   "id": "09c350ca-aee8-424b-a0cf-1db660b4de2f",
   "metadata": {},
   "outputs": [],
   "source": [
    "yaml.dump(students, open('students.yml', 'w'))"
   ]
  },
  {
   "cell_type": "markdown",
   "id": "cdd78ab8-fb3a-47d6-af87-0e28a224a987",
   "metadata": {},
   "source": [
    "#### Print YAML file content"
   ]
  },
  {
   "cell_type": "code",
   "execution_count": 47,
   "id": "067d9458-8a60-440d-8258-3e427d9bc7b7",
   "metadata": {},
   "outputs": [
    {
     "name": "stdout",
     "output_type": "stream",
     "text": [
      "- Age: 24\n",
      "  Name: Per\n",
      "  Phone number: '12345678'\n",
      "- Age: 23\n",
      "  Name: Kari\n",
      "  Phone number: '23456789'\n",
      "\n"
     ]
    }
   ],
   "source": [
    "print(open('students.yml').read())"
   ]
  },
  {
   "cell_type": "markdown",
   "id": "cc8b8cb6-8ffe-4aad-9d27-30399998c3ba",
   "metadata": {},
   "source": [
    "- Note the hierarchical structure\n",
    "- Each entry is introduce by a `-`, the remainder indented\n",
    "- Clearer to read than JSON"
   ]
  },
  {
   "cell_type": "markdown",
   "id": "9165e344-9775-41de-856d-6a0af7dee35e",
   "metadata": {},
   "source": [
    "### XML for comparison\n",
    "\n",
    "- XML needs a lot more \"wrapping\" to present the same data\n",
    "\n",
    "```xml\n",
    "<?xml version=\"1.0\" encoding=\"UTF-8\" ?>\n",
    "<root>\n",
    "  <row>\n",
    "    <Name>Per</Name>\n",
    "    <Age>24</Age>\n",
    "    <Phone_number>12345678</Phone_number>\n",
    "  </row>\n",
    "  <row>\n",
    "    <Name>Kari</Name>\n",
    "    <Age>23</Age>\n",
    "    <Phone_number>2345678</Phone_number>\n",
    "  </row>\n",
    "</root>\n",
    "```"
   ]
  },
  {
   "cell_type": "markdown",
   "id": "0a75819b-dea6-427e-9f0b-f065ee826523",
   "metadata": {},
   "source": [
    "## Reading the files again\n",
    "\n",
    "- Also known as *deserialising*"
   ]
  },
  {
   "cell_type": "code",
   "execution_count": 48,
   "id": "95943ee3-df0f-4fea-ab37-6bf73227f222",
   "metadata": {},
   "outputs": [
    {
     "name": "stdout",
     "output_type": "stream",
     "text": [
      "[{'Name': 'Per', 'Age': 24, 'Phone number': '12345678'}, {'Name': 'Kari', 'Age': 23, 'Phone number': '23456789'}]\n"
     ]
    }
   ],
   "source": [
    "students_from_json = json.load(open('students.json'))\n",
    "print(students_from_json)"
   ]
  },
  {
   "cell_type": "code",
   "execution_count": 49,
   "id": "698b28ef-e0e2-4952-99c9-b5a119a8afd3",
   "metadata": {},
   "outputs": [
    {
     "name": "stdout",
     "output_type": "stream",
     "text": [
      "[{'Age': 24, 'Name': 'Per', 'Phone number': '12345678'}, {'Age': 23, 'Name': 'Kari', 'Phone number': '23456789'}]\n"
     ]
    }
   ],
   "source": [
    "students_from_yaml = yaml.safe_load(open('students.yml'))\n",
    "print(students_from_yaml)"
   ]
  },
  {
   "cell_type": "markdown",
   "id": "532d05ed-55e4-4ccb-804c-828ed6fa69e2",
   "metadata": {},
   "source": [
    "##### Check that we got the same data back"
   ]
  },
  {
   "cell_type": "code",
   "execution_count": 50,
   "id": "313139a4-4bab-402c-8864-b62ea4f463b4",
   "metadata": {},
   "outputs": [
    {
     "data": {
      "text/plain": [
       "True"
      ]
     },
     "execution_count": 50,
     "metadata": {},
     "output_type": "execute_result"
    }
   ],
   "source": [
    "students_from_yaml == students_from_json == students"
   ]
  },
  {
   "cell_type": "code",
   "execution_count": 51,
   "id": "f968159d-7516-4067-92f4-ef09ed3c6c42",
   "metadata": {},
   "outputs": [
    {
     "data": {
      "text/plain": [
       "\u001b[0;31mSignature:\u001b[0m \u001b[0myaml\u001b[0m\u001b[0;34m.\u001b[0m\u001b[0msafe_load\u001b[0m\u001b[0;34m(\u001b[0m\u001b[0mstream\u001b[0m\u001b[0;34m)\u001b[0m\u001b[0;34m\u001b[0m\u001b[0;34m\u001b[0m\u001b[0m\n",
       "\u001b[0;31mDocstring:\u001b[0m\n",
       "Parse the first YAML document in a stream\n",
       "and produce the corresponding Python object.\n",
       "\n",
       "Resolve only basic YAML tags. This is known\n",
       "to be safe for untrusted input.\n",
       "\u001b[0;31mFile:\u001b[0m      ~/opt/miniconda3/envs/inf200/lib/python3.8/site-packages/yaml/__init__.py\n",
       "\u001b[0;31mType:\u001b[0m      function\n"
      ]
     },
     "metadata": {},
     "output_type": "display_data"
    }
   ],
   "source": [
    "yaml.safe_load?"
   ]
  },
  {
   "cell_type": "code",
   "execution_count": 52,
   "id": "41fb7c14-f5b4-4aab-855d-4cb57d8316b1",
   "metadata": {},
   "outputs": [
    {
     "data": {
      "text/plain": [
       "\"- Age: 24\\n  Name: Per\\n  Phone number: '12345678'\\n- Age: 23\\n  Name: Kari\\n  Phone number: '23456789'\\n\""
      ]
     },
     "execution_count": 52,
     "metadata": {},
     "output_type": "execute_result"
    }
   ],
   "source": [
    "yaml.dump(students)"
   ]
  },
  {
   "cell_type": "markdown",
   "id": "1955bafb-6d70-49cd-86f8-6fb1388a31e3",
   "metadata": {},
   "source": [
    "## Reading from CSV and Excel files\n",
    "\n",
    "- For real-life reading of CSV and Excel files, use Pandas!\n",
    "- Pandas provides `read_csv()` and `read_excel()` with a lot of possibilities\n",
    "- We look at simple examples here, more complex examples will follow later\n",
    "\n",
    "### Reading a CSV file"
   ]
  },
  {
   "cell_type": "code",
   "execution_count": 53,
   "id": "aa92d344-c724-41a6-8535-8af3daf886b0",
   "metadata": {},
   "outputs": [],
   "source": [
    "import pandas as pd"
   ]
  },
  {
   "cell_type": "markdown",
   "id": "6d91b27d-4165-4d10-b160-6f1c93fa407c",
   "metadata": {},
   "source": [
    "- We need to specify \n",
    "    - the file encoding because it is not UTF-8\n",
    "    - the column separator because it is not the comma"
   ]
  },
  {
   "cell_type": "code",
   "execution_count": 54,
   "id": "340cc77e-d5b0-4bae-aa2b-49a9f72a9499",
   "metadata": {},
   "outputs": [],
   "source": [
    "weather12 = pd.read_csv('weather_umb_2012.csv', encoding='latin-1', sep=';')"
   ]
  },
  {
   "cell_type": "code",
   "execution_count": 55,
   "id": "079b1e49-6257-4d02-99d1-016450358eb5",
   "metadata": {},
   "outputs": [
    {
     "data": {
      "text/html": [
       "<div>\n",
       "<style scoped>\n",
       "    .dataframe tbody tr th:only-of-type {\n",
       "        vertical-align: middle;\n",
       "    }\n",
       "\n",
       "    .dataframe tbody tr th {\n",
       "        vertical-align: top;\n",
       "    }\n",
       "\n",
       "    .dataframe thead th {\n",
       "        text-align: right;\n",
       "    }\n",
       "</style>\n",
       "<table border=\"1\" class=\"dataframe\">\n",
       "  <thead>\n",
       "    <tr style=\"text-align: right;\">\n",
       "      <th></th>\n",
       "      <th># DATO</th>\n",
       "      <th>Luft temperatur ( ¡ C )</th>\n",
       "      <th>Luft temperatur min ( ¡ C )</th>\n",
       "      <th>Luft temperatur max ( ¡ C )</th>\n",
       "      <th>GLOB(MJ/m2)</th>\n",
       "      <th>%UV av GLOB</th>\n",
       "    </tr>\n",
       "  </thead>\n",
       "  <tbody>\n",
       "    <tr>\n",
       "      <th>0</th>\n",
       "      <td>01.01.2012</td>\n",
       "      <td>1.0</td>\n",
       "      <td>-2.6</td>\n",
       "      <td>3.5</td>\n",
       "      <td>0.27</td>\n",
       "      <td>8.42</td>\n",
       "    </tr>\n",
       "    <tr>\n",
       "      <th>1</th>\n",
       "      <td>02.01.2012</td>\n",
       "      <td>1.7</td>\n",
       "      <td>0.4</td>\n",
       "      <td>3.7</td>\n",
       "      <td>0.56</td>\n",
       "      <td>7.01</td>\n",
       "    </tr>\n",
       "    <tr>\n",
       "      <th>2</th>\n",
       "      <td>03.01.2012</td>\n",
       "      <td>1.5</td>\n",
       "      <td>-0.1</td>\n",
       "      <td>3.5</td>\n",
       "      <td>0.34</td>\n",
       "      <td>6.66</td>\n",
       "    </tr>\n",
       "    <tr>\n",
       "      <th>3</th>\n",
       "      <td>04.01.2012</td>\n",
       "      <td>1.6</td>\n",
       "      <td>-1.1</td>\n",
       "      <td>4.1</td>\n",
       "      <td>0.58</td>\n",
       "      <td>6.64</td>\n",
       "    </tr>\n",
       "    <tr>\n",
       "      <th>4</th>\n",
       "      <td>05.01.2012</td>\n",
       "      <td>-2.2</td>\n",
       "      <td>-3.4</td>\n",
       "      <td>-0.2</td>\n",
       "      <td>0.96</td>\n",
       "      <td>6.51</td>\n",
       "    </tr>\n",
       "  </tbody>\n",
       "</table>\n",
       "</div>"
      ],
      "text/plain": [
       "       # DATO  Luft temperatur ( ¡ C )  Luft temperatur min ( ¡ C )  \\\n",
       "0  01.01.2012                      1.0                         -2.6   \n",
       "1  02.01.2012                      1.7                          0.4   \n",
       "2  03.01.2012                      1.5                         -0.1   \n",
       "3  04.01.2012                      1.6                         -1.1   \n",
       "4  05.01.2012                     -2.2                         -3.4   \n",
       "\n",
       "   Luft temperatur max ( ¡ C )  GLOB(MJ/m2)  %UV av GLOB  \n",
       "0                          3.5         0.27         8.42  \n",
       "1                          3.7         0.56         7.01  \n",
       "2                          3.5         0.34         6.66  \n",
       "3                          4.1         0.58         6.64  \n",
       "4                         -0.2         0.96         6.51  "
      ]
     },
     "execution_count": 55,
     "metadata": {},
     "output_type": "execute_result"
    }
   ],
   "source": [
    "weather12.head()"
   ]
  },
  {
   "cell_type": "markdown",
   "id": "45427283-ebec-4d59-946b-72830eae4bcf",
   "metadata": {},
   "source": [
    "- We can look at the data types for the columns\n",
    "- The type for the first column (`object`) indicates that the dates have not been read properly as dates"
   ]
  },
  {
   "cell_type": "code",
   "execution_count": 56,
   "id": "7bb0ef79-3a84-49e2-ad5e-ac608b5fbd2a",
   "metadata": {},
   "outputs": [
    {
     "name": "stdout",
     "output_type": "stream",
     "text": [
      "<class 'pandas.core.frame.DataFrame'>\n",
      "RangeIndex: 366 entries, 0 to 365\n",
      "Data columns (total 6 columns):\n",
      " #   Column                       Non-Null Count  Dtype  \n",
      "---  ------                       --------------  -----  \n",
      " 0   # DATO                       366 non-null    object \n",
      " 1   Luft temperatur ( ¡ C )      366 non-null    float64\n",
      " 2   Luft temperatur min ( ¡ C )  366 non-null    float64\n",
      " 3   Luft temperatur max ( ¡ C )  366 non-null    float64\n",
      " 4   GLOB(MJ/m2)                  366 non-null    float64\n",
      " 5   %UV av GLOB                  366 non-null    float64\n",
      "dtypes: float64(5), object(1)\n",
      "memory usage: 17.3+ KB\n"
     ]
    }
   ],
   "source": [
    "weather12.info()"
   ]
  },
  {
   "cell_type": "markdown",
   "id": "ac9eb85f-ed04-4175-91bf-7a9021098f7b",
   "metadata": {},
   "source": [
    "- We try again, telling `read_csv()` explicitly to parse the first column (index 0 in the Pyhton world) as dates."
   ]
  },
  {
   "cell_type": "code",
   "execution_count": 57,
   "id": "a8a29ad0-bf90-4cfb-948e-b101bf733007",
   "metadata": {},
   "outputs": [
    {
     "name": "stdout",
     "output_type": "stream",
     "text": [
      "<class 'pandas.core.frame.DataFrame'>\n",
      "RangeIndex: 366 entries, 0 to 365\n",
      "Data columns (total 6 columns):\n",
      " #   Column                       Non-Null Count  Dtype         \n",
      "---  ------                       --------------  -----         \n",
      " 0   # DATO                       366 non-null    datetime64[ns]\n",
      " 1   Luft temperatur ( ¡ C )      366 non-null    float64       \n",
      " 2   Luft temperatur min ( ¡ C )  366 non-null    float64       \n",
      " 3   Luft temperatur max ( ¡ C )  366 non-null    float64       \n",
      " 4   GLOB(MJ/m2)                  366 non-null    float64       \n",
      " 5   %UV av GLOB                  366 non-null    float64       \n",
      "dtypes: datetime64[ns](1), float64(5)\n",
      "memory usage: 17.3 KB\n"
     ]
    }
   ],
   "source": [
    "weather12 = pd.read_csv('weather_umb_2012.csv', encoding='latin-1', sep=';', parse_dates=[0])\n",
    "weather12.info()"
   ]
  },
  {
   "cell_type": "markdown",
   "id": "757539ce-2097-4c8a-ac08-a90769877a83",
   "metadata": {},
   "source": [
    "- Now the date is has a `datetime` datatype, looks good.\n",
    "- We can plot. To avoid the complicated column names, we select columns by numerical index"
   ]
  },
  {
   "cell_type": "code",
   "execution_count": 58,
   "id": "f34285a7-29fd-4e2c-874c-83307bda21f8",
   "metadata": {},
   "outputs": [
    {
     "data": {
      "image/png": "[encoded data removed]",
      "text/plain": [
       "<Figure size 432x288 with 1 Axes>"
      ]
     },
     "metadata": {
      "needs_background": "light"
     },
     "output_type": "display_data"
    }
   ],
   "source": [
    "weather12.plot(x=0, y=1);"
   ]
  },
  {
   "cell_type": "markdown",
   "id": "49727344-879a-4b91-8d5f-52d7949daeb9",
   "metadata": {},
   "source": [
    "- This looks strange ...\n",
    "- Culture clash: data from Europe, software from the US\n",
    "    - we need to tell `read_csv()` about out date format "
   ]
  },
  {
   "cell_type": "code",
   "execution_count": 59,
   "id": "cfe03f28-bd62-43ba-b97e-ca3cc69aa2fc",
   "metadata": {},
   "outputs": [
    {
     "data": {
      "image/png": "[encoded data removed]",
      "text/plain": [
       "<Figure size 432x288 with 1 Axes>"
      ]
     },
     "metadata": {
      "needs_background": "light"
     },
     "output_type": "display_data"
    }
   ],
   "source": [
    "weather12 = pd.read_csv('weather_umb_2012.csv', encoding='latin-1', sep=';', \n",
    "                        parse_dates=[0], dayfirst=True)\n",
    "weather12.plot(x=0, y=1);"
   ]
  },
  {
   "cell_type": "markdown",
   "id": "5b6a1baa-dd95-4877-a032-af3fb806343d",
   "metadata": {},
   "source": [
    "- Much more plausible!\n",
    "- Now we only need to provide better column names\n",
    "- To do this safely, we explicitly map old to new names\n",
    "- Since the old names are a bit complicated, we can proceed as follows\n",
    "    1. Get pandas to print the current names\n",
    "    1. Copy-paste that into a new cell and construct a dictionary mapping old to new names\n",
    "    1. Update the column names"
   ]
  },
  {
   "cell_type": "code",
   "execution_count": 60,
   "id": "dffec213-8358-4e21-b25f-133018e4c236",
   "metadata": {},
   "outputs": [
    {
     "data": {
      "text/plain": [
       "Index(['# DATO', 'Luft temperatur ( ¡ C )', 'Luft temperatur min ( ¡ C )',\n",
       "       'Luft temperatur max ( ¡ C )', 'GLOB(MJ/m2)', '%UV av GLOB'],\n",
       "      dtype='object')"
      ]
     },
     "execution_count": 60,
     "metadata": {},
     "output_type": "execute_result"
    }
   ],
   "source": [
    "weather12.columns"
   ]
  },
  {
   "cell_type": "code",
   "execution_count": 61,
   "id": "db3c03ae-602d-4086-bccd-ab70913e9fb6",
   "metadata": {},
   "outputs": [],
   "source": [
    "col_map = {'# DATO': 'Date', \n",
    "           'Luft temperatur ( ¡ C )': 'T_avg', \n",
    "           'Luft temperatur min ( ¡ C )': 'T_min',\n",
    "           'Luft temperatur max ( ¡ C )': 'T_max',\n",
    "           'GLOB(MJ/m2)': 'GLOB', \n",
    "           '%UV av GLOB': 'UV_rel'}"
   ]
  },
  {
   "cell_type": "code",
   "execution_count": 62,
   "id": "b32e4af0-c109-4b1f-96ee-bff5db04bd9a",
   "metadata": {},
   "outputs": [],
   "source": [
    "weather12.rename(col_map, axis=1, inplace=True)"
   ]
  },
  {
   "cell_type": "markdown",
   "id": "02109aca-bdb5-4e3d-a4f5-1304772f0d12",
   "metadata": {},
   "source": [
    "- `axis=1` tells Pandas that we want to rename the columns\n",
    "- `inplace=True` tells Pandas to modify the `weather12` data frame instead of returning a new one with the new names\n",
    "- Here is the result"
   ]
  },
  {
   "cell_type": "code",
   "execution_count": 63,
   "id": "ec243db2-8179-47df-901d-c13e14701421",
   "metadata": {},
   "outputs": [
    {
     "data": {
      "text/html": [
       "<div>\n",
       "<style scoped>\n",
       "    .dataframe tbody tr th:only-of-type {\n",
       "        vertical-align: middle;\n",
       "    }\n",
       "\n",
       "    .dataframe tbody tr th {\n",
       "        vertical-align: top;\n",
       "    }\n",
       "\n",
       "    .dataframe thead th {\n",
       "        text-align: right;\n",
       "    }\n",
       "</style>\n",
       "<table border=\"1\" class=\"dataframe\">\n",
       "  <thead>\n",
       "    <tr style=\"text-align: right;\">\n",
       "      <th></th>\n",
       "      <th>Date</th>\n",
       "      <th>T_avg</th>\n",
       "      <th>T_min</th>\n",
       "      <th>T_max</th>\n",
       "      <th>GLOB</th>\n",
       "      <th>UV_rel</th>\n",
       "    </tr>\n",
       "  </thead>\n",
       "  <tbody>\n",
       "    <tr>\n",
       "      <th>0</th>\n",
       "      <td>2012-01-01</td>\n",
       "      <td>1.0</td>\n",
       "      <td>-2.6</td>\n",
       "      <td>3.5</td>\n",
       "      <td>0.27</td>\n",
       "      <td>8.42</td>\n",
       "    </tr>\n",
       "    <tr>\n",
       "      <th>1</th>\n",
       "      <td>2012-01-02</td>\n",
       "      <td>1.7</td>\n",
       "      <td>0.4</td>\n",
       "      <td>3.7</td>\n",
       "      <td>0.56</td>\n",
       "      <td>7.01</td>\n",
       "    </tr>\n",
       "    <tr>\n",
       "      <th>2</th>\n",
       "      <td>2012-01-03</td>\n",
       "      <td>1.5</td>\n",
       "      <td>-0.1</td>\n",
       "      <td>3.5</td>\n",
       "      <td>0.34</td>\n",
       "      <td>6.66</td>\n",
       "    </tr>\n",
       "    <tr>\n",
       "      <th>3</th>\n",
       "      <td>2012-01-04</td>\n",
       "      <td>1.6</td>\n",
       "      <td>-1.1</td>\n",
       "      <td>4.1</td>\n",
       "      <td>0.58</td>\n",
       "      <td>6.64</td>\n",
       "    </tr>\n",
       "    <tr>\n",
       "      <th>4</th>\n",
       "      <td>2012-01-05</td>\n",
       "      <td>-2.2</td>\n",
       "      <td>-3.4</td>\n",
       "      <td>-0.2</td>\n",
       "      <td>0.96</td>\n",
       "      <td>6.51</td>\n",
       "    </tr>\n",
       "  </tbody>\n",
       "</table>\n",
       "</div>"
      ],
      "text/plain": [
       "        Date  T_avg  T_min  T_max  GLOB  UV_rel\n",
       "0 2012-01-01    1.0   -2.6    3.5  0.27    8.42\n",
       "1 2012-01-02    1.7    0.4    3.7  0.56    7.01\n",
       "2 2012-01-03    1.5   -0.1    3.5  0.34    6.66\n",
       "3 2012-01-04    1.6   -1.1    4.1  0.58    6.64\n",
       "4 2012-01-05   -2.2   -3.4   -0.2  0.96    6.51"
      ]
     },
     "execution_count": 63,
     "metadata": {},
     "output_type": "execute_result"
    }
   ],
   "source": [
    "weather12.head()"
   ]
  },
  {
   "cell_type": "markdown",
   "id": "f4f6ada6-e282-46df-9d5f-96367fe60ee5",
   "metadata": {},
   "source": [
    "- Plotting now looks a bit nicer"
   ]
  },
  {
   "cell_type": "code",
   "execution_count": 64,
   "id": "0752aeb1-665a-4c44-be42-1c76663bf153",
   "metadata": {},
   "outputs": [
    {
     "data": {
      "image/png": "[encoded data removed]",
      "text/plain": [
       "<Figure size 432x288 with 1 Axes>"
      ]
     },
     "metadata": {
      "needs_background": "light"
     },
     "output_type": "display_data"
    }
   ],
   "source": [
    "weather12.plot(x='Date', y='T_avg');"
   ]
  },
  {
   "cell_type": "markdown",
   "id": "bdf0269e-528d-4cbf-95e5-cd75275fcda9",
   "metadata": {},
   "source": [
    "### Reading from an Excel file\n",
    "\n",
    "- We use `Aas dogn 2003-2012.xlsx` as example\n",
    "- The file has one sheet per year, named by year\n",
    "- We will load data for just one year\n",
    "- We do not want all columns, so we select a few"
   ]
  },
  {
   "cell_type": "code",
   "execution_count": 65,
   "id": "e23b81f3-ff57-46c6-97fc-f8480182ef0d",
   "metadata": {},
   "outputs": [],
   "source": [
    "weather07 = pd.read_excel('Aas dogn 2003-2012.xlsx', sheet_name='2007', usecols='A:D,I')"
   ]
  },
  {
   "cell_type": "code",
   "execution_count": 66,
   "id": "a92c6758-43e0-4494-a7bc-b742b552913b",
   "metadata": {},
   "outputs": [
    {
     "data": {
      "text/html": [
       "<div>\n",
       "<style scoped>\n",
       "    .dataframe tbody tr th:only-of-type {\n",
       "        vertical-align: middle;\n",
       "    }\n",
       "\n",
       "    .dataframe tbody tr th {\n",
       "        vertical-align: top;\n",
       "    }\n",
       "\n",
       "    .dataframe thead th {\n",
       "        text-align: right;\n",
       "    }\n",
       "</style>\n",
       "<table border=\"1\" class=\"dataframe\">\n",
       "  <thead>\n",
       "    <tr style=\"text-align: right;\">\n",
       "      <th></th>\n",
       "      <th>DATO</th>\n",
       "      <th>Luft temperatur ( ° C )</th>\n",
       "      <th>Luft temperatur min ( ° C )</th>\n",
       "      <th>Luft temperatur max ( ° C )</th>\n",
       "      <th>Gras minimumstemperatur ( ° C )</th>\n",
       "    </tr>\n",
       "  </thead>\n",
       "  <tbody>\n",
       "    <tr>\n",
       "      <th>0</th>\n",
       "      <td>2007-01-01</td>\n",
       "      <td>3.8</td>\n",
       "      <td>0.5</td>\n",
       "      <td>6.0</td>\n",
       "      <td>-3.5</td>\n",
       "    </tr>\n",
       "    <tr>\n",
       "      <th>1</th>\n",
       "      <td>2007-01-02</td>\n",
       "      <td>1.9</td>\n",
       "      <td>0.1</td>\n",
       "      <td>3.9</td>\n",
       "      <td>-6.0</td>\n",
       "    </tr>\n",
       "    <tr>\n",
       "      <th>2</th>\n",
       "      <td>2007-01-03</td>\n",
       "      <td>1.7</td>\n",
       "      <td>-1.7</td>\n",
       "      <td>6.4</td>\n",
       "      <td>-7.6</td>\n",
       "    </tr>\n",
       "    <tr>\n",
       "      <th>3</th>\n",
       "      <td>2007-01-04</td>\n",
       "      <td>5.5</td>\n",
       "      <td>-1.1</td>\n",
       "      <td>7.3</td>\n",
       "      <td>-6.0</td>\n",
       "    </tr>\n",
       "    <tr>\n",
       "      <th>4</th>\n",
       "      <td>2007-01-05</td>\n",
       "      <td>-0.4</td>\n",
       "      <td>-2.4</td>\n",
       "      <td>2.8</td>\n",
       "      <td>-8.6</td>\n",
       "    </tr>\n",
       "  </tbody>\n",
       "</table>\n",
       "</div>"
      ],
      "text/plain": [
       "        DATO  Luft temperatur ( ° C )  Luft temperatur min ( ° C )  \\\n",
       "0 2007-01-01                      3.8                          0.5   \n",
       "1 2007-01-02                      1.9                          0.1   \n",
       "2 2007-01-03                      1.7                         -1.7   \n",
       "3 2007-01-04                      5.5                         -1.1   \n",
       "4 2007-01-05                     -0.4                         -2.4   \n",
       "\n",
       "   Luft temperatur max ( ° C )  Gras minimumstemperatur ( ° C )  \n",
       "0                          6.0                             -3.5  \n",
       "1                          3.9                             -6.0  \n",
       "2                          6.4                             -7.6  \n",
       "3                          7.3                             -6.0  \n",
       "4                          2.8                             -8.6  "
      ]
     },
     "execution_count": 66,
     "metadata": {},
     "output_type": "execute_result"
    }
   ],
   "source": [
    "weather07.head()"
   ]
  },
  {
   "cell_type": "code",
   "execution_count": 67,
   "id": "c05c9ace-c307-4165-9700-44f3d1ed807e",
   "metadata": {},
   "outputs": [
    {
     "name": "stdout",
     "output_type": "stream",
     "text": [
      "<class 'pandas.core.frame.DataFrame'>\n",
      "RangeIndex: 365 entries, 0 to 364\n",
      "Data columns (total 5 columns):\n",
      " #   Column                           Non-Null Count  Dtype         \n",
      "---  ------                           --------------  -----         \n",
      " 0   DATO                             365 non-null    datetime64[ns]\n",
      " 1   Luft temperatur ( ° C )          365 non-null    float64       \n",
      " 2   Luft temperatur min ( ° C )      365 non-null    float64       \n",
      " 3   Luft temperatur max ( ° C )      365 non-null    float64       \n",
      " 4   Gras minimumstemperatur ( ° C )  365 non-null    float64       \n",
      "dtypes: datetime64[ns](1), float64(4)\n",
      "memory usage: 14.4 KB\n"
     ]
    }
   ],
   "source": [
    "weather07.info()"
   ]
  },
  {
   "cell_type": "code",
   "execution_count": 68,
   "id": "15f6259b-65eb-4d2c-b9c5-f3ae8f2c4b85",
   "metadata": {},
   "outputs": [
    {
     "data": {
      "image/png": "[encoded data removed]",
      "text/plain": [
       "<Figure size 432x288 with 1 Axes>"
      ]
     },
     "metadata": {
      "needs_background": "light"
     },
     "output_type": "display_data"
    }
   ],
   "source": [
    "weather07.plot(x=0, y=1);"
   ]
  },
  {
   "cell_type": "markdown",
   "id": "d40f9f33-99b1-4839-8d68-6b94ce34370c",
   "metadata": {},
   "source": [
    "- Reading from Excel, reading of dates has clearly worked automatically.\n",
    "- **BUT: Always check your data!** \n",
    "- In this case, a manual comparison with the Excel file shows that the data are imported correctly.\n",
    "- When importing 2008-data in the same way, something goes wrong\n",
    "    - Compare the x-axis labels in the plots for 2007 (above) and 2008 (below)!"
   ]
  },
  {
   "cell_type": "code",
   "execution_count": 69,
   "id": "4510022d-f0e4-4728-bf6d-868590980e8b",
   "metadata": {},
   "outputs": [
    {
     "data": {
      "image/png": "[encoded data removed]",
      "text/plain": [
       "<Figure size 432x288 with 1 Axes>"
      ]
     },
     "metadata": {
      "needs_background": "light"
     },
     "output_type": "display_data"
    }
   ],
   "source": [
    "weather08 = pd.read_excel('Aas dogn 2003-2012.xlsx', sheet_name='2008', usecols='A:D,I')\n",
    "weather08.plot(x=0, y=1);"
   ]
  },
  {
   "cell_type": "markdown",
   "id": "c5035626-8fa0-4ecc-b684-a2627f300e49",
   "metadata": {},
   "source": [
    "- Looking at the top and bottom of the 2008-data shows that something goes wrong with the date format towards the end of the year!"
   ]
  },
  {
   "cell_type": "code",
   "execution_count": 70,
   "id": "68e2467d-d8a0-41d2-af8d-bee67da8aaa4",
   "metadata": {},
   "outputs": [
    {
     "data": {
      "text/html": [
       "<div>\n",
       "<style scoped>\n",
       "    .dataframe tbody tr th:only-of-type {\n",
       "        vertical-align: middle;\n",
       "    }\n",
       "\n",
       "    .dataframe tbody tr th {\n",
       "        vertical-align: top;\n",
       "    }\n",
       "\n",
       "    .dataframe thead th {\n",
       "        text-align: right;\n",
       "    }\n",
       "</style>\n",
       "<table border=\"1\" class=\"dataframe\">\n",
       "  <thead>\n",
       "    <tr style=\"text-align: right;\">\n",
       "      <th></th>\n",
       "      <th>DATO</th>\n",
       "      <th>Luft temperatur ( ° C )</th>\n",
       "      <th>Luft temperatur min ( ° C )</th>\n",
       "      <th>Luft temperatur max ( ° C )</th>\n",
       "      <th>Gras minimumstemperatur ( ° C )</th>\n",
       "    </tr>\n",
       "  </thead>\n",
       "  <tbody>\n",
       "    <tr>\n",
       "      <th>0</th>\n",
       "      <td>2008-01-01 00:00:00</td>\n",
       "      <td>-1.1</td>\n",
       "      <td>-2.5</td>\n",
       "      <td>-0.1</td>\n",
       "      <td>-3.0</td>\n",
       "    </tr>\n",
       "    <tr>\n",
       "      <th>1</th>\n",
       "      <td>2008-01-02 00:00:00</td>\n",
       "      <td>0.3</td>\n",
       "      <td>-0.8</td>\n",
       "      <td>1.3</td>\n",
       "      <td>-1.5</td>\n",
       "    </tr>\n",
       "    <tr>\n",
       "      <th>2</th>\n",
       "      <td>2008-01-03 00:00:00</td>\n",
       "      <td>-2.0</td>\n",
       "      <td>-3.1</td>\n",
       "      <td>-0.8</td>\n",
       "      <td>-4.4</td>\n",
       "    </tr>\n",
       "    <tr>\n",
       "      <th>3</th>\n",
       "      <td>2008-01-04 00:00:00</td>\n",
       "      <td>-1.8</td>\n",
       "      <td>-3.2</td>\n",
       "      <td>-0.8</td>\n",
       "      <td>-5.7</td>\n",
       "    </tr>\n",
       "    <tr>\n",
       "      <th>4</th>\n",
       "      <td>2008-01-05 00:00:00</td>\n",
       "      <td>-1.5</td>\n",
       "      <td>-3.1</td>\n",
       "      <td>-0.9</td>\n",
       "      <td>-3.6</td>\n",
       "    </tr>\n",
       "  </tbody>\n",
       "</table>\n",
       "</div>"
      ],
      "text/plain": [
       "                  DATO  Luft temperatur ( ° C )  Luft temperatur min ( ° C )  \\\n",
       "0  2008-01-01 00:00:00                     -1.1                         -2.5   \n",
       "1  2008-01-02 00:00:00                      0.3                         -0.8   \n",
       "2  2008-01-03 00:00:00                     -2.0                         -3.1   \n",
       "3  2008-01-04 00:00:00                     -1.8                         -3.2   \n",
       "4  2008-01-05 00:00:00                     -1.5                         -3.1   \n",
       "\n",
       "   Luft temperatur max ( ° C )  Gras minimumstemperatur ( ° C )  \n",
       "0                         -0.1                             -3.0  \n",
       "1                          1.3                             -1.5  \n",
       "2                         -0.8                             -4.4  \n",
       "3                         -0.8                             -5.7  \n",
       "4                         -0.9                             -3.6  "
      ]
     },
     "execution_count": 70,
     "metadata": {},
     "output_type": "execute_result"
    }
   ],
   "source": [
    "weather08.head()"
   ]
  },
  {
   "cell_type": "code",
   "execution_count": 71,
   "id": "5e2d59f9-8d9f-4f01-8a69-f227668a5f81",
   "metadata": {},
   "outputs": [
    {
     "data": {
      "text/html": [
       "<div>\n",
       "<style scoped>\n",
       "    .dataframe tbody tr th:only-of-type {\n",
       "        vertical-align: middle;\n",
       "    }\n",
       "\n",
       "    .dataframe tbody tr th {\n",
       "        vertical-align: top;\n",
       "    }\n",
       "\n",
       "    .dataframe thead th {\n",
       "        text-align: right;\n",
       "    }\n",
       "</style>\n",
       "<table border=\"1\" class=\"dataframe\">\n",
       "  <thead>\n",
       "    <tr style=\"text-align: right;\">\n",
       "      <th></th>\n",
       "      <th>DATO</th>\n",
       "      <th>Luft temperatur ( ° C )</th>\n",
       "      <th>Luft temperatur min ( ° C )</th>\n",
       "      <th>Luft temperatur max ( ° C )</th>\n",
       "      <th>Gras minimumstemperatur ( ° C )</th>\n",
       "    </tr>\n",
       "  </thead>\n",
       "  <tbody>\n",
       "    <tr>\n",
       "      <th>361</th>\n",
       "      <td>271208 00</td>\n",
       "      <td>-5.8</td>\n",
       "      <td>-8.2</td>\n",
       "      <td>-1.7</td>\n",
       "      <td>-13.3</td>\n",
       "    </tr>\n",
       "    <tr>\n",
       "      <th>362</th>\n",
       "      <td>281208 00</td>\n",
       "      <td>-2.6</td>\n",
       "      <td>-5.8</td>\n",
       "      <td>-0.8</td>\n",
       "      <td>-10.9</td>\n",
       "    </tr>\n",
       "    <tr>\n",
       "      <th>363</th>\n",
       "      <td>291208 00</td>\n",
       "      <td>-3.4</td>\n",
       "      <td>-4.5</td>\n",
       "      <td>-2.4</td>\n",
       "      <td>-6.3</td>\n",
       "    </tr>\n",
       "    <tr>\n",
       "      <th>364</th>\n",
       "      <td>301208 00</td>\n",
       "      <td>-7.9</td>\n",
       "      <td>-10.7</td>\n",
       "      <td>-4.6</td>\n",
       "      <td>-15.8</td>\n",
       "    </tr>\n",
       "    <tr>\n",
       "      <th>365</th>\n",
       "      <td>311208 00</td>\n",
       "      <td>-10.5</td>\n",
       "      <td>-13.9</td>\n",
       "      <td>-6.3</td>\n",
       "      <td>-19.1</td>\n",
       "    </tr>\n",
       "  </tbody>\n",
       "</table>\n",
       "</div>"
      ],
      "text/plain": [
       "          DATO  Luft temperatur ( ° C )  Luft temperatur min ( ° C )  \\\n",
       "361  271208 00                     -5.8                         -8.2   \n",
       "362  281208 00                     -2.6                         -5.8   \n",
       "363  291208 00                     -3.4                         -4.5   \n",
       "364  301208 00                     -7.9                        -10.7   \n",
       "365  311208 00                    -10.5                        -13.9   \n",
       "\n",
       "     Luft temperatur max ( ° C )  Gras minimumstemperatur ( ° C )  \n",
       "361                         -1.7                            -13.3  \n",
       "362                         -0.8                            -10.9  \n",
       "363                         -2.4                             -6.3  \n",
       "364                         -4.6                            -15.8  \n",
       "365                         -6.3                            -19.1  "
      ]
     },
     "execution_count": 71,
     "metadata": {},
     "output_type": "execute_result"
    }
   ],
   "source": [
    "weather08.tail()"
   ]
  },
  {
   "cell_type": "markdown",
   "id": "8cd6db1b-ff67-42a2-b73b-129072d3b3f7",
   "metadata": {},
   "source": [
    "**The first law of data analysis: Always check your raw data one more time!**\n",
    "\n",
    "------"
   ]
  },
  {
   "cell_type": "markdown",
   "id": "a2f890ed-f9a9-413c-90cf-fbd5e48bcade",
   "metadata": {},
   "source": [
    "### Reading number-like values as strings\n",
    "\n",
    "- Consider the following file, containing [Dewey decimal codes](https://en.wikipedia.org/wiki/Dewey_Decimal_Classification) for books"
   ]
  },
  {
   "cell_type": "code",
   "execution_count": 72,
   "id": "07cc1817-0b35-40c4-89b7-f6d1595259d6",
   "metadata": {},
   "outputs": [
    {
     "name": "stdout",
     "output_type": "stream",
     "text": [
      "Author;Title;Dewey\n",
      "Knuth;The Art of Computer Programming;005.1\n",
      "Stroustrup;The C++ Programming Language;005.133\n",
      "\n"
     ]
    }
   ],
   "source": [
    "print(open('books.csv').read())"
   ]
  },
  {
   "cell_type": "markdown",
   "id": "dfc9a003-4ccd-427b-9110-45075ee95f38",
   "metadata": {},
   "source": [
    "- These look like floating point numbers, but are not: all digits must be preserved, and none added\n",
    "- Loading into Pandas without further adjustment converts the codes to floats:"
   ]
  },
  {
   "cell_type": "code",
   "execution_count": 73,
   "id": "f257ec2c-07df-4c6e-9779-9b239529f5a9",
   "metadata": {},
   "outputs": [
    {
     "data": {
      "text/html": [
       "<div>\n",
       "<style scoped>\n",
       "    .dataframe tbody tr th:only-of-type {\n",
       "        vertical-align: middle;\n",
       "    }\n",
       "\n",
       "    .dataframe tbody tr th {\n",
       "        vertical-align: top;\n",
       "    }\n",
       "\n",
       "    .dataframe thead th {\n",
       "        text-align: right;\n",
       "    }\n",
       "</style>\n",
       "<table border=\"1\" class=\"dataframe\">\n",
       "  <thead>\n",
       "    <tr style=\"text-align: right;\">\n",
       "      <th></th>\n",
       "      <th>Author</th>\n",
       "      <th>Title</th>\n",
       "      <th>Dewey</th>\n",
       "    </tr>\n",
       "  </thead>\n",
       "  <tbody>\n",
       "    <tr>\n",
       "      <th>0</th>\n",
       "      <td>Knuth</td>\n",
       "      <td>The Art of Computer Programming</td>\n",
       "      <td>5.100</td>\n",
       "    </tr>\n",
       "    <tr>\n",
       "      <th>1</th>\n",
       "      <td>Stroustrup</td>\n",
       "      <td>The C++ Programming Language</td>\n",
       "      <td>5.133</td>\n",
       "    </tr>\n",
       "  </tbody>\n",
       "</table>\n",
       "</div>"
      ],
      "text/plain": [
       "       Author                            Title  Dewey\n",
       "0       Knuth  The Art of Computer Programming  5.100\n",
       "1  Stroustrup     The C++ Programming Language  5.133"
      ]
     },
     "execution_count": 73,
     "metadata": {},
     "output_type": "execute_result"
    }
   ],
   "source": [
    "d = pd.read_csv('books.csv', sep=';')\n",
    "d"
   ]
  },
  {
   "cell_type": "code",
   "execution_count": 74,
   "id": "54bc7c2a-f36f-491b-ae3e-7158676fa936",
   "metadata": {},
   "outputs": [
    {
     "name": "stdout",
     "output_type": "stream",
     "text": [
      "<class 'pandas.core.frame.DataFrame'>\n",
      "RangeIndex: 2 entries, 0 to 1\n",
      "Data columns (total 3 columns):\n",
      " #   Column  Non-Null Count  Dtype  \n",
      "---  ------  --------------  -----  \n",
      " 0   Author  2 non-null      object \n",
      " 1   Title   2 non-null      object \n",
      " 2   Dewey   2 non-null      float64\n",
      "dtypes: float64(1), object(2)\n",
      "memory usage: 176.0+ bytes\n"
     ]
    }
   ],
   "source": [
    "d.info()"
   ]
  },
  {
   "cell_type": "markdown",
   "id": "97ac30c6-d183-4f73-837d-ffc0b9389963",
   "metadata": {},
   "source": [
    "- We need to specify the data type for the \"Dewey\" column to read it correctly as strings"
   ]
  },
  {
   "cell_type": "code",
   "execution_count": 75,
   "id": "e70f3271-1c63-4f17-ad08-ffe2133c2ec3",
   "metadata": {},
   "outputs": [],
   "source": [
    "d = pd.read_csv('books.csv', sep=';', dtype={'Dewey': str})"
   ]
  },
  {
   "cell_type": "code",
   "execution_count": 76,
   "id": "ca360ddc-1ee9-43fc-9c7f-dbad01f1ab33",
   "metadata": {},
   "outputs": [
    {
     "data": {
      "text/html": [
       "<div>\n",
       "<style scoped>\n",
       "    .dataframe tbody tr th:only-of-type {\n",
       "        vertical-align: middle;\n",
       "    }\n",
       "\n",
       "    .dataframe tbody tr th {\n",
       "        vertical-align: top;\n",
       "    }\n",
       "\n",
       "    .dataframe thead th {\n",
       "        text-align: right;\n",
       "    }\n",
       "</style>\n",
       "<table border=\"1\" class=\"dataframe\">\n",
       "  <thead>\n",
       "    <tr style=\"text-align: right;\">\n",
       "      <th></th>\n",
       "      <th>Author</th>\n",
       "      <th>Title</th>\n",
       "      <th>Dewey</th>\n",
       "    </tr>\n",
       "  </thead>\n",
       "  <tbody>\n",
       "    <tr>\n",
       "      <th>0</th>\n",
       "      <td>Knuth</td>\n",
       "      <td>The Art of Computer Programming</td>\n",
       "      <td>005.1</td>\n",
       "    </tr>\n",
       "    <tr>\n",
       "      <th>1</th>\n",
       "      <td>Stroustrup</td>\n",
       "      <td>The C++ Programming Language</td>\n",
       "      <td>005.133</td>\n",
       "    </tr>\n",
       "  </tbody>\n",
       "</table>\n",
       "</div>"
      ],
      "text/plain": [
       "       Author                            Title    Dewey\n",
       "0       Knuth  The Art of Computer Programming    005.1\n",
       "1  Stroustrup     The C++ Programming Language  005.133"
      ]
     },
     "execution_count": 76,
     "metadata": {},
     "output_type": "execute_result"
    }
   ],
   "source": [
    "d"
   ]
  },
  {
   "cell_type": "code",
   "execution_count": 77,
   "id": "96a7bd87-c154-4f58-b2d3-a0a4e61afb72",
   "metadata": {},
   "outputs": [
    {
     "name": "stdout",
     "output_type": "stream",
     "text": [
      "<class 'pandas.core.frame.DataFrame'>\n",
      "RangeIndex: 2 entries, 0 to 1\n",
      "Data columns (total 3 columns):\n",
      " #   Column  Non-Null Count  Dtype \n",
      "---  ------  --------------  ----- \n",
      " 0   Author  2 non-null      object\n",
      " 1   Title   2 non-null      object\n",
      " 2   Dewey   2 non-null      object\n",
      "dtypes: object(3)\n",
      "memory usage: 176.0+ bytes\n"
     ]
    }
   ],
   "source": [
    "d.info()"
   ]
  },
  {
   "cell_type": "code",
   "execution_count": null,
   "id": "53cd7c29-5c6d-4032-a883-bfc8d024cd46",
   "metadata": {},
   "outputs": [],
   "source": []
  }
 ],
 "metadata": {
  "kernelspec": {
   "display_name": "Python 3 (ipykernel)",
   "language": "python",
   "name": "python3"
  },
  "language_info": {
   "codemirror_mode": {
    "name": "ipython",
    "version": 3
   },
   "file_extension": ".py",
   "mimetype": "text/x-python",
   "name": "python",
   "nbconvert_exporter": "python",
   "pygments_lexer": "ipython3",
   "version": "3.8.11"
  }
 },
 "nbformat": 4,
 "nbformat_minor": 5
}
