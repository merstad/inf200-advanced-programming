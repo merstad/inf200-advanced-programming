{
 "cells": [
  {
   "cell_type": "markdown",
   "metadata": {},
   "source": [
    "# INF200 Lecture No Ja02\n",
    "### Hans Ekkehard Plesser / NMBU\n",
    "### 4 January 2022\n",
    "\n",
    "## Today's topics\n",
    "\n",
    "- Structuring your code\n",
    "    - Modules and Packages\n",
    "- Python\n",
    "    - Class, static, and private methods\n",
    "    - Assignment expressions\n",
    "    - Relative imports\n",
    "    - When not to use NumPy\n",
    "    - Making random decisions\n",
    "    - Repetition: Mutables as default arguments\n",
    "- Recommendations for BioSim"
   ]
  },
  {
   "cell_type": "markdown",
   "metadata": {
    "slideshow": {
     "slide_type": "slide"
    }
   },
   "source": [
    "----------------\n",
    "\n",
    "## Modules and packages\n"
   ]
  },
  {
   "cell_type": "markdown",
   "metadata": {
    "slideshow": {
     "slide_type": "fragment"
    }
   },
   "source": [
    "- We could put all our code in a single file, but this is far from optimal\n",
    "    - Large files are difficult to work with\n",
    "    - We can only keep 5–7 things on our mind, hierarchical structure makes it easier to keep an overview\n",
    "    - We may want to re-use different code in different places\n",
    "    \n",
    "Python's solution: *Modules* and *Packages*\n",
    "\n",
    "* **Module:** A single Python file\n",
    "* **Package:** A collection of python files (can think of it like a folder)\n",
    "\n",
    "[Python Tutorial, ch 6](https://docs.python.org/3.9/tutorial/modules.html)"
   ]
  },
  {
   "cell_type": "markdown",
   "metadata": {
    "slideshow": {
     "slide_type": "slide"
    }
   },
   "source": [
    "### Modules\n",
    "\n",
    "Each Python file is a module"
   ]
  },
  {
   "cell_type": "markdown",
   "metadata": {
    "slideshow": {
     "slide_type": "subslide"
    }
   },
   "source": [
    "What is the difference between a python *module* and a python *script*?\n",
    "* Technically: No difference\n",
    "* In practical usage:\n",
    "    * Script: Python code to be run, not imported\n",
    "    * Module: Python code to be imported, not run"
   ]
  },
  {
   "cell_type": "markdown",
   "metadata": {
    "slideshow": {
     "slide_type": "subslide"
    }
   },
   "source": [
    "#### Example Python module\n",
    "\n",
    "We will create a Python module live through Jupyter notebook, using [cell magic](https://ipython.readthedocs.io/en/stable/interactive/tutorial.html#magic-functions). Before that, we remove files and directories that will be written by this notebook so we start with a clean slate."
   ]
  },
  {
   "cell_type": "code",
   "execution_count": 1,
   "metadata": {
    "slideshow": {
     "slide_type": "fragment"
    }
   },
   "outputs": [
    {
     "name": "stdout",
     "output_type": "stream",
     "text": [
      "zsh:1: no matches found: *.py\n"
     ]
    }
   ],
   "source": [
    "%rm *.py *.pyc"
   ]
  },
  {
   "cell_type": "code",
   "execution_count": 2,
   "metadata": {
    "slideshow": {
     "slide_type": "subslide"
    }
   },
   "outputs": [
    {
     "name": "stdout",
     "output_type": "stream",
     "text": [
      "Writing mystats.py\n"
     ]
    }
   ],
   "source": [
    "%%writefile mystats.py\n",
    "\n",
    "\"\"\"mystats provides some statistical functions.\"\"\"\n",
    "\n",
    "import math\n",
    "\n",
    "def _square(data):\n",
    "    return [x**2 for x in data]\n",
    "\n",
    "def mean(data):\n",
    "    \"\"\"Returns arithmetic mean of sample data.\"\"\"\n",
    "    return sum(data) / float(len(data))\n",
    "\n",
    "def var(data):\n",
    "    \"\"\"Returns variance of data.\"\"\"\n",
    "    return mean(_square(data)) - mean(data)**2\n",
    "\n",
    "example_data = [1, 3, 2, 4, 5, 8, 1]"
   ]
  },
  {
   "cell_type": "markdown",
   "metadata": {
    "slideshow": {
     "slide_type": "subslide"
    }
   },
   "source": [
    "Now that there is a file called `mystats.py`, we can import the module"
   ]
  },
  {
   "cell_type": "code",
   "execution_count": 3,
   "metadata": {
    "slideshow": {
     "slide_type": "fragment"
    }
   },
   "outputs": [
    {
     "name": "stdout",
     "output_type": "stream",
     "text": [
      "2.0\n",
      "1.5\n",
      "[1, 3, 2, 4, 5, 8, 1]\n"
     ]
    }
   ],
   "source": [
    "import mystats\n",
    "print(mystats.mean([1, 2, 3]))\n",
    "print(mystats.var([1.5, 3, 4.5]))\n",
    "print(mystats.example_data)"
   ]
  },
  {
   "cell_type": "markdown",
   "metadata": {
    "slideshow": {
     "slide_type": "subslide"
    }
   },
   "source": [
    "* Importing a module doesn't bind any names other than the module name itself\n",
    "* We can also import individual elements of a module"
   ]
  },
  {
   "cell_type": "code",
   "execution_count": 4,
   "metadata": {
    "slideshow": {
     "slide_type": "fragment"
    }
   },
   "outputs": [
    {
     "data": {
      "text/plain": [
       "2.0"
      ]
     },
     "execution_count": 4,
     "metadata": {},
     "output_type": "execute_result"
    }
   ],
   "source": [
    "from mystats import mean\n",
    "mean([1, 2, 3])"
   ]
  },
  {
   "cell_type": "markdown",
   "metadata": {
    "slideshow": {
     "slide_type": "subslide"
    }
   },
   "source": [
    "* Or we can import all functions from a module\n",
    "* Sometimes for interactive work, **not recommended in scripts and modules**"
   ]
  },
  {
   "cell_type": "code",
   "execution_count": 5,
   "metadata": {
    "slideshow": {
     "slide_type": "fragment"
    }
   },
   "outputs": [
    {
     "name": "stdout",
     "output_type": "stream",
     "text": [
      "[1, 3, 2, 4, 5, 8, 1]\n",
      "3.4285714285714284\n"
     ]
    }
   ],
   "source": [
    "from mystats import *\n",
    "print(example_data)\n",
    "print(mean(example_data))"
   ]
  },
  {
   "cell_type": "markdown",
   "metadata": {},
   "source": [
    "* Names beginning with _ are not imported"
   ]
  },
  {
   "cell_type": "code",
   "execution_count": 6,
   "metadata": {},
   "outputs": [
    {
     "ename": "NameError",
     "evalue": "name '_square' is not defined",
     "output_type": "error",
     "traceback": [
      "\u001b[0;31m---------------------------------------------------------------------------\u001b[0m",
      "\u001b[0;31mNameError\u001b[0m                                 Traceback (most recent call last)",
      "\u001b[0;32m/var/folders/j5/971zg6qd58n070p_ds781hzm0000gn/T/ipykernel_4885/2319645972.py\u001b[0m in \u001b[0;36m<module>\u001b[0;34m\u001b[0m\n\u001b[0;32m----> 1\u001b[0;31m \u001b[0mprint\u001b[0m\u001b[0;34m(\u001b[0m\u001b[0m_square\u001b[0m\u001b[0;34m(\u001b[0m\u001b[0;36m9\u001b[0m\u001b[0;34m)\u001b[0m\u001b[0;34m)\u001b[0m\u001b[0;34m\u001b[0m\u001b[0;34m\u001b[0m\u001b[0m\n\u001b[0m",
      "\u001b[0;31mNameError\u001b[0m: name '_square' is not defined"
     ]
    }
   ],
   "source": [
    "print(_square(9))"
   ]
  },
  {
   "cell_type": "markdown",
   "metadata": {
    "slideshow": {
     "slide_type": "subslide"
    }
   },
   "source": [
    "- The `dir` command lets us look at all names defined in the module"
   ]
  },
  {
   "cell_type": "code",
   "execution_count": 7,
   "metadata": {
    "slideshow": {
     "slide_type": "fragment"
    }
   },
   "outputs": [
    {
     "data": {
      "text/plain": [
       "['__builtins__',\n",
       " '__cached__',\n",
       " '__doc__',\n",
       " '__file__',\n",
       " '__loader__',\n",
       " '__name__',\n",
       " '__package__',\n",
       " '__spec__',\n",
       " '_square',\n",
       " 'example_data',\n",
       " 'math',\n",
       " 'mean',\n",
       " 'var']"
      ]
     },
     "execution_count": 7,
     "metadata": {},
     "output_type": "execute_result"
    }
   ],
   "source": [
    "dir(mystats)"
   ]
  },
  {
   "cell_type": "markdown",
   "metadata": {
    "slideshow": {
     "slide_type": "subslide"
    }
   },
   "source": [
    "Note that the module contains variables we have not set, such as `__doc__` and `__name__`"
   ]
  },
  {
   "cell_type": "code",
   "execution_count": 8,
   "metadata": {
    "slideshow": {
     "slide_type": "fragment"
    }
   },
   "outputs": [
    {
     "data": {
      "text/plain": [
       "'mystats provides some statistical functions.'"
      ]
     },
     "execution_count": 8,
     "metadata": {},
     "output_type": "execute_result"
    }
   ],
   "source": [
    "mystats.__doc__"
   ]
  },
  {
   "cell_type": "code",
   "execution_count": 9,
   "metadata": {
    "slideshow": {
     "slide_type": "fragment"
    }
   },
   "outputs": [
    {
     "data": {
      "text/plain": [
       "'mystats'"
      ]
     },
     "execution_count": 9,
     "metadata": {},
     "output_type": "execute_result"
    }
   ],
   "source": [
    "mystats.__name__"
   ]
  },
  {
   "cell_type": "code",
   "execution_count": 10,
   "metadata": {},
   "outputs": [
    {
     "data": {
      "text/plain": [
       "'/Users/plesser/Courses/INF200/H2021/inf200-course-materials/january_block/lectures/mystats.py'"
      ]
     },
     "execution_count": 10,
     "metadata": {},
     "output_type": "execute_result"
    }
   ],
   "source": [
    "mystats.__file__"
   ]
  },
  {
   "cell_type": "markdown",
   "metadata": {
    "slideshow": {
     "slide_type": "subslide"
    }
   },
   "source": [
    "These variables contain *meta-information*, such as the modules docstring\n",
    "\n",
    "The `__name__`-variable is a bit special:\n",
    "- If a module is imported, it is set to the name of the file (without the `.py` extension)\n",
    "- If a modul is executed directly, it is set to `__main__`\n",
    "\n",
    "This is why we include a `if __name__ == '__main__':` at the bottom of our scripts, it is only true if the script is executed, not if it is imported"
   ]
  },
  {
   "cell_type": "markdown",
   "metadata": {
    "slideshow": {
     "slide_type": "subslide"
    }
   },
   "source": [
    "#### Example Python script\n",
    "\n",
    "- A script typically does some work and is not intended for import\n",
    "- An alternative to writing a script could be to create a jupyter notebook instead\n",
    "\n",
    "We now create a python script using cell magic"
   ]
  },
  {
   "cell_type": "code",
   "execution_count": 17,
   "metadata": {
    "slideshow": {
     "slide_type": "subslide"
    }
   },
   "outputs": [
    {
     "name": "stdout",
     "output_type": "stream",
     "text": [
      "Overwriting run_stats.py\n"
     ]
    }
   ],
   "source": [
    "%%writefile run_stats.py\n",
    "\n",
    "from mystats import mean, var\n",
    "import random\n",
    "import math\n",
    "\n",
    "for sample_size in [10, 100, 1000, 10000]:\n",
    "    sample = [random.random() for _ in range(sample_size)]\n",
    "    print('{:6}{:10.5f} ± {:.5f}'.format(sample_size, mean(sample), \n",
    "                                         math.sqrt(var(sample)/(len(sample)-1))))"
   ]
  },
  {
   "cell_type": "code",
   "execution_count": 18,
   "metadata": {
    "slideshow": {
     "slide_type": "subslide"
    }
   },
   "outputs": [
    {
     "name": "stdout",
     "output_type": "stream",
     "text": [
      "    10   0.62431 ± 0.10538\n",
      "   100   0.50468 ± 0.02845\n",
      "  1000   0.51122 ± 0.00904\n",
      " 10000   0.50372 ± 0.00287\n"
     ]
    }
   ],
   "source": [
    "%run run_stats.py"
   ]
  },
  {
   "cell_type": "markdown",
   "metadata": {
    "slideshow": {
     "slide_type": "subslide"
    }
   },
   "source": [
    "- Note that we must import `math` explicitly, it is not \"inherited\" from `mystats`\n",
    "- The `%run` magic executes the script\n",
    "- Note that we can easily import from our `mystats` module, because the script and the module are stored in the same directiory"
   ]
  },
  {
   "cell_type": "markdown",
   "metadata": {
    "slideshow": {
     "slide_type": "slide"
    }
   },
   "source": [
    "## Running vs importing\n",
    "\n",
    "A program can be executed in many ways:\n",
    "- Execute `python run_stats.py` on a command line/terminal\n",
    "- Running it through PyCharm\n",
    "- Running it from the notebook using `%run`\n",
    "    - When a program is executed this way, `__name__` is set to `'__main__'`\n",
    "\n",
    "All code in the script is executed sequentially"
   ]
  },
  {
   "cell_type": "markdown",
   "metadata": {
    "slideshow": {
     "slide_type": "subslide"
    }
   },
   "source": [
    "We import a package by using the `import` keyword\n",
    "- In a python module or script\n",
    "- In a pyhton shell\n",
    "- In a notebook\n",
    "\n",
    "When we import a module, all the code is executed sequentially, but only the first time we import it.\n",
    "\n",
    "We can 'hide' code we do not want to be executed inside an `if __name__ == '__main__'` test"
   ]
  },
  {
   "cell_type": "code",
   "execution_count": 19,
   "metadata": {
    "slideshow": {
     "slide_type": "subslide"
    }
   },
   "outputs": [
    {
     "name": "stdout",
     "output_type": "stream",
     "text": [
      "Writing my_verbose_module.py\n"
     ]
    }
   ],
   "source": [
    "%%writefile my_verbose_module.py\n",
    "\n",
    "print(\"This is a verbose module\")\n",
    "\n",
    "def foo():\n",
    "    print(\"It prints lots of things\")\n",
    "    \n",
    "if __name__ == '__main__':\n",
    "    foo()"
   ]
  },
  {
   "cell_type": "code",
   "execution_count": 20,
   "metadata": {
    "slideshow": {
     "slide_type": "fragment"
    }
   },
   "outputs": [
    {
     "name": "stdout",
     "output_type": "stream",
     "text": [
      "This is a verbose module\n",
      "It prints lots of things\n"
     ]
    }
   ],
   "source": [
    "import my_verbose_module\n",
    "my_verbose_module.foo()\n",
    "\n",
    "import my_verbose_module\n",
    "import my_verbose_module\n",
    "import my_verbose_module"
   ]
  },
  {
   "cell_type": "markdown",
   "metadata": {
    "slideshow": {
     "slide_type": "subslide"
    }
   },
   "source": [
    "The code in the module is only executed the first time the module is imported. The code in the \"main\" block is not executed when we import the module, so we call `foo` manually instead\n",
    "\n",
    "If we run the code instead, the whole code is executed, including the main check"
   ]
  },
  {
   "cell_type": "code",
   "execution_count": 21,
   "metadata": {
    "slideshow": {
     "slide_type": "fragment"
    }
   },
   "outputs": [
    {
     "name": "stdout",
     "output_type": "stream",
     "text": [
      "This is a verbose module\n",
      "It prints lots of things\n"
     ]
    }
   ],
   "source": [
    "%run my_verbose_module"
   ]
  },
  {
   "cell_type": "markdown",
   "metadata": {
    "slideshow": {
     "slide_type": "slide"
    }
   },
   "source": [
    "### Where can we import from?\n",
    "\n",
    "If we try to import a module named `spam`, Python will have to search to find a module with the correct name\n",
    "\n",
    "It searches in the same way as it does for variables, it first looks locally, and then extends outwards\n",
    "* built-ins\n",
    "* the directory containing the input script (or the current directory)\n",
    "* PYTHONPATH (a list of directory names, with the same syntax as the shell variable PATH)\n",
    "* the installation-dependent default\n"
   ]
  },
  {
   "cell_type": "markdown",
   "metadata": {
    "slideshow": {
     "slide_type": "subslide"
    }
   },
   "source": [
    "The fact that Python looks locally first is important, because this means you should *not* create files with the same names as modules you are going to import, because it can lead to headaches"
   ]
  },
  {
   "cell_type": "markdown",
   "metadata": {
    "slideshow": {
     "slide_type": "subslide"
    }
   },
   "source": [
    "You can see where Python looks for modules by looking at `sys.path`"
   ]
  },
  {
   "cell_type": "code",
   "execution_count": 22,
   "metadata": {
    "slideshow": {
     "slide_type": "fragment"
    }
   },
   "outputs": [
    {
     "data": {
      "text/plain": [
       "['/Users/plesser/Courses/INF200/H2021/inf200-course-materials/january_block/lectures',\n",
       " '/Users/plesser/opt/miniconda3/envs/inf200/lib/python38.zip',\n",
       " '/Users/plesser/opt/miniconda3/envs/inf200/lib/python3.8',\n",
       " '/Users/plesser/opt/miniconda3/envs/inf200/lib/python3.8/lib-dynload',\n",
       " '',\n",
       " '/Users/plesser/opt/miniconda3/envs/inf200/lib/python3.8/site-packages',\n",
       " '/Users/plesser/opt/miniconda3/envs/inf200/lib/python3.8/site-packages/IPython/extensions',\n",
       " '/Users/plesser/.ipython']"
      ]
     },
     "execution_count": 22,
     "metadata": {},
     "output_type": "execute_result"
    }
   ],
   "source": [
    "import sys\n",
    "sys.path"
   ]
  },
  {
   "cell_type": "markdown",
   "metadata": {
    "slideshow": {
     "slide_type": "subslide"
    }
   },
   "source": [
    "Importing from your own module is automatic as long as they are in the same directory, but what happens if you want to import from a different directory?\n",
    "\n",
    "#### How to configure the Python path\n",
    "- While developing in PyCharm and running from PyCharm, PyCharm will set up correct paths for us (requires marking `src` as Sources).\n",
    "- Conda or other environment managers set up proper paths for us.\n",
    "- Generally, install to default locations so you do not need to manipulate the search path\n",
    "    - If you \"just want to try\" things, create a new Conda environment and install in default location within that environment\n",
    "    - Delete the environment when you are done\n",
    "- If you really want to load packages from non-standard locations\n",
    "    - Change PYTHONPATH\n",
    "        - Linux/macOS shell: `export PYTHONPATH=/path/to/my/module_dir:$PYTHONPATH`\n",
    "        - Windows: still searching ...\n",
    "    - Change `sys.path` inside Python\n",
    "    \n",
    "        ```python\n",
    "        import sys\n",
    "        sys.path.insert(0, '/path/to/my/module_dir')\n",
    "        ```"
   ]
  },
  {
   "cell_type": "markdown",
   "metadata": {
    "slideshow": {
     "slide_type": "slide"
    }
   },
   "source": [
    "## Packages\n",
    "\n",
    "- A package is a collection of Python modules\n",
    "- They exist to create structuring and sharing larger projects easier"
   ]
  },
  {
   "cell_type": "markdown",
   "metadata": {
    "slideshow": {
     "slide_type": "subslide"
    }
   },
   "source": [
    "### Example - Sound Effects\n",
    "\n",
    "This example is taken from the [Python documentation](https://docs.python.org/3.8/tutorial/modules.html)\n",
    "\n",
    "Let's say you want to create code that takes sound files or data and applies various sound effects too them. To make the project more structured you choose to add a new module for each type of sound effect you want to add\n",
    "\n",
    "You project structure can then look like this\n",
    "- `/effects/`\n",
    "    - `__init__.py`\n",
    "    - `echo.py`\n",
    "    - `surround.py`\n",
    "    - `reverse.py`\n",
    "    - `autotune.py`\n",
    "    - ....\n",
    "\n"
   ]
  },
  {
   "cell_type": "markdown",
   "metadata": {
    "slideshow": {
     "slide_type": "subslide"
    }
   },
   "source": [
    "To create the project we simply gather all the different modules (`echo.py`, `surround.py`, and so on) in a single directory, and then we create a `__init__.py` file\n",
    "\n",
    "The `__init__.py` file specifies to Python that the `effects` directory should be interpreted as a *package*. The file itself can be empty\n",
    "\n",
    "We can then use the package as follows\n",
    "```python\n",
    "import effects\n",
    "effects.echo.add_echo(sound)\n",
    "\n",
    "import effects.echo\n",
    "effects.echo.add_echo\n",
    "\n",
    "from effects.echo import add_echo\n",
    "add_echo(sound)\n",
    "```"
   ]
  },
  {
   "cell_type": "markdown",
   "metadata": {
    "slideshow": {
     "slide_type": "subslide"
    }
   },
   "source": [
    "These packages are sometimes referred to as 'multi-file modules'. You have probably used them without thinking about it:\n",
    "- matplotlib.pyplot\n",
    "- numpy.random\n",
    "\n",
    "They are also referred to as 'import packages', as they are primarily used to define how importing the various modules should be done"
   ]
  },
  {
   "cell_type": "markdown",
   "metadata": {
    "slideshow": {
     "slide_type": "subslide"
    }
   },
   "source": [
    "### Sub-packages\n",
    "\n",
    "Packages can be defined in a nested hierarchy. Let us say we extend our 'sound effects' project to also include other handling of sound files, such are changing formats or adding filters\n",
    "\n",
    "After some work our project might look like this"
   ]
  },
  {
   "cell_type": "markdown",
   "metadata": {
    "slideshow": {
     "slide_type": "subslide"
    }
   },
   "source": [
    "- `sound/`\n",
    "    - `__init__.py`\n",
    "    - `formats/`\n",
    "        - `__init__.py`\n",
    "        - `wavread.py`\n",
    "        - `wavwrite.py`\n",
    "        - `aiffread.py`\n",
    "        - `aiffwrite.py`\n",
    "        - `auread.py`\n",
    "        - `auwrite.py`\n",
    "        - `...`\n",
    "    - `effects/`\n",
    "        - `__init__.py`\n",
    "        - `echo.py`\n",
    "        - `surround.py`\n",
    "        - `reverse.py`\n",
    "        - `...`\n",
    "    - `filters/`\n",
    "        - `__init__.py`\n",
    "        - `equalizer.py`\n",
    "        - `vocoder.py`\n",
    "        - `karaoke.py`"
   ]
  },
  {
   "cell_type": "markdown",
   "metadata": {
    "slideshow": {
     "slide_type": "subslide"
    }
   },
   "source": [
    "Here, `sound` is a package (because it is a folder with a `__init__.py` file), that contains three sub-packages: \n",
    "- `formats`\n",
    "- `effects`\n",
    "- `filters`\n",
    "\n",
    "Each of the subpackages contain their own `__init__.py` file to signify that they are to be treated as packages as well."
   ]
  },
  {
   "cell_type": "markdown",
   "metadata": {
    "slideshow": {
     "slide_type": "subslide"
    }
   },
   "source": [
    "## Relative imports\n",
    "\n",
    "- Modules within a package often depend on each other\n",
    "    - must import each other\n",
    "    - must avoid importing modules of same name elsewhere in `sys.path`\n",
    "\n",
    "- Solution: relative imports\n",
    "    - always in the form\n",
    "    \n",
    "      ```Python\n",
    "      from <module or package> import <something>\n",
    "      ``` \n",
    "    - always start with a dot `.` (or several dots)\n",
    "    - see [Tutorial, ch 6.4.2](https://docs.python.org/3.8/tutorial/modules.html#intra-package-references) and [PEP 328](http://legacy.python.org/dev/peps/pep-0328/)"
   ]
  },
  {
   "cell_type": "markdown",
   "metadata": {
    "slideshow": {
     "slide_type": "subslide"
    }
   },
   "source": [
    "#### Relative import properties\n",
    "- The `.` marks import as *relative* \n",
    "- Python looks for modules only within the package\n",
    "- does not look in directories in `sys.path`\n",
    "- avoids confusion with modules/packages of same name elsewhere\n",
    "- **work only inside packages** (i.e., directories with `__init__.py` in them)\n",
    "\n",
    "#### Modules with using relative imports cannot be run\n",
    "- Modules that are part of packages and therefore use relative imports cannot be executed directly (as scripts)\n",
    "- You cannot \"Run\" them in PyCharm\n",
    "- This is intentional: packages are to be imported\n",
    "- To use the code from such modules, create a script that imports the module\n",
    "    - create the script outside the package, e.g., in the `checks` or `examples` directory\n",
    "- See `january_block/examples/chutes_project/examples/chutes_demo`"
   ]
  },
  {
   "cell_type": "markdown",
   "metadata": {},
   "source": [
    "-------------\n",
    "\n",
    "# Python techniques"
   ]
  },
  {
   "cell_type": "markdown",
   "metadata": {
    "jp-MarkdownHeadingCollapsed": true,
    "tags": []
   },
   "source": [
    "## Class methods"
   ]
  },
  {
   "cell_type": "markdown",
   "metadata": {},
   "source": [
    "- Methods usually work on individual objects\n",
    "- Sometimes, it can be useful to do things at a class level\n",
    "- Examples\n",
    "    - count number of instances of a class\n",
    "    - set parameters that apply to all members of a class\n",
    "- We can achieve this by writing *class methods*\n",
    "- A method becomes a class method by adding the `@classmethod` *decorator*\n",
    "- The `self` argument is replaced by `cls` in class methods"
   ]
  },
  {
   "cell_type": "code",
   "execution_count": 23,
   "metadata": {},
   "outputs": [
    {
     "name": "stdout",
     "output_type": "stream",
     "text": [
      "Number of trucks: 3\n",
      "Total weight: 1600\n",
      "Total weight: 2000\n",
      "Total weight: 2500\n"
     ]
    }
   ],
   "source": [
    "class Truck:\n",
    "    \n",
    "    instance_count = 0       # number of trucks\n",
    "    weight_empty = 1000      # weight of empty truck\n",
    "    \n",
    "    @classmethod\n",
    "    def count_new_truck(cls):\n",
    "        cls.instance_count += 1\n",
    "        \n",
    "    @classmethod\n",
    "    def num_trucks(cls):\n",
    "        return cls.instance_count\n",
    "    \n",
    "    @classmethod\n",
    "    def set_weight_empty(cls, we):\n",
    "        cls.weight_empty = we\n",
    "        \n",
    "    def __init__(self, load):\n",
    "        self._load = load\n",
    "        self.count_new_truck()\n",
    "        \n",
    "    def total_weight(self):\n",
    "        return self._load + self.weight_empty\n",
    "    \n",
    "Truck.set_weight_empty(1500)\n",
    "trucks = [Truck(load) for load in [100, 500, 1000]]\n",
    "print(\"Number of trucks:\", Truck.num_trucks())\n",
    "\n",
    "for truck in trucks:\n",
    "    print(\"Total weight:\", truck.total_weight())"
   ]
  },
  {
   "cell_type": "markdown",
   "metadata": {},
   "source": [
    "Note the following:\n",
    "\n",
    "- We can access class attributes through `self`\n",
    "- When counting new trucks, we must make sure that we update the class attribute `instance_count`,  not create an `instance_count` attribute in the instance created. Therefore, we use the *class* method `count_new_truck()`.\n",
    "- When calling `self.count_new_truck()`, Python automatically makes sure that the class of `self`,  not `self` is passed as parameter `cls`."
   ]
  },
  {
   "cell_type": "markdown",
   "metadata": {},
   "source": [
    "### Class methods and inheritance\n",
    "\n",
    "- The `cls` argument passed to a class method is always the concrete class of the object on which the class method is called"
   ]
  },
  {
   "cell_type": "code",
   "execution_count": 24,
   "metadata": {},
   "outputs": [],
   "source": [
    "class A:\n",
    "    _info = None\n",
    "    \n",
    "    @classmethod\n",
    "    def print_info(cls):\n",
    "        print(\"Class info:\", cls._info)\n",
    "        \n",
    "    def display(self):\n",
    "        print(\"Displaying ...\", end=' ')\n",
    "        self.print_info()\n",
    "        \n",
    "class B(A):\n",
    "    _info = \"This is class B\"\n",
    "    \n",
    "class C(A):\n",
    "    _info = \"This is class C\"\n",
    "    \n",
    "class D(C):\n",
    "    _info = \"This is class D\"\n",
    "    \n",
    "b, c, d = B(), C(), D()"
   ]
  },
  {
   "cell_type": "markdown",
   "metadata": {},
   "source": [
    "##### Call `print_info()` on instances"
   ]
  },
  {
   "cell_type": "code",
   "execution_count": 25,
   "metadata": {},
   "outputs": [
    {
     "name": "stdout",
     "output_type": "stream",
     "text": [
      "Class info: This is class B\n",
      "Class info: This is class C\n",
      "Class info: This is class D\n"
     ]
    }
   ],
   "source": [
    "b.print_info()\n",
    "c.print_info()\n",
    "d.print_info()"
   ]
  },
  {
   "cell_type": "markdown",
   "metadata": {},
   "source": [
    "##### Call `display()` on instances, which then calls `print_info()`"
   ]
  },
  {
   "cell_type": "code",
   "execution_count": 26,
   "metadata": {},
   "outputs": [
    {
     "name": "stdout",
     "output_type": "stream",
     "text": [
      "Displaying ... Class info: This is class B\n",
      "Displaying ... Class info: This is class C\n",
      "Displaying ... Class info: This is class D\n"
     ]
    }
   ],
   "source": [
    "b.display()\n",
    "c.display()\n",
    "d.display()"
   ]
  },
  {
   "cell_type": "markdown",
   "metadata": {},
   "source": [
    "- `cls._info` always resolves to the `_info` class attribute defined in the concrete class to which the instance belongs."
   ]
  },
  {
   "cell_type": "markdown",
   "metadata": {},
   "source": [
    "### Static methods\n",
    "\n",
    "- Sometimes, it can be useful to have a function in a class that behaves as a normal function, i.e., does not need any access to \"self\". \n",
    "- In some cases, one will define such a function outside the class.\n",
    "- In other cases, it can be useful to define the function inside the class to show where it belongs logically.\n",
    "- Static methods are used for this purpose. They are defined using the `@staticmethod` decorator.\n",
    "- Note that they only get passed the arguments explicitly given in the call, no `self` is inserted anywhere."
   ]
  },
  {
   "cell_type": "code",
   "execution_count": 27,
   "metadata": {},
   "outputs": [
    {
     "data": {
      "text/plain": [
       "[0.41661987254534116, 0.2986398551995928, 0.1616878239293682]"
      ]
     },
     "execution_count": 27,
     "metadata": {},
     "output_type": "execute_result"
    }
   ],
   "source": [
    "import random\n",
    "\n",
    "class Game:\n",
    "    \n",
    "    def __init__(self, seed):\n",
    "        random.seed(seed)\n",
    "        self.results = []\n",
    "        \n",
    "    def play(self):\n",
    "        n1 = random.random()\n",
    "        n2 = random.random()\n",
    "        n3 = random.random()\n",
    "        res = self._median(n1, n2, n3)\n",
    "        self.results.append(res)\n",
    "        \n",
    "    @staticmethod    \n",
    "    def _median(a, b, c):\n",
    "        return sorted([a, b, c])[1]\n",
    "    \n",
    "g = Game(12345)\n",
    "for _ in range(3):\n",
    "    g.play()\n",
    "    \n",
    "g.results"
   ]
  },
  {
   "cell_type": "code",
   "execution_count": 28,
   "metadata": {},
   "outputs": [
    {
     "data": {
      "text/plain": [
       "[0.41661987254534116, 0.2986398551995928, 0.1616878239293682]"
      ]
     },
     "execution_count": 28,
     "metadata": {},
     "output_type": "execute_result"
    }
   ],
   "source": [
    "class Game2:\n",
    "    \n",
    "    def __init__(self, seed):\n",
    "        random.seed(seed)\n",
    "        self.results = []\n",
    "        \n",
    "    def play(self):\n",
    "        n1 = random.random()\n",
    "        n2 = random.random()\n",
    "        n3 = random.random()\n",
    "        res = self._median(n1, n2, n3)\n",
    "        self.results.append(res)\n",
    "        \n",
    "    def _median(self, a, b, c):\n",
    "        return sorted([a, b, c])[1]\n",
    "    \n",
    "g = Game2(12345)\n",
    "for _ in range(3):\n",
    "    g.play()\n",
    "    \n",
    "g.results"
   ]
  },
  {
   "cell_type": "code",
   "execution_count": 29,
   "metadata": {},
   "outputs": [
    {
     "data": {
      "text/plain": [
       "[0.41661987254534116, 0.2986398551995928, 0.1616878239293682]"
      ]
     },
     "execution_count": 29,
     "metadata": {},
     "output_type": "execute_result"
    }
   ],
   "source": [
    "def _median(a, b, c):\n",
    "    return sorted([a, b, c])[1]\n",
    "\n",
    "class Game3:\n",
    "    \n",
    "    def __init__(self, seed):\n",
    "        random.seed(seed)\n",
    "        self.results = []\n",
    "        \n",
    "    def play(self):\n",
    "        n1 = random.random()\n",
    "        n2 = random.random()\n",
    "        n3 = random.random()\n",
    "        res = _median(n1, n2, n3)\n",
    "        self.results.append(res)\n",
    "            \n",
    "g = Game3(12345)\n",
    "for _ in range(3):\n",
    "    g.play()\n",
    "    \n",
    "g.results"
   ]
  },
  {
   "cell_type": "markdown",
   "metadata": {},
   "source": [
    "### Private methods\n",
    "\n",
    "- Sometimes, it is useful to define \"helper\" methods that should be used only by other methods of the same class\n",
    "- To mark these methods as private, start the method name with `_`, e.g. `_helper(self, ...)`\n",
    "- Private methods are an *implementation detail*\n",
    "    - By making a method private, we tell other programmers using our module or class that they should not call this method.\n",
    "    - This leaves us free to change the method later.\n",
    "- We can do the same for data attributes. "
   ]
  },
  {
   "cell_type": "markdown",
   "metadata": {},
   "source": [
    "## Assignment expressions\n",
    "\n",
    "- New in Python 3.8\n",
    "- Assignment statement\n",
    "    ```python\n",
    "    x = 5\n",
    "    ````\n",
    "    - `x` becomes name for value `5`\n",
    "    - Is a full statement in itself\n",
    "- Assignment expression\n",
    "    ```python\n",
    "    x := 5\n",
    "    ```\n",
    "    - `x` becomes name for value `5`\n",
    "    - Is an *expression* (like `x+5`) \n",
    "    - Has value `5`\n",
    "- Also known as \"walrus operator\"\n",
    "\n",
    "### Example\n",
    "\n",
    "Tabulate $\\sin(x)$, positive values only\n",
    "\n",
    "#### Without assignment expression"
   ]
  },
  {
   "cell_type": "code",
   "execution_count": 30,
   "metadata": {},
   "outputs": [],
   "source": [
    "from math import sin"
   ]
  },
  {
   "cell_type": "code",
   "execution_count": 31,
   "metadata": {},
   "outputs": [
    {
     "name": "stdout",
     "output_type": "stream",
     "text": [
      "11.8 µs ± 107 ns per loop (mean ± std. dev. of 7 runs, 100000 loops each)\n"
     ]
    }
   ],
   "source": [
    "%timeit ps = [sin(x) for x in range(100) if sin(x) > 0]"
   ]
  },
  {
   "cell_type": "markdown",
   "metadata": {},
   "source": [
    "#### With assignment expression"
   ]
  },
  {
   "cell_type": "code",
   "execution_count": 32,
   "metadata": {},
   "outputs": [
    {
     "name": "stdout",
     "output_type": "stream",
     "text": [
      "9.96 µs ± 269 ns per loop (mean ± std. dev. of 7 runs, 100000 loops each)\n"
     ]
    }
   ],
   "source": [
    "%timeit ps = [sx for x in range(100) if (sx := sin(x)) > 0]"
   ]
  },
  {
   "cell_type": "markdown",
   "metadata": {},
   "source": [
    "For more examples and applications, see\n",
    "- https://www.digitalocean.com/community/tutorials/how-to-use-assignment-expressions-in-python\n",
    "- https://www.python.org/dev/peps/pep-0572/\n",
    "\n"
   ]
  },
  {
   "cell_type": "markdown",
   "metadata": {},
   "source": [
    "## When not to use NumPy\n",
    "\n",
    "- NumPy is fast when working on large amounts of data at the same time (see L07)\n",
    "- When working on scalars (single numbers), NumPy is usually *noticably* slower than \"plain\" Python\n",
    "- Therefore, use the standard `math` or `random` modules when working with individual numbers"
   ]
  },
  {
   "cell_type": "code",
   "execution_count": 34,
   "metadata": {},
   "outputs": [],
   "source": [
    "import numpy as np\n",
    "import math\n",
    "import random"
   ]
  },
  {
   "cell_type": "markdown",
   "metadata": {},
   "source": [
    "##### Timing the exponential function"
   ]
  },
  {
   "cell_type": "code",
   "execution_count": 35,
   "metadata": {},
   "outputs": [
    {
     "name": "stdout",
     "output_type": "stream",
     "text": [
      "75.4 ns ± 2.12 ns per loop (mean ± std. dev. of 7 runs, 10000000 loops each)\n"
     ]
    }
   ],
   "source": [
    "%timeit math.exp(0.5)"
   ]
  },
  {
   "cell_type": "code",
   "execution_count": 36,
   "metadata": {},
   "outputs": [
    {
     "name": "stdout",
     "output_type": "stream",
     "text": [
      "655 ns ± 22.4 ns per loop (mean ± std. dev. of 7 runs, 1000000 loops each)\n"
     ]
    }
   ],
   "source": [
    "%timeit np.exp(0.5)"
   ]
  },
  {
   "cell_type": "markdown",
   "metadata": {},
   "source": [
    "##### Timing a single random number"
   ]
  },
  {
   "cell_type": "code",
   "execution_count": 37,
   "metadata": {},
   "outputs": [
    {
     "name": "stdout",
     "output_type": "stream",
     "text": [
      "60.5 ns ± 1.03 ns per loop (mean ± std. dev. of 7 runs, 10000000 loops each)\n"
     ]
    }
   ],
   "source": [
    "%timeit random.random()"
   ]
  },
  {
   "cell_type": "code",
   "execution_count": 38,
   "metadata": {},
   "outputs": [
    {
     "name": "stdout",
     "output_type": "stream",
     "text": [
      "361 ns ± 4.86 ns per loop (mean ± std. dev. of 7 runs, 1000000 loops each)\n"
     ]
    }
   ],
   "source": [
    "%timeit np.random.random()"
   ]
  },
  {
   "cell_type": "markdown",
   "metadata": {},
   "source": [
    "## Making random decisions\n",
    "\n",
    "### Random number generator and seeding\n",
    "\n",
    "- Use the `random` module to generate random numbers in the BioSim project\n",
    "- This provides a global random number generator that will be used in all modules importing `random`\n",
    "- At the beginning of a simulation, before drawing the first random number, call `random.seed()` to set the starting point of the generator\n",
    "- If seeded correctly, running a simulation multiple times with the *same seed*, shall give *exactly the same results*. \n",
    "- If running several times with the same seed and you get different results, something *is wrong*: either you mix generators or you draw numbers before seeding.\n",
    "- If running with different seeds, you should get different results.\n",
    "\n",
    "### Events with given probability\n",
    "\n",
    "- A certain event is to happen with probability $p$, where $0\\leq p \\leq 1$.\n",
    "- How can we, in a computer program, decide whether the event happens in a particular simulation or not?\n",
    "- Idea:\n",
    "    1. Draw a random number $r$ uniformly distributed on $[0, 1)$ (note: left-closed, right-open interval)\n",
    "    1. If $r < p$, the event happens.\n",
    "- Questions:\n",
    "    1. Why is this algorithm correct? Hint: draw the number line, mark $0, p, 1$, and \"shoot\".\n",
    "    1. Why is the condition $r<p$ and not $r\\leq p$?\n",
    "    1. How can we extend this scheme to choose between more than two alternatives?"
   ]
  },
  {
   "cell_type": "markdown",
   "metadata": {},
   "source": [
    "## Mutables as default arguments\n",
    "\n",
    "- Mutables should **never** be used as default arguments\n",
    "- Reason: The default value is a mutable object created when the function or method is defined. Therefore, all calls of the method will receive **the same mutable object** as argument\n",
    "- [Example on Python Tutor](http://pythontutor.com/visualize.html#code=class%20A%3A%0A%20%20%20%20def%20__init__%28self,%20data%3D%5B%5D%29%3A%0A%20%20%20%20%20%20%20%20self.data%20%3D%20data%0A%20%20%20%20def%20add%28self,%20new_data%29%3A%0A%20%20%20%20%20%20%20%20self.data.extend%28new_data%29%0A%0Aa%20%3D%20A%28%5B1,%202,%203%5D%29%0Aa.add%28%5B'a',%20'b'%5D%29%0A%20%20%20%20%20%20%20%20%0Ab%20%3D%20A%28%29%0Ab.add%28%5B'c',%20'd'%5D%29%0A%0Ac%20%3D%20A%28%29&cumulative=false&curInstr=0&heapPrimitives=nevernest&mode=display&origin=opt-frontend.js&py=3&rawInputLstJSON=%5B%5D&textReferences=false) (see what happens when `c` is created!)"
   ]
  },
  {
   "cell_type": "markdown",
   "metadata": {},
   "source": [
    "- Solution: Use `None` as default value and create new mutable in function if necessary"
   ]
  },
  {
   "cell_type": "code",
   "execution_count": 39,
   "metadata": {},
   "outputs": [
    {
     "data": {
      "text/plain": [
       "([1, 2, 3, 'a', 'b'], ['c', 'd'], [])"
      ]
     },
     "execution_count": 39,
     "metadata": {},
     "output_type": "execute_result"
    }
   ],
   "source": [
    "class A:\n",
    "    def __init__(self, data=None):\n",
    "        self.data = data if data is not None else []\n",
    "        \n",
    "    def add(self, new_data):\n",
    "        self.data.extend(new_data)\n",
    "        \n",
    "a = A([1, 2, 3])\n",
    "a.add(['a', 'b'])\n",
    "\n",
    "b = A()\n",
    "b.add(['c', 'd'])\n",
    "\n",
    "c = A()\n",
    "\n",
    "a.data, b.data, c.data"
   ]
  },
  {
   "cell_type": "markdown",
   "metadata": {},
   "source": [
    "------------------------------------------"
   ]
  },
  {
   "cell_type": "markdown",
   "metadata": {},
   "source": [
    "# Recommendations for BioSim\n",
    "\n",
    "- Inside `src/biosim` provide only \"pure\" **modules**\n",
    "- \"Pure\" module: A module that is only used by `import`, never run directly\n",
    "    - Do **not** include any code to be executed directly, e.g., to run a mini-simulation or test\n",
    "    - Do **not** include a `__name__ == \"__main__\"` section\n",
    "- Create a directory `scripts` at the top level (parallel to `src`, `tests`,  `reference_examples`)\n",
    "    - Place all scripts you want to run during development here\n",
    "    - These scripts should then use `import biosim` or `from biosim import abc` or `import biosim.xyz`, ...\n",
    "    - Everything you want to run goes here (or in `tests`)\n",
    "    - `scripts`: scripts you use during development to test and explore\n",
    "- Tests in `tests` also import using `import biosim` or `from biosim import abc` or `import biosim.xyz`, ...\n",
    "- Within the `biosim` package, i.e., in all modules defined in `src/biosim`, use only relative imports to import other biosim modules.\n",
    "- Later, create a directory `examples` with nice examples to show what one can do with BioSim"
   ]
  },
  {
   "cell_type": "code",
   "execution_count": null,
   "metadata": {},
   "outputs": [],
   "source": []
  }
 ],
 "metadata": {
  "kernelspec": {
   "display_name": "Python 3 (ipykernel)",
   "language": "python",
   "name": "python3"
  },
  "language_info": {
   "codemirror_mode": {
    "name": "ipython",
    "version": 3
   },
   "file_extension": ".py",
   "mimetype": "text/x-python",
   "name": "python",
   "nbconvert_exporter": "python",
   "pygments_lexer": "ipython3",
   "version": "3.8.12"
  }
 },
 "nbformat": 4,
 "nbformat_minor": 4
}
